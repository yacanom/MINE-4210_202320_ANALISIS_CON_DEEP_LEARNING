{
  "nbformat": 4,
  "nbformat_minor": 0,
  "metadata": {
    "colab": {
      "provenance": [],
      "gpuType": "T4",
      "authorship_tag": "ABX9TyMaV6TNyq/uaTnl+FVKImtc",
      "include_colab_link": true
    },
    "kernelspec": {
      "name": "python3",
      "display_name": "Python 3"
    },
    "language_info": {
      "name": "python"
    },
    "accelerator": "GPU"
  },
  "cells": [
    {
      "cell_type": "markdown",
      "metadata": {
        "id": "view-in-github",
        "colab_type": "text"
      },
      "source": [
        "<a href=\"https://colab.research.google.com/github/yacanom/MINE-4210_202320_ANALISIS_CON_DEEP_LEARNING/blob/main/Laboratorio%204/MINE4210_ADL2023_Taller4.ipynb\" target=\"_parent\"><img src=\"https://colab.research.google.com/assets/colab-badge.svg\" alt=\"Open In Colab\"/></a>"
      ]
    },
    {
      "cell_type": "markdown",
      "metadata": {
        "id": "SU_lch1DySrJ"
      },
      "source": [
        "![image](https://docs.google.com/uc?export=download&id=1NUy1Q-abpoV9XYK9qT9t8Mdhj3ZVlveO)"
      ]
    },
    {
      "cell_type": "markdown",
      "source": [
        "\n",
        "# **Taller 4**\n",
        "\n",
        "La generación de imágenes ha emergido como una de las tendencias más significativas impulsadas por las Redes Neuronales Generativas (GAN). Este enfoque nos brinda la capacidad de abstraer una población específica y generar nuevas muestras de la misma. En este taller, exploraremos la aplicación de una red GAN (Generative Adversarial Network), una arquitectura de red neuronal utilizada en el aprendizaje no supervisado para generar datos novedosos y realistas. El objetivo es examinar el comportamiento de la generación de imágenes utilizando el conjunto de datos CIFAR-10 small images.\n",
        "\n",
        "\n",
        "1.\tPara este caso se debe usar el conjunto de datos [CIFAR10 small images](https://keras.io/api/datasets/cifar10/) que consta de 50,000 imágenes de entrenamiento en color, cada una de tamaño 32x32, y 10,000 imágenes de prueba, etiquetadas en 10 categorías diferentes.\n",
        "\n",
        "2.\tDeberán seleccionar una de las 10 categorías y utilizar las imágenes correspondientes para entrenar dos redes GAN. La primera red será la versión base, mientras que la segunda será una variante con ajustes en las capas, neuronas o tipos de capas con el objetivo de mejorar los resultados.  Es imprtante destacar que la elección de la categoría a investigar es libre, por ejemplo, optar por la clase 5 que representa imágenes de perros implica que la red GAN genere imágenes de perros.\n",
        "\n",
        "3.  Una vez entrenados los modelos, deben generar y visualizar ejemplos de imágenes producidas por ambas redes GAN. La comparación visual entre las dos versiones permitirá evaluar su desempeño.\n",
        "\n",
        "4.  Elaborar conclusiones basadas en las observaciones y resultados obtenidos durante el desarrollo del taller.\n"
      ],
      "metadata": {
        "id": "5UbZ1aWajfMi"
      }
    }
  ]
}