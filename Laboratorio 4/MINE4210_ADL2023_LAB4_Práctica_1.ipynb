{
  "cells": [
    {
      "cell_type": "markdown",
      "metadata": {
        "id": "view-in-github",
        "colab_type": "text"
      },
      "source": [
        "<a href=\"https://colab.research.google.com/github/yacanom/MINE-4210_202320_ANALISIS_CON_DEEP_LEARNING/blob/main/Laboratorio%204/MINE4210_ADL2023_LAB4_Pr%C3%A1ctica_1.ipynb\" target=\"_parent\"><img src=\"https://colab.research.google.com/assets/colab-badge.svg\" alt=\"Open In Colab\"/></a>"
      ]
    },
    {
      "cell_type": "markdown",
      "metadata": {
        "id": "znKNaJnn_ipc"
      },
      "source": [
        "![image](https://docs.google.com/uc?export=download&id=1NUy1Q-abpoV9XYK9qT9t8Mdhj3ZVlveO)"
      ]
    },
    {
      "cell_type": "markdown",
      "metadata": {
        "id": "NkCYoS7vchGU"
      },
      "source": [
        "\n",
        "# **Laboratorio 4 - Sesión 1**\n",
        "## **Despligue de Red Neuronal**\n",
        "\n",
        "## **Objetivos**\n",
        "*   Exportar un modelo de Red Neuronal de NLP con transformer para poderlo desplegar en un aplicativo web\n",
        "*   Realizar el despliegue.\n",
        "\n",
        "\n",
        "## **Problema**\n",
        "- Se requiere realizar el análisis de sentimientos de un conjunto de frases del sector financiero como parte de la evaluación del sentimiento del mercado y la reputación de empresas, con el objetivo de tomar decisiones de inversión informadas."
      ]
    },
    {
      "cell_type": "markdown",
      "metadata": {
        "id": "cbrYuu93RJvA"
      },
      "source": [
        "## 0. Importación de Librerías\n",
        "Para la transformación de los datos, así como para el entrenamiento de los modelos y la visualización de los resultados, se importan las siguientes librerías:"
      ]
    },
    {
      "cell_type": "code",
      "execution_count": null,
      "metadata": {
        "colab": {
          "base_uri": "https://localhost:8080/"
        },
        "id": "mjJLC_3BdLEG",
        "outputId": "49ee9075-9e57-4a0d-b7e8-3fee86af580e"
      },
      "outputs": [
        {
          "output_type": "stream",
          "name": "stdout",
          "text": [
            "Collecting keras-tuner\n",
            "  Downloading keras_tuner-1.4.5-py3-none-any.whl (129 kB)\n",
            "\u001b[2K     \u001b[90m━━━━━━━━━━━━━━━━━━━━━━━━━━━━━━━━━━━━━━━━\u001b[0m \u001b[32m129.5/129.5 kB\u001b[0m \u001b[31m3.1 MB/s\u001b[0m eta \u001b[36m0:00:00\u001b[0m\n",
            "\u001b[?25hCollecting keras-core (from keras-tuner)\n",
            "  Downloading keras_core-0.1.7-py3-none-any.whl (950 kB)\n",
            "\u001b[2K     \u001b[90m━━━━━━━━━━━━━━━━━━━━━━━━━━━━━━━━━━━━━━━━\u001b[0m \u001b[32m950.8/950.8 kB\u001b[0m \u001b[31m20.3 MB/s\u001b[0m eta \u001b[36m0:00:00\u001b[0m\n",
            "\u001b[?25hRequirement already satisfied: packaging in /usr/local/lib/python3.10/dist-packages (from keras-tuner) (23.2)\n",
            "Requirement already satisfied: requests in /usr/local/lib/python3.10/dist-packages (from keras-tuner) (2.31.0)\n",
            "Collecting kt-legacy (from keras-tuner)\n",
            "  Downloading kt_legacy-1.0.5-py3-none-any.whl (9.6 kB)\n",
            "Requirement already satisfied: absl-py in /usr/local/lib/python3.10/dist-packages (from keras-core->keras-tuner) (1.4.0)\n",
            "Requirement already satisfied: numpy in /usr/local/lib/python3.10/dist-packages (from keras-core->keras-tuner) (1.23.5)\n",
            "Requirement already satisfied: rich in /usr/local/lib/python3.10/dist-packages (from keras-core->keras-tuner) (13.6.0)\n",
            "Collecting namex (from keras-core->keras-tuner)\n",
            "  Downloading namex-0.0.7-py3-none-any.whl (5.8 kB)\n",
            "Requirement already satisfied: h5py in /usr/local/lib/python3.10/dist-packages (from keras-core->keras-tuner) (3.9.0)\n",
            "Requirement already satisfied: dm-tree in /usr/local/lib/python3.10/dist-packages (from keras-core->keras-tuner) (0.1.8)\n",
            "Requirement already satisfied: charset-normalizer<4,>=2 in /usr/local/lib/python3.10/dist-packages (from requests->keras-tuner) (3.3.1)\n",
            "Requirement already satisfied: idna<4,>=2.5 in /usr/local/lib/python3.10/dist-packages (from requests->keras-tuner) (3.4)\n",
            "Requirement already satisfied: urllib3<3,>=1.21.1 in /usr/local/lib/python3.10/dist-packages (from requests->keras-tuner) (2.0.7)\n",
            "Requirement already satisfied: certifi>=2017.4.17 in /usr/local/lib/python3.10/dist-packages (from requests->keras-tuner) (2023.7.22)\n",
            "Requirement already satisfied: markdown-it-py>=2.2.0 in /usr/local/lib/python3.10/dist-packages (from rich->keras-core->keras-tuner) (3.0.0)\n",
            "Requirement already satisfied: pygments<3.0.0,>=2.13.0 in /usr/local/lib/python3.10/dist-packages (from rich->keras-core->keras-tuner) (2.16.1)\n",
            "Requirement already satisfied: mdurl~=0.1 in /usr/local/lib/python3.10/dist-packages (from markdown-it-py>=2.2.0->rich->keras-core->keras-tuner) (0.1.2)\n",
            "Installing collected packages: namex, kt-legacy, keras-core, keras-tuner\n",
            "Successfully installed keras-core-0.1.7 keras-tuner-1.4.5 kt-legacy-1.0.5 namex-0.0.7\n"
          ]
        }
      ],
      "source": [
        "!pip install keras-tuner"
      ]
    },
    {
      "cell_type": "code",
      "source": [
        "!pip install transformers"
      ],
      "metadata": {
        "colab": {
          "base_uri": "https://localhost:8080/"
        },
        "id": "EgZg0iJW1VWE",
        "outputId": "765ec59f-83cb-47a4-f683-18986a66cd44"
      },
      "execution_count": null,
      "outputs": [
        {
          "output_type": "stream",
          "name": "stdout",
          "text": [
            "Collecting transformers\n",
            "  Downloading transformers-4.35.0-py3-none-any.whl (7.9 MB)\n",
            "\u001b[2K     \u001b[90m━━━━━━━━━━━━━━━━━━━━━━━━━━━━━━━━━━━━━━━━\u001b[0m \u001b[32m7.9/7.9 MB\u001b[0m \u001b[31m14.3 MB/s\u001b[0m eta \u001b[36m0:00:00\u001b[0m\n",
            "\u001b[?25hRequirement already satisfied: filelock in /usr/local/lib/python3.10/dist-packages (from transformers) (3.12.4)\n",
            "Collecting huggingface-hub<1.0,>=0.16.4 (from transformers)\n",
            "  Downloading huggingface_hub-0.18.0-py3-none-any.whl (301 kB)\n",
            "\u001b[2K     \u001b[90m━━━━━━━━━━━━━━━━━━━━━━━━━━━━━━━━━━━━━━━━\u001b[0m \u001b[32m302.0/302.0 kB\u001b[0m \u001b[31m26.5 MB/s\u001b[0m eta \u001b[36m0:00:00\u001b[0m\n",
            "\u001b[?25hRequirement already satisfied: numpy>=1.17 in /usr/local/lib/python3.10/dist-packages (from transformers) (1.23.5)\n",
            "Requirement already satisfied: packaging>=20.0 in /usr/local/lib/python3.10/dist-packages (from transformers) (23.2)\n",
            "Requirement already satisfied: pyyaml>=5.1 in /usr/local/lib/python3.10/dist-packages (from transformers) (6.0.1)\n",
            "Requirement already satisfied: regex!=2019.12.17 in /usr/local/lib/python3.10/dist-packages (from transformers) (2023.6.3)\n",
            "Requirement already satisfied: requests in /usr/local/lib/python3.10/dist-packages (from transformers) (2.31.0)\n",
            "Collecting tokenizers<0.15,>=0.14 (from transformers)\n",
            "  Downloading tokenizers-0.14.1-cp310-cp310-manylinux_2_17_x86_64.manylinux2014_x86_64.whl (3.8 MB)\n",
            "\u001b[2K     \u001b[90m━━━━━━━━━━━━━━━━━━━━━━━━━━━━━━━━━━━━━━━━\u001b[0m \u001b[32m3.8/3.8 MB\u001b[0m \u001b[31m26.2 MB/s\u001b[0m eta \u001b[36m0:00:00\u001b[0m\n",
            "\u001b[?25hCollecting safetensors>=0.3.1 (from transformers)\n",
            "  Downloading safetensors-0.4.0-cp310-cp310-manylinux_2_17_x86_64.manylinux2014_x86_64.whl (1.3 MB)\n",
            "\u001b[2K     \u001b[90m━━━━━━━━━━━━━━━━━━━━━━━━━━━━━━━━━━━━━━━━\u001b[0m \u001b[32m1.3/1.3 MB\u001b[0m \u001b[31m35.6 MB/s\u001b[0m eta \u001b[36m0:00:00\u001b[0m\n",
            "\u001b[?25hRequirement already satisfied: tqdm>=4.27 in /usr/local/lib/python3.10/dist-packages (from transformers) (4.66.1)\n",
            "Requirement already satisfied: fsspec>=2023.5.0 in /usr/local/lib/python3.10/dist-packages (from huggingface-hub<1.0,>=0.16.4->transformers) (2023.6.0)\n",
            "Requirement already satisfied: typing-extensions>=3.7.4.3 in /usr/local/lib/python3.10/dist-packages (from huggingface-hub<1.0,>=0.16.4->transformers) (4.5.0)\n",
            "Collecting huggingface-hub<1.0,>=0.16.4 (from transformers)\n",
            "  Downloading huggingface_hub-0.17.3-py3-none-any.whl (295 kB)\n",
            "\u001b[2K     \u001b[90m━━━━━━━━━━━━━━━━━━━━━━━━━━━━━━━━━━━━━━━━\u001b[0m \u001b[32m295.0/295.0 kB\u001b[0m \u001b[31m27.6 MB/s\u001b[0m eta \u001b[36m0:00:00\u001b[0m\n",
            "\u001b[?25hRequirement already satisfied: charset-normalizer<4,>=2 in /usr/local/lib/python3.10/dist-packages (from requests->transformers) (3.3.1)\n",
            "Requirement already satisfied: idna<4,>=2.5 in /usr/local/lib/python3.10/dist-packages (from requests->transformers) (3.4)\n",
            "Requirement already satisfied: urllib3<3,>=1.21.1 in /usr/local/lib/python3.10/dist-packages (from requests->transformers) (2.0.7)\n",
            "Requirement already satisfied: certifi>=2017.4.17 in /usr/local/lib/python3.10/dist-packages (from requests->transformers) (2023.7.22)\n",
            "Installing collected packages: safetensors, huggingface-hub, tokenizers, transformers\n",
            "Successfully installed huggingface-hub-0.17.3 safetensors-0.4.0 tokenizers-0.14.1 transformers-4.35.0\n"
          ]
        }
      ]
    },
    {
      "cell_type": "code",
      "source": [
        "pip install \"tf-models-official==2.13.*\""
      ],
      "metadata": {
        "colab": {
          "base_uri": "https://localhost:8080/"
        },
        "id": "Zd7WX-8xeGsr",
        "outputId": "6d144bee-577a-4f8c-b78d-7486a705eb85"
      },
      "execution_count": null,
      "outputs": [
        {
          "output_type": "stream",
          "name": "stdout",
          "text": [
            "Collecting tf-models-official==2.13.*\n",
            "  Downloading tf_models_official-2.13.2-py2.py3-none-any.whl (2.6 MB)\n",
            "\u001b[2K     \u001b[90m━━━━━━━━━━━━━━━━━━━━━━━━━━━━━━━━━━━━━━━━\u001b[0m \u001b[32m2.6/2.6 MB\u001b[0m \u001b[31m26.4 MB/s\u001b[0m eta \u001b[36m0:00:00\u001b[0m\n",
            "\u001b[?25hRequirement already satisfied: Cython in /usr/local/lib/python3.10/dist-packages (from tf-models-official==2.13.*) (3.0.4)\n",
            "Requirement already satisfied: Pillow in /usr/local/lib/python3.10/dist-packages (from tf-models-official==2.13.*) (9.4.0)\n",
            "Requirement already satisfied: gin-config in /usr/local/lib/python3.10/dist-packages (from tf-models-official==2.13.*) (0.5.0)\n",
            "Requirement already satisfied: google-api-python-client>=1.6.7 in /usr/local/lib/python3.10/dist-packages (from tf-models-official==2.13.*) (2.84.0)\n",
            "Collecting immutabledict (from tf-models-official==2.13.*)\n",
            "  Downloading immutabledict-3.0.0-py3-none-any.whl (4.0 kB)\n",
            "Requirement already satisfied: kaggle>=1.3.9 in /usr/local/lib/python3.10/dist-packages (from tf-models-official==2.13.*) (1.5.16)\n",
            "Requirement already satisfied: matplotlib in /usr/local/lib/python3.10/dist-packages (from tf-models-official==2.13.*) (3.7.1)\n",
            "Requirement already satisfied: numpy>=1.20 in /usr/local/lib/python3.10/dist-packages (from tf-models-official==2.13.*) (1.23.5)\n",
            "Requirement already satisfied: oauth2client in /usr/local/lib/python3.10/dist-packages (from tf-models-official==2.13.*) (4.1.3)\n",
            "Requirement already satisfied: opencv-python-headless in /usr/local/lib/python3.10/dist-packages (from tf-models-official==2.13.*) (4.8.1.78)\n",
            "Requirement already satisfied: pandas>=0.22.0 in /usr/local/lib/python3.10/dist-packages (from tf-models-official==2.13.*) (1.5.3)\n",
            "Requirement already satisfied: psutil>=5.4.3 in /usr/local/lib/python3.10/dist-packages (from tf-models-official==2.13.*) (5.9.5)\n",
            "Requirement already satisfied: py-cpuinfo>=3.3.0 in /usr/local/lib/python3.10/dist-packages (from tf-models-official==2.13.*) (9.0.0)\n",
            "Requirement already satisfied: pycocotools in /usr/local/lib/python3.10/dist-packages (from tf-models-official==2.13.*) (2.0.7)\n",
            "Requirement already satisfied: pyyaml>=6.0.0 in /usr/local/lib/python3.10/dist-packages (from tf-models-official==2.13.*) (6.0.1)\n",
            "Collecting sacrebleu (from tf-models-official==2.13.*)\n",
            "  Downloading sacrebleu-2.3.2-py3-none-any.whl (119 kB)\n",
            "\u001b[2K     \u001b[90m━━━━━━━━━━━━━━━━━━━━━━━━━━━━━━━━━━━━━━━━\u001b[0m \u001b[32m119.7/119.7 kB\u001b[0m \u001b[31m17.9 MB/s\u001b[0m eta \u001b[36m0:00:00\u001b[0m\n",
            "\u001b[?25hRequirement already satisfied: scipy>=0.19.1 in /usr/local/lib/python3.10/dist-packages (from tf-models-official==2.13.*) (1.11.3)\n",
            "Collecting sentencepiece (from tf-models-official==2.13.*)\n",
            "  Downloading sentencepiece-0.1.99-cp310-cp310-manylinux_2_17_x86_64.manylinux2014_x86_64.whl (1.3 MB)\n",
            "\u001b[2K     \u001b[90m━━━━━━━━━━━━━━━━━━━━━━━━━━━━━━━━━━━━━━━━\u001b[0m \u001b[32m1.3/1.3 MB\u001b[0m \u001b[31m59.7 MB/s\u001b[0m eta \u001b[36m0:00:00\u001b[0m\n",
            "\u001b[?25hCollecting seqeval (from tf-models-official==2.13.*)\n",
            "  Downloading seqeval-1.2.2.tar.gz (43 kB)\n",
            "\u001b[2K     \u001b[90m━━━━━━━━━━━━━━━━━━━━━━━━━━━━━━━━━━━━━━━━\u001b[0m \u001b[32m43.6/43.6 kB\u001b[0m \u001b[31m4.8 MB/s\u001b[0m eta \u001b[36m0:00:00\u001b[0m\n",
            "\u001b[?25h  Preparing metadata (setup.py) ... \u001b[?25l\u001b[?25hdone\n",
            "Requirement already satisfied: six in /usr/local/lib/python3.10/dist-packages (from tf-models-official==2.13.*) (1.16.0)\n",
            "Requirement already satisfied: tensorflow-datasets in /usr/local/lib/python3.10/dist-packages (from tf-models-official==2.13.*) (4.9.3)\n",
            "Requirement already satisfied: tensorflow-hub>=0.6.0 in /usr/local/lib/python3.10/dist-packages (from tf-models-official==2.13.*) (0.15.0)\n",
            "Collecting tensorflow-model-optimization>=0.4.1 (from tf-models-official==2.13.*)\n",
            "  Downloading tensorflow_model_optimization-0.7.5-py2.py3-none-any.whl (241 kB)\n",
            "\u001b[2K     \u001b[90m━━━━━━━━━━━━━━━━━━━━━━━━━━━━━━━━━━━━━━━━\u001b[0m \u001b[32m241.2/241.2 kB\u001b[0m \u001b[31m27.5 MB/s\u001b[0m eta \u001b[36m0:00:00\u001b[0m\n",
            "\u001b[?25hCollecting tensorflow-text~=2.13.0 (from tf-models-official==2.13.*)\n",
            "  Downloading tensorflow_text-2.13.0-cp310-cp310-manylinux_2_17_x86_64.manylinux2014_x86_64.whl (6.5 MB)\n",
            "\u001b[2K     \u001b[90m━━━━━━━━━━━━━━━━━━━━━━━━━━━━━━━━━━━━━━━━\u001b[0m \u001b[32m6.5/6.5 MB\u001b[0m \u001b[31m79.1 MB/s\u001b[0m eta \u001b[36m0:00:00\u001b[0m\n",
            "\u001b[?25hCollecting tensorflow~=2.13.0 (from tf-models-official==2.13.*)\n",
            "  Downloading tensorflow-2.13.1-cp310-cp310-manylinux_2_17_x86_64.manylinux2014_x86_64.whl (479.7 MB)\n",
            "\u001b[2K     \u001b[90m━━━━━━━━━━━━━━━━━━━━━━━━━━━━━━━━━━━━━━━━\u001b[0m \u001b[32m479.7/479.7 MB\u001b[0m \u001b[31m2.2 MB/s\u001b[0m eta \u001b[36m0:00:00\u001b[0m\n",
            "\u001b[?25hRequirement already satisfied: tf-slim>=1.1.0 in /usr/local/lib/python3.10/dist-packages (from tf-models-official==2.13.*) (1.1.0)\n",
            "Requirement already satisfied: httplib2<1dev,>=0.15.0 in /usr/local/lib/python3.10/dist-packages (from google-api-python-client>=1.6.7->tf-models-official==2.13.*) (0.22.0)\n",
            "Requirement already satisfied: google-auth<3.0.0dev,>=1.19.0 in /usr/local/lib/python3.10/dist-packages (from google-api-python-client>=1.6.7->tf-models-official==2.13.*) (2.17.3)\n",
            "Requirement already satisfied: google-auth-httplib2>=0.1.0 in /usr/local/lib/python3.10/dist-packages (from google-api-python-client>=1.6.7->tf-models-official==2.13.*) (0.1.1)\n",
            "Requirement already satisfied: google-api-core!=2.0.*,!=2.1.*,!=2.2.*,!=2.3.0,<3.0.0dev,>=1.31.5 in /usr/local/lib/python3.10/dist-packages (from google-api-python-client>=1.6.7->tf-models-official==2.13.*) (2.11.1)\n",
            "Requirement already satisfied: uritemplate<5,>=3.0.1 in /usr/local/lib/python3.10/dist-packages (from google-api-python-client>=1.6.7->tf-models-official==2.13.*) (4.1.1)\n",
            "Requirement already satisfied: certifi in /usr/local/lib/python3.10/dist-packages (from kaggle>=1.3.9->tf-models-official==2.13.*) (2023.7.22)\n",
            "Requirement already satisfied: python-dateutil in /usr/local/lib/python3.10/dist-packages (from kaggle>=1.3.9->tf-models-official==2.13.*) (2.8.2)\n",
            "Requirement already satisfied: requests in /usr/local/lib/python3.10/dist-packages (from kaggle>=1.3.9->tf-models-official==2.13.*) (2.31.0)\n",
            "Requirement already satisfied: tqdm in /usr/local/lib/python3.10/dist-packages (from kaggle>=1.3.9->tf-models-official==2.13.*) (4.66.1)\n",
            "Requirement already satisfied: python-slugify in /usr/local/lib/python3.10/dist-packages (from kaggle>=1.3.9->tf-models-official==2.13.*) (8.0.1)\n",
            "Requirement already satisfied: urllib3 in /usr/local/lib/python3.10/dist-packages (from kaggle>=1.3.9->tf-models-official==2.13.*) (2.0.7)\n",
            "Requirement already satisfied: bleach in /usr/local/lib/python3.10/dist-packages (from kaggle>=1.3.9->tf-models-official==2.13.*) (6.1.0)\n",
            "Requirement already satisfied: pytz>=2020.1 in /usr/local/lib/python3.10/dist-packages (from pandas>=0.22.0->tf-models-official==2.13.*) (2023.3.post1)\n",
            "Requirement already satisfied: absl-py>=1.0.0 in /usr/local/lib/python3.10/dist-packages (from tensorflow~=2.13.0->tf-models-official==2.13.*) (1.4.0)\n",
            "Requirement already satisfied: astunparse>=1.6.0 in /usr/local/lib/python3.10/dist-packages (from tensorflow~=2.13.0->tf-models-official==2.13.*) (1.6.3)\n",
            "Requirement already satisfied: flatbuffers>=23.1.21 in /usr/local/lib/python3.10/dist-packages (from tensorflow~=2.13.0->tf-models-official==2.13.*) (23.5.26)\n",
            "Collecting gast<=0.4.0,>=0.2.1 (from tensorflow~=2.13.0->tf-models-official==2.13.*)\n",
            "  Downloading gast-0.4.0-py3-none-any.whl (9.8 kB)\n",
            "Requirement already satisfied: google-pasta>=0.1.1 in /usr/local/lib/python3.10/dist-packages (from tensorflow~=2.13.0->tf-models-official==2.13.*) (0.2.0)\n",
            "Requirement already satisfied: grpcio<2.0,>=1.24.3 in /usr/local/lib/python3.10/dist-packages (from tensorflow~=2.13.0->tf-models-official==2.13.*) (1.59.0)\n",
            "Requirement already satisfied: h5py>=2.9.0 in /usr/local/lib/python3.10/dist-packages (from tensorflow~=2.13.0->tf-models-official==2.13.*) (3.9.0)\n",
            "Collecting keras<2.14,>=2.13.1 (from tensorflow~=2.13.0->tf-models-official==2.13.*)\n",
            "  Downloading keras-2.13.1-py3-none-any.whl (1.7 MB)\n",
            "\u001b[2K     \u001b[90m━━━━━━━━━━━━━━━━━━━━━━━━━━━━━━━━━━━━━━━━\u001b[0m \u001b[32m1.7/1.7 MB\u001b[0m \u001b[31m69.5 MB/s\u001b[0m eta \u001b[36m0:00:00\u001b[0m\n",
            "\u001b[?25hRequirement already satisfied: libclang>=13.0.0 in /usr/local/lib/python3.10/dist-packages (from tensorflow~=2.13.0->tf-models-official==2.13.*) (16.0.6)\n",
            "Requirement already satisfied: opt-einsum>=2.3.2 in /usr/local/lib/python3.10/dist-packages (from tensorflow~=2.13.0->tf-models-official==2.13.*) (3.3.0)\n",
            "Requirement already satisfied: packaging in /usr/local/lib/python3.10/dist-packages (from tensorflow~=2.13.0->tf-models-official==2.13.*) (23.2)\n",
            "Requirement already satisfied: protobuf!=4.21.0,!=4.21.1,!=4.21.2,!=4.21.3,!=4.21.4,!=4.21.5,<5.0.0dev,>=3.20.3 in /usr/local/lib/python3.10/dist-packages (from tensorflow~=2.13.0->tf-models-official==2.13.*) (3.20.3)\n",
            "Requirement already satisfied: setuptools in /usr/local/lib/python3.10/dist-packages (from tensorflow~=2.13.0->tf-models-official==2.13.*) (67.7.2)\n",
            "Collecting tensorboard<2.14,>=2.13 (from tensorflow~=2.13.0->tf-models-official==2.13.*)\n",
            "  Downloading tensorboard-2.13.0-py3-none-any.whl (5.6 MB)\n",
            "\u001b[2K     \u001b[90m━━━━━━━━━━━━━━━━━━━━━━━━━━━━━━━━━━━━━━━━\u001b[0m \u001b[32m5.6/5.6 MB\u001b[0m \u001b[31m72.3 MB/s\u001b[0m eta \u001b[36m0:00:00\u001b[0m\n",
            "\u001b[?25hCollecting tensorflow-estimator<2.14,>=2.13.0 (from tensorflow~=2.13.0->tf-models-official==2.13.*)\n",
            "  Downloading tensorflow_estimator-2.13.0-py2.py3-none-any.whl (440 kB)\n",
            "\u001b[2K     \u001b[90m━━━━━━━━━━━━━━━━━━━━━━━━━━━━━━━━━━━━━━━━\u001b[0m \u001b[32m440.8/440.8 kB\u001b[0m \u001b[31m37.0 MB/s\u001b[0m eta \u001b[36m0:00:00\u001b[0m\n",
            "\u001b[?25hRequirement already satisfied: termcolor>=1.1.0 in /usr/local/lib/python3.10/dist-packages (from tensorflow~=2.13.0->tf-models-official==2.13.*) (2.3.0)\n",
            "Requirement already satisfied: typing-extensions<4.6.0,>=3.6.6 in /usr/local/lib/python3.10/dist-packages (from tensorflow~=2.13.0->tf-models-official==2.13.*) (4.5.0)\n",
            "Requirement already satisfied: wrapt>=1.11.0 in /usr/local/lib/python3.10/dist-packages (from tensorflow~=2.13.0->tf-models-official==2.13.*) (1.14.1)\n",
            "Requirement already satisfied: tensorflow-io-gcs-filesystem>=0.23.1 in /usr/local/lib/python3.10/dist-packages (from tensorflow~=2.13.0->tf-models-official==2.13.*) (0.34.0)\n",
            "Requirement already satisfied: dm-tree~=0.1.1 in /usr/local/lib/python3.10/dist-packages (from tensorflow-model-optimization>=0.4.1->tf-models-official==2.13.*) (0.1.8)\n",
            "Requirement already satisfied: contourpy>=1.0.1 in /usr/local/lib/python3.10/dist-packages (from matplotlib->tf-models-official==2.13.*) (1.1.1)\n",
            "Requirement already satisfied: cycler>=0.10 in /usr/local/lib/python3.10/dist-packages (from matplotlib->tf-models-official==2.13.*) (0.12.1)\n",
            "Requirement already satisfied: fonttools>=4.22.0 in /usr/local/lib/python3.10/dist-packages (from matplotlib->tf-models-official==2.13.*) (4.43.1)\n",
            "Requirement already satisfied: kiwisolver>=1.0.1 in /usr/local/lib/python3.10/dist-packages (from matplotlib->tf-models-official==2.13.*) (1.4.5)\n",
            "Requirement already satisfied: pyparsing>=2.3.1 in /usr/local/lib/python3.10/dist-packages (from matplotlib->tf-models-official==2.13.*) (3.1.1)\n",
            "Requirement already satisfied: pyasn1>=0.1.7 in /usr/local/lib/python3.10/dist-packages (from oauth2client->tf-models-official==2.13.*) (0.5.0)\n",
            "Requirement already satisfied: pyasn1-modules>=0.0.5 in /usr/local/lib/python3.10/dist-packages (from oauth2client->tf-models-official==2.13.*) (0.3.0)\n",
            "Requirement already satisfied: rsa>=3.1.4 in /usr/local/lib/python3.10/dist-packages (from oauth2client->tf-models-official==2.13.*) (4.9)\n",
            "Collecting portalocker (from sacrebleu->tf-models-official==2.13.*)\n",
            "  Downloading portalocker-2.8.2-py3-none-any.whl (17 kB)\n",
            "Requirement already satisfied: regex in /usr/local/lib/python3.10/dist-packages (from sacrebleu->tf-models-official==2.13.*) (2023.6.3)\n",
            "Requirement already satisfied: tabulate>=0.8.9 in /usr/local/lib/python3.10/dist-packages (from sacrebleu->tf-models-official==2.13.*) (0.9.0)\n",
            "Collecting colorama (from sacrebleu->tf-models-official==2.13.*)\n",
            "  Downloading colorama-0.4.6-py2.py3-none-any.whl (25 kB)\n",
            "Requirement already satisfied: lxml in /usr/local/lib/python3.10/dist-packages (from sacrebleu->tf-models-official==2.13.*) (4.9.3)\n",
            "Requirement already satisfied: scikit-learn>=0.21.3 in /usr/local/lib/python3.10/dist-packages (from seqeval->tf-models-official==2.13.*) (1.2.2)\n",
            "Requirement already satisfied: array-record in /usr/local/lib/python3.10/dist-packages (from tensorflow-datasets->tf-models-official==2.13.*) (0.5.0)\n",
            "Requirement already satisfied: click in /usr/local/lib/python3.10/dist-packages (from tensorflow-datasets->tf-models-official==2.13.*) (8.1.7)\n",
            "Requirement already satisfied: etils[enp,epath,etree]>=0.9.0 in /usr/local/lib/python3.10/dist-packages (from tensorflow-datasets->tf-models-official==2.13.*) (1.5.2)\n",
            "Requirement already satisfied: promise in /usr/local/lib/python3.10/dist-packages (from tensorflow-datasets->tf-models-official==2.13.*) (2.3)\n",
            "Requirement already satisfied: tensorflow-metadata in /usr/local/lib/python3.10/dist-packages (from tensorflow-datasets->tf-models-official==2.13.*) (1.14.0)\n",
            "Requirement already satisfied: toml in /usr/local/lib/python3.10/dist-packages (from tensorflow-datasets->tf-models-official==2.13.*) (0.10.2)\n",
            "Requirement already satisfied: wheel<1.0,>=0.23.0 in /usr/local/lib/python3.10/dist-packages (from astunparse>=1.6.0->tensorflow~=2.13.0->tf-models-official==2.13.*) (0.41.2)\n",
            "Requirement already satisfied: fsspec in /usr/local/lib/python3.10/dist-packages (from etils[enp,epath,etree]>=0.9.0->tensorflow-datasets->tf-models-official==2.13.*) (2023.6.0)\n",
            "Requirement already satisfied: importlib_resources in /usr/local/lib/python3.10/dist-packages (from etils[enp,epath,etree]>=0.9.0->tensorflow-datasets->tf-models-official==2.13.*) (6.1.0)\n",
            "Requirement already satisfied: zipp in /usr/local/lib/python3.10/dist-packages (from etils[enp,epath,etree]>=0.9.0->tensorflow-datasets->tf-models-official==2.13.*) (3.17.0)\n",
            "Requirement already satisfied: googleapis-common-protos<2.0.dev0,>=1.56.2 in /usr/local/lib/python3.10/dist-packages (from google-api-core!=2.0.*,!=2.1.*,!=2.2.*,!=2.3.0,<3.0.0dev,>=1.31.5->google-api-python-client>=1.6.7->tf-models-official==2.13.*) (1.61.0)\n",
            "Requirement already satisfied: cachetools<6.0,>=2.0.0 in /usr/local/lib/python3.10/dist-packages (from google-auth<3.0.0dev,>=1.19.0->google-api-python-client>=1.6.7->tf-models-official==2.13.*) (5.3.2)\n",
            "Requirement already satisfied: charset-normalizer<4,>=2 in /usr/local/lib/python3.10/dist-packages (from requests->kaggle>=1.3.9->tf-models-official==2.13.*) (3.3.1)\n",
            "Requirement already satisfied: idna<4,>=2.5 in /usr/local/lib/python3.10/dist-packages (from requests->kaggle>=1.3.9->tf-models-official==2.13.*) (3.4)\n",
            "Requirement already satisfied: joblib>=1.1.1 in /usr/local/lib/python3.10/dist-packages (from scikit-learn>=0.21.3->seqeval->tf-models-official==2.13.*) (1.3.2)\n",
            "Requirement already satisfied: threadpoolctl>=2.0.0 in /usr/local/lib/python3.10/dist-packages (from scikit-learn>=0.21.3->seqeval->tf-models-official==2.13.*) (3.2.0)\n",
            "Requirement already satisfied: google-auth-oauthlib<1.1,>=0.5 in /usr/local/lib/python3.10/dist-packages (from tensorboard<2.14,>=2.13->tensorflow~=2.13.0->tf-models-official==2.13.*) (1.0.0)\n",
            "Requirement already satisfied: markdown>=2.6.8 in /usr/local/lib/python3.10/dist-packages (from tensorboard<2.14,>=2.13->tensorflow~=2.13.0->tf-models-official==2.13.*) (3.5)\n",
            "Requirement already satisfied: tensorboard-data-server<0.8.0,>=0.7.0 in /usr/local/lib/python3.10/dist-packages (from tensorboard<2.14,>=2.13->tensorflow~=2.13.0->tf-models-official==2.13.*) (0.7.2)\n",
            "Requirement already satisfied: werkzeug>=1.0.1 in /usr/local/lib/python3.10/dist-packages (from tensorboard<2.14,>=2.13->tensorflow~=2.13.0->tf-models-official==2.13.*) (3.0.1)\n",
            "Requirement already satisfied: webencodings in /usr/local/lib/python3.10/dist-packages (from bleach->kaggle>=1.3.9->tf-models-official==2.13.*) (0.5.1)\n",
            "Requirement already satisfied: text-unidecode>=1.3 in /usr/local/lib/python3.10/dist-packages (from python-slugify->kaggle>=1.3.9->tf-models-official==2.13.*) (1.3)\n",
            "Requirement already satisfied: requests-oauthlib>=0.7.0 in /usr/local/lib/python3.10/dist-packages (from google-auth-oauthlib<1.1,>=0.5->tensorboard<2.14,>=2.13->tensorflow~=2.13.0->tf-models-official==2.13.*) (1.3.1)\n",
            "Requirement already satisfied: MarkupSafe>=2.1.1 in /usr/local/lib/python3.10/dist-packages (from werkzeug>=1.0.1->tensorboard<2.14,>=2.13->tensorflow~=2.13.0->tf-models-official==2.13.*) (2.1.3)\n",
            "Requirement already satisfied: oauthlib>=3.0.0 in /usr/local/lib/python3.10/dist-packages (from requests-oauthlib>=0.7.0->google-auth-oauthlib<1.1,>=0.5->tensorboard<2.14,>=2.13->tensorflow~=2.13.0->tf-models-official==2.13.*) (3.2.2)\n",
            "Building wheels for collected packages: seqeval\n",
            "  Building wheel for seqeval (setup.py) ... \u001b[?25l\u001b[?25hdone\n",
            "  Created wheel for seqeval: filename=seqeval-1.2.2-py3-none-any.whl size=16162 sha256=58fcefc6dca70fe85fe81a5550aa8b72d277cb45c8c8f3ab224f06af280d3918\n",
            "  Stored in directory: /root/.cache/pip/wheels/1a/67/4a/ad4082dd7dfc30f2abfe4d80a2ed5926a506eb8a972b4767fa\n",
            "Successfully built seqeval\n",
            "Installing collected packages: sentencepiece, tensorflow-model-optimization, tensorflow-estimator, portalocker, keras, immutabledict, gast, colorama, sacrebleu, seqeval, tensorboard, tensorflow, tensorflow-text, tf-models-official\n",
            "  Attempting uninstall: tensorflow-estimator\n",
            "    Found existing installation: tensorflow-estimator 2.14.0\n",
            "    Uninstalling tensorflow-estimator-2.14.0:\n",
            "      Successfully uninstalled tensorflow-estimator-2.14.0\n",
            "  Attempting uninstall: keras\n",
            "    Found existing installation: keras 2.14.0\n",
            "    Uninstalling keras-2.14.0:\n",
            "      Successfully uninstalled keras-2.14.0\n",
            "  Attempting uninstall: gast\n",
            "    Found existing installation: gast 0.5.4\n",
            "    Uninstalling gast-0.5.4:\n",
            "      Successfully uninstalled gast-0.5.4\n",
            "  Attempting uninstall: tensorboard\n",
            "    Found existing installation: tensorboard 2.14.1\n",
            "    Uninstalling tensorboard-2.14.1:\n",
            "      Successfully uninstalled tensorboard-2.14.1\n",
            "  Attempting uninstall: tensorflow\n",
            "    Found existing installation: tensorflow 2.14.0\n",
            "    Uninstalling tensorflow-2.14.0:\n",
            "      Successfully uninstalled tensorflow-2.14.0\n",
            "Successfully installed colorama-0.4.6 gast-0.4.0 immutabledict-3.0.0 keras-2.13.1 portalocker-2.8.2 sacrebleu-2.3.2 sentencepiece-0.1.99 seqeval-1.2.2 tensorboard-2.13.0 tensorflow-2.13.1 tensorflow-estimator-2.13.0 tensorflow-model-optimization-0.7.5 tensorflow-text-2.13.0 tf-models-official-2.13.2\n"
          ]
        }
      ]
    },
    {
      "cell_type": "code",
      "execution_count": null,
      "metadata": {
        "colab": {
          "base_uri": "https://localhost:8080/"
        },
        "id": "FJ1xHA9zXp00",
        "outputId": "5ea64c16-9743-4790-817e-09a1b5d288e6"
      },
      "outputs": [
        {
          "output_type": "stream",
          "name": "stdout",
          "text": [
            "Using TensorFlow backend\n",
            "Tensorflow version: 2.13.1\n"
          ]
        }
      ],
      "source": [
        "import pandas as pd\n",
        "import numpy as np\n",
        "\n",
        "import matplotlib.pyplot as plt\n",
        "%matplotlib inline\n",
        "\n",
        "import tensorflow as tf\n",
        "import keras_tuner as kt\n",
        "\n",
        "from keras.models import Sequential\n",
        "from keras.layers import Input, Dense, Dropout, LSTM, Flatten\n",
        "from transformers import TFBertForSequenceClassification, BertTokenizer\n",
        "\n",
        "from sklearn.preprocessing import LabelEncoder\n",
        "from sklearn.metrics import classification_report, confusion_matrix\n",
        "from sklearn.model_selection import train_test_split\n",
        "from tensorflow.keras.callbacks import EarlyStopping\n",
        "\n",
        "print('Tensorflow version:', tf.__version__)\n",
        "\n",
        "import tensorflow as tf\n",
        "from transformers import DistilBertTokenizer, TFDistilBertForSequenceClassification\n",
        "from sklearn.model_selection import train_test_split\n",
        "\n",
        "import os\n",
        "import shutil\n",
        "import tensorflow_hub as hub\n",
        "import tensorflow_text as text\n",
        "\n",
        "import matplotlib.pyplot as plt\n",
        "\n",
        "tf.get_logger().setLevel('ERROR')"
      ]
    },
    {
      "cell_type": "markdown",
      "metadata": {
        "id": "k4aTtfgWSC7Y"
      },
      "source": [
        "##**1. Entendimiento del Negocio**"
      ]
    },
    {
      "cell_type": "markdown",
      "metadata": {
        "id": "PrU7KURhTYBf"
      },
      "source": [
        "Una empresa del sector financiero requiere realizar el análisis de sentimientos de un conjunto de frases del sector para poder hacer evaluación del sentimiento del mercado y la reputación de las empresas.\n",
        "\n",
        "En primer lugar, este análisis proporciona información valiosa para la toma de decisiones de inversión. Al evaluar el sentimiento del mercado a partir de las opiniones y comentarios expresados en las frases, los inversores pueden tomar decisiones más informadas. Esto permite identificar tendencias emergentes, detectar posibles riesgos y oportunidades, y ajustar sus carteras de inversión de acuerdo a la dinámica del mercado.\n",
        "\n",
        "Los datos se toman de https://www.kaggle.com/datasets/sbhatti/financial-sentiment-analysis"
      ]
    },
    {
      "cell_type": "markdown",
      "metadata": {
        "id": "IfFUprIlXp02"
      },
      "source": [
        "##**2. Perfilamiento y entendimiento de los datos**"
      ]
    },
    {
      "cell_type": "code",
      "execution_count": null,
      "metadata": {
        "colab": {
          "base_uri": "https://localhost:8080/"
        },
        "id": "MeHWQMupmqCO",
        "outputId": "0559d746-08ca-4e7f-e2ed-e664f0a88014"
      },
      "outputs": [
        {
          "output_type": "stream",
          "name": "stdout",
          "text": [
            "Requirement already satisfied: kaggle in /usr/local/lib/python3.10/dist-packages (1.5.16)\n",
            "Requirement already satisfied: six>=1.10 in /usr/local/lib/python3.10/dist-packages (from kaggle) (1.16.0)\n",
            "Requirement already satisfied: certifi in /usr/local/lib/python3.10/dist-packages (from kaggle) (2023.7.22)\n",
            "Requirement already satisfied: python-dateutil in /usr/local/lib/python3.10/dist-packages (from kaggle) (2.8.2)\n",
            "Requirement already satisfied: requests in /usr/local/lib/python3.10/dist-packages (from kaggle) (2.31.0)\n",
            "Requirement already satisfied: tqdm in /usr/local/lib/python3.10/dist-packages (from kaggle) (4.66.1)\n",
            "Requirement already satisfied: python-slugify in /usr/local/lib/python3.10/dist-packages (from kaggle) (8.0.1)\n",
            "Requirement already satisfied: urllib3 in /usr/local/lib/python3.10/dist-packages (from kaggle) (2.0.7)\n",
            "Requirement already satisfied: bleach in /usr/local/lib/python3.10/dist-packages (from kaggle) (6.1.0)\n",
            "Requirement already satisfied: webencodings in /usr/local/lib/python3.10/dist-packages (from bleach->kaggle) (0.5.1)\n",
            "Requirement already satisfied: text-unidecode>=1.3 in /usr/local/lib/python3.10/dist-packages (from python-slugify->kaggle) (1.3)\n",
            "Requirement already satisfied: charset-normalizer<4,>=2 in /usr/local/lib/python3.10/dist-packages (from requests->kaggle) (3.3.1)\n",
            "Requirement already satisfied: idna<4,>=2.5 in /usr/local/lib/python3.10/dist-packages (from requests->kaggle) (3.4)\n",
            "Downloading financial-sentiment-analysis.zip to /content\n",
            "  0% 0.00/276k [00:00<?, ?B/s]\n",
            "100% 276k/276k [00:00<00:00, 38.9MB/s]\n",
            "Archive:  /content/financial-sentiment-analysis.zip\n",
            "  inflating: data.csv                \n"
          ]
        }
      ],
      "source": [
        "! pip install kaggle\n",
        "! mkdir ~/.kaggle\n",
        "! cp kaggle.json ~/.kaggle/\n",
        "! chmod 600 ~/.kaggle/kaggle.json\n",
        "! kaggle datasets download -d sbhatti/financial-sentiment-analysis\n",
        "! unzip /content/financial-sentiment-analysis.zip"
      ]
    },
    {
      "cell_type": "code",
      "execution_count": null,
      "metadata": {
        "colab": {
          "base_uri": "https://localhost:8080/",
          "height": 363
        },
        "id": "CEKEC0uBjFJq",
        "outputId": "2ffd6d6d-bb6a-4812-c141-f3b77b732146"
      },
      "outputs": [
        {
          "output_type": "execute_result",
          "data": {
            "text/plain": [
              "                                            Sentence Sentiment\n",
              "0  The GeoSolutions technology will leverage Bene...  positive\n",
              "1  $ESI on lows, down $1.50 to $2.50 BK a real po...  negative\n",
              "2  For the last quarter of 2010 , Componenta 's n...  positive\n",
              "3  According to the Finnish-Russian Chamber of Co...   neutral\n",
              "4  The Swedish buyout firm has sold its remaining...   neutral\n",
              "5    $SPY wouldn't be surprised to see a green close  positive\n",
              "6  Shell's $70 Billion BG Deal Meets Shareholder ...  negative\n",
              "7  SSH COMMUNICATIONS SECURITY CORP STOCK EXCHANG...  negative\n",
              "8  Kone 's net sales rose by some 14 % year-on-ye...  positive\n",
              "9  The Stockmann department store will have a tot...   neutral"
            ],
            "text/html": [
              "\n",
              "  <div id=\"df-33216e09-04b2-4eec-89f9-d1e49a1202c5\" class=\"colab-df-container\">\n",
              "    <div>\n",
              "<style scoped>\n",
              "    .dataframe tbody tr th:only-of-type {\n",
              "        vertical-align: middle;\n",
              "    }\n",
              "\n",
              "    .dataframe tbody tr th {\n",
              "        vertical-align: top;\n",
              "    }\n",
              "\n",
              "    .dataframe thead th {\n",
              "        text-align: right;\n",
              "    }\n",
              "</style>\n",
              "<table border=\"1\" class=\"dataframe\">\n",
              "  <thead>\n",
              "    <tr style=\"text-align: right;\">\n",
              "      <th></th>\n",
              "      <th>Sentence</th>\n",
              "      <th>Sentiment</th>\n",
              "    </tr>\n",
              "  </thead>\n",
              "  <tbody>\n",
              "    <tr>\n",
              "      <th>0</th>\n",
              "      <td>The GeoSolutions technology will leverage Bene...</td>\n",
              "      <td>positive</td>\n",
              "    </tr>\n",
              "    <tr>\n",
              "      <th>1</th>\n",
              "      <td>$ESI on lows, down $1.50 to $2.50 BK a real po...</td>\n",
              "      <td>negative</td>\n",
              "    </tr>\n",
              "    <tr>\n",
              "      <th>2</th>\n",
              "      <td>For the last quarter of 2010 , Componenta 's n...</td>\n",
              "      <td>positive</td>\n",
              "    </tr>\n",
              "    <tr>\n",
              "      <th>3</th>\n",
              "      <td>According to the Finnish-Russian Chamber of Co...</td>\n",
              "      <td>neutral</td>\n",
              "    </tr>\n",
              "    <tr>\n",
              "      <th>4</th>\n",
              "      <td>The Swedish buyout firm has sold its remaining...</td>\n",
              "      <td>neutral</td>\n",
              "    </tr>\n",
              "    <tr>\n",
              "      <th>5</th>\n",
              "      <td>$SPY wouldn't be surprised to see a green close</td>\n",
              "      <td>positive</td>\n",
              "    </tr>\n",
              "    <tr>\n",
              "      <th>6</th>\n",
              "      <td>Shell's $70 Billion BG Deal Meets Shareholder ...</td>\n",
              "      <td>negative</td>\n",
              "    </tr>\n",
              "    <tr>\n",
              "      <th>7</th>\n",
              "      <td>SSH COMMUNICATIONS SECURITY CORP STOCK EXCHANG...</td>\n",
              "      <td>negative</td>\n",
              "    </tr>\n",
              "    <tr>\n",
              "      <th>8</th>\n",
              "      <td>Kone 's net sales rose by some 14 % year-on-ye...</td>\n",
              "      <td>positive</td>\n",
              "    </tr>\n",
              "    <tr>\n",
              "      <th>9</th>\n",
              "      <td>The Stockmann department store will have a tot...</td>\n",
              "      <td>neutral</td>\n",
              "    </tr>\n",
              "  </tbody>\n",
              "</table>\n",
              "</div>\n",
              "    <div class=\"colab-df-buttons\">\n",
              "\n",
              "  <div class=\"colab-df-container\">\n",
              "    <button class=\"colab-df-convert\" onclick=\"convertToInteractive('df-33216e09-04b2-4eec-89f9-d1e49a1202c5')\"\n",
              "            title=\"Convert this dataframe to an interactive table.\"\n",
              "            style=\"display:none;\">\n",
              "\n",
              "  <svg xmlns=\"http://www.w3.org/2000/svg\" height=\"24px\" viewBox=\"0 -960 960 960\">\n",
              "    <path d=\"M120-120v-720h720v720H120Zm60-500h600v-160H180v160Zm220 220h160v-160H400v160Zm0 220h160v-160H400v160ZM180-400h160v-160H180v160Zm440 0h160v-160H620v160ZM180-180h160v-160H180v160Zm440 0h160v-160H620v160Z\"/>\n",
              "  </svg>\n",
              "    </button>\n",
              "\n",
              "  <style>\n",
              "    .colab-df-container {\n",
              "      display:flex;\n",
              "      gap: 12px;\n",
              "    }\n",
              "\n",
              "    .colab-df-convert {\n",
              "      background-color: #E8F0FE;\n",
              "      border: none;\n",
              "      border-radius: 50%;\n",
              "      cursor: pointer;\n",
              "      display: none;\n",
              "      fill: #1967D2;\n",
              "      height: 32px;\n",
              "      padding: 0 0 0 0;\n",
              "      width: 32px;\n",
              "    }\n",
              "\n",
              "    .colab-df-convert:hover {\n",
              "      background-color: #E2EBFA;\n",
              "      box-shadow: 0px 1px 2px rgba(60, 64, 67, 0.3), 0px 1px 3px 1px rgba(60, 64, 67, 0.15);\n",
              "      fill: #174EA6;\n",
              "    }\n",
              "\n",
              "    .colab-df-buttons div {\n",
              "      margin-bottom: 4px;\n",
              "    }\n",
              "\n",
              "    [theme=dark] .colab-df-convert {\n",
              "      background-color: #3B4455;\n",
              "      fill: #D2E3FC;\n",
              "    }\n",
              "\n",
              "    [theme=dark] .colab-df-convert:hover {\n",
              "      background-color: #434B5C;\n",
              "      box-shadow: 0px 1px 3px 1px rgba(0, 0, 0, 0.15);\n",
              "      filter: drop-shadow(0px 1px 2px rgba(0, 0, 0, 0.3));\n",
              "      fill: #FFFFFF;\n",
              "    }\n",
              "  </style>\n",
              "\n",
              "    <script>\n",
              "      const buttonEl =\n",
              "        document.querySelector('#df-33216e09-04b2-4eec-89f9-d1e49a1202c5 button.colab-df-convert');\n",
              "      buttonEl.style.display =\n",
              "        google.colab.kernel.accessAllowed ? 'block' : 'none';\n",
              "\n",
              "      async function convertToInteractive(key) {\n",
              "        const element = document.querySelector('#df-33216e09-04b2-4eec-89f9-d1e49a1202c5');\n",
              "        const dataTable =\n",
              "          await google.colab.kernel.invokeFunction('convertToInteractive',\n",
              "                                                    [key], {});\n",
              "        if (!dataTable) return;\n",
              "\n",
              "        const docLinkHtml = 'Like what you see? Visit the ' +\n",
              "          '<a target=\"_blank\" href=https://colab.research.google.com/notebooks/data_table.ipynb>data table notebook</a>'\n",
              "          + ' to learn more about interactive tables.';\n",
              "        element.innerHTML = '';\n",
              "        dataTable['output_type'] = 'display_data';\n",
              "        await google.colab.output.renderOutput(dataTable, element);\n",
              "        const docLink = document.createElement('div');\n",
              "        docLink.innerHTML = docLinkHtml;\n",
              "        element.appendChild(docLink);\n",
              "      }\n",
              "    </script>\n",
              "  </div>\n",
              "\n",
              "\n",
              "<div id=\"df-9d531887-cef8-44de-b964-a6c6fd059f17\">\n",
              "  <button class=\"colab-df-quickchart\" onclick=\"quickchart('df-9d531887-cef8-44de-b964-a6c6fd059f17')\"\n",
              "            title=\"Suggest charts.\"\n",
              "            style=\"display:none;\">\n",
              "\n",
              "<svg xmlns=\"http://www.w3.org/2000/svg\" height=\"24px\"viewBox=\"0 0 24 24\"\n",
              "     width=\"24px\">\n",
              "    <g>\n",
              "        <path d=\"M19 3H5c-1.1 0-2 .9-2 2v14c0 1.1.9 2 2 2h14c1.1 0 2-.9 2-2V5c0-1.1-.9-2-2-2zM9 17H7v-7h2v7zm4 0h-2V7h2v10zm4 0h-2v-4h2v4z\"/>\n",
              "    </g>\n",
              "</svg>\n",
              "  </button>\n",
              "\n",
              "<style>\n",
              "  .colab-df-quickchart {\n",
              "      --bg-color: #E8F0FE;\n",
              "      --fill-color: #1967D2;\n",
              "      --hover-bg-color: #E2EBFA;\n",
              "      --hover-fill-color: #174EA6;\n",
              "      --disabled-fill-color: #AAA;\n",
              "      --disabled-bg-color: #DDD;\n",
              "  }\n",
              "\n",
              "  [theme=dark] .colab-df-quickchart {\n",
              "      --bg-color: #3B4455;\n",
              "      --fill-color: #D2E3FC;\n",
              "      --hover-bg-color: #434B5C;\n",
              "      --hover-fill-color: #FFFFFF;\n",
              "      --disabled-bg-color: #3B4455;\n",
              "      --disabled-fill-color: #666;\n",
              "  }\n",
              "\n",
              "  .colab-df-quickchart {\n",
              "    background-color: var(--bg-color);\n",
              "    border: none;\n",
              "    border-radius: 50%;\n",
              "    cursor: pointer;\n",
              "    display: none;\n",
              "    fill: var(--fill-color);\n",
              "    height: 32px;\n",
              "    padding: 0;\n",
              "    width: 32px;\n",
              "  }\n",
              "\n",
              "  .colab-df-quickchart:hover {\n",
              "    background-color: var(--hover-bg-color);\n",
              "    box-shadow: 0 1px 2px rgba(60, 64, 67, 0.3), 0 1px 3px 1px rgba(60, 64, 67, 0.15);\n",
              "    fill: var(--button-hover-fill-color);\n",
              "  }\n",
              "\n",
              "  .colab-df-quickchart-complete:disabled,\n",
              "  .colab-df-quickchart-complete:disabled:hover {\n",
              "    background-color: var(--disabled-bg-color);\n",
              "    fill: var(--disabled-fill-color);\n",
              "    box-shadow: none;\n",
              "  }\n",
              "\n",
              "  .colab-df-spinner {\n",
              "    border: 2px solid var(--fill-color);\n",
              "    border-color: transparent;\n",
              "    border-bottom-color: var(--fill-color);\n",
              "    animation:\n",
              "      spin 1s steps(1) infinite;\n",
              "  }\n",
              "\n",
              "  @keyframes spin {\n",
              "    0% {\n",
              "      border-color: transparent;\n",
              "      border-bottom-color: var(--fill-color);\n",
              "      border-left-color: var(--fill-color);\n",
              "    }\n",
              "    20% {\n",
              "      border-color: transparent;\n",
              "      border-left-color: var(--fill-color);\n",
              "      border-top-color: var(--fill-color);\n",
              "    }\n",
              "    30% {\n",
              "      border-color: transparent;\n",
              "      border-left-color: var(--fill-color);\n",
              "      border-top-color: var(--fill-color);\n",
              "      border-right-color: var(--fill-color);\n",
              "    }\n",
              "    40% {\n",
              "      border-color: transparent;\n",
              "      border-right-color: var(--fill-color);\n",
              "      border-top-color: var(--fill-color);\n",
              "    }\n",
              "    60% {\n",
              "      border-color: transparent;\n",
              "      border-right-color: var(--fill-color);\n",
              "    }\n",
              "    80% {\n",
              "      border-color: transparent;\n",
              "      border-right-color: var(--fill-color);\n",
              "      border-bottom-color: var(--fill-color);\n",
              "    }\n",
              "    90% {\n",
              "      border-color: transparent;\n",
              "      border-bottom-color: var(--fill-color);\n",
              "    }\n",
              "  }\n",
              "</style>\n",
              "\n",
              "  <script>\n",
              "    async function quickchart(key) {\n",
              "      const quickchartButtonEl =\n",
              "        document.querySelector('#' + key + ' button');\n",
              "      quickchartButtonEl.disabled = true;  // To prevent multiple clicks.\n",
              "      quickchartButtonEl.classList.add('colab-df-spinner');\n",
              "      try {\n",
              "        const charts = await google.colab.kernel.invokeFunction(\n",
              "            'suggestCharts', [key], {});\n",
              "      } catch (error) {\n",
              "        console.error('Error during call to suggestCharts:', error);\n",
              "      }\n",
              "      quickchartButtonEl.classList.remove('colab-df-spinner');\n",
              "      quickchartButtonEl.classList.add('colab-df-quickchart-complete');\n",
              "    }\n",
              "    (() => {\n",
              "      let quickchartButtonEl =\n",
              "        document.querySelector('#df-9d531887-cef8-44de-b964-a6c6fd059f17 button');\n",
              "      quickchartButtonEl.style.display =\n",
              "        google.colab.kernel.accessAllowed ? 'block' : 'none';\n",
              "    })();\n",
              "  </script>\n",
              "</div>\n",
              "    </div>\n",
              "  </div>\n"
            ]
          },
          "metadata": {},
          "execution_count": 6
        }
      ],
      "source": [
        "data = pd.read_csv('/content/data.csv')\n",
        "data.head(10)"
      ]
    },
    {
      "cell_type": "code",
      "execution_count": null,
      "metadata": {
        "colab": {
          "base_uri": "https://localhost:8080/"
        },
        "id": "4nAgHblmjUjO",
        "outputId": "6ad86699-2eb7-4f99-a125-b9c2352cebfa"
      },
      "outputs": [
        {
          "output_type": "stream",
          "name": "stdout",
          "text": [
            "<class 'pandas.core.frame.DataFrame'>\n",
            "RangeIndex: 5842 entries, 0 to 5841\n",
            "Data columns (total 2 columns):\n",
            " #   Column     Non-Null Count  Dtype \n",
            "---  ------     --------------  ----- \n",
            " 0   Sentence   5842 non-null   object\n",
            " 1   Sentiment  5842 non-null   object\n",
            "dtypes: object(2)\n",
            "memory usage: 91.4+ KB\n"
          ]
        }
      ],
      "source": [
        "data.info()"
      ]
    },
    {
      "cell_type": "markdown",
      "source": [
        "Realizamos la revisión de texto para cada uno de los sentimientos:"
      ],
      "metadata": {
        "id": "_rVGm9dVB6ZJ"
      }
    },
    {
      "cell_type": "code",
      "execution_count": null,
      "metadata": {
        "colab": {
          "base_uri": "https://localhost:8080/"
        },
        "id": "K32IArB3cihD",
        "outputId": "a888ae5a-3867-41d5-cb14-516dc26a4f6b"
      },
      "outputs": [
        {
          "output_type": "stream",
          "name": "stdout",
          "text": [
            "Sentiment: positive\n",
            "Sentence: The GeoSolutions technology will leverage Benefon 's GPS solutions by providing Location Based Search Technology , a Communities Platform , location relevant multimedia content and a new and powerful commercial model .\n",
            "\n",
            "Sentiment: negative\n",
            "Sentence: $ESI on lows, down $1.50 to $2.50 BK a real possibility\n",
            "\n",
            "Sentiment: neutral\n",
            "Sentence: According to the Finnish-Russian Chamber of Commerce , all the major construction companies of Finland are operating in Russia .\n",
            "\n"
          ]
        }
      ],
      "source": [
        "unique_sentiments = data['Sentiment'].unique()\n",
        "\n",
        "for sentiment in unique_sentiments:\n",
        "    row = data[data['Sentiment'] == sentiment].iloc[0]  # Obtener la primera fila con el valor de sentimiento específico\n",
        "    print(\"Sentiment:\", sentiment)\n",
        "    print(\"Sentence:\", row['Sentence'])\n",
        "    print()\n"
      ]
    },
    {
      "cell_type": "code",
      "execution_count": null,
      "metadata": {
        "colab": {
          "base_uri": "https://localhost:8080/"
        },
        "id": "aZ1BmCb6gtfk",
        "outputId": "73f6e5e1-68b3-4276-b01a-4bc14961f26c"
      },
      "outputs": [
        {
          "output_type": "execute_result",
          "data": {
            "text/plain": [
              "neutral     3130\n",
              "positive    1852\n",
              "negative     860\n",
              "Name: Sentiment, dtype: int64"
            ]
          },
          "metadata": {},
          "execution_count": 9
        }
      ],
      "source": [
        "data[\"Sentiment\"].value_counts()"
      ]
    },
    {
      "cell_type": "markdown",
      "metadata": {
        "id": "Bnrd3Qjg3nVY"
      },
      "source": [
        "##**3. Preparación de los Datos**"
      ]
    },
    {
      "cell_type": "markdown",
      "metadata": {
        "id": "HILVZL3Hwl_G"
      },
      "source": [
        "Ahora vamos a pasar el sentimiento (clase) a un valor entero usando LabelEncoder"
      ]
    },
    {
      "cell_type": "code",
      "execution_count": null,
      "metadata": {
        "colab": {
          "base_uri": "https://localhost:8080/"
        },
        "id": "_imuGun6nlEX",
        "outputId": "60c48035-34b9-4e39-cdb7-0af335b70487"
      },
      "outputs": [
        {
          "output_type": "stream",
          "name": "stdout",
          "text": [
            "Valor numérico: 0, Etiqueta original: negative\n",
            "Valor numérico: 1, Etiqueta original: neutral\n",
            "Valor numérico: 2, Etiqueta original: positive\n"
          ]
        }
      ],
      "source": [
        "label_encoder = LabelEncoder()\n",
        "data['Sentiment'] = label_encoder.fit_transform(data['Sentiment'])\n",
        "\n",
        "etiquetas_unicas = label_encoder.classes_\n",
        "for valor_numerico, etiqueta_original in enumerate(etiquetas_unicas):\n",
        "    print(f'Valor numérico: {valor_numerico}, Etiqueta original: {etiqueta_original}')"
      ]
    },
    {
      "cell_type": "markdown",
      "metadata": {
        "id": "hA7lH4P4wyCQ"
      },
      "source": [
        "Hacemos la división de los conjuntos para entrenamiento, validación y prueba:"
      ]
    },
    {
      "cell_type": "code",
      "execution_count": null,
      "metadata": {
        "colab": {
          "base_uri": "https://localhost:8080/",
          "height": 478
        },
        "id": "b-xIiI9JStV3",
        "outputId": "5d41006f-c1a6-4b3b-bff6-af8ef57be6e7"
      },
      "outputs": [
        {
          "output_type": "stream",
          "name": "stdout",
          "text": [
            "Tamaño de datos de entrenamiento: (3738, 2)\n",
            "Tamaño de datos de validación: (935, 2)\n",
            "Tamaño de datos de prueba: (1169, 2)\n"
          ]
        },
        {
          "output_type": "execute_result",
          "data": {
            "text/plain": [
              "                                               Sentence  Sentiment\n",
              "3097  Digia will also set up two subsidiaries , Digi...          1\n",
              "5048  $BBRY Sierra. Has a great cash balance and imp...          2\n",
              "5727  Britain's FTSE gains, Land Securities up after...          2\n",
              "185   The Finnish company sold its UK operation - co...          1\n",
              "4265  Russian Media Ventures ' minority shareholder ...          1\n",
              "...                                                 ...        ...\n",
              "326               ( I&H ) in a move to enhance growth .          2\n",
              "2821  In addition , a further 29 employees can be la...          0\n",
              "4365  The paper industry 's de-inking sludge , which...          1\n",
              "1603  $JE LOOKS like we are bouncing.  Would be nice...          2\n",
              "200   A survey conducted by Taloustutkimus for Sampo...          1\n",
              "\n",
              "[3738 rows x 2 columns]"
            ],
            "text/html": [
              "\n",
              "  <div id=\"df-76fde9ee-e155-4377-9769-82ae016d0433\" class=\"colab-df-container\">\n",
              "    <div>\n",
              "<style scoped>\n",
              "    .dataframe tbody tr th:only-of-type {\n",
              "        vertical-align: middle;\n",
              "    }\n",
              "\n",
              "    .dataframe tbody tr th {\n",
              "        vertical-align: top;\n",
              "    }\n",
              "\n",
              "    .dataframe thead th {\n",
              "        text-align: right;\n",
              "    }\n",
              "</style>\n",
              "<table border=\"1\" class=\"dataframe\">\n",
              "  <thead>\n",
              "    <tr style=\"text-align: right;\">\n",
              "      <th></th>\n",
              "      <th>Sentence</th>\n",
              "      <th>Sentiment</th>\n",
              "    </tr>\n",
              "  </thead>\n",
              "  <tbody>\n",
              "    <tr>\n",
              "      <th>3097</th>\n",
              "      <td>Digia will also set up two subsidiaries , Digi...</td>\n",
              "      <td>1</td>\n",
              "    </tr>\n",
              "    <tr>\n",
              "      <th>5048</th>\n",
              "      <td>$BBRY Sierra. Has a great cash balance and imp...</td>\n",
              "      <td>2</td>\n",
              "    </tr>\n",
              "    <tr>\n",
              "      <th>5727</th>\n",
              "      <td>Britain's FTSE gains, Land Securities up after...</td>\n",
              "      <td>2</td>\n",
              "    </tr>\n",
              "    <tr>\n",
              "      <th>185</th>\n",
              "      <td>The Finnish company sold its UK operation - co...</td>\n",
              "      <td>1</td>\n",
              "    </tr>\n",
              "    <tr>\n",
              "      <th>4265</th>\n",
              "      <td>Russian Media Ventures ' minority shareholder ...</td>\n",
              "      <td>1</td>\n",
              "    </tr>\n",
              "    <tr>\n",
              "      <th>...</th>\n",
              "      <td>...</td>\n",
              "      <td>...</td>\n",
              "    </tr>\n",
              "    <tr>\n",
              "      <th>326</th>\n",
              "      <td>( I&amp;H ) in a move to enhance growth .</td>\n",
              "      <td>2</td>\n",
              "    </tr>\n",
              "    <tr>\n",
              "      <th>2821</th>\n",
              "      <td>In addition , a further 29 employees can be la...</td>\n",
              "      <td>0</td>\n",
              "    </tr>\n",
              "    <tr>\n",
              "      <th>4365</th>\n",
              "      <td>The paper industry 's de-inking sludge , which...</td>\n",
              "      <td>1</td>\n",
              "    </tr>\n",
              "    <tr>\n",
              "      <th>1603</th>\n",
              "      <td>$JE LOOKS like we are bouncing.  Would be nice...</td>\n",
              "      <td>2</td>\n",
              "    </tr>\n",
              "    <tr>\n",
              "      <th>200</th>\n",
              "      <td>A survey conducted by Taloustutkimus for Sampo...</td>\n",
              "      <td>1</td>\n",
              "    </tr>\n",
              "  </tbody>\n",
              "</table>\n",
              "<p>3738 rows × 2 columns</p>\n",
              "</div>\n",
              "    <div class=\"colab-df-buttons\">\n",
              "\n",
              "  <div class=\"colab-df-container\">\n",
              "    <button class=\"colab-df-convert\" onclick=\"convertToInteractive('df-76fde9ee-e155-4377-9769-82ae016d0433')\"\n",
              "            title=\"Convert this dataframe to an interactive table.\"\n",
              "            style=\"display:none;\">\n",
              "\n",
              "  <svg xmlns=\"http://www.w3.org/2000/svg\" height=\"24px\" viewBox=\"0 -960 960 960\">\n",
              "    <path d=\"M120-120v-720h720v720H120Zm60-500h600v-160H180v160Zm220 220h160v-160H400v160Zm0 220h160v-160H400v160ZM180-400h160v-160H180v160Zm440 0h160v-160H620v160ZM180-180h160v-160H180v160Zm440 0h160v-160H620v160Z\"/>\n",
              "  </svg>\n",
              "    </button>\n",
              "\n",
              "  <style>\n",
              "    .colab-df-container {\n",
              "      display:flex;\n",
              "      gap: 12px;\n",
              "    }\n",
              "\n",
              "    .colab-df-convert {\n",
              "      background-color: #E8F0FE;\n",
              "      border: none;\n",
              "      border-radius: 50%;\n",
              "      cursor: pointer;\n",
              "      display: none;\n",
              "      fill: #1967D2;\n",
              "      height: 32px;\n",
              "      padding: 0 0 0 0;\n",
              "      width: 32px;\n",
              "    }\n",
              "\n",
              "    .colab-df-convert:hover {\n",
              "      background-color: #E2EBFA;\n",
              "      box-shadow: 0px 1px 2px rgba(60, 64, 67, 0.3), 0px 1px 3px 1px rgba(60, 64, 67, 0.15);\n",
              "      fill: #174EA6;\n",
              "    }\n",
              "\n",
              "    .colab-df-buttons div {\n",
              "      margin-bottom: 4px;\n",
              "    }\n",
              "\n",
              "    [theme=dark] .colab-df-convert {\n",
              "      background-color: #3B4455;\n",
              "      fill: #D2E3FC;\n",
              "    }\n",
              "\n",
              "    [theme=dark] .colab-df-convert:hover {\n",
              "      background-color: #434B5C;\n",
              "      box-shadow: 0px 1px 3px 1px rgba(0, 0, 0, 0.15);\n",
              "      filter: drop-shadow(0px 1px 2px rgba(0, 0, 0, 0.3));\n",
              "      fill: #FFFFFF;\n",
              "    }\n",
              "  </style>\n",
              "\n",
              "    <script>\n",
              "      const buttonEl =\n",
              "        document.querySelector('#df-76fde9ee-e155-4377-9769-82ae016d0433 button.colab-df-convert');\n",
              "      buttonEl.style.display =\n",
              "        google.colab.kernel.accessAllowed ? 'block' : 'none';\n",
              "\n",
              "      async function convertToInteractive(key) {\n",
              "        const element = document.querySelector('#df-76fde9ee-e155-4377-9769-82ae016d0433');\n",
              "        const dataTable =\n",
              "          await google.colab.kernel.invokeFunction('convertToInteractive',\n",
              "                                                    [key], {});\n",
              "        if (!dataTable) return;\n",
              "\n",
              "        const docLinkHtml = 'Like what you see? Visit the ' +\n",
              "          '<a target=\"_blank\" href=https://colab.research.google.com/notebooks/data_table.ipynb>data table notebook</a>'\n",
              "          + ' to learn more about interactive tables.';\n",
              "        element.innerHTML = '';\n",
              "        dataTable['output_type'] = 'display_data';\n",
              "        await google.colab.output.renderOutput(dataTable, element);\n",
              "        const docLink = document.createElement('div');\n",
              "        docLink.innerHTML = docLinkHtml;\n",
              "        element.appendChild(docLink);\n",
              "      }\n",
              "    </script>\n",
              "  </div>\n",
              "\n",
              "\n",
              "<div id=\"df-0853d9a7-3fda-4376-a437-51e4c680aad8\">\n",
              "  <button class=\"colab-df-quickchart\" onclick=\"quickchart('df-0853d9a7-3fda-4376-a437-51e4c680aad8')\"\n",
              "            title=\"Suggest charts.\"\n",
              "            style=\"display:none;\">\n",
              "\n",
              "<svg xmlns=\"http://www.w3.org/2000/svg\" height=\"24px\"viewBox=\"0 0 24 24\"\n",
              "     width=\"24px\">\n",
              "    <g>\n",
              "        <path d=\"M19 3H5c-1.1 0-2 .9-2 2v14c0 1.1.9 2 2 2h14c1.1 0 2-.9 2-2V5c0-1.1-.9-2-2-2zM9 17H7v-7h2v7zm4 0h-2V7h2v10zm4 0h-2v-4h2v4z\"/>\n",
              "    </g>\n",
              "</svg>\n",
              "  </button>\n",
              "\n",
              "<style>\n",
              "  .colab-df-quickchart {\n",
              "      --bg-color: #E8F0FE;\n",
              "      --fill-color: #1967D2;\n",
              "      --hover-bg-color: #E2EBFA;\n",
              "      --hover-fill-color: #174EA6;\n",
              "      --disabled-fill-color: #AAA;\n",
              "      --disabled-bg-color: #DDD;\n",
              "  }\n",
              "\n",
              "  [theme=dark] .colab-df-quickchart {\n",
              "      --bg-color: #3B4455;\n",
              "      --fill-color: #D2E3FC;\n",
              "      --hover-bg-color: #434B5C;\n",
              "      --hover-fill-color: #FFFFFF;\n",
              "      --disabled-bg-color: #3B4455;\n",
              "      --disabled-fill-color: #666;\n",
              "  }\n",
              "\n",
              "  .colab-df-quickchart {\n",
              "    background-color: var(--bg-color);\n",
              "    border: none;\n",
              "    border-radius: 50%;\n",
              "    cursor: pointer;\n",
              "    display: none;\n",
              "    fill: var(--fill-color);\n",
              "    height: 32px;\n",
              "    padding: 0;\n",
              "    width: 32px;\n",
              "  }\n",
              "\n",
              "  .colab-df-quickchart:hover {\n",
              "    background-color: var(--hover-bg-color);\n",
              "    box-shadow: 0 1px 2px rgba(60, 64, 67, 0.3), 0 1px 3px 1px rgba(60, 64, 67, 0.15);\n",
              "    fill: var(--button-hover-fill-color);\n",
              "  }\n",
              "\n",
              "  .colab-df-quickchart-complete:disabled,\n",
              "  .colab-df-quickchart-complete:disabled:hover {\n",
              "    background-color: var(--disabled-bg-color);\n",
              "    fill: var(--disabled-fill-color);\n",
              "    box-shadow: none;\n",
              "  }\n",
              "\n",
              "  .colab-df-spinner {\n",
              "    border: 2px solid var(--fill-color);\n",
              "    border-color: transparent;\n",
              "    border-bottom-color: var(--fill-color);\n",
              "    animation:\n",
              "      spin 1s steps(1) infinite;\n",
              "  }\n",
              "\n",
              "  @keyframes spin {\n",
              "    0% {\n",
              "      border-color: transparent;\n",
              "      border-bottom-color: var(--fill-color);\n",
              "      border-left-color: var(--fill-color);\n",
              "    }\n",
              "    20% {\n",
              "      border-color: transparent;\n",
              "      border-left-color: var(--fill-color);\n",
              "      border-top-color: var(--fill-color);\n",
              "    }\n",
              "    30% {\n",
              "      border-color: transparent;\n",
              "      border-left-color: var(--fill-color);\n",
              "      border-top-color: var(--fill-color);\n",
              "      border-right-color: var(--fill-color);\n",
              "    }\n",
              "    40% {\n",
              "      border-color: transparent;\n",
              "      border-right-color: var(--fill-color);\n",
              "      border-top-color: var(--fill-color);\n",
              "    }\n",
              "    60% {\n",
              "      border-color: transparent;\n",
              "      border-right-color: var(--fill-color);\n",
              "    }\n",
              "    80% {\n",
              "      border-color: transparent;\n",
              "      border-right-color: var(--fill-color);\n",
              "      border-bottom-color: var(--fill-color);\n",
              "    }\n",
              "    90% {\n",
              "      border-color: transparent;\n",
              "      border-bottom-color: var(--fill-color);\n",
              "    }\n",
              "  }\n",
              "</style>\n",
              "\n",
              "  <script>\n",
              "    async function quickchart(key) {\n",
              "      const quickchartButtonEl =\n",
              "        document.querySelector('#' + key + ' button');\n",
              "      quickchartButtonEl.disabled = true;  // To prevent multiple clicks.\n",
              "      quickchartButtonEl.classList.add('colab-df-spinner');\n",
              "      try {\n",
              "        const charts = await google.colab.kernel.invokeFunction(\n",
              "            'suggestCharts', [key], {});\n",
              "      } catch (error) {\n",
              "        console.error('Error during call to suggestCharts:', error);\n",
              "      }\n",
              "      quickchartButtonEl.classList.remove('colab-df-spinner');\n",
              "      quickchartButtonEl.classList.add('colab-df-quickchart-complete');\n",
              "    }\n",
              "    (() => {\n",
              "      let quickchartButtonEl =\n",
              "        document.querySelector('#df-0853d9a7-3fda-4376-a437-51e4c680aad8 button');\n",
              "      quickchartButtonEl.style.display =\n",
              "        google.colab.kernel.accessAllowed ? 'block' : 'none';\n",
              "    })();\n",
              "  </script>\n",
              "</div>\n",
              "    </div>\n",
              "  </div>\n"
            ]
          },
          "metadata": {},
          "execution_count": 11
        }
      ],
      "source": [
        "# Divide los datos en entrenamiento y prueba\n",
        "train, test = train_test_split(data, test_size=0.2, stratify=data['Sentiment'], random_state=42, shuffle = True)\n",
        "\n",
        "# Ahora divide el conjunto de entrenamiento en entrenamiento y validación\n",
        "train, val = train_test_split(train, test_size=0.2, stratify=train['Sentiment'], random_state=42, shuffle = True)\n",
        "\n",
        "print(\"Tamaño de datos de entrenamiento:\", train.shape)\n",
        "print(\"Tamaño de datos de validación:\", val.shape)\n",
        "print(\"Tamaño de datos de prueba:\", test.shape)\n",
        "\n",
        "train"
      ]
    },
    {
      "cell_type": "markdown",
      "metadata": {
        "id": "_N2rXPU3xD_g"
      },
      "source": [
        "Revisamos la dristibución de sentimientos del conjunto de entrenamiento:"
      ]
    },
    {
      "cell_type": "code",
      "execution_count": null,
      "metadata": {
        "colab": {
          "base_uri": "https://localhost:8080/",
          "height": 472
        },
        "id": "J9luU-3EPCt3",
        "outputId": "e8de5ba5-ce6a-4354-c1b2-5ccf28296f1b"
      },
      "outputs": [
        {
          "output_type": "display_data",
          "data": {
            "text/plain": [
              "<Figure size 640x480 with 1 Axes>"
            ],
            "image/png": "[encoded data removed]"
          },
          "metadata": {}
        }
      ],
      "source": [
        "# Create a bar plot to visualize the distribution\n",
        "unique, counts = np.unique(train['Sentiment'], return_counts=True)\n",
        "plt.bar(unique, counts)\n",
        "plt.xlabel('Sentiment Category')\n",
        "plt.ylabel('Frequency')\n",
        "plt.title('Distribution of Sentiment Categories')\n",
        "plt.show()"
      ]
    },
    {
      "cell_type": "markdown",
      "metadata": {
        "id": "prG1C9Q6w7Wk"
      },
      "source": [
        "Separamos las oraciones y el sentimiento que representan.\n"
      ]
    },
    {
      "cell_type": "code",
      "source": [
        "X_train, X_test, X_val= train['Sentence'], test['Sentence'], val['Sentence']\n",
        "y_train, y_test, y_val= train['Sentiment'], test['Sentiment'], val['Sentiment']\n",
        "\n",
        "print(\"x_train\", X_train.shape, \" y_train:\", y_train.shape)\n",
        "print(\"x_test:\", X_test.shape, \"y_test\", y_test.shape)\n",
        "print(\"x_val\", X_val.shape, \"y_val:\", y_val.shape)\n",
        "\n",
        "X_train"
      ],
      "metadata": {
        "colab": {
          "base_uri": "https://localhost:8080/"
        },
        "id": "omufr61v2guj",
        "outputId": "37e828bc-397b-4e4f-ebde-86594924923e"
      },
      "execution_count": null,
      "outputs": [
        {
          "output_type": "stream",
          "name": "stdout",
          "text": [
            "x_train (3738,)  y_train: (3738,)\n",
            "x_test: (1169,) y_test (1169,)\n",
            "x_val (935,) y_val: (935,)\n"
          ]
        },
        {
          "output_type": "execute_result",
          "data": {
            "text/plain": [
              "3097    Digia will also set up two subsidiaries , Digi...\n",
              "5048    $BBRY Sierra. Has a great cash balance and imp...\n",
              "5727    Britain's FTSE gains, Land Securities up after...\n",
              "185     The Finnish company sold its UK operation - co...\n",
              "4265    Russian Media Ventures ' minority shareholder ...\n",
              "                              ...                        \n",
              "326                 ( I&H ) in a move to enhance growth .\n",
              "2821    In addition , a further 29 employees can be la...\n",
              "4365    The paper industry 's de-inking sludge , which...\n",
              "1603    $JE LOOKS like we are bouncing.  Would be nice...\n",
              "200     A survey conducted by Taloustutkimus for Sampo...\n",
              "Name: Sentence, Length: 3738, dtype: object"
            ]
          },
          "metadata": {},
          "execution_count": 13
        }
      ]
    },
    {
      "cell_type": "markdown",
      "source": [
        "Una de las ventajas de utilizar transformers es que también incorporan una capa de preprocesamiento de datos, lo que simplifica el proceso para utilizarlos."
      ],
      "metadata": {
        "id": "rLov-CkRwoP9"
      }
    },
    {
      "cell_type": "markdown",
      "metadata": {
        "id": "1Okx5TkdXp08"
      },
      "source": [
        "##**4. Modelamiento**"
      ]
    },
    {
      "cell_type": "markdown",
      "source": [
        "###Modelo distilbert de huggingface\n",
        "\n",
        "Es un modelo de lenguaje natural basado en la arquitectura de BERT, pero más pequeño, rápido y económico. Fue propuesto por Hugging Face en 2019. El modelo fue entrenado mediante destilación de BERT base y tiene un 40% menos de parámetros que bert-base-uncased, corre un 60% más rápido y preserva más del 95% del rendimiento de BERT."
      ],
      "metadata": {
        "id": "iW1SiArAFLt_"
      }
    },
    {
      "cell_type": "markdown",
      "source": [
        "Para trabajar con los transformes de huggingface se utiliza la librería transformers, en este caso importamos el tokenizador (pro-proceamiento que requiere el transformers y el modelo)"
      ],
      "metadata": {
        "id": "ZPXeOXAg87MO"
      }
    },
    {
      "cell_type": "markdown",
      "source": [
        "Hacemos el preprocesamiento de nuestros conjuntos de datos:"
      ],
      "metadata": {
        "id": "Lacaf7K49ebw"
      }
    },
    {
      "cell_type": "code",
      "source": [
        "# Tokenización\n",
        "tokenizer = DistilBertTokenizer.from_pretrained(\"distilbert-base-uncased\")\n",
        "X_train = [tokenizer.encode(text, add_special_tokens=True, truncation=True, max_length=128) for text in X_train]\n",
        "X_val = [tokenizer.encode(text, add_special_tokens=True, truncation=True, max_length=128) for text in X_val]\n",
        "X_test = [tokenizer.encode(text, add_special_tokens=True, truncation=True, max_length=128) for text in X_test]\n"
      ],
      "metadata": {
        "id": "HVWxaUuFMJtw",
        "colab": {
          "base_uri": "https://localhost:8080/",
          "height": 145,
          "referenced_widgets": [
            "c8ce4929247c49a6a7a4f41f6b3581be",
            "a813f9920fd8427abe33c5f6885b5b89",
            "41db4fd8c3a54a80b8781c4c433d546b",
            "e2503d3b51a24c46ad57e2ccf68d218c",
            "b6a590e89ce940cc858c5adecb45afc6",
            "75a9e83e1c6547e8b7bf77c55c338494",
            "15e350d544c34a5eb01d388acd22e356",
            "f6eabdb3ddfe490385caf52fc842e1ae",
            "67f28b5e08934135bfa769192f9a5cf0",
            "386e9ce0203b42359833eae34a1cef41",
            "7d5981bb3e2c41fcaf9c4d50a6d52f72",
            "a93d86e113c04068be2d0762f36ddd60",
            "b6d6c794dcf0464392c8136e94d1c695",
            "5981f65cfc1e4fc3b983d6ba59aa4b11",
            "588a177fda2b4a30b7aad7b6ecadba66",
            "d001c4a3913e41b08b5712c4dd731a2a",
            "674018a4c20144a28eb7d53ebae656f8",
            "2dc4804bd1da44ba886e4fad59d6cd9e",
            "8086d0ce007d48fd93cb488dbce2c929",
            "8e3855fa6d4747f9aa94ba6692e4ccb2",
            "b74c539d1fd4493c8650e6856b64ff30",
            "cd0cdef011444230836b879d37113651",
            "5b4095e3eb8847ef8fa75cb58dbf47de",
            "76106702a9fd4e9282542602624ad318",
            "5a0dc8360eb545f285a4705c3182b38c",
            "86b8242c12a34395a12e898ba55aecc7",
            "2c607621226d4878b501afd7ee2dbefa",
            "51e87e27235b4497946c0e0cdf09562d",
            "a51698ddf62449b68c600f2aed4d334b",
            "1ef5b712490c4d7b8693512f1a32622e",
            "80ce05cb2d174970a10c3d5c37db54a9",
            "d5e800a9a2024f8ea43a0656341b5b38",
            "4f3137ac7f484b90a922ae0c09bba08d",
            "94985a18b3bc4a9095c80c4b18ab89ad",
            "7d2bfe9fd78e4ba783dc4ef035db6a6b",
            "d3ab38558800487d99a01f64a2a1bab4",
            "e7dc8c8392904ab3a7b49a9e10198b22",
            "34ff3c42044e44edb55ddb292bf6dd3e",
            "bbbd52fc5c404b13ae4012ab8f1c7292",
            "c08568d5d4fa4327907d2f7d6475e85a",
            "2b9693a43fd24c7d85730b4e8339c7e3",
            "10996f87d14a4cc1bc461338e17415df",
            "6c56dd3157e5497693956fb71d2a21ab",
            "2d710a424f59415b99feff877e5a59c3"
          ]
        },
        "outputId": "7f77658c-f828-46cf-dbee-273924fbc21c"
      },
      "execution_count": null,
      "outputs": [
        {
          "output_type": "display_data",
          "data": {
            "text/plain": [
              "Downloading (…)okenizer_config.json:   0%|          | 0.00/28.0 [00:00<?, ?B/s]"
            ],
            "application/vnd.jupyter.widget-view+json": {
              "version_major": 2,
              "version_minor": 0,
              "model_id": "c8ce4929247c49a6a7a4f41f6b3581be"
            }
          },
          "metadata": {}
        },
        {
          "output_type": "display_data",
          "data": {
            "text/plain": [
              "Downloading (…)solve/main/vocab.txt:   0%|          | 0.00/232k [00:00<?, ?B/s]"
            ],
            "application/vnd.jupyter.widget-view+json": {
              "version_major": 2,
              "version_minor": 0,
              "model_id": "a93d86e113c04068be2d0762f36ddd60"
            }
          },
          "metadata": {}
        },
        {
          "output_type": "display_data",
          "data": {
            "text/plain": [
              "Downloading (…)/main/tokenizer.json:   0%|          | 0.00/466k [00:00<?, ?B/s]"
            ],
            "application/vnd.jupyter.widget-view+json": {
              "version_major": 2,
              "version_minor": 0,
              "model_id": "5b4095e3eb8847ef8fa75cb58dbf47de"
            }
          },
          "metadata": {}
        },
        {
          "output_type": "display_data",
          "data": {
            "text/plain": [
              "Downloading (…)lve/main/config.json:   0%|          | 0.00/483 [00:00<?, ?B/s]"
            ],
            "application/vnd.jupyter.widget-view+json": {
              "version_major": 2,
              "version_minor": 0,
              "model_id": "94985a18b3bc4a9095c80c4b18ab89ad"
            }
          },
          "metadata": {}
        }
      ]
    },
    {
      "cell_type": "markdown",
      "source": [
        "Ahora vamos a hacer un padding, lo cual es una práctica común en el procesamiento de texto para asegurar que todas las secuencias de texto tengan la misma longitud."
      ],
      "metadata": {
        "id": "Wz9h25Mm-L4D"
      }
    },
    {
      "cell_type": "code",
      "source": [
        "max_sequence_length = max(len(seq) for seq in X_train)"
      ],
      "metadata": {
        "id": "E4zMy18ZPx1G"
      },
      "execution_count": null,
      "outputs": []
    },
    {
      "cell_type": "code",
      "source": [
        "max_sequence_length"
      ],
      "metadata": {
        "id": "Q5QmadkuAz8P",
        "outputId": "bdc44a42-d1b3-43a0-c8d1-55eb8376f699",
        "colab": {
          "base_uri": "https://localhost:8080/"
        }
      },
      "execution_count": null,
      "outputs": [
        {
          "output_type": "execute_result",
          "data": {
            "text/plain": [
              "98"
            ]
          },
          "metadata": {},
          "execution_count": 16
        }
      ]
    },
    {
      "cell_type": "code",
      "source": [
        "#\n",
        "X_train = tf.keras.preprocessing.sequence.pad_sequences(X_train, maxlen=max_sequence_length, padding='post', truncating='post')\n",
        "X_val = tf.keras.preprocessing.sequence.pad_sequences(X_val, maxlen=max_sequence_length, padding='post', truncating='post')\n",
        "X_test = tf.keras.preprocessing.sequence.pad_sequences(X_test, maxlen=max_sequence_length, padding='post', truncating='post')"
      ],
      "metadata": {
        "id": "dtduPJvwQQq6"
      },
      "execution_count": null,
      "outputs": []
    },
    {
      "cell_type": "markdown",
      "source": [
        "Ahora generamos nuestro modelo a partir del modelo DistilBERT"
      ],
      "metadata": {
        "id": "etpCWcJe-dOR"
      }
    },
    {
      "cell_type": "code",
      "source": [
        "# Crear el modelo DistilBERT\n",
        "model = TFDistilBertForSequenceClassification.from_pretrained(\"distilbert-base-uncased\")\n",
        "\n",
        "# Agregar una capa de clasificación explícita\n",
        "classification_layer = tf.keras.layers.Dense(3, activation='softmax')  # 'num_classes' es el número de clases en tu tarea de clasificación\n",
        "\n",
        "# Crear el modelo combinado\n",
        "input_ids = tf.keras.layers.Input(shape=(max_sequence_length,), dtype=tf.int32)\n",
        "outputs = model(input_ids)[0]  # Salidas de la capa de logits\n",
        "outputs = classification_layer(outputs)\n",
        "\n",
        "combined_model = tf.keras.Model(inputs=input_ids, outputs=outputs)\n",
        "\n",
        "# Compilar el modelo\n",
        "optimizer = tf.keras.optimizers.Adam(learning_rate=2e-5)\n",
        "loss_fn = tf.keras.losses.SparseCategoricalCrossentropy(from_logits=False)  # from_logits=False ya que estamos usando 'softmax' en la capa de clasificación\n",
        "combined_model.compile(optimizer=optimizer, loss=loss_fn, metrics=['accuracy'])\n",
        "\n",
        "\n"
      ],
      "metadata": {
        "colab": {
          "base_uri": "https://localhost:8080/",
          "height": 160,
          "referenced_widgets": [
            "7322dfcae9b7466e8781b07f34e10307",
            "071aae8b36d74c8ba2b46c93ac9426a8",
            "bb6bbba393ad42d4b2631862ced99073",
            "1d7a9d5f2ccf474894d65342fe000e6d",
            "cb276e6c91994c2395a9f94c615bc1b9",
            "47c8cff6e96c4535b09bb6654c06d88c",
            "cdbe9470db854c32b9d655eebc59247e",
            "3d773886c3b74ad2a4cbf4cd1926e650",
            "f98a2572ce5d4c84bfba57c510e69264",
            "8fd62aeed28141f0962050f9adccc2f7",
            "ead4225adeb54534aa87ed15f49a118b"
          ]
        },
        "id": "nPujNIb2OnPO",
        "outputId": "dffce361-3b85-45fd-c005-fec316df8f4f"
      },
      "execution_count": null,
      "outputs": [
        {
          "output_type": "display_data",
          "data": {
            "text/plain": [
              "Downloading model.safetensors:   0%|          | 0.00/268M [00:00<?, ?B/s]"
            ],
            "application/vnd.jupyter.widget-view+json": {
              "version_major": 2,
              "version_minor": 0,
              "model_id": "7322dfcae9b7466e8781b07f34e10307"
            }
          },
          "metadata": {}
        },
        {
          "output_type": "stream",
          "name": "stderr",
          "text": [
            "Some weights of the PyTorch model were not used when initializing the TF 2.0 model TFDistilBertForSequenceClassification: ['vocab_projector.bias', 'vocab_transform.weight', 'vocab_transform.bias', 'vocab_layer_norm.weight', 'vocab_layer_norm.bias']\n",
            "- This IS expected if you are initializing TFDistilBertForSequenceClassification from a PyTorch model trained on another task or with another architecture (e.g. initializing a TFBertForSequenceClassification model from a BertForPreTraining model).\n",
            "- This IS NOT expected if you are initializing TFDistilBertForSequenceClassification from a PyTorch model that you expect to be exactly identical (e.g. initializing a TFBertForSequenceClassification model from a BertForSequenceClassification model).\n",
            "Some weights or buffers of the TF 2.0 model TFDistilBertForSequenceClassification were not initialized from the PyTorch model and are newly initialized: ['pre_classifier.weight', 'pre_classifier.bias', 'classifier.weight', 'classifier.bias']\n",
            "You should probably TRAIN this model on a down-stream task to be able to use it for predictions and inference.\n"
          ]
        }
      ]
    },
    {
      "cell_type": "code",
      "source": [
        "# Entrenamiento\n",
        "history = combined_model.fit(\n",
        "    X_train,\n",
        "    y_train,\n",
        "    validation_data=(X_val, y_val),\n",
        "    epochs=15,\n",
        "    batch_size=16,\n",
        "    callbacks= EarlyStopping(monitor='val_accuracy', patience=3)\n",
        ")"
      ],
      "metadata": {
        "colab": {
          "base_uri": "https://localhost:8080/"
        },
        "id": "QY13kumzMQZH",
        "outputId": "d6193cb9-4744-45e0-8913-6ea5db54fa04"
      },
      "execution_count": null,
      "outputs": [
        {
          "output_type": "stream",
          "name": "stdout",
          "text": [
            "Epoch 1/15\n",
            "234/234 [==============================] - 108s 295ms/step - loss: 0.9643 - accuracy: 0.5680 - val_loss: 0.9461 - val_accuracy: 0.5508\n",
            "Epoch 2/15\n",
            "234/234 [==============================] - 50s 214ms/step - loss: 0.8240 - accuracy: 0.6602 - val_loss: 0.6368 - val_accuracy: 0.7412\n",
            "Epoch 3/15\n",
            "234/234 [==============================] - 48s 205ms/step - loss: 0.5253 - accuracy: 0.7841 - val_loss: 0.5138 - val_accuracy: 0.7561\n",
            "Epoch 4/15\n",
            "234/234 [==============================] - 44s 189ms/step - loss: 0.3533 - accuracy: 0.8427 - val_loss: 0.5142 - val_accuracy: 0.7690\n",
            "Epoch 5/15\n",
            "234/234 [==============================] - 45s 191ms/step - loss: 0.2589 - accuracy: 0.8791 - val_loss: 0.5530 - val_accuracy: 0.7743\n",
            "Epoch 6/15\n",
            "234/234 [==============================] - 47s 200ms/step - loss: 0.2116 - accuracy: 0.8919 - val_loss: 0.6825 - val_accuracy: 0.7422\n",
            "Epoch 7/15\n",
            "234/234 [==============================] - 44s 190ms/step - loss: 0.1931 - accuracy: 0.8981 - val_loss: 0.6242 - val_accuracy: 0.7572\n",
            "Epoch 8/15\n",
            "234/234 [==============================] - 45s 192ms/step - loss: 0.1682 - accuracy: 0.9104 - val_loss: 0.6790 - val_accuracy: 0.7561\n"
          ]
        }
      ]
    },
    {
      "cell_type": "markdown",
      "source": [
        "#### Evaluación"
      ],
      "metadata": {
        "id": "OoKAkNJZ5iaH"
      }
    },
    {
      "cell_type": "code",
      "source": [
        "# Evaluación\n",
        "results = combined_model.evaluate(X_test, y_test)\n",
        "print(\"Loss:\", results[0])\n",
        "print(\"Accuracy:\", results[1])"
      ],
      "metadata": {
        "id": "EB0_DLFeNI0m",
        "colab": {
          "base_uri": "https://localhost:8080/"
        },
        "outputId": "814a1b8f-05ed-49ee-b68e-8b8103ea87a6"
      },
      "execution_count": null,
      "outputs": [
        {
          "output_type": "stream",
          "name": "stdout",
          "text": [
            "37/37 [==============================] - 4s 106ms/step - loss: 0.6135 - accuracy: 0.7725\n",
            "Loss: 0.6134923696517944\n",
            "Accuracy: 0.772455096244812\n"
          ]
        }
      ]
    },
    {
      "cell_type": "code",
      "source": [
        "y_pred = combined_model.predict(X_train)\n",
        "y_pred = np.argmax(y_pred, axis=1)\n",
        "\n",
        "print(classification_report(y_train, y_pred))"
      ],
      "metadata": {
        "colab": {
          "base_uri": "https://localhost:8080/"
        },
        "id": "-9ZxzDfe4HTn",
        "outputId": "c6ae07bd-d2a4-42fd-c2ee-a090506e6708"
      },
      "execution_count": null,
      "outputs": [
        {
          "output_type": "stream",
          "name": "stdout",
          "text": [
            "117/117 [==============================] - 14s 104ms/step\n",
            "              precision    recall  f1-score   support\n",
            "\n",
            "           0       0.68      0.91      0.78       550\n",
            "           1       0.97      0.88      0.93      2003\n",
            "           2       1.00      1.00      1.00      1185\n",
            "\n",
            "    accuracy                           0.92      3738\n",
            "   macro avg       0.88      0.93      0.90      3738\n",
            "weighted avg       0.94      0.92      0.93      3738\n",
            "\n"
          ]
        }
      ]
    },
    {
      "cell_type": "code",
      "source": [
        "y_pred = combined_model.predict(X_test)\n",
        "y_pred = np.argmax(y_pred, axis=1)\n",
        "\n",
        "print(classification_report(y_test, y_pred))"
      ],
      "metadata": {
        "colab": {
          "base_uri": "https://localhost:8080/"
        },
        "outputId": "f9798a35-cd71-4657-d1a0-0b6e9f9444e2",
        "id": "bimjvGcx4P84"
      },
      "execution_count": null,
      "outputs": [
        {
          "output_type": "stream",
          "name": "stdout",
          "text": [
            "37/37 [==============================] - 4s 104ms/step\n",
            "              precision    recall  f1-score   support\n",
            "\n",
            "           0       0.43      0.55      0.48       172\n",
            "           1       0.86      0.77      0.82       626\n",
            "           2       0.84      0.87      0.85       371\n",
            "\n",
            "    accuracy                           0.77      1169\n",
            "   macro avg       0.71      0.73      0.72      1169\n",
            "weighted avg       0.79      0.77      0.78      1169\n",
            "\n"
          ]
        }
      ]
    },
    {
      "cell_type": "markdown",
      "metadata": {
        "id": "NrU0sbRo0zoU"
      },
      "source": [
        "##**5. Exportar el modelo**"
      ]
    },
    {
      "cell_type": "markdown",
      "source": [
        "Un [SavedModel](https://www.tensorflow.org/guide/saved_model) en TensorFlow es un formato de archivo que se utiliza para guardar modelos, incluyendo su estructura, parámetros y gráficos de computación de una manera que es independiente del lenguaje y del entorno. Esto permite exportar modelos de TensorFlow y utilizarlos en diferentes entornos, como TensorFlow en Python, TensorFlow en C++, TensorFlow Serving, TensorFlow.js, etc."
      ],
      "metadata": {
        "id": "Ge64-jR003NA"
      }
    },
    {
      "cell_type": "markdown",
      "source": [
        "Existen diferencias significativas entre los formatos `SavedModel`, `HDF5 (H5)` y `Pickle (PCKL)` en términos de su funcionalidad y su propósito. A continuación, se detallan las diferencias clave entre estos tres formatos:\n",
        "\n",
        "1. **SavedModel**:\n",
        "   - **Propósito**: El formato `SavedModel` es específico de TensorFlow y está diseñado para guardar modelos de aprendizaje automático, incluyendo su estructura, parámetros, gráficos de computación y metadatos. Está optimizado para la interoperabilidad y la reutilización en entornos de TensorFlow.\n",
        "   - **Portabilidad**: Puede ser utilizado en diferentes entornos de TensorFlow, incluyendo TensorFlow en Python, TensorFlow en C++, TensorFlow Serving y otros. Esto lo hace ideal para la implementación en una variedad de plataformas y servicios de producción.\n",
        "\n",
        "2. **HDF5 (H5)**:\n",
        "   - **Propósito**: El formato HDF5 es un formato de archivo de datos jerárquico utilizado para almacenar una amplia variedad de datos científicos y estructurados. En el contexto de modelos de aprendizaje automático, se utiliza para guardar la arquitectura del modelo (capas, conexiones, etc.) y los valores de los pesos del modelo.\n",
        "   - **Portabilidad**: Puede ser utilizado en diferentes bibliotecas y lenguajes, no solo en TensorFlow. Esto lo hace útil para la interoperabilidad entre diferentes frameworks y herramientas de aprendizaje automático.\n",
        "\n",
        "3. **Pickle (PCKL)**:\n",
        "   - **Propósito**: El formato `Pickle` es un módulo de serialización de Python que se utiliza para guardar y cargar objetos de Python. Puede utilizarse para guardar objetos en general, incluyendo modelos de aprendizaje automático. Sin embargo, no está diseñado específicamente para modelos de aprendizaje automático y no almacena información sobre la arquitectura de un modelo ni su gráfico de cómputo.\n",
        "   - **Portabilidad**: Puede ser utilizado dentro de Python y es adecuado para guardar y cargar objetos de Python, pero no es tan adecuado para la interoperabilidad entre diferentes lenguajes o entornos.\n",
        "\n"
      ],
      "metadata": {
        "id": "EWsuw5Ds28WO"
      }
    },
    {
      "cell_type": "code",
      "source": [
        "import os\n",
        "\n",
        "#Crear la ruta donde almacenar el modelo:\n",
        "model_save_path = \"/content/model\"\n",
        "\n",
        "if not os.path.exists(model_save_path):\n",
        "    os.makedirs(model_save_path)\n",
        "\n",
        "# Guardar el modelo entrenado en un archivo\n",
        "combined_model.save(model_save_path)"
      ],
      "metadata": {
        "id": "Z6Lg43Do1alf"
      },
      "execution_count": null,
      "outputs": []
    },
    {
      "cell_type": "code",
      "source": [
        "import shutil\n",
        "\n",
        "zip_file_path = \"/content/exported_model\"\n",
        "\n",
        "# Comprimir la carpeta del modelo en un archivo ZIP\n",
        "shutil.make_archive(zip_file_path, 'zip', model_save_path)\n"
      ],
      "metadata": {
        "colab": {
          "base_uri": "https://localhost:8080/",
          "height": 36
        },
        "id": "wHNmudpe35ZJ",
        "outputId": "751dbfdd-8d00-4818-deb0-a54becdcf1ca"
      },
      "execution_count": null,
      "outputs": [
        {
          "output_type": "execute_result",
          "data": {
            "text/plain": [
              "'/content/exported_model.zip'"
            ],
            "application/vnd.google.colaboratory.intrinsic+json": {
              "type": "string"
            }
          },
          "metadata": {},
          "execution_count": 24
        }
      ]
    },
    {
      "cell_type": "code",
      "source": [
        "from google.colab import files\n",
        "\n",
        "files.download(\"/content/exported_model.zip\")\n"
      ],
      "metadata": {
        "colab": {
          "base_uri": "https://localhost:8080/",
          "height": 17
        },
        "id": "_zSmC1KW7lAH",
        "outputId": "7223ca77-a7cd-4f51-f132-6a12af0b2f0c"
      },
      "execution_count": null,
      "outputs": [
        {
          "output_type": "display_data",
          "data": {
            "text/plain": [
              "<IPython.core.display.Javascript object>"
            ],
            "application/javascript": [
              "\n",
              "    async function download(id, filename, size) {\n",
              "      if (!google.colab.kernel.accessAllowed) {\n",
              "        return;\n",
              "      }\n",
              "      const div = document.createElement('div');\n",
              "      const label = document.createElement('label');\n",
              "      label.textContent = `Downloading \"${filename}\": `;\n",
              "      div.appendChild(label);\n",
              "      const progress = document.createElement('progress');\n",
              "      progress.max = size;\n",
              "      div.appendChild(progress);\n",
              "      document.body.appendChild(div);\n",
              "\n",
              "      const buffers = [];\n",
              "      let downloaded = 0;\n",
              "\n",
              "      const channel = await google.colab.kernel.comms.open(id);\n",
              "      // Send a message to notify the kernel that we're ready.\n",
              "      channel.send({})\n",
              "\n",
              "      for await (const message of channel.messages) {\n",
              "        // Send a message to notify the kernel that we're ready.\n",
              "        channel.send({})\n",
              "        if (message.buffers) {\n",
              "          for (const buffer of message.buffers) {\n",
              "            buffers.push(buffer);\n",
              "            downloaded += buffer.byteLength;\n",
              "            progress.value = downloaded;\n",
              "          }\n",
              "        }\n",
              "      }\n",
              "      const blob = new Blob(buffers, {type: 'application/binary'});\n",
              "      const a = document.createElement('a');\n",
              "      a.href = window.URL.createObjectURL(blob);\n",
              "      a.download = filename;\n",
              "      div.appendChild(a);\n",
              "      a.click();\n",
              "      div.remove();\n",
              "    }\n",
              "  "
            ]
          },
          "metadata": {}
        },
        {
          "output_type": "display_data",
          "data": {
            "text/plain": [
              "<IPython.core.display.Javascript object>"
            ],
            "application/javascript": [
              "download(\"download_40a84bae-4254-4697-b059-cead8bc52806\", \"exported_model.zip\", 611913548)"
            ]
          },
          "metadata": {}
        }
      ]
    },
    {
      "cell_type": "markdown",
      "metadata": {
        "id": "GLF5ePZx9nRz"
      },
      "source": [
        "##**6. Crear el aplicativo - Streamlit**"
      ]
    },
    {
      "cell_type": "markdown",
      "source": [
        "Streamlit, un marco de desarrollo de código abierto en Python, se destaca por su capacidad para facilitar la creación de aplicaciones web interactivas y visualizaciones de datos de forma eficiente. Su singularidad radica en su enfoque hacia la simplicidad y facilidad de uso, permitiendo a los desarrolladores construir aplicaciones web con un mínimo de código.\n",
        "\n",
        "Este marco es especialmente útil para el prototipado rápido, la creación de paneles de control interactivos y aplicaciones de datos, todo ello sin necesidad de tener experiencia previa en desarrollo web. Su diseño intuitivo y accesible lo convierte en una herramienta ideal para los desarrolladores que buscan optimizar su flujo de trabajo."
      ],
      "metadata": {
        "id": "rg4GrxfL977f"
      }
    },
    {
      "cell_type": "markdown",
      "source": [
        "En un entorno de desarrollo como Visual Studio Code (VS Code), tenemos el modelo exportado (exported_model), el código de la aplicación (app.py) y eel ambiente virtual (venv) para el cual se tienen instaladas las librerias streamlit, tensorflow y transformers.\n",
        "\n",
        "Se hace el cargue del modelo mediante tf.saved_model.load:\n",
        "\n",
        "```model = tf.saved_model.load(\"exported_model\")```"
      ],
      "metadata": {
        "id": "AvqU5Y72D5Fb"
      }
    },
    {
      "cell_type": "markdown",
      "source": [
        "![image.png](data:image/png;base64,iVBORw0KGgoAAAANSUhEUgAAB3oAAAP2CAYAAAAB+JxZAAAAAXNSR0IArs4c6QAAAARnQU1BAACxjwv8YQUAAAAJcEhZcwAADsMAAA7DAcdvqGQAAABlaVRYdFNuaXBNZXRhZGF0YQAAAAAAeyJjbGlwUG9pbnRzIjpbeyJ4IjowLCJ5IjowfSx7IngiOjE5MTQsInkiOjB9LHsieCI6MTkxNCwieSI6MTAxNH0seyJ4IjowLCJ5IjoxMDE0fV19mKLHMgAA/zRJREFUeF7s3Qdg1eW9P/53QvbeQAgJCUnYIyQMxTBEBRlitW6xolV6i9xSb6m3tr3Vf6vW2mvpVfsrtlVbHFRrW1QUnEhE2XsHQgYkIXvv8f9+nu9zTk72Dkl4v3q/93yf8X2+45wA5nM+z2M3bVpsPYiIiIiIiKhN9fWt/6dTW21E1Hl2dnZ6r7m22oiIiIiIiK4k9vqViIiIiIiI2tBe4Km9jYhMLf18NN1a01YbERERERHRlYYZvURERERERJ3EDF6ivsUALxERERERUXPM6CUiIiIiIuqkjmQeElH38OeMiIiIiIiobQz0EhERERERdYNtMIpBKaKu4c8RERERERFR53HqZiIiIiIiIiIiIiIiIiKiAYaBXiIiIiIasLy9veHm5gYnJ0ejxOwvIiIioo6pR1VVNcrKylBYWKjriIiIiGigYaCXiIiIiAYcR0dHBAQEqH35BWVtbS3q6upUmYiIiIjaZm9vjyFDhqgvzImcnBxUV1erfSIiIiIaOLhGLxERERENOBLkleCuZKDILyUZ5CUiIiLqOPm3k/wbSv4tVVtbY/0CHRERERENLAz0EhEREdGAItM129nZoaSkRNcQERERUVeVlJSqf1vJv7GIiIiIaGDp8UCvo7sfhsbchOFX3QU7J3P6FyIiIiKiniJTDMp0zURERETUM0pLS63TOBMRERHRwNGja/Q6ew9D+PWPoK6qAiExc1Xdqe1vIevgFtQUXVJlIiIiIqLuCAsLRV5evpq6mYioPcHBwZg9+2oEBQUZJTs1RWlKSip27tyJoqIisxMR0RVO1uv18/NVfz4SERG1RNZ3j4+/BiEhI2FnpyvbZYe0tDQkJCR0eMmlwXYeot7WY4FeZ79QhM57WO3X11RhxJR4tS8KL5zCoVfX6BIRERERUdeFhYUhOztbl4iIWjd58iTExU1HcnIydu3apWYD8PPzU4FfHx8fbNu2DVlZ/POEiEgEBgYiJSVFl4iIiBobPnw45syJh6Ojo64xyZrvO3YkICMjQ9c0kGNmzZpp/Ft8d4vtLekvx7TU3pXzCDOoHI+RI0caJUtIriFoLBq3M6DcUffee6/ea+z111/Xe/2HXGt719WRPk31yNTNrkFRGDHnIdTW1autxvjg1dYb+3rzGDFG9+w9S5YsVpuYN2+edb+/iI2dZr2msWPH4o47blev/YX8AfXtb9/ao9dk+570Z/J5+da3bla/6CGykJ8J+TmVn92u6o2fq+6Qn0f5vBPRlcwJo+OXYtnsUbrc+ySgIhsRUV+TP3smTZqEgwcP4vPPP7dO+Z6Xl4f33/8A6enpmDNnjlqXkoiIiIiIqLcMHTpUzZzx2Wef4fXX31Cb7EudtDVtt22jtklQtOkmWgsAX05ybW1dV1eCvGLI8OHBT+j9NrkMG4vRtzyLysJsVBZcgOU/hd2CJyJw+l2oratDfT3Ua/bxTxE0YS7qjV5SJ9uFhI36iK6TQNyNNy5CXFwsJk+erLbRo0cjMzMTR48eRWJiouo3atQoODk5Wsu9RQJACxZca70W2eTbLC19kyM4eDg8PDzUNeXk5OD48ePq1XJP7u5unfoGSFuaPqdx48apX2aUlJToHs15enoiNHSk+ja7XFdXSBBpxIgR6tvyQu61t9+D9kiAbd68ucjPL2h0/7bP/ZtvvsGpU6dQUVGhWy8/CRDK84yJmWr9bMm3efrieXbmc91XWvrZt2x+fv7Wz1xPks+L/Jx257574ufKlgRp5c+3pvcrnxUvL892rzU6Okp9w643nhcRDQROGDnrBlwVVoe0/YdxsbRvpj2Wv0O8vb3h4OCA8vJyXds98vcC1+glovZMmDDB+PPHSwV5WyJ/JkVGRqG4uBgFBQW6tj1TcMPtk+FxPAmdW5xIjrsKwSWnkFpoFMPicfPCmZg8YQQcSkbgqoVj4NzpMZsLveZmzA8twyl1EiKiznF3d0dhIf/8ICKilsnvOmWGLZnu35ZknMrU/y3FH+SYkJAQXLhwsc34hK3+ckxL7V05j2hvLGHb3tXzXCkkINo0TmC7SbBUXo8cOaKP6D/kmuT6m15bV4O8osMZvR6j56Gmrh5Dr3kQATPuAxzd4BI8Gb5Tb1FZvMb/qdfMbzai/PzXKsgrdZatp8habPv27Tdu2PzWw7/+9e9O/Ed5z8vPz7dei2z79x/QLZeH/OJz/vx5KrBpuaYTJ06qX7BeieRLAPKZkUC7rWHDhqn6c+eSdE3/IcFpeQ/Pnj1rfQ8/+GALKioq1fvbF2w/1/LzFh4eroLPl4v8jMvPuuV6JCj/2Wefq/L27dt1LyIiap0Z5L0mvA7nPv8Uey5V6freJ+tfyt8r8oU3f39/XUtE1Pu8vLxUMLdevnncAvlvherqqj76N/ZhfPz2v5GgZ0SdMmYYys68g7ff/gSHUxLwb3k1m4iIiIiIiKgdEhRtaRsI5DptM3u7E+QVHc7oLb1wAA6ew+DgHQxnvzB4Rs6Bo+9I1FSWqUBuTXkRsnb8P9QWZ6r+w2ffa83mlS19Z/cfsIuLi/rGSG5uXrPsONts0qYZvRI4u+GG6zFlypQOZbd2lG2WblO2GZlyTvkFg1y/9LVkmTo4OKr53KVe1kGxZCd3J7NUxpIMQvkGjeUZZWVlNXpecl0zZ85Q32iwZEPKN0RsMw9tr3/ixImorq6xjtE0u3LEiBBMmjRR/SJFNssznjt3TqMMX8lGvOaa2eoY2zHlXIsWLTSuxc9ov0a9Tz2VvSrPUoK6Ms2B7Xhy/yUlpSqTV65rwoTxbX5e5NszV199FS5dylJjStarrEdg+SxJedq0mG5fszwLea6HDx9RWeoWcs7z589bPxu212j7PvaEpp/rmpoadf+lpaXq/WqaPWp775ZnKZmj8oybfnZ6QkBAAIKCgtQaBZafY9vPlu1nR641IiJcPVO5Jvl2sqzHJn2uumqW9frkVY5v6XNZZ/wBZ7nv0NBQTJ06RY1n+2eJ7c9LWz9X3SV/tomm77Xcm1yH5T1p7XnYZvQ2fa+k7+XO3Cai3uKEYdOvw9zR9X0e5LWorKxUgRb54pn8WdPdzF5m9BJRR4wYEQxXVzecOXNG1zQm/+00btxYteb3pUsdzaUdhtET3FHazezbYaMnwKP0BM6Z//ncY7xDx2I4MpjRS0RdwoxeIiJqi/yukxm9nT+PaG8s+e8R+Z331Kny++VJiIiIUHUnTpxo9YurVzL5XXZr2bqWtrb69AeWzF65zu4GqDuc0WtXX4fsr/+EwnPfoFbWfnZ0h5NvGOxdvFGQ+DVydryI+sois7NB+thul4sEYCZOnIADBw4aD+sNlSUpwdXe/Na2jC3nsGRkykLkEvBsSn6hsG3bxyqAdvLkyR7JTpbji4qKMWXKZHXvTUlwR8h1SZaor6+PCtTZanr98uzkGcp40mabMSxZlRLskmuXbB35Q+nvf3+7WbBIzjF0aJA1C9N2TCF/OUiw+8MPP1J9JNDY9Lq6SoLnrq6u1nPJq5Slvilpa+nzYvllsgSNhRwvGcGWTGmpb2m8zpIgq4zb1lhyjfL+nj59us33saeMHh2h3p+O3p+vr6/qK9eWnp6hfnnWmz9vct9y//Ic5JzC8jkXcm75GZTPqPysOTk5obKyynp9ErQVHble+QyfPHlK9ZW/kCXALeR9s/y8SMax9JNg/OXQ3vOwZfteyXVHRkZetusmot5iBnnnR+KyBXktLJm98gtEyezlmphE1Nvkv1lk6ubW1gmXL/HJl08yM1v/otuUG27D7beb283XhOpaC5mOuaX2UMQvb6i/YarUSd/rjf9vjjnG+OemT7TRfoNRI9M4L483jtKmXm899nZdL1MyW+v0OCbba7geYbrW1Pg61Lk0Ge/ma+LNY23qiYiIiIio70mw/Msvv4SZlSozbb6uylLfmyTQ2JGN+rcOB3otynJSUFGUg5raOshUzfYeQ+HkG4ym3ymQaZ5rjUrLa0+RgJMEZu699x61SRZdW8aMGaOyRiRzU0ggR0igridIoMRyLXfccbsKwklgTFimBZagpwSB+opMZSvnk3VWLdck5DUgwN96XRIUll9+eHp6qbJF0+uXQFBVVZUKalqmPD506JBqk3vbvXu32m+NBM3klyhyTZYAsLwf8r5YplSWMSWAJtckfSSI1vS6uqrpudoKprb2eZEsSDlG7l/uR56FrOVlKQtL3+6SZ20J+Mt7Ju+h7edLrlGej2WacOmbmppqDUL3BNvPtYzbmS8hyC/xLdcmz1h+Znvq560py2dL7t9yfXJOWXvZQrKwbb94IM9XguRC+kqWtG25reuV99jy2ZC+EjSWa5D7tb3n7maqtSUkZIT1vbFs8n6JjjwPW7bvldyXfK568nNERP3BRMSO8TX+bPNF9PW3Nfvzo/m2GObXXzpH/tyUb/XKVP9tbRLgtbe3V8FeyaQjIupN8u13+beezOgiAV1bEvydNm2a+neizL7SEgmGjsEZvP22TLH8Dv79VapusZDpmM22t98+g7LgMWYAduoYDC9vOO5j8z+drA5//A5OG/9UK5Cpmz9uMmGzBH2jgdOWcTcnQM6a+tW/rePtSndHuAoqSyA3Gm7pu3VbFlyDLfcpbTPhn2tpM86J6EbBaqdgF1yStqbXQEREREREVwQzsNz+Rj1PAuiW59vdYHrHM3rth8B13HI4BsegrCAT5QUXVKDX+D+4j56HgBufApwbsuCk3nbt3p4iwTbbNXq3bPlQt7TONmglwU/5ZWRPrVkrgRLLtdhmstoG6y4HCd7INUlwVTJwLVl6TQPlEjRqKQgkv4BdunSJ6iOvMiWz9JNN3oPO3pscU1raeIpFKbcWzG3at7sk2CUBMAmESSDLNhDWVGufF0vATI6X6YxlOgpnZydVlufaU8E9S/BQyOdJPleS5SyfKYuWnqVcg+W47rJ8ruVnTbKru5rlKVM+yXvf22QaZct7Jvu2z7C3yDO33Juc61vfutn68yLPrLdI1rzlzxzLJu+Xra4+j57+uSOi/uAAdh/NQVVdBdK+eafZnx/Ntw+xXx/ZGfJ3YEpKilpmoK1NprGXPzulv2U5AiKi3iL/jrc3/js2ODgYd911p1raQqZAmzt3LpYvv0n998Dnn3+hezcVijB/49/jp9sOgjZk2kbDB+7wkpTa/ApU+TQOqnZU6EjjpOmnW1ivtyFzd1awI5zc5It+vnBFJg5YA9CHcSq9Wu83bTNaT2cC/mEqQ1hUtXgeIiIiIiLqa/KlePnvFDODVn6ve68qSz0NPpYgr0V3g70d/pQ4jb8FdgFjUWfniOrcsyj44jfI3/s3FcRVgVxnHwQs+TWG+I9R/aXKdrucmgZG3nzzLWtWXm9pGljpqezUzpKAr2QhWrL0JFhomT7ZsrUULLcNYFs2S+ZfV4JoEoRsGlCWcnFxw3TfvUmegVyDZCvL9beVfdva50WOkWMlK1p+US1BTDc3N1WW6bJ7IrBvuc72sipbepZdCcC3R+5bMmItWd79kdy37Zc/ZOuJadA7Sr4EIV+mkC8PyLllymTLOguXQ3eeR1/+TBJR38k5vA2fny5H8MxlmDvaSdf2PVl7Rr5MJQFeWb6Ca8wQUW+S6eGvvXa+2pd/z+/duxf+/gGYPj3O+DePu/pvoq1bt7bxZ5EvXJ1LUZSiiy2QIO8st/M6Y3Y3Mip1Q0oC/m3UHcA0FZg1p27uGF83R5SVNM0cliBvOMp3m5m5b5/R/64L80LL87YQEREREQ1s8nt4ScKyJLO0t0lfOWagGjp0KPz8fI3/TvlM/T5XXqUs9dQ1/TUTuWmQ16I7wd4OB3qr0vagtq4OFac+QNWZD4GaSlSl7ETBrj81mqbZM34thoy61ugrmbwN2+UiWZh9vV6mJSBoCY7JdLtyDX1BzrVgwQJdMjMNZb1OIdmhEui1rCvaGrn+1tbItdybLAou5HwzZ85U+62RAJNMES3rf0p/Ie+HfMNexusLcu+SPSTTRsozsGReN9XW50WOlyCaBGEl81HGkLV7pSzH9QQZMycnV71HrX1m5VySYWx5f+Q9lmzlnrqGpmSabnnPLeeTe7cEouX9lPf1cpHPlgTZe3sd4LbI1KMSnLdkw8qzkc/25dDZ5yGfI8vnTN5f+bnvq59JIupbOfs/xCeXMdhrCfLK36UM8hJRb5Mg78KFC9UX8rZv/0ItuSLLxGzevFnNlvPhhx+qL+m17TAuFfhgTBvr10pQtqpMz6wSFgZ/Z3PXQk23fKYAPkEdXwP3cJbRP9p2DV6DCug2BJ2nBOl/56WkIBfDMNYaSJ6Csdapm/NRbrRNs8kqnjLG+Dd8boqaCpqIiIiIiGggk6BoS1t/JtfXVgC6q8HeDgd66wtTUPnVs6jLOmoUGn45V5O+H0U7X0JNTR1qa+vVq/PYJaipM8pGP8vr5SIZiTJ9cWfW9e0M22l+ZZs3b54K1h0+fEStpSp1c+bE4+LFi/qIxiQwI79kkOlVZerX7gar5NwSjLRcj0wjK0FWWbdX7Nz5tQraWdrvvvuuZgHFptcvm+XapG3HjgQVDJV6+aZMTY05PZis6Svr39quC2wh55fMUMu3cKZMmayuRcbrKxIIlaBcWwHRtj4vliCaPF/LGJLZK0E+ye7tKfKsDhw4qIK9lmuQ5yafE3leco3Sbnl/5D2WNkvGdU+zfEblfPJZkfVsJSAo527rs91X5HlJ8N4y1bhsLX1JobdkZWWp6Ugtn5mJEyc0mma7r3XmeUjmsQSFpY+8v/Jz35c/k0TUt6zB3quW4do+DPbaBnnl700GeYmot8XHxyMwMACffvppq+vvdsThj3cjwzVaT818W7OpmNVUyMEzzfapLiizZPROvd56zO2y3m5n1sA99Ilag3eM5fjl8QhNScB5CTrruqGwzNSSioRDmXCL1n1vD0K5depmo22zrBusr8/YZL3h5usMExERERERDSwSEG1r6686cm1duX67adNie+a3bb5RcLt6rdqtrS7H8OgJal9UpJ9E5j8f1SUiIrrc5EspMlVzR9Y5J6LBJSB2IeKwH1v35+ia3iVLHEhsNy8vr8eCvGFhYSozmIioqZiYqZg6NQZffvklkpKSdC0REXVEYGAgUlLamLOeiIiuaJLcJYk/jo6WWWRM1dXVKjmspQQSOWbWrJnYtWt3hxNMWjtPe9q6jpa0d20ttXflfoSstStfSB05cqRRMn83Ir8iuXAhDQkJX6ly43Y7pKVJWwLq6i7jlLk0IPRcoNdQ7zYMznMeR21FMYLHmxlkeQf+gdIj7wFl/GUcEVF/wUAvEQ1kYWGhyMvLV7NsEBFZyC+CZDYeCVIcPHhI1xIRUUfIbGWyFmBKCjP/iYioZWaw8hqEhIyEnZ2ubFfnA5aD7TxEva1HA72izskLdmNvh7tDGUqPboZddaluISKi/oKBXiIayOQbtDIV9OWcKp+IiIhoMJEvy7i5uXUqO4mIiIiILr8eD/QSEREREfUmb29vuLu7q3XkiYiIiKj7fHx8UFpaisLCQl1DRERERAOBvX4lIiIiIhoQ5BeQst6vp6eHriEiIiKirpJ/U8m/rRjkJSIiIhp4GOglIiIiogEnJycH9vZD4O/vB1dXVzg4OOgWIiIiImqPrMkr/4aSf0vJv6nk31ZERERENPBw6mYiIiIiGrBkGmdZT87JydEo2ZmVRERERNSOelRVVaOsrIyZvEREREQDGAO9REREREREREREREREREQDDKduJiIiIiIiIiIiIiIiIiIaYBjoJSIiIiIiIiIiIiIiIiIaYBjoJSIiIiIiIiIiIiIiIiIaYBjoJSIiIiIiIiIiIiIiIiIaYOzqDbITFxenKgaaoqJivUdE1HMqKyv0Hg02zs4ueo+IiIiIiIiIiIiIaOBiRi8RERERERERERERERER0QDDQC8RERERERERERERERER0QDDQC8RERERERERERERERER0QDDQC8RERERERERERERERER0QDDQC8RERERERERERERERER0QDDQC8RERERERERERERERER0QDDQC8RERERERERERERERER0QDDQC8RERERERERERERERER0QDDQC8RERERERERERERERER0QDDQC8RERERERERERERERER0QBjV2+Qnbi4OFUx0BQVFes9IqKeU1lZofe6wxH2/jHwCR8OexSi/ORulJaW6za6XJydXfQeEREREREREREREfUro2/Bz9YsQ6SPsV+Qgs82/gYb95eppshv/RSPzMjAxp+8gv2qpjvcMGft03hgqrcut6/g0Ct4fH0CzKvpH3o20Dvn53jn18sR7qTLrak6j83/fRt+uUOXu4GBXiLqDT0R6HVf/DOMqKlGQFwE3FVNNZLeeQTnElWBLhMGeomIiIiIiIiIiIiW4bENt2D42X9iw0vv42S/iF5Oxqrf/hCRSS/jqT8cxvD7fopHp2bghUdfRNm3jP1lgTj76uN4PqEnLvYOPPnaOJy8/wls0jWmztZfXj04dfMDeOXJ5QgvS8f5c+db2XJRJV2dwrH81+/g53PUgUREg5KzewA8g73gqMuS4etoRnyvCP/14EL87qd34gffuQ729na61viLx9j/rwduUG3LF8To2vaMxPLl8/V+c/OXLzd6EBEREREREREREVHHuMHNuQzVAcvw2O+ewgOzOp7Z2nvGITggHUde+wYFKMPJvx1Bul8AxuMq3LQgEm723pj84Et47bVX8dofnsKqeDd93JWrBwO9I+DpCRSffRu33XFbK9tXuGj0LD5nvDHor8HeRfjRH17CH6zbfxk1UvcMVo7TXQzR33kGf1i3yNhr0v+Z+xFtdsGidY2PMUVj5TM2/ZuMu2hda20tXZe+Dpv6Hy00exPR5eMw4UGMve1RBCEVpaW5uJSYiVLdJgFLz7jl8B7qqsuDW3V1Dfx8PDA6NEjXAJOiQ+Dn64G6WjWhRMfc/0v8/Pn/w78ebx7snf/4v/B/z/8cv7xfVxARERERERERERFRB2Rj/2Nr8eynZYh7eD3Wr1uGcZc1dnoSOXnBiP2PBfCBN656KBbBeTk4gW/w3paTKKgrxJG/rcX996/Gs19XI+6uR7BAH3ml6sFAbyfkf47vPf95/w32Fu7F+u+vxvfV9r/Yavzvt5tzMP0+HcQddz9Wjj2N9c9tVd1t+68/NQZrVQC4JRLk/QGiT/1ej21sL5xG9BrbgG4R9r6g22zPKZpdlylps657YS/8l5sBYCK6TFyWY9yyGRgZNcZmG6anbhaTMOKGxZix8r8QdAXMIFxdWwdnxyGYMrYh33ZMxDDUGvXVtbW6pgNeux/r/nIWkQ/+H976zwm6Epjwn2/h/x6MxNm/rMP9r+lKIiIiIiIiIiIiIuqgMpx85yl8/0ev49xlz+49gr+88RkKw+/F+tfWY1VMNfb96xWjFjj70W/w4jvpGD5vGcbJNb9+Eulubgg0D7xiXZZAr2fk7fj9beGoLK7S0zi/gbW6rd/a9r94L286bloILFo6HbnbX8MZ3WTrzJ7TKNT7zSxchunYi1f/anPkydfwEwnoLm0hPLvtOJK8/RGhi+06+TXOFAZgeLMsYiLqM+GjEWD5k7WuGnnpp5GWqLdDm5FSGgo/abMfCb9I1atVtz36MD7fuE5vd2Cdbf1Tk7DuKUvbOrx2t240SP17j07C//7B0v4w/ne2brQ1+zq8J+PefYd1HBlXkbo/XIfbzJJijtuQmdsRFRXVyM4vQXhIANxcnODn447IsCAkX8hFXV2d7tUxXzz9LfznX85i4g82qWCvBHk3/WAizv7lP/Gtp7/QvYiIiIiIiIiIiIio0/I+wwudzu51w6Lv/RC3jtZFW6PvwJoHY3Wh48r2v45fPLIVKcb/tn7/p9hgsx6vBHvX/c/rOKnLdLkyen2CET46HOH+TmbZyQme5l7/4D0day3TIdtMxbz1A8mYfQk34X38dpuubEKCwMhK0qXGoocFoPDU180DxKm5KPQb1pC5a7FwAiLOH7dm7rZ2XVbjrjbqTmMnP+E0qFyFNetfxWvrHzH2LNqoe/GHl3eqhooyVKudcpx79wWkZKmCKWg2Ztwao7N7q1HXZkJrEGb5J+H/rXgO1xrbR6mhuNEShBWhizDhuNl27R8Pwu/GxsFcjxjjybyh2z8qRMz3GgLFjRnjTjhh9lvxVxz0XWQGc988gVTPCMyyjjkJE0JTkfC87Q11zKlzGfD2dENU+FBEjxoKZydHpFzM0a2dI8HeO39/DBN/8CE+/MFEHPv9nQzyEhEREREREREREfWIzmb3lmHHl9mYvPqnjYO9o+/Ak2vGIXv7fl1xJevdGEfXAr1zfo53vt6Hfftst+UI182t+yVui4tDnM22fl+xbutHbKdI/knLmbuN2ARgJQj8E9uM3U7zwvQ1Opg7+Ti+b5keWrRyXRHLdf/7gFc7cr1E1HsyMlCoElUzUOB+M2Km2kzhHBwAJ2u2byYKzuv9FmXhv376Kd7RpeeOp+o9LXUr7n9T7+/8FAmp3oia2ZBtW3Lw3/ivnbrw5hc4WByKCTZZvw1S8dFPj+p945xfpcIjcjJuw1EcN8b0D9NNd49HaOoJPKeLnXH+Qg5qamswZcxITIgMRlFxGTKyW537gIiIiIiIiIiIiIguJ8nuffJFfJYdiDl3rkBbebllJ1/HL1462xDs1UHeky88gU3nzD7Ue7oQ6H0Arzy5HOFl6Th/7rzNlosq3WNwisbK+6Yjd/NqvIdl+NFCXS1sA7C2gdkmzmTmwDuohYmYQ/3hnZepA7SWNXrfR1L4XJu1e1tnrtH7e+yFObU00eDyDV5YuxL3r33R2LNoo+6R3+EzXXNZVGzG0VffwsGPv0CJrpLs3hzL9M16O/X+H5FVoZtbYzul8o2hurJlybltBU6zkJmvd9uTkmu9bgkuh04ws4jXTQhF6nFLQLhz8gpLkZSag4jQABXsPpWUidpOTttsMf/xf6npmo/9fjEWq8zeTfjX4/N1KxERERERERERERF1l8+se/Hkb36IOY4n8e6GV9BuXu65v5vB3v94Ck9/NxJHGOS10bsxji4EekfA0xMoPvs2brvjNpvtK1zUPQYlWV83z5yy2ZzC+b/Qwqq6bdv2Pvb6LcMz37GZdHnc/XhmeQD2ftA0QLwVv33hNKLva2GK5hadwas/eR/oynURUc+6tB05+/bYfPnFFQFREXB390cAjuLUO88j7Xg7UxdLkPeaXOvUzdd+1CSjt4lR/t7Iy2xtWuUgDPMtRG6KLrYlzB8e+ZfMTGLJBPYdj3V62ubjlgziLjiTnAlXZyfYG3/ryFTOXSFB3v97MFJN13zX/x3H8f+7S03jHPng/zHYS0RERERERERERNRdbuOwbO1v8NzDVwF7Xsa6x36H9082rJHbJgn2Pv0yNjz3FN5lkLfPdG3q5sHOdi3cPzyDlQslGAu8Z8nWPfkaXt0dgJvWtRdStZmG2dh+tFCCsb/HmbE/sNb9YY0/vvz+T/BqS+vqynlOjcFay3maXlezbN+t+O1m4KZn7tdlIrqsSstsgr01KM0qQnFpx9amvW2YN2AJuBoko7aR0Ksa1uS9+w7c2CQQ6xEz37om722P3owYJGGXTOU8+zq8t9F2vd5QxMuavMokvHajbeZuFnad9caEp8bD7+AXXZq22eLIqQsqszf9UgHOpWXr2k64/zU892Akzv7lP1WQ10KCvf/5l7OIfPA5vMY/+oiIiIiIiIiIiIi6xMzi/TFuGp6Bd59ajV/87RsU6LYOy0tBSp7e7zZHOLrJawBu/flv8NiNkapWGX0LfrZ+EcKM/y1a/wRWxKqOVyS7eoPsyHq5HfNzvLNvOQL2rcf8772u60Rr9W27949fYG1cDjbH3YZf6rrOKCrqh2v8EtGAV1nZ3rzKHeQ+Bp6RY+HsWIbK87tRnFukG9oThP/9w3cQ42mWUlNTEYoTuPanR3Hbow/jP/yTcNA3RrcX4uAfX7auybvuqXWIzz2IvJgY4xiRio9W/N0M1Eqg93v+SJCy3k886I2YGHNB/ZKDf8VNz9tkBqs+EUi0Gf/yGInlyyOxefMXutzY/OXLcXbzZqTpclucnV30HhEREREREREREdGV6g48+do4nPz+31H68ErcNNkd6Z+/gmdf348O5vD2oslY8/wPMfri63jifz9DVfzDePLe8cj594t49iNHrPrtDxF5+lU89afDGH7vj/HotBy88OiLOKKP7hh9//c/gU26xtTZ+suLgV4iohb0WKC3F5iB3m9U0LclZqC3ScC2JbZBX13VjPS5B9j4/U+t2cUDHQO9RERERERERERERBK4nIPAEjc4lh7Buy//Dlv70ZTLbuNuwaOrliHSR1eIkiPY8Eg6Fr02GWcf/Sk2quzhrgZg3TBn7dN4YKqZBNURBYdewePrE/pBILwBp24mIqJWrVscg7yvBk+Ql4iIiIiIiIiIiIhEKtIzSpH+5W/wg8f6V5BXlJ38J361diXuv38lvv+XIyioK8PZz97HNziC9JxgxK5cAB9446qHYhGcl4MT+riOK8OO9WvV+B3d1vazIK9goJeIiJq7+w58vnEdbsRW3G+z9i8RERERERERERERDQbfYMNPfoxfvXOy3wUvGxuHW68PQ877v8Ov/nXWKJ/Ehv/3PnJG3ov1r63Hqill2PHGK52ctnnw4NTNREQt6M9TN1P3cOpmIiIiIiIiIiIiIhoMmNFLRERERERERERERERERDTA9GBG71q88fW9GFOWjvO5lbqufc7+4Qh2O43Xr74H63VdZzCjl4h6AzN6By9m9BIRERERERERERHRYNCDGb3rcc9/b8Z5t2CEjw7v8BbsU4y9f1zXpSAvEREREREREREREREREdGVqAczetvW3bV4W8OMXiLqDczoHbyY0UtEREREREREREREgwHX6CUiIiIiIiIiIiIiIiIiGmAY6CUiIiIiIiIiIiIiIiIiGmAY6CUiIiIiIiIiIiIiIiIiGmC6sEbvWrzx9b0YU5aO87mVuq59zv7hCHY7jdevvgfrdV1P4Bq9RNQbuEbv4MU1eomIiIiIiIiIiIhoMOhCoNcw5+d459fLEe6kyx1RlY7Pn/8efvyPdF3RMxjoJaLewEAvERERERERERERERH1Z10L9PYjDPQSUW9goJeIiIiIiIiIiIiIiPozrtFLRERERERERERERERERDTAMNBLRERERERERERERERERDTAMNBLRERERERERERERERERDTAMNBLRNTnHGHvPwN+ccsREDcP7u6uup6IiIiIiIiIiIiIiKhj7OoNshMXF6cqBpqiomK9R0TUcyorK/Rez3Nf/DOMqKlGQFwE3FVNNZLeeQTnElVhUPGLX4VV0y7izd9/gBRdR0RERERERERERERE3cdAb4tm47GXV2Oqpy6iFIf+8BCeTZD9pm2G4kN48eHfYGf8j/Hn70/VgRtT8od34yfJlvoWxoE+VvXWVjyNtxaP0gVhHndxyZtYEqarNDX+Rl3Qx0ndB0P/hEdiba9ES9mCu/77Dcz+UeP20v0v4bu/Na/i3l83PY/tdTdtb9xGNFj0ZqDX77b1CHcvhUdwAJx0XdqHq3DqkC4MKmFY+oPvYiZ2488M9hIRERERERERERER9ZhBOXWzm5833PR+y9zg49daD5sA7F134y5j25Lijqnf/xMei9ddhAR3pf0Ph1DqORUrfzRbN5hBUzlONmsQVjHGWXKP3m+fBGzNcWwDqcnYosd+cX8pRi1+E3+2ObfFzt8+ZB77YbIqW8eyBnmBQ3/QdUYf99jVTcaxnOclHCo2rnvFj40nYzwd49glYRLctRw7CFMQiXqJw4QHMfa2RxGEVJSW5uJSYiZKdRswEp5xy+E9dLBN45yCD37/Z+zGTHz3kUVo8l0VIiIiIiIiIiIiIiLqokEY6I3Fgz97Dk9+L76VYK8b5qx5Gs89fq/RswUrlqhs3eSEhizb1/97C5JbC9ImXES28eIeYJuB27LS4lIgbAmeWaErumnnb1/DoWLj3NGzVRC2Y+7BUsnkTdneEDze+Di2pBjjxC7BvbqqwU5czDNePH0QbryEBzTJEt74G2bzEnWEy3KMWzYDI6PG2GzDbGYAmIQRNyzGjJX/hSAXXdWKaSt/ieeee05vP8RS2/q1S7F0raXtOfzwJt1okPpfrlyKB5+wtP8SD07TjbamPYhfyrg3/dA6joyrSN0TD8L2MHPclgayMIO9O40/qRjsJSIiIiIiIiIiIiLqGYMw0LsfL/xsIzLGrmgh2GsGee8MO4GN//Oy0bO5eydIwLYUBWYirJaMApkh2m9E84Bq/AgEGi+lOQ0HSHbsW2+9aWxNsoDPvKYCqqMWP91CQLU5ydY1x2mtf+MgbIesmAB1hzbXK87nSF5hIEbYXq9yDyZIVCblOF43Xl4/LsdJhrNxXS+bWb5E1AHhoxFg+RO3rhp56aeRlqi3Q5uRUhoKP2mzHwm/SNWrFdMQ452Mt9atwzpj+/JiMOZagrBixFxEJZlt6946Bb/4xsFcl/Ezgfd0e0Iext7VEChuzBg3ItHst+4tnPKZawZz30tEuvsoxFjHXIqoEenY/eoBXW5NCra+qIO9qxcgSNcSEREREREREREREVHXDMqpm1GWgOcfbxrsdcOc7z2hgryb/udl7ChTla3IxsX2slQ9p+IRCcLK2rspW6zr24qGqZubr137+pZDKMUoLPl1+yHShqmbH1dB1p6UfanRqsAtMK5RBZmXAHId//2GWb3xceN6JMPZoJ5Bk2A2EbWsogzVaqcc5959ASlZqmAKmo0Zt8bo7N5q1NWqnVYcwF/W/8X4/6YPktL1nnbxS/zuPb1/4C/YfdEFo6Y0RHorTvwLf7Ec/N6XOFUajCibrN8G6fhy/Qd63zjngXS4hMVgGj5AojGmV4huuikKwRcTjdpOcBhs01MTEREREREREREREfW9wRnoFTrYmxp9J5783gIskCBv5Nl2g7xmZusoTGg0vfIo+HgCpWd2Wqdztq7RK5slCNoRCb/Bq/tlCuepaoro7pmNEZICWFyA82ZF+5IL1JqgoyY0noZaTclcnIivmqwFbGYgv9lkuuk38BO5b7X+rzuiZjKvl6hdGRkorFM7KHC/GTFTbaZwDg6AkzXbNxMF7f1A206pHB+sK1uWXlih91pyAJcK9G57LhTBMpIEl4MjzDzgpRHBSE/qSJg3DIse+S7mOuzGn3//AWzj3ERERERERERERERE1Hn2cXFxkG1QKkvACz/bhNToezsU5BU7f7tdZauOim+YlvjeXy/BKKN2u03WbndY1tbtrnt/vbrZesLtMvpuTzFew+Y1ZOKueBpLwloex1yfWIK95vTR9/66+TTS7WcHExEqNuPoq2/h4MdfoERXSXZvjmX6Zr2dev+PyGorNitB3mlF1qmb1yU0yehtItjbBXm5rU2rPA1DfSpQdEEX2xLiBZeCS2YmsWQC+0RhqZ62OdGSQdyqhiDvH9d/APkjiIiIiIiIiIiIiIiIumfwZvRaSLD30ZV46EftB3lNkq36Eg5BT81sbEvCJLu149MnN6zR+yb+/KOWsl134tmNMoVz2xrW6LXNqLVMqSzXVYpDf7gbP9momzro9f++Gy/uh7nOroy1eJSaJrrlcd7AB5KBLOf9tWQBN5xfjkPKlk6fn+iKdWk7cvbtQZUuAq4IiIqAu7s/AnAUp955HmnHc3Rby6b5+wGWgKtBMmobGTGzYU3em36IuU0CsS7j51rX5J228lsYi2QclMGmPYhfPme7Xm8wZsqavMpS/DDeNnP3AA6m+CFqbRT8TnzZzrTNnQjyNroG45zPWdYXnoYHn3gOP2xximkiIiIiIiIiIiIioiuTXWxsbL3eH5CKinogNZaIqInKyrbSarspag3m3jYRTqpQjrRDGXDGxzj84UFV0zYJet6FseaCvki/mI5gJGLd+g8wbeUvcZd3Mk75jNXtFTj11s+ta/IuXfscZhaeQt74scYxIh1frvudGaiVIOtdXtgtZb2ffMIPY8e7qJ4VJ97Cz1+1yQxWfUYh2Wb8lvhd9wgemZiMv3Ykk9f2GlSgdyaK1PjmPXsdWNew/jARERERERERERER0RWOgV4iohb0aqBXuI+BZ+RYODuWofL8bhTnFumGrjMDvbtV0LclZqC3ScC2JY0Crq2QPjcB/3riL9bsYiIiIiIiIiIiIiIi6juDf+pmIqL+qPQ0ig9vRs6+T3okyNvXls4Zi7wDDPISEREREREREREREV0uDPQSEVHH3fRDPPfcc5iLLzmNMhERERERERERERHRZcSpm4mIWtDrUzcTERERERERERERERF1AzN6iYiIiIiIiIiIiIiIiIgGGAZ6iYiIiIiIiIiIiIiIiIgGmAE/dbODg6veIyLqORkZqXqPiIiIiIiIiIiIiGhgmjJqCkYGhKK0ohTVtdUoqyyFt5sPvjj2OYJnxcDZywPl+YVwD/JHbWUVnIxySXoWaquq4Rbgi/MfJ2DuhHnquL1n91qPkXrqfbNnz0ZRUZEuNceMXiIiIiIiIiIiIiIiIqJBqLauDrnFOXB1ckV5ZRku5l7E+UtJqq2mvAL5Z1NQfCED5Tn5qK2uRll2ntrqa2tVm5AAcXlVhdq3HEN9o7KyEmVlZa1uDPQSERERERERERERERERDUJD7O3h7xmA8qpyuDq7YYT/CIQPjVBt7kMD4D9uNALGRQJ2drAz+tZUVCJoUjQcXF3gFRaMsAVX4+tTO40x/DE9cjqyDp+Eb2QYom++Xo1Bl9eQ4ODgJ/R+j3MbOR7Tpk7DtCkTMXHCBIwbNw7jxkQjMjwUAW51KL5UADP+33X29o56j4io55SUFOo9IiIiIiIiIiIiIqKBKdArCLV1NfB09UJBab7K6C2pKEFBWQFQL/FdO1QVl6Kupgb1dfUqu7f4Yibqqmtg7+CgAsBFqekqQCzTP2cVZqnjCpIvoLqkTJ+FektwcDAqKlqPpvbSGr3DMCl+CiIC3THEKNVWlqKsos5ssneEi7sLHCWXuLoYacd3Ym9S1z8IXKOXiHoD1+htzZ14YvVChBYfwYa//Q67dS31Pfd1T2FRrJdZSPkA7z62zdy3FX8/5q+OhV9r7URERERERERERDSoLZ62BJkFGXBzdoePuw8+2Pc+wm+IV+vyunh7or6uDtVlFfAYFoCKwmJUlZTBa+RwtV5vaVYu7IcMQfqug22u9Rv7H/fiwu5DGOLkqNbvLcvJV/uhs+OQfeqsGsfV1xuO7q6oKCiCi7Ev48s00BUFxRji6ADXAF/VL3PvEX3lJOLi4pCfn69LzfXC1M3DMO36mYgKdEddYRqOJmzF5i3b8Mlnn5jbJx/i/X9/jgNns1Fh74mRk+chPtpNH3ulcoCd90R4jJsHz3FxcHZ11vVERA3GLlmFVavuxjWBuoIaBP0QL65+EnfoYo+SYOmmR9HfHnvpcz/Fu3euwdb9rS/E36Z+el/ti0bEyy8gZoUuEhERERERERERUav2n9unsnhlfV5Zq1dY1uWVNXnLcwtUwPXi7kOoLi1X9bJGr6zZK/vSJtpa6zfjwDG1pq9l/V7ZlzHSvtlvHUfqL35zUJ1DMoSlXs6tjquotPajzunhjF43RMUvwKRAe1RknMD2bxLRZq7u8Gm4fsYoeKIYyXs+wYEuvH99m9HrijHRw3D6zHldbiwiOgqZZ9q55xY4z/4ufGur4TkuBGaItwbZnz6LS2mqQESXQf/K6B2LZavmAseOw3NiKFL/+Sa+ytZNZJJA720+SHjpF/i7ruoxKivWD8fufB798bGrzN6AHZ3P2O3n99U6CfSugXfCGhzcqKuIiIiIiIiIiIiIBqH2Mnp7NtAbdjUWxw6DY2Eyvv7sQId+cewWHY8FEwNhX5CITz4/2ukgaZ8GeqetxDMrI5Dx3iv4v08aB3sjrl+Nh24ahqRXf44/HdCVHeRx3Y8Q4FIOl0AfOOi63J1PIeOMLhCR1Xe/PR3DAjxwIbMQf918APX6TzA7O+DBW+IwLNATuw6l4dNdZ82GLupPgd6xS+5GwJ438RWuwd23XL5A78z4l7Bqsp6BIW0bHnhvk7lvkLYVOIucyZNhXCG2fQEsnB/a0G/8k3gl8iQ25Mdbxyg7sgGPJOxS+9YpoXUJjaaGnoW1962Cz76VOBn5KhaOlLoyHHlnNdZnNTnOytKui20yA4cxehZk4Dx2qODnQsRsWooIXdugCAdf+imSEozdFY/i1vg8bN0IzJApkqW50TTJTcZuNoVyk3NY2+W47wCJuYiJDVf1O7AUc8KApC2NA5ytBXoDn31B9Rd5+1/AF89Z/lLpwH21y3xPJnvqYtOpvOX9lvdfa/xet6e196PxPdlqfH9EREREREREREREg0N7gd4hwcHBT+j9bhszZRqC3cqRcfArnCnRle2ozs2Bw9BwBPm6wjn3HNJLdUMH2ds76r0+kHEI52vGY+5N8RhTsg97U6tUtVf8w/jBLSNUAPj/7SxQdR0xJGI5hsVOhzNKUFtTicqiWgzxdlPB3vK0M6gJmg6n+gxUl9eaBxARpo0fARenIXBwGILMnBIUFJvTRoyLCMKkMcMwxM4eF7OKkHQhT9V3VUlJod67/HISjyJVvgXjHopJ47xReFKX+9jF1A+xee9mZLrcgDjXVGw+fUy3ACFhS3DVZD+kvPMKLoUuwOzgFGx47xLGXzUSnnu343jgfCyfEou4qs/xwOtPYXNKBBZfOx/RKR9iV6kEDe9AyOkNWPWPl4xzXEL4lCVYEuaqzxGCWVPiED3mZgSnmH1cht+G2SHSvgnbjWuS8a6fUInPX1qLp6W8V8Y1r6097useRbz9J3j3ey/g5D8+MrZv9JeOziFTypeGYtiMSuy983+wT7V/jnzL9wCmXIXxk8Yj0tIufa+fBvtLZp/AZ5/ArIoP9NjnUHn7Ckwdew7JX+eqwwOfXY6i71nGrYPLd5diuOtHyDziD99lcxDjn4Stf86A3/XzEHTuBXyZMQ7TRzni5Kfn1PHCafYCRLqlNKoTZZ/KmB8hZ/piBJXtsZ6zQ/fVjpnxD2Hk7rX4yXZ51ub7Nd/rEj5MvWC03oknbh9nfBYe1u2bdX3HtP5+WO7JeI43zET5p2vw+f+Y99hwb0RERERERERERGRr1vJxuHA6B5FxI+A71ANu3s4YOsoXvsPM/eLcckTPGAFXL2cU5ZRh/OxQePi6InR8ILyD3FW9f7AXCi51MPBHPSo4OBgVFWYcpCU9uEZvBII8hwClBUjq1BTMZTiRVYBauMMnRFf1Y0mfvIQ/vZeJkbf/GN+P91RB3p/cPrLFLN82Oc/D8DkT4T8yzGbz11M3i0j4zpqNiGUrYPwMtWnxyqV44zd36G0+HrKtXxuBh9Za2u7Ac0t1o0HqX14Zgcd/YWlfisen6UZb06bhZRl36XzrODKuInW/mIbFZkkxx/XRJaKeV11bDycHe4yLaFhdNGKkH+rq6lFTV6drqM+lJVgzaFP32WR3WkjWpyULOOsbnC12g0+AsT/+Rkz2TEWCNeNzF9ZvPYKykeMar7mbts2aFfr3s6mAz3DMVKUeEDahG2vVSiasnv444WukFHnBe5QUFiIk7Dx2WDNtzyAp4Tz8oq42/sYzZT9mO23yNlxIMW5rWLQuG3/nJLwGM159Hsf6Ucbq7oRf2GRL78I358vg5qtuWnND5JhZer8LuvV+EBERERERERERkUXqiUvqtTi3DLU1dSjMLoOXv5t1X5QVV6KssFLtlxRWoKqqBgXZpdZ6KVP/1IOBXh+4OAPVZXkdmrK5kZQySCzaxbX5RJL9kQR7n3k7DSNv/yWeuX0k0t7+TeeCvCI4BJ52er++BiXZKchN09uZ7cgtHwYPabMbCvc2A+A+mOqdjjd+/HfcY2zb04MwzxKEFcHTEX3WbLtnUyK85zQO5rqPGw+8r9t3lGLCnQ2B4saMcSNTzH4/3obj3tPNYO4HKUh3D8ZU65gRiA7Owt5XO57ZTNRZ8pdKXlEFQoZ6w9XZET5eLggL9lHTOdcx0DugBPjrYGBxAZLNvValnm2YKhonfoEHbKcK7obS536KHSnhmLPpBdxqbPPXNQRaO6QoEZes0x2fQdLDemrl+OHGn9AN46ptSbjZzUKmfrZpb2la4n5J1kRe/Spe0Zt1Sm9lE5545wgweZVuf7JxwL4d3X4/iIiIiIiIiIiIrkCjVj6ttqbGzbgL0xfdhtgF30Vo9GJETJyPAx+fRZBrGEryyhF+QzzcxsQgL70YwbNiYD8sCvAPg2PYBHjHXK3q3cfHInT+LEy4+yaMXjJf9RNz58bgxhtnYdmy2XjooZsQExODuKiRWBw3HjPHhOH6mDGYNykS06ND1b7U3zXHDCh966rJqk3KUj/L6C/HyhjUcT0Y6O2G0lqo0Iz9EFW8IlSWw5yQuRKXPtuEXNvptX2nImLBWJ3dW4P6NuNWBXh6/QF8qEt/OttkQcr0vVj3gd4/cAB7090xakpDtm3pya/wtGVN4Q8O4nhpEKJtsn4bZGH7+iS9b5xzfxbcQyOwGEk4Y4zpG6ybloYhOD0Ff9JFot5yLjUXXh4uGBXii/ARvnByHIL0rCLdSgNFTq7O4vX0gW0+KAJ8YBs67G3Zj63Bu3fK9gEKYtf0YHBR1pe1jK23h3WWbvz9mL8kXK25a2nbkaIO6ufuxBO3TQaObMADL61U24YjTeYSz/odHrG2BWBhJ4O9vfd+EBERERERERERXVnyL11ERUkRMpMTUZCdiYIsc5m1wkJz+cL8sym4uPsQgoKCUFNegdrqapTn5KutMC0D/uOjUJadh+rSclWWeilL/0uX8lBSUo6qqmokJ2cY+yXYl5iG3OJSVNXUwt3ZCWWVVbiQXYBz6TmqPs04fnzoMGQXFqs2KUt9dmGpOlbGoI7rwUBvNWrrAEdHF13uhFAXyEq7VZUDIws04vrVarrmtLd/jp+ozN4f4z+vb5Kl1Z7cXJTVy042yl3nISzaZgrnQB84WLN9jX7per81tlMqzwnSlS27aPygtK7A+EHSu+1JL9TTiZrB5eBIM4v4ocggpJ+1BISJek9aZiFqamsxLjwQUaEBKCmtxKVc/gUwUMyMX6Gmaz55wiicOIlUhCI+3jLV7yysjQtF2ZGP8Hdd066sDOQYY8gkBd1zHoVNvy+QkGH86RiOkBW63FFqGudwzHl2oa5oSREKLanMKx7t24zert6XZg3SB/0QKxpl9Da2OzdH73VFC+8HzqA43/i7eGJbz5WIiIiIiIiIiOjKkvzq42pr6sCn/8bRr7ap1yM7PkLqqSOq/vTp0+q1ICkVpRnZyMrKQtbhk0j7cg/yTichffchXEjYi9wTieo1Y89h9Sr1BedSVP9Tp1KQkHAY27btwSef7EViYqIac/fpFBw8dwH/3nUUe86kIiO/CEmXclX9VyfO40RqpnqVNnmV+nOZ5u8RLWNQx/RgoDcTpeXGi4cfxpgVHRY4zBMuqEZZXqcnfe5zEuR96KZharrmPyQUoyjhZTWN8/CbHuhcsLdyOy68vw0pu/araatNlSi2TN+st4wd/0CROS16yyTIG1tonbr5nh1NMnqbGOHtjsLs1gLqPgj0LkV+e4FlEewN98ICM5NYMoG9w/CQnrb5jCWDmKgXFZZUIC2jECOHe2N4kDfOpeWhrl59e2LQCZh9N1atWoVVt0yAp/G/CbcY+6vuxjV9uojpLKy9z2aa3pELzWl5b7pTt3eA52Sssk71m4NtL/1CB3I34YmXtiHHOtXvKkwuaFiPt2OMMb5IReh8c/xXVr+EtW1/70WLRsTLDVMn37ppDWLyP8AXjdbD3YaDW84jYomlz1OIiNdNbZJpnF/AQd+lNuPbTEWc8BqOpXghZrVui8/DwQ5n9DZc96JYLyBMn8MaVF6IGH0+CR77xa5pfG6lq/e1CR8dKWt41rf54KxtRu/4J/V7oLf5ATjyjuW9bk9H3g/J+P0ASZZ7bnZfRERERERERERERFcGu9jY2B6LjAROX4j4ke4oTk7AJwc6GrSNQvyySQiszcSBD79ud43GphwcXPVeH5i2Es+sjEDGe680W5PXEgBOevXn+JNlKuSOiv4OJs62LMQr6/WWwKliP8582n6QY/HKpbjH+wTu0dMqP7T2DszDXlVWbeOA45s+MKdnlqDwHGD7j79QUyurvsFZ1rLqH5qON548gA+nTcPLd3pjr7Sp/Sjg5DY8rNbejcBzv5kO7Pi7dVpoOXa+dym8Cw/qPkS947vfng5XZwds+ugIQoZ64Yaro9UUEO9uOwoHxyG45boJOHQyA5/uOquP6JqMjFS9Rz1Cgn9xBdjQQ+vqEhEREREREREREVH7Zi0fh12bT2L81aEoL6mCq6cTaqprUVNZh4qyStgPsYezqyPcfVxQnFuOqspqXDydq4+myy0uLg75+bbrvzbWo2v0Zu9NQnY14DlyKqYN15VtckNU/FgEOtaiODOx00HePndgE157oXmQVyR98hL+9MLf8EZng7yivAI1eheoRWV+CSrKOxYs/fDVr3Dce7p16uZoNF2jNx1YZpnW2R3HN5lBXYvSk4WI1sfeM64U2yXIq9sayzLen2v0eabD++S2hrV/DR8eTod3sDuSDzPIS33nVFIOCorLkZVbgtTMjs47TkRERERERERERER0ZUg9ccl8PZmNqqoaFGaXoqy4EmUllairA2qq61BbU4cCo95st5m9j/q9Hs3oFW5j52LBeH841pbi4tEE7E5q7QPhgzHxV2NCoAtqi5Ox+5MDyNQtndGnGb29yTUMLiHhcHSoQHX6UVS0uZZuxzTN9m1KMnqnF1qydNtgm92rq5qRPsuAf7caKCYaWJjR28OY0UtERERERERERETU566+6R5UV1XByz8I1RVlqCgvQ0leNoY4OsE3aDjyMi/i2M6PMWPGDOzZswex/3EvLuw+hCFOjnD28kBZTr7aD50dh+xTZ1GalQtXX284uruioqAILsZ+bWUVasorjHKxMa4DXAN8Vb/MvUdw993XITU1C56ebvD398Lrr3+M5cuvQW5uEYYN80N1dY3a9/X1RE5OAfz8vODq6myUvbBvXxqGlOQganggTl3MgrPDEHi6uSCnqFTthwX5obi8EtlFJfAxrud8Zi5iI0eq9tKKSvh5uuOMcVyQjwecHR1RUFoGPw93a5u3MVZiRjZqPQJw8OBB/cT6l/YyeocEBwc/ofd7wDBMiomEv7MkCjvBa3gkIkMC4OFQj/q6IpTIYrS+wxAxegLiZk1BiKcDqgvOYc9nh7oU5BX29o56b4CrKURNXjKqci6gprJaV3ZPVEw0Jrtk45+7Wv4AxM6aiBGV5/D+oYZVgls0fDiWTXRB+ifJaC1h+aE75sDj+Kf4Q+NlFIkGrJISZgj3qOzt2Hx4Fy7qIhERERERERERERH1DQdHJxTnZ6OqohxlhXmor69DXU21CgBnJJ9GWVEBPDw8kJubC7sh9qirrjbaa1CaKQFhBxXQLc8vQHVpOYrS0lFVXIqC82lwdHNFpdFWW1Gp6oyBjeNqUVdVrfr5unngwoVMFBSUwN3d6FtZDS8vN4wYEYDDh8/C2dkJycmZyM7OV0HgsrJKY6tQmcXFxWXIyirCscTz8HF3QWV1DWpq65CZVwwnhyEoKKlArXEfpZVVSMsuQLFxbFZhCVycHNQ9lxjXVF1bi+RLeQj09jDaK4xyHZyN+7G0yeuu0ynw9PREXl6eOq6/CQ4ORkVF63G8HszolWmYF2BSoCOqs4/is2O1mDBtAkZ6txKIrSlFdvIJ7D+Shu4kgQ+ajN5e0CcZvWrd3yAg3VwXmGiwYEYvERERERERERERERFdTu1l9PZQoNcNI+NmY1qoJ1CYjN2f2UzDLBm8wcHwdx2iK6pQlJGOtIvZ3QrwWjDQS0S9gYFeIiIiIiIiIiIiIiK6nPok0Dts2vWYOcoT6MZau13FQC8R9QYGeomIiIiIiIiIiIhooJj5HXOG3d1/bbw86OQ5i+Hm5Q3foSNQWpCLguxLOLLjQyy4ZzVKC/Ngby/LsQIFWRnw8AuEo6MTdm7eaF2zd968eRg3Iwz/+ts2ZGZmIi5qJDxdXeDq5Ijaujo1nbK9vZ1aF9fVyQE+7m7IKizGvsQ0Ne5V82Jx/tTFZsfKernuLs7Gazm8jDpZN7fGGM9y3HXL4nFsb6L1OF8PN1TX1KKiqhqVxmuAl3uzc3qMGI3t27er4weL9gK95rvXDW7R8Zg+yhNDKrNx4uu+DfISERERERERERERERERUcsKsi6gpqoSGUmnUZCdqcqjp85E/qWLqt7F3VNtdbU1KMrOQFDoaHVcYWGhei0uLsY32/ehrq5OlSUQm1dcilxjC/bzUmvdnkvPUe25xWWqXvpERESo/qUl5S0eW1dfr467kF2gxsgubHxczqW8Rse5OzuhrLIK5VXVqr6lc8q1Xmm6l9E7fBqunzEKnihG8p5PcCBD1/ehgIAAvUdE1HNOnjyp94iIiIiIiIiIiIiI+rfWMnppYOu9qZvdoxA/bxICHSqQeXI7vj7TEyvudl5R0ZUXnSei3ldZWaH3qLE78cTqhQgtPoINf/sddutauoxWPIpbl4TrQhEOvvRTJCUAgc++gDlhZm3e/hfwxXNnzMIVIRoRL69BjJcupnyAdx/bpgtERERERERERESDDwO9g1PvBHrdo3D1nPEY5lqH7GOfIeEyBXkFA71E1Bv6V6A3ANfcfSsmeOrihS+xYcspXehr/TTQG/RDvHibDxJe+gX+rqs6Q4KiE3MGYjB0IWI2LQW2rMHBjbqqiYF7b60xg7jeCa3fs/u6p7AoKhFbH34NpbqOiIiIiIiIiIjoShQ8KwbOXh44/3ECrr7pHrUWr0/QcJQU5MMncCiKkw5hSEkO/D3dUVhartbNlfVyZR3csEBfpGRLkLEefh7uyCuR37bZYVSQn1pb94sjibhrzjQUllXgw30ncPOsSagyjpOplL3cXNSauiXGWLUeATh48KC6HuqcXlijdximXS1BXqA4ee9lDfISEV0JAmbfgNCUd7FhwwZj+xLpIXNx9+zLNW39Jjzx0ko8wGze/iF+OHxwHhdaCXheqdwCvJCX+DWDvEREREREREREdMWrKa9A/tkUBAUFIe30EbUWr7zKWr2yZm9JSYla3zY9r1Ctkyvr5VrWwd19OkW9SvBW6uVVykmZOWqtXZGWk68Cu2LXqWS1L/1kDV1ZU1fGlnNQ7+hSRu+wiXMxyTsdO3cm4nKHeZnRS0S9oT9P3Tx2ySrMRd9n9c6MfwmrJruZhbRteOC9Tea+QdpW4CxyJk9GKFKx7Qtg4fzQhn7jn8QrkSexIT/eOkbZkQ14JGGX2rdmCusSGmUMz8La+1bBZ99KnIx8FQtHSl0ZjryzGuuzmhxnZWnXxVaozM9Yy/y+Nmyn+m1lamQhx8/AX3EsYI11muSkRtm1TaYQxnnsuPN5ZOsS4u/H/NWx8NPFRudVbX44dudxhGxaigipK9rfOEtVXRsaj9lEaxm9Te/det0yZnxes2xY1T9gR8emQJb3W95/LfWLlXjihC4YGn2WDE3bW2M7HbWtxlNTm888LPFKm66aiIiIiIiIiIiIBpveW6O3n2Cgl4h6AwO9rVNBOt+EZoHeVZOBI+9sBBatwmQcwYatwArLdMqWwJ8l8KumWo7EWRWMNQO5kectgV+zPLnAEkzWZc+G4PAdN72KhbAJNvfW1M0q2BqFFEtwt0lg1RIstQQaVdlmyuC2g6NNp102yz6WoKU1CGwJLjf0PzOscZDWqoW1aFu8t6YBYlX2N88DS4C5cfC444HeO/HETcATlvdGvffANst70833qvWpm83nowLijTQOzhMRERERERERERENFL0wdTMREV0245Zhbkgxju+5XGv0tiEtwZpBm7qvhamdJUvXEvzL+gZni93gIzNQj78Rkz1TkWDN7t2F9VuPoGzkONyha5S0bdYM4L+fTQV8hmOmKvUe91lRwP6/NgQJN36Ag0XhCFmhyyLlA2sQtXRXIvK8/NCQq2oIm4BAvWvLfd0cRBTtxxlrsHIbDm45D7+oq+Gua0TSFkuQchsupBi3PSwapc/9FO/euQbvGv3NLGFjX7aOZNtKoDQ+HHn7P2gI5G58HjtSvBA2KxpIyECBrlYB4JfvV9ejpkPOkfO1Z1NDkFecOIlUBGB4kC4roRg3Xu/2GOP5qefwgvEemVm+6pncySAvERERERERERFduWYtH6deJ80LR2RsMEaM8Uf0jBFqf3TMcFUWoRMCETFluNofHumn2sbPDkXktGCETx6m6ifPD1fHCnmV/tIuY0h/aZdXYdtX+sh+yLiARuNR9zHQS0Q0UAReg7vnBCN9x5v4qrV5egeYAP9Z5k5xAZLNvValnrUNHv6iT9YJluCmX+wa3LrpBb3ZTsPcPgnI7kgJxxx9/Px10bpFy89oZx3ZxuvvZj+2pnnWcRcVZLY2znkUFvnDM974yE0EkvIbAtetH9OYZFy/stqyNZlaO+t3eOSLVITO1+33/bDXA/ZERERERERERERXqtQTl9RrfmYxvPzdUJhdhrLiSrVfW1OnyqK+DigrqVT7Ui9bSWEFHJ2HoKqqRtUXZJeqY4W8Sv/cjCI1hvSXdnkVtn2lj+zXGW2ybxmPuo+B3lbc++s38dZbDduffzQbWPG02n/GNpPLxuwf/Un3fxr36jrTPXjGZqy3Xv4xjNEajxf/Y/zZto+lvqVz6jrrZhlPaTiXumaLFsZvfJyYjcdetu3zJzwWr5uatcnW9D6JqNdIkPeWCcCxd/H+SV03COTk6ixeTx+MMvdMAT6Ns2Ivo4bM0Iat8ZTBbZPgrHncByiIXdM42Os7vFH2rvsw89tzfUEygxtEw9NX7+IMivO94D1qIUJ883DmGBCyQtqNf7C1F403yDTeC0emYttLK/GA2rYhVbdZSaBet28rmIxVDPYSERERERERERH1ilHjbsScW1fCL2g6XFxmoiSvHF7ek+HgEIvg8OsQOeU6XH3TPUg7mY1Q/0h1jMOwcNgNj0bqsSz4Bs7B6AnLMHnOjQiJuB4XTuZg1tK74OM3DdFTl2NM7DJEhY1FQIUTJrgEINzOCwunjcXQKhdMdg/CrDFhmBYUrI6b6j0MY7z8cfFUDq6PGYPFceMx02iX/XmTzHMvmGL+3jJm9Ah1rJTlNWZ0CG6eNUm9SpvUT48ORVzUSNVfyL5sMTExumbwG5SBXjc/73YCBG7GB7C1HmZAc0lYMrbcdTfuUtsWJOrW1s3GNdGWX9ePwgRrYFbGW4JRxYfwoh5vSxsJUaX7X9LnvBs/aSGQoILJi0ch+UPLtTUZb8UEa7DEPXq2cfbGGsbfgmTPqXjEGqyV61yNqbC5zhR3TP2+bbDXYL0P43jjTEt+fY9uIKJeYxPkfXNnjq4c2GbGr1DTNZ88YRTU1L6hiI/X2b2yJm9cKMqOfNTxNVyzMpDTjemAy3KKmk2ZLLKPnYdf7HcQYfvnYJdJpqzeNZjTPMci2vr3xUJEx3ohKcFc37f3nMGlRON+Y5c2TCm9YilivM7jmG228LDhQOLXKE3Og8/EpfD2ykVxR6dAtsnQvuOmJhm9TSTnm98Y7DgJRAMRExfqMhEREREREREREbUm7fQRFGRnoqaqUu2PnjoTdbU1KMrOgIu7J+rq6lS9KCwsVK815RXIP5uCoKCgFo+X/cyUM9b6kpIS7EtMQ3puAfKKSxHs54UL2QXINfbLq6pRXVurxpVydqH5289z6TmqXFVTq/bLKqtUvaWv1EtfKcsYcp27T6eoV2mTejmHnDciIkIdI/uyyfVcKQZhoDcWD/7sOTz5vfhWgr1umLPmaTz3+L1GzxasWIKpnkDyh4/jdV0FvIFnf7tT77cifjaijONK9x9Sv9weNcESAB0FH6Pe1uu//Q3aGa0V92BprDuQsqVRENh2vHsnSJg3GYf2Gz8onlG4ptXgxBv4yYfqSs2gtOW+ExrGev2/JZjrjqlLWgrmJqOg2HjxG9EsmExEPWvsjAmQP0Y8J96KVatW6e1uXNPSwq+9ZhbW3mdOtbtqsvGn68iF5rS7N92p2zvAczJW6el8V03OwbaXfqEDuZvwxEvbkDN5lTnm6lWYXNCwHm/HGGPYTge8+iWsbbQmbNtKn/srDhp/KyyyTNH8rA4ibnwe727JRcxqy9TNsj3a4pq7zUUj4mXb49YgJr9hPV8kvIYvXtoPnyWW9qXw2f9Cp7KFW7cQMfq8c8KMP6r19NOWbGKZUnrrfn/rlNK3LvHHwZeet67ZK4HviNgoFO4yrjXha6T4hiOiKA8dCcnuTkhAqs17HZ9/pFFGr2T8mu+RuanPQien4c5+7AMkhS3Vz62FKbGJiIiIiIiIiIhISTt9FEd2fIQTuz5X++cO7capvTvU9vlbf8SRL7eoenH69Gn1mnX4JAqSUpGVldXi8fs+/idyLiSretlPTDTTJQ+fT1fbq5/uQUZ+kQrMSnnHsXOqXcrnMs1kpqRLuap88NwFtb/njPlbREvf4ymZqq+ULePKmPIqbVIvZZGUlKReLSzXcyWwi42Nrdf7A1JRkUQbm3CLx6NPr8DwUxvxiz8m2Pxi2gzy3hl2Apv+52XsaOE31jJl85KwUhz6w0N4tmnmkkyZrLNpm2bbSqbtI7FQx11cYskINoPF5phmP8mo/a4laGw7XvKP8efvT7XJJtPXMMqmD8z9RmM0ItM2L8GolC24a8sINR4sfWXqZtuysKnbHrC6hfu2yfJ9eCeuse7/BjtbGo9oEKmsrNB71CPGP4lX4gqwoQ/W1SUiIiIiIiIiIiIiGgzi4uKQn5+vS80NzjV6yxLw/OMbkTF2hU1mrxvmfO+JNoO8DbJxsaPTUyp62ubiRHxlHHc+R9LOG6Zvfv2/78ZdKnsWcI9d3cLauA0aplZuIdCsZV9qJbCqp21OPv4GkHBRZWa1NH1z6zpw32q65zfx1vejkPiHuxnkJSIiIiIiIiIiIiIi6qemjJqCxdOWqP3gWTEIv8GcCvbGB3+EqfOXqfV5ZZu+6DbMWHyHWt9W1rmVdXY7ukauHDNs2DA1LvWtwRnoFTrYmxp9J5783gIskCBv5Nl2g7xNg7QdoqdttgRBH5HplQ0N0zcbNj6uArhbUoz9NqdUbkNygVq3sdG4Nsxpm432xW/iLcnslUJb5xrlozKIJXDc8n2b006XntnZMNW0WqP3JRwqbmH9XiIiIiIiIiIiIiIiIuo3auvqsP/cPrVvu/ZuRtJp6/q8slWUFKl1e63r7eYVdniNXDlG6qnvDd5AryhLwAs/24TU6Hs7FOQVO3+73Vxjd/HTuNesUlMcP/Oj1vNiZ8+MgruaalkycWWTQKjREDbBGOMePPPrpoHZzmYMawm/wXYJFIctwTPWgOxsPPZryRC+BxNkemiZtlldgyWL2B1RM1u4dpl6efEoFbj9YKPNfRv1lt73/lqCxcnY3ixrdyee3XjIuGN3TF3RenYyEZHViV/gAU7bTERERERERERERNSnjqUexaXCS2pf1t4dO8ldrb3r7peE3MxdcPXOg7N7LvKy96Gy8gxK6nMRPWME8l2rgeGOOFddoNbFLQ+0w5BhTmq/0t8emW4Vqhw5LRg1rsVqTOp7gzvQKyTY++hKPPSj9oO8pjfwExWoHYUlMkWxmqZ4KgJ1qzAzZs3tmRX3YKnK4LUN3u7EV2dsMmTDllj7y1q9yR+aa/d2hUwD/eL+UptrWI2pfkD0j+apDN7SHHOKaGXjcRW8tZ2+WU0dLccZ9+QuQWFZb1e16PuGnppZXWvDOsPNWILOnlOxso0gOBEREREREREREREREfUPqSfMoO/hL5JQmF2GsuJKODoPUftVVTWoralTdTVVdWpf6oXUlRVWqv3cjCJVrjPaZV+Oo8vDLjY2tl7vD0hFRZI6S0TUsyorK/QeEREREREREREREdHgIOvxOjg6oSA7Ex4+fvj6vTcwY8YM7NmzR706DItq1j5+1rXw8AuEg4MDyoqL4Obphbqsc9i1a5cac9bycdi1+SQi40agtqoWdnZ2qKmpgYu7E0oLK+Dq7mwcVwE7eztcPG1mDEug+MLJHJURbO9gp8ourk4quHz+SKbqU1NZh6TDGQidYJ7bzh44dzADIeMCVJDZ3sFeHVNfX6/qh4b7wtFliGrzCfJASUE56urq4eziiPo6GPfgguLccuv4lmsYHukHFzcndd0V5VXG/dur89kPsbNez+T54agorcKZPRfVNZeXVmKInN+4R2fj2DLjPksKKnDpfL56Jj0lLi4O+fmtjzn4M3qJiIiIiIiIiIiIiIiISK3HK0HcmqpKtS8KCwvVa0VFRbP20VNnoq62Rq3f6+LuaV3Xt7y8XB0jLFnCxblmVnBZSSXKioytuFJlBEvWryzh25nsYNXHGEdIkFb2Jegq5FgZT7KO5RhLfVVFtaqTtpLCCvM4o6+0y/EF2aWNx9fXIO2W65bgreV8ttcjx8oxwpIBrfoZdYXZJeYYxvn7GjN6iYhawIxeIiIiIiIiIiIiIiK6nJjRS0REREREREREREREREQ0yDCjl4ioBczobcP4J/HK/FBdKMORd1ZjfZYuUstWPIpbl4TrQhEOvvRTJCXo4iA1M/4lrJrshtQvVuKJE7ryChD47AuYE9Y773FrY7uvewqLYr3MQsoHePexbeb+gLYQMZuWAlvW4OBGXdXjzHNEFO3H1odfQ6muJSIiIiIiIiIazCzr6Y6/OhTlJVVw9XRCTXWtWg+3oqwS9kPs4ezqaOxXqfV0wyYFIeVollqXVtbCdfdxUWvV1lZLf7NPR9bcpa5hRi8R0UA3bhlWrVrVsC0ZqxsuhzvxxPxQFbx74CXZ+kmQN/5+zN/0KAJ1sX9ZiJgl4Ujasgbv3inb4A/y9md33PQqXoyfpUsdFY2Il1/ArZtstx7+vHXjM1z63E/VZ2vr/iJdY0ON2/ja56+L1o09wXw2MSt00aqlZ9Yb5yciIiIiIiIios6wrKebejJbrT9bqNeelTVp1bq31XUqOGtZT9fOzk69yrq0Um9Zq9a2jzq+nTV3qXcM+IxeBwdXvUdE1HMyMlL1Xn8TgGvuvhWhKe/izZ05uq4PBf0QL97mg4SXfoG/66p+QYJZq/1w7M7nka2r+o3+fG1XIAn0xudvwCMJu3RNR0jQcg3CEl/AF8+dUTVmdu157Oip97UHPicqszdgR+OMXjVuFFIsWcBNy91mPhvvhDYyb1VGOzr5rPoio5eIiIiIiIiI6Mpz9U33wMHRCQXZmfDw8cPX772BObeuREV5GYpzs+DhG4DAkFEoyc9R+x/++TnMmDEDe/bsUa8Ow6JQXVUFL/8gVFeUqeNK8rIxxBjTN2g48jIv4tjOj/Gtb30LZWVlKhvVx8cHI0aMQEFBAZKTk+E6cnyzaxCzlt4Fv2Ehal/OO3nOYqPdV/XNvpCsgs5eAUNRVlSIIzs+VPfS9FoqSorhUpGDXKdwlGSnwN7BCc4efkje/W81rhxTlJsNBydnOLm6qXv2DhwGe3t7FGRlwN3HH3bGPnLOtzrGgntWo7Qwz7iOAuM6PlLX6RM4VJ3f0bjW+vo6ePoFIv/E1xjiVgt3TzcEjxyGo9+cxcGDB7F42hIUlRehrLIUB5IOtPieTBk1BV5uPih3K20zo5eBXiKiFvTfQC8wdskqTCu4TIFeNW0zsK1ZoHcW1t63Cj77VuJk5KtYOFLqGk/rbJnK18I6pa+MGWn8hegzGZM9jWO+OIvI+ZPhVnwEG/72O+w2u7dCT72qSw1spreVIFN8HrZuBGasjoWfNDea3tYMVMXomW9hO42rHDvxOLbmzLFOjZu3vyHYJxpNm2uQzN1Ggam2glwq6KavSdhelzXwdxwhlnu0XJu6rjwc9I01rtu41y2JCFtijNNoCtrGz6bRdbc1turQgftq1Z14YvVCmJN7N53aW9rGoeBIACYbn4WyI9twNnyh+b6rfvI5WgFsTYDPbZYxUht/3tSXDYzPhy4ibRseeG+TuS+fpbgCbNhqPHZLH93e9PNnZXt8q5oHepvVNXovWwoAN/msWp93Bz7D7Y5t6lCgt4XAbOP3uvH4EtCemPMC9uA71j6Wz4IZ7FZVjTT9GWnrZ6DxGLbTUjcJ9FqeQdOfz1amRJd7moG/4ljAGuv4tp/hRvfcbLrrlt6T5uN35ZkREREREREREV1uI8dMgu/QENRUVaI4P1sFO929/FBVXoqammq4unvB0cVVtUsw9MCn/8aYMWNw+vRpTJ48GfmV9fAJDEZdXS2GODiq4yycXN2RnnQS9lVliI6ORnl5uTFmDTw8PODs7IyqqipcunQJFfYuja7BsboUSUlJiLvhFmPcOjVWYU4GHB2dERw5HjkXU1BWXAAH43wSfM5KPauusaq8rMVrqS+6hLRsmf3ODl5DI1Bv/M+9MkOdQ+6/vLQYwaMnoKqsWN2zT+BwXEpJNJ6DLxydXVFdWd7mGNOuu1kFhiXQW1lRiuqKcvgEjVDnHzfrWuz7+F01lozh7DnE6GuHIUPsUZRTgcTERAz1HooQ/xBcyL2AS4WXmr0naaePYmLoJHUvLkHODPQSEXVW/w30jsWyVdOQ/8838VVLkZ5e0n6QzAz0TvYEyo6Y2ZKSObkQur1pgFiVA8zgXoDsm9NBm0FiCeydxLjV8Sjo6Pq/1sBlCwEwazBIB2OaBL7c1z2KobuebxQEswbvLMdaAkFNA1ZtnLdxIMiGNajUJJClyz6WIJklsGUNMNn0h3ldEjy6MNGSWSpB2zkoVH2bBiZbCZq1NLa1vXvZpWZQt+l7qIPA8rk5O67R+25m2UJ/jhoCxI0+R/p4WNf9NcsB+jNnfq4kPKyDwyooHImzNtfQUxm9QgUp0SRI2MqzswT/GgVAbXXkmbfTR33mOpTRazNGk8+0GiMq0RpMtQZi9ee2aXtLgeNmmv7caE3HMn9mcnU/m89kslxzLAosn0/R9L5aug/j588SdG5+3SZV3/SZNSF9JGhsfe+6/cyIiIiIiIiIiC6f1rJRa2uqUVpUCC+/AGt2r2T27nj31VYzVre9tt6a7fvwf91rtFfib394R5+JegLX6CUiGgQCZt+t1+idi+ALB/o0yCt2J6w21+T9QgLgEkTTa/Q2zYRM22YNoP39rNHXZzhmShA4LhRlRz5qyMo88QtsS3ND5Bi9VmrxEXykAncSKLbp12MkoKmDTAlfI6XIC96jVANKn7MEecUZXEosgl+AJUvQIBmEliDQxuNIgj88482iKRwhzdYnbVg39d0t542SBGL1Gr16LPd1cxBhjH3GGhzbhoNGX7+oq+Gua0TSFh3IMtovpBiPdJhe39Tm2Lz9HzQKoCH+aoRhP/ZYg4rbcGZ/ESImLtRlU6tjKy3fV/eV4cgu/bmxed9tpX7REJht+BzJFw7iEdromE14wvhMuoVfpdpNEiTWXyjI+gZni93gE6AaelxZTgtr4rah6Xvbd7wQs1qvkasCpg0B18CJ8oWBhnLpczuQ5BWFobafcZufgdJdicjz8mvIqO6yhYiO9TI+fw3Bz9Ln/oqDRU0+d8NaCPIa3GdFAfv/2vCzu/GD5semfGANznb5uuPvx4yoRJufpcv5zIiIiIiIiIiIui//0kWVOSrb6KkzUVVeoqYMdvHwUtm0sl+UnYHqqgq1L30Ksi5Y64NCRyPt9BGkHD+gxissLFSvX27bheMHT6l96jsM9BIRDQA5O9/Ehg0b1PZuwTSsuvsa9FLsqltSz9oEfk/8Ag/YTL2ck9uZDMoeVpSISzbB3KSHm2QGSgBMby1m4bYm4TV8seU8Ipbo41++v3OBvPyMdjL8zuOCTXAr+7E1rWeE2hrlBz+vWCxq877aGLu799XTPH2g4/JAQUbb03kXn8U31gziXVj/N0v2b89zC+j4ZyX7sRdwEA3vSUyvBNFbI1900F80uPMDwHhf56+ToH40PH3R8D6rrfk00nmJXzd8TuWz0SQzt+uKUJisd1sRESuZ540/q0KevV/sGpvrtpl+vcdEI2JFFFI22mbiXu5nRkRERERERETUPS5u7nDz9FbTMg8NjcSpvTvUurClhfkIiRqPkOiJKpgbHXuNyvj1d6pH6qkjKHYpQd0IZ/zrhSfgOiEY1UFDMGz6ZFSODEDwrBicPnYWeZ4+qm70kvkIvyFe7YfOn4WhMRNUnfSTbei0iQi79iqEL5yjrknq1DEL4zFidqzal3bLcWL58muwbNlsPPTQTao8d24Mvv3tebj55nhce22s2l+y5CrMmjVe7Ut7TEyMWv9W1iCePOdGtS+kPGPxHRg3cz6mL7oNi7+7TtXJq4VkPsuawXKcZDRbjpEMZts2YWmfvfxeTJ2/rNH4sm/bR+pnL1+hrmXh/WtVm5CyjCnXINv4WdeqvsItclqjzRYDvUREA0zOmVQUe/r2y0BvWwL8dfauMgvDffTuZbUQMatjgf0v6CDYGmzd37ksTWx83nrsjvxYLOpMUNR3eKO+7sP89V4PkIxCfV3WzZKZ3BHdua+eVlwAazxQZ/dazPS/XD8JCxESBuTlSMZ2R5hfMFDP9KX98FnS18FeCzO72zZrXaYAt35G1GbJ9O5tDZn1pnB4NwnWyrXtSAnHnBY+fzItc+PrbmP66C5wX/cdhCXaZA3buHzPjIiIiIiIiIioeyQbV7JzJaNX9iVj18XdU5UzkxPVJu3yKiwZu/lnU3Bx9yEEBQWhKDUd5Tn5KL6QgdrqatSUV6h6RzcXVSdtlv3q0nJj7GpVJ/1kq6+tRXluAbyCh6rjpM48xhX1dXVqX9otx0kfd3cXVBnl5OQMTJ0aiXLjmOzsAnh4uKpMZNmXrbKyWr1Ke0lJSYv3a8lOlqzlipKiRvccEWF+pd8289k2o1meR09mRVvO1/Q9qKutUX3bw0BvU5PuxM+fWImrr8D59TwfWo7rHvLVpb7mizG/Wo4x03WxVaMxc31H+hENXmNnTIDnhUQMnEkwduGb82Vwm3wjzO8fGcbfiMmeqUjo1DqpbUjIQEE3phouyNSZrDJNa2cyepvozFS+5nSusYi2XnPzqWy7TKaYNsaeobI2u6+zUxT3nDvxxPxQlJ3/RmXx7j59FmWek3HjeLNV2m+c7IbUfQ2Z4+1Jzjc+i42meu4KWZd2qZp623ZK3w5Tn9cmuvkZ7jj9OTsmQX9zqvKIJY8i0GzsgjMozkezacHbZ04XHmH8zFkCuM2nMzdZs6GfbThH9rHz8Iv9jnG8ruhpKx5V6+o2f3974pkREREREREREV0+aaePqkzdE7s+V/vnDu3G52/9Efs+/icOfPpvtUm7vIrTp0+r14KkVJRmZCMrKwuZ+44iffchVU77cg+yDp9U9Wf+/YmqkzbLfsaew8g9fkbVqX422+FX31HHyb465l8fI/2bg9a+1uOMPm+++Sm2bduDTz7Zi0OHzmLPnpP48stDeP31j7F9+0G1L3UHDyZa9xMTE1u8XylLJvPZg9/g6FfbGt1zUlKSul/Zl2cix0lGs+UYeR62bTKe1Ev7Z2/8AUe+3NJofNmXPrZjSFa0XIvsW87X9D2QNtna0+1Ar8/Ymbh+yS245RZju3k5li2YjojLFSvsCUc347OLEbjjpwMw2Ds9DtetX4BgXSQazBxdHBEwOggjYsIwYmooAqOC4OzpqlsHl4b1ec1tLr7Ehi0Da60DWeN3w5EALFz9Kl6RbX5AwzqqPcJc37ZhOtWnOhgA0mvXWo5b7YeUTmT0uq97Sp/P3BbF5mLHwx0M1Mp0rjqz0zx+KXz2v9BDGYnG87jzAxQ0mtq24xmk3bqv8U+a7/HqhQiFGybfJvsvYW2Qbu+A0Pn6c2KMEXBkg3XdZ2T9Do+8cwQBTdo7MzXz7oSNOILJWGX5LN50p25pX8NUwWsQk/8B3rV5JtZntlqmGg7HHNXPEgxciBj9LM2tpfe69c9w22NL0Nk8Rk3PHbbU7GsTFG20Rm+Tc8ta0lv3++sx9dbJ7O3sxz5AkuW8xmZOC90+mS5cZYvr41r/nEk2tOUc+r4l43xLrs19ydbR4Gt7z8x4v5aEG4+t4dpks9xXTzwzIiIiIiIiIiKinmAXGxtbr/c7zS06HgsmBsKxtgLFJdWAgws83R2Bymwc3Z6AxG6nJLXPwaE3AjuuuPqhx/GtkWfwr19vxNdlurq/k0DvPd44sfYzpOuqzpCM3pnYgU//lK9r+pJk9M4BNm/G6b26qkWS0TsRBW+0148GM2dPFwREDoWjq/HnjY3q8mrknM1CZXG5rum6jIxUvUdEfWcW1t63Cj77em9dXSIiIiIiIiIioivZrOXjsGvzSVx9y3jkXChEbXUdKiuqUVdTB/sh9nB2dURFWRUuns5FyLgAOLs44tzBDEROC0Z5aSXcvV3g4u6kjq3XEUY7O8AnyAMVJdVIOpyB4ZF+cHFzMurtVDl6xgiUFVfiwskcjJ8divLiKnj6u6KitErVOzo64PyRTHMwaiQuLg6V/g3LsImyswf0HjAkODj4Cb3fSYGYFjcOPkMKcG7Hx/j6RBKSzp1BvnsoRvr7wM0hBUkZ1bpv77G3bxzo6Rk1SDuwC6WjluBby0JRuvsI0jp0KxKEvBEzFk3CuEURqM89jdx0IHjd3bhudhlOfS0BVAlo3oKY0ReQNGQirvvxOFS4ROC6711lHGMcN8nSzyTB1yX3xZptNmOa55oDj5EhmHPfVQiZHowpM0fCGR4IMfqGjDTGP1Ch+zW/JkUCwz+ehynSdo0zsgu9jHfVeN/UcS1Q/cfBceRk45xyTeZ4VUss19hk/EbnbvveQkbmocgnSOYAsB6vntvt5rEN9+Nn3F8QKo7anoeuJHb2dvANNf6S8HIzCrpSG+IwRFWVF3T/2xklJea6A0TUl0Iwa0ocXNI3Y3u2riIiIiIiIiIiIqIeI2vIFueVo7amFjU1dbAz/leSXwF7hyFGWz2GDLFHfmYJqspr4OA0BE4uDijIKsXQUT7ISi3EEEd7VBptNdV1qKutQ71xjER6y0uqUF1Va4xVDjcvZ/X7+6qKGlV2NcplhZUqwOvq7WwcW6vaZJN6ewd7FOcMlKzLvhUcHIxat8ZTKVfnNazd241A72iMmeQPx8JkfHmq4bexJeneCBnnA5fqcpxJzdO1vad3Ar2iBmmH9liDvQVfHGknS1YCuPPg8vWb+HT9UZzK9UTMPeNQsfU80r8ug/ftE+EhQdAZszEnOB0Jv01C1YhgREwOQ4Tjcfzrf3bg1NYLqF88zwwCS1Dz5gVYMqMKu9e+h71bG49ZrAKe4YioNo9N2nHOaHdGyOQaHDL6H1ZB0davqViCsD+ORNYb/8BXrxhtxcGYuWA4kH229UCvvl7v7M/w4dN7cXHkWOOYWATalmd64uLn6ajS5w5M/Ei1nTKuv2j2jZg5webexmfj0x9vw2GjLTt2DmaGGKfXAVwJAs9xOWh9Lo633IhIr6O4eIqB3ivdEEcHeA33wRBnB11jQwd+ywtKjL9gujxZgcJAL9HlwEAvERERERERERFRV4xa+TR8Yhag4NBnuqZlYePiETFlBrz8I3Hy6z0YP+tmODn7ISRyutF2DUoLauDlF4Lo2NlwcPCCT9A4hERPwuEvvsbUSdNw8nAi4q6/Hy6uQxE1dQG8fMMwZIgvvOyGICjyaoRPjIODoy+CRkzCyV17cPVN98DTNwJRMdciatpsuLmHIHTMbNReysGZo0kq+Msgb+vaC/R2Y43eClTXAkOcPRuvhzbcERJ6ra1pHix0C4zClBnxuHbO1Zg2YRR8dH2/N6SFgFJTN0/DeJzBCXNtamDvOaSVeMBzuhTOYff2EoyfF4cxcR44sXkfilUncQm7nzun9/Nxet8leIaNhqcESuOGIn27zTTMe/fhxMWhGHmzLqMUJ7Zbjm1BG9fk+dBEBF881jD9sTH27uMdmWv7Ek7oqZ2LD1007qNJ2cPbuHaDPvdum2mg07efMf4Esbm3fQ3PofhPO3CiRBcwGuMnwObe8pGeUgrPwIG8+DP1FDu77gVwiag/24X1f+O0zURERERERERERL0lM+UMaqoqUV1ZjtFTZ8LF3VPVFWRnIjM5EXW1NaiuqkDa6SNqv6KkCEXZZmCxsNBMkMq/dFHVS385riDrAkpKStQxUpbxZd8yvpSlr6W/vEp/6r5uBHqNNySvGnAfhmmzohDoLoHc8bh66jC4oAIF6Wm6n2nYtOtxffwkjA4JhE/AMIwaMw3XLo5HlHFc/+SKq1euwx3RmfjXU6+iQ8vBekTjuvV341tquxHjPdzhM0K3/fsATnhHY2TKjrbXlr1YaBMELkXBRb2rFRd0MuDZxjUVF/RyxnVhvs29GPYaZUsguIV7a8wd4++xXPfduG6COzx9/HQbXclkvYCqsiqgpXivUVdVWqn6EBERERERERERERFRY9HTZqOitAQe3pKUNweZ588gcEQ4PHz8VF3ElJk4e/Ab+A4dCZ+hIxAyZhKCQkdj8pzFcB46Wo0hQV5XLx8MGxWlgrju3v4YPvkadcyRHR/Bo06CvkdRF+SEC+XnsO/jf2KEazbcKpIQ4VeC8cPKMHZsEObOnYqYmBhMnH0DZi29CzOX3KXGlyxgqZtz60os/u46jJ91LcbNnK/qZX/6otswY/Edqq+QYyfPuVG1yXXOmDEDV82LVWNbyNrEIm5xNCbNC1drDsvawRFThqvXEWP8VbusSxw+eZh6FX4jPFWfyfPDERzlp9Yflv6WdqmXspC60THDrW1SL+eR4yJjgxE6IdBaZ9uvO7oR6AUSDx3HxRLAPXgS4hfegkXxYzHMFShOPoCvU3QnETQdU0Z5YkhlLhL3bsU///k5DqWXotYlEONnToKb7tZ/NAR5//7Ll/F1RzPGL+7Gv9a+2WjbbcmmlQzXwksonjAHY1SWbytGeMPTGiC1CRRrnj7uKM5uyJJtVxvX1DRwKmP3KOMPBDOoq003yiWWQHbTe/ODj4feVS5hd5Pr/pc185muZDLff/GlIlRXNF84W+qKs4rNNQGIiIiIiIiIiIiIiKiRtjJ4LXWSiStZuhLEzUg6bc3arSovUW1yjGT52h4vfaRdWDN/z6bg4u5DCAoKQlVVNZKTMxAaOhSXLuWrsmyS2dvVLOOIiAh1HjlWNmmTa5Dzl5aUN8oaTj1xSb1mnMtFYXYJcjOKUFZcibISYzNeC7PNYKCsGVxVVWOMZyaUleZXqD4F2aWoM6pqa+pUf0u71EtZyLHSbmmTejmPHOfk7IB649VSZ9uvO+xiY2O7GRFxQ+CoqZg+bZhar/fwgQNIbhKHdItbiEWhTsg+8j4SzupK47gp1y7CaJ9iJP/zExzQtZ3l4OCq93pKF4O8subt+pnAdpvgrpW0TUTBG5uRPnU5rvM5ZgYtp8fhunuigeMf4VM1xXHjMWSd2usmlGD3Wj19s+rvjROq3DCmNUO4Ubto45pU3xFIsxzf7Fpa0HT8NsvmuT1txgtedzfGF5hldW9hF/Hpz8zpm817BU7o65G+M7G7heBuC/dNVyQHZ0f4hPjC2cv8M6CyuBwFafmoqWweAO6KjIxUvUdERERERERERERE1L/JGr0i+dXH1SsNDnFxccjPbz0BdEhwcPATer+LqlFWEIhR43wwpDgNe043nw54ZPh4DPOoQkHiOVy0LgNbDa+QSAx1r0HBySQ0LBvcOfb2siJwD5p6Fx6Kr8TmX3UmyCvycTHXGeNumocpiyZhnGzXOOPi5+UI/9U8BCZ+hr3vV6DqQBbqF89DzOgLSMr0Q8TkGqRlR2HOfbHGMSEq0Jrwprm+cdWB07g4crJuM8Yz+h6yBnH9ELIoCBVHTyPXrADS01Ex6SrMvH0SQkYa4x9Ib+Wa0lFl9E1yCcGcm64y6yNycSjRBYFIMY5rvr6yMiLYuF4XZG89b2bltlk2nsfWMgTeNw8z9Lm90xqCvnJvRbHzMMe4VmkLzD6Ic25BwGnzfoq/vqCe05yb9HUvikB9rrS1cN90RaqrrUNZfimKMwvVVpZXqup6SkmJ+Y0jIiIiIiIiIiIiIqL+zidmgXotOPSZeqXBITg4GBUVrcTtDD2Q0Sum4fpbRsEl+yjeT0jUdTbGzsXy8f6oM9o/M9pV/NR3Eq6Nj4JPTSYOfPg1klXHzuv5jN4+1DQjloj6DWb0EhEREREREREREdFA0dGMXlmrdtfmk4iMG4HaqlrY2dmhpqYGLu5OKC2sgKu7M8qKK2Bnb4eLp3PVOrKOjg6orq7BhZM5as1anwAPePi5IOdCIerrAU8/VzUlsbTLmrUVpVU4s+eiOtbZxRGVFdWqTdanraupV+O7ebmgyqiX80pdvTGQpZ+sX3vuYEaH+8uaulWV1WpZR+lXVlQBFzdn4x6g+rh5yj2Z1yfr5Do5O6ox7R3sjbHqYD/EHs6ujmpqZbmv4txynD+Sqc5ve1+W+xXGYzOOcVLPT85TUValzi91cmxPaS+jt1tr9HbYqdNIK66FY+AkLFh4Pa5fcD0Wz4mCj0M1ss8e6nKQl3qHTKP8rfV3N95+Fdd4vV0iIiIiIiIiIiIiIiIaUCxr1Rbnlqm1aNUatUUN69Ra1pS9nGvWyr7oaH+5Prle6efl76Ze5RrVtRnXIMdY+soYljGlTV5rquvMvvq+ZDwhx0kfYXu/ssm+5flJ2XJ+y7F9pW8yepVhGDNrEqKDPSGTLddWFiPz3F7sPlVgNncRM3qJqDf0z4zeAFxz962Y4FmM4/98E19l62oiIiIiIiIiIiIiuqJ1NKP36pvuQVFuNvyGjYCHbwCSj+1X2bG+Q4Ph4Oik6j7883OYPGcx3Ly8jfoRKC3IRUG2GSA+suNDzJgxA3v27FGvFS4BzfpJnwX3rEZpYR7s7c2c04KsDHj4BcLROEd1xmmU2EtWcCACgkNRkp9jHJcJt6p87Nq1C4unLUFReRHKKktxIOkAxs+6tlnfIzs+wpRRU+Dl5oOEE1/2yH3ZnsdyfGDIKOs9LVy4EJWVlRg+fDiKi4tRVlZmzbZ1dnZW197T+mCNXjEco8f5wKEsC2dSzTV67XzCYRe+CHZjbjG30XOR6zwGZ6rCccrYTteOwUXva2EXYfQZPgN2HsNhV1MKVHQu8Nvja/T2JVkn17K+LRH1K/1xjd6A2Tdjrl0u0r2cUXHyKFI7tY44EREREREREREREQ1WHV2jN2rabJw7shuOzjLdciGqyktRU12FvMw02NnZqzoJhJYV5sHVwxtFuVkoLylCQdZFFbTNSU+Bh4cHcnNz4e/vj4Kiomb9AkJGqSBpfV0d3L394ODkbLRfQmVZCUZNiEX2uaOosXdS5cqKcnXOmqpK1JUX4dKlSygqK4Kbkysu5l5EaWUp/IePbNY3+8J5BHoFoaKqHFmFWd2+L++gYbA3+lnOYzm+tqZG7dvXlMPR0REODg4oLy+Ht7e3CvpmZWWhqqpKTeEs197T+nyN3s9OAW7jliDXebRu66QLO1F/cpMutG9AZ/QSUb/V7zJ6A6/B3beEIvWfB+B7yzTkM6OXiIiIiIiIiIiIiLSOZvTSwNKna/Tae0bBM+7ergd5Rchs2E37vi4QEZGasvn6CcCxjxncJSIiIiIiIiIiIiIipUczes9VjMH56mBd100dzOwtKuLEx0TU8yorW58Koc+NW4ZVMfl4982vkIOxWLaKGb1ERERERERERERE1KCjGb3Bs2Lg7OWB8x8nYOaSu9Q6tXW1NfAJGq7Wsi1OOoQhJTmInzAapy9kIa+4FPb2dqirq4enm4t6DfL2QEZ+EbYfPYu75kxDYVkFPtx3ArPGhMHdxRmfHT6DmNEj4OzgoMqlFZWorKlFWKAvUrIlO7Uefh7uyCspNfbtMCrIDwWl5TiekoHQIF/sS0xT19rddXddKnIQO28cDu44raZZPnjwoKofSPogo9cHEZM9UVrr1XNBXiGZvT7hukBEdKUai2VzPHH8EwnyEhERERERERERERF1XU15BfLPpiAoKAjVleXITDmjAr1pp4+gIDsTJSUlKtAqQdzc4lKUV1Wjrr4e2YWlOJeeg+raWqTl5KOsskqNJ/vST0gfaRdVNbXWshqjrg67T6eoV2mTenmVclJmjgooy3nk3BEREWoMF3dPdX1yXZnJieo6q6sqrNcqdaOnzkRB1gW1bm9G0mlVL+Wq8hK1tu032/epNXXlvgaj7mX0ukchfu4kBLoAh5pm8/p7494bR+M/Agoxe/05BM8Zj1eu94Sn0XTx8Bnc/o98/OzRqzA59Rtj3xe/+fFYxOWn4N4/pSPdHKFDWb3M6CWi3tBvMnolm3dOK1+iufAlNmw5pQtEREREREREREREdKX6cvZ09Tp35171SoNDL2b0umHSzPEIdKlFcepeJBc66nrTz+6Jxm0hQ+CkzhCEH1/jifQvdmP2vwvhNWkEHlC9TMvvG435Dvn4vW2QV/hF6x0ioivUyfexYcMGm+1L48/JYhz/p7HPIC8RERERERERERER0RWrG4HesRjmMwQoTsPOfWmod/XX9aZf/d9eLD9bbRb8vRHuXo7Dnxv7+8uR4+CEsVFmE3zH4wdRNdj8r1PYrKusmoxJRERERERERERERERERI1JJi+zea883V6jt7a6AmV6v1XjHOFZVYNcVahGUdUQeAxVBYwI9YRzZj5eOWmWiYioLafw/oY38VW2LhIRERERERERERER0RWpG4HebJRWAEO8R2DacKNYboZxW3SpFsVODjDzcx3h5VSLkkuqgIun85ATHISfzXE2K2y1NWZvmfoAnn72Ecxx02UiIiIiIiIiIiIiIiIion6mG4HeNBw6m43qIZ4YNXMZQlxLdX0LEkuQW+OE8FhjP9YVAVUVOJJoNqEiEb85WI0p14/Dz8bpOou8M3qnDx3ahK0XIrHiVwz2EvVnTq5OGD42BBGzohE+IwrDx4XA1dtdtxIREREREREREREREQ1u3Zq6uexMAvaeyURxtSNGu7eVfXsRf9lXhck3z8TOmz2Q9MU5vK5bxM5/pOCjfGfceONozNZ1SsZuvdOXyrDjhcex8Xwk7vz/Hmawl6gfcvV2w4jJo+A13BeOrs5wcneB1zBfDBs7gsFeIiIiIiIiIiIiIiK6ItjFxsbW6/1usxt3JxDSKFTbdRd2ov7kJl1oXVFRsd7raW6Y870ncGfkWWz6n5exo52FiEf9ai1ic9/Eu7/L0jUTsOBvY3HuvneRbJSkfUGo2VJw0NJP+sxE7tbzGL1oCnykMfUT/OVnx4Fr5uPWh/2wXx8vfH74ABbgA5tzEF157OztMGzMCHgN9TUKutLC+NOsKDMfl86ko66uTld2TWVlhd4jIiIiIiIiIiIiIiLqe3FxccjPz9el5rqV0duUCszmntSlbjDG6EiQt3eVYccfn8Cms2Zm71W6tjXJJ9LgEznBDNaKu8diVOopFaQ1A7Sf4C/3rTe2N3Eu8m4suNvsBnghdjbwmWr7BMmh15ttXx3HueKRGG3tF4RRkcC5vQzy0pVtiKMDnN1dmgd5hVEn2b32jj36RxsREREREREREREREVG/0+PRkPoDf1DZuF0mmbwyRn9i76R32vDmKSR7+lkDvaPGj0TyiePG3gTExgD7t8q+yELy2SL4DA3S5SLsf+sLFKj94ziXCt3WpN81EzAa55H8lVkkunLVo77H5iEgIiIiIiIiIiIiIiIamHol7U1l4+593gz4lmUbFW1MoSpt0kf6Gsdc/kxeC3Pq5hVjM7DpZy/iG13bOgnS6gzca+Yj1vcw9r9ptqis3YfX4sG/mdutMV7w8Q/UbY0V5BbpPWN/73lAZwmPWjQFBTstAWGiK1dtdS2qyiok3tucUVdVWqH6EBERERERERERERERDWY9ukbv5dA7a/Q2BHk3Pv67dtfntbr7Vjw4/hTezZ1ps5Zu47V6G9Nr9L78Cg7pTN3G6/AGYepLS4G3dsP/4dbGILryuHq7Y/i4EXB0ddY1purySmScvIjywlJd03Vco5eIiIiIiIiIiIiIiC6nPl2jd3DoYpBXyPTNoWMR62+7lq6Z6bvgVxN0uTNk+mZg9KKx8NHr/RIRVCA37VAyijLyVXBXtkJjX+p6IshL1FO8bojB7Y/PNbe7rKu4XwYuGL96LmZP1cX2DA/GIst1Px6FEbqaiIiIiIiIiIiIiPqPIcHBwU/o/QGpsrJK7/WQ2JV4ZH4l3vlpJ4O8SjbqYxdimu8pfPPHZFjyAQs+T0L9rTdjyZ2zMO1bso1HffZBZKYGIeJbISjfL/tmX5erYhCBMzi5ywxWVTj4YPy10Sj45n2cP6qqiMhQV1OLkpwi5F/IVZvsS11Pqa2t0Xv9QOA1uHvFjbg6Lk59e0dtw0qxPzFHd+g7I+6ai8kOKUjL9MHsx8fB82wmskt0Y7sk2Dgb868fhQnxxhZSiOPHBnfmdOW5TBxPMJ6Xqx8i3Qou4/06IHBGCFzT5L3TVW0pKcZZ47qPn63GyBgnZCXkoTfmzyAiIiIiIiIiIiKi1gUHB6OiovXfK3PqZiKiFvSrqZsl0Hs98PGbX6HvQ7uNjbgrBt7bD+JEhgR6A5H8dCIu6ra2Sf8pGHH+MN5+S682PjUKs5GInYfM4mAmmb2L/M833HufkyD7TPju/LJzz1sye1e642iH32ciIiIiIiIiIiIi6intTd3MQC8RUQsY6G1iahRuXxysC40V7duNrR+3/bxUoDPqEra+lI4iXdeYGYic6K2LhYk2fRuClMnj5mJ2uNQV4dirEnBWHczx47zMgoVNULlxe+NjJUt5Uu5ufI1x1j4XP+x4QLTx2OnY2UJQtPOBXjOQnr/PAxONsYv2HUZq1BTj+dheuw6eq/6GRs9MNGk3NLqvRu9p42di1VqgV9VHwfrEbQP4RERERERERERERNQj2gv0cupmIqIW9Kupm91DMWk0cO5oKjo9o3xPyczD8YRC+MTX4ejTB7Cr2AkTgjKx9fljOH6uvWflgtGLRsMl8Wyrfb1uCIfXlwew/aMU4zyXUD9jMib6XsJZ1d+cdjhy0ij4nNuNza+dQ0HIGMSN0lM/Dw/G/CUeSHx1lzq+IGQUQu0TsfWVbFTK4EZ73NA0bDWOM6dRHo6rr7FH2t5i1e5ljBs1wRi/8hTe/n+n1TTL06Y2tLdpahSWz63CTnkmauwwXLuo+bHOo4d3cupmF4TGR5nX9E0dps2NQvXnX+KowxhEe8pzccD41bEIOmY+D8szuzrSMh22BMebtE+2mbpZArW3+1mf2fFiT8y/3R8FTado9vREZLOpm30w+z/Ho+rDL7H1HXm/jM/FTVMwwdXyfhERERERERERERFRT2hv6mZ7/UpERP2Z5wTcumoVVqltGcbq6svFK8gDyCuzyR7tnqKPE22ySStwIbEIXv4uuqydP2zNHL54Mh3wc1MZpV6ThsKr8BIu6ONVm7c7PM0ikJGOnTYZx0VHL6HItl1INqzOSG2xvRUjxgXj4ocN2a5FH5/HRe+hCBmuK7qlCMe26yxZ4/qO2mYYTx2Jid7pOGq9rwqc+GciisIDzQxeaUcivm4l01qeGfadbHjmh9JwrDAYo6bqchskKD+i0fUUYOeH6fCK8mvI8CUiIiIiIiIiIiKiXsdALxFRf5f9Fd7csAEb9PbuMU/M7eNgr0xvfLuaBjgYsx+fa05VHD7FqItqNDVwl0mGqTHu7XprNg2z4eJJm6mBDyXibT1NcVFWCWATXJXgK85n20w1LNmtDWPfbjvlsFaUmNcQtM5Ix9YOrUnrAm8/43yLbcZuMlVyryosbZx92wme/l7wiptpc90202Z3RA8G+YmIiIiIiIiIiIioaxjoJSIaYHLOpHY5wNdVF9/6Em9/mG5mvj79JXaeh1qb9+0OBUQrUJiHNjI+fTB7ZRSgxjPOY2xb93UijHipFEXGyBNXmkHL2eHp2GmzXuyIu2aq7Fa5bjX+q4k9GqSUdW8t121uLax12xuaZh0Pde9URq35/jW+9o6uS2zJprZQGd5ERERERERERERE1KcY6CUiGlACcM31E+B5IRGndE2fssnkLM5qeVrgllzcnogi7yhcfYPNdMxTozDbZqpg63jDg3F1Cxm9rRkxr3GQuMXgs/W6XTD+luYZvV1jTjE9YnEPZTV3xiHJWA7GJOvzNO5rdjCK9qWZ9y7Bb9ssZwl222TsyvTWXnHjML4LU0ybU1tHYZL1vfPBJOP9urjTzLAmIiIiIiIiIiIior5hFxsbW6/3B6Sior7OayOiK0FlZceDmL0tYPbduHViQ+5m8bF38ebOHF3qO143xGCR/3m8/VYFxq+eCd+dncgAFTI9s+20yecPG2OZmbdqbGtwNx3H9nlgojqXtMvUy22cr+m4Sjp2WgK+Tdov7kuEZ5w7jup2mZZ6Uu5u6/q/ndX42g2S9aymlTavu9mUyDb33TofzH48HPmvHsSJoVG4fXapGtOz0bVKH5upopuMa3tdkr171H8mRp20eYZTjXEXB+uCaHhmze5Jaf2ZyvhdfX5ERERERERERERE1LK4uDjk5+frUnMM9BIRtaA/BXqpbS0FaqVuNjoSUCUiIiIiIiIiIiIi6p/aC/Ry6mYiIhrAXODtp3etfDAqHCjKZbCeiIiIiIiIiIiIiAYvZvQSEbWAGb0DSAtTN3MqYSIiIiIiIiIiIiIa6Dh1c6c4wt5vCrzChsIeRag4sw9lpeW6jYiuJAz0EhERERERERERERHR5cSpmzvB7Ya1GDX1GkReewMmXvttxH3vlxg1WjcSEREREREREREREREREfUTDPTacHLzh8cwLzjosmT4OrjpXSLqF37wnWvx7LpbsPqeubC3t9O1xh9mxv4P7puv2pbOm6Rrr1yjVj6tNiIiIiIiIiIiIiIiGpwY6DU4jF2ByJsfQQAuoKwsDznnLqFMtwEh8IhZAq8gV10mosutpqYGvt7uiBgZqGuAiVHB8PVxR33dgJ6NvkdYArzJrz6uXomIiIiIiIiIiIiIaGAKGF3faLPFQK/LEkQujkPw6CibbSgaEnnHY9i1N2DqvY8gwEVXteKWNd/BR39eo7dvYa1t/S/GY+0vLG1r8PLtutEg9e+sGY9fr7e0fwe/vko32rpqLt6RcW//lnUcGVeRuvVzcYtZUsxxGwJhRINFdW0dnB2HYFJ0sK4BokYNRV1dvWojM8jLjF4iIiIiIiIiIiIiosGLgd6wcPhZZn+tr0ZBRiLSz+nt6BZcKAuBj7TZGa8RqlcrAjHDLxl/+u4LuNHYtqWFYKElCCtGLsD4k2bbjX85At8bGgdzPaZMB/6u2z8uwpQHGwLFjRnjjjtt9vvuJhz2XWAGc98+jTSPUZhhHXM8xo+8gJ0vZOsy0eBRWVmDnIJShAX7w83FCb7ebogYGYDkC7moq6vVva5cDPISEREREREREREREQ1+PRroDRwfj4U3LcfCq8eYwdGBoKIMNWqnHMmbN+BCjiqYAmZh6vIpOru3Gm3Hj7Lx309+iX/q0vqTF/SelvYZHn5b73/zJXameWF0XEO2bcnhD/Hf3+jC21/hcEkIxttk/Ta4gG1PntD7xjm/vgCP0eNxC07ghDGm30jddPsYjEw7jfW6SDTYnE66BG9PV0SOCkRUWBCcnRyQlpGvW69sA2Lq5us34vFPt2GGLrZnxoaz+O2n5vb4Lx/Utf3JQsRsegG36m3+umhdP0DE34/5mx7FZZkDYsWjuPXl++Gui+0JfLbrz3nBU7/C55//3tz+dIOu7SXf/yE+/9d9WKCLjawKROI73nhAFwFvPLbqPrx1e6ixH4pnfnwf/nKdt9l0JZkyD2+tmozZutiX7r29E8982GT8xXiP3lLbPNyrq63kPn68HI8NA2Zft7x5H+M8+xu9/0RERERERERERF3To4FeH38fuDsMgfuwCbh22fWYPnoAhHsvXUKRms46E0VuSzBxks0UzsP94WTN9jX6pej91thOqXxDiK5sWWpekd5rSTYyOxqvSstDid6V4PLIcWYW8dpxIUg7aQkIEw0+Kem5qKmtxaSoERg/ehiKS8qRkV2oWwensUtWYdUqvS0Zq2tbNtiyevesisSProvE2+d0RV/qQBA08NmliEj5AO/euUZtXzx3RrdQT8t+zHzGO9r7O7kFn/30Z7j22h/gqW+Kdc1lIEG+W12xa0MhXtFVA5sZpH5mii5eCTKP4MHf/A13/e0QynRVp3xaiG05IfjJ/3PVFURERERERERERF3TC1M3l+Li2WyU2nti5JRrsXjOJIzsaJrO5VCxBade/weOff6VzS/rypFnmb5Zb2c/fAU5Fbq5JRLkvTrPOnXzjR83yehtItTPC/mXWptWORDDfIuQl6aLbRnpB4/8bDOTWDKBfcdgrZ62+YQlg5hoEMorLFNTNY8K8ceIYX44fT4LtXWDdX3eAFxz9yrMxZfYsGGDuW05pdua49TNfS0anr5A0rFtukzUGgdsXBUC7ErHik91lVKIi/lAWZ58WaUQBcZL1iD/4sqgdinP+Del8Z5mAjvlfSzMw3ndZPH4f5zGroAIbF2lK4iIiIiIiIiIiLrALjY2VuWz9oSo+GWYFFiB5H9+ggPuIzFlxlSM9nUEakuRff4E9h9J61rmQxuKinowK2fSWsy5IVwXZL3eIriUfYU9//5c17XuljXfwUN+e3GjnlZ57S/WYCE+U2XVNgU4/Je/mtMzS1D4BmDbd/+lplZWfUdesJZV/9HJ+NPaL/HPq+binQf9sFPa1P5kY6BNuE2tvTseL/95AfDxC9ZpoeXYRX5F8M37SvchGlx+8J1r1bq8r7z7NcKC/XDTtVNQVVODjf/aBQfHIbj3phnYeyQFH2w/qo/omsrKtr7Z0cfGLcOqiMQ2g7u2emXq5u9tw29jsvB1wFW42rsIX//jOMZ++yr4FX6D3926Ahelj0zH/JhRpw4wnHsHP1r1E10wyBjfHq0L4hzevm4h9qj9B3HLuz8xxlaF5sdqMoXzdVnP4Omf/0XX9CaZjnkpmi/PXoSDL/0USQm6qPthyxoc3KirOqzJOYr2Y+vDr6FUF9W0xkssfy8BSZZzqHpgx53Pw/onfbO6xmPn7X+hcaZxk7GB843Ha40cNzEPB31jEeNlPIstiQhbEgs/m2t3X/cUFsV6mf0N1uvWmrY3vu9oRLy8xhhbFQDJlH6seRBdpnCemNPknjpIpnD+adAOXPvQx7pGu/4+vPeTWHjoIs5tadxHpmP+9ihdAM7+4wd4+A+6YFDjXuWpS4bC/XjqW38z/jWgyZTN11Xhmds6n80rUwA/Ms3yA5KKLb/ZjtdlV6YRvm8qcGAzHvzUDA7LNMRLRln6yFTQETj+tzzMN/qp5SgKD+HFDUewU/W29NcFFOLQ3zbj2UyzJG3z8zYb1zvPev7kbX/DTw43Pa5Bmc21qGmMF8qU1KLx2KLxfRmaXFvLJIt4nvH+FGLqNGPs5O3YYlyfXIvl2kRb92WOsRxTbU7d6LrVc5sHy+GN2zT17P3wheW96KxufB6IiIiIiIiIiOjKEBcXhyF+ebpkyjlnmY64VzJ6tdI0HP7ifXx+OA3Fde4IjJyO62+YiQhf3d4flZWjSu8CNSjLKUJJWa4ut+2fL3yIw74LrFM3j0fTNXqTgTss0zp74fBfzKCuRcnhPIzXxz40pQjbJMir2xq7gHNYrM+zAL6HNzWs/Wv4575k+I70wrl9DPLS4HfsTDryi0qRkVWI8xc79rM6EI2NCEZxQQCWWaZtNrZl43RjK3olq3f0VQj6RKZP9sLV3w7Cp9e9g7PeEzDzeml8Bt977Crk/cOcYvlH0jb6tob1dCUI/O1AfP2sbn/2G9j+1TRjw09wdc47+thn8HWAzbGXzTYclKmYX9pvXKsEQc0pg9+9Uwd51ZTOslasGUyNWGJZO7bja93KlM8++1/Q4xqbbZBXArUTjze0bTlvnEOPvfE4khCOkBWqo+I+zB9IOa4DtRIstR37AxTErkGMpb9c+xJ/HHxJj63usRPCYuGdINMneyFmiR+OGeMneUVhaLzRtuJRLIrNbXhe6rqfQoS0iRbabQU+a1xnvmUa7Bdw0HdpH615fANe/kksMv/xAzW987XXbjE+w0vw3lNRDe0xx3Wbsf0jGZHf/iH+Q7dKEPinV+XiHZv2pp6eGoSik6WdD+pNkSBrIbbIdMHG9uIBbyyxrGUr0whvS4XbtHlqTVjp2xDktQjFEhWQlOM34xCm4gG9Hq0EWpf4HsKL1rGBqfc1XlPWbdpyPOJ3ULcXYtQs89yvv63HKzQDrNIumzUgKoHQhd449Dfdtq2w8dhN7usu4z46zhtTR+fhRZk+edQ8FYxW1zbGDCq3d1//P3v3Al9Vdeb//4uiRTAXAkEMF8NNuRMSBCHcVC4WtE6hMoUKnao1tupMnZ+VYqfttE6l2k7t/NTW2GqnaqU/KPRvFQqCiiDiDQhylRAIQRASyFUiiMp/r73XOWefk5Pk5AqBz3teu+619t5rr73PCTo8eZ5184wblVayOjjnpWEflxdI7rTxBXt8tQqdd9Do5amzP1ZeQoKunmDbAAAAAAAAQB01XaDXKs17VytffFO5Rceki7sobdwNmjisp87I1XvzsvXWE49p44qXtfXVl3Xovae0/WWbFlKrIv3ge7Zss7Pd/tO/BbN7Pf7jNrM3zHbdHij7bDN7Xetf103+tuPQo3+y5z0aPWv343y9U2V84OzwP396VfOzl+vwkXJVHv9U//30Kv1+4Rvusdz8Qv3k/77U4GzeM0tHdUyQ4ga2V26gbPOag0oZO0ujq4kmNlnp5rL1evEJb7d4/UKbievp8sBk9fYdl+bpib/mKan/eHVxWsO/NtL58+xxLVnpHQ03X+m98rQwmMH7lHNe6NqGuu2xZVq2LHJbpJ9eY0+or7X/q9fcYORL2uM0TdaqF5yMISvWJ6nPKEVf4WCFNvkzWd3gbgfFuQHTFdq1oVw9B052D5nA7iV9pE0v2fPHjNJl2qB3gtmu4ecnX58hbfiTLyu5jso3aJfN0C3e8JLveS9XzzE9wvue/bUbEL7sKhOs9Y7vWVrdO5qsrpft1Zrgc+9y5ri3hnfUeK79+VjnO7xB/y+Yofuybv9rvi7uP1LXBtr+7N7fbtNu5/Po7v6iQx/Nn5iq3X99RL9zD0bTWt06Ov81cOAz247dzVd0V/6KUOB23apNyk/oodEmsGtsXu0FMscO1tyrws/1mGzWQF+Z3sgrU9skE+jtruvTE5T/ViiDdt2q1cop664B/qCmybJd6AVh123dq8qEJPlzwauTOdA5a+PqUBbt5k2+sROqmWvsQvMu0Gth2ba1PFfnwbraBMPtM1XR+TLnm5qjp4NjFuglXxC58ZxUUVmckv2FDgAAAAAAAIA6aPJAr+eQtqxdoZXv5qrok/MU1z1N4748RoO6uQUEzyzHcvXx1qUq3vSqPi5uxLLQzeR7kwar5M3qsoEBtFQH17yoYOHmHeu1rSJO7TvadoQmKd0ciyMfeiWc62piVyWpl2as2q1fBbawEs8N84e7pmjKlMjtJv2k9qr8Ta5o7qPapAxd52YCPxrKuLVMeWIvS9hs4WWkj72Vq+LLBngZvm5gN1eHA4Hb1CQlxYfGNVtYqeQmVnqo7uWUXWMuVaJ6aKxv3uHlpZvYkUOhMstRfOf3/6NXXw1sU9Xb9sfmAiX7ygTHLkFd2jsf6eQ5WnBfYAuVFA5wA5nt09ws1UDp4hq1T/QyglWm0sPuTrUq8/aFSimbDOIYSxX3SEpws4FD8w4vldy0an+ual2SpLYJaborOO854eWlG81n2n/E+Tnv0tq2AQAAAAAAgLpppkCvp3L/Fq1d8bpyCir0xZeS1efKiZo8ZpC6NXWazrnArPv7B29dYH8pZwAt3REdKZPikqqJ6lajybJ6a9Kxa1gGbpcusRYwNsx6vYGyz3YLrP3bQE2W0dsodmnP7TYT+PENSpwaCvaadWzHmuxWN0vYbF7mcNDaN7Wv3Cvf3O6qPlLum76yzw6z7m3wWrtFWeu2KSR29pdavlxxdVq2wf/Mdgsrad2EOna22buea7t0sHve+rs39coPlWY2pZ3tsdiY7E27Ww/+0sjeFr7WrSlFfHmeCfaO11O2LHONSkpt8DZBiZe4O5bTbsSYplnbNnzeoTV0m1YDn8tkMUfMe2Z1GcD1Vv8sbwAAAAAAAMBo1kCvp1R73lupF1/P0f6yL9QuuY+uvGairux1RhZzbhRLTKnlsDLO4X7z02pKMEdaX7WMc9DCv3nlnGu4D4CWaeeeg4obOFJ9bVv9RmpA3EHl7rDtCKcjyHtgzTYVJ4zUDXfYDs3XDSPjtXulF6w9UFjuK8Xsreeb5O47Vq7WzrJempE933Y0rgZn9K79yPk3V/h6uHVyzU+1yASXF/xU421XVO59IpQXq9LumvV8/Rm9Jkh8OLdciZ0n65I+R7U1WKbZYco8x2doeDVr25o16EPlkCdr6J0Zoc+jQbw5JWVcH1qnePb1Ghq/185vlypKFCo57a4V7MvYtcHrsQ8FSlLXTyC4/+i3bUcMXlm9Sx8nZOifv2s7NEn/PDLO+Q4/E8ryLTvqPIHnO7/3Z/TmquCI1HvoJK85cY7+/rXInNv6Zm96pZZTJ4evmxvGrsv72qoCPfRCjhRYrzeazoN1iylr/IEJWhZoW76Ca+4amROGKrUsRy/FHIwt0wHnM41W1vg55x7BtYOriLjOXc+3sUoj1/Jch0pVqFB5anc9X//HtXmP8hNC6xg3HZPlXaGiPNsEAAAAAAAA6qhVRkbGKbvfYH3G3KBByceVv2SlNtq+mrVVt8EZ6t8jWe3Ol04W5+qt1VvqtLZheXnLK68M4Mx34sRxu3dm6Jg5S9MHxtnWQb2e7SvlHKFJSjffsUK/mlioR6bPVpfs3ZpQOF8P/qi37lg1WYUPpXtr7058Vvf7ArjF6805T9nWrZq2eJ5GuXGTcr350Ap1mpuujRMm27V+/cc9oevnO/e5qUqZ3PDxm9jsf/eVEC7Xpsd/6FvfdrKG/uV6aend2mTXrQ1jAr33Xql2Ze/q4Zk/0WrbHbjOH7wt3vCoXgsGbMOPF2/YoNKMPiqLcu+e+16Kkq1bdXyzjrA3x8vV88m7NdSt5myeZ40S7hygD2NZX9i8izHFWn77/6rtQ49q4BEz5x7OvcYG52aykUOloqO/L29ee7Xm8WINnC29E8za9c/NE3ovVZ/JCH9vXqB3mnNS3t+m6O7f206zju7f7tKIyNhd3lJdE1h71wRo52XoYq+lj9c/pq/8MNe2JulJX7nmj9dv0KGRl+vo/P/QPHftaf/xfC2af1Rf/q70P1/1BYqzkpU7XVo0qUh1/ek0wciw8sEm4zT7fa0bMl4LJpu1bkOZsjfPmKOpqWZdXpP1213zI0o9+881vPNtQwVa6ivNbI5dXfyCbg1bAzdS+D1MFm/wfDu/EP/4/uuc/meKdfWN0tPmudy+6iRobtaNSnzLeY7Dg/XUnCS95oy517yjpE3BzNuanitsXvmr9VjxUN3i/HSGnrP691bls3BFjB8L832Y8Knm31Smp20XAAAAAAAA4Dds2DCdn1RsW54jea3sXiMHenuOnKK0S0/WIdBrJOqKzFEacEkb6USRcpauDS9NWQsCvQCawpkW6K0LE+gNZPU2+zq9AGrQWs8uukL9d3ygjB83V7leE7AcqlI36Gu7cAbwvgvJq7bpumzbBQAAAAAAAESoLdDbqKWb96xfpuXv7tRB265NYq8rNfGGa9wg7+fHipS7sW5BXgBAVadlfV4AMfhMs7M/lK5K0bMTbBfOSQ/+7gpddWQPQV4AAAAAAAA0SMMyei8dpDGDU5Xc7gK3efJYkfLfX6stH7nN6rXrpiHD09SrvXPd58dUtHe7Nry/P7gOYV2Q0QugKbT0jF6DbF7UR/JDj2rsZbZRxV6tiaW8M2rWrCV7W2BGr1mvd06a2tpmpLDS0C3RhARtyJIep2QzAAAAAAAAatH4pZsv7ak+rQ8p90RfTRyZqrhWJ3Ws4ri+0HlqE9dOF5yqUP76ldr5pT7q/Fmu9oQFfSPW5C3br21vvas93qJ89UKgF0BToHQzAAAAAAAAAAA4nRo50JuqUVPS1fmC4yqtPF+JcVLR1le0dpeXi9v28jG6dmCyVFGqz9smqs3JQ9q47E3lm4Ptr9Co4X3V2Y3wVmj/9nf1bl6pe11DEOgF0BRacqDXIKsXAAAAAAAAAICWrdEzett2u1KZ6d0Ud77TOHlUuZv3KBSuTVTPIX3UwVRy/vyYDmxZq7f3VCp58Dhd1bODLjjvcx0r2qPtG7dofwOyeP0aLdDb6kJd0PZCmceq2ec6WfmJPq9/wWsALUBLD/QCAAAAAAAAAICWrfFLNzu6jZyiKy9tY1vRHT+0UcvedHN51WfMDerftlR7tm/Qlv31WYm3eo0W6E0aofHX9dXFtlm9j/XB8sXKDX+nAM4yBHoBAAAAAAAAAMDpVFug9zz7zzpp09rkvR7Tgffe1btVtgPOEen8801ar6c0P0evr1jb6EFeNK7Ee27R9Hs62VZz66S0x29R2mjbrNYAXftMLOcFmPO/p2tn2SYAAAAAAAAAAADQQpjArn/zq2OgN10Tp03ToGQTxP1CJwv2a3+V7aRzRLogeZCmTZvoXCEV7d/vK++MJjP6ak1/ZrpSbRPGNr0y5zd65XnbxFnj0v7dNOGeG9x/BsRfkqgJ3/uKeo3sa3sAAAAAAAAAAADOTnUM9B5TeVmFjp0w++fp/HZuZ1SfVxzS/oIDosIxAAAAAAAAAAAAADSueq3Rq8HXaFrvRJXuXq5X3w8vx9y2/zhN7NtBFbuXOMdsZxM6s9boNWWCJ9qM2nJtePJp5bwhpf7X93StVuqp/9jm9JsSxbPUa/fzWvzuAE2/PUkblkvXXmezEgsC53nccspD420rNKZ3rxE6uqlMGUO7qbTwsBI7XeKeZZRucsZ/pNDZiz4nl8kAvn2IEs1+xWa9sruHMvSSvS4K9/wk5W1KcO5p5uSNl39lYI4R44fd21HDs5VuWqm83iOkBaHr3ffW3dsPfx7nucPuE/mePN41yb7z7bXL96rXdaHnXnzna2Sct0Amk3fA5DRtW5Gjj7bvd/tMRu/wmWO19+1dylu/0+2rrzNnjd6OGj1rugbE2WZQhbYteV5vFNkmAAAAAAAAAAA4q5g1ektKSmyrqnqs0ZuoKxK8VN7Ebldq0KXurufSQbqyRweZFXzbdRyizl7vOcIEcCdKy3+jp+Y425N71et2r4xy/n+sVH73Ed66srPGKEOb9UowmNpN1/bf6V0z53ltaD8xtE7urOmaPrTMLT0cOaYnXhkdvGsX37vAOb5Zpdrvnu8FRaufkxswvb2H8p60xxbIBm9r00299JJ3z03ONbebILavPfNqL4Bq75246XlvfGd7RRHP1nuvFgePjVCGL5BlArducNw9/rzyes+qcZ3d0keeDt7nqeX7vcB11IC1884yFXynr5QM0fT/GmCPAWeiI3rj+WxlZ/u2NQed/godIcgLAAAAAAAAAMA5q46B3kRdMWaMBiRfoJNlFTr5pQ7qM+JGTZk4URMnTtGNI/qow5dOqqLspC5I7KUrxw86d4K9NoC7IbAW7BvblFeRoEQT3DXrxC4vU8Z1VystM0EbFvgzSPfrlWCWa6Fy1u1XYu8Bzpvu5JzbTfnLFyvfHtUbr2lDQTf1CgY8y7VheShDtooa5pR4zwilFrwdyop1xn5lU7lt1GS/NtgAaum7e93Aclg7LskL9FYJaMt5ls2S/9nWhd5D6SMvaUMwOXuAMobK92yFyt9drsRLbJC4RgN07XWR79jPeWe+Y2ZOpd37+oLnwJmvb88UVWxdr4blLAMAAAAAAAAAgJasjoHeT/XFF5/reNE2rX1lpV7J2a/SE1+oTVyc4uLa6IsTpdqf84pWvrJW24qO6/OTxxVL6PCM9fmnOv6Z3Y9F3BBNf+Z7utXdZikjLl4dbOlhPb9WG9oPUa/dL4WVHK6ioNgXoCzX0QK7a5UejTXgadUwp9KjTZwOWFIYHmx9w2kHAsFRni1cvJst7M37e25Z5sQOyfZY9VL/y2Qwh5d1rpGZk90FWoTk0UrvelAb1x2xHQAAAAAAAAAA4FxUx0BvpXLXLdOytR+4wbHKPe/q1X+8qCVLlrjbi/94Ve/uMWv2luqDtc5563KdK1qo8vf1zuZCHd26VttjjVabNWgD5YMDpYED2bQmw7Vkv0qHXu+VcK5O9yQlBgOkvkCxldghXqWHo5UkrkYNc4oMnJqxG1X7Tjaoa4122hWBQHbksyWrQ9gapF4J6rC5+9b3jWrWdLfcc/CdxyJsTmhRvjil885rrXaJXil5I+HS9jrv/PP16ScnbM/Zp+/wARLZvAAAAAAAAAAAnPPqsUbvueH4kY909MAW7dm/TyVHPrW9NXh+p/K7T6xmHVlbTnj5Ym0w69he518TtpsyAuvWuud1U/52E9D0yhWnXudbk3f01crovl95sQYya5iTW2Y5sG6w4Y5t9xuDuXfcEF0bfDY5zzJE2r1NpYFnywys52tLSdt9U+o6r6Cbrq117VyzDvD37POZdydfGezqxPvev3P9zMCc0NIc2Veo4+XH1GN4H12W3lOX9u2qXiOv0KefHNfR/MP2rLOMm81boYJdZPMCAAAAAAAAAHCuOz8lJeU/7X6LdOJEDEHYWFzUVam9O+pC22z9pTY6efwznR/XVV16pCj+AntAn+ro7h0q/sQ2g4q0t+gipf/zP2nUV69SutkmXKS9yyrV9/F/Usr2xXpt4TEdf+uATk3/J2VesUc7DnZS/4yTyjs0WFO/O865ppe06Xkt/f0xd8Tjb23S3tSR9pgznnPuujmBNXs7qedXu+qTDZt0KFACuSBfn2RM1rX/cpV6pjrjv5VfzZzyddw5d8dFPTX1nyd7/Zcf1rrtbZWiXc513v2r6N7Dme9F+uhvO7zAaI1t5338rUIp3/0nXWPvnbTneS22a/aaZysZ9U+a6szVHEs5tEbbLu4qbfWep/TVPe57mvp1O++v9tepInPM/9zt1HnqILXd/5ZO/fM3lJ6Q4BwLnB94B+1855trk5W3J855p+a5Bynl8Er9+cHgKshoQb747HNVFJWpQ49L1HVQqi7t11UnPzmprcs3quxQw0P3n39el7rtzaPv1V/W5eVv6W85BHoBAAAAAAAAADjbpaSk6Pjx47ZVVauMjIxTdr9FKi+vsHsNlDRC46/rq4tts3of64Pli5VbbJsNMfpqTb89SRuCwVs0rQG69pkROvpkHdbwxTnrxInq/+A8LZJHa9a07ipY8rzeaOLltQEAAAAAAAAAwOk3bNgwlZSU2FZVBHoDWl2oC9peqPNts3qf62TlJ/q8Md7aGRroTbznFk0fGrFeb8VmLb7ztRZe4phAL2J3ZgV6O2r0rOkaUPa6speyOi8AAAAAAAAAAOcCAr1nMjJ6mxmBXsTujMvoBQAAAAAAAAAA5xQCvQBQDwR6AQAAAAAAAADA6VRboPc8+08AAAAAAAAAAAAAQAtBoBcAAAAAAAAAAAAAWhgCvQAAAAAAAAAAAADQwhDoBQAAAAAAAAAAAIAWhkAvAAAAAAAAAAAAALQwBHoBAAAAAAAAAAAAoIUh0AsAAAAAAAAAAAAALQyBXgDAGS5RmfePU2aabTYJ7x4z7kxRvO1pCl1mjtN1k9rYFgAAAAAAAAAA9dcqIyPjlN1vkcrLK+xeI7hsgr4xuacuts2qjmnPij9r5T7brIsx9+kP3+2j3N9+Ww+ttX1RfUPzF0yVls3SvGdtF4Bmd+LEcbt3Zug7NUvjutqG4+CabL24wzaakQlUpu54XetyTGC0h0r+uEnbP7IHq9VG/e8coYEJtulT/t7bWv5ybe/a3GuI8+eiua/tanTePbqU5Wr54wdVbnsbm3l/g47G8swAAAAAAAAAgHPdsGHDVFJSYltVEej1S/sX/WjOYLW3zapKtOWZB/THBgcaMjX3yTuVuJZgLnCmOpMCvR0zZ2l64kZlL93pdfS7QVljpdezX5TtaTZdZg5VwmoT3DWB0WTlP5irA/ZYTNL6aMYUaV2drmuOQG/zINALAAAAAAAAAIgVgd4zEoFe4Ex3JgV6TTZveuliPb/uiNeRPFqzprXXxuYM9LoB2hTbCBdbVq5VbaDXZtTalsIyayMCvZem6Lpv9VG8/5yw+ZVrqy/TOH7SUI3SDm3pMEKZPby+A76gsTl+3TBbsHnvZi1cUOrtG9GeOyLrN+z6iHtHy2YOe1+BZ/Fa4fc39848puVLpFGBcyLnBwAAAAAAAAA4axHorYvR9yj7X0eGZfSWvPOIsn613rZq45VdTnX387V0mTR1wDbN/MGfbenmRK2euU0Dguc4KnL02O0Pa51temOMV6mvxPPNv3heUy/z9vOXLZWmDNC2mffrucCY5j5TvBGPbXhct/0qNJr/WndO5jqza6/N3ZCstIx2zrhe0Nl/fuRYwLnkjCrd7GbwpthyzR01etZ0DSh7PZTh22x8WbyBIGRdyxxHDfR6wdDuuYEAqA2OFgeCmr5A72EvMFrhz+51g6WXqCAQYI24RyAQGwiwuu0+h6vM3e3vsLeGQKqZVz9piS+Q69w7c1Cx1tnAbeTYJoM3U6HgbHhGb2SmsteOCwSCg0Hmg96zRD4nAAAAAAAAAOCsVlug9zz7TxibFumRBx/QA77tkb+8bw/WxmTpemvrzpxptm0aYIOv4f6seTMfV06FCdo654UFeavKvPf3mqqldsxZ2jbAFyR2pXrBZHP8tzlSxr9o7hjviHttUo4es9fONAHhJ+9zZhqQqj76X/eYCfKG3+tx5V5+p+bPtqcCOH12vKjs7NelsVnKypqu7vsWn4Ygb7j4ThdLxZV1C/JWJ62bBiYc1BYbLJWOa/uSXJX3SA5l+BqdogR5HfGDLpHe2xEKfubs19ayFKWm2baxd3Mwi7Z8y2GVJ7RTnNuKXfykfuqe67uP8dHBYJDXCBv70hQN6uEcryZwHD+ph7sm8Jbgs5Rq3bKDiu+TFMrwdTOEbVD8o2IVlMWrvfO4AAAAAAAAAAAQ6K3FBR17alDaILv1Vdd29kCk2VOVphy9FCzF/GfNW5Zv9+vrG7o+Q8pZ+mfblp77wVKFj5qvpSZj2Fi7TrkV7ZToRoLttc/6AsnPLnVm2EejbSDYXLs6mLEbea91emPXMSVfEgoLAzhNTEZvVrpKlmS7Ad+KgdOVNWu0OtrDzcFkos5wSyunKPP+cV6p4h5DnL4+4cHY+io7ptrqM3QZZsoXH1S+L8hrxHWIV/ywEc5czBzNFl4quVFcmqJRfQ7rTV9Q12OyfAP3dTZ/GeZY1BYsLzusD4OB5ePa/nh4kBsAAAAAAAAAcO4i0Os39Cbdc/+P9KNqt3s0Y6g9N5riAzVm59ZPkQ7YEs61W6cDxXbXFXmtOR4IBEfTTmnffV4LFnjbXRnt1K5jtScDaBYdNXpoiiq2vqw3ikx7p17Mfl0H4wZoZD/3hGZxYMHrWrjsoLc+7YOva91eb63ZhVXW2q2nyAzbS9pVCZi66+ruTVHmnSlVjnlzcebo2xovINpG/addooIlVctUd5k5QgPlvRP3vn/MrVuWc1LbsGdxM6UBAAAAAAAAAIgBgV6/Nx5R1owZmlHtlqVfv2HPjSapi68sspR5SbLda4hkdQlm4DrGdHF6YhVxrTO7LknHVFptorFZw9eWeQ5sgWxhAKdVXKIvf7dfH6WoQiVHbLs5+TJQKwojs1vrKadIB5wnGjSpje1oo/6ZKSp/b3+VIPKBBW9rq/roupmJtsfp23FQ8cP6qf+ltqORmWBulZLNfsF3YgLCvozejyqdTylUQtqs35vZw9s3vDLPfTQoWGI6UYOGxevAujquewwAAAAAAAAAOCcR6PVL+xf96Ne/1q+rbPfoy/aUaj27Tflxabo+uKatKYVcXZ3nSGZ93+ejrIf7Z23b105pU79h29LNU9MU26j22tm+NXnd8tK5eiNqhrA5P1VTfxG6F4AzwRG98fzrOth1nLKyzBq9zjY2TtuWPG8zfJtPKNu0jRKS7G6jKNW6BzerIlh+eYQGFofW1A1nyhdv1gF/2eicXC1c9rEGfstXQjnmktKh0suhctROOxBITuvjBmfDS0MPDQaVD6w2awnba5x5t8/1Z/R6a+52mWLH77BXy9/zhXA/Oqjlf8xVnD1uSmPHvfc2pZkBAAAAAAAAADFplZGRccruN6G26pM5XoMuCWRrRfF5hfLfWamN1WVMVaO8vLZVHevgsgn6xuSeqlo4s1DvPfn/aYNtVWvMffrDdwOB2HwtXSZNHbDNy4p1jyVq9cz79Zw5PPtBLZiSKlXk6LHb12n0k3cqce0szXv2G5q/YLxKf/ttPeQGZE0Q+E6l2Zqm+cuWSlMGaJsZJ3JMx82/eF4DtplxQu2pl3n73r3smr1Rro28l3RMOcF5AOeWEycaKVsVAAAAAAAAAACgHoYNG6aSkhLbqqpZAr3dhk/WlV3b6HhZpU7avkjntYlTu9alyn3hVW2xfbFo1EBvI8u89/f6lv5Xt/2qEVfuNQHa2dIfAwFbAE2CQC8AAAAAAAAAADidagv0Nkvp5jZfutD530odemWlVlaz7Sk/KZ1/vi7wLmn5xtynb2VIuW83Zjg2U3Nnp0m71hHkBQAAAAAAAAAAAM5hzZLR22fMDRqUfFz5S1Zqo+2LFMs50Zw5Gb2m5PJUpdqWkb8sVEK5vsJKLxv7lnqloAE0KTJ6AQAAAAAAAADA6dQEpZvbqs/wq5Qad75tR/pUpXvf1bt7Km37XAn0AjibEOgFAAAAAAAAAACnUyOXbm6rPmOu1aCuiYpLiKtm66BugzKVfqm9BAAAAAAAAAAAAADQqOqY0ZuuidNS1aZoi15cm2v7IlU9h4xeAC0NGb0AAAAAAAAAAOB0Mhm9gwYPsq2q6pjRCwAAAAAAAAAAAAA43Qj0AgAAAAAAAAAAAMAZaM3ra6rdmiXQm7u7QKUn45Q6bZqmVbMNSr5Axw/na6e9BgBwFrljhX61aoWG22ZT6PLARuceu3XHHbbjnDBZQ//yqKY/+S9qZ3saU/JDzth/+bl6jrEdltfvbVd//3Lb29J573LobNtsCmP+RVeb9/bQZNtxJpmkJ1/9H71qt7//vI/tR/3Y9/m3ObrW9jSF7/y++s/qlp91V+7vLrItI0Fzs+ZowYzuzn53zb9vjp6akOAdimbIeC3IGqxM2/R411XtbwzVj33zDKffHIs256jzPBOY57lRczvbJhpf58F66r7xutk2w77X7rE5mj/EHnJdpOUvJ+tB2wIAAAAA4GzQPBm9H23Wq+9tU37Bfu2vbtuVo9XrclVpLwEAhPSdmqWsLLvNGq2Otr+5Dc/erfsfuNW20HQuV88nQ8FUb/t3JdujjcINOtZvzKK5d2vx1+/Wmn22w6fd938eMe+qgeKG8d5N1YCsDXpH2Zo0eHuW+M7vp6p33lJdc82/udtXfphrj5y9agqStnhZyZp31Sda9J1PbMcZoAEB2ecWPqOZDz+jpfm2ozlVCSai5fpEC9+6SDctStAttgcAAAAAgJau+Uo3f/SBNr73rt6tbtu658wI8raKU+v4rs52ic5rZfsA4DTqmDlL4xK2aXF2trKd7fWyAZo+ta89ioADP0rXvRN664knbMdZoHjDo25A1Quq9tDYKoHZFdpkjt/+vzpmexqTF9D9ofastR2xKt+g5XbeyzdIQ2c3TcZxOPsu3HuWh81h07P2lNNt7f/qNTOnuStsx5mij7p3lHZvetm20XAv63YTNP/qM3rF9jSfi7R8eiflLS7S/bbHU6YDJVJlcZm7X+r8o7DI7NdFgeY9/IxmZr+vdban8TTl2Dg3+L7Xh0pVaNqH7SHr6R8XaNGRrrrzZ61tDwAAAAAALVurjIyMU3Y/BumaOC1VbYq26MW11WV61HxOq8Qe0qUjpKTLpYs6eJ2fHJWKd0kfva1TpXu9vhiVl1fYvQbqNFWpk8eoa3JrfVpyWOXqoPj41vqiOFd7Vjyj4sIzKCMCQJM7ceK43Tvd+uqGrHHSmmy9uMN2JY/WrGnttTH7xWYrd2/KIt8zMt62fPIW6d6sed7+xGd1/9yRSvJa4cdM6eavSQsnTNY7TjMwXvH6+XrwR085Pbdq2uJ5GhWoyOm/VvN1x6p0bXyoUBMC45et1yPTZ+tA8PhN6u3ul+vNh9K1ZKXbcEWde9j4NdzbfaZOWjVho9ID9wi7d1MxWat367LcR/XaL51/P0bpM5mz12XY59r3UpTgoclwvV49bcsNfLoB4Yj+oHJtetwGdU22750Z9rPcqzVf/7WK3P1wpoTzwCP+OXoZvdf1ybX3crhjJWmrb4ywuUeMHxjzHX0zeM6epV6w1hwbe5nbFcYExGucQ1B178TwjsneK/gO/OfM/ndNn+r8d4zL974c5p7D9Sdt7Xh3cI6BeRv+uUfON3xcK2xu9X9nsTFlhqdKf/033f5b22WZrNcvFz6m/3HG/uHIOLdvt/+8iXP093kZutg2ZbKCv20Cxn00/2/flLYf1YiRqW7/Ik3VTb0irq+WmdMAbZp/VF8OjF+2QT8PBE7d+3bQP67ZpqHO3L2fTd9xx7U//6/gnKV8LbrmEf3O2Qvv9wnMvc5jV+jt+f+hefbPnbBjwfcRUMtzGd+9R69+zXlnrvCxvfd6l0b4qhd/vP6xsAxsU7J5XnKR+tQjmzdzwo26K903eFmOHrOB17Bj+as1c2GBtx9gMnYnm7LQnsqNL+jWVWVeRuycNLW1/SEFWvrwaj3n7NU6tmVKOF9dbMcNMPe9qlhL83poqh0jeG+XKVl9o9ICjxU2vncs8a1ntO2KOZrqvvYy5Tzzgh46ZMoAj1fgkwgJHLfNapnrh6p0xV5dPtk+v+99uiLeWb7z/3PM22wbjsjPI/x4Tc9VM3fcpE2h893PKEmvuZ+HGXe89MImJc4JPH/oswqocW4Neq7w9x7+WToixo42t1pNSNCG+y7UiklFEb8MAQAAAADAmWfYsGEqKSmxrarqldF7XptkXTnsymq2OF1QzTmdxt4tXfnvUtdMqW2y1Mq5vdnMvulzjrXq93XvJs2o9aDvafjMkTpv61N649f36p0//lI7//gDvfM/85SzvlKdp/1EvdMusWcjZrMf1IJffMM2ANRfhUqO2F2j6IjTE6eOjVrHt2aBbNmFeXKDs2bf3fzB2LkjVfxX2z9hkXb3uilqmWcv8Fqkhc55XpDXlISep1FHFtlr5+vNjpHX9tIMN+Bqx04YqRuCa/HO0xOBftvjF5h7cF7K08LgvGO896rJKnwo2r2b0y5VOP8+T+roBQSP/fKHoezVKJIful6JvozgUNavzXx9fIOK3YChPe7P3A1knrrnNEy7q/ooad+2UKB49r/ruoyjwfsu39BBYyPWGE7KuFvXdVxjj5er5xjvuJdh/Kg2OY9sApmBZwsLmlbLBMr978QZRxm6Ltp6uTbIW2ruEXhvpm9qB2163N536VENvTM8w9rM2wRcI+dt1FTuWs/+2s7JbOb5yrXp2VCQtyHvrEYmoOmuyesFM3t/LbBG7z36jneG6+KRd+mHnda4JZ1/vr5CvZ3rvHVnJ+nJeRk69Fev3PM11yx1fu6n+sohx2lE/6P6+fwN+tjpNwFj9/qhk+zx2qTqJjfgasZ+TG87n9e/hZVado6/OlZH59t7J2Ton79rD333Hv1w5FEtcq818+6gm+x6ua/88D/cvkXOn2cmSOrN3dnCArI1jO08/z/rT8Hrfr5eGvHd0Fq8gfHNs0bnf66qY//9ax30tntfZ/vrUY2YF/o8vvP7uzTiSKjEtnmGcK11db845eXU4xcUh4zXXellWmqyas22IjxouG7VC27/Yxt9Qbeg7po/OUE5z9hrnS0YnDv0vm4NjGcCnfb4TF9wruaxY5CQpqkmcGnGfSZHSh8fXBv35hk3Kq1ktb3nC8ppP77KOr+pk70AsjlnaX6C0saaQKLNMHbGq3SDiYF5xxLkDXDGmmwCqPbeStMtwXs77+yKPXZMZ3PeT+pkX4nozoN1i//zcDZ/sDSW56o/Z95zhqrU/Tydscu662rf2F6gtrq5NeS5vCBzp43eZ2G+I4XpN4bW2TUBaf/3zP1s6mHVMW0v66T0LNsGAAAAAKAFq1eg9/y4zurWvVs1Wwe1iXJOQfL1KvrS5d4ANTEB3/TA33Y1g0tna+DYtsr/80+1Z1Ou1Kq/Umb/QoO/PMZ5OSf12e5ntf3ZV6XMu9X1UhPCrk6m5j75vBYs8G1P3udbh+wbmu8/ZrbIIOiY+/QHp39+lbUEo1y74PeaG7bmoT2nusBq5NgmCBs2XrT7Ajj9dir3wzgNGB4q1dx36jil2P0zRZcHJqt32Xq9GCybPE9P/DVPSf3Hq4vtMboGg7xeZq9nvtJ7+YOvT2nJyshrTaZu4Jp52pgnJXWp+1rBw7Nvkv5a13ubDMRAlnBd7n2bHl22TMsitwU/1Xh7Rl1VHoke1K1OUp9RtQf7mkJ8hq6z6+O6AUpftnHywB7aszSUjXrsl2u0J76PLvH/O81ks9prjr2Vq+L4pCjZgHU0+3oNjd+rrcGg8C7teXaDii8bEF4Ou3MoyOvPiDUBa234UygY/uxL2lTeQ139/+7c91Iw6Fzfebf7/jd1Wa7vPo4me2crn9FXAsFGp2kybb0Aopf5GmQyTm0Q9JXVu/RxQgeZ/6K79udjnZ/7Dfp/wezcl3X7X/N1cf+RwaDnbuceXqZqvv5R53V/TTZrYC65WrW9Qhd3Cs983v3XQLbry9rk/Gx27uIFgr8zNNU5FnqOV364RrsTLteEibYjBtWNbd7b7b5n8b+T2PifK3zsa8c7o6z/UyiD97cv6e2yVA01/2k8cY6+3Ctfi8IC0pEuUHJChYqcMesmQXOv6q78FXXMjAyToMsHNlagsY5MADmQnXpon3aVBebSXQNSC7Q0mOlapofeKlDbXpeFrxWcvzoYmH7uA+fc9on1Wku4KpP9G3inZXojr8x37wLN82fgbt7j/JQkqIsNUHuc+QeCnGFifK4GyF8RCGjbeSeFAtTXpyfU8F1pwHN1vsz5OcrR08EM3gK9tLFMqVd4Gbw3j02TNq6uQ6C9Op9p/xHnz9YulG8GAAAAALR89Qr0nizaoiVLllSz5cvkL/jP+duOC1X4WbCYZ61adejXTJm9XdVp0jAdfydbhUdOel0dhqhTp4uUeFkfN2DtOvaydq86pJRJN+pC2xXdMeX8dpZmzvS2pcVp+ta9/r9uyddSe8zdfvBn2++5eWqaivblK3VAtGBtxLW/zVWf7z6vP4SNf0zHksZHBIA9Zuwqf9m/b2loPGebF3OJRwDNaefS13Ww6zhlZWW5W589Ttv5k/ZIMEXyDHHkw1rKGffSKFNCOW+jL9DqmNhVSW7W7G79KrB9rZc92IjuWKEZWhS+hm9M987TRt8172SFMpFr9gfdPWWKpkRuM3+i1faMumrbMVC6t3ZFc23Gqg24Dm3OX+YxQcdAhupSaexffq6e7r+bLldce6nnVG9O3la1jHRx7puhbFY3uzgU5GyQ8uJas796ZpiS1Xv1YcS/E827N1mzoXnfraGxfxyxGfMvGt4nV++EZSif5nfm+Hj7+lBZYTc47AsEHzkUOtYcOnYOBpHNfxtt8pWA/t23/82WMPbWHA5lKIeylmNX3diGKZ/sG9tfurqBLu8U52ZQh+YdXqa5VhMujFjHu7kUaJ6bSXujFtw3x9l8GZzNzluL2NU5UZ3UXVPdOdktrOyvJ98EdwM2r67DOsEmA9U3trMFs0+jWBexJrIpRR26NqJMtMmEdrNh7fGswaEgbizPZUoc+4/7r28I995V1771q/dzXZKktglpuit47ZywEs+NaXdRheKTa/olXgAAAAAAWoZ6BXrrwl2T12Tp1pVzjXttU4q/Sp067NWh947aDseRv+r955/WO//7bPhfBn+wQh9e2F+JdfhL3ee25atdx6ore0X3DQ24LF/bfrBN+ZcNqP0vx9Y+rNt+myNlTPWdW6TcXVKfERHve8x9Gp+Uo5xo5SJrZLKEf6+594ayf92sX182cHgWsD/z+MHT+Bd8wNlmp17Mzla23V480lFxFSXyV3M+I3TsGpYF26VLZLghTwurLelsjgXKK9utUdfBna87zBrBvpLNIU1178bO6J2srpdJxUdiXct+l/bcboOtj29Q4tRmDvYGuJmv8Urw/evQX3bZ23xlo5tSZJZrapJdhzjEzG3Nvh5VSiMbZm3d8HnXZR3c2lyunrP7aJ+/ZLPPaXtntQkLvErXdulg95pIHQLLoQzlwOZf67b+3PLJ2qCfB8Y1pantscYQVk7abrWvaWyt+rTRAvx1FijR7GyPbUzQ1NMW7E1Ql/ZSYTCo6i+7bLeYA7m1KdND2eFj+8srR8pMTpBKSoNrHk81WbnBa1cr3zstxASd7fGlJWm6KyxYW8tz+a6tcqwhDpWq0O5G0+DnCivvbTd/hnAj6Z0cp/Ii+4u+AAAAAAC0YE0e6NWlI+xOpC/pyrFX6IUH0vQftqeKaq9tJBddpNYVR3X8lG2rv5K+/D0N/upspX/3TiXaXk+uKkvi1baTbdYqU3PHpCp/W3jWbrVmD1Dqvm16Tn/Wtn2pGh+WqVuNteuUW5GqAb6/uD/wq9UqCgv+etm82rWunkGLdkrruM3L+l2Wr9Qpz2vBAH87ENA1paunSssCGcLbNGBKrEFuADFLHq1Z07qrYOUbpyXQe6CwvEpZY+PAmm0qDlu7dr5uGBmv3SsjA6bz9MRD66WR83RH4NyVq7WzrJdmZM+3HY3tVk1bHFmy2WrSezdmRq+3vmzP8g0R2Z4xWvuRSu1ukNsXUXq4KdiSyV6G7C4dzi1Xz6nha9vWjbdWcc+BUdbWrcmz27THed6B3w8U2HXe6ZgeKt7wUpXAWDAb2rd+b9HWvUrK+KbNTG58yQ/dXaVks6cx3pnj2496v2jw2G22o+G8ksW+9WU1Sf88Ms5XrrkRTZyjfzNjb6qpbHGAV+a599fC1xqOtKuwIqzMdJ0EA859NP+7jZfR+7tN+bp45Dc1P1qJ6ZWHdEi2jLPj2p//l26qUvzgpIrK4pRc56IIXhZsoESutxZq1czXWEVmrroOF6syoYdGh5XwbQJDhiotoUDbTMDVLePcXVNn1P9ZvMBmdSWU68KWPPZnD5eZldI9N8+IyHyNsLfY904b47mC5am7a/6ctDqUmXferVnH+MYaMoTr+1ymzHOCfx3jcObcUHnqus7br7W6dXT+XD/wmW0DAAAAANBytcrIyAiGOWuXronTUtWmaIteXFvdOmvh57TK/LHUNspfTU4brFd7Xyi1/0yvzsvRf9nuMJVFOrXuZ7YRXXm5KRRdT5fMVtpXpJ2/f1bHbZf5S8re/2eqUrRX7//3b8L+Yjzxa/+jjtv/Tbu3244wJtB5p9LibNMt4/xtPRT8C1uT7To17C868pcFyiV71yautW2TMTumVI/d/rD9zXtz7QBtm3l/lbWwbv7F8xqwzVwXOkdO3/gjj+u2X5mrw/u9c51uc4+wQKwpDR05vrl2vEqDz1FDOzVyzg5zDxMUjihRDbQEJ06E/lQ43TpmztL0gYE/XA7q9ewXtdO2mp8Jms7TqMDfweYt0r2BLNmJz+r+uSODGZLF6+eHShzfsUK/Mhm1gbV53XYv3/UR4zpC18/XHasmq/ChwDq5Zq3d3ZpQaI8Hxgpj1vT1zu/irgscWY7BZPEGAr813Nt9pk5aFbamcHMwgd2I0sD7XtLi4Fq3UY4bwXMma2hEeV+TjRpYPzZo9r9r+tRA9YxybXrcyxJt9/2f67qMyMH3ao1bDrjq2EZg/KrXhsYNqHKOKfV8u5fJmvzQoxp4JMpcw4TPIfLZ3PH75AbHDImYe9g79Y4puDZv4NzAczvC3pcROubes+Oa0HhjzFq/SdoawzurOq4R/t4a/M5MoPerzs/JniWactcfbGfAJD356lTpr1UzR7/z+//Rlwsf85UtjjBxjv7uK11sslED5ZPn/+0udVjpjJlrzumgf1zziHb9/L/0w05rdE2N68wa3pz85ZZNhm5wfu59vTHD1hP2MYHQH44M/oeZ3LWGv+oPQntzDJZGzlvqzau2sSOeeff6Deo8MnB+xJgBgbHd5xqro/ND2cVV3vF379GrXwv/b7RFgbn4jzlj/rxwrP5Nfwr7fG75WXfN61em+TeV6WnbF5vumh8ss1ugpc8U6+obpafdTFBTovhGpUU+V/5qL9vSlAkOCwybtWkDa7yGmGzPUClek/Vp1nmtZeyweYVUbnzBW1e3yr0D4wZUHT94rT2W+FbNmbjh94j+bFVVnXf+Cv99wo9XbsxRYXoPldqxw9+VUZfnqo3/Wud5VuzV5ZOT9Jrv8/C/E3cuSZvCMmtNeeapvocLPVtDn6um9xYx72c2KXFOT20Luz4GExK04b4LtWJSkZz/DwkAAAAAgDPasGHDVFISWKeqqqYP9E74H+cu1SUO99LC+XF6v7pA76kvdGrVv9lGdA0K9MZ/TQNv66oPH/mNSoNvobpA7zB1/+4/6bOF/6GDUdPoTLD2X6RnvSCoCcBO1VJfkDMUcK3yFxFj7tMfvpuo1cFj4WNVf63/PN85ZrzZ0h9vf1i69/f6lv7XDfqGgsLOpTEFYWsI7Ea2TaA3cjwCvWjBzqRALwCce6oGRBGri7T85Z7S4m26Ltt2AQh68HcDNLnoA2X8mIxeAAAAAMCZr7ZAb9OXbj6Tlb+lIyU91HlY7evJnTdotLp+sk1HYqyV+twPlir/svGaG0OJx8wRfdROqZoaXN/WZAa3U9rUb9gzqjF7qtKUqzdstk/Q2oe1ujhN18/+hq7PKNJqN7O3GSR1kb+EW+YlDSoyCQAAgDr7RNctLlSv6cl60PYA8JiM95s6fqjHCfICAAAAAM4STR/o/eSo3amHhlwbkw916NXNunj4bCXFX+C0L9HFo/qrzSef6Pgn8eo09iq1Nqe1m6SeY7vq0Jt/1aemHZM/a96yIqXNvi8s+FmVCcZKOb8NrG1rt9/m6NhlA8LW2g3jll5OVs6zvlLJPs9tM+vnTrXr/taByQZeEFh3tw6e3ab8OBNctm33udrZfQAAgACTrfs/erW67feT7Hmot+wizX/rIt30u4tsBwCT7T7jqk+0qM5lzQEAAAAAOHPVMdB7Up9/Ll0Q31MTr51YzdZZbZ0zA+d0vajSu7Q+imtan6+R7HtWWze11eWzv6+UKy7Qx2/+Rlt/+wO989ufadeazTrvitnq/y+TdOGmp7Xng5P2ohg9u1Q5StNdvwhk5vqzdp3tyfuUOXuAUiuiZeWuU25FqsbfGwgTR1xr1sOdGSihHIW5d8Ux5SytoWzyZVND4znbH4L3qo8/a95vc5Q8JTDeAG1blm+PAQAABLys26/5N11T3eauZWvOoWxzQzz94wL1+c4ntgXAzXZnXV4AAAAAwFmmjmv0Oi5N18ThqYo737ZrUfx5vF6vzLCtSLWs0fvur3WqdK9tRNegNXp9WveaqZ7jM9TpYunT8sMqVwfFx1+kC098qD2rntHB3YftmQDOBazRCwAAAAAAAAAATqfa1uite6C3Hlr1+7rUtY7Zoh+u06kdf7GN6jVWoDeozSVqc+kAtW1Xrsp9H+h4RSOPD6BFINALAAAAAAAAAABOp9oCvU2/Rq/DBGxPHd1hW7Uz58YS5G0Sxw/r+N5XVbz1PYK8AAAAAAAAAAAAAM5IzRLodW38rZulWytzjjkXAAAAAAAAAAAAABDV+SkpKf9p95veka1qVbxTOvWF1Poib9Mp6ZMj0uEc6YO/6tSHb3jnxujEiU/tHgA0ns8//8zuAQAAAAAAAAAANL+UlBQdP179UpPNskZvU2r0NXoBwMEavQAAAAAAAAAA4HSqbY1eAr0AEMXpCPR2zJyl6QPjdHBNtl6MWNY8cMxzUK9nv6idtgUAAAAAAAAAAM4+tQV6m2+NXgBANTpq9KwsTVKBDtqeMP1u0PSBFXo9O1vZzvb6hykaN2u0cxUAAAAAAAAAADhXEegFgNOsY+Yktd+UrefXHbE9fh01emiKKrauD2bw7nxnmyriuqtvsu0AAAAAAAAAAADnHAK9AHCaHVn3fJVSzSEd1T6uQgW7AkHgvrph2gDFOf/XnpReAAAAAAAAAADOWQR6AaBF8Mo7Z2WNk9aY8s1SXBKRXgAAAAAAAAAAzlUEegHgjBenAdOmu+WdzRq9L+7oqI4JUkVxtFLPAAAAAAAAAADgXNAqIyPjlN1vkcrLK+xeI7hsgr4xuacuts2qjmnPij9r5T7bPE2+95O7NVmv6Ms/3W57ADS2EyeO273m1Fc32IzdUClnk8k7Xd33Lfat4WvOS1fJkuf1RpHtAgAAAAAAAAAAZ5Vhw4appKTEtqoio9evfVf17NtXV1S79VTX9vbc0+g3P330zA7yzviq/vGbcZpmm7EwwetFdyfbVg3qMTbOLv/2zWv00Pen6c5vjNN557Wyvc4fZs7+v8252j12/fhBtvdscEQ791UobuAkjbY/Ih0z05VSUaCdBHkBAAAAAAAAADhnkdGLxmeCsaOK9fvvva4ltqs2JtCbWfwX3fRoLZGreoyNs4sJ9HZKulifnPhMf1n6nnbvK3T7B1/RRdMmD1WbCy7QGxt266XVW9z++mrWjN5+NyhrbIpthBz0ZfZ2zJyl6QPjvEbFNi1+/g1RuBkAAAAAAAAAgLNXbRm9BHr9Rt+j7H8dKX/Sbsk7jyjrV+ttqyb99eQfrlTx5nINGdJVH2/2gpbT7v6mvj0k3jtlf3i5ZbcEczdvf//Lr0iTrtD22/6m37hjBfY95tz+Ox7V7QvDg6Lu+En52tx+sIZc/KFWBK+/Vt7Q5dr81J/0A/MII8dp0a1Jytsc78zRzMk79s6wwBx957pqHmfdy9LkSV3do1Gf17H/ZTPnasZxJesXv/m6M3fblPMMTxUr89ZU5QXOM8HdSdIHzryvqDK2beCcYQK97RPa6vxWrbRx+379bWWO2z99croG9LlUF7Rurbdz9rSsQC8AAAAAAAAAAEAESjfXxaZFeuTBB/SAb3vkL+/bg7GI15CkD/Tl2x71MlNnfFXf7pWv3ztt07dC1wbLE5uAqLvOrj22vV8gEFoP3VKl/2fGMUFeEzi9VnrZG/fLT+Wr161f1ffsqVJX9dIy99jvN0tDbr1bM/3tfw6URa59nMn9vGf98lPOOxoyRb8YKS159E/68ssfSh+/7z737QsjxrnNH+Q1ivSD7znvZr8XLHafYf3rWmDmMqm/c9y5flRX7X/5b/pelbG9EXDuOXHiMx0pPabLUjqobZsL3cBvz24dlf/hUX3xxef2LAAAAAAAAAAAgLMXgd5aXNCxpwalDbJbX3VtZw9EVa7NLwcydm2A8s1QieHf7PhQFyeZQG9/XTdEvnPNuruvaL/dr7P974aCpzNGa4je1/JAEHT9duV9HK/OI21bH2qdLY+85L18fRzZvjhJ3U0jhnFWBLKT7bGkqJHqIh0qkdpfEsP6uz5LHl2mze2v1C/uduZR8gpBXVTxwZ7DSoi7SL1Tk9Xnsk760oWttf+j6n+rBQAAAAAAAAAA4GxCoNdv6E265/4f6UfVbvdoxlB7boy6Tbpb//iD3UyZ4/bJNmO2XIfCMlsb0cWD9e3APf9gyiJXF4StRczjeMHc6vzmp39RXq+vu+MEMpprV6QfvGnKYCsUUAZ89h08qs8+/1yD+nRR/16dVfHxJ/qoqMweBQAAAAAAAAAAOLsR6PV74xFlzZihGdVuWfr1G/bcmJj1aAMli+32vUCGrz871jEyOWxt4AYxawH77+ls9cqIbaxxbHnmL9/mBXyfnGG7a2QyouO1f3+8Jv/ElHAGwhWXVbqlmlO7dlCXzkn6YG+hPv/iC3sUAAAAAAAAAADg7Eag1y/tX/SjX/9av66y3aMv21NiV6R38vxr3vpt1/b98XYNWs/3Jg3WxXbfXFv8cVf1DwREZ3xVk2PNyF34gfZ3uzbGYGoNGmucML4yziPHadEf/Gv+hpt29xQNKXlXt//0XWceV7rr/wKRcvcV6qIvXajzz2+lD/Ycsr0Y8c0LghsAAAAAAAAAADg7Eej1K/lQe3bu1AdVtr0qtKfUxZJH/6QVJf7yx3cHA6emnPHm9tcG+/vv8K/Ra8oWfxgq+9zvA62IeQHf7br9qffV3l8y+jfRgs21acA4C9/QZnnP/eSMZP3iN6ExJusV3WTXBPb7zcvvS0NMeeev6nszvqpvDym3JZudebxcriG32qBw2NimA+eyrbsOqqT8mD4qLNPeA0dtLwAAAAAAAAAAwNmvVUZGxim73yKVl1fYvZauv578wxXaftvf9BvbA+D0OXHiuN1refyZvG//6aTdAwAAAAAAAAAALcmwYcNUUlJiW1WR0QsAAAAAAAAAAAAALQyBXgBATLo8sFG/WrXb27Ln294Y3bFCv1r8rLrYZl0Nz7b3dbb7H7jV9rYU83WHmXsDnv/0aa1nFw1Q7ssDtOFnrW1fExsyXgvuu1FzO0uZE2509sfrZnuoJbh5xpzg/BtPd82/b46empAgdR6sp5z9+UPsoTNaguZmOe9jRndn3/cMLZ39DBa4W5TvZ4v9Dp/u75l3/wVZg5Vpe+rCe9eNPedavsPO/gbnz8fcl7vr2Qm2DwAAAAAAoBkR6D1jbNftlG0GzmkdM2cpKytLN/SzHRH6Ts1yjs/S6GTb0cwO/Chd907orUfWl9ue5vNOVm/33gvzbAeaxS0/S9FV+lDzJ21Txo8/s71Gb337T/+tP/zNbr8+RyIcbvCrZQWeY9X3/v90P8t537IdZwMTcK1n0LBGh97XrQ8/o5nP5KjSdjWfc/RnzwZcz7hfcFhVpgznz8c+iz/RVVkJusV2AwAAAAAANBcCvQBw2nXU6FlZmqQCHbQ94frqhqws9SndprNlVfJzyzw9MaG37p0+WwdsT0vROzlO5TuO6WnbDrj+19/RiKP/0G1f/T/O9g/l9fiy/vv+3vZoAx0uVqXKdOCQtK6oTCor1l57qCV4buEzmvnwC3rImX/jKVOp8yoKzfs4VKpC0z5sDzWYFzj8tnar8X+PwvkcS6TKYmfe/mc42zXhd7jv/Ter7we/a5qfvSb9nsWiQPNMAD37fa2zPXWxbtULzs/eM5q32XY0ihi/w9kfKy/hQuenCQAAAAAAoHm1ysjIOGX3Y9K225XKTEtR21a2ozGcqtT+91Zq40e2XQfl5YQ9ADS+EyeO272mZzJ5RxY/rxd3mIDuOGlNtrNvDzr6Tp2lju88rzc0WrOmdVfBEme/yB6MYsQ3L7B70tt/Omn3Go8p4XxPpxW6N2ue7QkwJYpvCv1Fd96i0DmmdPPEQi3cPkAzRsa7XcXr5+vBHz3l7ku3atrieRoVqIjpv9bHlHCeUOi/rjZmTukqXJ+sUc59i9cv0s7+Nzn3KdebD6VryUpzTsS9y9brkUBQ1sx76EY9UjhZ90SZt3kX39TjWtVpnmb0cru0+6+99cQT3r77rux1VZ/Jm9vGhwo1Ye5IJZku/70d5nkD4waEv7em9eDvBmhy0Qfh2bzjb9Z//1tv7fyf/9TvV3tdJhv03it261fffE47vS6N/8ki3TdCevdXN+knr9rOBjOlU3tq2zPFunpOmtqarrIcPeYPDJkszsmmzKpRppxn/EFXc/14pdqWx39OxPH81Zq5sMDZiXad4bvWZPsG5qQCLX14tZ5z972Ssnf12hs2zyp9Nc676ZjP7qsf/afm/3GC5v3ty9Lf/4+zbw8G3aZHl01Trz1LNOWuP9i+hjPv4Bat1mtJN2qqfbn5K/yBOpPFeaPSAj+bwc/DYd7XVcW+d2o+o6EqNe9N/s/CL/S5mBLbVxe/oKc1XnelezcIv3d13wUf9zNP0mu+z7q5Xf/r/9Y/6R+67d9X2R6jKT4v81mMl17YpMQ5gfcS/j0P/xlwRLwz9ztv37Xhf99hxyKuM59V4PvhV7nxBd26ygRd/Z9V9J95RflsQ33hn3Vo3Lq4SMtfvlgbJxXpftsDAAAAAADQGIYNG6aSkhLbqqrOGb1dUjsr7oLz9cXxSlUea4Tt+Bc6/4I4dbjU3gAAzjFH1pkgr21EsXNpzYHdM8Xw7HRtNJmr7rZIu3vdpDvusAeNhJGaYQLE5vhD66WRd2raRO/Q8Ox5GnVkkb12vt7seFMjrsXbS6PMff+ap6SRN6nTSlMCOl59x3rjd3lghvREYN7OvTVS3/Tf23kON7AdZd5G0sh5bvDZPe7co/fXVmi4PVZ7uetemjG3k1a593bemfOObgi8sztWaEavPC0MzMvEHfIWNVuQt1o9kpRQvltrbZBX3/pX3XtlnBSf1EzZbN011Q2umczZ1cpPSNP1gXKuJtA0OUE5z5hjzraiTGlzQqWWb54xXqkmiOQru5u/IhQUunlGT21zx7Vjp463pWJtpqF7jQluBc7xBZRqKOe7buteVSb00Gjfur09khJUmbfPC1LWMu+mtPNBE+S1jdOgbfqNbsDVPPdjG8uUelWo1PLNM25UWon9vJx3ndN+fGxr/AY+ixUFcn8RwL3ebOEBWXPvu5I2VXPv6r4L57IE53tpgunee1ma7/wsumvXGt01f06aCleEv7Pg5+V8x29JL/P97PgDr6FsXPM5RApkyec4h0xwOHB9KBhrfz7NPW1PSIG2OZ2pVwTm6eicqE6m372/F8DutNG7vxmj0Ple8FkDAAAAAICWop6lm0+qdM9KrXylEbY9pc5oAICW7p2syXrH7ptyxRvzpKQuvoCpyVYNZLSuXK2dZYFg63ylm4BmMNv1KS1Zmaek/uPVxfY0TLne/Ksd25nDizbbNuDAjybbzF7jKb29vVxJnXwhyyjz7uTPsvUHX5/YqN1KVldfILhmJrM48N7C39nwoc5N8jbaY9681LFrbO/kmp9q0bJlWha5PXabPSEWrdWto1R0wL82r4/J7DVrhH5F+v9MCVkl6dLx9phj9U9v0pQpjZnNG2Ay9gIBOy+I0ynZCyZlDuwhbVwdCr5u3qScsu4a4AZtnH+mSvkf2EzBQ/u0qyx0rfHcQn8gMHzsBjn0vl7LT9DlAwNjmbkU6DUbqKp53meCP+juKVMaNZs3KH91MGDnBcST5LwNh/eOlgYzO8v00FsFatvrssZbc9cEge344fduwu9CY/rWv+qfelTo7b/7s3mNpvu8/L8Y8Zz5WWqf6H4emROGKtV5ny8Fg7cFmrci8vM6Pd/p59bkqDK1Z/AXJ7yft03e59v5Ml2uHD3tCxq/ZIL+/sBwTE6qqKyT0rNsEwAAAAAAoJmwRi8AoHGYMserdge3yJLD4Z7Sh0fs7sSuSjKZrb5rf/W1Gi9uXBOf1f2+ewdLLdcgLIBdRUQguJ4OFJZLvdJtdvCtGtE/XsXbV8e2zu+rP9FNJtATucUY+DElm3NfTpGyt+m6bNvpFz9U9/5bkl5z1wn9v3ppfGd1VLE+CmT5niYmS9ZkaS64b47dfGV/5a2vGQzgmABPQpl2bQ0EeBymHHDw2ujlYuvLBMWCQa8hPZWavycYSKx53ucoN+uyu6b6Po9QaevGEcyoNtwsYF9wtwm/C43C/KLFVy5T3t9DJdRPC19wXCWlofcZybzfFQVKnWzfaVYoe7rJub/UEQgyJ2i08+dz8Of+kiS1TUjTXb7P2l9eOnafafZNH6hogvmzM1kP2l4AAAAAAICmRqAXANBwJlj6tV7u+rReCWRTHtkei+pWde0oFR8IlCEOlCj2bb61apvOfN0xd6S03pZedrbqyyyHhOYdTbkKa3z22Bw4YOp1BwLg8zRK6/WnWMs2NzCj9/7vbFOfSQelrAFaHpmhtrdYZarQ2//zf/WS7fLKORdrt22eTmZ9zUBp18DmlYgt0wGzlEWqDeDNSQvPonXLJ3cPKw27tGod2PrbvEf5tnzzzVc49wlkFlvVz/tc5i+TbTf/esxNpam/Cw3lrpM9VHr3d6e17LarrFh77W4guzcgMzIDenOgDLfzPkvSdFezBXvL9EaezdJ1M3j36o3Az70RVt7bbpHrMdfKrNHr/XJMH9bpBQAAAAAAzYhALwCgkfgCnO76snY/mjtmaFRCnjaaMspuOeRempE93zt2GgQDtxOf1TdryOjt8sCdoXlHMTz7JvUu26a3g6Wg6+tWTZsYHjivU+C7gRm9ns+0/4iU3KW1bVur39LO8jiN+NbN6ut29Na3x1+msg+cfrftGf+TRVq2bJF+eo3taAZu1mz6eM31rYUb1HmwrjalgH3BnNAanwFlKj1sd4eMr5rFeahUhfUuP2vK/yYo8RLn+vb+Ere1zDtWgeD+gp/KV0G7kdymR+vwiwKNwmZhhtaAjSKYTeqts1ol6fZwcZW1kWNXy3ehob79aJ1++SLIF+T9Pw9W96sVzfF5ddf8yd2DWdFe6WvfetnO8evTE5T/VvTA/N7iyJ+92ni/qFH3ksoed37tE3XzwB4q9M/J/QWMNN0Sy9rPtfpE+yOraAMAAAAAADSxVhkZGafsfkz6jLlBg5Klovdf1NrGSN3pPUY3DE7W8fwlWrnR9tVBeXmF3QOAxnPixHG71wz63aCssSm2EXJwTbZe3CF1zJyl6QPjbG9AhbYteV5vmKTPCCO+eYHdk97+U2Otgn6rpi2ep1GRfxeet0j32vVrh2f7yjWXrdebR0aqb+F8b/1aU9Y5rByzyeD1r+lbdfzi9fZak3W76ib5Vs11hY7XxFw7WYUPpWtJL2cOEwv1yPTZ6uLMdYKdW5cHNvrKNefpzfXJGtVphfdctcw7/FqHWc83GJCt7Z355mYDw+YdBuZV9d6OsPGbninhPLnoA2X8OHKd3t769p++oxH20cuiBJ1MoPe+EdK7v2rMdXq7a/59Q1X6TGid0JtnzNHVxS+Egram5G5YiV8T3PVK8ppzIwN2JpM2cG3Y8bIc5ZSk6XL/2EbY+Ga9YG8umRNujFLyNXRvl8kUdTOJI8Y0aph3bMbrpwvu05UJeVoy5W7FHNL/1r/qD1+5zDZC8v7+f3zZoiZwOE299ixp1HVf3XeWtCmUPem+nyS9FnxuE8ANL2Nd3eeVv2K1NDn8u2GEfy7h34Ww702Emr4LMX3WtbLvtOxdPTzzJ4q1+vL1v/5v/VOwVnKAybD3l3Buis+r5s/CZb/fbW3Tf7zqO/O/r6pju/JXR2TWmp//UEA/OH6Vnx0j9LMZ4H2m0T6n8HENk81dt4x6k9F7sTaSzQsAAAAAABrZsGHDVFJiShVGR6AXAKJo1kBvI2uaQO85ygRbbXA4WnDVDfQGgsKNygsSd1rZW08Es4e9vr7bYwlwN47qA70tUJUgosPt66FdEQGhluq2x5ZpWoe6BQ5xutjA/NHGDZ43HS8Ym/gWJcWjI9ALAAAAAACaRm2B3tNfuvnT4zr+ud0HAACO3uoUmd02cbz6On01rw/cuHYXVSg+OfSLAy3aJUnBTMOAzIE9nL4yHWjpQV5bBpggb8vglTVvSUFe1CrrYvUq+/SMWKccAAAAAACcW5o3o7d9qvr3SFY7G17+tDxfubuKVNmup3p23KM9+7z+uiCjF0BTIKO3ZahSOjlMud70lUWul9OW0euIUrrZrNkbyvBtDq317KIrdFWC8zbfavmZvWHleF11LbcLnKvI6I1qQoI23NdV5t9CeYu36bpsrxsAAAAAAKCxnBmlm9t105DhaerVPkpW0GfHdGjX23pzZ6ntqBsCvQCaAoFeAAAAAAAAAABwOp3+0s3t+mjMuCvdIO/JsgPauflNvbpkiZavfUvb8o/qWKt26tx/nCamd7YXAAAAAAAAAAAAAABq0sSB3rbqf2V/Jbf5XBUF7+qVV97W9rxDMrm7lUUH9cHG17VizTYVnThfcalDNOJS7yoAAAAAAAAAAAAAQPWaNtDbaYC6JZ0vleZr3Xv7VWm7AxL7jtGUkR104IMinVQ7de5zhT0CAAAAAAAAAAAAAKhOkwZ623ZPUjt9rqOHNrtB3s69eipQoLnt5WM0pm+iKvZs157d+Tp6XDo/oZP62OMAAAAAAAAAAAAAgOjqHeg9r003dete3dZZic45XS660Pnf46rcZ65w+nsN0ohr09VZSeqS1FbnnSxXaZkp5Lxfx086/7igjeLMqQAAAAAAAAAAAACAatU50Hv8xKfO/16gDpdfqSuHVbcNUk9z7mefO/97vi7oYK7cr3fXbdGhC1M14ppuOvrWWm0vbqeeQ0cp1RwGAAAAAAAAAAAAAMTk/JSUlP+0+zEpP/CRjpSXqPDQQR08WM1WdEJfxBVp76kUXd4xXud/fkR5ByvVud9Qp/25Du/apN0llSr+8IAOHzmkQ8f76PKBHdX20xLl5u5Xub1XLE64gWcAaFyff/6Z3Ws+HTNnafaUUUqp3KBdR2ynq6NGz5qtL48apmHDnK3zMW3IDTshTNe08+2edGDzF3YPAAAAAAAAAAC0JCkpKTp+/LhtVVWP0s2VKjqwX/sLQluFKbvsdzJOnbumStsPqtg51i5lkAa166ZuHc9X4Za1enuPWbHXqFRpSaVSR6aqQ2vpWFGu9tsjAHDuMIHcLE1SgQ7aHr+OmZPUfd9iZWdnO9vrOth1nGZldrRHAQAAAAAAAADAuajea/T69RwYWbq5i5I7Xqb+7XK14YMinTw/UX2u6aNPc9f5grxGonpeNVlDLm0jfbxfm98tsv0AcO4wgdz2m7L1/LroWbpH1j3vO7ZTuR9KcYkEegEAAAAAAAAAOJc1SqC3+GB4hq+7HazUBZcmqXLXWr27u1QnL0hUryuv041TJ2vitRM1ceIU3fBP1ygtpZ30ySFtWfeuDtnxAOBcYgK5L+6wDQAAAAAAAAAAgBg0SqA3f9u7eve9qtvm3cXu8UPvv6pX3t2pAyXH9UXrdopLiFNcXBudd7JCRfk5ev0fbyr3mHsqAKAm/W7QuK4V2vbOTtsBAAAAAAAAAADORa0yMjJO2f0Wqby8wu4BQOM5caL6xc2bTl/dkDVOWpMdPcM3ebRmTRugiuqOWyO+eYHdk97+U+Qi6gAAAAAAAAAAoCUYNmyYSkpKbKuqRsnoBQA0MRvk1dbFlHkGAAAAAAAAAAAEegHgjOcL8j6/7ojtBAAAAAAAAAAA5zJKNwNAFM1aurnfDcoam2IbIQdtiea+U7M0rqvtDKrQtiXP640i2/ShdDMAAAAAAAAAAC1fbaWbCfQCQBSnZ43exkGgFwAAAAAAAACAlo81egEAAAAAAAAAAADgLEOgFwAAAAAAAAAAAABaGAK9AAAAAAAAAAAAANDCEOgFAAAAAAAAAAAAgBamVUZGxim73yKVl1fYPQBoPCdOHLd7AAAAAAAAAAAAzW/YsGEqKSmxrarI6AUAAAAAAAAAAACAFoZALwAAAAAAAAAAAAC0MAR6AQAAAAAAAAAAAKCFIdALAGgZJj6r+1ft1q+y59uOGAWuc7cVGm676661nl00QMuzbNPVXfPvm6OnJiRInQfrKWd//hB7KAY3z5ijBc41ZnPHaGx2TgtmdLcdkRI0Nys0h8jzvPndqLmdbUez8d7rgqzByrQ9VQXm3lTz88avy+fZMtX2Hb5Iy19O1oO2BQAAAAAAAODMQaAXAM4QHTNnKSsrSzf0sx0B/W5w+4Pb1L72wJnmcvV88lENnW2bdTQ8e7fuf+BW26ojN5hbTRB35Ww9OKG37n1ovYptV308+LsrdNWRPbou23bEasj4UCA1Iij53MJnNPPhZ7Q033Y0s8wJ45WmHD3mzMHMY+bCAnvkTGeCsDcqrWS1M+8X9NAh232Gypxwo+874NtqDGTXjQnKN8kvC+gTLXzrIt20KEG32B4AAAAAAAAAZwYCvQBw2nXU6FlZmqQCHbQ9YXa8qOzsbLst1raEcZqV2dEePIcEArZZ82xHM8pK1k29CrXoO5/YjoAylZZJhUXO/xwqVaFpH7aHHG6Ab3KCcp6xgdSHV0tjGy+4V6tD7+vWGgK4PZISVJm3T+tsO5IXiD4dgdQCzTPzzn6/mrmV6aHs6p/rTLNu1QvBz9/E9PNXmP2anq851fwdNp7+cYEWHemqO3/W2vYAAAAAAAAAOBO0ysjIOGX3W6Ty8gq7BwCN58SJ43av6ZlM3pHFz+vFHX11Q9Y4aU22s28PRtF3apbSSxfr+XVHbE9zMRm7d2tovG1qr9Z8/dcqcvaSH3pUYy/zev2KNzyq1365y7ai6/LARt0zMjhoSN6iYFDXZPvO6OXuqnj9fD34o6e8hubrjlU3qbdthZTrzYfStWSlbRom63duJ62aMFnv2C7PrZq2eJ5GBZIhfff1mJLNVyh51bY6ZvOakrjjpRXPaN5m21UNk415dfELunVVme2xTDbw5FA5ZRMgDI1ls1qDSZwFWvrwaj1nW2bMqanefuXGKGPb6y/Pi3LMlPCdk6a2biN83KCIuYXdo8Z5G967sdOTynL0mA16muD4Xen2ofJXVw3mhs3N4T/H3PeKPXqseGhwjOjPXp2IeTnC5h72XGXKeaauQfAavhPVjm0/Z5N5HQgM23PN3F5K9r0vP/97qemdxWpCgjbcd6FWTCrS/bYLAAAAAAAAQNMaNmyYSkpKbKsqAr0AEEVzBnpDYgn0mnPSVbLkeb1hIqzNqN33f67rOq7R4rkrbE8kLxCcsPZubXrWdtWBCeZOKPQHcauq9pxqg7g+1ZzjBpEVCO56Qd++2333qG+Ayw3GKXqQNEL0QG93zZ8hzfMHMX3juQHRpE21Buyqjl01mOmJErh0A4RJei3yGdy5mEzlaIHOmucduH+nWgKw0Z8vMlAaMZYNgAYDmXX4DKoGvr124lv2Xu676KFdgWeu09gBkfO3ah3b/5wJUceo9pcFantnMavvLzwAAAAAAAAAqK/aAr2UbgaAFiCwfm9W1jilfLix2YO8QZcNULLdPTvMV3qvPC0MZvA+pSUr85TUf7y62B71ulDxZZ9qt202n4JQsNTYvEf5SlAX3xq/Su2pm+1u7GxZ5IdfUE6Zl/HqlRWOFrSNJkFzr+ruXLe6mvNrnnfmhKFKLcvR03UKMnoC174UDHA691pRoLa9LguVwzbZwYH7R3tn1Rky1M2arW5emQN7SP5n3rzJeX/dNWCIbTdA7WM7z/lMjpQ+VHPNO8hfHR4orkFM7ywmn2n/ESm5C+WbAQAAAAAAgDMFgV4AaAGOrHs+uE7v4tJ0Zc0areZepffYL3+oNft6aOxfHtV0Z7v6+5fbIy3YxK5KUi/NWLVbvwpsX7M1oq1bulxk95qfydJccF9gC8/CNeu+Ls3vrqn2+FMTopTvbRIJSnRu5a7pWo2a5m3WBVZJaf3Xpm3ItQ1g5t02/Ubfc/nLZjdMTGMfel9Pb0xQWnqZloZlOcegkd7Z7qIKxSdfYFsAAAAAAAAATjcCvQDQwhzZVaCKuPbNHug1iubercVfN9tLKs24++wI9ipPCyf01r3+bfpsHbBHnz7wid2ro8PFqlT9Mz5N6eKpqWZ9XJNta7bVyrfHAp5bGDpWmH5jMwV7y1RaQzJubfPeW1z3TN4w7RPDMlEzk5vjmT2h7OfQFmtmbW1qHXvIeN3Va6+WbkzQ1KzBdcvGbaR31js5TuVFJ20LAAAAAAAAwOlGoBcAWpi+wwco7sNc7bTt02OvysrtbtAuVZRIPQdOtu2qbntsmZYtW6ZHv207fA4UloeXTK6LlR+qWL2Ufodtx2rlau0s66UZ2fNtRxR5n6o84UL1ts2YHXpfr+VLqZPH+8orJ2jujDoE6cqKnTftuXlGtHV1A2oOvjauMr2RVxbxXBFqmPe6rXtVmTpe8+sRAHevTUjT9cFru+v69ATlv/V+wzNWTWA+oYdG2zLPN88Iz6p97oMCtU0fr7mxlIGuo9rH7q75k7u7z/ncqtXKUZpuiQjqmwB6tHLMjffOWqtbR6nowGe2DQAAAAAAAOB0a5WRkXHK7rdI5eUVdg8AGs+JE8ftXjPod4OyxqbYRsjBNdl6cYe3Pu/0gXG21/Hh68pe2txh3svV88m7NTTeNo19L2nx3BW2ETBZQ/9yvXraVvGGR/XaL3fZlhfoneYczPvbFN39e9sZdKumLZ6nUYH4Vd4i3euunTtfd6y6qUqgtXj9fD34o6dsy3HHCl/Z5XK9+VC6lqyUujywUfeM9E/cMFm8k/WOux9xX0f42K317KIr1H/HB8r4cd2DXKaM8dRgpLNMOc8E1sLtrvkRZY0Nk9l5q7tObPjxyo05KkzvoVL3+gTNzYoo75u/WjODJX1rG9vwxrg8z9/nMVm5d6WHBxLN2q5LH16t52wr8pzY5m07Ow/WU3PS1NY23XV1s03gMcpzGf5ni7g27JmGjNeCq4rtWIaZy9Dwe9fA/0xm3NeSbtSAD3yZtWb8yd1twwh/J7Xz3o1WRMkErnZs+z7978CeG+3zDL67WN9ZrCYkaMN9F2rFpCLdb7sAAAAAAAAANK1hw4appKTEtqoi0AsAUTRroBdnvqxk5U6XFhHkwjnqwd8N0OSi+v2yAwAAAAAAAID6qS3QS+lmAABqk12kRXmddNPvLrIdwLnjlp91100dP9TjBHkBAAAAAACAM0qjZvQmXz5EqfEX2lZ0n5bna/OuIttqODJ6ATQFMnpRlVfCOXnVNl2XbbuAs95FWv7yxdpINjsAAAAAAADQ7Jq1dHOfMTdoUPIFthXdyaItenFtrm01HIFeAE2BQC8AAAAAAAAAADidTsMavemaOC1VbXwBXS8AfFz5S1Zqo9vTeAj0AmgKBHoBAAAAAAAAAMDpxBq9AAAAAAAAAAAAAHCWIdALAAAAAAAAAAAAAC0MgV4AAAAAAAAAAAAAaGEI9AIAAAAAAAAAAABAC0OgFwAAAAAAAAAAAABamEYP9LbtH6e2zj8/PV7qdThKj3/q/G9bJQ42RwAA0XTMnKWsrCzd0M92VNFRo2dlOefM0uhk2wUAAAAAAAAAAM5JjRzoTVVaaged/9lR5b9bZPukou37dfSz85XYNc05AwAQzgvgTlKBDtqeaDpmTtKAsoM1ngMAAAAAAAAAAM4NjRrobTu4p5LbSMc+2q4PbJ/rmNM+dExq01k9yeoFgDAmgNt+U7aeX3fE9kSRPFqTBkrb3sm1HQAAAAAAAAAA4FzWiIHeVKV1TaySzRtwaJvJ6hVZvQAQ4ci65/XiDtuIqqNGTxwgbX1Zb1T94xUAAAAAAAAAAJyDGi3Qm5zeR52jZfMGHNuu7R95Wb190llcEgBi1m+kBmibXq4p4xcAAAAAAAAAAJxTGinQ20d9u8RJ1WTzBhS9m+9m9cZ16etcAQCoXV/dMDZO21a+IcK8AAAAAAAAAAAgoFVGRsYpu19vyVdO1phu7WwrNhX5a7VyY8NrkJaXV9g9AGg8J04ct3vNqa9uyBonrckOlXLud4OyxqbYRoQPX1f20p22AQAAAAAAAAAAzibDhg1TSUmJbVXV8EBvu/4ad21fdThVqgMfVegL21298xR3aRclqkhbXlyrXNtbXwR6ATSFMybQW4U5J10lS55nvV4AAAAAAAAAAM5iTR7o7Tx8skZ1baPS3Sv16vuVtrdmbQdfo4m9E3V8/1qtqKHUcywI9AJoCs0a6K0ma/dg1IAvgV4AAAAAAAAAAM4FTRvobTdI10zoo8STh7Rx2ZvKt921S9WoKenq3Pqotv39dX1ge+uDQC+ApnB6MnoBAAAAAAAAAAA8JtB7okMP2/JU7t5o90wd5QZIHdxNied/rtIPc+oQ5DXylfNhqT5v3UGpwzvbPgAAAAAAAAAAAABALBoQ6B2knpe0kY4XaU+MJZv9Kt/fo6LjUrvOV+gK2wcAAAAAAAAAAAAAqF0DSjdfoXFfGaAOrW2zvj5rWPlmSjcDaAqUbgYAAAAAAAAAAKdTbaWbG7RGb9tu/dX3knY637br7nMdO7xT2/fXPSM4gEAvgKZAoBcAAAAAAAAAAJxOTRroPRMQ6AXQFAj0AgAAAAAAAACA06m2QG8D1ugFAAAAAAAAAAAAAJwOBHoBAAAAAAAAAAAAoIUh0AsAAAAAAAAAAAAALQyBXgAAcPqk9dGMO1MUb5vnhjbqf+c4ZabZZiPrMnOcrpvUxrYAAAAAAAAAnK0I9ALAGaJj5ixlZWXphn62IyB5tGY5/eZYcJva1x5sXiaA5AWnEpV5/1D1v9Ttjpm5fsb9TRfgAhqmaQOwLVVTBo4JSgMAAAAAAAD1R6AXAE67jho9K0uTVKCDtqeKim1anJ2t7MC2dKc90NzKVXLY7upjlX1kd2OSqNQeB7Vu2UF16Zdo+wAAAAAAAAAAQH20ysjIOGX3W6Ty8gq7BwCN58SJ43av6ZlM3pHFz+vFHX11Q9Y4aU22s28PGiajd6L08vNv6IjtanamvO6UFNsIV/7e21r+cgzvy4yReUzLH6/UoPuTlf9grg7YQ16G8BB1sS1Pubb+cZO2f2SyLEeo/brXld9vnDJ7+I+5J0bML+KYw81Edq8LCc3bG39ggtevslxnjgedURyXpui6b7XTlgeLlBqYn/94jULzXpfj9cRPGqrrOuzVwgWlTss8s/Me/nhMg77VxytdHPPYVsTnEv5ZRLzTvZvtfc28+km5H2vgMOdap3+dhrjv58Ayb65mnqO0Q1s6jAi+t8Axl/te7JyN4Nixcd/DMF+x5rDnjvg8GjT2Qa0Lfs/scy/Zq/bfCryX0PFo3xEj+E5j+C6E3zvye1j1Ox72TiM+y7BjtYp4Z46w70ItPx/VqfI5BYR9JuHP5b+v9059n4H93sg55031q33sBn7PAAAAAAAAgJZu2LBhOtEh/C8uK3dvtHvS+SkpKf9p91ukEyc+tXsA0Hg+//wzu9f0Kvdv0S43gttRVwxLlfZtsG2rXXcN6iXlbSlQpe1qdoeKtW1tmRLHfKEtD27UWxUXakCnQ1r+663alhfbu+py9SAlfrjbPT9ucD9denKf9h+yx2aO0IDSzVr4uw+0bfdJdRvaQUeWvaWNu83R1koe3lW9B6UqMe9tvfC/eSrteoWGpZZp21YbgJuRpNw/vqXV/9inbRVxunpGB5WuLZb7q0BpffTl4RVaZ+a99rBODe6qTh9t1gsvfGyOKn5SD8W/vtG71hwfPlgD2x/WbvNccXHqPTRVfca0VYE7vvMOJvbXJRWhuVfPm/dF+0PnfqnXperdttSbt9qo+5g+GjD0hN5z51aXsR1u8O5ibQ0899p93pytLjO7qfR3ZlxzzBn7K0PU3R3bzKuXBnZwPr8Fxep0tXNP572+djBe6d2Pu3Mz8xwwrFfwfW9zPu+RUwLvNFGZ/9pfny57XcsXhcYecJF9Z7Vx5n3juE/t52E+L+e71P2kdr9boRPO4S4zMzXsE/tdMJ/HuAxlBD6P2kSMvf+iy3TNdedpvzu2fe6rAp+l+S700+V27Iqt9vN3vh8nXw08m++d1vZdcL6Hwy7Zr+Xmfbn3vlSjRgfubQKxGeq01b5Pe5/Qd8N5p1dXarn7zN47Cb3v2oW/s33Oz0eqLvnkgDf32n4+anAi71BwvOB3wczP/f4akc9Vpkv+OcN+z+S8U+8dD+ttflal/t8crATnXBMIrn3sBn7PAAAAAAAAgLNASkqKPm/b3rY8J4tDWRyUbgaAliBugKYH1+i9Qadnhd6Q+E4XS8WVsWeeypRtLlfBFhPEOa4Pc8t95ZvNMenADpup91GxCsqcR+4UsW7n3s3BTMEDOw5KSW3dTL/4QZdI7+0IZSjm7NfWshSl2nVWu/QzWatFNqvTu3fgWqP85VxfdqN3PL5D+L0PLAtkQJYqf2+UudWbya4MZJzWZew26p+ZonL/c0c4sMCfMV117APrApmoB7UlkPnp53vfyjHv72IlXOoFxruU5WpLMNu01C3HHd8nKZR5WS1v3geW+efmZ8t7B7M2j2u7M8/YxvY+a//Y5S/v1YGES9TVt5Z06LOM/lnXptrvwkfOvH3vsXzLYZUntFOcaaR100Dl6s1o79nlvEN/pqrvfdfq0hQNCntn4Wr7+WiQS5PUPey5SrXlPf/PtvP5Pb5ZB3r0UP9Jtb2DcA37ngEAAAAAAADnBgK9AHCmK3pDz/vW5128NU7jmjnYa0qwznDLs6Yo8/5xXsnVHkOcvj5hpWirlZasLmWH9aENNrlBsB5On9s6rpIyE6SzwSETPEoIBIVDgoFgIydXC23J3LgO8YofNsKZi5mj2cJL2FYcdc4K3quNuvaJV3lucShIbTIeg9faZwtzUPm+EroHFrweCoCeNm3U3nnGisIa5mEyfn3PFa0scd3Eq/0ldrdOQf46uLSt4ux3LDj3akqGV9VGCUnO92iK79qIUskNV9N3wWS3+u7tLzkcA+9nLLA13rxr+/lokEvaKT6hTy0/PyZAa8qEX6ytS+pQltxoqu8ZAAAAAAAAcJYg0AsALcyRXQUxlXNtTCagtXDZQW9N0gdf17q9ctfiXBi2zm713Kxaf0DIDYIFsgqPq6zY+YcbOPaOhWUgxsCbizNH3xZY37S80JRoDgQPR0RkFSYq071f6Prl77WE0JIXHK+WCV5PMdmtvvfhfGYNU66Sw3bXlxFtuBnejcas6Rqat7vVYd1i/zN7W2zr0TaUKT9uvlvm58O97x9zY56zWQvXW8s2MOfNMf1cxaqmn48Gs38mhI3vzy52v4vygr3Oz1qdAthN+j0DAAAAAAAAWj4CvQDQonTU6IkDFPdhrnbanmbly7CrMZs0jJdpGRmAM4FHN4s3UHrWd6wuGbOmjHP8sH7qH7XMbaBUsO/eUYKGwWdx5jKqSkZiwwRL+6b1iZLtWF+2/PWUmgJnvsCsc++GZPR2mTkkmJHtlSTuo0HB0r+JGuQ8V6gUdE28oH4oe9sLSAe5ZbtTlDkzUPq3LmJ5J7WJmF9dBX8+nO/dNF9G7+FjzjsLlZB2g8KRWbVlx4K/wOG+b7tfq48qnetCpZi9oLG3b9T88xEbkxUftWSyKTHtfBdGTaqu/LX3HvTefh3IyXV+5lCcJS0AAP/0SURBVKt+ttWN3bDvGQAAAAAAAHBuaJWRkXHK7rdI5eXNndcG4Fxw4kTsgcYG63eDssZWLU97cE22XtwhdcycpekD3ZU+XRVbF+v5dUdsq/mYANJ1HfZq4YLj6n/nCLVfF2NWoAnmfaudtkRm/5rSwibTz+nXzKqlhU0WohfwNSVxa7mfO5b/HZrAsb1flWMOk4VoA77ucwUDsAe19b2LNdB9ztLq5x4r93ob8HPuuS73EmUGxjbZxPf3UMkfQxmnpnzvoKOB565d+Nz978wbK/hOnXtvLe6j7u7YCr3Pw6Hnqwh+vqVVxvW/L5f/uRz++9bOPHcgkOl8Tn88pkHTpDeD43uftz8QWpfxq5971e9R6DvtX9/WPz/fvWv7LkS8kwPv5SpuWOh8/7zMmFs6jFDqjsBcIu/pfB7DLgn7btTI/x03aysf7aFR2hF6ZzX9fMQk4jNx7hF6Z+FzN8wvVqzLsdeYLOfAZxt4R2HX1zB2g75nAAAAAAAAQMs3bNgwnegQ/pfnlbs32j0CvQAQVbMGes910QJobt8lKog10FWtqsG9QF/3XIJG1YkeAAUAAAAAAAAANKfaAr2UbgYAnF6XtKtStjV+0CVO38cqa/Daqm3UPrJE7qVJ6u70xV56GgAAAAAAAACAMw8ZvQAQBRm9zSuszLCrrqVlaxCldLNXWtY2UAUZvQAAAAAAAABw+lG6GQDqgUAvAAAAAAAAAAA4nSjdDAAAAAAAAAAAAABnGQK9AAAAAAAAAAAAANDCEOgFAAAAAAAAAAAAgBaGQC8AAAAAAAAAAAAAtDAEegEAAAAAAAAAAACghSHQCwA4K3R5YKN+tWq37rjDdgBNprWeXTRAy7Ns09Vd8++bo6cmJEidB+spZ3/+EHsI0dn3tMDdxutm2436u3lG4H3a72Kj877nC7IGK9P2hEvQ3KzQHBbM6G77Pd78btTczrajOQwZH7xn5oQbnf3G/K7V8nNfy71v+Vl3bfhZa9sCAAAAAACoOwK9AHCG6Jg5S1lZWbqhn+2I0Hdqlnvc3ab2tb3Na3j2bt3/wK221biacuwmdccK/Wrxs+pim2eOy9XzyUc1dLZt1lVTPtcZ+85i8+DvrtBVR/boumzbUSsbHIvYzvlA8KH3devDz2jmMzmqtF114gbWmipA7AUsW9pn9NxC530673Rpvu1oZpkTxitNOXrMfK5mW1hgjyCap39cpKKrroj4pREAAAAAAIDYNVugd9CgQRo1apSGDRumLl1a6l/tAkBT6KjRs7I0SQU6aHvCecfH6XVlZ2d729Kd9hgCDvwoXfdO6K0nnrAdQFPIStZNvQq16Duf2I6AMpWWSYVFzv8cKlWhaR+2h5yf7Xlu4Gu1TPwtf4UXBJu32TsKtBz2u5z9vtbZHr8eSQmqzNsX9ZjhBaJf0EOHbEdzOFysSufn8YBzz3Xm57OsWHvtoYar6efeUeu9P9F1D3+o5OnJetD2AAAAAAAA1EWrjIyMU3a/yWRmZurkyZMqKChQu3bt1L9/f23cuFEHDhywZ9RfeXmF3QOAxnPixHG71/RMJu/I4uf14o6+uiFrnLQm29m3B41+NyirZ+5pDe6assj3jIy3LZ+8Rbo3a55tzNcdq25Sb9sqXj9fD/7oKXffZOvO6JWnhRMm6x3TMfFZ3T93pOSc8yfdGcPYNfHft1xvPpSuJSvdhsvM/Zt6XKs6zXPm4PXt/msgIHyrpi2+U3pihTrNDYzhm6fJPJ1YqEemz5b3byxzr8kqNPeQ9wxJbr+f7/omZTJ279bQ4KvbqzVf/7WKnL3khx7V2Mu8Xr/iDY/qtV/usq1q2M+m5ucy722eRgUqw/o+q5o+6wfXjG+Edxb+PQv7ngQ+L+ez/WbgPmHfo+rn7alhbJcp2XyFkldtq0M2r5/J7B0vrYgI8pryrlfs0WPFQ3VXuje5yo0v6NZVZe6+YUreTk21DStwjjl2dfELelrjg9ebYHLoHt59A5dHjm1KygauM8KvNZmtNyotcLgsR49VE+SLyjzb5ED53jLlPBMlyGcyc+ck6bWHV+s521Wz8OcJCR8//LkKtDQwvnu/NMn3Hrz3652jKO/a8L+38M+jmueqVsT881fXLfM17J1W/TyNwHcisj/y2vDPuubvQtixqHP2viuX50W5r33nbd2G77Pwq/G5anhnwe/PHg0InFPX7+lp9uDvBmhy0QfK+PFntgcAAAAAAMBjEmhPdOhhW57K3RvtXjMEevv166ekpCStWxf6q5bk5GR1795dGzZssD31R6AXQFNozkBvSPRArynZnF66TRUDByjF9h2MDAY3ExPEm1AYCuCGeAG0vtsDx7yAmcICqvM06ogJnO2OONdT/dix8gVhIwK9JpAcCDy77f7bbPA2EPgLBYjdQKVsgK+mQG/gHlXOaR7tvv9zXddxjRbPXWF7InmB4IS1d2vTs7arLmp4rrB3VOWzr/2zbsg7G57tPG9WICgc8T0z437NRPNt4NgNMg/QzmifbZV51zK2MSFBG+67UCsmFel+21U3NQR6TYArELxy2woFw8LaNvBaEgp0BYOO9no3INdrrw10RQbfIuZQS5DVlOIdvXW1DWLWEMiLxh27h3YFgqCRzxVQyxyqVdN1EfcKfyeB4wlegPaSaPPynjXxrYjPyhE5lhcALav6XNW4eYbz/hcGzq3mO1Ed/7xrCCxHD/Q695ohzQsESCM/jxg/B/d5kzb5Ar0RQdigKAHw6u5Ry3PV+M7cMU0QOXC/Or7TM0FWsnInfKr5N5XpadsFAAAAAABg1BbobfLSzSbQu2XLFtvyFBUVNUqQFwDOfh3VMUGKG9heuYGyzWsOKmXsLI1OtqecCSaOV1+t15+Cwbx5enF9uXoPnW/bT2nJ9EXa3Wuypj0wQ6PCzm0GeYuCwbwDa7apOKFT2Pqwu/8aCty+synPee1dm3792Gt+qkXLlmlZ5PbYbfaEGFw2QM3/NZivdJOxG8x0dT7blXlK6j/evrOm/azfCQZijXna6HxcSV38azuboL09Z+Vq7SyLVyc3k7u2eccwdq8LFV/2qXbbZqMyGYiBwNnmPcpXgrp09po3X2GCwHtskKtMb+SVSe0Tlem2Ld/167buVWVCktz//Ot8mS5Xjp4OBvwK9NLGMqWaMYO6a0A1a9GuWxUI8hrevdsmhTI+a5I50JnBRt/1mzcpp6z6ezUm887yV4SCietWbVJ+Qg+Ntu9Um1frMee/h9PGDtbcq8LPrVl3XZ+eoPy3Qtmi5h3V5bmeCwYsjQJty5c6JcfyThPcuVb632mdFISCvEbE98xTn88nUJr8Bec9eJm47vq8MZdorv25Ynln+SsC96vLOz1D5H2q8oQLQ9UEAAAAAAAAYtTgQG/Pnj3dYG512549e1ReXu6ea8o29+rVK3jMXAsAqN3BNS8qWLh5x3ptq4hT+462fSbo1UlJCSN1z6rd+pXdqpZjnqcn/lqkUSOT9eYTzZv9WmcRgeAm8epPdNOUKZoSud31B3tCzY798odas6+Hxv7lUU13tqu/f7k90sQmdlWSemmG77P2smj9mvCzNlm7vnsHynEHlW3T28GMbhN0thm5scy7lrFv6XKR3Wtee4vLpNSeutltJWh0r6rroIa1D72vWwMZk5ckqW1Cmu66b44W2M1fmtc9d0WBUifb41mDwwPIJluyumtrYdZrbZt+Y/DaBff5SkA3qQR1ae+8ssAzuVvVjFM3QNs+zc2OrlvmZ8Q6rHVlsleD84peJjq6BCU6789dD7aeTKZvte+ktu9Ck4nhuWp9ZwXa5vsMzVrAMWWdnylWfaoiXaRuE2wbAAAAAAAgRg0K9A4fPlwdO4ZHGlq1ahXcunXr5gZ6jb59+2ry5MmKjw/9xb+59qqrrrItAEBVR3SkTIpLOpOiutUoW69HJvTWvf4tmD3pMGV0vyYtNAHAuSs03HafkcoKmz4Q3QgZvUVz79bir5vtJZVm3N18wV63NHLEZ+0vw9xUn7U7bi93jeXAfRfm2WMxqWHeMYz99IFP7F7zWucGwLprqhvkulFpYRm6MTDZvm6GpW8Ly+xcHexfWpKmu4IBvu6ab9eyDRx/bGPdgmeh7M7Q1lzldM36suH3Ds8wvXmGKUNtgr3j9dSEukSgE5R4id11eYHKmJjA+WSTQRya19J8e6xWZSptQOzSlFz21iEO3Hu1qty62u9CU6rluRr0zlqICRcqWZ9o/yrbBgAAAAAAiFG9A70mO9estbtjx46wbfv27e7WunVrffjhh242b5s2bXT55Zdr1apV2rRpU9j5HTp0UEJCs6R3AECLtHPPQcUNHKm+tq1+IzUg7qByT8MavQcKy8NK3QY9sVG7E0bqmw/4S+j63appd4yU1i/UO09M1sK8XpqRHSjr7Kl27GY1X3d8rZeKt68OBS2D2b1mTdebqpbWzCtUccIAjZho27FqYEZvuL0q84pn+OxSRYnUc+Bk267qtse84PKj37YdftU9l1sOuernF1L7Z13vd+YqV2EgAHvHiqoZvdWpdd5GLWOflvKqXlnbsKBlYJ3ZWJjyvAlpuiXGQKabPRwhmGnZebBuqUNG73MfFKht+njNDSsN3IgOlaowaqlhr8R06uTxNgs6iiHj3aDna6sK9NALOVKVeZbpgPPzE17i2vDKAqdeFQqAZk4YqtSyHL0UcwDblxHszsPu1yqG56pNWbHzp4XHrHtb062jfReaRizPVd93FqNvP1rnX7RpVE1ZFh4AAAAAAJzVWmVkZJyy+3UyatQoHTlyRLt27bI9IZ06ddLo0aO1ZMkSt20Cwiajd+3atW7bzwSAu3btqldffdX21E15eYXdA4DGc+LEcbvXDPrdoKyxKbYRcnBNtl60wdyOmbM0fWCc19BBvZ7tK+XcrEywc55GBWI9eYt8Wbvzdceq8ECoyY584gl7jdbrEX/25NyRSgq7vqaxa2DK7VYpHWzWafXW3e3ywEbd02lFaCz33p20aoJZjzXino7i9fOD6/kaw7NDJXx3/3WR9LXJKrRjB7j3CJaqNlmj/rVem8Ll6vnk3Rrqr4697yUtnrvCNgIma+hfrldgoYTiDY/qtV+G/r1tAr3TnIN5f5uiu39vO32qf67q3pti/Kzr/878n4fJIn/zyEj1LbSfmfkuTCwM3buKmj/vGsd2tdazi65Q/x0fKOPHn9m+WHTX/Cilg03w1s1uNWVpryrWY8EArjl/qEqfsRmo5vjkiICjydK155tyvFcXv1BDqdqq9w/c22R5hpdjNhmfofVQw48XKGdjgtKSNoVnBNekytxD41e9txF+/1qFjV+mnMA7c1QZP/DO7DXB9+8w73Bqavj1ke/NZCcH3rF3vrvrqNucw6515pRTkqbLa/z8wkU+V2he0b9n1R2v3JijwvQewe9Zzd+FBM3NilJ6O3+177vgnXN5XtVnieWzrv65anlnJuN3TpJeq8v3porb9OiyaepV9q4envkTrba9zeXB3w3Q5KK6/rkCAAAAAADOBcOGDdOJDj1sy1O5e6Pdq2egt0uXLu5au2vWrLE94UaOHKlDhw5p714vZ6Bt27a6+uqrtXTpUrcdaezYsdq/f3/w/Log0AugKTRroBenkRf467TSruMK1CYrWbnTpUWTinS/7WpaXvAs8S1/yePqA2oA6mO8frrgPl15dEk9qyo0wIQEbbjvQq1otj9TAAAAAABAS1JboLdepZuvuOIK5ebm2la41NRUXXTRRWFB28rKSh07dswNDkdjxurRI3ySAAAAZ5zsIi3K66SbfneR7WhqUdZ/7XyZLnf6giWVAdTb+J8s0rJlpynIq4u0/L6uKlpMkBcAAAAAANRPnTN6TTbvJZdcoo0bQ9HigAsvvFBTp051M32PHj1qez0pKSm66qqr3KzeEydO2N6Q9PR0HT58WAcORC+2WB0yegE0BTJ6zxCBsr+2GSmyzHLdkdF75qha+jtMrKW8m4VXwjl51TZdl227mlKU0s3+ssMAWqZbftZdd+ogJZsBAAAAAEC1Gr10c1pamoqLi1VQUHVtNrPebnx8vN577z3bE85MpqysLGo2cPfu3ZWUlKScnBzbExsCvQCaAoFeAAAAAAAAAABwOjVJ6ebqnDpVe8y4VatWdg8AAAAAAAAAAAAAUB+NWrr5S1/6klu6+a233tLBgwdtr6dDhw4aN26cli1bpuPHq2bKUboZwJmEjN5wbdu2tXsAAAAAAAAAgDNFZWWl3cPZqNEzek0gNjExUZdeeqntCTFr727evNkt4RxpyJAh2rlzZ9QgrxnLjFnXIC8AAAAAAAAAAAAAnIvqnNFr9OjRQ926ddOaNWtsTziT1fvaa68Ff4ugZ8+e6t+/v1566SW3HWns2LHKy8urV6CXjF4ATYGM3nCBjF5+OwwAAAAAAAAAgObRJGv07t27V61bt46auWuUl5erXbt2tiWlpaW5mb7RmDE+++wzsnkBAAAAAAAAAAAAIEb1CvQaGzZsUJ8+fRQXF2d7PPHx8Wrfvr0qKrxMWxPkLS4u1v79+922n7nWjFFdEBgAAAAAAAAAAAAAUFW9SjcHXHXVVfriiy+CQd02bdq4ZZ23b9/ursd74YUX6vrrr9ehQ4fc4yZz12yff/65+89A1u8777zj/rM+KN0MoCmcjtLNmd9/WndntFX+0q/rB8/aTmXqB0/erbR42wyqVM7jt+gXa22ziVG6GQAAAAAAAACA5lVb6eYGBXoNs/7ul770JXf/008/dYO6x44dc9smm7dVq1buvnHq1Ck3MGz+aYK9x48f1549e+zR+iHQC6ApNG+g1wvmXp6bo8KMNCks0BvF7F/oL1PNaT9QTac1JgK9AAAAAAAAAAA0ryZZo9fPBGp37Njhbnl5ecEgrynhbILAmzZtCm45OTl6//33tWXLFjfrt6FBXgA4G2R+/1Ylrv26bvllbGuVzx6YqsoNLzZbkBcAAAAAAAAAAJx5GhzoNTIyMpScnGxbnkGDBrnBXwBAzdb98paaM3j9xvxAV1+Wr9d+uc52AAAAAAAAAACAc1GjBHoLCgo0ZMgQpaamqnPnzho+fLjbT6AXABrX7OvTJLJ5AQAAAAAAAAA45zVKoLeoqEgHDhxQp06d3HLNn3zyidatI9sMABqVm81bqV1v8ecrAAAAAAAAAADnukYJ9Bome/edd97Rm2++6a7BCwBoXCabt+2+1/SLtbYDAAAAAAAAAACcsxot0AsAaEI2mzfnJYo2AwAAAAAAAAAAAr0AcPrN/oX+8pe/ONtUpTrN1Klm/y/6xWzvsJSpH8wmmxcAAAAAAAAAAIS0ysjIOGX3W6Ty8gq7BwCN58SJ43YPRtu2bd1/VlZWuv8EAAAAAAAAAABNa9iwYTrRoYdteSp3b7R7ZPQCAAAAAAAAAAAAQItDoBcAAAAAAAAAAAAAWhhKNwNAFJRuDhco3QwAAAAAAAAAOHOw3N7ZjdLNAAAAAAAAAAAAAHCWIaMXAKIgoxcAAAAAAAAAAJxOZPQCAAAAAAAAAAAAwFmGQC8AAAAAAAAAAAAAtDAEegEAAAAAAAAAAACghTk/JSXlP+1+i3TixKd2DwAaz+eff2b3EO7r+s87/4/m9OupQ5vf0gHb6zdizON64IabdOPwf3K2dLV5d7W22WOnQ5cHNuonX0/Vyy+9YntaotZ6dlE/ZSUV6bkNtmvIeC345hD1zvtAuupGPfy1S3XRuny9bw/XrLvm33ejbsscoq9lprpjrPvYHmokmRPMnEZo2Meb9cph2xnGP4chmnJRvv6+50T4sYGndGjDYe23vU3Nm7P3HgfPmKN5o8Pvf8vPuusPVx/Tk699YXsAAAAAAAAAoOmkpKTo87btbctzsvgju0dGLwCcMTpmzlJWVpZu6Gc7fPpOzXKPBbZo55wROt2j2YOl9xd9S7c8braf6P/ZQw1zuXo++aiGzrbN5jTxWd2/aoWG22YVd6zQrxY/qy622RQe/N0VuurIHl2XbTtiZAKXC+6bY7fxutn2SwWa9/AzmvnwauXbnuZ284zxSs1f7czBzOMZ3bqqzB45cz394yIVXXWFlmfZDgAAAAAAAABoYmPK94VtfgR6AeC066jRs7I0SQU6aHv8TAB4nF5Xdna2t605qJSxN6ivPd68/qL/NAHcZx7R27YnTMdEta3YrfWFto2Gy0rWTb0Kteg7n9gO63CxKlWmA4ekdUVlUlmx9tpDxs0z5uiu9DIttYHUmQ/v0YAZ3e3Rprdu1Qvufedtth1hEtSlvZT/QYFtR7KB6Oz3tc72NAf/e9xb7OyXlEbc/xNd9/CHSp6erAdtDwAAAAAAAACcLq0yMjJO2f0Wqby8wu4BQOM5ceK43Wt6JpA7svh5vbijr27IGietyXb27UGHyeZNL12s59cd8TqSR2vWtPbamP2idno9zcKUZM4a3NZr7F+hW/7+F2/fxz2nx25lVxcIrpbJ2L1bQ+NtU3u15uu/VpGzl/zQoxp7mdfrV7zhUb32y122VT1TuvmeTiu0UDdpRi+vb/dfe+uJJ8zerZq2eJ46rQy0Q+ffmyXdseom9fa6fcr15kPpWqJndf/ckUqyvSF5Wjhhst5x9+eHj1G2Xo9Mn21LXptj6dr4UKEmBMYJO26Yks1XKHnVtrpl83YerKfm9NCuZ17QQ4dsX1SmRPJQlUY5z2QD35WeYFtlygk7J0Fzs25UWuCwCrT04dV6zt03Y45XqrsfeV2Ad45WVA0Eh93XZPwurBoMDp+bc5p/HFPSenIooO0/ZoLfVxe/oKc1Pnh92LUxevB3AzS56ANl/LhqiffbHlumaT3ztGTK3fqD7QMAAAAAAACA+hg2bJiGXxCet7ui8KjdI6MXAE67I+tMkNc2oti556DiBk635Zo7avTEAYr7MLdZg7zG22vvdMsxZ79faXtC/vkrf9TTd/7RCwTHDVaWs2/aj425yp5Rs3bf/6aGlrykxV+/225ekNcommvaj2pTubRnaeD43TEFeYN63aQJhfN174Teuveveer9tRpKMQfN0xPm/IfWq9gN3jr77pauJSudwytn60E7nhugDR4PBHlNEPkmJa23950wX29qpO7Jnu8e9fTSjLmdtMo9vki7E0bqhjvsIWNCO/VPKNTGupZsHthDbcv26o0ag7w16DxY1ytUVvmxjVLajYOVaQ9nThivtJLQcVMC2gvyGjWUhTYBaFtG2gSCUydXLSsdyAR+bGP0Us5ekNefqewP1HbX/Cv2BPtnrihw7uEvWS21TXeuT9oUvEfqVaHnitX9OYWK79dOt9g2AAAAAAAAAJwOBHoB4Ey340VlZ78ujTXr805X932Llb20ucO8Nft/f/fW5HWDwBXvK9tdn/dbumvtW/aMGFw2QMl2t9HlLdKDP3rK239io3arl9L9AdWmcMcMjUrI06rAffWUljyxXsW90n1BZpMdHAgMz9PGPCmpy61uy9XrQsWXferMt5kdel/zfGvmrtu6V5UJSeph267UnmEB1Jg4497qBmG9ILDJpvWCsv5AcU266/r0BOe66s4v0Dx/BvDmPc59EtSls20bZTl6zJ4T9blikfepyhMujJLtLf3hrimaQjYvAAAAAAAAgGZAoBcAznT9blBWVrpKlpg1el9XxcDpypo1Wh3t4bPBsV/+UGv29dDYvzyq6c529fcvt0eawm4VRk8WbXxlhb4yzHV3S5eL7F5zM6WZA9m2zjYnTbZot8tk3S7N766p9vhTE0JllJtU50R1UplKD9t2FKY8c3DewRLSIZV5+0Lr7rqB51iDzD6rPlWRLlK3CbYNAAAAAAAAAKcBgV4AOKN11OihKarY+rLecGsZ79SL2a/rYNwAjXRLOZ89vBLNZntJpRl3N2Gwt7c6JZSrMM82m1JCJ3Wxu65enaKs6Vu9pw98YvfqZl1RmXPvHhrtz2Stg5tn3Kg05eixQAnkZ3IUWbD7uYWhbNzC9BubJ9h7qFSFdjcaU9Z5aqpZLzg0tyrloxvDhAuVrE+0f5VtAwAAAAAAAMBpQKAXAFqAuERf/m6/PkpRhUqO2PZZZ6/Kyu1u0C5VlEg9B0627apue2yZli1bpke/bTuq0eWByepdtk1vm3V2rWC55DtW6J6R8d5+wMoPVVxTqee8QhUnDNCIibYdYEtET3ggUIr5Vk2b2EvF6xfaUs0xqKFEcI02b1JOWULYurru+rUzutv9GJSU2szXBM29MTyjN1yZSpsrQ1oF2pYf+VwRyoqdb5Dn5hlVM3obRQ0ltb3v4aO6zbYBAAAAAAAAoKm0ysjIOGX3W6Ty8gq7BwCN58SJ43avGZjSzGNTbCPk4JpsvbjD7PXVDVnjFDqjQtuWPG8zfJvLVfrenCwNjrPNgP0rdMvf/2Ib0ogxjyurx25lP/OI3rZ9tbtcPZ+8W0P98dV9L2nx3BW2ETBZQ/9yvXraVvGGR/XaL3fZlhdgm+YczPvbFN39e9vp6PLAxvDgbdl6PTJ9dqik8sRndf/ckV6mrXNs4fYBmtFphe7Nmucedt2xQr/6Wi/bMOvqpmuJL1Acfo88LZwQWHd3vu5YdVMoUJu3yDeuOTZZhb6xhmfv1oTC+aH1hNVazy66Qv13fKCMH39m+2Jlyi/fqLRgoq3JdLVlioeM14LJkUHfMuU884IeOuTsdh6sp3zlmvM35qhTepJec6+PHNeRv1ozA2vj1ja2q7vm3zdeWvGM5m22Xa4oYxv+8R2mPPNUXwTXrPXrjeONGzhU6cy7ML2HSu29zXVXF7+gW33rD9fHg78boMlF0T8T73uYpyWs0wsAAAAAAACggYYNG6bhF4Tn7a4oPGr3CPQCQFTNGugFapKVrNzp0qJJRbrfduE0mpCgDfddqBV8HgAAAAAAAACaWG2BXko3AwBwJssu0qK8TrrpdxfZDpw+F2n5fV1VtJggLwAAAAAAAIDmYQK7/s2vWQK9bdu21YgRIzR27FhdeOGFthcAAMTi/u98oLc69tTyLNuB0+KWnyUr+a0PdF227QAAAAAAAACA06hZSjd369ZNV155pbv/ySefaP369SotLXXbDUXpZgBNgdLNAAAAAAAAAADgdDKlm0tKSmyrqmYt3fzZZ5/poosu0vjx49WzZ0/bCwAAAAAAAAAAAACoiyYN9JqSzcnJyYqLi3Pb+/fv19atW3XeeecpLS1N6enp7j4A4MzGL+cAAAAAAAAAAHBmadTSzRdffLEbDEhMTFRCQoIuuOACe8Szd+9ebdq0SZ06ddLw4cPd9XpNCee33npLlZWV9qy6oXQzgKZA6eZw5s/2PXv22BYAAAAAAAAAAGhqtZVubpRA75e+9CX169dPPXr0UKtWrdwSzUePHtXHH3+sTz/91J4ldyKHDh1y900J55EjR7pB4ZMnT+rtt99WYWGhe6wuCPQCaAoEesMR6AUAAAAAAAAAoHk1eaDXBHcHDRqk1q1bu9m527dvdwO2X3zxhT2jeqZs89ChQ3XZZZe57ffff1+7d+9292NFoBdAUyDQG45ALwAAAAAAAAAAzau2QG+DFsjt0qWLG6j9/PPP9d577+nVV191M3ZjCfIa5rwNGzbo8OHDbrt79+7uPwEAwFnq0hRdd/84zXC3PupiuwEAAAAAAAAAdXN+SkrKf9r9OklKSnJLL5u1dU2At7i42B6JncnozcjIcAPGp06d0q5du2qMSkdz4kSoNDQANJbPP//M7jWfjpmzNHvKKKVUbtCuI7bT6js1S9OvGeb+9s6wKy7Svi0Fqt/K5vXTvn37Ov/53LjaqP+dg5T84SEVxaXoun/trE/WFiuWmg5dZo7Tl7+SqgFjAtuFKo3xWjSBjyu0e+0+bdt9Ut2GXqjCOn8W5ruQqctP7tN+bzWIRtSUYwMAAAAAAABA3aSkpOj48eorkNYro7ddu3YaNWqUG5x96623guvwxsfHq1evXkpPT9eYMWM0duzYsM0cC2jbtq3Gjx/vZvGaCa5Zs0Z5eXn2KACcSzpq9KwsTVKBDtoePxMAHpewTYuzs5XtbK+XDdD0qX3t0XPJxyr7yO6WHatbcHDvZi188HV3W/7excokkxQAAAAAAAAA0MLVa43e4cOHq2vXrtq5c6e7mTV2zVq9iYmJ9ozoTCB38+bN6tSpk0aMGKELLrjAXc/3nXfeCQaL64o1egE0heZco9cEckcWP68Xd/TVDVnjpDXZzr49qCh9yaM1a1p7bcx+UTttV1M7nWv0xk8aquuGxdtWuAPLXte6HNuohsnozdRmLVxQansSlXn/EMlea44POvq23lS/4H3Cxk3roxlTUmyjXFv/uEnbbcDZzG2UdmhLhxHK7OH1+a+tdWxTxvhbfRR8OhOQDs7TMBmmIzQwwTZ1UOsezNUBdz/iWJVrvecMBrTLcrX88YPOE1hhzxXlmTOPafkSaVRgflXGr0EN7yzIffZ22hJ8ntq5n6V9z37l772t5S97P7Ph3xff+7LvWr5zvfG8c1TnsWP7/gEAAAAAAABAfdW2Rm+dSzebcstmXd5WrVppy5YtbsDWBABat26tgwcPqqCgwC3BvHXrVvf4jh07VFFR4ZZnNhMxwWAzqfPPP1/bt2/Xxo0b3TV+64vSzQCaQnOWbq7cv8WWau6oK4alSvv8pZtNXweVbNiigkCt5sq2SnXOO6/A19fETmfp5hN5h7wyvz2L9dqvt2r3RUnqfWKnFv7ug5jK68YPSlV3Hda2rYHgfRt1H9NZyvXK85rjfQZ0DY3pjJ+edp72v1uhEyY4OCNJuX98S6v/sU/bKuJ09YwOwdLPX+p1qQYM66XEvLf1wv/mOccv1MgpoeM1jm0Csf/aX58ue13LFzljry1T4leGaMBFh7U7z3z/bCC3eLN77TZT7thX5rjLzEwN+yRw7LBOjctQRvvAteb4CHULzMtc694zwLn31ZVaHhg3Yt7q3EEDnLn3HnpC7z24UW+Z9391V124+5CKPnYHqF4t7ywoLs4Zv26lmyu2mnfgPOvgrjr5auC97Qs+swkw3zjuU60zc3b69190ma65zr5vUzLaec70cV10yjxH7z768vCKYCC4rmN77+wyb6za3gkAAAAAAAAA1IOJx+7bt8/9+/loW51LN5tsXJOJe+zYMWVmZrpr9ZoA78svv+xm5pogr8nSjVYv2mT+DhgwwD22du1aNxsYAFCTncr9ME4DhodKNfedOk6hPMxzT1yHeJUfrfrvmFh1mTlEXcpytcWfiWmyXW22avmWwypPaKc4Zz9+0CXSeztC2ag5+7W1LEWpabZt7N0czPhUTpEO6GIlXOo1XdWNPalHxDxKtW7ZQcX3SfIyaNO6aWDCQa2LmkWbqFSTiRo8dlzb1/mutSLbIc69/ONGm7ebiWuzYT8qVkFZvNo7r6M2Mb2zJtKlX4oOLAtlCJe/vFcHEi5R18Bz5TifxXvSwPEp6p8Zfm7N2rjnl7+3P3S+M9a6vfHqPqiN7QAAAAAAAACA5lXnQO+ll3p/WxoXF6cvfelLbuauWae3poWATbTZMFm/RUVFevXVV91/AgBqt3Pp6zrYdZyysrLcrc8ep60KHTkn/hg1Wa3jNMOUD07oo+vu98rrxg8boRl3plQTxIyixxDNcK41W2ZSRAljR3lucaj90UEtt1meJqjs3steO+N+fxnl6oQHRKsb21VcGTYPv/hOF1e/FvGlbRWnFGUG5+VsvjLMxoEFb2urvHfmPndEoNWULQ49l6/Ec0DZYX0YLLd8XNsfj61Mcf3eWWNoo4Qk57mm1Pxc5S/v0NakPm6mdF3LLlcU1v8XDAAAAAAAAACgsdU50GsyeAPefvttN4P3/2fvb+CrKO/8///tbrf1LgmEJCpBhJC0QKACoVAICnW5K5R2C8JWHmtda7uha7v9uuuvPmDXta678rdfW3/9Wr6Sba3bsg/bHwjdXQoFYVtQEVEErSC0JKBIUAMEkogF267/uWauOWfm3J+cnNzxej4eo2duzjUz13XNnHA+5/pMkEnJXFRU5KZoNq+NpqYm7d271x3B+8wzz6QMCgMAYh3U+vp61dtp/ckSFbSfViS7c5/mBRg37W7znhF7/y7ta/Wejbo6Jlibkvte5z1myuZ9DvOM1sh77ZQ6QNim02/bl+kUXxoegWuCu1Zbc7p8wObZsuHjCp+bV3fu8scOqWBONNhrnjXrPZvWf+/LGY5szUz2ddZ53L4R2nf4+cAmpfXgQy9rX/G1mj0zu9G4BWXB7b3AMgAAAAAAAAB0l6wDvWYkr/GrX/3KDeD6zLN7R44cqXnz5ulP//RPdcMNN7ivzTLjyJEj7jN533//fXceANABpVO0eP5gHd3yzAUS6I2KpmvOIpCao6YDx1U4foRGhlIaJ+elhQ6OhE3OS+NcpdGRkbb9NHp8oZp22GCtSafsrJ+cKBjpplIeqNqb+tkFabz5bvzI4MBoYfe47etcZVtn2Tun1hbnmEfEnvs5HTvUpvI5VcnPZUyVG+B+5ckzenXdISnuOFOXXTj+6mjZNrX2K37abgAAAAAAAADoYhfV1NRkFXm97LLLNGDAAB09etQu8YwbN05DhgzRb3/7W7311lvuMpPm+eKLL3aDvGZEbz60tSVMagkAOTl/vguDNyPmqe76+KfuHn+qXusPSCW1i7VglPcjGzOKc3v9enX1E84rKip0+PBhO9f1TJrh0ad2adOTF6t22VCdfiw8SjMV895avazVCZ91Gyw7SZuPqYpJi2xGwnrpl83I2NnjA2NyzfN4A6Nq05Z91UDNNmmp7awZCRvetp9zvsEgbHTfXlrrcFrk6Ptj3xdbdnh92+5Dah9/RbRezTnXno1LcZ2xbOrMFTyvTMQef/TckraJPSYz4tcfXez2jaHmWcTB/pRp2bHvAwAAAAAAAIDOVV5eHhp4GyvrQG8iJp3ztGnT1NzcrGeffVb/8z//4y43o3ynTJmikpIS97m8Z84k/pI9FwR6AeRDlwZ6e4HuDvT2VG7gb8CRpEFkAAAAAAAAAAA6Kl2gN+vUzYmYQK5hRu76QV7DvDbLDDMKGAAAAAAAAAAAAACQu04J9F5yySXu/9977z33/0Hnz593/29SPgMAAAAAAAAAAAAActcpgd533nnH/b8f8A269NJL3f/72wAA0Fe0PbmXtM0AAAAAAAAAgG7RKYHet956y03TPHz4cBUUFNilUmFhobvsD3/4g7sNAAAAAAAAAAAAACB3F9XU1LxvX+ekoqJCY8aMcV+3t7froosu0uWXX+7O7927N/Ks3s7W1tZuXwFA5zl//px9BcPc4w8fPmznAAAAAAAAAABAvpWXl6upqcnOxeuUEb2GCQA8/fTTOnXqlC6++GJ96EMfcl+bZfkK8gIAAAAAAAAAAADAhajTRvR2F0b0AsgHRvSGMaIXAAAAAAAAAICu1WUjegEAAAAAAAAAAAAAXYNALwAA3eYDWrWmWoeetNMjl9jlvcFyLdnaoAfXrlK5XdITfOGfBkfrc02RvmCXI4+uGqjZy6Zq0U397IKu0E+1Zp/uNFYjr7KL0SsVzhxr2zJFP+qWfpYN0yez74v+udeOsQs6SflN/vUxVbNnXmyX5sPFGnl75x9/Yr3huvfqY9HtA1Vol/QqY6p677FH5N4nzXWZ3+sGAAAAADoPgV4A6AGGz61TXZ2dFk9RiV3uK6ldHF1fN0/D7fILx22av7ZBS5bY2U42ob5By+67zc51vca1+1U105m+/Fu7xJqxSsu2btYEO9up8ll2XqXuCz/4x6NeXa5ttks6kQk02S/A3eBMtgEn8wV6jw9SxDMBo573hfcZ7bh/u1bf/7KSJ65JLZ/n1TPrrOdqe3Kv05bbtWl3m13SufLfHiawdK0Kdh/Qq2/aRd2s6cfm+tiuHUfsgj4h9+u+1+oTAdjeo+3JI2ofP7GLfsAAAAAAALkh0AsA3W3EPE3VdtXX1zvTWu1XtRbMDYRynfULRrVru7u+XtuPDdTUBMFgoGst1crplbpzwc0X1hfuLe/KD0W1ncr8Wd5uYHjO5dr3mBd8WX3/AWlaH/nS/s3j2mTO6cdn7AIgD3pwPyucOUKjdEjPPpn98/39IPeOl+wC9HLn9OoKp5+uOB75rEBvdEY7HjukgjlVPSprCQAAAAAkclFNTc379nWv1NbWbl8BQOc5fz77L2s7ixm9u+Cao1r7+DM6qRJNWbxAg19fq8d3nPQ2KJ2ixfMH6+i6x/XMCW9RvlVUVOjw4cN2rmuZ0baLhtmZgJady3X/3Y96M0s268Eb/Y3a9OwD47Rui3ltRn8u1WTt1EN+QNJu2/BEpdaX79EdkxKE2hrX6M66pXYmn0zq5o+odOt+za63i1wmLfJCVdq5qATnVuSuCB9z4BxXrjQLgvVwTPPSlp1a+X2BeoutK7PvsXv0UPOsyDbBtjLvvUUrtLVsaaRdY4+zbIs/b/dVttndR0Z9wVdXqkPT39Pyha36gV3UcWa03kSN8us65Lh23H8oTbDbpBu9VtqYPJjjpokcH+2LTYFtzbrJOqBXBkxU7VBvWWS9GeU1R+FjiFvm7d//srpt9y5t8gNSZtvas9q0Tpp8a5UXeD7yshtMiz2mCLveMCMl/WMKlWuYEdC3XqZX7j+hIf7+Ww9pU8YBkBTHHWG2GarTj+3NeCRlJueVfN+2LyhwHm59D3Tb5JWyDMp268XWtRHab3rh4w/2P3PMpXrtsbMa7ZefRX275Q44EnOcpv1M+ea8R0jrjqj/rX69xPR9Ww++YB/OVNwxWCn7mRGzb3+bjrR1tu2Rug/G3jti28vfb5v2hd7vteXp3ZdrlHP8bbtf1tGqa51y/O28cvvvCN8nktXd6FPp6yzaXhm0dWydOWLvWcF6z64vhMvurOs+IklfcaW4Ns05Jb0PJ/qMCF178ccbahdzTCNOaNOpoZF6ixxX7DFFBNqkU+8pjtCxx5xbFmWnrrNoHTyrEZH9R9enqTMj1JbBa8i/Pl6W5mTYh5OcV9LrBwAAAAC6UHl5uZqaov+iifXHAwcO/IZ93SudP/+efQUAnecPf/i9fdX1Lh08WiP7terAK0f1rgbr2skD9PYzu3T0XbN2uObd/DGV6EP6/YkX9Rsb+823/v376/Tp03auazX97P/oyR+d1eWfuU7nf1ap+//GzP8fPf3Lvd4GJgXxXw3R3geq9Z1vOOsuna/b/upmnfnRv6tJe3Vg9VWq+KtZmlR11nnPIi35/01Riw0stv+y3i3rTO3f6KpfL9fdt97qzj/5s//2ys67P9L8RSW67PAJ/fuLdpHrv7XbHMebH9P4Ke9p/fQJeszM/6heB2y8fUL9Gs1+d43uXPQZr35urdNnR5tzdOpl979rf9Vfau6s+W496L5Htah0jw12py87Hb/ezD4mXdYYrq/xN2vmlCma9N5/ecd26Vx9Zla1bQ+p8IY63TBperS+nfWfu9Fvr3Ea8efXOfXxf7R7t1ec2d7fR9q+EDT+Mv1NxR/0zJrzTi/I1e914oXX9cYlxSo7/pL+89+a9P5HB+l3v9iuTWtalPYnZ2Oudvpfu15Jtu2YKn1m6nvacf8ePff069rf/kFNmnON3m94SyfekT407CpVjx+mfo27nH03uscxbswf6Y0X2nX+rf9Rv+uq1K/dOb63vOIKP3qNKs836bl95otp84V3jcr2ee/d/3SrrvjzGg32t79ygKpHD1Hl2PPabfbf8Dtd/YlB+qCz72Mvv+Vs/7rODBoS2beZ3++W62nf58zbba74bZMaGgP3zoICp9whqrruUh197Dlt+3mr+s0YqSsCx5pcmuOOuFiDr+uvcy95dZWJ843pzivVvk1f8M6j8pK3nfO9XLVfqFK7DU6kL7ufav9mpN5ztt+0xtSdU9anr1W1W1YGnzsxfeWNS67RDbNtX3DrokrVfluasjOub6+fVV56Jnqsbvt9UM1Pm377AZVOGKZRH/fb8m3nGhihD/f3j9s5r0+8q02P/No7X7cPD9AZ972ZizsGK2U/M/v+whX2uLzt/PXp28MEcq7WmUfstWfbI76fpWCu77LT2vML0wZhhTNHa/JFB7Xar5dQfZzTG/4+4/qw15aV55337vwfjZta5d5vXvnAR/ThAlPnctpjkC55I3qcyequ0Lm+E9ZZ0vZK19ax14dZHziWNPez1PJ33bvcwKDJrBDfV9Jdmynvw/Yzwmtj51iddZUDzqrBXWfEH2+oXcx9eIJtb9MmTp2Nm1rktcc77Wqw9Vhd9pY2fXuf9rj78ftS595T3P0M/l3k2MtvqtX4375s+7DT1lNrVBPpC6nF1lm4n3l1UFU9KHLe4TpNU2cmuL2oWIf8tmwv0CcWBfuwU+5ovw+be8Bo1Y5ujVwfmV737R9w2mLMB+wxAQAAAED3KCwsVHt78m9YSN0MAD1J6RTNHFWg43vNaN4gM7LXPJ93qvSUSd8sFRSTvNkov75a2rkiOhJ15Wo92zpM4yLPcF2qlQ/slCYt0vz7ZqmycU1ktGiuvvjdjdq4MXZao3tvsBvkzXKNG9ao1ZGRtI8659+o4pHTIqNTmu4ep9WNwzT9vlWaN0l6dmUXplhu3amH/GNbuUcNKtWgGd6sy2mDyAjcROt7vIvVv6hNp9+2szm5WCNrB6pt9xvR9nnpkHYcKdTg0YFnih55OTKiqO2Vt9VWdJkK3LkzemV3m8pH+M8LvliDqqR92+zIpKuKNTiUUjZ2e8OMhLIjnd5s0dHWQvW/wl3RKZo2+qOszui1I869qyyDZ6VmdNx5knbfXkpPjb9aI2cOVbnTNpmOViw027ce0iuR7Z2yNh5XYVVxghF78cpHmJHD0VFp5jmSTUVXaFDkec+BtsymvjMUbctzOnaoTYUD/LKd8wiOhnvphHMMl6uoy55DHXO9ZKHpx8FRftnXWWHZ5aGU7nGGloZGvmbOaUv/Og71mc6Qvr2StvWYq1Okqc7wfpZMXq97/9gSP0c5o2sz6X24E5hRtH6bZHH95HZP8eokeE8J66chQ48H+so5vboj8/uVK1BnCc8rcN7Z1GnhaOdDKtiWL72hfa0DNSTwTN1oH3ZeHzgeuhYzvu7fPtu57QwAAAAAeUCgFwB6jOGaN79a2rdW6w/YRa4CVc9foP57vWf0rj9QopIiqb2li4bz9nDlZYUqnrRUD25tsFMgnbFvy8364c5STZ50IhAczd33vzJHc+bETgt1zy/sBvkyY5CKNUyLIufsTJHU1VHP161Ry6RJKg4GwnukQpUlSMncY5iRQ8umuqklC8dP1CI33WOhRt3qLJvZseBSrPbmREGTzLhfjvtfYLuBkrd1zP/y+4rLVFhU5R7/IjuFUnQarYHt7fMlMw1cpndcrwXKavrx9sxSYGZy3PmSyb7fPK5n3bS674QDZplIFRRM6WIVFTv3vDnR4/L6Ys9gUpx2z3GdsYF3c22afWf5TE0zyjNy3NEU0ZkqGJC8X5rn7+44MlC1tuzOul90hny2V4fvZ3m97s0PdNIcW4evzW6Wr+O+6lLnL9Bo/3WnQNrrjgn/kKjtUEv02N3ncCcLOoeZ6877PPaPLdnjFSwTsLUvXZle92++q/Yu/dEKAAAAAGSPQC8A9AjDNa9uqgYe2x59Fq/rpE63S+2h4G+J+he06zRx3gjzjNY7p1eGptCo3SWbdcfI/Vq9s1SL1q7qtC+0u29Er9Go1THnfKf/HGKXed7tQukJE+xdqiWREc49UZuaG+3Lnsj98nmX9rWaEULbtfqxQ84Rm+f9ZRi0dL9gDo80ihUeSeQF9DLmjsL1yndHOQW/ODfMiCnnWFcHp2yDk92hO4873b7HVGl21dvasfty1d4+MPPRbUbxpaHt3RGhWXD7YOjYoqPWuot5FmetGfkXOaaXMwrWdBr3GvX2vcm0SabBXvMjjjne85X9+txxxK7LUPup1CE28+MGv07ax0/sEcHefLdXTvezvF3353TauYenlOO12W3yetzBfmKnjJ+znkhnZcNwStq9K3xczpT0R0rmRwStZ71019lc926w+x21dvM9FgAAAABSIdALAN0uGuSt33DQLvOd1MHX21UwaqamlHpLSmrHaWD7UR084c1fGB7VsZNS5djldj7q+b2NKp50u+YnTf27XEtuHKaGLTfr+btX6FlN0i333WbXeZqa20JpjzOV9xG9W46pRcE01NaWbTrYOkyL6uPrw1d+3+2arJ1av3KpVj7RqMobN2uCXedKVnYXm1C/UJWt+7UrMOK4uNy2jwnQT4oNoSXvC/kX+ILa/8I4E28e1ytHzEjMYPDpYo28yQQIbVrU8VdH15nUqEXOezIJIru8MgrK+mlQ1Tvh95lUmUVVmpxDcMkEsrJK1dkZOuG400l6Xmn33U+1Jkiw47ianjygfYrfNlnZXmrSKo2OBP37afT4Qres9IETr53D/aiTRQJGzjneWpVdmweuifKbum+kcVtz/ENbU/fhwHU9pirrEb3u/mICbYllEGjMUiSgan54kO3I1462l5vKNpouvPym4EjKHO9neb3uU18/uV2bmYiOZPUC7d7rjMXUuy/Xe0pri9OGfmpsGwCNsD8iqr2pc1Lmu/0slEEineR1ZlIxF44foZEZjbS1abtDP4LK8LoPBogBAAAAoIe6qKam5n37uldqa+OfXQA63/nzmQZYcldSu1gLRsU//ev4UyZNs/c6tE37fq19PPYZvvlVUVGhw4cP27nuslxLti5UpZ0zo3gjz3ldsjkmdbEZ7TpLz/vvaVyjO/2UzXbb0Pvd0a+BlM/B7fPqA1q15iMq3bpfs+vtolihc2vTsw+Ms2mYY47Z4Z9T+X17dId5Lm/ctn69WEnLTiV+vy6/zkyZM5r1UGR0sWmDWWq2ZXvHFghImOf5Bkciz1ilZXdNkjsAzFm3+tVqLSrbHNMeKfqCr65Uh6a/p+ULW/UDuyg3/VS7bKhOP7ZXr15RpUW1Z7Upy1FNJlVq9Mtk8yzV6EhM8yV2NFCTYN2AI9FRbebL+Fsv0yuhFJfm+K51nxcbP/rNrrNzhhnJ5I58Mukr057LxRp5eyCYE9lHfLmGGWW1yQR1Eh5nNtIcd1wK0XC9pZfsvIxk+05Qz/ZYIuftSlG2Wy/RIGr4femF+4rDjIB0288cm+2jtg5Mnxt9KtPyg8fs1OXGtzV4jt9+3rr+O6Ij5sL9MlxfbbsPqX38FaFjSS6mrnyZ9rO4vpCoHyRvj9B16dTlvpYqDc64zgzv+OT3zYgE55Wg34T5xx5oy8D9piDYnsF+5Bz3jkNXqDZJe/iifS1Ve6Vr63AfNGW+MmCihhyI2T7J/Sy9+GPvzOs+9voJXX8prs3YOkh1f3O3rXo7fF8NHrvTD3bo2mhbmnWh+3Cg/QPnFT52M9LW7jvFcacXrG+nzMfOavR85++HyLHE9+NMy4+t6+i9ypP2/pSqzoy4/uDXSfpjzvS6z+4eCgAAAAD5UV5erqam5N+uEegFgAS6MtDbG/SMQG9flEGgt49xA71xgds86PRALwAkljCwhwtWXFD4AtXr6yFFMB8AAAAAulK6QC+pmwEAAACgg9qSpPDGhchLndx2ih8M9m793PT17RsJ8gIAAADo+Qj0AgDQzYYtqNahJ53pkUvsku4zob5BD25NNsU857cH+sI/DfbqckGZXQIA+XZOr654We0ZPzMUfYoZ+blsqha507VuandS/fZuhTOHqmD3rph07AAAAADQM5G6GQASIHVzGKmbAQAAAAAAAADoWqRuBgAAAAAAAAAAAIA+hkAvAAAAAAAAAAAAAPQyBHoBAAAAAAAAAAAAoJch0AsAAAAAAAAAAAAAvQyBXgAAAAAAAAAAAADoZQj0AgAAAAAAAAAAAEAvQ6AXAHqA4XPrVFdnp8VTVGKXB3nbLNaUUrsAAAAAAAAAAABcsAj0AkB3GzFPU7Vd9fX1zrRW+1WtBXOH25XGcM2rq1PVmf1qt0sAAAAAAAAAAMCFjUAvAHS3A+tVv+GgnTmpg6+3S0UlkVG9w+eO0+l19Vr/G7sAAAAAAAAAAABc8Aj0AkAPd3DD43rmhJ0BAAAAAAAAAABwEOgFgJ6kdIpmjirQ8b3P6KRdBAAAAAAAAAAAEItALwD0GMM1b361tG+t1h+wiwAAAAAAAAAAABLIW6C3pKRE8+fPd6fi4mK7FACQ2HDNq5uqgce26/EdjOUFAAAAAAAAAACpMaIXALpdNMhbv+GgXQYAAAAAAAAAAJDcRTU1Ne/b1x3yR3/0R7ryyivd1+fPn9eHPvQh9/Xvf/979e/f3339xhtv6N1333Vfd7a2tnb7CgA6z/nz5+yr/CupXawFowrsXNTxp+rdFM6J17dr/7rH9cwJO5tnFRUVOnz4sJ0DAAAAAAAAAAD5Vl5erqamJjsXL+dArwnszp071329b98+jRo1yn396quvauTIke7rbdu2qaWlxX3tq6qq0tGjR93gcC4I9ALIh64M9PYGBHoBAAAAAAAAAOha6QK9nZK6+dy5c+6U6nXQxRdfrNGjR+u6665zRwQDAAAAAAAAAAAAADL3xwMHDvyGfZ2V8ePHy3mvCgoK9N577+ns2bPu/03KZvPajNT1X//xH/+xhg4d6m7f3t6uoqIiXX311e5oYLPd6dOnbanZO3/+PfsKADrPH/7we/sKhknFn8u9GgAAAAAAAAAAZKewsNCNrSbT4eG0gwYN0uDBg3XRRRe5/zfT+++/H3kdXG4EX5sAsO/aa6/V/Pnz9elPf1rDhg2zSwEAAAAAAAAAAAAAyXQ40Pvaa6+5z2v8wx/+4P7fTCbQ6782gV7/tUnP7L8225hRYeZ9QR/4wAfilgEAAAAAAAAAAAAA4l1UU1Pzvn2dkdmzZ+vSSy+1c53DpG/+1a9+pTfeeMMuyVxbW/LhygDQUefPxz9f/EJWUVHh/lgHAAAAAAAAAAB0jfLycjU1Ndm5eFmP6P2TP/kT+yp3586d03/8x39ow4YNHQryAgAAAAAAAAAAAMCFKOtArxl921kaGhr0P//zP3YOAAAAAAAAAAAAAJCJrAO95vm6neHs2bOkAQUAAAAAAAAAAACADsg60Pv222/bVx33hz/8Qc8995x+//vf2yUAAPRAY6q0aFmVyu1sXlw1ULOXTdWim/rZBQgqv2mqZs+82M71YH47ulOe+wwAAAAAAAAAOP544MCB37CvM9Le3q5Bgwbpgx/8oF2SvRdffFHNzc12Ljfnz79nXwFA5/nDH7r2hyjD59ZpwQ3jNX68M33kEr3+ylG9a9dJJZqy+GZ9crJdf+VZvXjopF3XNfr3799pGR065mKNvH20So+9pRMFAzX7b67Ub59uUbtdm1w/1S6bqEnXDVF1zNSv/XW98ZbdLJkrB6i6Snojo311UEGBKscO0IfOvK39+87ZhfAVjh6iK37bpIbGHv7jsHfa1fD069rf8DtdPfaDas62z5hAccb9Okv5LBsAAAAAAABA3hQWFrqx2WSyHtFrnqn70ksv2bns/O53v9MLL7ygN954wy4BAGjEPE3VdtXX1zvTWu1XtRbMHW5XSiW1MzX49bV2/XYdHzRVi2tL7NoLyTtqfdO+bD2bYcDqjHbcv12rnWnT7jbnfYe0yc7v6NhHWed787h3TD8+YxcAAAAAAAAAAJDeRTU1Ne/b11m55ppr5LzXzqX27rvvus/jPXLkiBvs7UxtbYxNAdD5zp/vvpGVJbWLteCao1r7+DNKNG7XjP51A8MbDtol+VdRUdFtz1UvnDlWs8cX2rmwpo2ZB2zdcqre1qYVx9Vml3nMqN9ro6l2TTDY38akbp4j7bj/kJqcWf9Y2nbv0qYnvT4SPr7jkW29UcgjpHVH1P9Wv/zgei8tce1Q73WwTJe774F2xgoem1v+RI0qcmcSruu/Y7teG+Hvo037HturV/1geVJefShUt4mWJWGOe8QJbTo1NFIvsecWrrPY44o5L0f4/eH2yqZsU9+jT+3SsxoR2SabPhRukyT1aUbP3nqZXgm0c2ox/S8iXH7Sfubur0oK1IPXr8w2JzQkg7KD/TDpeQEAAAAAAADocuXl5WpqSv5NY9apm32tra1666233BG+xp/8yZ/oj/4oOkDYBHfffPNN/epXv3KnU6dORbbtTKRuBpAPXZ26OejSwaM1sl+rDoTSN0eVfHi8huj1Lk3f3J2pm883vuWlw61o0S+/vU8NlxSr8vxBrX7k1+lTLwd8aNhVqhxwVg0vtOu8XeYFFWtUtm+X/vPfGrX/6bf1/oSPanJlq5dGOZC6+SI30PaOdty/R3v9NMJjqvSZqe+5y557+nW9cck1umH2H+kNdx8fUOmEYRr18Ut19LHntO3nTtkfHaEP9387koa4fd/rzj5f15lBCdITv9XirvMm895CNa87pGPveKsLZw5V4fY9Trl2vXPcoyJlm30PUuXoIerX6J3bmUEf0fgh9rxSOqf/cY6nujSw7ZirNamqXa+sySD1r6mzCVWRNjJtVzl3iD7Y8JZOmGO/aqDGX/GGNrn1bersKk2e4teZCTrWavxvX/beG1c3se3Vqiv+vEaD/TTcaco2aaCrqp168fuP05fGjYmuT8kEVBcV65Dblk6dtxfoE4sG6ExsOmQ3FXc2qZvPOf3LKc9N+Xxeu21f2v+0rS8jVT8zKaPbP6hxU8v1vqnjyip9ckK7DQSnL9sEkG8YdFSbnGtrj1u2U2dzC+LPCwAAAAAAAECX6/TUzUHmS/+XX35Z27Zt03/9139p3bp1kWnTpk3avXu3Tpw4YbcGAKRVOkUzRxXo+N7Eo3ndNM+D2rX/+a4bzdvTFAwoVNupdMHKDI25WqOKjuuVyIjQc3p13SG1DS0NjYIsigR5w6M0y0cMVNPG6LK2J4+oqegKDbrKLnA0bfRHR57TsUNtKhxwsbs8G4UzR2jwoQOhUZZtTx4KzCcp+8jLkVGeTQeOS8WXyh8TmkrTtnAdmPNs2/1GhiNUHWZ0sZ+K+s0WHW0tVP8rvFmTqnpHYARu2ytvq63oMhWYmasGarQZiZosjfVVxRqsQ3o28v4zemV3m3N8/bzZVGX7AseWcH0ShaOdE9gdaIOX3tC+1oEaMsbO51HafvaSc067pVHTBmpkbXjb1Ppp9PhCNe2IjnJve/JAl50XAAAAAAAAgNzkFOgFAHSm4Zo3v1rat1brD9hFQaVTtPj6gTr+1ON65oL5DY0ZwTlVi26tUmFRlWYv81LMFo6fqEW3D8woaJlW2uf9DtQokzL3yImY4NnFKiqWyuc4x+cclzclSpObo6sGanLV24HgpmVGmEb2OzWQ1jeq6UAgYPrSIa2OS1udhBuc9YN9/TRkaDAY3jEFZX4Q2rapf+ymbe2atK64LNIPEp93+rLbDrVE68B9PnJmQVHzAwO330X2HU4vnT+Z9TM3QFtcpVEtL2f5/Ok2nX7bvgQAAAAAAADQqxDoBYAeYbjm1U3VwGPb9fiOBGN5TZA3VRC4zzqnV1ds16bdbe7o1NX379K+Vu+5qhkHLdOJHdFpgon2pcc86/RlNQ29VrNnxo/GdY/l/uDUmc83vVgj51+ho+tiz7Wfam/1nsvq79eto07jjRB2R8qOKVV5XJA7e+3NXqC4/KaJGqVD2uTX12OHsmtHMyLXf68/2RG6OZedhnkecGi/zpRdULXj0vUzc+6DD72sfcWJ+2lygdHWrovVv0sC2AAAAAAAAAByRaAXALpdNMhbvyFBSuZAkDdhEPgCEU3X3IkjEF8yAcyBGh0JjF3spr6NT1N8RjseOySNn6jaSEpbGwydU9X5o3gtL3gXTtkc5AdP3VG/CUb05sJNDzx0qGbXXq5925KkUs6ASTs9qui4XgsGRFvetQFYE8gOjLp98121O+3hpw02z481I7gjTHsVVWlyqkBmsrJzZFJfF44foZGBtNydKubcozLoZ2OqnHoyo67PuKnHFXucScs+o9eOOP3M6fN+PZlnP5e3HtIrXRTABgAAAAAAANBxF9XU1LxvX/dKbW2pE24CQEecP59bmtpslNQu1oJR8U8JPf5UvTt6d/jcOk0dZBdGtGv/uq5L4VxRUaHDhw/bua5XftNUjT61S5uevFi1y4bq9GPZj5o1QcPZVW9rU9xI4H5OmYFUuGbksP+M2DFVWjRH0WfzuvMDQ9u45QaDrGbEqbsPk0Z4ovrviI76dLcdcMS+N2a/lhk16j5X199XSJv22XMP7/e49u2+XKMiZcfvuyNMvdcW++eTobjjNiOiA+mRTcrpQErlpt2HVDD+Mr0SW8eGecbwqaGarAORZw0nqjcz2tU9zzRlR/tRB6/vFOcW1w9cMeeeTqj8aFsbSfuZfU+kDhxuuw0Nvz9V2d723uusjxkAAAAAAABA3pSXl6upKfm3dQR6ASCBrgz09gbdHehF9+hQYNQEFGvPZhccBgAAAAAAAADESRfoJXUzAACIN8ZPB8yPHgAAAAAAAACgJyLQCwAAosyI3GVTtWjO5dr3GCl8AQAAAAAAAKCnInUzACRA6uYwUjcDAAAAAAAAANC1SN0MAAAAAAAAAAAAAH0MgV4AAAAAAAAAAAAA6GUI9AIAAAAAAAAAAABAL0OgFwAAAAAAAAAAAAB6GQK9AAAAAAAAAAAAANDLEOgFAKAPmFDfoGX33WbnsjRjlZZt3awJdjbv6kp16MlqOw3Wqul2eY7K79ujB9euUrmdzwd3H1sbtGSJXYCAabr3xxv18JfsbFZu07c+9xP9Q6GdvWDcpvlrU/Snrr42c+Ueb4MerF9uF2TGv67cKcv35ma5lnA9Iwt8BvQS/r3InXrSPdTcc/Zo/gw728P8Ze16fSunP6I+rv/1+cf0g9vt9OnP2eUXss/pG6YuPn+HJtolvd70Ir2Yh7/jAQAA0HEEegGgBxg+t051dXZaPEUldrlrxLzoOjPNHW5XXEjSBENylFOQFB3TekzLZ+5X1cyjunmrXWbRHheaqfqHOX+mslce0T+32UUurvsLRdPd43Tn9Eo9tDPUATLX2wLiad2m6n9Yr08mmKrH2k16sl7bHvm953RML+8L3WXLzbrfuafc+cBOtdhFXSm/ny/TtfSn39L3f/gXivsXwa1/o++bde70DX1pml1uDV/2jcD6b+lbyyrtGs+/vbJbZdd1/EdXE6+7WR/Vr1S/4lZ9wUz/9RO7Js/yec/pwfezfPazlGVvbVWN+zf8YTXaRQAAAOheBHoBoLuNmKep2q76+npnWqv9qtaCYDD3wHq7zq4vmqrFtaFQMIAu4gekVq60C5Cz66q/rHHarX/dv90uQa/lB1fqltoF6JhHtf+f5+nnzrTthbNS625ts/P799pN0C26/jOAvoAAN5A7UidfaLcLgqZr6ael//js3+mLzvTgC9LEr/2NPmXXmvfe+ZEGPWjXf/E7Tgf62F+Eg8Ft9+rmp9/WuCn36Dq7KBtD+l+qd4/s1C47D+Mn+oYJev/oIeoFAAAAeXNRTU3N+/Z1r9TWlugfOQCQm/Pnz9lXXa+kdrEWXHNUax9/RiftsiAz+nfcmbV6fEeitflRUVGhw4cP27muZX5RvmiYnQlo2blc99/9qDezZLMevNHfqE3PPjBO67aY12Z0zlJN1k49tOBmNZlFdtuGJyq1vnyP7piUYNhC45qMAxUmjWO0jEatnj5Lz7uvzb5vl1ZuVtldC+WNmQiu94TfL/e4/C+QU62LnFuRnXWE6sRND+jvN3adI1RnRvyx5Y1J3Tz9PS1f2Kof2EVG7PlGBNvDjKy4a5KKvbnQOvf9I/dH2trvO9F6i6mzUDub+hqnPQ80a7pffmug34TqM9jHPAmPPa78JO3hnlOZtk7fo3H+NqF9p2NSJn9dH/PP6/A6zfnK9+3MF/Xwxmv18oMtmnXnx3SZWdT6gr550z3a5q43zDbzFekNofWp1hkx6x2NP52jr37PznzpYW38rL/2rF54cKHu+YWddZmUzTN0euPnQqN5e/p1n1pMP4try3BfMELXdk7XZkzZwX2bcsfu0UPNsyLnH3tfCPfjBPuNObbg+4NtFne/cYTLjr+GDHebss1ZtEN8XXqC5aeoE7tOfv3795fYekvYz7zjvUUrtLVsaeTcU9+ns7/PXjLrJ5r24QPa9vC9+q1dZgxYvF4fPvWgXtKXNe1j7pWtoxv84J8ZBTpD7Y9+TkffdFdFtt+52f6gYux39Mm5Fd5r59rcH9i24zJoD1OfM5r1kFNHt/j32si159VX2ZZoHYb6RAZ9OHV7J782099zguUm6r/p+lmqz5fMdKgvmHae0hJ4T3zfcMu173M+QPT8P39Np+xcx5m6dv4GevWEJk9yKtZp49VamPozOcF1F7dt8L6eicjna+x1F7Pv4P0/g36WqL+YbX6o2wP3uYBI+aYvzFLzE/s1/MZs+8J0Lf3hlfrpLf8uLfuGF7R1Xh+0a+NM+wt962uVOvidb+h7zoe2Gc17Z8kz+uLf+mlUzMjgKTpp10eZLBt3qv/L8/R32XRQN21znSqP1OsrTz9nl0X9+acf06yr7Yze1a/W3K7/t9mbM+uuO12vVbpZdR+91F129Je36huvui9TiLnuIoLXaJq2TtrPjmle2rJTm3jdisj56I3N4RHOI+/VDyoPqP70dZFt3v1V4rqLFf48DQieW0zdBPuw138Dn0f2s08Z9eGgS7TpyVKd+GZ8dh4AAAB0rvLycjU1Jf8DnRG9ANCrDFfVoHYd/U3XBXm72/N1lbpz+nI92+p9OWhG0pgp8oWb+XLixlI9+4Bd98QJTb7LT7H2qNYtWKOGokm6xU0/tlxLAl/o+CNzVjd6X4D4Zcd/kZHEks26Y9IJrbbve2hnqRaFnhFb6BzLLDW7x2bOYZimB9KgeV/URN9vJv/L7diy73yiUZU3Rp/rNqF+qSafXBN5nzmHKPNF1UIVR85pjVomLY2mo4yts25KbRgrfXs47XfXJLVE+oHTtsMWJkwt536JVbJTDznb+XUarjOnPUpi3ztMi9wvhG3ZTr+ZF0nhuVQr/eV2SZB/7JHjMgGdyHGnaQ+Xs2/z5a/bJrH7Tu2L3/26PnZqnebMmeNM39QLA+ZrzT3BITrDNP/OYm12169TY9HHtCDyHF0vUHvlrm/a9ztTJJBrAsjBdU7Z+pi+/t0vumsTrneu04gb7tWaz16pFx605f70LX3szoedPQaUf1RD2w5oe0zG3h593adRft8iaaUt05yD/OMwYvuCd44ROV6bE+qDZTtTbPDAuV7coJktW5Nujz4rMt39zP1CPHBszhQMfHhtFnsvspzzmqcVkfc95Ox68pLOeJ62vS7dejJfWvvHFvyCP6a+nfa4I9FzgE3d+/cXv95S9jNPsXMtT2/2yjeppyud9/jnVX7f7aH79J1ZBnnT6fexOzVtwJbIaM/BU+7RJXZdSlfdo0lzr9D+R72RoT/f8Laqb/uOBtjVHZeuPSzn2rzDv9eabYfNyvyZpcE+7HwuFk9aFGgPL7CR7BpIdW2mveek/AzIpJ+l+nzJXYf7wtjvaNrH3tbzdpTwtheu0ISvZvjetJy/gUY26yG3jRe614l7jYz16iXlvXLlLG/bG73rzb2Wsg3yppD274FU/cy5F3pBMvtecw9vXOP2lcw+X5x6ubEjfWGrlqcK7KZx8NkGtQ79ZCRd86e+/UkNa2vQ06Egr7Fd218/q6FDAvWRkn0G7e11+miBdOlH6+wzelfof5V5W5iA56x+0ZTO9b+SPrrwXv25t9pl3lfX/2m7/l0NHp/JM23T33NStnXKfpbh/SyFXU/fHjmfhK6eFTnnL/zyqFMHnwzVSTLp+1nqvzufrzP91rknufcoZ9slXpA38z4MAACAnoZALwD0JKVTNHNUgY7vDY/mNaN8vWf0TtXAY3v0zAm7Aiq/vlrauSL6pcvK1e6XF+MiX5ot1coHTEBjkebfN0uVjWuiwdQcTRhrgkfRL+6b7t6shqJqTQx8Yd3whP+F0KPa9Wqbisv839Yv17xJhaH3R92m+TOGqWXn6ui6lbO0urFQw6+/zQ0+TDdfMib70mXGNA3XTv0w8AX1+sCXqxNuNF/oBOosGyZ4t3GjNsZOkeBf/pSb9mvdqfWR9nPa1nwBO3JaKGA00Q/yhr4QXq5xoTp71Dn/2PeaURp+eyzVnkapuDzTLzqjTLBNwXZN0x6+aF/JZt9f1LUVjVoXGcG7Tff8olGXDf+EoqFeM5L2q/K2+L5ePixdOdBbO+2eWRrW+oJW3Bv3Ta/0pQX6WFGjNkfWOWV/7wWdrbjWC9aa9UryXse060ZKu1ZER/B+b61ecK7NayNBZum6flfIPK/5aTufqe687tNpuntW4NqKue6XLHK/RI72hbCcrk0r9noIMSPH/GtgyzYdbC1UmR2Vlvp+5t+TOnhsW27WysA5Nz21Xy1FZZ0Q6E3D1LfTh7dG9u1c9ytN0GlcKFir8miQN9hP0vczhw3wGAnPK3Zf1rR71sTfR53p4cD1kZZJ4/u4t+/f/uqAzhQVy44dS+mSj46QXngkOoJ37zrtb63QlV32zNfAvTamH6YV7MMr96hBpRpkP3P9z4hk11fKazMXGfWz5J8v3dkXBoyo0NEN0RG8v928RUeLRqj0KrsgRw3Ote99Dgfrx5OuPUzAaXWj+YHcKufvJenZlZ0T5M3o74EU/czcK9W4x7ald9wqGZTF/SzPfcFVqS/dOlZFR56Jjtbd9u/6u88+ooMf+bL7fN4/08/1xSSB46fPvC0VDcowfbNNTbyiXr9q90aluoHLFf6I3c/pkx+9VEd3R1MX73p6lbPtYI1w/kyIaP+V6u2I112/btC7Bf00xJ3LRfq2zl8/y0DgnPXqAR1Via6ywfGcpP2706kH84M48yOb+1L/XQIAAIDegUAvAPQYwzVvfrW0b63WH7CLrJM7Ho88p3ftmXGqWzxFPKXXU15W6I6oenBrg52WRtOz+bbcrB/uLNVkM1ot8mVPrm7TIKcRKm/092umRCnekpgxSMVqU3OjnU+gpamDX7oMK1OxGTEVOa6GxGnYOuIX92ihP/IzOEUCjXl28ljqL+Cc8548zKm7V7eFt3Pr24yaDbRXJB1rJzIjfRQTVMyoPRq1J/AeM7osOFoyqRuu1pVmxG7wS+FIquT0Kksvk069EUjFHKO1JeEI5kyYsi+b+PXAl9WB9NLWsH5+utDsdN91nwEzCjRlW+ePO0rHjCS0+w6PGk/MCzCku59Vqsyp3w7fk0ygeG2gbD99bVdobU77pX3lJHM84WvQyKifpeAHEPz7TnDE4LZ7F8bfR50pkvY8A2d+sy2awvfNe7Uzw5S7lw64zB0B+sl/WG+nO1WdxXnlrHW/dgUCfOsWhAPsHWXaK+VnRD6vzQz6WTLd1xem6rIB0uC5fj8w059psF2bdxm0x/N1ZiSic33m+AOYkBz/Hmhqbgv8gOM2TRxZGP83Rwd1Rl8wPvXtL2ui9urBSJpmh0nl/NMvq2SbeUbvI9o14JP6/k8Dz/ANam/R2UJTS53lXZ1Jk4wo9Gzf5of0lRX36P+zsx2WYVvnpZ91p4z+7jQ/ljSp1Uu7NrgNAACAvCDQCwA9wnDNc0frbk/77N2Tvzmq9oL+BHoDQqnF7BT60tikJB25X6vjUivnLpji0ZsyTOm25VjalKzhEZ1eICZjZjRK6LicqTOCXd04otcVM2qmvLzUvrLMebsjOWNTIxvB1Ht26qQ0kB6TIliJg4r5ag9Xo9bFfjEceo5ucg0nztpXSRQVh3+8MKzYe85vhs4GU0LbKfiFdeOZNPtPoTuv++S89OImBaJ/TCYtZNfxgmbuvp3roPjG9MHeYPA2+f2sQc3BFNNZclNnKnANuKkwu0jcCNuyuCCzOW83IJugn6TtZ2n4Ka391Jl+sLfzRu51zJkXHvTSNgcm7/m+vZcbgEsqz9dmBv0sme7uC+Z5vuG+0BnPa04nk/bw0s/qiUSPO8hVx/8eaGoyaXX84KF3b+us0ZCd0Rc+9e1v6c+Gvq7/iBmt+6lPmxG+P9fyx8xcg753yyPa1XaNPmFTOYcUOJ/1bSZhcWe5VP1Cf8MOUb8C+zLv0rV1PvtZN0r3d6f5oYX5mzXBIwkAAADQ+xDoBYBuFw3y1m9I/+St4ROqVXDsUIef0dU7PapjJxWX6tZ4fq95dlrgOZNxTPBtmJs+8Pm7V4SfAWeZL4dTpjtNyEvX5z/XK3smXV9hkudU2hSGoWfCBVJDukHiaPpQ86zfRcEBCibNYFH8efrC5+t92Zrx6LouGNGbrD28tKjBZ9nZ9NeR1JCWM39/zDONvfSgw+zzyPLB/6IwkLLZl6Y9MmOeh2u+8F2je2+wi4xf/FKvOuc1v4OB9m1Pv6qzFfMTf4n8vZfV6PSzWZHn/TrHcMMwnd211ksD3diis0Uj9Ql7PO6zggOjAr//cqMum3h7+HhjpE4P2c3X/Zce9r5k70DdRoKnM1bpluAomsZmpw9H07u7AdBAneV0bcZK82MS91mEzj3FG8Wa7n6W6/3OERlp6VwrS3I4r0Ri7okRbsrV4LPRnX3HpsW3IqOhA/eI9P0sG+FgeWeN3EvuMhVc6b26ZNZPNKHCe22cOnBY/T72ZQ1OlZ7X/1HPj+8NpIHPULL2yFDkR07mxxpZjLp1PyOGLUwZqEl6bbqS33NSyqKfJZL3vhBJ4zxVg78aHLG7XSd+c1aD56Z5PnMufSGNVO3hPy91/UrvMQ053X+Ccvp7wGvb0I9iEgSIO/Z3Ze59IRLk/ez/0c/sspABVzr/6rCmfVzDnSo/+WZ83o6OPlYhsZ/owBsKPXN34nXXaXD7r/TzV+2CXCW752TQ1mn7WY73s3xK2s/S/t3pfQ7L3KPcR8PE11FH+zAAAAC6B4FeAOhmJbXjNNC8GDTVPofXm+aNcFcHns/rTVOVWUC4rzFp1RqGLYykIIukwFw5S3e6v0aPpid7cKv/Jc1yLTHpRyPP57TP5gqMqjKabCAokuIswy//TFrOh8xowch+nSmLkYNmpNfqk+HUav4X1HFl31gaeqab92WUt+6Oss0xI2Gc9Xb0mF9uuOzg+c5S8wNO3XqreoSk7WECuHaUondOC1W8c3ni0XVOv3hop9x+4bW1Gem4XM+WRPuQmYL9IKUlmyP7rFSh7W/RQLIXNFOkTbzJ74ep2yM323TPTd/UCwPmh0b/rIkEZ9MwgfsHX9CVn42+N/pl/vf11Tnr9FYk/fLX9bFT67TQfyav894Vu6SP3em9b9aJb2rdYW+V63tf1ZyfvhVZ700Pe8/39TX9SkcKx+vPklw03Xrdu4Fux4Crswhu2Ofg+f3grjIdDF6bTh/+oe2XZv305uVaHRgyldu1ac7b7tedElwfgVSOd5iU1tOjP0xIdz9LtD5an9F9mx+d+OmO/fXPP2GeV+q341KVvRoc0XtbJK2zG9Tzt8vwPuwJ3xOj12bstbdUk09Gn6kbZu4Rfn+zfSllP0snel7p993ZHtX+DYcjKXmnDdii54PX5t6v6ecb3lb1bcGUvTHBPvdHJM7/Y0f1ZyRZe6TjtMFKLyOD+74ZzVqdzajbuM8IZ4r04TTXppX0npPyMyCbftbFnLZ+/nCFJrhtfKcKnvkPHbWrjN9u/py2vXCFXW+nr96jS+x6V059IZnU7WF+wHZH8Hmp9vnYizK8/sz7vXLNj0rM+8x+/Pfm8veA93kS7dt2ivnbr6N/V6ZWqS/98Fvu83Xv/FiBVDhWdzqvv//Dv/CCt9P+Qp8Yal5coz8zy/3p29PNQv3sbx/RLtn3mOlrY3Xyv/7OjvANmqqp11ymI691Xv/9//7rVm0+81HV3f6YfuBMdR89qc0/ij6zN3fJ7jmp2zqzftbR+9nH9b8+75/vpdLVs9zXP/j05+z63CXvZ7H3JG/y/u40n03hkeiRz+hAP81PHwYAAEC+XFRTU/O+fd0rtbW121cA0HnOnz9nX8GoqKjQ4cPBb4mBHNSV6tD097R8Yat+YBfhwnVd9U90xzUH9NDGeztp9FBnMaOoveB2lz2DOp9MoGpGsx7q1HTl6Mu++N2Nmj/gBX0zw1Tw6LvoCz4vSFa2JZjC3Vs2/NXlPSO4n6vy72jdtS098DMZPc8l2vRkqU5886huDjwOGgAAAJ2vvLxcTU3Jv81hRC8AAAC6zdP7H9EejddfVU+1S7qf95zEPhTkBbJh05YT2AN9IValygLp9l0zpmm4syz4vPNeq/AerbruCu15hiAvAAAA0JswohcAEmBEb9iFOKLXS+eW7NmAbXr2gXFat8XOIjtmRO+CMjvTrucYCQDdpm99boZOb/yc/jmLTK0Xkgn1XlrkxBpDaZgT6o0jemes0rIUzylu2dlHRtAByFi3/31m7qU3hm/G5pm9CR8j0cv8Ze16jX5tnv6OtA9IZXqRXvz6IHlXIX/HAwAAdIV0I3oJ9AJAAgR6w0jdDAAAAAAAAABA1yJ1MwAAAAAAAAAAAAD0MQR6AQAAAAAAAAAAAKCXIdALAAAAAAAAAAAAAL0MgV4AAAAAAAAAAAAA6GUI9AIAAAAAAAAAAABAL0OgFwAAZGVCfYMe3OpNy+67zS7tfuX37dGD9cvtHAAAAAAAAAD0bQR6AaAHGD63TnV1dlo8RSV2eViJpiw22yzWlFK7COgGz9dV6s7plVrdaBd0qds0f22Dliyxsz3Ip779LX3/p3b64V9ouF3umvYX+pa/LtF6AAAAAAAAAMgSgV4A6G4j5mmqtqu+vt6Z1mq/qrVgbnwIqKR2pqpbj+u4nQfQcwxf9g392YC9evCzf6cvOtN/nBqrO7893a6drqVfq9TB73jrvvjZR7RLY/WlZZV2PQAAAAAAAABkj0AvAHS3A+tVv+GgnTmpg6+3S0Ul4VG9pVM0c5S0//lDdsGFw6TjXXbfKi1xUwVv1oQlm720wcEUvf4yO0VHe3qjPx9cu0rldom/bcYjQmPKjk1V7KYLjqx3js8u99j9J3z/cuec9mj+DDvrMCmRQ+WH9h3c1pRr5k0Z/vrYfcceW8w5Jy27E6Qo22vP20Lpn8NtETwnf/LK8N6zVJOLpMobo+tj2yR52fkyXZ/9WIEat/27/Cv5Z/+1V61DR+pTZmbalc713KI3t7mrHA1685R9CQAAAAAAAAAdRKAXAHq8Ek2ZUS3te1LPnLCLLjDFk6rV/MByPds6TItmNOuhB3aqZdg4G9hcriVj97iphN3piUZV3ugHPR/VugVr1FA0Sbe4wUBn2xuHqeGJSq1c6W6Qhtm+VM8+YMt2pvvvftSucyzZrDsmndBqu+6hnaVaFAgqT6hfqskn10Tem1Wq4xmrtCy47ydOaPJdwWBuoTM/y6kXs96rm+mBgKcJqAaPzUyRc05bdg4yKLt40lJNb17urn9oZ5sqnfdE62yhKhttnZl2dpY1PDFO67b4KaPNuZpltnxnCrXJsIVJy86vdp08Yl8a297SSRXrqmnm9XM62HaN/sxP13zr3+jPhrbr4LMNZg4AAAAAAAAAOoRALwD0JO7I3QId3/uMTtpFGjFJ1dqvJ3dEllx4Gje7gT6jYcvNavJeWku1sm6pfe1YuUcNKtWgyChSZ/0DO6VJizT/vlluEDGzIK+vUMOvD48Y9U0Ya4LGs/S8nW+6e7Maiqo10ex7xipNH9ao1cFjy0L59dXSzhWR89bK1W4wd1xghKofADUB7V2vtqm4zE8FvFzzJhWGji0ok7I7KqOynTbwg7NNT+1XS1GZDcYu17hhznnttXW2ZZsOtkrF5YnrP6GkZadxw71as3GjNsZO3/2i3SCVrXrlSIEmftpP1Wye1/tJOadiNeh7t/ydHvx1pe40z+f9tPQfn/2GvhcZ4QsAAAAAAAAA2SPQCwA9xnDNm29G7q7V+gN2kVl2fYH2bwkEfhEnmKr3wa0LFffk0y0364c7SzXZjHDNKvDqB4mX2rKDI1Nv06CScArhhPvuoPKyQnfka7RsL2VxRmYMUrHa1JxkBHFOZaeRW9kNam516nSsTcs9Y5qGF7Xp4FOBEbv58ot7tHDOHM2Jnb7yfbtBaj/725+rcegn9X0TyHWm0a8485F0zZX60g+/pTtLnnGf0fvgC8X6M2ebpbe6bwUAAAAAAACADiHQCwA9wnDNq5uqgce26/HgyN0RVRqoAlXPr1NdnZmcbfz5uW4S2AueSVG8yIyctWl875y+RnEJcU2K5ZH7tTomtXJGttys+23ZbmrmmGfhBlMIe5M/yjZ3LTu9FMTBKaPRyFuOuSmPU+lw2RnoeNmP6pjp/sMWekHiuyaFRwfnU04jeo2tWv7Zv3MDuWZafuRKlbS1eH3x1jmaWPi6/uNvt7pbHrz/G3rwhXYNm2ZTOQMAAAAAAABABxDoBYBuFw3y1m84aJdZB9arvr4+MG3XcbVr/zrndey2F7LW5kg6Z/cZr/a1xz6Xd8vNev7uFXpW/vN6s9fUFHxIspcuOfo84BhusDWastgLSHuvowpVZpfFrn9+b6OKJ92u+ZEU1NlYqj2NhZq8JHFQO7eyU8upbD/ddSBAHHr+rssLBkdG/XaWHEf0hkz7C33ra5U6+Ni/K3qV2uf1uip13UcKpFNvBdYDAAAAAAAAQHYI9AJANyupHaeB5sWgqXbUrjfNG+GuRhrec3En6Q6bKnh6887AiN7lWmLSKUeey/uo1m0xgcilWpZJsHfJ5kAKYme6sVTPPhB8Ju84O8o3sE1kxPBSrXyiMZLa+Y6yzVodSqWcZv3KWbrziROafFeg7JjRxKk8X1ep1Sej9WKmJf5zcnMq29Sp9x4TmPbTNEfqM5eyt9ysrY3DwvXpTLFt9XzdGjX4o34TrO8Ow5d9I5K2+ftfK9Yvg8/gfez/6MEXpIlfs+t/+mVNPPVzfdGO8AUAAAAAAACAjriopqbmffu6V2pra7evAKDznD9/zr6CUVFRocOHD9s5dJR5lvD05uUJRqnCNWOVlt1Vpq3To8F0b1m1Dj7QeSmxAQAAAAAAAKA3KC8vV1OTn88yHiN6AQBAzzCsTMX2pa/8+mpn2QkdI8gLAAAAAAAAACGM6AWABBjRG9Y3R/TatM52Lk7jGt1Zt9TOdI7eMKLXHGP8s4R95vm5gdG2eRC///zvEwAAAAAAAAB6onQjegn0AkACBHrDSN0MAAAAAAAAAEDXInUzAAAAAAAAAAAAAPQxBHoBAAAAAAAAAAAAoJch0AsAAAAAAAAAAAAAvQyBXgAAAAAAAAAAAADoZQj0AgAAAAAAAAAAAEAvQ6AXAIAe4TbNX9ugJUvsbKwZq7Rs62ZNsLPZSVN2t5ilsT95WAvs9In/58N2eSree8bebGfR9133l/qE6SMPzLIL0Cf89R36xU8/rz+1s8hRXakOrSnSF+wsMjOhvkHL7rvNzmUpp8/krrRcS7Y26EF32qP5M+xiXIB6al/oiX+jJpHuul+yWQ+uXaVyO+ty3+PUef1yu6ArDdbyr39ej04vsvM9R+30z+jHX5+mv7DzSMdev7H9q0sU6a66z+vHiwbb+R7k2mlOP/qM7rrSzkdcok1Plup+OwcAwIWAQC8A9ADD59aprs5Oi6eoxC53lU7RYn+dP80dbldeKPL7JVBOX/Yinhuc+1uV2tlESh/4lCpe/5nWfu6r7vTL//0buwYAkLHpRXpxwSV6rr5VP7CLPPn83OxFgZkL3lKtnF6pO6evUYNdggtVN/eFREFQ9E1XflSPdlcQt7f2s17z46Gu5AWYl19rZ7PyW61+7hIt5EdwAIALCIFeAOhuI+Zpqrarvr7emdZqv6q1IDaQ275fa931dtpw0K4AeqMPq6C/dHjfZjsPJPH0v+mX5scAd9FXgHgf0Kq6QdJzx3XzVrsIANBzbLlZ95sAe91Su6DrNZ9ota96mNYWHbEvkY79ocaCm9Vkl3S1d1t6aD9Sq5resi8DfvCPR7Xm5CDd/k8fsEsAAOjbLqqpqXnfvu6V2tra7SsA6Dznz5+zr7peSe1iLbjmqNY+/oxOmgVmRO8M6Ul/vhtUVFTo8OHDdq5rmdG2i4bZmYCWnct1/92PejPm19s3+hu16dkHxmndFvPajDpaqsnaqYf8fxjbbRueqNT68j26Y1KhWRrWuCajL2TK79ujW7RCW8uWRo7RlLtypfc6sn8/Y1pr4DhcJg3XQlXaOSP0/tB5GY1aPX2Wnndfx5Qdd8xpys4Lk1r5U6qwc1Ft2rvi73X4aTtrt9OGr2rvKrsoIzHvMyOHb69RcduL2vRX/6azzqLL/p9/0ewav02P6KnPfVsn7FzpAw9r1MmHnfq7JbLN4dAxxBy/GXEcDDDe/LdaMHeonXH64IsPZzgS+cOq+NdbpFVPqeh2v/zAsbnnUax9n9uvQf7+A+dkJD+vNGW767+qoqe/qmOjHtb115hl4fYw9eItN2LbypHyvMN1FlcnaeosfF7h9ggeV8JyR+3XppPXR94fu034vDxx5SQV0xcybg/Dq/Ox0dMK7NeUe71aY+rf9MvIcYXqLNweZr8T9EPtK/lq5NzCfTh1naYqO7UqLf+p08/+71MasHSuva+8pjU3PKRH3NfGTP3rL/x1jsYNuuFLT9oZ6U//5Z/195MK7Jyj9UX9y2d/pP+2s6nFlB37XpMK+sYhdqZdu5b/g5a6nwGGOfavaGIgc+U7O7+rT//9IeeVKfd6nQps/+XvfUefbPbXO1KUbc7pa057/LzsK1oY+Qz4mv7q/3qvXaH3B/ftSHnc8XUWV7ZJ2Tz9PS1fGB7Nm9PnphlVdNckKbCtV573+aNMyk7DfHZGP3tjP9dul1ZuVtld/udXcL0R89kXsz587sG/B4zY98Yed/hzM+6cUn4md5Q951dPaPIkp2zns3y1FrrnEPzMDtdZ5u0VPTZzbrPUHKoPT27tkUwm5xXTHsG/kQJ/q4W2Df49l0b4vGL/BorZd+zfUCna2i23bHN0e7cNyrQ1VG/JyjbtME57HmjWdKfdis2idH8bhtanOe6MdKQvpD/u2Pp2meN7YpDbR933hPjle+dUtmWNdGO2/SwdU3a6PhxT31n0BSPuvAP1ErwfJbyfjN2jh5pnRd4fu02ie3k299pkTNrkL2ibfln8Gc21H0Gvbf6Rlr7svfZSPk9T5JOr9SV9t/5X2mFnk6+PWR7Rqpd+9J96IEEwrtPYe2HyfubV5/Tm5c6n9u2ROo/eF+KvC397U9+mnVP/m88R01dSfb5E+1nM8ojofT7Ux+Ku+RyuzazvHTFM2uSPHNZ3W8bqK+O8m9K7e/5Tt22NBoT/YtHnI30svh+YEbuf0Rj/fqaj2vDNbfp351X4fVGx5adlsp58/YPaPPOEltlFAAD0VuXl5Wpqiv6rIRYjegEAPdrzdSbN3HI96/ybzvyD+k437Vxl9B/O5h/2N5Y6/xi26544ocl3+amvHtW6BWvUUDRJt7ipmZ1/DAe+OGy6e5z7ntWN3j/G/bKz+Ydv8aSl7pcA3r4bVXljNO1W+X2LpJW2THMO8o/DMF8+LVRxZL/eOUbEntcDO9ViVxkT6pdq8knnH+n+e0sWBtJPpyk7bzZrrxl9ueJF51hN8MtLy7z2czaY5D9v1QbQKub6z+hNneY5IRvkPbPBKd8PwN38t5pdcyqy300vDtD1//qXusx9g6e45quaXfKUXd+mCqccf33pA9U6Fjnmn+nwNZ8KPA94lsbOHaC9K/z12aabLtTY202Az3vvU68P1fWh5846824A0O67sEYf9ved9rzSle3VtQkmeuud7T/lrTdBwev7v6hNkbLllBVoDzcwmOy8TUDzU+r3oleuOe4zTv1mXGdO3U8InJeZggHLE3d5y5563S6I5bSP35ZrNxxx2vZToeO+/hq/Dz6svW3Ostd/lnGbmdTi0fNypkCQN117lD7g1MHpaFrypMefiOnXwTrbcCrcHg7Th/22jO3DXpA3SZ1mUHZqBZq41ARFv6Ybbvia1jQO0cLvzbTrTIC0Wnud5WbdDTdsUMOwufrXv7Yr//oO/f2kU1rjr3/iNbsiM1/+3lxdufO7tmxnCgZ5Z3xe/3XjAO2yx3XDE6ec47xDX7arv/y9r2jiyQ2R965x7vcZS1O2cfmkr7iBYbP+X3a2q9J5T+TZw24gN/B+Z4oEedOV7az/WrDOnCkU5HXcP6ZMbQfOxqRszvFz04w+cz7Liifd7j3Dc8nmUNAwbdnpOOXdMemEU573vod2lmpRKM1moXMs5st2fz/DNP2+4Gdb8LPPTOGAy6KSnXooUrYCfw/Efm56n/1RsZ+ba9TifL5H0lOn+UzOjXPOI5v1kClz2EL3b4qHdrapcqx9pqez73laETlu97yW2DpL015p5dQe6aQ+r5R/I62c5W1r/6Yqv+/2rIK8ps5uCZyXmYIBmZR/Q+XY1qn/PjOGaZEbGDbrvb9R50XSoHtBn2g/dKbAOacvOwdp+0KK43brW5E6c68tE2wyf0/7I1qdfuous+UHr12j8saO9rN0gn3YHJtzHoHn5U6oH6c9kWNyzsvpqxlf9zF15p5jgHe/jL3XBDj7cn80YN9bPGlR5H4VvZZNGaZOnGWNazK/16Zx6bjP6BMt/6mbvvkj3bT5qIbM8lMtm+DbNJXtseu++Z96SWP0lcDzWf9iUXC9M0WCwEe11Mz/6CW96wbt7HqnjLwGeY0M+5n5d5tf5+49xmnjTNM8B//NF/dep70eDPYVZwq2VfJ+Zkfqun3Lb28zRQPO/r9XzT4T6+C12RmGTNNXivd67ey0u8ZNizwv1/ygYG7/l/Rd2w++u0ca8/loSu/a6dM05vQ220fM5AV5jX9f7fWbl5x+b36E4G+TVZDX2HpWr7aWaVydnQcAoA8j0AsAPUnpFM0cVaDje2NG7xZUa0HkGb3zdKE9oTeV8uurpZ0roqMSVq52vyAaF/nSzPkHtPOPZ01apPn3zVJl45rwr69zFfzSZeUeNahUg8yXrY6mu2cFRks8ql2vtqm4zP5me8ki90vLHyb5wmbCjWaETuC8QpZrnPnyJ/KP9Eed7RpVPHKa94VDmrLT+eJ3N2rjxthpje69wW7QUX4aXhPIdGbNSEMvGBUcDZmBK6NB3mBgsHTUUKfMaFln//dTOlxYpSuuswsMMzLTjtI9+9whtRQW61J3zgQWg8exWcdel/pd+WE7bxTqmo8H57NzeEN09OSJfUek/leFgtDR9eF9Z3Je6coOBjmj62fpwzWFzvuiQcyz//uH2ts2VIPcYO2HVXHdULW8+MNI2SHXTdY1elHPR4Knm/UbE3gcFQwyp6szf18dEGhLrdrv9KkBKrB1YupMr++3dfYbvX2oLb5O0iiumpxw+5Ttcd1fapQJMPvHlaXLPl4lBet71c8C7WEF2jLch217Bo4tKKOy02h4Ijri9JG9r0klV0aCmo98KTi690ntbXQu1XJnn2ZE7YwhznuD67N3+chJ0QBqwJ9Oc/rXzh9GR8L+359pV+sQjTVB5hmf1yeHvaY1gZHF2UhZtq9xQyR4+9/bfqN3igY4V47hnfc7wfcHZFS2YueDPqCrS5zruen3dj5zaT833SCbNPnGVZo/w/w4KsOgYQYmjA2X13T3ZjUUVWui/dw0Gp7wv+BO8LlZFPzsC1queZMK1bAlGhRruntF9LxmrNL00OdmjBnTnL+tgp+bS7U+EJRM/Zmcu+hxN2pr7Ge3s25lYFnTU/vVUlQWDTDk0F45tccN92pN3N8KzvTdL3rrHanOK+XfSA4T3DBBuen3rXLaVnp2ZYZB3ojg34JBqf+Gyq2t0/x95jIj9fw6X6o9zr2yuNwLapabv1Nbk/39lknZHZe+L6Q4bueeUty6X7tsnT1vPgCCfTQDSftZJ4iWbY+tZFDk2J6vC14v4fNK3Rduy/3+GAy4xfwbwrSHGvfYsr06iR73F/Vwomvvx/dqmrs+A69tiwbNXj6s11SkchOgu3asxhQd1S8jAbVWPfCfL+ndIRWhZ+5eOuwa1drXvUqgzuPupekE/s0Xfq/XF1pS3DdS9bPcdfzazPnffGY09+qj3uu3XtdvWovU7wozM1ifGlek156LjgTfsXWbXmodrOrgM3dj+lXn+73eOOn87V5O+mYAQN9HoBcAeozhmje/Wtq3VusP2EXGiWf0eOD5vGv3FWgqwd6I8rJC9xfWD25tsNPSaEo735ab9cOdpZpsfnUf+YIsXwpV5mftMiMBIsfVEJ82q6NmDFKx+fV2oOxwWrncfP8rczRnTuy0UPf8wm7QzSpqapzzP6JjgSCvCUqa5/5GRwlHRw4HtRx6Njoy0w08B4JiZvRq5L2xaX83a++KF6War9r1HRiFHCsQZDbpf4PnY0azesG8zM4rTqhshZ+HvOrbgRGqbWpNOrhyqIqcLnvmrSSjYIcUq7iwRrMjx/VwKGVw2joz9b/hSPTcYkZf5+Ldk23SNdV2fx/WFVWF4bZP48RdD2uvoucWHaXcwfbI0KUlzv0sUl9mCqeATum6q9QvRXvmVHYykaCmw4xe/cV3IpOfyrgzPPKl72qX0x5/b8uOjBR2fLiswB1VG913OE1zLnIre6gGONu+1WRH8MZIW/aWH+nTT7ymyhvt+p8GRgq7/kSlHTzPTD433SBpySR39GDn/TjqNg0qMSP3Ap9dCVNWJlZe7lzRrc0pgn1tam60L7M1rEzFRZN0R+S4OvEzO2dmtHGgzhKkJ+1Ye+XWHvrFPVoY97eCM33l+3aDNDL4G+n5OjOy2jnfbAOvzt99ZqRz5NyCI1Pz+TdUjmWba1MnjyXu43n92y+3vtDU5PwlFQgKh4OUPVAwuGdGYgbqNDZVcndpanb+jhk2zo7wvU0TRzp/x7y6zfaN7+uria69m+7RNnd9R/gBOkeaZ+f++2o7yvfrn9ePnWl5MHDXw0Xr0GHuE5lmP0ipUmXOZ2hLU6IfaFjd1M/SXZv5+DdfWeSPk1adedu+TGDH1v/UhtcGa67tR49O7+AfNWk0nGhXYemf2DkAAPouAr0A0CMM17y6qRp4bLse35H6Sbwnf3NUPJ08LJR22U6hLzpNarWR+7U6Lg1dPvhfNC/XkrvMSIDosSVPudURjaGUhO6UaUrDNPI2oreTmJHAbnriBIHB6Chhf8rwGaRuWlszUjP63riUu5ERyTZdb67B3rYWvWtfppP1eWVcdqGKQs/A8oK7niNqTddlzaja0HE5U3A0a7o6M0Fnu/6p0zWa3UnB3rNvnXL+a9Jh24BmaORxJn6jw39lz2fFi+o3NxjszaGfZcA8zzdcdnjkelJPv6kz9mUyHS47mdZTTk053DTEZtRuNM1wVimS0zqkpZ+1ZS9/UVfeGA72mufe+vv1p9g0xx3V8bKP6FSaDINpy/6/D0WWrzlZo78PBXt/pxNZZjAMSve5aVLEDn91TeemhrWCKZ+9KTraLhX3C+uUAj+0cnlfvmcslO7TTnn/cVh6brpek7bYP6YEqYRzaa+OtkcmI3qTy+RvJC+dtp6ISaOdqZWzImWvPjlJd4T+/svf31C5lO0G91LK53Hn0Bcam50+aVIk+0Gs4MjjHsj/wYj5sYF9pIt/zknTLHcx737nB/a9e0B0pHcnjOiNEwjKFRU7f0EFXBH+8aDZ9oF6m073Ry+pbFbvCvZ2vgY1p/o87s5+lubazMe/+Zojf5wEfjzgcuZjPpO9FM1m2qbmcZ/JS7C3srRAbSd+Z+cAAOi7CPQCQLeLBnnrNxy0y5Ip0ZQZ1So4dkjptuxbHtWxk84/1Pzn1QWYFFSRZ9MlZJ/Lu+VmPW9GvISek+sxX6x1Ruq7CfULVRlIj2VEft3t/CP/luBoFfMP7+AvrM0XuYF/24aPyftCNDKCZ8s2HWwdFnrGWEiastPJ+dfdbsAph5S8/pfHKb6wioy4jDyL1kvPWzE3l+BrYDSk+4xX+zoBL5AYa5ru/XEmX5CYZ9cOzXCEabbnlU3ZXoro8DNer1dF24v6jRv8S7Nvky65sEYT/p/ImM6UEtdZlDsKt1N4KadDwdjgM3Z9GfQzVyiAmqZOYvq++wzkuH4UDa7HrjdptYtrbnGO3y7IimnPQo29OXGwPLOyM+3DM/WvNw7RO6/ujD4rV+065Q9e/es7AiN6D+moe/+2z/O1QeEO2/KWgo/6MymkL590i5Yn+gxwt42mP/7Tf/nnBCONCzTAZJh2xK5PWXZah7T11XZV3hh+pq8v27J/0xz7E6906Qhz+Ny0z4bcevdSrVtpHn0Qu23yslPz0o8Gn2WfFZPaNPLM/VheusrgMxP9NLjrTQB7yzG1KJrK132eb7AvpCw7zWeyL9N7SkdERnnepvlLYvadtr2SybE9ch3R60j6N5LDfy7v+pVLtdIdndvB43SEAqhp/obKqK0jKXSz/PssDTcdbPAZsUE5lp1abn3BS3Ec/PFIglGSMX+bZu1LD3tBqIx+SJCM92+C0KjOYCYA91qyrx2p+0LMfdAG8zqHnxY6GhgMB/Q7d0SveebukNYjesZ8uLppnAfrE5GAW5Hu+vhgvbtnb+T5qSFvnVGzfRnhLotJ0ZuNXNo6p34W/bFQ3GdESplcP8n7mSvmM6qzpLs2O3NEb6155m7RUe1/2cw5/3f+TTXk4x+NpPiunT7W6Wcv6Wfu+litOhMXLG9V02mnjI9Enw+dvY4/5gIAgN7mopqamvft616prY1xbQA63/nz5+yr/CupXawFowrsXNTxp+rdFM6x69v3rU076rezVVRU6PBh81TV7rRcSwJp5MxopMizcZ1/MIfT15kRD+YfsvY9jWuio3LstqH3u6NGAsHQ4PYpmC8BQqkGzWigwBcx4fWNetakjy7bHCk7uN4cz9aypRq31x9VFTwm8+ylzSq7a5z2RP6BHnPMjuA5pS67C5g0yHP98QBt2rsiOOJxlsb+5FPShiSjCc2X5Xd+TJe1vqBvhr60in2fN1+hI3rKpmA2gbNQ+mAz4tQG+UofeFijTj4ceb5pLLM+EnRz3rf3dI2u8bcPnY8Re06GCZJ9XR8rOqsXHgx+SfJhVfxrOE2uGVkZOQ4zmvj2Yu1L8azi5OeVpmy7vujp5CM3Q+cdqEtf7L7D5fttEGUCrO6+0tRZ3DmF9h1frhHZtyn7upZI23rbX69Wv/y4fTsCfcGVpp8F9x0+59T9LLTv13+mp/SpcL/LZr0rpn+XPBUdNZ2g74TbM9AeRoqyPcn6cJWW/zScWtiMRvWfTWt8+XuBdM2tL2rXyRpVN/vbzNS//mKuvX+/pjXLT+mTfy1957M/CgSKkwm+1xO7bzdtdCh47OzjBvtM4OC6xg1ao7n6ZOS4HNmsd0XLNoHhvy97Sjf4zwA2QeylA/Rzf98Od5tJ0c/w0LGnKzvwvtA5+epKdWiBtGbmCS2zi8I68Llpl5sAg/95MaHejAIyn0PB0X0pyk4j+Wen97lWtiW6b3fbwOdm7H4jx23nvGO1MzHrQufsfM4/1DxLt2hF4Lhjy/ZGOGb2mWz410+j1s35qjILdwbOuXGVlt1Vpq1OmU3B8zYBpECAqWHnThVP8rZL217DYtvZCLdlbu2RTPrzCu83/DeSt06B4/TrP6ZNk4g7p9i+EGpPT7QPB9c5dfXEfg2/0da3WZTVek+0bNPHZqk5UP+mvaY3B66fmPYO/22Zquw04q55I9O+kOa4Y4/ZFd9WsW3urffOKX0/M6NY52tY3Gd2KunrK3TPcM732ZOTNDzSHjFtHXfdB+8Zzvk80KzpS6QfRuosfD8xIvs37TGjOdC2MXWcqL1CfaHjaqd/Rl8ZF6gU85zV+uizVM3zVZd/fZoin06vbdNN/nNYY9c53t3zn9Hn/fqunaYfz/IDdK166Uf/qQeCv9JKqSNtHZW4nyW41mLFfEas1sLI9nF90u3zwes+/voJ9rXU/cwKtbl/bcb3YVfk36qdc212SKiNjaPa8M1toR8E/MWiz2tupLME1xfprrrPaEzwvEL9zBfubwn7WirTi/Ti1z+ozUn/TgIAoPcoLy9XU1PyvwQJ9AJAAl0Z6O0Nekagt+dJ/EUUECt9sLXj8ll2b5WoTrxl1xwKB2y7QrofGPQOXqB3wJbOS4ncXUxAOhTI7dU+oFVrPqKRB36tmn9ktEpPYNJgzh/QseAEeqgEAR2EJQqguYEtZfbDyczYH1KcWpfFqPH4IHLvkOi4vWXDX40JDnaAG+gt3psgqNZTdKStkUher00T6P14S8yPBHqW+x+p1qwT/I0EAOgb0gV6Sd0MAACAPiT4nGHrusm6xll25q3eHGwFYv1eN9cfkz4+UKum20XoHjbVKEFeXHhu06AS+zJiucYNk1qaG+x8bqbds8a5vi6kwF9l/PPFZ0zTcGdZJN15H3XhtXU+5f/a7Mm+8E+DtbDkmFYQ5AUAXCAY0QsACTCiN+xCHNEbm34rzEuntet6RvQiE4zo7XIJUjeHUhh3IUb0phKfljmkcUM0LXIn6Vsjei2Twnn6e1q+sFU/sIu6Qyafm35qSaCjuryf9YYRvQnTs0ZlnN65oxLsP+/7zEhvHdHrSJC6OZiiPRc9f0QvOk0+r80ePaL3Em168nLtIWUzAKAPIXUzAHQAgd4wUjcDAAAAAAAAANC1SN0MAAAAAAAAAAAAAH0MgV4AAAAAAAAAAAAA6GUI9AIAAAAAAAAAAABAL0OgFwAAAAAAAAAAAAB6GQK9AAAAAAAAAAAAANDLEOgFAAAAAAAAAAAAgF7mopqamvft616pra3dvgKAznP+/Dn7qmsMn1unqYPsTPt+rX38GZ20s77QNse2q37DQTuTfxUVFTp8+LCdAwAAAAAAAAAA+VZeXq6mpiY7F49ALwAk0KWB3hHzVFdxyAZuSzRl8QJVtwYDuYmWdS0CvQAAAAAAAAAAdK10gV5SNwNAdzuwPhDAPamDr7dLRSUqsUs0YlK3BnkBAAAAAAAAAEDPQ6AXAHq44RUD1X6mRPPq6lRnp3kj7EoAAAAAAAAAAHBBItALAD1J6RTNHFWg43v9Z/SWqKRIKhjVX4fq61VvpqeOa+D1izWl1N0AAAAAAAAAAABcgAj0AkCPMVzz5ldL+9Zq/QG7yDr+1HpFEjcf2Kn97QXqH8ntDAAAAAAAAAAALjQEegGgRxiueXVTNfDYdj2+wxvL6zmpk61SQTFRXQAAAAAAAAAAEEWgFwC6XTTIW78hMm434uDh4yoYNcnZyhoxSdUFx3UoZtQvAAAAAAAAAAC4cFxUU1Pzvn3dK7W1tdtXANB5zp8/Z1/lX0ntYi0YVWDnoo4/VR9J4Rze5ri21wdSOXeBiooKHT582M4BAAAAAAAAAIB8Ky8vV1NTk52LR6AXABLoykBvb0CgFwAAAAAAAACArpUu0EvqZgAAAAAAAAAAAADoZQj0AgAAAAAAAAAAAEAvQ6AXAAAAAAAAAAAAAHoZAr0AAAAAAAAAAAAA0MsQ6AUAAAAAAAAAAACAXoZALwAAAAAAAAAAAAD0MgR6AQAAAAAAAAAAAKCXIdALAAAAAAAAAAAAAL3MHw8cOPAb9nWvdP78e/YVAHSeP/zh9/YVjP79++v06dN2DhFXDdTsvxmncdcNUfV1H9SZp1vUbldF9VPtsoma9NHf6Y0X2nXeLu1e9pjc4y7W+w1v6cQ7dlWvcrFG3l6rD//udb3xll3kKL9pqj756fycV+HMsfrMn39E/drD+wwZU6VFXxit6kGt2r/vnF3YN3l1bfrREF19ydtqaOyme6d7LV6p3ya8BuP57WiO+0JoJwAAAAAAAPROhYWFam9P/o0XgV4ASKCrA73D59ZpwQ3jNX68M33kEr3+ylG9664p0ZTFN+uTk+26yPQRXXL0FR31Nsq77g/0moDeaJUee0snCnII6KQMyHbAO+1qePp17W/4na4e+0E1Jyz3Yg2+7koVnm9RQ48J9J7TG+a4n25Vv+v669xLvTXQ+wGVThikS94IB10LRw/R4P7n1ZyH8/rQsKtUOfBDaj+UJNBrgrxzLte+x57Ttp19P3jYvs/0o9d1ZtAQXfHbpu4L9BYUqDLpNRjvfONb7nG/cUmxKi89Q6AXAAAAAAAAPVK6QC+pmwGgu42Yp6narvr6emdaq/2q1oK5w+3Kk3rmcbM8MD113FnerpMnvC0uHO+o9U37svVsdoHaIy9r9f3b3WnHkYGqvX2gCu2q/DujHWbfK46rzS5BfjX92LT1Xr3q95dO1PbkXq8fvWQXxHrpUN72DQAAAAAAAABBF9XU1LxvX/dKbW2dMiYLAELOn+++0V0ltYu14JqjWvv4MzpplwWZ0b/jzqzV4zsSrc2PiooKHT582M51LTMid/b4xGHZpo0pAm6W+/4BR7T6x2ei81Vva1Mk8GpGC0/UqCJ3xgsK221d7gjNgXYmyT5N2thbL9Mr9x9Sk11khI49tlw3ffK1KrdznjbteywQJEyxb5Myd/SpXXpWIyL7yKQ+wswxDNXp4D6tcL3HHFcq5phHnNCmU0Mj72/bvUubnrTXlFlfe1ab1kmTb63yAu6huknTHgnqLXLebjvYMnVcO2LawxVTp6Fjc8T2t2idBvebuD5Mm9QOtTOhbcx7S/XaY2c12j++1kOBPpiJmPMOvT/FunTtkVa69vD4/THjct3jOqt9xVVO2U5dbXxbg+c4dRM89lB7OtJcm7FtHm7LxP3B3SZwf/Al7wcAAAAAAABA1ykvL1dTU9y3nBGkbgaABLrzGb2XDh6tkf1adSCSvjmgdIpmTvy99vz0pYRB4HzpztTNbopVkxq5okW//PY+NZhUq+cPavUjv07+jNQAN9VuJDXrxRo2e5jKWo5pj03VWn5Trcb/9mW3vP1Pv633p9aopr//rNF+qv3Eu9rkrntd+9s/qElzBsSnfk6SNjZ1elg/fbI3mW3Kjh/Qzpf9vpd63yY9cVX1oGhdOO8fN+aPsnwOsEkrnSB181UDNf6KN7Tp3xrtsV2lyVMyLPvKAaqeUBU5LtN2lXOH6IP+83LNeufYK8ee1+779+g507afGBRZn7o9TNCxRmX7duk/3WNz1n80kLo5XSptNzBo0yr/3Kv3YKphL7j3jnaY4zLlmHOP9LHU6a7Ne28YdFSbnD66x7zP1NncAttepp6rVO2fsyljxkhdkeo5vyFeILdgt3/eznFE2iJBnUz4qCZX2ufOxraH04/GTS3KOH156vaIMv0xq9TN7nEN0e9+sV2vfOAjGj/B1M1h/fEMvy845/w3I/Xexu3atMbW+6evVbX/HGATBF5UrEN+W8a2udPWn5n6XqQt37jkGt0wO74Ph+8PVsx7vWvvml78LGsAAAAAAAD0VqRuBoDexARyRxXo+N4ko3knVEv7duqgnb8QFQwoVNupYMA0A0Ov1aJlU51pogYf2hUYvddPQ4Ye147I/Dm9uuO4CquK7SjCM4F1jpdOqEmXq+gqO99ZrhqoyVVv69nQaMgM9m1GP9pt2l55W21Fl6nAncvRm06dBI4l67IDx6U3W3S0tVD9r/BmPWa0qx1dGVqfpj3GXK1ROhRTT5m6WCNrB6pt94EkI5P7afT4QjVtTDAKOC37XudY/RG6bU8e0L7WgRoyxi4InrPTtq8dcfpy2cXuXDqFM4eq3KnThOdt6qTouF6JrHPqbN0htQ0tDY/w9es0qz6c7vrIkXNcr9hRsm273wjVu3/O/nr3etgY3Xf5tCopaVs660cMDLVl25NH1FR0hQalPW+/nwSO56VD2nGkUINHZ9ZeAAAAAAAAQFch0AsAPcZwzZtvArlrtf6AXRRUOkXjBrXr6G+6cixvdzOjFadqkUnfWlSl2cu81LiF4ydqUTbP2TUpX+/frk2728JBqqsuVYEGqtYNAtsplArWjGgMrItJGdw5nHOcf4WOrotP45tu322HWqLvefO4NiVKVdwhtt79fQfT53ZQKKjZ+raORQJ05/TqCj/1cvr26LiL1b9Iam9OEiR2992m02/b+azl8t7UzI8b1PJuXP+IyPaZ1ZnKa3tkINU5p3Sxioqd62dO4LizvHaT9hMAAAAAAACgByHQCwA9wnDNq5uqgce2J332rhnNW3Bsj545YRdcELwgoAnQesHaXdrX6j0vc3VWzzf1eKP6qjQ6MsrSMM/udMoLTrZsk4631oxojKx7uZMCqVGFM0do8KH4kYldse9kym+a6I6c3eTv+7FDHQy4RWUeOEveHrk5p9NO30nqzXdzDJbGjlr2Asudof1UmrOPHW19xWU5B+aj8tUeGSi+NHQehWWX21eZce8ToWPP8DnTjvBoay9wDAAAAAAAAPQ0BHoBoNtFg7z1G5IkZbajefc/f+EmbY6ma85l5OQZvbK7TeW1djSwmzZ4oGpv6ueuTSgwWrL8pk4e0TumSrPjUjYH5HPf6URGU5oRxx0f0WsC2aOKjuu1SAreFNK1x9tn1RZIv+sGpDMOpp7TsUNO28+pSlKPJp1yoUbNz2KkeISXijnSrxzxqYc7zk2dPfRa1YZ+oGC5qZgHavRMPzCZIPVwR2VyfeSJly48+KOMcHpsE/yOjs7vp9rQqPN0bZ2K997C8VdH3xuXHhsAAAAAAADoGS6qqal5377uldra8pKsEMAF7vz5rvtCv6R2sRaMin/66fGn6m0K5xJNWbxA1a0pAsF5VlFRocOHD9u5rmdSGI8+tUubnrxYtcuG6vRjmY/MMyNjZw84Enoub+2ya1Ww25Rn2tmkKQ4HDNsi67xt/YBP2+5Dah9/RWT/btnjY8OCZgSkSaEcX67LjEx2jyVcti/TfUfrpAN9dUxVghS85hmytl6vGqjZgcBZk7PvgvGX6ZVMUkPHle3Xh2XW157VpqSjQlO1R7jOzfJXBkzUkANe6ufU7eGJ3SZYtmHq1aQH95lRoW5a6XR15gi/N7hf05bhfpt1+8W0ifvc3UgdxvSlSB9zxNV3/LGklvn14Yut04QCx1WQ7PqOOedwucHjMu1wRP1vLdVrKdo6Wmfprs3Y94bbGQAAAAAAAOgq5eXlampK/q0sgV4ASKArA729QXcHetGLpA3kAgAAAAAAAAAykS7QS+pmAAAAAAAAAAAAAOhlCPQCAAAAAAAAAAAAQC9DoBcAAHSelw5pNWmbAQAAAAAAACDvCPQCAAAAAAAAAAAAQC9DoBcA+qAht97vTgAAAAAAAAAAoG8i0AsAfYwf4H3tsWXu/wEAAAAAAAAAQN9DoBcA+iAT5GVELwAAAAAAAAAAfReBXgDoYwjyAgAAAAAAAADQ9xHoBYA+htTNvdVtmr+2QUuW2Fmr/L49enBr/PLOkM+ye4MJ9Q1adt9tdi6d5Vri1JWprwe37tH8GXZxQpdo05ODtWq6nb1gJO7DETNWadnWzZpgZ7MTX/YX/mmwXvynD9g5AAAAAAAA4MJDoBcAeoDhc+tUV2enxVNUYpf7Quudad4IuyIJRvUibdANWVqqldMrdef0NWqwSxL7gFatqVDpc8d181a7yJXf9sguaN03/OAfT+jExz+iTXV2AQAAAAAAAHCBIdALAN1txDxN1XbV19c701rtV7UWzB1uV0oltYsD653pqeMaeP08RbcII8jbtzTdPU53Tq/UypV2QSfKZ9kXqi/800B9XMe04h9/b5cgf36r2d88ptIFpeKOBwAAAAAAgAvRRTU1Ne/b171SW1u7fQUAnef8+XP2Vdczgd0F1xzV2sef0Uln3ozmHXdmrR7fYeYcpVO0eH5/7alfr4PekpB8pG6uqKjQ4cOH7VxXMyMhl6psS6X2jG3QomFmWZuefWCc1m1xN5CWbNaDN7orXA1P2OClWT6jWQ8tuFlN3iqXSVl8R9lm3Vm31C5Jwrx/7B491DxLd0wqdBe17Fyu++9+1H0dKd/Z1y13TVKxWda4JlCud+yTi+xsaJ1h0gEvVKWdMyLHHloXc76+mPP2j82M7vTqKSx67OnLDpcR3Ma8d5z2PNCs6f45t+6Mq+N8MO12i/arZdIk59gbtfoJaZE5/0C9Jj9uI6Y9HKH2jGmP8Dqf2WaWmhO1h5uyuVQnvnk0NJo3fXs4Qm0ZPG57zArUsd3W9JX15U5ftn0zJK6vJebV6QptLVsaOcZoHzRi6iyurcN1ZoTeH9NHnQPT6umz9Lydc6/FyPGH16Ut27r/kWrNOvFr1RBcBwAAAAAAQB9TXl6upqbk37wyohcAeriDh4+rYNQCm665RFNmVKvg2KGEQV5fXxzVW3ljg6Y3L3dHoK5uLNTkG5fbNcu1ZOwed7k7PdHobGufA9rYrJaiMpW723XQsIVeUNiU/cBOadLt4eezFk3SHXeVaatd3zJsVmT9hPqlmnxyjT225Xq2ZGEgva4JoC1U8U7vnNz1rXaVK02qYDeAVqpnHzDbeJMfNHy+LlqeCYzFrk9Xtgm+LSrZqYfs+x5yTnvyXcFnqw7TIv+cTRlOHczrohTRxZOq1fyAOTfnGEyQ3a3zce6xpTvucHuYfmRXuGLbY41aJi3NLtVy3eUa1tqqX4ZSNmfQHubZtcG2fOJE4Lgf1boFXh3f4vYdp7/bIK8JePqjss25mMCxX3YmQV5fsXOe/rUVun4c5fctklbaMs05yD8OI00fjj0v01Z2lcvpw3dMOqHV7ntNe5Vq0dpV9npNd31ELXupWYUjLtMX7DwAAAAAAABwoSDQCwA9SekUzRxVoON7vdG8rgPrVV+/XbrePJ93gQa/vlb1G5KHefts6ubGNdFA5t5GqWSQDQgt1cpgUGvlHjWoVINMsHXLsWhgyQRGbRCpvKxQLc2pn7QaYUYw+uVv2aaDrYUqC43ONKMv7SjE0PrlGjesUasjx/ao1m1pVPHIad5xL1nkjtL8YST4mo3bNH/GMLXsXJFgVGmulmvepEI1bImO2my6e4UbWB0XCXoGztmp/z1OcxSXZ/Z82C9+d6M2boyd1ujeG+wG6TRujpxz8BjTHveMVZoeao8YM6ZpeKg9lmr9zjZVjvV/UJDeF8ovkU6+px/Y+UyVX18tBdty5eqY+nb6uPsjg0Waf98sVTrXQuyo1pwErq3Q9eNountWoI89ql2vtqm4zI6xTdOHJ9w4KXxeMSaMNQHr6Ajeprs3q6GoWhPNvrO5PhrfU1vRB0MjfwEAAAAAAIALAYFeAOgxhmve/Gpp31qtP2AXGSPmqa5unE6vM8/o3a72UQtUt3iKSuzqWPlI3dwTNOwNBnNn6c5A+liTGvfBrf4UTPXaoOZWL2g1YawzdzI6urelqSMBVk8oqNm6X7sCgbB1C2xq2RmDVGxGvkaOy5lCKWxzUamyotzOIbU2NYdGu3ae739ljubMiZ0W6p5f2A1yksNxDytTsRmdHWivhCmRU6gsLbCvsmN+eGBG1Ub6ydZwemnXlpv1w52lmmxGwGYxWrdjAj9mMKNyc6iT5G7TIOcmZkbqR887nKY5Y1vf0wldoqun23kAAAAAAADgAkGgFwB6hOGaVzdVA49tjz6L11WiKWMHqn3fk3rmhJk/qPX123W8oFqT3FTOifXZUb0JuOl6zUhNm/41nI74UR07aYJWyzWupFnr90rjlpgAU26BzMwDrMHjslOnPMvWBLDty7yIHbXsBZY7Q84jelPK8bjN6O3Y9soiqNpwot2+yl4o7bKdQqN2TZrjkfu1OpTeOF/862O5ltxlRuVGj+2hnW3uFp0lmMramxI9+ziN6R9UqX6rN2JSZgMAAAAAAAB9HYFeAOh20SBvspTMBf0C43dHVGmg2nU6GA8OuJCCvBGtzYHRvQlGBZYPkl7dpqbGZhWPXaSyohM6lm0wyVF+3+2aXNSoPZmkzXXTOA/TovokqX/d5wfbNLUO9/mxGQclvRS6wWepxjNBbmWVetjjpWKunBENJpabdMGtO7W+E9IF529Eb5rjdtN4R9Mhez8Q8F67TMriyHNwO+YHTb+VSj6Y5FmxydvDpCIvjn32c4h9Lu+Wm/W8SUcdek6up6m5LZoWPAfu9RMapR74YYNTt7cER/Sm6cPhY/KCxsXuayNNH87m+hj2QRW2vhf4gQcAAAAAAABwYbiopqbmffu6V2pr6/joGQBI5vz5c/ZV/pXULtaCUfEpX48/VW9TONtAsLvUaNf+dY/bEb7x8pG6uaKiQocPH7ZzXe02zV+7VGVbYkY4RizXkkDK15adO9UyqVrND3gjA01A745J0rPuvFeWefbnQ5mMrDXP9Q2lWzYjdKPPFHXXz2hOUZbdXyBAZUZu+s9D9Y7NC5yZ5VvLlmrcXnuecfs2zLNxoyMeg+83gmV7YuvGrs+gbJMOOxoIDZ63KXNWpH4Ns+305th9dz73fMs26866hmifaFylZXeVaas9vuTH7Qied+MaPdQ8S7doReC4w/VlmBGnmbaHdIk2PVkhrd2v2fV2UUiS9jDiyveP3b7HOd7I6GK7bbi9Y/pacPsUYvuQO6o50J/D6xv1rEkf7baBV3bKPhw6JlNXm1V21zjtCbRJqv2nLjvq/keqNevEr1Xzj7+3SwAAAAAAAIC+oby8XE1Nyb/JJtALAAl0ZaC3s5lArz+qt7OCvd0b6O1GJqCWMpALhH3hnwZr6YhWLV/Yqh/YZT2ZG0wNBG57nelFevHrH9TmmSfUt55KDgAAAAAAAKQP9JK6GQD6mAsydTPQQ/zgH4/rOQ3S7f/0AbsE+XOJNn19kE6sJcgLAAAAAACACxMjegEggd4+otfoO6mb8yU+TW+ISX27dxwjetEBJoVzqU5886hu3moXdYcZJq118Lm4YSYd8g91e68d0WtGT9+u46RsBgAAAAAAQJ9F6mYA6ABSN4ddsKmbAQAAAAAAAADoJqRuBoALDKmbAQAAAAAAAADo+wj0AgAAAAAAAAAAAEAvQ6AXAPqYfDyjFwAAAAAAAAAA9CwEegGgDyJ9MwAAAAAAAAAAfRuBXgDoYwjyAgAAAAAAAADQ9xHoBYA+htTNuZlQ36Bl991m5zzl9+3Rg1sbtGSJXdAdZqzSsq2bNcHOpmPOwxyzmWLPJx33fOuX27lsLdcSu98Ht+7R/Bl2cWdy68Ipv8PH6EnU1p1Vdu8zS2N/8rAW2OkT/8+H7fILQF2pDq0p0hfs7AUjyT3Fu3fk59rNZ9ndqXvO6xJterJUve1nXYUzx2rRTf3sXN/hnteyqd7Ubed3sUbebo5hrEZeZRdla0yVFt0+UIV21tNPtea84pb3IFcN1OxlVSq3s7mx5+tOOdRld3Hrojv7IQAAAICuRqAXAHqA4XPrVFdnp8VTVGKX+9Ktj8Wo3p4jYTCxCzxfV6k7p1dqdaNd0GWWaqWz3zunr1GDXYLu9mFV/OvDGnuznU2g9IFPqeL1n2nt577qTr/837+xa/q46UV6ccEleq6+VT+wi9BBWf4YBZn51Le/pe//9Bv60jS7IOK3Wv3cJVqYpx8plN80VbVjzCsT9Moy2GWChZFAmV9O5sy+Z8+82M71Dm1P7tXq+7dr0+42u6SrmSDvRI1qedk5jr169U27GB1wRjuctlx9/8tqskt6kh57fXRqsB0AAABANgj0AkB3GzFPU7Vd9fX1zrRW+1WtBXOH25VSSe1iTS3ar7Xu+nptbw2vj0WQt/M13T3ODZquXGkXoHttuVn3m2By3VK7oBPls+we68Mq6C8d3rfZzl8oPqBVdYOk547r5q12EeyPRMZp3Ra7oBPls+zulJ/zmq6lP/2WRp/cq1a7JNYP/vGo1pwcpNv/6QN2SWdq0+m37Uu9o9ZMA4cmyDtHNlDmTBuPq3xOLxwV2euc06srnPr+8Rk735ls4HPFcadXoMd787g2mfbKS18AAAAA0BNdVFNT87593Su1tbXbVwDQec6fP2dfdT0T2F1wzVGtffwZndRwzaubKj1Vr/UH7AalU7R4fn/tqV+vg3ZRUD5SN1dUVOjw4cN2rquZVMDjtOeBZk2/a5KKzaLWnXpowc3eSAsziuyuMm2dvkfjti5UZex6h0lFfMckP+Fgo1ZPn6Xn7Zx0m+avXarJRXbW0bJzue6/+1Hnldm3LVNtevaBRF/kB7dx2H0rtM+AxjWBIGL4vdH9Wks268Ebh9kZI/bY0zMjiqc3x5RrxJTd8EQ0kO3WV9lmrdZCLbKbBNenPW6X2WaWmhPUWbg9YstOzZyPf0yx+zXl3qIV2lq2NMlxp2rr1GV7Yt8fbo/U/SxxP8n3aKHSBx7W9dfYmYCWFx8OjNo1aZs/JW34qvausosyNlP/+ou50fNq3KAbvvSk93rG5/VfSwfo5zfs11h/m9YX9S+f/ZH+291A+vL3vqOF0W7oemfnd/UdpyW/pt/orUk1zvte05onpIU3DgmX/9d36BdmmdXwxNf0V//XvKrS8p9+RRMV2JfdNrqNw6Rsnv6eli+MHc3rtXPZlkrtGev3ifD1H27r6LrE11u0vLT93FyXY/fooeZZkfJj+6gp/4e6PbI+q2sz1T3FvZfae2yye03M+73yK8N9OyJQZ2nLTnV9mHUpPgNyFrPvwD3auyfE15H8ek17XqnvGal86tvf0FX/9Q19T3+hb32tUge/47zeZlcGmVHpX/+gNs88oU751HcDtQPtTFjb7l3a9GSqv4+8UaX9d2zXjpfsIocZgTj6lPdek+J49oAj2qFrVTvUW9+00dveXTc++tkQceTlaNAqdHxt2vdYdPSqef9kHdArAybGle2xo1799giWGzj210ZMte8Pl58J//zigmxmtOOtVdHUx6F9O2LqPX1dR5n69c837n2m3BEntOnU0Ejdxm4TV++th7TJBnVD62KP2Yp9f7DOw+uOa8f9hwLXbUx7xK1PI66vht+fet+ZMKPZh+p0gj4QLju2n+R2XsmOO7aeIwLtkrIvGEnrLP7adfcX6sumPq6NjNiNlh9eHhV/fearzgAAAIC+rry8XE1Nyf9CZkQvAPR47Tp90r40Tpx0lhSopNTOJ9D3RvUO0yI3mGtGTS3Xs5qkW0LpkJ31blDRrF+jhqJJmuc/T3fJZt0x6YRWu++t1EM7S7Vo7arIF1IT6pdq8sk17rr4VMfp0hB7AYLincsj77/TBh/8UcCmPBMMiayPBHlNACD43jVqmbQ0+hxgE0C4sVTPuufkTA/sVItdlTvnuMfuiR7TE42qvDEm5eqwhW5AKX59muNOxzmvWwLtYaZMg7xGupTUxc6x+Mf90M42VTr7y6yt05VtAzaB998ZDNik7WeJ+0m+nbjLpGJ+WHvbpMMbvLTMkdTM1/2lPuE+k/dTqnC2rZjrP6P3b5Xi9hLy5e9Va+8NX9MN7rRBDcPm6l//2q50DdHCX1yvU8vt+qIa/bm//q/v0MJhr2mN+97vapcZtti4QZ/++0Pu6ssnfdh5n1nulDHjlP5l+Yt6Z1i1vuyunal/Hbvf7teZnnjN6aN32HWHtPSz3r6+9i9V3raxQV7H/WPK1HbgbNKUzZU3ekFV016rGws1+Ub73GanT83TikhbPrRTmrzEa+um5jYVl8WHPLPiXHvmhxZu+c51r0m3h579avq4vz7cx3O8p/ij2ZPda9wgb+D9zuQFke190n2fCWT66wM/8khZduxxe/f4O0LPyQ5+BsTc43M0oX6c9kSO2SnbqX+/zp6vc46l1dm3eyzOcS4JBHmNNHVWft/tye8Zafzsb5MEdmNtPatXW8s0rs7O5+qlQzZlrQm0eCNy3cCf89oL6qRysfoXBUcCe9pPtamwqjga5Bx6rRv4jY749dK9+umPdxzxgkjuejP5gSYTLJ1zufY9ZpdvfEejbg2nii0cPzFStkmjXF4bfa5s+U1+amPz/l3aV3xtXArc8jleUNpss+NIoUZN64znnPZTrXOc7RvtcZv6deogum9nffC8zLGnreuoph977zH1lpDZlwnYmbKd+i4cf3W0zsZUafb4d7y2tuuD0qWk9oJ3gfc7UySwHlP2pt2XqzbwnN/CmSMC7WGmLAJ7sX3hsUNuYDoizb5z4ux7tA5EjnvTbmnU/E46rxTHnfb6cKTsC+nqLCUTiL1WBZH9vqx251rz0rLbEd9uefa+4U6BQG4+6wwAAAAAgV4A6FFKp2jmqAId32tG8xoHdehYgaonRFM1D587VYnH2nj6ZupmMzLM/4L8Ue16NT6Y0vCEH1RYqj2NUnG5FwieMHaYsy765XrT3ZvVUFStiSZwMmOVppvRWh1M01t+3yxVtu7UD4Mj5jI1Y5qGK/jepVpvgjZjveDGhBtNQGFFNFDSqZZqZfCcV+5Rg0o1KBBMMqPaIsEMd/0wjTPBjzTHnRlbVj4Ejrvpqf1qKSrzvtDOsa21ZJEmFyV/f8p+ZhWPnBYKSGTqi9/dqI0bY6c1uvcGu0FHPf1v+qUb+P2ZzHj9aCD42zrhbZHWI196SI/Y19KT2utce1eWm+BqVMMT/6Clbj8Or//yWDNCd799/yFtfbVdKrlSf+rOOxqfsu9zytgSHQXseVJ/5Y/sNf7vfqePDtDgSH0765e/KE36lJb/y/WqbNwQCvKatM1Xl0gnmn5v5xMI9KXnzYGXDPLab8vNWhnp/+F+1tQUrTkzGtR7Pnelyora1JzwBwQJmNGqfj/bsk0HWwtVFhyEG1gf7uP5vKfcpvkzhqklH/cke21tjRz3o1q3cqdaho0L/Pgk+BkQvsfn6vm6YPA1tmznWBaY4O8szb/POc5Q/WYodB5R0+5Zk+C63qiHv2Q3yNjv9YbzB0NpeT7SN0uFZZdLLe9mFhC66lIVJEjz3Nb8jn1lHXk5Gsh86YSanL9qhmTwHN/C0VdIuw9Eg0cvvaF9rTHvDZTd9srbaiu6zDkmo5+GDD2uHZGg2Dm9uuN4OABtBN7fdOC40xkuzTk4WDhzqMpbD+mVyMjiM9phAq6hfRdq8Og8PXfVBOr983br+3IVuam0L9bI2oFq2tjRoFo/jR5fmPT95SPCZbc9eURNRVdoUDCN99DSDn0ulk9zPkeCfSFGRvvuqDedfhQIxIf7mdXR88rjcaers5SuKtZg53P62ch5n9Er5ocUIzL8IUQe6wwAAAAAgV4A6EGGa978amnf2miaZsfBDdt1fNBU1dXVuVPVYWde7TqZJBKTj9TNPZIfdHE1ak9gVKgZmekFaG7ToBJvZN6DW/0pUYrRjikvK5ROHuvYF6TDylRcNEl3RI6rIZAKNv9MECrzOmlQs/+QyFyP24yAc0cI2/cHRr32ZOXlpVJrc5K2Tt/P3JGBZpSiXZ/xCGjH978yR3PmxE4Ldc8v7AbdyaRE/sV3IlNsGmbnTqS9gQDrI1/6WmTE7m+a253+5I/QrdL0kQV659WdMQHd5Eza5+i+A+mjfVt+pO/sHKCJk05pTTAo7PoTlUZSRCbWsDf4Y4hZgVHYZgRqoK0jqXsdjc1qce9NyzXOuS+1RH6QckLHcgiQBoOaLa9ui/ZDd0SpDVTm9Z5igtXOvpuyDHJmKum11QXMSOVAnfnp26OWauUTJzR5UqmeXZndSHyT2WF1o8k44ZXtBf492+5dmOC6nqOvfs9ukIWGE+0qLP0TO5cbk/p1kZuGdaBql02Vm2p16LXOsvDI2YTefNf568QPIkalDhaf0+lkDyGOUTCg0B2xu8g5Lm8KpnpNww1Ce+cUeX+CFNVNB6KjI93RzZ31XNqUwfIz2vGYc1+MnFsGdd0TuHUaP4Lbc7GKnBujGSEdba9wel8zQnXHkWibxI6u7rj0+86NGd0aKDuYktvR8fPK93Hn4IrLVFhUpdmR47L3hozlq84AAAAAGAR6AaBH8J7FO/DYdj2+I5in2Tio9fX1qrfT+pMlKmg/bUf8JtY3R/XGyCLAap5hGU2daaZAStEcmDStOTEj80LH5UwdHXGaBfN8Ue+5k/5+k6Wm9sWMSMz1uE3QzL5v9clJuqMXBHuDIzWTSd3PzMhAu/yBnSq+MfNgb95G9ObKPIPXpkT2UyivyXTUquO/m045/zWpnU2g1num7ndsEDidP/2Xfw6kfTbThvg+/Nd36O9H/kZrdg7Qwp9+PjpS2PU7ncgwuBTLTQGuwDUQTNu75Zg3wnbJOBU3r9YejdOEGYNUnGMgM+MAa97uKYEfe+SDPyrZZ4LW9mVeuemszWj8aH3FpW53t5FWm2DvXTEp7jPgp4T3U2n7wd7OG9Hr3KFLC9R24nd2Ljdu6tdAuuZomthMRn2aoG2h+l9hZy0ToG07FR3NF5Y43XMyoZS1doo+gzedYFpZO3VWIDedmJHBbvA76M3jbn2bY3LT9faGYK8b2E/NPK83VN/BdL4OP9Wwnwq4MwN86fbdUW4KcHnXh1tughTIuZxXvo47Z/aeEDq2QNroVPJdZwAAAMCFjkAvAHS7aJC3fsNBuyyJ0ilaPH+wjm7xUzvH6/NB3hnmGa+F4dF2SXlpnuOeP+szQZlAGmEvAOq9zoSbNjXwPMdE3Gd2JkrZa9IhF8U+azgq/L7lWhIcNdgZAoEn8/zYVCN6vRTV+7XLBC3THHe2cg6WZyrHtk593mn6WSz3WDKX+4je36j9tFQxapadz9IN92qNCUL9+F5Ns4ui2nXKj826z9y1r9Oq0vIZ4SDxDZ+NTc+cRusp58w8X/5e7Ihe+1zeLT/SI3//Q+2S/7xeX47pbiM/NPGe2xp7bQ5yLtyDTz3q9O9SjbuxTMUdHPnvPuO1KJyxIKm83lMy6OMx11jGbGr46ZHj9tNErw6kVE7P/0FE9oHSwI9YlmyOuS/4z+V1jmXlLG90bujZwdkIB8s7b0RvBmnIOyIwArW9OVmQNtY5HTvUFnnmrmtMlWqHHtcrgbStQV5a47d1LBDIinumr2VSKReOH6GRHUlj+2aLjrYOVO1NnfHM3ex4aWqrNDqSYtqmPN6ROMgcl+o6b86p1fkwiqTfdZ/hmurhILHO6DXzHOPAs1ajEvSFlDIf2W2E+4j3DOToMWS77w6IXB8Xa+T88OjUsGzOK7PjTnZ9pJO6zjwFZTa46j4rOLDWpPx2+vDkVMFXN/CfIg17XuoMAAAAgHFRTU3N+/Z1r9TWlu53xACQvfPnM/1SM3cltYu1YFToKVWu40/Vuymcw+uPa3v9eqUKB+cjdXNFRYUOHzZP8ewOy7UkJg2uGX210g98mNFWd5Vpq5++NAET1AulMDWj3vw0rCZt5432m/3GNXqoeZZu0Qov9XNwXYR5VmRgpKa7/0DAJFi2y6R5XarJfnpJZx/REXapzi34PrPPzSq7a5z2pDjPqPhyjZady21K6/D6lp071TKpWs32vFLWlyvFcaeps7iyZUYWZ3JORurzcssu2xyt39i+kaqt09aZEbtN+NiT11t82eFyu8Isjf3Jp1Rh51pefFi//N9+mNRbpw1f1d5VdlHQDfdqzZ0f02WtL+ibN92jbXaxYdInR4K7rS9q18kaVTd/10vPbEb8Lh2gn98QfI5vgEn7fOMQO2M5ZfzLZ38k/cs/6+/LntINXzqi5T/9igZs+Zr+6lCwvJn610C65nd2vqi3Jn1Yp5ab5wHbdY0bnPfblM12X+/stMdm1JXq0AJpzcwTCt8tvWuvbEvgPhMUc803ONdP8SS/n9nr1oz4NW1vt1Wm7R13/YT7mEm5Pr05VVkprs0095T4a9NI3cfj+nHo+FNd90aw7JjjjrtPzorcn4yE9fClh7Xxs8N0dtc3tfDeYC9NzZQVCe461+yzJydpuFu2wm1p1vttb48v9XnF3PuN0HmlNnzZN3Tnx2L/NmjXru98Q98Lnt70Ir349Q9qc1w/7rjCmWM1e8ARrf7xOY28faL678hm1Kx9fyRIZEbRRkcDh9c5zCjBuFG1Js1rIC3zkZejIwfHVMWkXI6WHz1uu60JXN56mV6J7D+mXIcZIbzJDUJ767I9V098ua7gcbvHEg1uRffriDunNu17LNNRnP1UmyC9b6R8U3bt2UAdm+2H6nSk/OD7nbp87KxGz5eedbfP4LwcJt137VA74zAjUv06TN7eCcqOKTe14PtNfR1R/1tL9VrWfS2BuPYwAm0S05ZNuw+pYLzfz3I9r0yOO2YfkfLT9IXYOtv4tgbPCVwfwfNy9rnj0BWqDV5PCcoPtrUrVHddV2cAAABAX1deXq6mJv9fO/EI9AJAAl0Z6O1sJtDrj+rtrGBv9wd6w1/yA+jtqqIB3MgzfL1l1a8GgrF59QGtWvMRjTzwa9X8YyePhuwoEyid0RzzwwpkxP4g4a2fduw5t73V/Y9Ua9aJHtSHAfQOcT+EAAAAANBTpQv0kroZAPqYC+L5vAB6uaEaEBy9Y8yYpGpn2VtNXRHkNX6vm+uPSR8fqFXT7SL0QtN07483auMFGOT9wj8N1sKSY1pBkBcAAAAAgAsWI3oBIIHePqLX6FupmxnRGxWfmjUki9SgPUtfPS8klSB1s3lmb3SEbxcxKZynv6flC1v1A7soL2LTvMdw0yA3LWJELzJ0iTY9ebn2dGLKZgAXEEb0AgAAAL0GqZsBoANI3RzWvYFeAAAAAAAAAAAuPKRuBoALDKmbAQAAAAAAAADo+wj0AgAAAAAAAAAAAEAvQ6AXAPqYfDyjFwAAAAAAAAAA9CwEegGgDyJ9MwAAAAAAAAAAfRuBXgDoYwjyAgAAAAAAAADQ9xHoBYA+htTNAAAAAAAAAAD0fRfV1NS8b1/3Sm1t7fYVAHSe8+fP2VddoHSKFs+vVoGdVft+rX38GZ20s0ZJ7WItGOVvcVzb69froJ2LZQK9/qjezgr2VlRU6PDhw3YOAAAAAAAAAADkW3l5uZqamuxcPAK9AJBAlwZ6YwyfW6ep2q76DTaUO2Ke6q5XJLjrri+KDwYHdfaoXgK9AAAAAAAAAAB0rXSBXlI3A0APc/JM8AcsJZoydqDa9+2MjOA9+Px+tRcM1vBSuyAGqZsBAAAAAAAAAOj7CPQCQI9SouHXFOj4YT+sW6L+Be06+ht/7O5wzXPTPBeof4ldlICfuhkAAAAAAAAAAPRNBHoBoCcw6Znr6pxpgaq1XzsP2OURJZqy2KyfKj1Vr+3HpILixJFegrwAAAAAAAAAAPR9BHoBoCc4sF719fXetLe/FtTN03C7SipQ9fwF6r/XW7/+QIlKiqT2lsRP6CV1MwAAAAAAAAAAfR+BXgDoaQ4c0nEVqMR9Bu9JnW6X2vet1frIKF8vnfPpxHFeF6N6AQAAAAAAAADo2wj0AkAPU1I7TgPbj+rgCTN3Ugdfb1fBqJma4gZ+Y9fHI8gLAAAAAAAAAEDfd1FNTc379nWv1NbWbl8BQOc5f/6cfdUFzPN5rx9oZxzt+7X28WcUHLBbUrtYC0YVeDMJ1gflI3VzRUWFDh8+bOcAAAAAAAAAAEC+lZeXq6mpyc7FI9ALAAl0aaC3k5lArz+qt7OCvQR6AQAAAAAAAADoWukCvaRuBoA+htTNAAAAAAAAAAD0fQR6AaCPyUfqZgAAAAAAAAAA0LMQ6AWAPohRvQAAAAAAAAAA9G0EegGgjyHICwAAAAAAAABA30egFwAAAAAAAAAAAAB6GQK9ANDH8IxeAAAAAAAAAAD6PgK9ANAHkb4ZAAAAAAAAAIC+jUAvAPQxBHkBAAAAAAAAAOj7/njgwIHfsK97pfPn37OvAKDz/OEPv7evep98pG7u37+/Tp8+befQc/RT7bKJmvTR3+mNF9p13i7N2VUDNftvxmncdUNUfd0HdebpFrXbVV2p/Kap+uSnh6hf++t64y27MBtjqrRowcUxdZOnOutMbv1fqd92Sr3b83XbsljvN7ylE+/YVb2B3xcHtWr/vnN2IfLJu+56YV/pRrnUWeHMsfrMn3+k4/e5JPz7Z7Vz7V99ydtqaOxFf9ckve4zu5/1hD5sjqF2YNfUe6e2dZd/bvbcz+R8XZsAAAAAkK3CwkK1tyf/lpARvQDQ3UqnaHFdner8afEUldhVQcPnmvWLNaXULkih743qvVgjbx+rkVc5L80XwMuqVO6tyJD5InGqFtlp9syL7fIerkPn2gnePK5N92/X6scOqc0u6mrul+TFh9zj2PGSXYgOOKMdpi3vf1lNdklPYtq5R16P3XXt5VsPPq8e2xd6qaYfm+veuX8esQt6kI63dc++n3WXntzWAAAAAID8I9ALAN3txDN6vL5e9Xba3lqtBXOH25XGcM2rq1PVmf0Zje7ru6mb31Hrm/Zl69nMRzq6gY1rVbB7l/tFqJme1dVe0LjXs196rzjebQHZfHG/uM7LefXdOuuT/B8d/PiMXYB884JGe/Wqf79FWrnUWduTe70gHT9oicrxuqcPd7Z8fm723M9krk0AAAAAvcVFNTU179vXvVJbW3ckkwTQ150/330pQktqF2tBvz2q33DQnR8+d7FKnn9cz2iKFs8frKPrnNcn3FUJ5SN1c0VFhQ4fPmznupZJnTd7fKGdC2vamP4LOHdkqF5O8YWxGe17bXSEW+shbfK/cDQpDEec0KZTQyPH0LZ7lzY9afqH9z6FjiF2mRmJPFGjityV0pHgcXjr+u/YrtdGOMc41Cxr077HzJfTMccU4a+PqZdQuUaqst0NMmOC5LdeplfuPxQePeUur1KkVWL3b+ptzkA7E6yz9FKfl6mXUqdvn9Vof//B9nLE9ZfA+tRle2LfH+pjofOKr8+U700nps6k49oRqPdw2eF1mTF1N1SnE/SBcNmx5xXTh7Pdd5I6i62riEC7uNeu23eT9KEUdeaWP+BItI3j+nKyazP9tWd0XZ1l2Y9ijj/2fpXyvELXdaJjji8jcmzmmGvPBq7F+P6WrA9n0hfi9h1z/caWkVWdpbqfRfrNCQ3x9x+856Srs9iyXf52wXOK7UPeOU3WAb0yYGLkOgifV0w/i7kX+sx1NPpU/PWTrD08OfThFH3h2Oj0bZ32unfF9y9XyvaIPSdPqE5TXHtZt4cjdPyp+llaMWUneW+ytk4n7hrM6nMzXV+JuXazKTtFnWXdHqHrw1uX/G+k1NemEeynybYBAAAAgM5SXl6upqbk/yrnGb0AkED3PaO3ROOuG6PfH9is35z0lpw89IqOvuu8uGywRo8oUusBO59Ev7F/GhnVe+al/7ZLc9Odz+g93/iW9jf8TldXtOiX396nhkuKVXn+oFY/8usMnpnWTx/99JVq35lsW/NlX43K9u3Sf/5bo/Y//bben/BRTa60zwW8coCqJ1RF9re//YMaN7XIPrP2nP5n0BBVlwaeIXhVsarHntdv1njPVi2/qVbjf/uy915T9tQa1fT3n5/3AZVOGKTK0UPUr9Hb/5lBH9H4Iaa8M3rj6de983bK233/Hj1n5p+OPm/QrRdn2RumPi49E/Mcw1RlZ/EFcEGBKsd+UM2hZ8X2U+3fjNR7G7dr0xpzTK3q9+lrVR15LqCz/gtX6Ohjz2nbz83617N6XmDq87pYg6+rcuvYqxNn3zNG6gr/+XljqvSZqe9ph19fTntVD/6dGuxz/1KX7X/p/E70/WZbv9+YL5wXFeuQf17tBfrEogHR5xc76z8xV4G2Crw3ndiy3XYP1HvMeb1xyTW6YfYfZfk8Q1N3/XXupZhnVjr7Hn/FG9rk9n9T9lWaPCVaduHM0Zp8ke3/7nkF+0IaKerspG2LM8415PdRt/xAm7Tv8+rRbHPFb5vC/ShNnX1o2FXhNo7py8mvzXfSXnt5rTNz/XziXW3y3+v04UlzAv0spdj7Wauu+PMaDXavj3Ppz+uddjVEtom97hPcKz86SJe8Yfu5uVcGrrW4/paiD7dl0BfKb7paZx7xj9m753jn5ax02qPD1166+5nbb4ao6rpL7T0t5p6Trs5u+aiK/Doz96Oq97Xvsf067Na5bROzzwTXpunD1eOHRerE3LfGjQn2s6Eq3L7H6//2s2tU5PMlqtD5HIi7ftLcU3Lqwyn6wrGXc7zuI5Lcz1K2x+914gWvbHcy7fGBw9q01d936msvXXuE7ymxx5/uczO11H9LRCVs63Ry+tz0AqajWqLnHe4rznkv8zKqRNo60i/SlZ26znK7PtL9jZT62jR/K9ww6Kg2OX+T7nGP3/kMmFuQ4X0aAAAAALLHM3oBoDcYMc8+o3eBqrVfOw/Y5R3Qd1M3ewoGFKrtVPDLwByMuVqjio7rlcjol3N6dd0htQ0tDY8+8UeZvHRCTbpcRTbtc9O28LaFo6+Qdr9hR7L005Chx7UjMkLFKXvHcRVWFYdHdx15OTL6punAcan40pjRXznIQ9nmy9Nyp05eiYyaOaMdG2PPq1CDR+frWZtm5Iw/WuiMXjvi9Ikys6+LNbJ2oJo2ZjjqLE4/jR5fmPT9XtseiI7YeekN7WsdqCFj7Lwrdj4z5dOqwmXHKB8RPq+2J4+oqegKDeqM9ONvOn00MPqr7ZW31VZ0mQrsvCt4PWQhszrrmHR1llqG12Yyeawz93oKjmqLueekdFWxBuuQno0c2xm9srvN6T/97HwOzL0yVHZ2cu3DTT8OXpfB697XsX6V2f3MjBT0R+sl2ncSpj2K2nT0FVtnblsWqr9zWWQscA+P7WdtTx4K9P9zOnaoTYUDMrvvZtQeHe7DvUE/1c5R+FrL5NpL1h5XDdTo0D0lLNN+lliO96uUcvzctH9DpTvvjtw3MqqzXK+PDv2NZP9WcNrAHz3f9uSBTvtsAwAAAICOINALAD3BgfWRZ/TW7+2vBXXzFHxKbzbykbq5+5jRIlO16NYqFRZVafYyL1Ve4fiJWnT7wE74ktORzfN+Y73ZoqORL/cu1qAqRb/Uv+pSFWigap1jXuRPoTSznqYDwS+WD3Xqc+ryVnbLuynKOaMdjx2STBu5513VO4IFbnu16fTbdj6G+YGB2+8i7RlO0ek+U3LjcZXPses7q386/aqoWNFy3SmQBjNn9hrzyzbXml1jmGcU7jgS7cezZ2YWSDLS1ll3yfDaTC5/dWaYlKCRsrNp6ysui9wn/fcnTJPb5TqhD4+pCrw3mDLVkeu1l/J+ZhzXa5Fgkwk6b48Eh1J6813nsyXwo5cxJnAaLisnZlR7oE4yb+v07ZFrH+7pym8yj1iID252+NrLRNp+lkTO96v8KSy7POXfUOYzoMPnbeTy3gyuj47/jZT8bwUAAAAA6A4EegGgpzlwSMdVoJJSO98BfWdU7zm9umK7Nu1uc0derL5/l/a1SuY5bJl9IXdOp53tU45oix2JZ4Il9mV63igRt/yrzGi6t3UsNMLwuHbc7xxrcOrEQG63iRn14n7ZG2QCL/Z8N+2+XLW9IdjrBmVSM89bDLWlM0WfB+gwXxT7y1uqNLvTgr22zwf2u/r+znkeYPlNE92Rmn57rX7sUFz/NIEtb58vq338xKyCPmnrrNt0/NrMZ52ZlKC1ZvSeX7bz/qxG2rUGjsufkoy262od7sMmYDPHjDqMvnfHEbvOl8u1l+5+1mHe50/kxw7uOXRw5GScfqq91Yxqj15f7udkFtK1Ry7XfY82psp9bn/sfSjnay+dnPpZz/xboq05mDc7XvupHI+ww3WW+/WRWuzI/IvVvyf8iAkAAADABYtALwD0MCW14zSw/agOnrALstRXUzdH0zVnM5LCS3GoodeqNpBSr3BmlUaadIxuasaBGh35AttLY9gWSb+cnpsusPhSlY++Qu2BVH7+aN/am3JIm+oGH3tWOkAvPWKVRkeOKT6NYVC6L4I7zzm1tgSC+jY4lDmTkrVQo+YnDhCZtI6F40d4/SYD2XzBbbaNpqP0vqCOHoP9McGcPAbLI6OmnP4/Pzw6NcwLXGUqkzoLn3vmUteZFQkSxKzP5NpMd+3lqc5cgRFyZuRhxu1u7mfOtTk5VUCuo/eUt8861300ta8b7I4NbER+NGNGPAePO7M+nLovBO77JlAXHNEbI5trL9v7WVZsuutg4L2zf+TQ3uxnkBioyRmP6M32ntKBPpy0L3g6et3nzP1ciE3ZHNDRay/muvKCxt5rI6d+1hl/SySV4+dmmnuOe94xf39lqjOuzY5dH+l46dvLnb8V/RLj00wDAAAAQNe6qKam5n37uldqa+twwk0ASOr8+QzSMnYW83ze6wNfrLXv19rHn9FJO1tSu1gLRoXGnDratX/d43omQTA4H6mbKyoqdPjwYTvX9Uw6xdGndmnTkxerdtlQnX4sy9GMJu1n4MtLM8owmnqzn1Nm4AtdM3LY/xLYvK/2rDZFRs6YbeP3b47PGwkUO1rLfMkdDohE9+2t678jzZf/oWM3z6c1+44v1xU59gzLTsJ8SR2f5jBwfubL4EDgLFSfMXUdPWY7m1K684qv/2jfMPsPtqVzvI+d1ej50rNu+6Ur2+O1pZ1xmFFvkTqMO7doncTXWaL+kEzw2Ex9HVH/W0v1WuD9ceWbkZuZjOiKO2Yj0CYxbdm0+5AKxl+mV9x9J6izmPpKK0WdeWL2EWrr+EBL7PUTqbONb2vwHP+4jWzWe8L3BUfCa895mdc6C593m1N2+/grsrjnxddbqA8bSc4r3XUfXN+2+2Udrbo2dI8JXjtNG1+W5oSv1fR9OFlfiLkunffta6nSYHvd53btOVLdz9x1wX4TlrrOEvQFR6Q90lybbtkDjkT7TsyxhPd9XPt2X65Rke3TXT+p2iPXPpy+L3T4us+kzrJsj2T7jr320rVH6NicMjedGqrJOhDTl5L0s7Tijz36/vRtnVrw/U5dZf25Gbv/mOsv5rxT9jMjWHaKOsvt+vD2nfRvpDT9zAj/rZDlPQcAAAAAslReXq6mpuT/6iDQCwAJdGmgt5OZQK8/qrezgr3dHegFgJRigy7IszSBEnjBotAPhRxuAEkEhQAAAAAAQMbSBXpJ3QwAfUxfTd0MAEBvkeh5ouUjBiqYHhgAAAAAACBXBHoBoI/JR+pmAACQubYnD2ifqjR72VQtslNtcYYp1wEAAAAAADJE6mYASIDUzWGkbgYAAAAAAAAAoGuRuhkALjCkbgYAAAAAAAAAoO8j0AsAAAAAAAAAAAAAvQyBXgDoY3hGLwAAAAAAAAAAfR+BXgDog0jfDAAAAAAAAABA30agFwD6GIK8AAAAAAAAAAD0fQR6AaCPIXVzbibUN2jZfbfZOU/5fXv04NYGLVliF3SHGau0bOtmTbCz6ZjzMMdsptjzScc93/rldi5by7XE7vfBrXs0f4Zd3EPc/0i1Dj1ppzVF+oJdblBnHeT2TefYO3z+yUzVP8xZr3Wfs1NtfJt01rWZ6LrvuNv0Lf+Ynelb5XZxVj6u//X5x/SD2+306c/Z5fnnXQe59sPbNH9t194zJ163wq2rb4y0C3qdxHXWOe2RoyWb9eDaVcqsK+dyP8ux3/j3InfK/PMyG51zz0l8nj3ib41eyfusiL3X/mVtqvvvJdrk/y3gTJvq7GIAAAAA6IUI9AJAdyudosV1darzp8VTVGJXeUo0ZXFg/dzhdnlyjOrtOTo3gJS55+sqdef0Sq1utAu6zFKtdPZ75/Q1arBLepq2536tqpn7VbWwVT+wywzqrGc68vQ8zf+JM+141C7p6R7V35nj/cmD2tNmF2Vp4nU366P6lepX3KovmOm/fmLXAJnq+mC7pxvvZ1tu1v1m3w/sVItdhL7vL2vv1LjW/9DfNdkF1r+9sltl1/1E/1BoF4T8VrPN3wEzf63nWu0iAAAAAOilCPQCQHc78Ywer69XvZ22t1ZrQSCYW1I7U4NfX2vXb9fxQVO1uDYcCg4iyNv5mu4e5wYAV660CwBE+cGVuqV2Qdfpq9fmkP6X6t0jO7XLzncl7wcP47Rui13QS+x6+nY3KP6NV+2CPqK3tkdflc97Dn9rdED5d/Tpqw/rvxL9EKjtXt389NsaN+UeXWcXAQAAAEBfdFFNTc379nWv1NbWbl8BQOc5f/6cfdX1SmoXa0G/ParfcNAuCRs+t05TtT3p+nykbq6oqNDhw4ftXFczaSDHac8DzZp+1yQVm0WtO/XQgpvlDt4wqRrvKtPW6Xs0butCVcaud5h0iHdM8od0NGr19Fl63s55o56WanKRnXW07Fyu++82Xxqafdsy1aZnH0j0ZXtwG4fdt0L7DGhcEwiIhd8b3a9l0mXeOMzOGLHHnp4ZUTy9OaZcI6bshieiXy679VW2Wau1UIvsJsH1aY/bZbaZpeYEdRZuj9iy88ukbp514teq+cff2yXxemKdJWWOaWyzni2Z5PRhp48+sV/Db3Suk9A1EN53sA+a475FK7S1bGmC4zbXxu3Sys0qu8t/f7gPmrry35ew/47do4eaZ0XaO7xNzHG5gteZScd5p/q/PC9upFb4vfHXZurzMlJd945QWwfLt+9ToH7ttvH9ONXxp2LSNtep8ki9vvL0c3ZZ1J9/+jHNutrO6F39as3t+n+bzWvvff1236oDlf42wfVpuPdSe49NeJ9M3RcStWfcNZLoPmz3q0D9e/0q0/vd5/SN22dpsPs6/nxNSuebtUpP96+L1NvRX2YYEE7Xh836Gc16yDnHW/y6C93jY/pZaJ2Ros5StocV6qfRYwtel0GZ9XFP7H069nM1PXNumXwGxF9fZVvWSDcm6WdpjtsV+bsgts5ir/tM+5iR6p6T6/WRqmxfzPtD7ZGmnyXpJ+lN070/ds7re5tVfOd8eSU0at2cr+r77usv6uGNs9Ty4ELd8wt3gb743Y3OZ+w3tfDeSmfdtWrZdaU+NvEynd21Tq8On6+PFZ3VC+72qcueds8afX34q/rmTfdom7su0bJM7rHptvmAVq35iEq37tfsersIAAAAAHqY8vJyNTUl/xc5I3oBoEcp0fBrCnT8/8/efcBJUd//H3+josDR4bAcvQgICHIiCKJYiImoxMMSid1YExML0R+af4xJlEiwRY0SY+zYwtmCCVYsoFhARASkI6DSuePwEIX/fqfszu7OzJare7yePkZmvrMz8/1+p+zefvb7/S71D+Kmq+616u2i060vbU3LpnGaocN1blx3yJH11hfKZv2zWtzscJ3kdld56VRddfg6PWNt21V3vJev0z1jDR42cawGr3/WWmem+G57U3VBaX/x2vK9cdHtxzhfvLotc8z+zJeq0fVxAQDvts9q4+FjY91smi+qT83XDKtMkalSu6KM5PuQWbE8/XuJup6aMJ5hl9OsYGfy+hT5TiVSrnM958NM8cGx2qoG6yyVLoerzavmWmuqwaea+8TcA7000Bkb87CJ/TXLzbdZF8mn99gtI3nxz7cR2ed1xzv3ljlG5F7zjMWbsrvryLFMANzdd8vDT4/u+7CJp6mrCUiYdc71vfjffgEOP6m7h/WW6473StQ1cu2ldd8n3nv/XhepA7dOHlTxKPsZYz+DIteFb5A3GyZgacbkvUQHN5EaHXyJM0bvvbqyjf0KE7Q8vnmsS+eJn0oHn3aTzrBXW9of/ZCGbpporZ/6ZSMdPCjN8X1TdnvrvRYiz+EtXXRc9DmceI2b9c4qI+w5bI5rXRu/tMdzjbw2/SCv8ZT+YNXHVK10UhKZunTrZOKn29T+0Ks00FmXkvcajtSN3Hy6ItfCVe77k6m7LsdH18dfZ5E6aX2apyv/FHWW6nxYwTvPdRqZ3OCdfV/a+zPXZuL68Gs8IuF8mXu30kSOfZLujebpjkiVDr40fvzfrqcGPHNS5TuFgj/9Mu6+H5P2NWakeuZU4P6owGcNI/w6M88o/+skPXkaMMYEc0/QCSeM14eRch1/4zBnXSpdNCB/qk54bonyBhap5RsnqHhpng4a6m7v3bdZ10VF9/zCWjPtnc9V1uwgHX2MtRgxTEf3yFPZgjejgV81HabuTZdqbvB3HRFv6a0VZerU0a0PAAAAAKh7CPQCQG3Q8yRnDN5R6qV5em++k54o8rqj2pZq3gfBgeC62XWzaeHifiH7oGZ+XqKWbbztYrwBorGatURqWWB/qXfYISYIE/syd/X/mxoLgg1/TMeZgEJcC6v0FfzpeHXd8p4eyehLU8fwYeoh77Zj9ZIJRh1if6F92Kmmhdu9aQa9MjVW93vLfP8sLVa+2nqDF0uejX0ZbK3vov4mOJgi3+lx9pWpY27Ssy+/rJcTJ+eL4apV03UWInINvuQEGTe+90xS4OKDS7zBjPj7w5KU7/hyeYOvH8yObNy6bVxQJpRpdebWW9y+x6l/l8i+ZzvrXp2mBVsS8lVRnnKtfnueNjZrY+c7xX1fcGSv+Hvv/mesoE3smo1cC1bA73QVmWdA5DiV82MFN2A5UZ+WSts+tQOTF9zrtlD9mX5ycCOt/OiOaJfOM995LPLa9up5kJNgfDk12hL46cUrpeb7px/UTCF2LSQ8hy893WrlHPQsDH0OG/cfbwf8Tn1MRcPjX1spPHUyc+FibWvSXB2tpTR4r2HrOm2qNrHGkRGe96e49eYa915nD0bqbolaHjTMvg5T1Fm4C6162pjle0T4NW7vu9LPgevVs3W/p8xx96Yj6ZnTpb8VzE19b6bB2VdVyPb+SCX8s0aK68zSVD2OzP7ZuuQ5t8XuNL25oEx5+fGfv4KV6cNiu+2vtnyoyQ/Ys16xfUv/nBM5163ayQoDv3GjpnqDwsccrYOaLdHUm6JhXqlJS+WVbFRkq1DvbP5GataW7psBAAAA1FkEegGgNpj/UnSM3omzW2jUJScpNkqvI/8IjT7yAK15e5LeXeek+aiKrptrpbhg0xLN8gRaTGsmO8Bzodq2Nq2DFmvCa+4U33ViRRS0aSqtX5VBV5YeXdqopWkJFs3X4vhuMquY6doz/TpZrLVu66OK5ttpvRc9J57W1Sm9caNOO8Fu+RM3/cr5IrmK1VidVZRp+ec5tl+XrvESA1kJEoIy2bHrJxrsNsHwZiVa8HZ2gZDKZO5r0xo4VmeeLlFdkev4kffyNdi0egwIGFeNbdq83pkNsHLxU85cxOc36oJHY4HhmpHec3j1/7vX7oJ8fWUFzqtO3A8StszTzGiw1bT4drtebquWVm8TnnJ7us+tmK5qE7kmN67OMnCYzjVeZUzrVk+dRLunDrBkbbRFc0XzbXrasFoIO9vHWr3WbqGfNVJeZ+4PU9x6S78FdI1o1jL6bDCB37weR1uB32FDD5JmTna6jLYNbb6vM5dC6UaVNTW1BAAAAAB1E4FeAKht5i/SGjVR63xn2TBB3qJe0meT9VJQa1+PutmqN0EGAVZv15X2FGstVBGr15Y4c1kyLcXi8hWZqiFoZMZHtLtGdY8b3P2tzQQVSrTWbTZT0Xzff3x0u2fWH66r0g321mCL3hqvs2xZXZ3aXQu7xw3sZjnKk28/W9Zm9+OGOA9qlQlYdjnNDj5YY7RWVQv2zMV1t+5MccFH07XtQfP0TEJX8FWvkZq3dmYtHdW8iTNby6V6DpvuZ3t8/mxCt7O1U/oBVu8zw5kyGuc2iOeHJFlKeY1XEaubYXmeh0FdU7vMD2U8z5yK5tvtbt48w00X+rkQ7E39WSPFdeZ2Ax6ZrG7Ta3Owd8vG2HvrA3O0xOq+2XTbLH3+jqc1b4TVUjcdabb8BQAAAIBcRaAXAGqZ1kP664DSlVrgttr1BHknTU/RlCuizgd5h5sxXpvGunwNZXefmDSWquvVVdro6UbYDubZ8+mwupxMGO80kfmCNr4LRYfpxjY6zmey+O3G6dJUrZ4y5fni3Bor1Zn3Y3cb6bRaS5HvTGUULK/hFr21pc4y5wncWuOfOvM+rHLFtVD0ssej3fj5tIoHqtzukz2BiWj30VUtxX1vuoqNjhfryxmX99Wz9YFphZo0ZnhVeUrzv1Tc+LIDhw5V+9JP9d/PnYSaYlpdxo0L7W1pmeI5bFjX5RK99v/Gqvh+n3FwawlrjNdm8T1IBLK6cfaML5sotM5SSaNOnR9T+HURH36NJ2zn/FikUkV/qHWhii4Ne29zuqh2njmp781MVDxYnrYKnesUnzVSXWcJVq/26xJmmG560vxw6lndFB0TN115aulcHsNufFZFne35zP1Cd5/SJX4MXv1Tk2dKAy76pQ7aMDXaxXNUmi11rZa/W1bpHWcZAAAAAOqaeoWFhbuc+ZxUUlLqzAFA5dm+vdyZqwZmfN4jD3AWIkrnafKkd+WGdHuMuERHtXUWoko1r9i/C+eq6Lq5c+fOWrp0qbNU3cbp0oRuPk3LsGgLHvMl9HVt9NpxweMJmkBOXFe5pnWl29rFdGvrfom95FndsfZ4nat77aCTd12UGY/R0xLNOr7ni2rvvi2mm0rPl7qRY8RacoaVzbudOeZUtbmuv2aFlDMmeb+GaQllB9Pi12987z1tPLyX1jrlCq0vS0i+U9RZ0r6tlkhVNBakj1vu66Xj1y1U4e+/d1JctbfOQplth6+1jlUwcbGOW2vy2zVyrOOjeTNdTkcDmZF8zVh/uHpYr3swRb4Trt2IWH0YKerMkzd7f+b1AflyxO//KP3uhDFqMeckXROrSFs611mbqbF7LfE54d0+8b43kvbvXqdOmb33sfPa+LwbIfkPNUhXnnOJui6bGB1X1uuMkx/S8e2cBa3U1Htv1NPWvL1d84/O1x+yCPwm35uGW277WmjzauzZm1jH3u1NXbzWZqz6z054vd+15tSf97luXxtp3gMH3aR/Hd3eWXBt06fP2mMbDxx6ry5p8Y4ueNHp0rrNVbrntOZ6J1pvIQKvA4dZH3eNJwq/h8LqLPx82BJfk3wNJj63POtDy+bdLpJ+61odd6n0SGA5PZL2a3jOZcJ75uLIs7Tl4e69meqZExGS7/A6S953/PtxCqHlquD9karOjNDPGiH1lrRvv/vKBHqv1YBmZfpwQmzMXDe95Rsn6ApnfF0TzL02f2rsB1YX3a2XT3H2v7RYxSqKvMeO12k3ddXdLx+vjWZ/XSKvOWajxp95o7re87KzXs4x7U2NspkmPb7VrtWTx5gB+vq5WB5i7Gds9xUTdPa8t5y0RKmew3vpsWe7K/+1efrxRCcJAAAAAGqZgoICrV4d/Bc5gV4A8FGtgd5KZgK9bqveygr21nygNxYcAioiONC7e0oMRsRLDl5UGr8faFhpvbQgeq9nGyitLXI9/7CCZKGBXADZSQ4i+7ICvS019YQr4sbnjSq4S8VDpRef+o0edpLimPV9N+qOl28KaNFLoBcAAABA7Zcq0EvXzQBQx+wW4/MCyG1m3E1n1lVwZK9I2jqt4gcdAAATDL5ogDRzsn+Q11j9G734ZWedPMSn+/ymN+qxoftq1rtBQV4AAAAAqBto0QsAPnK9Ra9Rt7pupkVvTHxXnEky6YpyN2Ra9J7m9mK5ZZXGnbZF/3IWayO/7o1j4rtxzUaNteiNSC5bYnnsFrH93Z5Yv3xeRdO93dLWVhfqtp/9VJ2cpWXv0KI3Z9GiN15i98EJkruOzhF1tVy1WliLXrcr6cjs0uI0xuH37z3hvCEvqc/yoOdvQ/3vlc7R8X2XTKZFLwAAAIDai66bASALdN0cr2YDvQAAAAAAAAAA7H7ouhkAdjN03QwAAAAAAAAAQN1HoBcAAAAAAAAAAAAAcgyBXgCoY6pijF4AAAAAAAAAAFC7EOgFgDqI7psBAAAAAAAAAKjbCPQCQB1DkBcAAAAAAAAAgLqPQC8A1DF03QwAAAAAAAAAQN1Xr7CwcJczn5NKSkqdOQCoPNu3lztz1SD/CI0u6qUmzqJK52nypHe13llUz5N0yZEHOAsRq97SxCkLnIVkJtDrtuqtrGBv586dtXTpUmcJAAAAAAAAAABUtYKCAq1evdpZSkagFwB8VGugN0GPEZfoKAUFc1vriNGj1H7FZE2aHg0FJ6nsVr0EegEAAAAAAAAAqF6pAr103QwAtcz6zWE/YFmv9Vuc2QB03QwAAAAAAAAAQN1HoBcAapXW6tGhidYsDeqauYe6tS3Vyi+CW/MabtfNAAAAAAAAAACgbqLrZgDwUe1dN3vH4U0cozei9ZDRGtXbGcU3xRi9Bl03AwAAAAAAAACQ2xijFwCyUJNj9NpBX+mtiS/Jd5ReE/TtsDIpGOyqiq6bCfQCAAAAAAAAAFC9GKMXAHLN/EVaoyZqne8sJ1j/xUqVNmmh1s6yH7puBgAAAAAAAACgbiPQCwC1TOsh/XVA6UotWOckJOhxWC81WbXIt7WvQZAXAAAAAAAAAIC6j66bAcBHtXbd7B2f10gYozdufF4jxRi9dN0MAAAAAAAAAEDuY4xeAMhCjY7RW0Em0Ou26q2sYC+BXgAAAAAAAAAAqhdj9ALAboaumwEAAAAAAAAAqPsI9AJAHVMVXTcDAAAAAAAAAIDahUAvANRBtOoFAAAAAAAAAKBuI9ALAHUMQV4AAAAAAAAAAOo+Ar0AAAAAAAAAAAAAkGMI9AJAHcMYvQAAAAAAAAAA1H0EegGgDqL7ZgAAAAAAAAAA6jYCvQBQxxDkBQAAAAAAAACg7iPQCwB1DF03V7/DJi7WhNdmqWi4k1Dp9tJjz/bS/y5xFo2+w/TktSN13X7SkONGRuaH6SxnVc1qr3HXnhPJj5ns/FWdZrruknM0rq+zWKkqd99nne7WyTl68LhmTmr1qPJj73ewHjT7P729k5DIrks3D4mvs/NX1deKH+daveRgDXFSkrl5r7z8ee9Xq+yhx6+9zHPv+j9d6CzZCv40K/IsXKxLL3USasLwx3T9a1N1mLOYiv38tqfE8qRilXfiOGcpU+N0qXPcbN8/zhvykop/5kwn3KihTno6hvZ6KmTbhvrfK/niJ2MAAAAAANR+BHoBoKblH6HRl1yiS9xp9BFq7ayK11pHjDavGa0j8p2kALtdq96h5+nop65WimqpEX7BkEzdcl93DVq/VD+e6CSk5A222lP1BRdXauz4R3Xm+Gla7qQkMUHqHA1uZevxZ0ydPKopgZVSdWry2MaQ44apnz7RPdZ1EZmeWemsqe1MkHek+m2aFsn3C7r1aycZVaIynpXZ+OCSrhpzXFc9s8RJqDZjdX/kuGOOe1aLnZRslM2doKKnTlLRyzfpHSfNdpzGPneb/ulMt13f1Um3vTPvZ/Z27yx1Ury+1TPvN9RpzzbTBU4KAAAAAAConQj0AkBNW/euJk2cqInO9NaWXho1ooezMqb1kB+p15Y1WuMsB6Hr5upnBwr6q/hVJ6EyXZKv07qs1bOXfeskOL7ZqG3aotVfS9PXbZG2bNQyZ5Vtiz551AmsPfqJ1H9kFbV8xW7v6091YUgAt1PLZtq2ZIWmO8uJ7EB0TQRSnR8lTPw0IG9bdOvE4HJly3u/LtsYmd+0ObBucs3q/9ffCpref7+TgBrSVRc98hO1/vA+/eKUa/SLu2ZLAy7T2POd1Wn41+9X6tn1bfXLP+7lpAAAAAAAgNqoXmFh4S5nPieVlJQ6cwBQebZvL3fmql/rIaM1qvksTZyywEmJMK1+i9prZfEstSjqr03Fk/TuOmddgqrourlz585autSv1U91OV6HPHWiOjtLKvlY/7v4YZUlpkeVaPa9N2hpfPOmJKYF2XFrx+mW//egk2JcqKLJY9Xm1a66f8ljuv66NnrtuFnq/9ppstpDbXlPd4w6W6vNvOki9LrD1dLMa4meOe54fWDN2116XnV4U2fJY8mzGnPJWGfBdN3p7Ddi43uJeTFdNndX/mvzMmjNa5gWvYdo86Nu8MwsD5OmPqqxc6wX2K1qj3e70DVB4fhAm+le9lf9Y62Al0e3tVs5Nn8/ti/rtS1nJwTEEvMQYbr4PaefGjmLMSs1Zfw0PW7NO60o3UNv+UT3xAXi7LJ0dJaMWN7C8p2O8H2nqrN0mK56j974gi58bYuT4ojbd6b5jkjYftus5GMEHTu+zhLLlXA+4s6Vvc8RToX5HdPd/sAlPuvirof4/bpCz2fKOks4n55rKW6/y6clB3MTr1XPa8y2F2ia3mw5Mlr2wGP77bvKmOdJf826da2Oc59LSc+rkOdZRPxzK/6Z5j4bB8dOh+eZ5X2WlWjGrX4/fIl/3rnHVmU8Ky+dqgmndnEWjMS8p+b/fhCRsO/F/44Fsq36ajNVz+g0ne68xLs+qc7iyuQyZTtea33qLPF9JH7fdtfNx26eoLPnveWkOM7/tf55svT8KX/Tf5ykE2+/TT/Vf/WLq19zUhwFd6m470bdkdQiOOK4Zvr42r019UfrxGAQAAAAAADUjIKCAq1e7X57k4wWvQBQq7RWjw5NtGapJ8hrumwe3kv67JXA4G6iutaqN//WE9X847s1+WdX2JMV5DWmarZZvvdjmfZxb7vrf5Y6yGusXluilm2iYYcAXXS69SW808Vms8N1kjv+5Ktn6xbT9eat70WOH89t2Wa6AzVBCTNvTdEv+U0A4DS1jK57VhsPHxs/tuVxeTqo2VrNyijI66NvZ3XUFm3+xlk2Qazjm8Va/E7don7neMb4jay/oP8WTTHrnCmjoGMQt+Xn1JV20C26/1iAb8hxh0gvuOkv6BP10wXRbqdN0HCY2sx6IbbeGzvsO0y/8uY7cpyOx6c7tmqKfaeqswppr3HdlzrHdfOdwb6tgKcnb5EpOeAaIFKuE2W6Jra3u2eW1G9krFttq9tlq+tid9/xwdjgbqFNoNMe29YEiRv1N+PS2svR8+FeD49+om1OkpcdjA26DlPVmR1ojZ3PyOT5wcD01+z0e2b51VNk23P6ae1UZ7tImZd3HBbX/bkpjwmau/voOKi2dEUeeV5ZwVzzTBmnGTpc58Z1hxzyPLt0qq46fJ2ecZ5Vd7yXr9MnP6YCZ/VhE8dq8PpnnedVYlfHqbohtgO1seddZHICzBV+VpoA9qn5mmGVKTL5PI+zF8n3IbNiefr3EnU9NWH83y6nWQFiv/XxdRY5H61PS7976ki5zvWcDzOl21K6x/4tpWWfR4O8Pa7/g37aKTLTaj8l9xcS4rUyfb6ljfp7x4cHAAAAAAC1CoFeAKgNep7kjNE7Sr00T+/Nd9KNnodbaa9MX+8khKurXTe37DZYec58ZVm9OhY5j40P2VVtmpVorSeIsfjfbkursZoVSW9ZUAnjSA4fph56T49EW4+N1UvvlajrIeOc5Ygue6vplu+yHL+xmfqd44zRe7w0xdM17pDenaRZ02KtNufM1idb2qtXXNfOicvVY/prnnxpi95dskWNWjoBtr6HWGO9/ss3iNlM1w1qr22zZscCkXOmacryZjqwdyxAFyh03+nWWbZWaqy31eecpVoeKU9BugFqq9zeesvA159qrKfM0z9bpm3NWsrEhKI6ds4ioO2O1WwHzE1rXztomm4r6PY6sX8zLZ+a3MrXFl5n5gcDHbcEn88w7rb/iQaVI8eaulKNunSIBXOXT4sG033rzC1/tbXmdZnWtG5L1gc18/PkH7MEPc8OO6RLZF2sFezq/zdVi5v10sDhkYXhj+m4Lkv0TFJr1PQU/Ol4dd3ifd5lIMWz8rBTD5feu7dqus43AWxvme+fFXke56utqRPXkmdjrYCt9V3U3wpCj1P/uDp7MJLHJWp50LBo8Dw1d19ZMi17n7tNY7ov1oS7ZmtL05axFtVp+V5fRj565BfQfTMAAAAAALUVgV4AqA3mvxQdo3fi7BYadclJTqubHjrpyCaa9+q7Si/MWzVdN9e0ddfdrdkq1I+fulujItMhZzsrKmrJWm1s3VYF5gt5LdHGaEBknVZFgwZLNMvTisqMx5vUtWc2urRRy2aH66rXFmuCMyV2X3pBQUNnLhvuGL3TtDwhaGvGTI21sIy1uowyLS2tFpLO+kuqsbWiaTkbzdc5cd32pmOtGf+0CqSsswoyXSDH9h3ffXS4ZmoeyUf25TYtmT3HTuha27R8nbK8vUY4672tWqvUfs3VxtsK3UdYnZnzVaGxb+vQuLmynnGuoOfZhWrbWup6aux5NMHbzXIFFbSJPNvWr4p2EZ2RNJ6VVcn8CCj9Olmste6tOLytWlotqD3bx3UvnYLpMcJqIexs62ldnZZOP9E/h23UBDNG77mPa0GnlmpWsjHjHw4tXleqpvn1nSUAAAAAAFDbEOgFgNpm/iKtURO1zo/M9+ymAyLzvYpMa18zHRVbHhHcAWPda9X7hZZe7HTLfO/Haj6ikoK9r67SxmZtVHBpf7Vc+4xmqb8OM1/Ob1mbXUAiU2aMSk+3nNbkaT32r9XfOnMVsVL/8elaNtbCMjbFdc88J9Zd75RN/fSragn22l3mypM3/651g7XJ9wYim6mghTNbCVLWWZZMF8UjOpoxat39muB8urZocwVi22edPtJqyRztRtunG2W3e2aTr7X9R1ZPsPfrzVrrzPpJVWfLNlYw4N+iedz1PiTuusoxGQRYzRiwcc+j4/zG2s2c6Sa/QlI8K6uKGSP3dNMqN3rcoK6pXYk9Qni3dSbPmMgp3X98dLtn1h+uq9IM9i74ynRevULPmwCvnWR357zh6+hyurrmN1HJuh3OEgAAAAAAqG0I9AJALdN6SH8dULpSC0yvwt6Wvtb0ltaoVPOKI/NT/L+uratdN0e985U2O7NRVlontQ0M/g7TTU++rJdfflY3HeMkebQtkBa8/aBWr81X/1PbqGW2Lc98WOMA+3XVabr4bJY4fmaCJd+ppNneFW5VN/212VrerJ9OdFr1Pr5wpRr1H5bm2LX+QbNoQNUaFzfDINg3G7WtWScdEXD8aOtUa6xgz74TtrOClNHVTjfP/Q+JdTNsumNutlJvptN9b+i+M6+zjG0xo0zbzjo9kxa9drkzGtM3UbT1ajNdNzK+RW+8igWVM7NS85Y3ixsvOElInVndKXccpnFZdK1td8Ucu1+i3Ui/HxvjNzVnjOLT2zvLmfnFPeZ59bLuvshJyIY1xmtTLZ6dTkDU7uY5afxZl/lRjKcbYTsAas+nY/Xb87Sxy2nxY5AnyPZZGb/dOF163eFqac1XEs8Pfw6bGN6i1+6iep5mmuD4q9O0YEsXnT7R0x1/BWQULH/ocy1RB/309uOchON0yoAmWjL3NWc5XXupXWtp3ervnWUAAAAAAFDb1CssLNzlzOekkpJSZw4AKs/27eXOXDUw4/MeeYCzEFE6T5MnBXXV3EMnXdJfm4on6d3Y8LJxqqLr5s6dO2vp0qXOUnU7Xoc8daI6O0vGxo/v1pt//cJZcpx9tUaNcEfJLNHse2/Q0necRSvQe60GNCvThxNO041vOMm6UEWTx2qw3tMdppXV8Md0/XVmvMdxdnem1nIbvXZcbNxKLxPsSO5C1LTg8r7eOYYbNFzyrKcl2jhdmtAVqGlRd3+0a9W99Niz3XXQ/IUq/H0mX7SbINMh2vyoZ1ze40bqV/23aMp4Z8zTvsP05PHeIJRpHWmvs1/rDd7G1llM98puF79bPtGUJZ00ouVsezzSpP0aphvp+LFZ448RdOyV+mRWM/Vz9x3hXW9a2L7ZcqR6LYy1rI3fPvm4YVLtO6zOwpnzkRy8Ncewx3mNX79t1ida279T3PlLJb7cwft2Rdd7z2XE8six2/RvqTetcplunRO6qF4+zTPubKpyGfY+DlziTbMl5tkWX6eme+YRngMsn+qejzTqLKFs5lq9Z6IJ1vqUy/CWLWFbb5msfHuuSfu1bp25nPzF1VcGLrpbL5/SRWUzx+u0m6Y5iamkeJ6keJ4ZSc8005LWbYF66dRY18OR59gda4/XubrXflZ610WZ8YI9LYKd52s0COvdtyXbZ6V3O3PMqWpzXX/NCilnTPJ+jY3ue0DC+o3vvaeNh/fSWqdcofVlSShTRHTfKeos+f0l8b1FOm/ISzp28wSdPe8tJ8XrOI197idyj7DkxWs07iFnwavgLhX33ag7Xr5J0bdM13HN9PG1e2vqj9ap7gwGAQAAAABAbikoKNDq1cHNkgj0AoCPag30VjIT6HVb9VZWsLdmA727uUvytWiU9CxftAO7j2Nu0rNjBujr507QFQ84aSmZoOTx0SAk6r7wQG+aQgK9t9zXS8evy/SHRgAAAAAAoDKlCvTSdTMA1DF1vuvm3c3EdXp2SRuddl9DJwFA3eV0M59xkBeoXBf8sb1Oa71K9xLkBQAAAACgVqNFLwD4yPUWvUbd6boZbhfO+a/N048nOkkAEIcWvfH8u2WOiusaOjeZFr0nt3MWSj7y7345wNBeT+mqPnn2QtK2DfW/VxprFj1JAAAAAABQ4+i6GQCyQNfN8Qj0AgAAAAAAAABQvei6GQB2M3TdDAAAAAAAAABA3UeLXgDwkcstegEAAAAAAAAAQO6jRS8AAAAAAAAAAAAA1DEEegEAAAAAAAAAAAAgxxDoBQAAAAAAAAAAAIAcQ6AXAAAAAAAAAAAAAHJMvcLCwl3OfE4qKSl15gCg8mzfXu7MVYP8IzS6qJeaOIsqnafJk97Vemcxab2x6i1NnLLAWQAAAAAAAAAAAHVNQUGBVq9e7SwlI9ALAD6qNdCboMeIS3SUPIFcE+gdLr3iDf4CAAAAAAAAAIA6LVWgl66bAaCWWb+ZH7AAAAAAAAAAAIBwBHoBoFZprR4dmmjNUrplBgAAAAAAAAAAwei6GQB8VHvXzT1P0iVHHmDPpxyjd43emviSCAUDAAAAAAAAAFB3MUYvAGShJsfotYO+Cgzmth4yWqN6lxLsBQAAAAAAAACgDmOMXgDINfMXaY2aqHW+s5xg/RcrxU9cAAAAAAAAAADYvRHoBYBapvWQ/jqgdKUWrHMS4rTWEcN7qcmqRbTmBQAAAAAAAABgN0bXzQDgo1q7bvaOz2skjNFrd9UcG6G39LPJmjQ9OoIvAAAAAAAAAACogxijFwCyUKNj9AIAAAAAAAAAgN0eY/QCwG7mvHae1sEAAAAAAAAAAKBOItALAHXM+e0LCPYCAAAAAAAAAFDHEegFgDqIYC8AAAAAAAAAAHUbgV4AqKMI9gIAAAAAAAAAUHcR6AUAAAAAAAAAAACAHEOgFwDqqIdWrtbDX65xlgAAAAAAAAAAQF1CoBcA6iCCvAAAAAAAAAAA1G0EegGgjiHICwAAAAAAAABA3UegFwDqGIK8AAAAAAAAAADUffUKCwt3OfM5qaSk1JkDgMqzfXu5M1cN8o/Q6KJeauIsqnSeJk96V+udRVePEZfoqLbOwqq3NHHKAmcBAAAAAAAAAADUNQUFBVq9erWzlIxALwD4qNZAbwIroCtvILe1jhg9Sr22ENwFAAAAAAAAAGB3kSrQS9fNAFDLrN+c8AOWnocT5AUAAAAAAAAAAHEI9AJArdJaPTo00ZqlsaBuj84HqHRza510ySW6xJlO6umsBAAAAAAAAAAAuyUCvQBQG/Q8yQnijlIvzdN78510tVbrZlKT3i20aOJETTTT22t0wJGjdUS+8xIAAAAAAAAAALDbIdALALXB/JfsIK6ZZrfQqEtOUg9nlbHm7ZcUbeM7/z3NK22iFq2dZQAAAAAAAAAAsNsh0AsAtc38RVqjJmpttdhdr/VbpCYtieoCAAAAAAAAAIAYAr0AUMu0HtJfB5Su1IJ19vKCpWvUpPfhsRa+PQ9XryZrtCjavTMAAAAAAAAAANjd1CssLNzlzOekkpJSZw4AKs/27eXOXDUw4/MeeYCzEFE6T5Mnvav1zqLReshojerdxFlao7cmerpyBgAAAAAAAAAAdU5BQYFWr17tLCUj0AsAPqo10AsAAAAAAAAAAJAgVaCXrpsBAAAAAAAAAAAAIMcQ6AUAAAAAAAAAAACAHEOgFwAAAAAAAAAAAAByDIFeAAAAAAAAAAAAAMgxBHoBAAAAAAAAAAAAIMcQ6AUAAAAAAAAAAACAHEOgFwAAAAAAAAAAAAByDIFeAAAAAAAAAAAAAMgxBHoBAAAAAAAAAAAAIMfUKyws3OXM56SSklJnDgAqT9u2Bc4cAAAAAAAAAABA7UOgFwB8bN9e7swBAAAAAAAAAADUPnTdDAAAAAAAAAAAAAA5hkAvAAAAAAAAAAAAAOQYAr0AAAAAAAAAAAAAkGMI9AIAAAAAAAAAAABAjiHQCwAAAAAAAAAAAAA5hkAvAAAAAAAAAAAAAOQYAr0AAAAAAAAAAAAAkGMI9AIAAAAAAAAAAABAjiHQCwAAAAAAAAAAAAA5hkAvAAAAAAAAAAAAAOSYeoWFhbuc+ZxUUlLqzAFA5dm+vdyZAwAAAAAAAIA6rt1ZGnfzCHWs7ywn+mGHduxw5r1KP9HEX9+u6c7i7iVSZ0/20rwzx+pxJ6VmNNKw396mS/o3d5ZT2zxroq756zRtc5YzN0RX3/MrDWjlLBqbP9Q9l+2u10LNIdALAD4I9AIAAAAAAADYbQy7Tg+esUP3X3a7PnSSEjU6oJs6tdrbWYrofIquHrFD/7r4VgK9TkrNCMpHpumZSNxHbamL2qyReh1UoHmfL3KW43U7qJdWfz4v4+A7XTcDAAAAAAAAAADsxhp1zFejLWsDg7zGtjWLNG/uvNjUNE+NNq/VbGd9qPNv02NjhzoL1eE83Xb7efbc7cXRYw8d+5huO9+aRcZMMPdJPWlNI9Qx8t+IwOVxkVcjzqBL9avrr9bvTuzmJMR0O/F3uvr6X+nSQU5CBmjRCwA+Kr9F7wm6eGxfRXuyKF+hN+6YpJmR2RMuHqu+sRVa8fodmvSBs5i4nTZozrh/6GVrPmyfV6n5J979SAN/fpWOad/AWYq8fOUbuuOJVtY+9Ok4/WOKs8Jhvb7NN/759Byr6qWog6uaa443LyMu1tiCVRq3uq3GHhzbymZvG9mhb52bMvfdfIenLgZq9FWDpekzpCHHqEOs+ix2HVZxLRw2Wlcd20HeQ2/wnK+w8+p3bQSXMXa9JO5TG+Zo3D/sGo8XdA2afXrrK/66tq4lJewzct6uaj7Hqc/4/cbVszm/3vPqzZupq36bdYd3v4n1Vx3X7u+e1syTOjoLruV6ceAZ0jMzdXIHJyli+UsDdcaSe/X6lYeqsZOmFS9q4Ok3W7M3mNcrthx1ptmmhxbceax++aR53es64Dl33mebSJ5eP+AFHXv5JCfB/3Wj//66Rq45Vmf82UmoDonnKO56S3H/+1x/Srx+DWddqxp7jgEAAAAAULsN+e2DukD/0oV/Tb9t7oCr79Olez+tC/8yzUkJYQK9+z2vs8e94yRUNRPola65+mFn2WYCvT/9+mxd85CTUCG1pRVrUD4yTU9Hqm1rS51kqdEw/eovF2jIHp9o4rW3a1r2fVv7sgK6PyvQ8kfG6tZXN1tpzYdfp3HndtTqp27Xn//j39o3DC16AaC6mKDCuHEaF5neWLuvjrn4BHeFVrxup4/7tEwdhozWQCvdDmKYIKy1zlov9R17cWSNw7PPOWUd1HeEkx7ABAjdfUUDZ+XlyiuI7tExUF3aeAIlIy62A3POtuOqLTiSRh0EmfIPZ5s52hCtJzdA5Knz17/Rvsem2t9MTbrDfv0bK8uj9VjlQV6XCXxZ+TfTHOngsbrq5/ZVYvif18yuDZcJwh6TtzC6P2vyC/Ka4NzY7trq1qOZrOvCDvLuu/aNWLpVx1dp9GHOttoQ+a+vLg7I0wkXx5/z+CCvNMfdb2SaE9nP2Oi9FMBbf9Vx7f75DA0cODAyvajlWz/SXdb8GbLDqVv10Z1m2Z6iAVUT3LXS7tJHrU7W079z0iOv39rqYN3gLLlGD+0RCwwnWR75z7sPPzfo4A5m38fo3jOdpJrkOUfmnNrXd+bPwMGR7WY+cYf92tdXqNzdrznvNfYcAwAAAACg9uvUqpE2rbPb5vY6b5zu+9Pp6tXIWgzUtkWetm7wC0wN1e8eLlZxsZlu03nn36bikzopb8BVKn74d5G1Zv1t+t3YxyLrH9PvjopsYl5jvT7W+lZH/U6POWnWfuxUnXd7ZJuxzuut/Z2n25zX+bXWHRp5rTmGCfJeNSBPnU6KvNZp7YtsmYCuabWb+G8Os4K8Z6vbF4/roQUddPb4qzUsxT2QqUX/+bNuf2q1Op47TtcNb17hIK9BoBcAasDMRd/It83wlFXa0KCx1UJt4M+7q9WGOfEtbaf8Q2+szFN3T5DPNlDN88q1dZ2zmImyhVqo7p4gXMSIvtp37QptcBYHNs9z5qpXZnWQpQ+W6JucGpL5Zf3j9RVS+76pg92WDK6Nw0are94KveEX2E1wQr8OKvs0vtW4JXLtdNAKzfAGwT+YpDvMjxj6uTmO/BGweoXyDvYLsJv8OrNxBmr0ga204VM3WG97+R9vaEVewvWb0yZp+sKtan3AaGd5vd54Uzrm7+6ycYNGdl+gjyKXgb/WWv/pR2p90tNJAeKo3x2s1h8/qAcXSj2Gevdd815ebT95Mr3/zXYN8jytvRPU1HMMAAAAAIDab4DaNNuhzWvt5ovzXnpTi5qdqN+N/51GdLWSfBSoTWNpy4bVznLM0LEXq/vCO1RUVBSZrtHDD12jopeWqezDSNp5f5bdpreTuusfkfVn68/6nR7rM9d5fZFez7/YDv6+9Wed7aQVvSQdG+36OU/98+3X37Gwu64q7qO55jV3zVKbo0zg1987487WHR+WadlLkdcmtPStPo004lfX6XS/eu16lq6+ZICzgGoVDfI+prH3vKJX7hmrxxZ00AW3XVclwd6xjyxXx3Pv033ndrRa92Yb5DUI9AJADTBBMpW5YVSPEW3VasMqK5DVKq+BNqxODrjN3FwWC2Y06KBjxo7V2LGmBeWM5KBbglYHm9faU7Q1ZV7zyHG8QTgTUJMWPmF3HWHMfGKGVuT1jWyXRkvaSpRWHVSUFZjcGg1q54SE4LTvec3w2jAGdttXWrskjVaOJ6htqw1a5Q3AOUwwrdxvH+u2qjxyrUXDc+smacbKPPVNao07U5OmmyBwJO9x61qpcQO/Y87U5rIGapzvLPppZa5dp45Stf6tco116JUzNXOmmV73aU07WkO6SwvecbtYbq0Dlnyq9YUjo0Hb0X8/Rnrzl1rjLPta8ks9+HFrnfyMf6j3hoNbW8eY9M4CqfuQyFFrCzugX7Z5Zsb3/wkFrXxf76qp5xgAAAAAALVfWzXP26TNXzqLG17R7b/+kx5fU6Czfn+Xrh7e3Fnh1U/5zcu02ecLindmLJQGXJViLNxlet3pxnno4O7K63iy03K3WCd3zFOLztYqa3xdK920CM7vYieqTLNesAO173y9VmUfPi9r6a23tHCjlVzJTGtVd+xZ75Q4Lq13Cmrduk1vvrFWh1z5x/hgb9fIMa7ppbWvh42SvLsYoqvvi9ThfVdH5lwhaf+4Tj9yUrLiBHl7LTdB3mmRM2Rs07R7xupf8w6okmBvZSLQCwDVJRp4s8cnjXX720AdjnWCUGZs2TRaU0Z5ui2docFx3fn68XbxG99Kbo5W5LW1gx+HddG+ZXawOcbpuvj1reoeyWeq49R+njo3XQHneBeuvuc1w2sjmemC2amjq9zuxCuXHXjzaY1rWgBH8v1GWffI8b1dPmfJ0y1wRvdXlfB23WyPqWvpcLIT/L1Q+qcn3XKzXvi4tQ62umI2geD1+jSNMXQnXf6gPvLtmvkGHdxqgaabYzw5XQvUQ0NquvvmaDDe7vY77vkUxvNcbbs6eazxeHXtOQYAAAAAQCVp10bNtEWr5zrLEc2HHKEjOjbXjg1rtGz1d06qR6M2at5gs9a+7yx7OS1x5/YxQdpYl8thrNa+buvdyGTG0DVdLR+7zkm/a5bKnNdWv8c19swzdWbSNMUaQGuK77rgMWq3ff6Qxt75RSzY6wR5592tzwNJAACAXElEQVQW2Wax/RpUl37WmLwmyHvN7W6Q1+UJ9o6/WpXV1tqM02u6a17+yGW6zGrZO06/O7GbszZzBHoBoLp4Am/xwSZ3vNg52tAqFvTaUFauvObJgQirxaRPa2DTHbTadMkyIDdTS9ba3aGe0G9fffNJQDDMCsC9oW/aDK6WrnLTqgOnq+vMeMbojY7ba/M7Xq1jgvEZtEJOvDaCyhjfUtINiq3w6WZ8g7aW56m5zzUQ2No6v7EalG1OCKib1rvfaN/ouNTxrLFWzfi+1vqgY1ag2/LaxBmj966PpUNPSW6Fa1retj76Xo3+3Uj1WPiCM95vKpP0y38uUI9fRLZzUgzTIrhj40P1Gyuw/Bsd2rhxzXff7AnGuz+CSev+d5+rn25QqwPT/EFCNT/HAAAAAACo9bo0V+OyzVpl5hv10im/vUt/+0U/bZ7yZ1161a167vP48JelsI1alG7WMmfRz8NXF+nF5W3U1nTDHMK0ys0b8NOkgHCX/Dyt/drT6teaqyMWP24He389QRMuO1CzCfJ6TNftl52pMy+7PTLnCkm7+Fa94qRk7hP966Zf+wR5XXaw99c33q/KaGttgrxX/6zA6q751lc3a/Ort1rdOBf87Oqsg70EegGg1jBjr8aCXjOfWKiy9sfEuuI1RlysY9qXaaF3/FNH+t3u+rOO12awuud9oyVpdPNbHVLXgQn+tfKM1+mM4xrSfWsYK0jpHfvW6ta59tSH5bDRuurYDir7Iv1WyN5rI7SMVsvuvmm0dJypSV+UqcOx3i5wI3V/ceTa9duHyfPBeVrh9wOCDyZpxtp9NfjAVB/V/Y4pnXDxMepQtjCtrqlzwaTLj9WLOllPW613PZ78pd7Y0EMXHm13uZy2yHYPLrS3s9ldQ8daFZvpxbiuoWuLjJ6BZuxecx3RShcAAAAAgMy1a65GW9bagayGvXRg3ieaOOY3uvXVjrrg5nEa553+dImGmdd1jGyzea1mm/kEpiVutBtmva4/vxVJfGiu1g64SsUP+4yh+9A1uuPDNjrZ2cZtBfzwC7PU5iQ77eL8tZXSotd0K23t8/Z02hlXMRPsveke3XPL7/UMQd4as23D5oAgr2ubNm8If0VaBl1tBXlXP3W7FeR1mWDv7U+ttoK9Vw9yEjNQr7CwcJczn5NKSkqdOQCoPNu3J7dhrJgTdPFVzX27CD7h4qvU/JM7ooGqgT+/SsfkLXRa/Ua2G9s31mLVtF6L7iN43QkXj1VfT6NK07XvnOaR/bZv4KREmBZ0/1Bcvsyx+26+w+n+NJZnmTx5ti1f+Yan6+mqFlYHRvz65LzFyuGmJta5l1X/0bJu0JyEFr/xdVQNnMCup/a14vWE68XvvIbUWXgZTZfNx6hDdJfxx4sz4mKNPTha857XJe4j/hjJ9W+/3nTZe8cTCj9+3DEja73nO7GuTLmnS4Pj6i/5nFadG/T06wfohWN/KTc0e8MzM3VyB2chYuvHd+nYd4bo9VPW6NjT3Xa6ke1mHqP1dx6rNae8rgOec7pyPvPeuNfd8ExsXdC8bbTuff036rHQOdYvpAc9eTJMvg7+dKBeOOB1/aawsZPq5O/yDALL2TDnrd9m3eHbrXbY/Z94b9vXUeMvnC6cE/abeK9U73MMAAAAAIDaa8hvH9QF+pcu/GusraSl3TCdfmyn+Ja05cv0ylPTdMDV9+mKvP/onD9V15dktZEZu7eX5oV001w9gvKRaXo63G3nqVfovzVdJ7VRI/U6qEDzPl/kLMfrdlAvrf58XoqgczICvQDgo/IDvQAAAAAAAABQ+5x185Pqt+hCjXk4/RDTKX96VMO+uVW/uWeek7I72p0DvUHb1pY62X0Q6AUAHwR6AQAAAAAAANR9vfSrv12nNjNv1dOfmuUyrZ67XLGOZf2YbX6ngplnauwTTtJuqbYENRtp2G9v0yX9mzvLqW2eNVHX/DVoXNowzfWj347T+SHH2vxhZN+BY96ishHoBQAfBHoBAAAAAAAA1H29dMn46zQkPzJbv77q72mnpvTDWk279TeaONdZBlAjCPQCgA8CvQAAAAAAAAAAoDbbw/kXAAAAAAAAAAAAAJAjCPQCAAAAAAAAAAAAQI4h0AsAAAAAAAAAAAAAOYZALwAAAAAAAAAAAADkmHqFhYW7nPmcVFJS6swBQOXZvr3cmQOA9MycOdOZq5sGDhzozAEAAAAAAACoDQj0AoAPAr0AAAAAAAAAAKA2o+tmAAAAAAAAAAAAAMgxBHoBAAAAAAAAAAAAIMcQ6AUAAAAAAAAAAACAHEOgFwAAAAAAAAAAAAByDIFeAAAAAAAAAAAAAMgxBHoBAAAAAAAAAAAAIMcQ6AUAAAAAAAAAAACAHEOgFwAAAAAAAAAAAAByDIFeAAAAAAAAAAAAAMgxBHoBAAAAAAAAAAAAIMcQ6AWAGtDpgiINe3yEs1QTumn48z935nPT5ROe1YO/H+4s1V65ks/UztLdkyfr34/dpEP3Su/jQ82UPfN8Vkx1Hy9z2Z6HETc8pOLiYmt6+vZLnNTKEF5nHc+9NXrc4uLHNebIJs6aqq3r2nqv3vmfoXrnsV7OUs2qqby89vmPNG/mYJ3aYC8npWrU9fIBAAAAAIC6p3Z+IwkAtVz95m207/EXqMO5f7QmM2/S0tHyiKPU9eR8fXr/605KTVikb2btnWGw2Q6yxAIwicGf5PW3XJhenQQHdoI9Wfyx9u52RK0NrrmC8tli8P/piUh5vYElE2gqLr5TZ1Thl/3VGcyqbeeotgbyErnXhjegGX+P2JO3LGZ9UAA02/Mw5ebzVVRUpAc/3uKkVIezdM3JXbVgyqXWsYuKztKEt0uddbunO55arL0PbForgoCp8mIClvPn/zg6Ff+lk7Om+mUTtE1Vvg5n7a+P5h+fcVC2ugPItenHAQaBbAAAAAAAqk7t+OYVAHLIPm3aa78TLlbDA7qq3h57WZOZN2n7tG7rvCpYn0v7a+2s17Xx3XInpWZ8+seHVLa2q/r+vquTkp5YAGa8Frf+kRPsHaSbHz1Fjebc76yzp+sfXGtvFMK0Grx9ZIFm3Hmus909ajzyqpRBqU0zpmnlrt4qOre1k1I7BeWzWbcW2qesTHs0dwMhZ6l7m3J96yzVPo/rilGjdOrZN+qj73c6aeFq5hxlns+KqfzjDT66u8o/+a8W7uqkYYPznFRjpZ4efbp1n1w44QM16HdZWoHr2nevBNdZi8Ft1bLel5rzxEYnxau6z23mTMC9cls/Syse/0rLdzXU6D+0c1JqTlhenn7/GO3z8Wr17Pm/6FT0f8uctRVz3EGvqNfAGfp3+fdOStVIVdcnH7u/vv1ojT7btaeOPbOVk1px1VW+6tbvzwdq/vxhWv2h3/0MAAAAAAAqQ73CwsJdznxOKinZvVt5AKga27cHBGHr7aE2R5+pRh38W8psWzFPa998UtrlH4QwXTZ3OGa7pp01xUmx07qd3FCv/PQJJyU57ajHr9I+je3A55alb2vm1R9a80c9fpHm3v+uCsecoHpWytfWNuns0zCtiwvHtNWrnrRgpsXuKSp9+bJoANcENW4fuY8unPC17hnTW7PvvCzD1nfJ+0xmv6bNild0xtUTnTSbOf6E48r1l/NvSgr82Hnr5ixJmz65Txf+8dXInAlK/1Y9G9s1trNsrrP9YZH0y7Xpn6+rw29OVkE9s94E1sboaevLdzsfdnpsu/U/H2fVQex1sXpx0/zyadJu7btNi1s306cXX6uZZ9ysi/daqCYnHK0Vd10eqcdeAfk028eXYcfyqZ66iV/nlmHrNQ/owsJmTlqMu61p7VpY8g8V/zA6+joT1DfnxQTj3bT4YxlB9RkrZ3DZD45s960+/M989T6xUPtEtx3tW9epzlFQPr3pXrHX+J9bk9+qqpdg9nb13rpM0/e7VUV7TrKu28RryvCmmesn6F4w/M6Dy96P371iM+U8p9X7GZTP/xoMO0cuv3Ia6W2Xyf3ul0/vdtldE+4+u9f7LPBcZMMEzJ4Y3lo3HvVBNBho0p4cdYAeHfi+xpXY71mJaSb4enCzva113y1bq74nzLLmn35/qDZOXKZuvz0oUkbz3lJubfPfa9un3KdfXkxL18k3HKQPx3+myx76xkpLZO+ns7Mkrf/oSw09e57V+rRw00Y98/0+unyQ3QvE/BcWWkHiKx7qH03z5t8IKsPWuw6KbuMVX/5YvbjbecubWD6X2a7+tGV6c98WOn2v7Vb+XX7l85bJy81LUPkS69wvzVuGnSUlVn73v+/gjMqeWKdBgurazVtQfU59f5AeGPaRla9LD2rgW6cAAAAAAKBiwptLAQDi7NkgT3u3OsBZSmbWmdcEad27nTZ9sdBZsi3711zt0n7qfEELJ0Vq0raZtiz9wpofcPtvVL72Xb3y09usqUGbIzytcBvr0DFH6uMJ91rrtm9tY61LtU/Xxnff0neRbbyvy4ZpMbh8a0MNvvK+tLpddnU8t48KAlvvpbb8kbn6qlHnhFaPbtDH20q4KBq4GnHDKG3653lO+ngt3NVbl11/rLVOyouUYbhW3GXWj9f8re30o2uPjqSb4I23xbK93W/HX2TlYfWudur785b2LiJO6NNZO5bPjwaqgvJpAvMzFrawtj2hz56RetjhpIfn8/IJ16jr+lei60zLardl54gbLvGsM9OVVj7cbnhfW/qDFcxy13sDZi36XWYF9Ey66a73wGG/tFpWh3XhG16fwWWv37GvFcx8bek+GnBivl4c/Zz1OjuY61/XtqBzFNzVcHjZg8+tqyrqJUiLwcPUsbF9T8xbtVbNQrpc3rJok75Va7U7rKGTEiybeyVMWPmCrkEjqM5MINd0R20Ha9vrjEnPWMtu69iwus72fo+/j+zrw5b9NSG9rxvOGaU3vjlI1z9ze6V1w/7J777QV00axLUiNWmrd+2tAdfv76RIQwsa67tlJVaQzQRQe2zcHG1du6Blc093vvU17NruWvTXOda6T7fsoRPu7ZJyn4ZfXkxL2CVbdkX22Vv3nb+vkxpjBynbadr42dH8eIOkrQ9tp19ENjPpf39/rbofvb/Vze/d58+KpiWLL8PUJT/oZ08dFN1m6pIyK9hq5s3kBjRNcNVbLz17TouWzfArn2GC2V2a/aAPb/lK76zeqpYHNot2RRxUvlR5CSpfqvNwxUMHa+PEedH9fbargX7zQPeUxwu/JsL417URVp/HD3qfwC4AAAAAAFWMQC8AVKNGbfZQ6aoNzpLLjJe7Ufm9Y10otzhwLy0qnhuZ66bmnddHW/AaK99YEVnf3VmSFr/4TLQb6E1fbFaD5iZoG7bPeNvW7lSTttl0QWmPpbnpE9M62Q5uPPjxDg2+8pGk8UMrxu6uNbEFn+1x/W/W9xrw09HOsjFIFx1r8vWIb+viKTf/1pP+vmYsLFHj5rFWWAumXO2sj63reO4p6tn4S70y/k37RZF1E+7/UN937KkzGjwVyUOJuvQ6xVl3lnp2KteHz09ylo3kfPZqa7e6mvHmQu3f6zp1qfeFni6PdbIRnE+z/9Uqvv5Be1Vk3QOvL44LCNa38pV5gMm0WvzrtQ9Y8yZf2/OaqUtAkNGVqj79z5F9rOJH1lvz5hpyyx5W1y6/c5St8HNr12HV1Is/023zXs6PBIJ/IGDbNGOVNu5Kt2OWzO+VMKnKl+k16AZyr35hUWQp1kW1/33vld39bsZBHtLZex/FVMY18fcxp0Weh810xqSHM/rxS5gXZm7W4NMKnCXbCzPXq8vBsR/qHNEzTzOeXW3N9+5cT0/97HNr3hj32qq44OT8F5ZGW9++O3+zmrbax5oP26fLLy9nDHpDf39/k4Zde4g1Pq83gDj2uLZa/9HXga19TYvUPxV9as2/+PpX+rZpfXXbO/X14y3Dw598o71aNUhrHNi9OzXV2KYNnKVkfuUz3TbXX1ZqBTETg8GpypeNsPNw9/mfxh3Le/7CpLomwoTVdar6BAAAAAAAVYdALwBk4IfyMn23YY2zlMysM6/x1017O90vJ1r1xlI17XygNW+6U66nNVbwtuURpvXwfvrR89dEp24nu2O6hgvaZ6Ltm0uc4HB6eoy43wrkFhcXWS3evK3/3GCNO35oZY9V6ccEWbwBGKmrmuZJ36ye4yzHMwGeJ6z825Pb9WoqO8u2aElAN6zePJhWym1WvJsUdErOp820hl7TuqO2f/58ZGmxSsrswF1QPu0xTGMtHs3k7bLWnIPXlhZE12cScN+y6N1oV7ObZvxFP/e0xAySTn0GlT1IWF1XhVTHq6p6STZIg7s31ZJ5zznLj2v+sgbqOWyQsxzPvhZi3Q6nkum9EiasfBW5BjNX/fe7kf410UiJP3LIlgmA7ujUJC6g5k0zLU471vterz+5wZpvXq+hzpk5zAq6msnbrXCYoH16+eXFcFuU/vjmOWp4aFvNebm/ld6q6V5at3qbNe9n4xdboi0/TevgQ3u+FdfKNl17NN07ZYDY5NG0SHXrxq9Fq1/5jujZXEs+3eQsSZ8t3aHex9jjXqcqXzbCzoNZ/mj+8dFz69ddc6KKXBN+3LpOpz4BAAAAAEDVIdALAJnYtVNbPn1LP2xP/kLXpJl1QePzmla23231X+ftQrntMZ0Tunc24+7a3Ta7k3eM3yDh+4zZp3lTlW+OfXmdihmL0u7ONLiLVxP4mPTxFu2Zf0Bgt7OG3fVs+7hujzNljjV9aUG0+147WOrMJjlLf7xmgMo93ff6dQXrZ4+EFnvNurWQ22Gu3XW13X2z6bY5FqiLSc6ntHXz0sj/7dbQsTGK8zTh7ZEp8hlr8ehOp559YzTwZFoT2unF2tb30ioMtKVXn35lDxNW11Wh8o+X3XVmd9tcz/NjimId13lPq7W2H9P6t6HW68sPvnVSwmV2r4RJXb7quwar/35PhxnH98LCLdZ9mrpVcnpMAPTdJTutLpZddpfJe1pd/JoWp999UeLpKteMlTrN06Xu/9Rr4IyUXemG79Pmlxcvs/6R99dFW31uKAk/ZmXZWfKdFn2X+lhXnvhOtE62FxYkBScTy2eCpF2a1VfPkd2jQdLju+RFW8NWRfnCzsOD1/fRtx+tipbBv2trP9ldE368dZ2qPgEAAAAAQNUJ/vYdAOBr+/pV+vrlf+jbNYu1a+f31mTmTZpZFyasm2TT7XKTtp3U4sByzfnjYivNDdYOvH2AtZwpv30m8u9OuqLslok/rFsTDT76sQNPP6jHiOs9rQwH6Q+3/d4TID5Ld0+eHNo6+OW5S61gmDtGpumeNX6f8dzWf6a13+g0Wvi54/DGAmRud7Gmy2HzRbfdffKBw27T4ft+Hu2SOFF8PlPzy6cbVC665UJrOVxyEGzFpq0Z5SEd6dRnumUPq+uK8it76nObvUyvMxNM3Kdsrm45/dRoYNK0jt+elxxMM+PSmtapC6bcklE+M71XwqRXvmyDyenK7n63u72Oja1txgg2QXWjoteECfIeE3kO3HL61RmdG7eV5ryZgwO70jVd5iZ2tWu67c0vaKwjejbQy79cYqW5QUJ3HNVM+e0zkV9evEwL2O83lFtBRLO/niM7JLUArkwTijrGtQxesq4srW6Jg4K03vK16NFEDUtK9f8OeS0a0DStlr9t2tDqvjlV+dLNS6Kw8+C2IDbXzbmD8q15l9/x0rkm0rkGjcS69qquoD4AAAAAALDVKywsTHdwt1qppCSzMeUAIB3bt2feZWQ6Ol1QpG4nN9QrP33CSfHqpuHPn6ySpW/HjclrHPX4VdrH0+3zN7NesAK3Jv3LNx7W0n/ZLXIP/v35atj8M8/2wfs0TJfOhWPa6lXf/CQyAddTVPryZZ7WpzYTdPJ2H2zsWD417ZZsJjDiBlmkbZpx52Wero/t47ZZ8UrI/gbp5kd/q3pvxfJmAjfeblo3fXKf1QI5Pn2lZs9urt4t3ovse47vPs5p9b5zXDsfBU5Xucnls9cndmcdL5bPVT3vVWHJPxJeG1s/fT87kGfz5tMc035dz8axbnvt8pUmpSfnM35bd705B8n5MZKPZbjbBddn4rmKle0f31+jCceV6y/n36TD/vK0c9x9I/V3vFbcdbnVotm/rmP7SD5H9vkLyqfNv+xh57bq6yXG/1j2ccwPCeLvsfj7xO8eNOPImjqO/7GFfx0m3yvJ15KRunzJ5yFWn+F1Ztjl2EdPjx7jCZKm3s6/DGH3+8S4OjP7enTDIBXtOcmp/2yuCTv/t/ZdGn1tJkyQbfINB1sBxRuP+iCwleXT7x+j+tOWqej/ljkp0muf/0j5y9er7wmznBSbee3BzfZ2lqT1H32poWfPS9rHFQ/11y/2Vdz2Qfv0cvfzx+/rJ3UD/N2ytXHbmmN4uxh283Lnf4aqcNNGaz5RYv4Nd79BZfPyviZou8R8ernlW9m7rW8ezfoDFn1jpQeVz5VOXozE/Pidh/hjleuDD7aqX/7OuNf4Hc9IPKY3n0HXYNg2ievCjmWY8ZjDrm8AAAAAAJAZAr0A4KOqAr2GCc5u/uKlwBa21WnA7b/Rd5un1Iq8VJQJsLjBw7BWxFXHBIbcQGXwe1PN57Pm7M5lr004D7mt358P1BPDW9eKYFlN5sUEERMD3pWtNtV1TaqOugYAAAAAANkh0AsAPqoy0Gu3ou2hjyc8oo3vVt1xUjGtf1seuDat8X6Rmmnld9Qer2XVkg8AkBmCj9WHugYAAAAAoPaqvAH6AABpMePuLn5xnQ6+9FgnpSZ00779vyPIWwlMgLe4uNgak/Ov1z7gpAIAAAAAAAAAULVo0QsAPqqyRS8AAAAAAAAAAEBF0aIXAAAAAAAAAAAAAHIMgV4AAAAAAAAAAAAAyDEEegEAAAAAAAAAAAAgxxDoBYAa0OmCIg17fISzVBO6afjzP3fmc9PlE57Vg78f7izVXrmSz9TO0t2TJ+vfj92kQ/dK7+NDzZQ983xWTHUfL3PZnocRNzyk4uJia3r69kuc1MoQXmcdz701etzi4sc15sgmzpqqreu6c69WnSse6q/5839sTXNe7u+kxnvt8x9p3szBOrXBXk4KAAAAAAAAqkrt/EYSAGq5Aw44QIcccogGDRpkTWbepKWj5RFHqevJ+fr0/tedlJqwSN/M2jvDYLMdZIkFYBKDP8nrb7mwjbMuXHBgJ9iTxR9r725H1Nrgmisony0G/5+eiJTXG1gygabi4jt1RhUGSKozmFXbzlGuBPLca8Mb0Iy/R+zJWxazPigAmu15mHLz+SoqKtKDH29xUqrDWbrm5K5aMOVS69hFRWdpwtulzrrd153/Gap3HuvlLNWcu8+fpZ49/6e/v7/WSUlfbSkDAAAAAABAXVI7vnkFgBzStm1btWvXTnvttZc2bdpkTWbepJl1qfS5tL/WznpdG98td1Jqxqd/fEhla7uq7++7OinpiQVgxmtx6x85wd5BuvnRU9Rozv3OOnu6/sHUwQDTavD2kQWacee5znb3qPHIq1IGpTbNmKaVu3qr6NzWTkrtFJTPZt1aaJ+yMu3RvJOTcpa6tynXt85S7fO4rhg1SqeefaM++n6nkxauZs5R5vmsmMo/3uCju6v8k/9q4a5OGjY4z0k1Vurp0adb98mFEz5Qg36XpRW4rn33SnCdtRjcVi3rfak5T2x0Uryq+9xmzgTcK7f1c+457qBX1GvgDP27/HsnBQAAAAAAAFWlXmFh4S5nPieVlNDKA0Dl277dPwjbsGFDde/eXXvssYeWLl2qzZs3W+nNmzdX586dtXPnTi1cuFDffusfrjNdNnc4ZrumnTXFSbHTup3cUK/89AknJTntqMev0j6N7cDnlqVva+bVH1rzRz1+kebe/64Kx5ygelbK19Y26ezTMK2LC8e01auetGCmxe4pKn35smgA1wQ1bh+5jy6c8LXuGdNbs++8LMPWd8n7TGa/ps2KV3TG1ROdNJs5/oTjyvWX829KCvzYeevmLEmbPrlPF/7x1cicCUr/Vj0b2zW2s2yus/1hkfTLtemfr6vDb05WQT2z3gTWxuhpK2Bh58NOj223/ufjrDqIvS5WL26aXz5N2q19t2lx62b69OJrNfOMm3XxXgvV5ISjteKuyyP12Csgn2b7+DLsWD7VUzfx69wybL3mAV1Y2MxJi3G3Na1dC0v+oeIfRkdfZ4L65ryYYLybFn8sI6g+Y+UMLvvBke2+1Yf/ma/eJxZqn+i2o33rOtU5CsqnN90r9hr/c2vyW1X1Eszert5bl2n6freqaM9J1nWbeE0Z3jRz/QTdC4bfeXDZ+/G7V2ymnOe0ej+D8vlfg2HnyOVXTiO97TK53/3y6d0uu2vC3Wf3ep8FnosgT79/jA5utrezVK5HB76vrXcdpMsHJfeM8N2ytep7wiyrlWzhpo165vt9oq+b/8JCFf3fMmveu093G5d33c6SEt141Ada/LvOeqR/My1o2SSyrp5mPL9KfX/aUQ0jn7fNejd4a7pw/sW+itufSXPz4D2WN90rMT9+guu6s1XP5j5x3zti1+mcyLqwZ3mYoOsl7NlzaJbHM8fy387cz6neVwAAAAAAAAxa9AJABvLy8lS/fn2VlZVFg7yGmTdpZp15TZDWvdtp0xcLnSXbsn/N1S7tp84XtHBSpCZtm2nL0i+s+QG3/0bla9/VKz+9zZoatDnC0wq3sQ4dc6Q+nnCvtW771jbWulT7dG189y19F9nG+7psmBaDy7c21OAr70ur22VXx3P7qCCw9V5qyx+Zq68adU5o9eh+Ie5tJVwUDVyNuGGUNv3zPCd9vBbu6q3Lrj/WWhc5w5EyDNeKu8z68Zq/tZ1+dO3RkXTzhby3xbK93W/HX2TlYfWudur785b2LiJO6NNZO5bPj34ZH5RPE5ifsbCFte0JffaM1MMOJz08n5dPuEZd178SXWdaVrstO0fccIlnnZmutPLhdsP72tIfrGCWu94bMGvR7zIrUGLSTXe9Bw77pdWyOqwL3/D6DC57/Y59rSDNa0v30YAT8/Xi6Oes19kBFf+6tgWdo+CuhsPLHnxuXVVRL0FaDB6mjo3te2LeqrVqFtLl8pZFm/StWqvdYQ2dlGDZ3CthwsoXdA0aQXVmgnSmO2o7WNteZ0x6xlp2W8eG1XW293v8fWRfH7bsrwnpfd1wzii98c1Buv6Z29Puht0EQ3ts3Gx1i2xP0zSupDzaVfLUJWVa/9GX0fXeAGnrQ9tZQVeTbrpU7n70/tb4uCYI7N3ngpbNo10nX/HQwdo4cV503We7Gug3D3S31u3dqZXqT1sWOeZ3GvzT/TV54Pv6qkkDHXtmK2t9kKBundMpQxi/uk4t+DkRJvy+9e7TXC8FKrrlwjTWhfHfLp33FQAAAAAAAINALwBUo0Zt9lDpqg3OksuMl7tR+b1jXSi3OHAvLSqeG5nrpuad10db8Bor31gRWW9/IW8sfvGZaDfQm77YrAbNTdA2bJ/xtq3dqSZtw7/A92ePpbnpE9M62Q5uPPjxDg2+8pGk8UMrxu6uNbEFn+1x/W/W9xrw09HOsjFIFx1r8vWIb+viKTf/1pP+vmYsLFHj5p2dZdNa7GpnfWxdx3NPUc/GX+qV8W/aL4qsm3D/h/q+Y0+d0eCpSB5K1KXXKc66s9SzU7k+fH6Ss2wk57NXW7uF24w3F2r/XtepS70v9HR5rJON4Hya/a9W8fUP2qsi6x54fXFcQLC+la/Mx/k1rdf+eu0D1rzJ1/a8ZuoSEGR0papP/3NkH6v4kfXWvLmG3LKH1bXL7xxlK/zc2nVYNfXiz3TbvJcTzAn+gYBt04xV2rgr3Y5ZMr9XwqQqX6bXoBvIvfqFRZEl06rR7qLa/773yu5+N+MgD+nsvY9iKuOa+PuY0yLPw2Y6Y9LDaf/4Ze9OTTW2aQNnKX2mNe6fij615l98/St927S+uu29l3p3rqenfva5lW6Me22VWh7YzAoC333+p7rsoW+cNdK78zeraat9rHmzv0l/+NKaX//ROo0rSQ6uVye/uk5HNs+JVNd1bJ/Sy3OXas/82Nj8fuuCfqTh5b/dpDTeVwAAAAAAAAj0AkBGTKvdHTt2WK12TXfNLjNv0sw68xp/3bS30/1yolVvLFXTzgda86Y75XpaYwVvWx5hvkTeTz96/pro1O1kd0zXcEH7TLR9c4kTHE5PjxH3W4Hc4uIiq8Wbt/WfG6xxxw+tjrEqzRf/3gCM1FVN86RvVs9xluOZAM8TVv7tye0ONJWdZVu0JKAbVm8eTCvlNive9QQLbMn5tJnW0Gtad9T2z5+PLC1WSZkduAvKpz2GaazFo5m8Xdaac2BahbnrMwm4b1n0brSr2U0z/qKfe1piBkmnPoPKHiSsrqtCquNVVb0kG6TB3ZtqybznnOXHNX9ZA/UcNshZjmdfC3YXs+nI9F4JE1a+ilyDmav++91I/5popMQfOfgxrV6nLvlB58wcpvnzfxxteZuOjV9siXapvOLxr3Roz7c06eQWal6vYXR/ZnpyVCxg2eGs/fXR/OOj6/y6Vq4t/Oq6qmR6vewREnQ261L9IMSPu1067ysAAAAAAAAEegEgA2bs3fXr11tdNHfr1s0ar9dMZt6kmXVB4/OaVrbfbfUPHHi7UG57TOeE7p3NuLt2t83u5B3jN0j4PmP2ad5U5Zs3OUupmfERTTDXCugGdPFqvoyf9PGWlC2a7K5n28d1T5kpc6zpSws83XKaYKkzm+Qs/fGaASr3dN/r1xWsn8Qv7Zt1ayG3w1y762q7m03TvWYsUBeTnE9p6+alkf/braFjYxTnacLbI1PkM9bi0Z1OPfvGaDDEtCa004u1re+lVRhoS68+/coeJqyuq0LlHy+768zutrme58cUxTqu855Wa20/pvVvQ63Xlx8EPXPiZXavhEldvuq7Bqv/fk+HGVv2wsIt1n2aulWy7coT34l2a7y9sCCjYK8/M87vtOg+zdRr4AwrKPzg9X307UeroumJ3S3vnjK/XswPAoJk+4MVd7t03lcAAAAAAACCv30HAPhatWqVvvzyS33//fdq0aKFNZl5k2bWhQnrJtl0u9ykbSe1OLBcc/642Epzg7UDbx9gLWfKb5+J/LuTrii7ZeIP69ZEg49+7MDTD+ox4npPK8NB+sNtv/cEiM/S3ZMnh7YONt1dxroutrvbjN9nPLf1n2m9NTqNFn7ueImxAJnbXazpcti0pLO7Tz5w2G06fN/Po10SJ4rPZ2p++XS//E9v/MfkINiKTVszykM60qnPdMseVtcV5Vf21Oc2e5leZyaYuE/ZXN1y+qnRQJNpHb89r4vzihgzLq1pbbhgyi0Z5TPTeyVMeuXLNpicruzud7vb69gYqGaMYBNUNyp6TZgg7zGR58Atp1+d9TW0oSR+uyXryqLdLqfDtOxdsmVP/eypg5yUZOtWb7P+Na17zx2Ub81XpUzLkI59C/pa/7r3Q2VI77q2hy4wrY2Txda5739mX6al8L8fuynkGZi4XXrvKwAAAAAAYPdWed/yAsBuZM2aNZo9e7bef/99azLzJi2V9Z99qX37D3SW4n36x3fVpv/RKl8bH5B966w71KDNEXHdN/f9fWzs3TBB+3SZLp33brxWS/+VfoteP+ZLdrcFoj1dq67rX0mrJZtp+eft5rW4+Ffa+sIdoQHiRMsfeU4Ld/VW0bmtrWXTdaw9Pmase2O7RaEZp9QEhewWkw+O2U8LZpdY24Qz4wQ/Z7VM9JbP26LZHk+1kb7zfLmfyJvPDi0aO6nJbrnwlZB8mhbAf9Xi1j9y8uIt3yDd/OhkT3pyPqfcPNHKw/XP/Nt6TerutWP7NIGU+h2P92yXfn0mnqMgY458IWVd+wvLp82/7KnPrb/KqRcv02rPGxwy7MC+25Y01mX37SMLNOPOcz0twU0r1D7RspnJL6iU/r2SbfnCrsHU58hf+HbZ3e+P67YXF0fXndPqfU/rzWyvCftZeNQer8W1sE/H0+8fE+1G2Uw9Nm7W0LPnOWvtrp0/29VAf5p9nLV+zsv9nTXBzhj0hha0bB63X7eV8Asz16vnyO5W2v9u6K55H6T3Yx83n6ar5707tbHm3byErTOyKUMwe9xkM0SAOUcTjivX1Mi5rpjU9627zm/ogrB1YcK2S+d9BQAAAAAA7N7qFRYW2oMB5qiSEsaqAlD5tm9PHsu2shz1+FXa/MVLgS1sq9OA23+j7zZPqRV5qSgTYDFf9v/l/Jtq6Atx0/L4eK246/LQcRRrPp81Z3cue23CeQAyZX5s8FvVe+uyuB9X2MLWhUlnu/TeVwAAAAAAwO6LFr0AUM3m3j9Lbfofq5ZHNHBSasbBvz9feW0W14kgr7H8kesybkVXmS6fMFJtVryb8sv4ms5nTdqdy16bcB6A3JDu+woAAAAAANh9EegFgGpmxt1d/OI6HXzpsU5KTeimfft/p2lnVXzc092dGY/TdLtpxuT867UPOKkAAGSH9xUAAAAAAJAuum4GAB9V2XUzAAAAAAAAAABARdGiFwAAAAAAAAAAAAByDIFeAAAAAAAAAAAAAMgxBHoBAAAAAAAAAAAAIMcQ6AUAAAAAAAAAAACAHEOgFwAAAAAAAAAAAAByDIFeAAAAAAAAAAAAAMgxBHoBAAAAAAAAAAAAIMcQ6AUAAAAAAAAAAACAHEOgFwAAAAAAAAAAAAByDIFeAAAAAAAAAAAAAMgxBHoBAAAAAAAAAAAAIMcQ6AUAAAAAAAAAAACAHEOgFwAAAAAAAAAAAAByDIFeAAAAAAAAAAAAAMgxBHoBAAAAAAAAAAAAIMcQ6AUAAAAAAAAAAACAHEOgFwAAAAAAAAAAAAByDIFeAAAAAAAAAAAAAMgxBHoBAAAAAAAAAAAAIMcQ6AUAAAAAAAAAAACAHEOgFwCAOGPV59fT1fe8e5xl1Cb5R/9Xh0bOj5l6jbrBSfWqC+evrl6Dp6rbedPVpmd9ZxkAAAAAAABARRDoBYBayw6KJAez7CBQh6PPcJaBymBfV24Q1UzegFy7ondrxTW37s2f6KO/DdGKuSVOSvpqSxkAAAAAAAAAoDIQ6AWAWuvfWv6fj7VXwZFqnB97XOcffaT2KJmtFW8+7aSgco3T3L8N0ZyHf+Us7w7MjwpOVMncv1lBVHdaO3+Hsz6X1IXztztegwAAAAAAAAAyVa+wsHCXM5+TSkpKnTkAqDzbt5c7czXPtEJsWu+/mjf55siSaXV5or55dZgThLOX97FeKe0ome0Eh0zg7iptmem+zu7ytk3Ld539hMvr+YR6Du/oLEnr5v7NCSzb+23W1E6PP94v9NWUt9TpTDc/K/XR38605oKl2s6/fKZO9th0d0KwO7nMiexy7RGXL2+aqaMOfezCfbv65YS6ii+7u76q8pLtuXXzs03nRcuyMnq9+Kvf+m86aHR3LXnyJ9q6bqeTavPWiVdi+f2P519ntvh1bvlMHXQ8aJO+a3JIZN1WLXl1odoPL4y84bvlt/ldz0HnL1UZwvnn004PunbD1oULKkO2+6xN11lsn1O07/ARSWUI32e2z4KR1rx7/uLrzH6d3/WZXfkAAAAAAACA6kWLXgCo5b5+e1a0Va/bmjcWRPO2wrxD23RIwLil6bODQK214Mmhzn6HRIMo+Uefoq+muOn28WJd4TZRjzOHaZm13R3aUtI+zW5yg7YLLl/5plI1btnV3jwDZfM/03a1j+uSuNF+LfXt6s+s+bBugdsVXam9S1+O5uW7JidY+azMvLTs2cHJS8XObX6fX1sBObcs+w+8w1njb8f6t7WtpHHkPPw3rvW44dbJN6t2WQF/Oz9D4gKkQccLqjMj7FpqWHCIFaT7ZlWeugzP1+d/+492Nu2WlLdEQecvnTIESf+aN/tv5zlHYeuChXdNnfk9VpuuM1f74UcF1ov/PrN/FuQffaHnGjRTLOAddn0a2ZYPAAAAAAAAqC4EegGgltux/tdaM3enOhz5uPbr01RfzbzKSs/reYqaNV3pacnmdvXc21nOxqk6YGBHrZv7r6SWnca6N3/uSf+3Nq8oiQuyrHz1RGd98rowftuFlW/b1xudNLvlnR2c6aYGTbdq2/of7BW+xunruSXKP+haZ/lUNe9QTyveHucsBxmr5m2/9AQG/601M5dHth1aiXkxxyiz8lLRc2taO7p53Tx3kdS0lTUf7N9a9LAJZu1UjzPfscbnTRVA9PI/XnCdGWHXktmf23Jy3dznVZNtKNO/5qWN81doryb7W/NG2LpsZX6P1abrzJZYLw09x/PbZ0WfBd79x4Rfn0a25QMAAAAAAACqC4FeAMgB6958W3sUdNDO1S/HdR26o2SDM1dZTIBE+vbrYmc5nunit++vp1uBQCsY6HRpWlWCyvfdug3a1WT/yJvYWO1db6X2iga7NnqCcv5MwMYNZNVvfaTqa3HKbeq3NsdqHy23mdyurSsrL3k9e0fO79vRbSpybjeveMeZi+xn/a81x9OKMYzbmnTOpI/VvM+v027Z6Xe8sDozqvtaylam+awfEgwMW1eVatt15mXuH28gP2if2T4LzDVtWg1Hz5/zA4ZU16dRGeUDAAAAAAAAqhKBXgDICYtUXiJt3bjYWbYlBo72zm+lWAet2bCP42+seowu1GZP17f+3ctWnqDy7Vj/lfaMrGvSs7e+3/iCvtvVSw3z99cPaQSt7G6K7a5sm/fppjJPMCecGdvT7f7VnswYoZWVF9Od7rrPxztrquLcps8EtdZEzm3FW6D611lNXEvZyTyfYYHTigRVK6K2XmeGOZ7SqJeKPAu+LD7COX//UdM+v/a0Vg+6PgEAAAAAAIDcQKAXAHKUO/ZmLGjhdrv8vLMsNdyvyPrXjLubXotJuzvY9sMfdZaTua19TUvHA6qwFWY65Wu0n7Ths2dVvqmFDjiyteqVfuWsCWOXseF+v1XzDps83cEGcwNlYS1cs82L6S52/4EvqUnTT6Kttavm3GbCdGndVN97ymDGQvV2a5tKOnVWXdeSK9MyuNLL51h1Ht4xrhVoTNi66lB7rzNzvFT1UnnPgtgPWdK5PsO4Lb37nnePkwIAAAAAAABUPwK9AJCzxmmu00LN7nr0Ku1d+rITuLTHsDTd75p1XQdu0pdptpg0XZ2umNs82p2pmewAiz3WZ/vh06y0vqPztbZKW2GGlc8EbNqrTYdNVvespmvaxgUdklo8BzFdYTftMyKyv3lOinGqup3nlLdPUzUsOMGatwNBZgzbO/RdEzvNnex6qVheTBBrZ9MmCS2Lq+bcBjFBPG+53OPFxi81dfagtumQ6GtSB8jC6iy7a2nruqKQcxR2/myZlyF1Pt11h/76RJXM/VvcDwfC1vlLXYZs1YbrzBWrl6v03Yp06iXbZ0GsPv3KF3x9AgAAAAAAALmhXmFh4S5nPieVlJQ6cwBQebZvL3fmgKo2Vn1+PUzLnvyJFahCrjBBxKu0ZeawuHGzbWHragrXGQAAAAAAAFDX0KIXAIAa1K5ohHaufpvgG6oU1xkAAAAAAABQ9xDoBQCgBrQretfqKrZl00/iukgGKhPXGQAAAAAAAFB30XUzAPig62YAAAAAAAAAAFCb0aIXAAAAAAAAAAAAAHIMgV4AAAAAAAAAAAAAyDEEegEAAAAAAAAAAAAgxxDoBQAAAAAAAAAAAIAcQ6AXAAAAAAAAAAAAAHIMgV4AAAAAAAAAAAAAyDEEegEAAAAAAAAAAAAgxxDoBQAAAAAAAAAAAIAcQ6AXAAAAAAAAAAAAAHIMgV4AAAAAAAAAAAAAyDEEegEAAAAAAAAAAAAgxxDoBQAAAAAAAAAAAIAcQ6AXAAAAAAAAAAAAAHIMgV4AAAAAAAAAAAAAyDEEegEAAAAAAAAAAAAgxxDoBQAAAAAAAAAAAIAcQ6AXAAAAAAAAAAAAAHJMvcLCwl3OfE4qKSl15gCg8mzfXu7MVY7i4mJnLllRUZEzBwAAAAAAAAAAkB4CvQDgoyoCvX4B3aB0AAAAAAAAAACAMHTdDAAAAAAAAAAAAAA5hkAvACDOvkc/qmG/ft6aBo260EnNJUX659Tpevj37Z3l2uXmSe/qP38/11mK51130d0v67333rOmt5+6yUqrSsHHq931CQAAAAAAAAC7KwK9AFDL5fW8TUPOv9FZqnrfvHmOpv3tp5o/t8RJSc3kcdiv73SWbLG0wep53nPR4HFiALm6y2ekG2ytbG1Pu1MDO63Rq9c+5aTEJK574IoTdPjhh+tfH22ylqtadR/PyK6ur9XkGXZA2p6e0W8a72Ot8Qar3SkWoLYD1m56cvDc3u/0Vybq5H32ctIAAAAAAAAAoPYi0AsAqBbLXjvdCiBP+9vz2lFwonodfaSzZvfxkyMPVPnsKbpr63YnJSZsHVwmWDtSpf87wwpKm+mNZQdo1D+vd9ZLG2bfH11npvP+uNJKv3nS1Tpw02tO+nNa1/5H0SBz7+sf03vvHaqvZ2+2lgEAAAAAAAAgFxDoBYCcdp4Kfx1rLZvYMtZuVRtrSRsLrsa3sq3eFrVfaFv6jYUj7DJm3o30uZ6Wn3arT7fF5zGd9lSrQy511tmtO8PW2QHGqZow+vqkfcbYLUKDu1m+Vj8urK8F705xlr3C1vmJb9Wa2ArVDlzG1sdazca3as2s9WpyfdrC8hJ/vHTOQ4xffXZViybbtH7xNmdZWr4h9cVkt5b+Vh+8eLeTMl7/+3iTWnQdHJm/VjceVaZxw0brk5277NUAAAAAAAAAkAMI9AJAzjLB2pEqn3uH01J2vDbu6hcNiJog74Dh+2ruk0XO+p9q3ptvW+v2PXqU1k4ZFbdddbWwrd/6GDVvKm395n0npWp0/8mRWnbPSTr88L9qXkmBho//WbR74jeW/RDX8vPIn90Yus7WWEOuONrZZ3JL0lQuunuY8lfO0JhJ652UmLB1yexWrft84ubxr5q/q7fGPPL/rLUmyPvASftp+t12Ps104uWPWOsuunuUNj8yMm67i+/4ubUuFb/6TJWXi+7+hacVrZlOt1osp67rIOO1YHnDyHn4uxUwNgHcMw5toaWfP+is99e8Wys1LF2qtyfbLXZNHV0Q2W6PJi0i+7lLpx1/qV7c/r21DgAAAAAAAAByBYFeAMhReT1Had+mK6LBW2mGFv/nY9Ur6BOZH6z2Aztr3dx/aMO6nfZqj2/evMaTPkMbV5SqSctuznLV6HTcM3br4dE99MWTo7Ti8++cNak8rI//dorenxwezEu08L8XOoHTYs38Youatuxsr6iA2D6lJz9bpj1b7udpvTpeowYHBSuLNPDAZgEBybB1yXpff4p6NV3tGee3WH/454f6rkPPyHyRrjyqszbMftw3aPzAFT/3pGdWL371GZYXt8Vvfc98Zvzr84bRR+iil7brZ69O07NX99Ind58U7Z7ZCG4hLDX86W16LZL+wEn76Knhz2vNrhZqd3ITZy0AAAAAAAAA5BYCvQCQw3aUbnLmEh2oRiGtZuu3/p0O93T53LNP5MVVzB6jd7y+KcnTfr2PcFJzm2kR2qn+ns5SMBMQ7VnvMxXfusZJiQlbF2Rn5Lwv2/GDs+RlujbeQ+u/ftNZjmdawJpApxsINa1aKyo4LyawfILV8tkEZc3xYl1IZ+/mSe9q4rBtGjdsqC566WsNueKl6H7dlsL29Fd90eK4aLB3jyYH68or99dLw4dF1p2uyT/ZX83qbdKXL5Za6wEAAAAAAAAg1xDoBYAcVr9JfKBu7/wWsttOho2De54OHl2okmiXzz/V/LkZDZqb5Lt1m7TdmfdKDkTP0MqZS5Xfp8hZzm1hQU6vM3t30qbFM3y7Bw5bFyQxwGy6Js6z5hZrU2lyC27btbrrqoEq93SV/K+Pgn4okL7gvNhMC1z7eM9pe79LKxTsdcfafe/hG6z6+uyWs3XRS4vV6pARPq2G7ZbHxuZFG1SmrZp+9+VW19GG3Z1zeucPAAAAAAAAAGojAr0AkKPK5s9VqTp4xtZ1u2sujszb3TF3Om68vcqH29rXtO7t3Kdi3dfuWL9K30Xy0uGgvZ0UOy+blye3LC2bP1nflHjzncp5Kvz1c9GxhyvD8g0latF1sKfb5ZiwdTHX6qYTuyYEaK/V5BnJ3QXbwck1nu6NY8LWBfnslrlas6udM0au4XbXPCUybwc3u/9kQmB3yW5rX3d824oIy4sbUI1JDkKH17V/fZqxklt3beTM24Fyv4C7Wz7TJfaqZ9/W8pJGOvy8m51j2fnMNMAOAAAAAAAAALVJvcLCwl3OfE4qKaHLRQCVb/v2cmeuchQXF6uoKLkVa1C6V17P2zRgeBdnybajdLamP2QCYCYIOlJNVM9KL1/9UtxYtvse/Whct8zr5t5ujekbn75cy+a21P4t34psO189z/ut9m1q78+VuF8/JmB86OhC7ZOUl8HWPrd9cEZ0XF67TPtq7pPnqLz1X0PKZ9hlrL/6PynzYCvSP6deo72mnxkdu/Wiu1/W2fkfesZ7tV/Tq6n9e6cdK15JsW5OXJqxYfb9OvHyR5wlwwQmT1H+Su++/I4dE7wuPg+uWD7tYx3gnKb4/Nv79XbL7OY1Pv1LzZrVRH1afRDZNrl8hrfswfUZlJfkMiTmM/w8+Ndn7+sf0wMndXWWTKvqT3XrSb/Ui9tPTjieacF7pmdM4vhjxc6ff13H9ksgGAAAAAAAAEDtRKAXAHzUpkAvagM7GOgNdqbHBCuHa9k93oCjK2wdAAAAAAAAAADh4puvAACASjReowYPDwjkhq0DAAAAAAAAACAcgV4AAAAAAAAAAAAAyDF03QwAPqqi6+YgdN0MAAAAAAAAAAAyRaAXAHxUdqAXAAAAAAAAAACgMtF1MwAAAAAAAAAAAADkGAK9AAAAAAAAAAAAAJBjKrXr5uYdDlK39vupZdMmalB/T+3phpF3/qAfdpSrtGSjvl65SJ+v2OysqDi6bgZQFei6OVOD1fO832qPFXdo3ptvO2m5pkj/nHqN9pp+ps7740onrfa4edK76rv5AZ14+SNOSkzYOgAAAAAAAABA3VQpLXobteujoceP1DGFPdQuv7ny9tqp8tJSlW5xptJy7dwrT83z26lH4TEaefxQ9WnXyNkaABCkfuvf6fBfP6dBoy50UqS8nrdpyPk3OkvhOhUVq9fRRzpLtY8py7Bf3+ks2WJpJnj8XGT++eiUbT1UFhNQ/c/fz3WW4oWtq6i2p92pgZ3W6NVrn3JSYvzXXavJM97T9Fcm6uR99nLSDDv9vffsyZtfs5/XnHQzPfz79s6adAQdz4g/Zmy/8envvfeMftN4H2ddGBOQnx7d7u2nbnLSw5nzEztWYvmy22dYGS66+2VPuj3FjpnqeGH1CQAAAAAAAAC2CgZ6G6nzYcdr+IBuym8ola1frrnv/E/FL7ykqa+/qlej01S99EKx/vfOXC1fXyY1zFe3AcN1/GGdI3sAAIQr0/dNezvzu59lr52uaX/7aWR6XjsKTqzVgeuq8pMjD1T57Cm6a+t2JyUmcV3v6x/Te+8dqq9nJ/aeYYKLI7XPJ/fr8MMPj0zPaXu/S53gY5H+8Iue+uTuk6x1F720WN1/8qAmjG5tbxoi+Hhu8PgUlf7vDOeYhzutpe28eNPfWHaARv3zenvDEDdPuloHbnrN2e45rWv/o7QC7DeMPiJ6rNNun6m2nvJlt8/UZdgw261re3JbiocdL6w+AQAAAAAAAMCrAoHeRuo29Fj1a5snfbtOi2a+oKlvz9Kidduc9cm2rVukWW9P1QszF2ndt1Je2346dmg3gr0AEGq91i1vFRDgjG/16rZ43ffoR63lDm33UH6fq+PW+7fytffT4aC9I/PnqfDXsX16W82627r7N5O9TSJ3H/GtdSvmC20rcWbTYufB2wo4Ped6WmnaLTTd1pnHdNpTrQ651Flnt8QMW2cHA6dqwujrk/YZY7feDG5Feq1+XFhfC96d4ix7Ja67VjceVaZxw0brk53xIzP0vv4U9Wq62tPyd7z+9/EmdT7I1E+xfnH88Rozab215rNb5mrNrsZq3TXVO3Tw8YzLTjlUq/57hk9X2F3Vosk2rV8c+8ywfEPqk2u3Xv5WH7x4t5Nil6FF18EZtXxd9ewabXGym94+/c5R5ZchVX0CAAAAAAAAgFfWgd79+g/RQfn19cOW5Zr533c09ytnhRop/8D+Gnr08Trp5JEaedIJGn70UPXv0txZH/HVXL3z35lavuUH1c8/SEP67+esAAD4WffmG9qzw9HOUkynojFqVvofp8XreG1pYrd4/ebNc6y0Fat2at3c2531P9X7kx/Utk1b1aRlN2cP8VZ8fqh6njdS5XPviO5z465+ccFSEzju1PIta/38uSVqO3Css8ZlAqzuPq500iqufutj1LyptPWb952UqtH9J0dq2T2mZetfNa+kQMPH/0wPXHGC1fryjWU/xLXSPPJnN4auszXWkCuOdvaZfstV10V3D1P+yhnRIKxX8rrxOu34S/Xi9u+d5Xg7Szdp2Y4fnCXpva82aM+W+1Wge+Cw412rHh2/Vdm+46LB71iQe7wWLG8YqZe/W8sm+HnGoS209PMH7U0DNO/WSg1Ll+rtyXZrV9P69YLIdns0aaFO9fe00tLR+/o+2m+rvZ/s91n5ZfhN47tCzx8AAAAAAAAAeGUX6O0wWP07NtGeW7/UzNdn6WsnWXntNODY4Rrau6PyW+Spfr1I2h4N1KRFvjr2PUYnHd1XsZDu15r1+kx9uXVPNenYX4M7OMkAgCTb9LBKS/omtJ49Ty3brrSCt7YZWjlzqZp3TA4Ie239ep0z5x3D90A1alqmvJ6jtG/TFZr35tv2CyL7XPyfj1WvoI+zLO0onR095sa5X2hnkxbWvO2oaJA3to+K6XTcM3bL4tE99MWTo7Ti8++cNak8rI//doqnftKz8L8XOoHTYs38Youatuxsr6iA2D6lJz9blhBcHa9Rg72BYa8iDTywWUDwMGxdMtNK9+vGB6vougOclGt104ldnfl4N086Wftt/VTFt65xUjLX9rQD1KxeY/VptTga/DZB7tOL/2aV3XSlfNFL2/WzV6fp2at7Wd1GJ7f89dfwp7dZ4wk/cNI+emr481qzq4XandzEWRskNi7uAyd11aJ3b44LqIbv0/8cpSpDcgvvmOzKAAAAAAAAAAAxWQR68zWg+35qoDKtnvthLMirRjpoQH+1a7anVL5BSz5+Q8UvvKAXXijWGx8v0YZyqX6LLhoQ11Xz1/pw7urInhpov+4DInsGAARZ9fYsteh5trNkWri21d7qEO1C2UwDhndx1gb7bt0mfd+0rerrPDWst1y7oq177UDkjtJN1r9BNi9/05mLvHb9n/Wep9Vufp9CNYk81b/+7F0npeLsMXrH65uSPO3X+wgnNbel2wLVdLfcs95nvgHXsHX+xuvG/5ixd592go+HavbLS/TDxq/jAp6mK+pjOq3RM0W/roSWpV9q8i9uceal+577SN86Zb950ruaOGybxg0bqote+lpDrngprbF292hysK68cn+9NHyYDj/8dE3+yf5qVm+Tvnyx1HlFENM99RAn6PxXfT/kyejxst1nWBnclt7u8b5ocVw02Jt9GQAAAAAAAAAgJvNAb4duym8s7Vi3VDOj3TVHdC1Ul5Z7StvXae5bb2nOCrtLQmPzijl66625Wrddqp/fQ4XeBkRfzdTSdTukxvnqRqteAAi0Y/0b2t5kmFrH9Xa/wuliOTZNfyhorFfbjvWrtKtJCzXt2Uf1Nj6vb3f1UtP8tqrnBHjrx7XQlfbObyHviLJhTDfR8+fuVJ8zb3dSwpmgc+StIUlysNlurZzfp8hZzm2JXSgHObN3J21aPMM34Bq2Lshnt5ztCT6erm/2bamSjUudtXaQ94JD62v63Zfrrq1+ZyZ99ji4/q1UJ//kVmuc2vcevsHKv8nXRS8tVqtDRiSMXxxv86INKtPWuPzZXSGnV58xsdba2e7THWs3vTLYxzMqrwwAAAAAAAAAdncZB3q7tW+lBirXhhWLnBRbt/2bq75+0OYVH2tRmZPoVbZIH6/YHHlFfTXfN74bzEUrNkT22ECt2vuPGQkAMEywc63yO+5rLZnA7+aSDnHj5yYy4/EGdeXceD9ZLW+3bWqttke21F4lq1Q2f65K1cHpztkYrPYDO2vd3GJnOTUzPvCKVe015Hy/rojjmaDzd5Hjxbqkto/nbTXsKps/Wd9EyhvLWypmrODnQusnU8s3lKhF18G+Y9qGrYuxu0uOD9Beq8kzkrv2tQOJa/TqtU85KTFh69Jlgrrndf9S/7jqieiyHeQ903c8YHNM09Xw9Fcmpjmmrz2G7WEnX+EsS5edcqj2XjHfWWqs1l1jfXyYwLU3AO53vFXPvq3lJY10+Hk3O2lFuvKoznH1mV4+r9WPC+3xdNPZZ9A5SlUGl8mTO35vescDAAAAAAAAgGQdz78lOhkZBnrbKb9JfWl7qb5OGEavSYNIurZp82fb7AQf2z7bHHmFVL9RczvBtfJrlW43rcjyI0cAAAQxgdhdTfKcpRma//BftaXJiXHdN3sDod+8eb827uoXXWcHPb/QtpIOatuxRBvW7bTG2W1W0EmlG80PeMy4ti+oQZ+rnG2uVbPS/2Q83u6y4gnOcR9Xq/ywt5qH9emkj3XAcU+ncTy3Ve/F0X3Wb3KIs509pRNcrogHrvin5u/qrbHT3kkadzVsXay75FO0zyf368TLH3HWBPvJkQdaQVG/lrXB62Lj0F5waAuri2CTHxP09K4z09n5H2rIjy5xgot24NMELk33w+5rUgd1g49ntrth9O1Wl8Xu/obu8bo1zu2qZ6/UlS95u5F+T8Naz9OtJ/0yRbDTdL98m6eef6v9lvwjjfqML7s5D6X/O8MZTze7fYaX4eS448WP3xt2vPD6BAAAAAAAAACveoWFhbuc+TQcpKNO7qFWZctV/PosJ83W/9gidWxWptXvTtXMtU5iojYDdfwRBcrbvEjFb8x1Em3W9nkbtODFt/S5k5aOkhLGswNQ+bZvL3fmgIowgbtrtNf0M50gX7pMC9LhWnaPX+vasHUAAAAAAAAAgLrKbclrLH/o+kxb9DbQ3ntJO75LDq5+WWr6a85T845xg0fG2a9j88grpPJvY+P3ukq/2yHttXfkCAAA7O7Ga9Tg4QGB3LB1AAAAAAAAAIDdRcZj9AZZt3ydSndKefv31cDOsfHqXI06D1Tf/fOknaX6esmXTioAAAAAAAAAAAAAIFMZBnrL9d33Uv29mzjLHmtnae7KUv2wZ54KDj5Wwwf3Vff27dSufXf1Hzpcxx5coLw9f1Dpyrma5dO1c5O960vffxc5AgAAdYUZj3VIht02AwAAAAAAAACQWoaB3nUq3x75p1GeutkJcb6eNV2fr9sR2Wt9Ndmvi3odOkADDu2ljvlNVD9ypB3rFunDWV87r/bqrDzTZ/P28sgRAAAAAAAAAAAAAABhMg70flNaLtVvovwOTpKrRXcNPn64+uTXtxZ3fFuq0i3O9O0OK61+fg8dc8JR6rO/tRjTfj812UcqL/2GQC8AAAAAAAAAAAAApJDxGL3LV29WuRoov0N3JyUir5uGDu6l/fL21I7NyzXrzWK99N9X9errzvTfl1T85iwtWV8uNWilbocNV39PsLdbh1aRPZZr8+rlTgoAAAAAAAAAAAAAIEjGgV6tWKSvS6U9W3fRYKtVbyP1GXiQ8vcxXTPP1etvzNLyTdYr421arjlvT9OH1ji+TdSxzwDtZ9L3H6DOrepLpV9r0QrrlQAAAAAAAAAAAACAEJkHerVOsz5brTI10H69h6pb535q13xPqWy1PnxnkbY5r/K3TV9+NFdrtkZmGx+g7gd109D+7ZS3R7m+/mIW3TYDAAAAAAAAAAAAQBqyCPRGfDVTc5aX6od98tXn4P3UQD9ow5cz9bWzOtzX+nDVhsgWe6rVgX2Uv88PKl0+SzNozQsAAAAAAAAAAAAAacku0Bvx9azp+vyrcv1g7WGHyksbWenpaFRaHtkiIrLtjnWfa/qs9ELEAAAAAAAAAAAAAACpXmFh4S5nPguN1K7fIPXr2Fz19/hB5ZvWaNFn87RonX8Hzo3yu6lHz85q1zpPe+7codJV8zT9o6UpunsOV1JS6swBQOXZvr3cmQMAAAAAAAAAAKh9KhjotTVq10eFB3VWft6edsIPO1S2tVw77aWIPdSgcZ7qu6vL1mnp5x9r7pcVCfHaCPQCqAoEegEAAAAAAAAAQG1WKYFel9Vit0c75Tdtogb199SebsfQO3/QDzvKVVqyTl8uWBDY4jcbBHoBVAUCvQAAAAAAAAAAoDar1EBvTSDQC6AqEOgFAAAAAAAAAAC1mdvmFgAAAAAAAAAAAACQIwj0AgAAAAAAAAAAAECOIdALAAAAAAAAAAAAADmGQC8AAAAAAAAAAAAA5BgCvQAAAAAAAAAAAACQYwj0AgAAAAAAAAAAAECOIdALAAAAAAAAAAAAADmGQC8AAAAAAAAAAAAA5BgCvQAAAAAAAAAAAACQYwj0AgAAVJGO596q4uJiZ3pcY45sohE3PBRNe/r2S5xXVq7LJzyrB38/3FmqWenmpSrrxe88VIfacB5qqux1XW26xyrHWbp78uTotXLLhW2c9GwN0s2PTk6xH/uY/37sJh26F3+WGtXx/hBTl85RXc9n1Zav7j3PaoL/Ocrung6/N6v3OVGVcuW+zVZtKl/u1DWfWzOV7bmt3Gui7jyXwtT1ZxaAXMeTCQCqSYvB/6cnon+0JH6Jav9B7/fhOGw788WMm564LrWwD6rZfIgNLoPN3mfmeQ3KS/z+iovv1BkN9nLWBfP+EeJOsbykKkOQ4O1q5hwlr0u8jtwpcXv3dfHp8XVd8S8D4+sr0/3mzheSZ+mak7tqwZRLVVRUFJnO0oS3SzXl5vOt5Qc/3uK8rnKZczik82q9Mv5NJ6XmZJKXitRL+DXhfx6qWu04D5VfdgICtUXQe0D889r73pj4PhD/fvS4rhg1KnKNjNf8rbuctHDxX8Z6pzudV1SfsLyk89mgOvl9DnHvqap+f0DVq+vPSN4DMlMV93RVPSf8A2yJ7ymxv3Ps18c/Y/3SqlN1X5/cD5WtZj6z11XVeX3Wlc8v3NMAcknH82+JTkbiN8MAgCoxSGMuPUiz7zzX+gB89QuL1GPE7dFfqF4+4Rp1Xf+K8wdNsdZ2+JHzATN8u7+POc3ZpkgXTvhAHTzrwth/hB+qtZ8k/+EUti5McBncL5eLVPryZdH8Xv/gWmtdmOC8mEDhKXH7e21pgYpuudBZH27TJ/dFt/PmJawMYcK2q+5zFLRu04y/6OdOPtzptaU/6Id1a/TR9zudV5nrbYC+XrbMWTbsum40535nu2Jt63tphgHrRO/rhnNiAQX3fFz4x1ed9XVDi8Ft1bLel5rzxEYnpXoMPrq7yj+ZoqfLv3dSak5tyMvufB5qquyoWtm9N4Z/nsjG8keuc44T/ywvKrrSeUUqdnD51LNv9LwPZScsL7XhWZhox/KpTv7sqfa+/1XeOapadT2fuVK+3VlunyPzA5TbRxZohvMeUVR0jxqPvMpZK0/gbbwWt/5RBj+GDVPXr+vaVL7cqGs+t2Yj23Nb1++/qkCdAajd6hUWFqb3k+1aqqQk+UtuAKio7dvLnbmqYn4dbX8Z+9f5F+ieMb01+87Lor9YNX9sn99jpf5y/k0JHyJj2yUHSs2647XirstT/PL1LN31aFc9dsEfte91DyYcJ2xdMBPIDSvDYX95Wm3n/zKt4G5MeD4Ty2qOd06r93XG1ROtZfs1p6jNilc8afbrivaclPSlaqoyxI4bv8/0tnNV9TnK5Pz516HZ5r7XG+iyY8utbdf/fJxuH7mPnh49Jvplebp1nZoJSvxW+y2+P60vuc1xLyxs5izFmC/M7ePa++vZuJ5P+uXa9M/X1eE3J6ugnlm/0lOm+O3i19lls7eRdpbNjdap+cVvYck/VPzD6Gi+zBdh7nVugjGJdeeVXI+G//HMPWSOFV9Pdr7rveV9HvhfY3ZeujlL9o8d7H1lW76guvZKzEuq82Dzr5f447n5NNd5+DURdh4yL/s/vr9Gt/bdpsWtD47k5Vt9+J/56n1iofbxbGvL5DyUhtTLoUnn2L9+/AWXPez8ZVPXc0LzWfFryU/8+bNts76cDq8z//Jles0bsfsoXPD9F77OLWP8s7Wi740ue9/JnyfscsY/V1Kxt4l/lrv7maImJ4xIut9Nvtw6Tj7niXWd/JwI5pcXI36fsWOa9Op9f0jnHvZ/jf/x0n9/SOS+JtNzlFmdpftsTXxWBT+/4lXNtRR0bg8LLPvWax6I5sPLzVNQPk05w95XvM/e5PPgLZstvWdr8rapnmfe/HvF9ht8PwSz85Hu8zrsOosvX5j47dx8+n3ejb8G7ffjxO1M+cKvQVt8uVz+ebGvs+B705XOPtOrl6D3AyN5nVsvV7+wvQruW5P/zJ/Jqe6/4GdyZ6eug65Bt0zx79Pe/Xi5xwu/JjJ/voSVPayejezrOkhm58h7zPDPWWHXT/DzJex9Jfwzu32fuflM/zz4XxP28zO47KkE7TPV5wm/c+tN93JfE359pl8+73lwmX0nP5fCVM79kP515l+GVH9ThtdZ9d7TAOByW/Iayx+6nha9AFDTmnVrEfmDY4mmzSizls0Ha/Mhco+8ZuqS1CVvsI7n9tH+25ZG9xPscf3mnD/EfSCPCVsXLKwMH30/Wj07levbA65VrNuvdLr0Cs/n/GUNNPjKP1n7McHW0ZHjLZn3nLM+c9meh0y2q/pzlP75G3HDsWqz4t1oMMCuw/p6/4EJWpLwE7CdZVu0xLPPeavWas/8A3y6jK5abpdQpiWy+YPTbQkV+6PO27LabnEQa5GdF7lehmvFXedZ6+ZvbacfXXu0tWbEDZd4tjOT2wLM/PHlbc08Xgt39dZvx19kbWe06HeZ9cesWW+6qjpw2C+tPwTNdW7/gdxeZ0x6xlpO3foh+HgrNm1V4+adndcFSzyvhv3HureVhtt6LLvymfMeXtc2v7zEn4f0W+KPuGFU5I9kexs3n5ddf2zoNRF+HrIru1G/Y1/rC8HXlu6jASfm68XRz+mrRp01bHCetd7I7DwY2dVLkFTXYNj5y6au01GRa8nP5RNGWgFQs53pLeHbSNqCKVfbK0MElc+VXj7tekhH2HkPvyaCVO97Y0X1GHGM73M3rIu/4Gdy9mrL+0P275vBx0v3/SFI7BzFP3vCu2EMq7PM77Hlj8zV6l3t1PfnLZ1XSSf06awdy+enPPeVfy2lOrf+z+tUz8iwfIa9rwRv5/aOYh/HtNI3Xz67AZOwaz6b51l4+VLfD9kIO3/ZvncEXZ9+12Cvtm2i12DYdR12bsOkuleC7s0w2dSL+fukoJpbUYbXWebP5PDr0xb0uS5M0Pt0quMFly+T50u670fhsq3rcP7PQSPVNeh3HmriM3v4/RdcL2Gf3bJ9LqX6PBj0eSLo3GZ/fYbnJdUzK3OZ3A8Vv85MnQWVIfs6y6QMlXNPA0CQ6v2GFgBgMV9Q77/tMxU/st5JkfYZeJ01dp79K9bntHpXK7U7rKGz1pa8nflgaY+bZP4w+mLavWkF+aqKXxnsLpjy1LvFouiHWPMh/bQH/l8FvvC0u0Q2vyQ3fwg+aLWoPTf65ZbN7lrH+we+y3zwN3XmDXy4ws9D8D6Dt6td58h2ln7cfy99+PwkZ1k6s6hQ5Z88khCUM91hzo38QdxbRee2dlLssZPiBddL9TlLPTutVvH1DzrL7+uB1xerWbcjnGU7CGSX733NWFgS98V4/Y49k3580PHcU9Sz8ZeeMVbf14T7P9T3nteaX+z+9doHrPkZby7U9rxmanzbRdZ1br50tX+Ze7q1nKp+wo5ngusu8ytl+w/Zrmqat00bF5kQlzFIg7s3TQjqDNJFx3aN/MGafG6zLZ/94w3/uo7d0355scXOg/Ty3KVp/Whgys2/9eQ/+fz5cf8g9zsP2ZbdMOnuM3iT1TVzYuc4mZ0Hl1+9ZCus7GH3iv2lUeZ1nY7sryU/pgx7ROt404xpWr51l/Yt6Gsth0lVPr98LjnsWmu85Vg+0xV23lNfE9k8W1O/N9r8PodUhbDnbhi/Z3L2as/7g/sDsPodj49+DjFTquEQKv7+ECzx2ZNu3QfVWTb32BkNntL/ZpWoS69TrHT7nJXHfU7JVqbXUlhdu/ye1xX5TJv6fSUV89lsH881HnzNmx+AZPc8C5bO/ZAt//MX/j4WJvj6fDzhGjTv5XtGr8GqeG9Mtc/M783s6yV99t8B5jqtSpk+k9Ph9+wJl877dGYye75UXtnDhB0vjN9zMJ1r0O88hP3tlO37rRH2bE3//vOuC7smsr3/Ul9nfuXLpEFA+sLzUtnPwWzfb7O9zkyd1WwZko9XFfc0gN1XVbwzVKvOnTsxMTExVfpUlcwvVo/rvFrPXvSnaMBvj7w+uuaaffWi9UfNlXqlf4Fa1tugLz+IfUHnt535sBj7Nf947TrqvugvGc0XOSbwGPsiMZ1WtOHC9hlUBttKzwdx6cnijyv8B4r5MnPCceW65fRTI38UrtbgKx9J6xezbgDErTPz60832JvOefATvl3wOaopprWht2Wx+eXuMft+rvtued1ajve4bntxsXqMuN8554dq1n+WJIztW/PsHxTEfgFuJvtX4amZa8L8+MDd1nt+ElszJ9qy6N1oPdjjIFfsl7hBx9uyaJO+s75IPktd6q3U5mbucyp2fZo/NLvXSwzcmC/7pW9Wz3GW42VTvnTq2j8v/tLpvSDx2eN2nVUR2ZQ9HdmcBz+mXqpCqvNXFXVtZHst+Vusksjjy/1CvsXgYerY+FvNn/a+tRwmVfmyPe/+ws575tdEOtJ5b/T/PFF7hD2Ts1Eb3x9My8vYZ5Ei32B8ooq8P6TL7CuzLZJlc4+ZejFfxLpf3JsWhsk9QmQu22sp1blNlM77WFUyP9woffmW6PVVkWs+W5nWWTqCzl9Fyhd2fXqvQfO+0r7esuhn5ap4b8xkn+ncm1V53mN/BxRZLddS9z5RNSry/pD5+3vVvE9ne69U9ntjZTPPwXSuwbD3xiDZvN+mkt09HXxNpCp74vFi36Okvs6yqbPshOelKp6D2bzfVuQ6qw1lcNX2expA7sn5QO/SpcuYmJiYKn2qKubL1QsL62vGnf8v+uHc/sN9W1ya3R1w7AOj33bJ4n8haH+gjX2JWBldwQTtM6wMm2as0kaf1skVYT6gD+m83epm2HyAX/7IddYvgFv0G5FhMNuuMyOd8+Ans+0q/qvRijOteZvGtSw23SOaYPX1z/w7+oeSu2xaGZn69Z7ztQfka+vmpda2tUvsF+DudOrZNzrrwplWcPY2xdrW99LoH1qJX96ac1t5V3KyoOOZ+2hzo2bqc/bBar7lf1qy60D9fGg7Nd8Wu87MefT+UWuzA2JBsi+ff117r6nkvPhL/cfxWfrjNQNU7ulGy6+rsUxV1bnN5jz4MfVSdYLO3+gqqetw4deSv/e1eu1Oua0iHxxzmG+PBMmq5loKFnbeM78mUknnvTG9zxM1L+iZnL3d+/0hXWafqT73hMv+HrNb5ttd55rnaGV1OZ7NtZTpuc32S97KYH6sd9Qer/n8WCD7az4bVXU/BJ+/bN47wq9P7zU4+Oju+i76Xl4V7x2Z7TP9ezPzerH/lmkf1211IjO+pbs/N8hrb5esqu+Hyn9/CFL579NGRe6V6it75mKfW7O5N8NV9vNlwtsjs7ynU10TwWUP/m6maq6z7ITlpWo+Q2fzfmur/PeAbNXVexpA7ok9iQAAVSr25eplcV9G218qNNSgi8Y4Xc3YXea4gYKg7ZLZAbzK+mIsE2FlMC1CzZiBA3462nqtYboJ3iuNcdfCNVLLbrGP0OZLwfgvFs7S3ZMnJ3XN7GW+FHfHL0x1HmzJ+0xvO1fyOXJ/Vfrvx25ytq9admve+NaGsT8w7MkEBkx3R6ZFWOIXh+Z6PL/HyoTWv6nrujKZ8QgTu8Fyv5xLZ/yycLE/cN3x2mJjVbndWZmuvyo/QBJ2PFfbtntYrRZXbGql/j9trb2dltV2gGe1p9sol/3jgh4jrk/6EUS25UtV18F5SWR3/+d/ryRzf13u3rdeftdEmKo6t9mch2SxenG5XRKbL/Qr+svzdO6VbOs603xme9+69ez9giexdVFYXsLK58f+wVJs7EbzHDyu857WvMvsK/lZHnbe07kmsnm2Br83pv95ojap+Begu/v7Q/rsfab7TA6T6T1ms7tePHDYbTp838/T6hEiM+ldS+nUdUzy+1im70cVYer35pHeLpttYdd8Os+zMH7lq+j9kN57R+z8VfSeDr4+7efyvgUjNbj7pqT38uyu63Dp7TO9ezPbejEBqOlLf0h4PxqkP9z2e2feX+K1VJnPkPQk39PZ3n/+12Dq9+nK/PyZmYq/N1ae2HOw8t5vY6ry/Tbzezr4msi+7Ol8HsxO5vdD6rxU5nMw2/fbqnsPqF33tMlfdX5PBCD31SssLMx0AJhapaQkV76kAJBLtm8vd+Yqi/my9hQV1KvnLNtMMO0v598U+WP4MN386G/Vs7G9ftMn9zlfWgdvd+rZ/43bxjC/tk7d/Z8ZMzZ+OyNon0Ysn2F/tMfvN1YGI36d6bIw9ZiDwfk0eVn/83FxXfQk59GuuzYrXvEcK3GfpiWu9wvvsDIYfvs0grZLLkPiOTIf4O8Zc5j2ict/cNnDzlGq82fGmTTHWpHiOjFfcpiuP+38xF+b/ucuqF6C+Jcvub6DxG8fy1Pyfu19llrp9d66LFpu88XmOa3ej2w3J2mb+DLG34PedaaL1MKSfwTm2dSjPWbzGM8XEf5lj+036Hj2dqZLYO+5NL9INsePlcfNdzw7wBP7QzZW19mWL6iuw/ISvE2qeonP/0rNnt1cvVu85zlG/PbecvifByPzsnvvjcP+8rTzmn0j+zleK+66XPOH/i2L82Bfn/71EntGmNCduZdfXdhBx7T0lj1YcNnDz182dR2Wz2yvpTBmn4nBCXe7sLyElS8sn3Zd2u85psyPbhikoj0nRV/r/yy3+Z93e7uwdf7PVv97xX3OB783jo673l2x9W5+7f17n5ep2dvst9jbnWfyfkxZg567hn0tpXomp+KXFyO53uy6rv73h9j+E8uUnEcjtt/s3h+CBdWJ2SYsL3a9+NdZ9veYzS5j+l3Dps5n8PkLE17X/nXmin9NUF4Ms+66OZ0D31euGHVvRuUz0slrqudZOL/yhV2f4YKf16nOXzrnIlnY9Wmzy5H4mTZ4u7DzEH6OMtlnevemyW929WLEv6+6fyONtOqj9GX/9wTv+TPSO+9hZbDLnt0z2fC/PsOePWGfGYz485RYn37HCz/vqZ4v2ZfdT7Z1Hbbf5H2G1Ynhrk/1HlDdn9nD7r+wegm+JlLVTbCgfQbXWdi5dc9f/Gu85z1su6C8xKen+xwMu5aMbN9vs7vOgstQkTqrmns67G8LAPBDoBcAfFR+oBcAqor549L+0qLmW+mF5SX5j926JdvzUNfrpfLZX3zspxc9XwTaab01O6daq9ZGXI+oSbXp/cwP9weA3R3PQVQHrjMAyBRt/wEAAHLa47pi1Nm15Evx2pSX6rY7l716+Y19ZcZTbKj1+vIDvxEDAeSCyyeMVJsV7/IcBQAAAIAMEOgFAAAAcopp9TZZxcXFvlN1jZdddcLLd2vfpXptaYHOmPRMNO3Cwi0+Xf0hfW6dX5vUNR1Q1Uw3i+Y+Pmbfz/XXax9wUgEAAAAA6ajbXTf3u0C3nNlI/7vpHr29zUkDgDTQdTMAAAAAAAAAAKjNqiTQO3ToUOXn5ztLtnXr1umdd95xlipP+Bi9jXTkFbfo7E6L9djvMgn2DtF1//il+jVxFlWmT/5+kW61su+s0ye65+Lxmm6Shl6rf17eT/r4Xj2k8/SrwjyTGm/FFJ05r5eePKGjlr88WmMfc9IT93f2LdZrpOWacub1etx6zc817skR6mj28X9P6Ky/TNKIDtYKW+knOjOyLYDKQ6AXAAAAAAAAAADUZhXuurlhw4Zq2rSpsyQ1btzYSjO+//57azJMmlnnMtu4r6s62/T23dfrsWVd9bM/XqwjGznJoTyB1zNH68zINGVFnvpd/oCuG+q8JMT0CRdZ25z58nJr2QR1reX/e8JaTl9HDRszxJn3YwLBzr4J8gIAAAAAAAAAAAC7lQoFevfaay8VFhbq6KOPVv/+/a3lZs2aae+991Z5ebk+/PBDTZ8+Xd9++62VZtaZ15jXmm0OPfTQagv2PrU4zWDv2SOslrzL33Fa60Y8/n9TtFx56jfi505K1SsrLVNe4XlpBZcBAAAAAAAAAAAA7F6yDvSagO2gQYPUpk0b7bnnnurYsaOOOeYYtW7d2lresWOH1V3zhg0btH37divNrDOvMa81y6Z752oL9t7/h2iw93An1c9ZvUy3yWXabDfIdSzXZtNDdMsChbWxrUzr3nlYn5Tmqd/Z1wYcs6NGPDlJT5rpL9UXgAZQ1w3SzY9O1i0XtnGW44244SEVFxdb09O3X+KkVpXwvFRUx3NvjZaluPhxjTky2l+/r7CyV129nKW7J0/Wvx+7SYfuVeFOONJQ3cerbnW9fAAA1Aa14f22aj9H5r66+pmooufdv14y+ax/+YRn9eDvhztLdVv1/m2Yjkyv66p4TvDsCbc7/z1W8edLZfL7PqT23dMAgHRl9a5qgrwDBw60grwmoPv555+rpKTE6pq5S5cuVhB327Zt0W6bt27daqWZdeY1poWv2cb8W33BXsceezszYdZpdeUPJ5yh6br1neVSk346f0yBk+bl6bo5426hAVS3+A/R3ulOndFgL+dVtd+Um89XUVGRHvx4i5NSOar/C5GzdM3JXbVgyqVWeYqKztKEt8PGfA8ve1XVS11Q3ec2979cs78A8D4nYl8UBa8z5fammym9eqj847UY/H96wpOe/hddlZ+XxHU1mReXWz+ZfcFlHzObbbx5qakyZH9N+B3L/gLV7/o2ebe/oIr/8Y79Hpz6Bz1GZR+vNpXd++Wdf378r7OwMvjt0y9/fnKhfP7C8+nuz/sFqcmnOW7YOne/3vybKZ36DDoP7vG8+zB59H7+TD4PuceUKZ162t1QL5Wnsj/r28+u+HvWnmrf34Zhz/lc+huoKu4H7rHqU5frumbuI//vQ/heAwByV1Z/yR1wwAFq0aKFdu7cqRUrVmjBggWaNm2ali9frh9++EG7du1SaWnsC3Mzb9LN61evXm291mzjvr558+bad999nVdXhUY68tI/6OweX+mp392j95xUP8vWl0X+31G9zraXbR3VvIlU9sX0aHfOcTo2V17kn3Xf+K7N3mPXa8oKKa+wXyQHAHLZ8keucz5Aj9f8rbu06ZP7nOUr9XS5/aMYVJ8Wg9uqZb0vNeeJjU5KbfW4rhg1SqeefaM++n6nk1aVqvt41a22l898yX+KGs2533k+2NP1D65Nsc4We67Y04V/fNVZE6QqjjdIYy49SLPvPNdKu/qFReox4va4wIy/qin738ecFkub8IE61GBebKZ+BujrZcuc5dTsL4MP1dpPwn+MEq82lSHba8I2+OjuKv/kv1q4q5OGDTafuN/XjIUlatbtiISg1Fnq2alcPd/5tV5buo8GXTTGWe9+kXV1yh/0GJV7vF61ruyJ59Y978HXWerzt2P51Lh9pn722HKlfMnC82nbpu/yewQEbPzXHbrXB7rhnFGRfMR/Vky3Pv3OQ7NuLbRPWZn2aN7JedVZ6t6mXN86S0byeagMdf3zRF3AOfJXPfWSa38bZvucr35c17Xf7nyOak/Zc+f7EABAurx/maZt5cqVWrNmjerVq2cFfU2rXNN6d9asWXrvvfc0Y8YMffrpp86rpfnz51tpH3zwgWbOnGm15G3atKkKCgq0xx57WPsyQd+qEQvyPnb9HXp7m5McYPqEaTI56Tg01mXyWX8ZoY6R1GkTTCB3ut79okxq0k1HOOPn2t09L9e8x+zlymSPDwyg7otvXZV+qwrzhX1su1gLEZP+qMYcea5nv95fiMdvl3y8EwO2CxOUl2DuL8SP67ynWvS7LGDboLxkfjyX+eLTvx+JbM9DGP99+v8q2S6TaU3k/fV8fNlSndv449lTfAsoP9kfL/48uOtSnVu3/N7j2q2oYnXgMq/x5imxFYR3P0HHCy6fEXTesyt7jL3f5OP5azF4mDo2/lbzp73vpMSErctW1Rzvfd1wzjnRoMvyR+Zq9a6GatktvOeW6ij7phmrtHHXLmcpWFXmZcQNl6h7vc/08tx0v8Q9S1cd+61uOf1qzdqZOu+u2lWG7K4J2yAN7t5U36x+QTMW/qCewwZZqTPeXKjteV3iglIdz+2j/bct1bQZZfr7mBf0VaPeKjq3deRZM1JtVrwSF8gOVtnHy5Wyh11nFSlDmNwuX1g+bev1xRct9KNrj3aWvcLWVb4f1i3WmtZ2YNnkseytNyPPwlZqd5gpo/95qIjg99tU76lh/N+nU7332zL/HBn8GSWVyvk8kX5e4rdLt16Cz5FRVZ+JMpdJ2ZPL4Xfe7W2CPmOG10uY+LyYeq+4oPKZ9GzPQ9C5rcg1H8b/eO6x4iWfm0Sptgs6f256ds8JfxXbZ9C5TSV+u/TuzbB1qc57ds+CsH0GnSObf/lS13X8dunXp3nfTv6b0uZfdvP6p2+/0Tne4xp7wQ3RHjFS1Ut42cMEl68i923w9yFh/M+RLb7O7Mn9DiJ+u/j7AQBQWdwncsa++OILbdmyRY0aNdKBBx7opEpr167VN9984yzFmPF6TUDX1a1bNzVp0sTq8nnRokVOamXLLMhre0Jjz7xXn6iffuWMgTuig+km+Xo97rxi+oSLNGVFnvpd7q4v0yd/j61PpeMJzti6kWlcXMthP5H8vOwX6vWM0fvkLU4agNxkPvh6W1eN18JdvfXb8Rc564NdPuEadV3/SnS7xa1/5PkDJU+DrxyuFXedZ62bv7Vd9EvFETeM0qZ/mvTY8S67/lhrndFjxDHOdkV6bWmBim650FkTLDwv/tyugV5b+kNcK5wzrp7ovMKbl/gyZHM894+g20d2iyy11xmTnrGW7T+Ysj8PwYL3uWLTVjVu3tl5XbLwbpOCz637xbfZ1rRgNK120mnJlu3xTNAndh7MZLdESOfcmj/Wz2n1vpVujnvgsF86a4KZP7BvH1mgGU7rKzOZVgWpjhdcvlTnPfOyZ2vTjGlavrVh5Hj3OX8Ux4Sty1Z1Hy9MdeTFGywKU1V5Md2jji6sr/cfmKAlacdsH9dvzvlDxr/6r11lyJ4dlLZbG8xbtTbagtItgzcodUKfztqy6F2nrh7X/2aVRN4/7tdxnbfrw+cn2S9KobqPF6Z685LddVYRuV6+sHy6vvjr69radYjnS9CYsHWV72vNWNhCfX/eMpLHPSN1vsNJDz4PFZHt54lgwe/T6XzWyPZzpN9nlPC6yeTzRPzn62zzEvR5vi58JnIFlT1VnWXzt0z4tRssPi92vVdUePmyOQ+pzm0213yY4OOl+hsoSLZ/O1XkORGkIvtMde0GCf/7Pfj5Er7O/7xX5HlmBF1LYfdYts+zbOsz6G/KVGWv37Gv6r11WSQ/+2jAifl6cfRz+qqRe10G10tY2cOkKl+m92349yHhwq7BsO8gqur9AQB2dx3PvyU6GVn/FWfG3TWBW9OSt3Xr1urZs6ezxmZa+vbv39+azLxXhw4dtP/++1vdNpuunE2wt0oUnqWTDswkyOuarlsvdsa/tabkIO7j/+ddf5FuTRzT97HrrXVjva18nTTvNPYx51gXj7e7hQ7bzhmLN/7YZrreSgeQmzqee4p6Nv5S/7+9uw+yqrwPOP5bwpssCAUNiCALCgMCssNOUUFsxmSmrc60xKaZgpAmtTLRpDOZipgwdqLpyPjWNjPRxGr8w4FA0iSkpbM2wVGpZHHVkMBQgoFFVmBBARFYd3l3e3/Pc87ec5dznnvOufcsd3e/n5kL555z97w95z73PM/vPM+z4YnXvDmN8tSzb8v5mmlFnnTULgJbZN2KF7z3jfL8K02mks6XD/DZbgb9wnH9ow8EAn+Fy1QwMPjS9ndzBZr0+5K+gsAKP4Z02/MLWNo1o8g++cmiL5r3WlBMnw7RXOvUClVf/gn16+Ty6nY5tjvYqWK46PPST/bs+IX5jK2I7pDRV88y70sRdS2p4tdHuE/atsuTy58307Z11HAzHe0mueez1+UK+S8Grt/SuNLIl/7YbfdcwUofN21Z9le5Qvo5mfuNF02hO1+Qdy2ztKCv8/1X8Se6s9+eFvqvav8/WffiUW9OlKz2RStr7BPkWqGxa+MzMYI92ezLwjvr5HQZr123yj2G+NeE7VK2f/NOUxmkLS21Is22oLTfxXyeb7vMDbZSrn/0FWnp6JBzzZti72/W26uEYw+mbbIWJVbYMQyo+dPQ68WlJx1fuOL7KbJW/nB4uml9fDHXsnTC0mH6OJsW+ht71fQH5dqqXblznn9KIzodsuP6TQ1T6v1Z2vvIsHuUa71lYZLdT9j7609dqfUk6fel2P18UtneE6UTduy/Ob8o8pz5up5r3bcs6ANQ8yYF96Ucoq8JX9J0iPM9cl3zSfN51/bSloFKLTu5uM5nWuHrLP59j5K0/G7zFytsmSt/SZufpc0/Vbr8LO35jC5TFjt2PTb/HuGjrfUFv6nKdV6SK/9vlas+pJjoNNL9dNdBZPH7AAB93bSa0Z0vlejXZuTIkTJ37ly5/fbbZcGCBXL99ddL//42o9agra+urk7mzJkjNTU15qXTOs+nY/Uq/Vtdh65L16nr1m2UzZbn5IF/TBrkBYDu90nbCdmTsKWJHVcl/xSmvuyTmcVppYR2M+T/3d110QG2E7s/KhjLLUwp+5JGVttLkw7FRK1Tz+tZU/BbLNdW7ZPjw/3x8z6U/W+lraxokpNtItdO/7x5Z1vqlN7lrYsWFvVpZT8tugaMXPIttLRA+Jjcdec3zHQ0rcwR+aBlm/e+PNKmeynH7uIXwPVp6MG19xYEK1zLgk+56yteV7XZbU+fGP/cpBb56T3/HLslXfn3xQY17fwnpONPfhA7ncq5L9pq4LbRv5cfrHzF+1T3qLRjSHZN2C5l/UojfXBi597BnS0obWWW7To3rLW2BuyurqoyldNxAo9Zb68Sjt1Pc/uyrUKC6V5M1DF0HbuxeN7Ts44vSrH9VGvXbZGrpi/w3hVyLUvDlQ5a6Xrwiho58/v/zL3Te4UO0TGkXelQScp9fxbnPjLsHkUD4i5J97Nf9fCS9iXJ/XxclXZPFHbsScsBccoylaSUco4rHYqlreuaT57PR28vbRkom7JT9yolbZN+3zV/iaLL/GBgVHksTX7mWmex/DNNfpb+fLrLlGnzwTDB85JUKb8PWYhOI3cdRFa/DwCAQol+bYYOHWpa7w4ePFg6OjpMq95Dhw7J9u3b5d137XhE2iWzjr2rwVxt8asvndZ5fhfP+/fvl23btsmBAwektbXVLNd16rp1GwDQ13QtAMQfMyX/FKb/+sKSb3vLoiyW79z/x3I6UJHv6kJI92VQrMJO+L74BY/yK//20qdDtKh1frT5gBwfMlxmLrlBRpz4pezpmCJ3zR8vI9pLKVg2SsvhT0zltylELZvTLS0Iv7/sr700WCfts76aYeHNFiLLrZR0z/LYtbC+JvfdDHsS3LUsrXJuTwMmd9cNkM3f/adUlQ3ZHHvc1gGFyrEv2qVrv+qZsuI/ftZZSeO/jxeELE0lHEPSa8JWElWZLnp1e/rS8dn8VgzBrnMLu/bV1hiP5z57xnTHp139Tb1jRdFWBFlurzKP3X4f4ir1Ox3UW47PtZ8+/czBK26RJddcPGana1k5fXxcy+n2oZd8cKa6aDpUkizuzyrhPlKDCVaafUl2Px9Xpd4TXSx+GUiPQcsyPUv84+sqKh2y+R5Fi9pe2jJQNmWnS6F7vu/5/OVicQKZafKz9OlQSn6W5ny6y5Tl/K6UHjROc3xZcKVR8TqI7v19AIC+Kf/LlcCpU6dk8+bNsmHDBnnjjTdMkFe7cFY67q621H3//felsbHRvHRa540YMcJ8Rmmw96233pKXX35Z1q9fn133zQBQ4bSrvJaO4FhAfldC2hVQdGWjrWAcH2vMqTD+E6z6ZOaiyCdm7b6EVV4GlbovOuZSkorFUrcXJm06uLjW6Rs3rp952vW9j0bJ7AVXyMAjB1MX3DQttfu4YGHQjjXUXS4uNCdNW5/f1ZNW6uefFrYV966gTdLtxUmjeMIqDBbL937+80QtygrZVm8XQq8J17K0yrO9fMDk3hIeMsji2BfLn80Otl6Lq/R9yVdu2Jd2l6Zdra384hc6Ay/+U/I/W/VIBkGWS3sMaa4JWzFv1+9vU1sf+y0o/fxg+OQv5fK9M4GeC+x32O/W9/vL/qvLdzxcVtur1GP3f/vjfB/K853O6z3HF7WfQdrN4iGZMsV2p1XItSx7xdMh63wpnjj3Z5V+H3mxxXL/X9j76yzv5yvpnqic11Kyc2aPQc+1L/weMx0NPh7LnTMdA1tpfqIPTJSifNdnPh3ifI/KKc61lLYMlPbv0pZJXLo774lXfs/nLxfLL3Ods7T5WZx0cEman6U/n/b3O6xMWb58sPTzUr68oHzC0kin49dBZPv7AAB9GTkoAFxyOo7nL8yTjbZFxXK57uiGGAE6bZ3xpOma0G+JYZ6gLPp05Gr55W+1YGNbcLywbIy887vCh23yrTuWy5imZ719yY91qZUi/hObNoiVdl+s+kf/Xf7QMaOzpVjxwFhp2wvnSgfXsbuWudaphZzxMmtKm+nqUbuAHDNxotfyxrXOaNoyryHQLZL/Kn5e0m0v+Hf2dfG1myZtdRwk7UpWP//U507Lr3LXq0+7fnphy/CCYwweX/j20qaRS/FjT0orHPPry6/TjiEdvczXdVzVYumezfZsMFVkSOf4r/oqVnDPZl+6ptGd0vrSvUW7G8xmX9IqvHb9FrSX5nymle6aCGshaSu8bAtKZbvOrZZBbXs6u8y976n7zdhq+fHMVsu/rG8yx+RqeZzF9irp2Lt+H15YNkN+992/9b4P0ddZ2mNw6U3HF7afXWml8fEhQ7x3hYLLfnN+jrefy3PHWdX5PSzl+zfhj6J7y4qTDvZ9x0Wtm6IVnuv49xMuxX+nK/8+0srfX98pQ7b599fZ3c9X0j1R8mvJpfg5Cy/LuO4xXefFfc40H/K396VRjWVoWZ32mnClQ9q0dUl7LbnKQC6llZ2S5xPFdV/ek6T8HsxfLNeycGnzMxf39ZIuP0ufl0eXKUv7roSfF9exu5alP7500qWRuw4iv077KkfeAwAIU1VXV1c4crzDNddcI7W1taZ1rrbg1Za9J06ckKNHj8q+ffvMvEmTJsmMGTPM5w8fthVpn/60rVTZsWOH7Nmzx0yPHz9eRo8eLcOHD5chucLtgAEDzN9v3brVrCuukydLf6ocALo6c+a0NwX0HPo07NO5Qtf6Rcs6n86387TCuzwtsQAAQN9x31M/NeNzP/aVRwqCwkhCK7ofkKr/Lf6wUW/GtQRkwZW/ZJH3kJ+F67vnhToIALg0/vwR/wFokf/59t3JAr0jR46UqVOnmi6YBw4cKP362ScxL1y4IDt37pRdu3aZ93PmzJGxY8d2LtcxeLWr5i1btpj3GuSdNWuWWYfS5WfPnpXjx4/LO++8I8eOHTPz49BxfQGg3DRPA3oaban3r385SH4SKGTZLilPFMwDAABwsfcUk00X7QTmStW3AyNcS0CWCPRWhr57XqiDAIBLo6RAb1ca9J0yZYpUVVWZIG8wMKKB3jFjxpgg7qFDh+SDDz7wlohMmDBBZs6caQLB+nca3E2LFr0AskCLXvRU2lqicGywfRSwAABIRMdY/7xcnSvnhjnX/KuC7s4BNwIjALJCoLcy9O3zQh0EAHS/sgV6hw4dalruauteDeI2NDR4S+LJbdd0BX3y5El5++23zf9pEOgFkAUCvQAAAAAAAAAAoJJ0DfTavpVT0Ja8Or5ue3t7Z5fNSsfj1bF3u7ryyitNK1/f7t27pbW1VS6//HKZPHmyNxcAAAAAAAAAAAAAUEyqQK+2xNWgbUdHhxw8eFCOHDki/fv3l9mzZ8vNN98sc+fOlRtuuMH7tMi0adPMPG0BfOONN8pll11mWvC2tLSYrp11XTU1Nd6nAQAAAAAAAAAAAAAunxo7duzD3nRsbW1tMmrUKBk2bJh56Vi7GtjVlrw6rWP2njt3Tvbv328+P2nSJNPFs87XFrzjxo0zgeGJEyfKwIED5dixY6aF7/nzyfvuP3PmrDcFAOVz4QJjiQAAAAAAAAAAgMpxxenDcrrpt+Z14MCB9GP0aqD2pptuMl01+z7++GMzXq+2ztUunV977TUTvL3ttttMQHjv3r3m8xrs9enn33zzzVRBXsUYvQCywBi9AAAAAAAAAACgkqUeo1cDs42NjXL48GG5cOGCNDc3y6uvvipHjx417wcMGGDG5dWWv4MGDTLzPvzwQ9m4caM0NTWZFr+lBnmLqv07Wfn41+XWId57AAAAAAAAAAAAAOgFUrfo9el4uxrU1TF31dChQ814vPq/H8DV1r/a2nfz5s3mf6V/p8HeUoO87ha9Q+TWf1gpSyY2yaqHnpbX273ZDg8+t0Zqh3lvAppfWiQ7pq+ROyY0S/3CFbJ6/nL54X21Uq0L36uXhd/8kfmcyLzcOr5m1+HNX/yY/p1darRulaeXNsgt+jnR6SekwVsk3nplyzPy90815P82uI0lK2Xt7TVmn77VHNgPj5m/ynsDIBVa9AIAAAAAAAAAgEqWukWv79SpU51BXqWBXJ2nNMCrL6Xz/CCv0veZteTt1C6vf2+FrNp7nfzNd5bGatn7+NJFsnDhIql/T99pUNe+dwZOJ0yXxd6kzJ8nk0MCxcF1LQwGduOa8Bl5cL43HaJtyzN23cX2FQAAAAAAAAAAAECPV3KgN8ymTZtk3bp1BS+dd2nYYO+Pm+IHe5Noa23L/Vsj05fY9/NunCzVuXk6t3xy62utltoly2WeNwcAAAAAAAAAAABA35VJoLfytMvrzz7cGey92ZtbFrt2S3Puv5rpd+X+nSe3TKmWtty8I2ZhUI3csXaNrNXXY/rZJI7IxlVbpW1YrXxlWXiot7rua3bda593tvwFAAAAAAAAAAAA0PP1kUBvQL+B3kS5NMgO7eZZu2823Ta3ye43W+yiAoGumzvH801g0xOyMbed6rovy4OjvXkB+a6b75HHL1XjaQAAAAAAAAAAAADdoo8EeofIrV99WJZMPSQ/fuhpecObWy6rd5g2vfKZJdpt8275dUaB1tXfrJdmqZbauhpvDgAAAAAAAAAAAIC+qA8EevNB3lUr/k1eb/dml9OqetnaKlI9TLttbpAGb3b5/Ui+9ZIGlQEAAAAAAAAAAAD0Zb080NsNQV6jQX69qy33v3bbHBXmDYzRu3alLPbmyrBa+bo//7nlEj4Cb8CqFVKvXUV3kR+jd438MGIcXwAAAAAAAAAAAAC9Q1VdXV2HN90jnTzZ6k2FqFsqT95VLf/9UJZBXgC90Zkzp70pAAAAAAAAAACAytO7A70AkBKBXgAAAAAAAAAAUMn6wBi9AAAAAAAAAAAAANC7EOgFAAAAAAAAAAAAgB6GQC8AAAAAAAAAAAAA9DAEegEAAAAAAAAAAACgh6ma//CXO7zpS+rU6aXeFAAAAAAAAAAAAADAhRa9AAAAAAAAAAAAANDDEOgFAAAAAAAAAAAAgB6GQC8AAAAAAAAAAAAA9Cgi/w/orJqKGkphfwAAAABJRU5ErkJggg==)"
      ],
      "metadata": {
        "id": "e_PKjtiiD0sX"
      }
    },
    {
      "cell_type": "markdown",
      "source": [
        "Podemos ejecutar la aplicacion en el entorno local mediante el comando:\n",
        "\n",
        "```streamlit run app.py```"
      ],
      "metadata": {
        "id": "mG4ICjMPE9gz"
      }
    },
    {
      "cell_type": "markdown",
      "source": [
        "Obtenemos algunas frases para probarlas en nuestro aplicativo:"
      ],
      "metadata": {
        "id": "pLRalxOmFTun"
      }
    },
    {
      "cell_type": "code",
      "source": [
        "unique_sentiments = data['Sentiment'].unique()\n",
        "\n",
        "# Definir el número máximo de ejemplos que deseas mostrar\n",
        "max_examples = 5\n",
        "examples_shown = 0\n",
        "\n",
        "for sentiment in unique_sentiments:\n",
        "    # Iterar a través de las filas con el valor de sentimiento específico\n",
        "    for _, row in data[data['Sentiment'] == sentiment].iterrows():\n",
        "        print(\"Sentiment:\", sentiment)\n",
        "        print(\"Sentence:\", row['Sentence'])\n",
        "        print()\n",
        "        examples_shown += 1\n",
        "        if examples_shown >= max_examples:\n",
        "            break  # Salir del bucle cuando se muestran los ejemplos deseados\n",
        "    if examples_shown >= max_examples:\n",
        "        break  # Salir del bucle externo cuando se muestran los ejemplos deseados\n"
      ],
      "metadata": {
        "colab": {
          "base_uri": "https://localhost:8080/"
        },
        "id": "Z2cvNdkqCeqR",
        "outputId": "7725cda7-3ffd-4ede-e6a3-c97be2e3bcfd"
      },
      "execution_count": null,
      "outputs": [
        {
          "output_type": "stream",
          "name": "stdout",
          "text": [
            "Sentiment: 2\n",
            "Sentence: The GeoSolutions technology will leverage Benefon 's GPS solutions by providing Location Based Search Technology , a Communities Platform , location relevant multimedia content and a new and powerful commercial model .\n",
            "\n",
            "Sentiment: 2\n",
            "Sentence: For the last quarter of 2010 , Componenta 's net sales doubled to EUR131m from EUR76m for the same period a year earlier , while it moved to a zero pre-tax profit from a pre-tax loss of EUR7m .\n",
            "\n",
            "Sentiment: 2\n",
            "Sentence: $SPY wouldn't be surprised to see a green close\n",
            "\n",
            "Sentiment: 2\n",
            "Sentence: Kone 's net sales rose by some 14 % year-on-year in the first nine months of 2008 .\n",
            "\n",
            "Sentiment: 2\n",
            "Sentence: Circulation revenue has increased by 5 % in Finland and 4 % in Sweden in 2008 .\n",
            "\n"
          ]
        }
      ]
    },
    {
      "cell_type": "markdown",
      "source": [
        "Ponemos el texto, y con el boton de clasificar obtenemos la clasificación que nos da el modelo entrenado:"
      ],
      "metadata": {
        "id": "F0udr6WOFY-h"
      }
    },
    {
      "cell_type": "markdown",
      "source": [
        "![image.png](data:image/png;base64,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)"
      ],
      "metadata": {
        "id": "zQ9rkUJmDNrI"
      }
    },
    {
      "cell_type": "markdown",
      "metadata": {
        "id": "Ufhs5kSKZkL7"
      },
      "source": [
        "##**7. Despliegue en  Streamlit cloud**"
      ]
    },
    {
      "cell_type": "markdown",
      "source": [
        "Para realizar el despligue es indispensable que el código esté versionado en github, como algunos archivos del modelo superan los 100MB que permite git es posible que requiera usar  Git LFS (Git Large File Storage) para poder subirlos al repositorio. También es importante que la estructura del repositorio sea similar a:\n",
        "\n",
        "```\n",
        "tu-repositorio/\n",
        "├── tu_app.py\n",
        "└── requirements.txt\n",
        "```"
      ],
      "metadata": {
        "id": "SJR5b96PZkEo"
      }
    },
    {
      "cell_type": "markdown",
      "source": [
        "1. Accdeder a: https://streamlit.io/cloud, aqui se puede vincular la cuenta de github en donde se tiene el código de la aplicación\n",
        "\n",
        "2. Dar clic en **New app**\n",
        "\n",
        "![image.png](data:image/png;base64,iVBORw0KGgoAAAANSUhEUgAABxwAAAG3CAYAAACOmiCOAAAAAXNSR0IArs4c6QAAAARnQU1BAACxjwv8YQUAAAAJcEhZcwAADsMAAA7DAcdvqGQAAABjaVRYdFNuaXBNZXRhZGF0YQAAAAAAeyJjbGlwUG9pbnRzIjpbeyJ4IjowLCJ5IjowfSx7IngiOjE4MjAsInkiOjB9LHsieCI6MTgyMCwieSI6NDM5fSx7IngiOjAsInkiOjQzOX1dfbmp5IgAALhRSURBVHhe7N0HfBRl/sfxb+omgQQCCQQIIASQIAqISpEiCBaKHoiKenpiO9upZ8HzbGc7u6eeqH8V8SyIBdRDUCkiyGFAERQkCAQEEwgECAQSsqn/Z2Zn08smJBDg8+Y1TNud7Mw880z5zfM8fl3HTioUAAAAAAAAAAAAgKNeYUGeCnIPKN90uZk7lefe78zx6Oja4AyVVlBQoLy8PH05/xtnSjF/pw8AAAAAAAAAAADgKOfnH6gAV7iCG7dQo5bxCmnaVn5+fs5cHxRaZRlNV6JPwBEAAAAAAAAAAAA4JvnJFdFKjWNOUEBwmDOtGnZw0nQl+gQcAQAAAAAAAAAAgGOYf1CYgsKaO2PV8JZstDurRwlHAAAAAAAAAAAA4JjniojxrZSjt2Sj3Vk9SjgCAAAAAAAAAAAAkJ/drmO1KmjD0a/r2ElOeceDla/C3EwV5mRJBbkqKMw3f8Dq6mjxAAAAAAAAAAAAh4pVissvQP6mk3+Q/IIamS7MngYcrfLd+9Riz0xnrLSCggLl5eXpy/nfOFOKHXQJx8K8bOVnblXenk2mv0MFuftVkO82fzWPYCMAAAAAAAAAADgyWTGOgjw75mHFPvKztitv7yYVZG61YyPA0cg/MMQZqkJR/K+4X+uAY2G+FWhMUf7+ZBXmZjlTAQAAAAAAAAAAjl4FuVl2bMSKkVixEuBo4hcQ5AxVwW7D0R4o6tcq4FiYl6mC/eZAyj3gTAEAAAAAAAAAADh2WDGS/H1WrGS/MwU4RtglHE1Xol/jgGOhe6/y96ea73qLSQIAAAAAAAAAAByLCpWfuV0F7r3OOHAMsEs4Wm2cFvdrFHC0Dpj8A2lmqOJgo5+fv/yDwxXQqJUCI9opsElHT2eGrWnWPOszAAAAAAAAAAAAR4dCFRxIU2EOQUccI7wlG73xwpqUcCzMO6CCbCvYWJ6ff4ACQqMU0KSD/MNayi+okeQfbM3wdGbYmmbNsz5jfdb6DgAAAAAAAAAAwNGg4MBOKS/LGQOOYt6Sjd42HH0u4ViQq/ysbUWBypL8gxopILy9/FxNzZiz4Cr52Z+1vmN9FwAAAAAAAAAA4EhnNUWXl5lqx1QOpWYRoWrRjHhLfejaxqX+HfM06Lg9uv+S9rqiT67GnBKs4b2aqkvrYOdTxyBvCccSfZ8CjvlZO8wBUuCMFfMPaSb/Rq1kl2KsKav6Vaua1ZBIZwIAAAAAAAAAAMChERIcaHd1qrDAaZru0LhweDd9++aVWvDaFbrIDKNuBBVmKj7wR7UtWKJmBet0/pkny1WYpbYtm2j86D4655RI3XJBV91+YZxaNg9zvnUMqaANR7+uYydVUG6xWGF+tvL3JTtjxaz2GK0qUutCQdYOFeRkOGMAAAAAAAAAAKA+dOvcRuNH9lPfnp3UuqWnQFBK6m4lrNygaZ9/p8Skrfa0uhIaEqR2LSOcsYr9unmX3W8UGqzYFuFKSdun/Vk59rT6NPTUDnapxAU//OZMqSt+CgyPlQJcznjdOalzy6IgaWCgv165Z4SCgzxN2OXk5uuGx2crL6+4ANnazTuVsd/tjB28zB1r7X6jFl3tfl1oGh6iLu2aO2O+Wbdll/bsy3bG6lbj3CS1D/pVXTt1UdPmzdWqdVtFR0crbfs2xXc/UTt375DLFajwUJe2/7ZcQYGBen9ZmJb8emhLttan5tunOkOlFRQUmPSVpy/nLXCCjVaI0dOvNuCYn7lNhbmZzpiHX2CoAhq3toY8Ew5aofN3qNsYAAAAAAAAAIC6FuIK0v03j9FFI/o6Uyr2/swleuzlz+TOOfjgib+/n+69epBiW1QdcPzzYzPt/glxLXTL+D6a9OEy/bx+uz2tPj1605l2/75J8+1+XfKzmqOzaoisI4EB/nrvsbE6qXMLZ4pvrGDuBXd+qPyCKkNBPtu7ZZndb9LuNLt/sALMev33XxerY5ua1YaZlJyu82//QPn55WvnPBinxvkrb+tX2pO6WyNGj1D8CV3108o1CvDz08DBgxXTurVStmzS71u2a2vKNkWE5Ssk0K1FC5fpp/1dtNPvOGdJ9SumeWPNeOYiFZp/fzDbIS29buNr1QYc53/jTClWdcCxsFD5GRvtCH9J1kFiHSxlHd++ufqdFKuFP27WppQ9zlTfWEFNK+gIAAAAAAAAAADqjhVsnPz4tTqtRycV5ORo9+wZ2rdonnJTtqiwoFDBrWPVeNAwNR99ofyDg5Wwcr2uueeNgw46RjcNs4N6G5PTtWbTDmdqeTMXrbP7hzLgeGKnFrr54j728IvTluqXpMp/X234+fkpMKKDCmvTJF0FrIDcrBcv0U/rtmvxyi3O1KoN7NXOLhF59k3vaUvqXmfqwanrgGO7mCb6atJlVa7Xuad3qjAgec7N72nztrpZL0vT0AK9fOuJ2rwpSZ9+9pXGXzRaMS2ba97879SkSVONGz9O5vDRQw+/pB9WrFL6ngz5B4WrZYvmOj62sbJ2btKvocOVqfpvT/PK0T1095Wn28OPTf5W785eZQ/XFd9KOJoJxQUcq27DsTAvs1yw0c8/oMJg43mDu+iTZy+2V/Dz5y+xiyLXhLVMP/+DqSv5DL392XP64i5nFOVc/exjWj/lYs/IuBu0fP5jenucZ7RKNflsWccN0r03DVKcM1qONX/iWI0/NEF/AAAAAAAAADjmWCUbrWBj7s7t+u2Oa7Xr7f9Tzm9JKszNlfLzlPP7b9r93hv6/dG/2Z/v27Oz/n7DefbwwbCq/LRs3JpuBxUr6w6HIad2VEFhod3VNJ7hCyu2UpB3wBk7eAEBnhonf1qXqpc++N6nbuU6T9DWW+VqQxTkpJGq1quyAm5BgXW3XoWFBbp2WFPlZu3Vju1pahHdQsfFxqpxo6YKDQlRXFwHpael6b6/P6qfEr7TnX/6g/5yybka1+84hWanaMkPv6h9p7a6pLvVfmfl5fzqylffJWnPfrfS9mRpTsJGZ+ohZFenaroS/aoDjmWqUrX4BTV2hkr78wW99c0Pv6n/hDe1OilNE87raU//adqflTj9xlLdt5OvtOeVVVEg84hmB+ru1j+d0Qbl41fU+8x7dcXHntFSwciyyny2JoYOaC39tllJzng5vy3SY0/N0LS6riIbAAAAAAAAAGC32WhVo2qVbNzyjzvtUo1+QUFqev54xT78vGIffVFN/3CJAlu0Usyf/+p8S7r0vNMVH2c1rVZ7ReWZyhRsKqt9q6bqeXyMM+bRo3NLxXeIdsbqVnRkmE7oGK0Va1PtknXWsDWtrhXm1X0zcqGuIGfId2ULlqG8yJADCsnfrrWJ67Q7PVN5KtSvv23WhqRflbItVRkZe/TGpNf145JFeuS683RC+zYaesrJuuKCkfrnbX9SpCtfy3/+Rb27NFLbpnnOUuvPtp371e9PkzXo6re0Y3f5WF69s9OUt7N6hdUEHPPLNyRaWcBx7z632rduouPbR6l1dGOl7/NE7n9I3Kbvf9laqlv5a8VFoY+6gOMxr6e6tk7Xd7M2O+MAAAAAAAAAgENp/Mh+dv/A2v+oMGOr1bCi2jz4jFr+6c9q1L2HGnU7US2vuE5xL78rV5u29me9LhpZdXuPdeXK0T117Zje6npclD1uxRmuu+AUjRzQ2R6vrVBXoC4+q7u97Nv/2F8PXDtYT992lh6+Yag9f8EPm7Tg+4129afWNGue9Rnrs9Z3Lj7rBHsZtVZBjOVgXTi8m/40uocz5pv6CKYebVpHSK5glzL3ZetAVqbc2dnamLhG61avVsbevdqbtk2/pWzT8ce1U+MmzZSWtl170tO0ftPvKgiO0NC+PfTDqm3avtOlRvkZzlKPYt6SjXZn9fyqbsMxf+8mFRbmO2MegU06mi+Wj1NaDZW++vdRiowI0fZdmZrw0Gc1bsdRhQXK21t90U+rNN7feoY6Y9v10ZlP6u92larnKXrxUumcPupkzzug714pXYqv+HvShi9v17lPW0POdzesV4uenRWxf72eOP8VTdbF+mK+d1lSxsr/qvcd5RvCtEsy3mC+54zay9XdWn9OS2eKsWWpOk/YXvO/c1fp5ZScZ69Ps5/1kfrownbWFM+2SCqxnhV9vvOED8yY9TdPUprZPskjn3O+71G8XbyKP1vZtqxw2/Q9W0902q6/vbvSHh36x/E6y/tCTOZWvT5pkZLUUzdO7KjdHxaXcowbOVbXnhDsGdm6VnPUVf3Sv9NjVuDSWmbvA5rzW5TOKvGZkn+j6LO20su3lx25Ua+ndyz1N7zfBwAAAAAAAICjyZy3/qYObVso84eLlLMjTXn7TlX0xU85c6u2YXOqzr3Kt89WpFVUY/3jz0M0b9lGfTT3F2dqeVZAbOKfBiiikcuZIiXvyNAz7yzRgeyDa0fSaqvRCh66gj2BQ6ttyIxMt3buydIX/1tvT/vDGV11XOum5veGq2l4iD3NnZuv/5v+w0G17Wg1IxcQUTftiVnxHatNxmduG25XJTrg6inKPFD1trnnqgG6YuRJ9vArH/+gF9/3tL94MOq6Dce42Eh9/sIlevvzn/T4lP85U0t76e5zdeZp5au9HX3bNG34fbczdnDiXavUOmy7UrdmKLhxuAIDApS7Y5uyMzPVqG2sQvfvUdLOA+rarr0CCwqV585Un5O66fOFy9TntFPVuUsHPTf5Y03485XantdMb32d6iy5/lx6Tne7fOH7X672TKhDdd+GY2GBM1SCHbUs7+f1OzT42rc07q6PdOb1b9c82GipZNmljLtBN/bM0Edn3q7OVvdl6bo4O51znFY48z7aEqp+l9+gq+05Z2hws2Q94cx7YuUBdRrgnefRqZP0sjW/RBBQXzp/58yl2tFzeAXtGJ6hty/vrB0lPrfCmvz0k+r8ynpl2EFAM90O8nnU5O/8s5tKrOt2RfTsU7qK1nZ91GuNZ/5HW1rqwvnP6UbNrfzzFfj7BM/2sIOi5nulg43leYKNJfaB/ZvPK9N+ZnuN7x2pLRucQF7fs3VWk616/alp+pvpXl9ecYTfDgget7Poc3/b0LI4SOnVqLX6abln/odbta91V91YkxdtzOfHe7//1Hda2aSr7h3Z3pkJAAAAAAAAAEeP1i0j7X5B5m4FhPkrcvjZ9rjXuEd3lev++aHn+W1sTHO7X9/S0rP01H8W24FAy9a0fXru3e8OOthoWbVhh578z/+0LyvHHi8oKNS0r1YVBRstn36zVs9PTdDilVvs6ket3/HkW4sPKthoKSwoXaDrYFg1WC76cYv+/cH3CnEFqt9JpUujVueGcaeoeZPiQkQoLbJJvkIahyq8ZYT27ElX1oEDyvcvkF/TcO3dl6XEzSkqyMnW6b176Owzh2j4WedpwPDzNeGKKzR6xCid0PVEXTS8v3Zt/VX7t9Z9ALCsc/rH6f5rB+kB01UUjK133hKOJfpVBhx9CgCWkJtXoF82pinfHLBlBfj7qVuHqKIGQCvkcz3CEYr1Bv6e/kB/dwYtG760Sjt6/H3WemU0jlCcPfaNrphgBfg8Jn+XXGKex4bFxfN113HqtH+9Pi4Kvn2gj1dKJ/Q7wxkvrUWMd7r5PdUE7Gryd/4+oXh99PRv2lBy3S1blhYFCP++xqqqdru+8pY0rOjzB+0MDe4UWmo7e37zAXXqVqINyOPam227VV8lOOOWRqHyhvWSElZW0K5je516XLC2LLdKPjoSvtKcrc6wV+ZWTfOWYPxtkb4z8yOb1yBguHVtiRKQmzVtebrC7d8LAAAAAAAAAEcp7+N3H57D59ZRE3RFf8qHv2kHHd9arPVbdum5975TWEiQjm/fXMFBAc4nai9lR4b++ea3St21324r8q+X9bdjFl7+fn66ZXwfjRrYxW4b75+TF9nfOWg1jLHUhKsW28WqOhYV82scruywJnLFtFFs5zYKbtpYbfqdonb9eqvlSXHqNqi32rWNkV9BgWKbxyi00K3tv2+RqyBXmXvS5c7JUUTLKOXl5mtj2kFUw+ujkvuyZFo+ZIoP7qJ+lQFHq7hvObWIyFtFkee8/EdNf+YiffP6n+zqVytU6EMu9vEr6v1Ksk644Tmtn/9cmVJ11bCqJzXfsbsSVaBW5OoYM7dxZ/3N+3nTWVWIRjQrUU2q7Rtdcf5/9Uun8zyfm1Ii6OaDav+OVV1r0bzialcrtClDGfszKgjk1aWWim58QGmbnFHH5FST+TZrVlRiNO6EKOm3zaUCh39bJJ01cbyemDhW4yssRR6pZo1ytLv+SxqXlnpA+5xBAAAAAAAAADiapKR6qpzMdjXW/kI/zU3+1R73+vi+5kVd326eZqiim3hCB79v22X3a6soJuJjoCttT5Zdjeq+TLeGnHKc3ZZi8yZ10/7g7r1ZeuKtxdqflaPWUY1LFZwqKCxU+1ZN7b/7xJRvlb4v25lzcCqMsdSStQkHndxOf7n4VHv8hzVlS+pU7dXpy+1qZFGx3fuCtGtXluncyvJvqrzQMP2y6Xdt+f13ZeVkydWmjZr17qbEXRu15OtPtWrFD1q/bq2Sft+mpYu+0C6TdlKzCuUXGKDjOrZxllp/vvjfBj06+Vs9+H8LNSeh+qYK61zxwV3Ur6aEY/kIeWEljZxO+tu5evvhP5Tq3nhgtD3vr5f2sYsp3/rMV9qxO1P3TBhgTy+rMN/H4tFW0NGpylPn+Bh0tIKNAzKKqlT1VHdaOTuA5lQxWqorUTVqMSvo6JlvtadYk6BjlX/HbhsyQl8VTV+qDc73Dp/tStsfquiKSuju3u2U3Oyps0+Qkn7xliJ0WEFHuxrUnYq7qLKgY7CaxTiDtvZq0cQZrC8xoQp3BgEAAAAAAADgaJKw0vNUOaXpmXpgR5TeW/u9Vu9ItKeVtGFbnr5f66l29OQ4T+AxYUVxtaNHhcJCu+RkUkq6XSrs7H6d7M4atqY1CvOsd52pIMZSW53aNtP/3TtK4Y1cmvTh99q+O9OZU70J//ivXpi61BlDRbbvzlNWZqZ2pP6uDWvXaf2adTqQtc+M79L6nzfo5xU/KHnnb9oaGKaQ9l0U3jhM/gpWTExLtYhtpfT9boXG9NTmtALt2uc5jurbe7NX6cM5lbeNWq/sEo6mK9GvuoRjYHEDrV6FeQecodJO7tpKp57QunTXzdP4XlRkmB05n7d0o133clTTit9IKMzzIbp+190lAoxW8MsZrIZdkrAoIGbG+8VWWcLRro60XZ9Kgpln6O3PntPyZ61qTy/WFyUCjEm7K94+larq73SIUETJEotW9avOYL2zS4PeXUH7j99o4YYD6nROyXlmG5zTUhvWOMHYvi3VbutGTSvRvGbcyLOLA4y/ZSjdGSxtpdZuldr1HlRcvWnfrurZyBn2web0nFLVow79Y1e1c4aLtO5YItjZUzcOiixdjSsAAAAAAAAAHCWmff6d3T+hy/UKD++g/IJ8Pbngab214n2t2r5Gq3es1bRVM/T43DeVX5iv41oFqM/xnsDbB7NLtplVc+5cT42JHVs31ehBXWrUdWjjaXsyL6/u2kGMi20mf38/uzrKf/x5iMYOjbc7azjQTLeqVu0Y6/m7daGiGMvB+nDuGr30wffOmG/S0n0PTh6rcgoaKTI8QvHtO6jnCV3VtX07RRQGyC8rT40bhalV09bakxImv+zjlNeii9Kz9ysoMFd52XuUWRCq/YpQs+Zt9OWiTUrccvBtjzZ4dglH05XoVxlw9A8sHxisLCjY78o3FX/By6W6HuP/z573kTkATuzcUr98dIOGntpBU7+suMHMwlwfAo6bMtTiHG8Vo+fphA3/LWrDsCqT7/jZDux5qy29sVlGlSUcrXYJz31lfYm/ZXWP6e1y7SFuV1qz4uX+rVOynvCWgvz4FX21paUutOZVWuqxir/z9FJ9pxLVrXZTvZVwLLl9qisxOvmOe/XEygjPetldH+nL24v2w9BOkdqyYaVnxJG0S+p5kVWdqtV1lRbNKBWQ9Pr63e+0Uq11rf0503XaXr4NxyokzVpe6vtdN6zVFmdeka07pZHFvyXyl+/08sGdNwEAAAAAAACgQUpM2qr3Zy5RUECQ7j3jLrVqEqu8glx9tXa2/vn143ps/mP6bPUnygr6Vm3i39fEcRF2DOHdTxfr143bnKXUzu69B/TF/9arTcsmGjXw+Bp1HdtEanniVu3KqGEhnyp0btfM7p/QMVqREaH2b5uTkKTmTcN0QpynKbhObZvb/bpQUYzlYGW7ax7Mou3G6rn9W+qkE4fpxE5x6tqiuYb2PlmDT+qtswcM0rmnDdKlF9+plN+ypNx9imzZ2q5CdevGnzVn7hfapBbqePIwhYU2UmBwiHZnV125aF2Iad5YS6Zcpf9NmaDoyLpPZ9Xylmz0tuFoxv26jp3kjFUsb49V7qv0RwIat5ZfDQ+UuNhIDTq5vRJWJStx005narHC3EzlZx5c5oUG4LhBuveiUH331Ff62pl0cNpr/E391Gz5tDoJCsaNHKtrIzfqb++WDogCAAAAAAAAwNHKFRykNx6/Rn17dlZuQa6+WD9fi3/7n7btTbEf/7eIiFGftqfpvK7nKiTQZVelevU9rysnN89ZQt2JaOTS07ed5YyVdufzc+x2FOvL3X8aYJdgXPnrNn08f43S0j2FoKyAzUXDT9BJnWO0bvMuPfvuEnv6QfHzV2ATq22yugn2dWjdVLP/fal+Wrddi1eWK2ZToYG92pl1aqlzbn5Pm7ftdaYenL1bltn9Ju1Os/sHq11ME3016bIq1+vc0zvZAeiy6nK9LI2DsjWiY6rCQ0LsIK2/X4F27tyhE3qfoZyQTrrxmkv0xFNP66yhw/Tmu/+n+YvmKd2/ibJ2btdjt/9VXXsO1XX3v6qCoBpU21hLV47uobuvPN0efmzyt3p39ip7uK403z7VGSqtoKBAeXl5+nL+N86UYtUGHPMzt5YreegXEKyA8LbWkGfCQStUfsZmFRbUfeaFQ8sK6I3Xcj02q0z7jbVkBwhPyNScOgpgEnAEAAAAAAAAcCyygo733ni+Lhnd35lSMatk4+Ov/rdego2WwxVwDAzw19+vGqhpX63Wui27nKmldT0uyg48PvrGIhXYJbhqzy+okQIatXLGDp71+z944gJ16xjtTPHNqg07dMnfZyg/v8CZcnDqOuAYYNbroyfHKb5DlDPFN2s2pumiv02vs/Xy6hKZoUEdspV74IBcIS5zHLg18Lxr9NVX3+mzT97XxzP+q/c/+UQfLlmi4JZttD91mwL2ZejGUUO1fGuwEhJ3OEuqX62iGmvGsxcrNy9f4+76SDtq0KanL6oNOM5b4AkRWoeJ06824KiCHOVllI8q+wdHyD/MU8T4YBVkbTd/Zp8zhmOZJ8BYsmHe9DoLNloIOAIAAAAAAAA4lsXHtdZFI/uqb89Oio3xVB/6+7ZddqlGq83Gg61GtTpW4MyqEbEiG37frfyCgwv0VSY4KEB5+QUqqGb5VjuOVjuP1mdrz0+BEW2tQIozXndO6txCIcFBzljVsnNy9fP6ug2AZe5Ya/cbtehq9+uCVePriZ1amvUKdKZULTsnT6s2bPfU6lkPTunUSOf0DFfTxqEmLfirbfwgvfefKWoU6lJ03PF67r+fK8r0g/wL9Pv3P6hJVCt1bdlNK+p4Wx9O9VLC0VJZQNA/pJndHYyC7N12BwAAAAAAAAAAcKTzd0XIP7RuCmzh8GgeHqw/DY1V17jWCmnSVr9v/k0RYY30zy/nyR3qUliTptr+048qyA9TfnZTqaCuagRtGHwr4Vi6iKNPAUcVFih/35YKqzz1D2ok/7CWZnk1bATTLNMOZObWbTFPAAAAAAAAAACAw8EvIEiBjWNV6BfgTMGRrGVkqDq3i1HH6DA1burSez//ogC/UO3dskNWa4T+fnVfirUhqLcSjrYCt/L3JauwgjKqfv6B8g+Ntusk9kVhbqYKDqTRZiMAAAAAAAAAADgq+Pn5KaBxWyng6AxC4dhRmzYcfS+W6O+Sf2jFjXZagcP8zG3K359iV49amJdl/mqOXYrR7gpy7WnWPOsz1mcJNgIAAAAAAAAAgKOFHUMh2IhjgV2dqulK9GtUD6pfcBMFhEVbQ54JZRTmHXCCiluVl7FFeXs3erqMzfY0TzDygPNpAAAAAAAAAACAI52fAsJa2jEU4Jhg14bq7axeYc0CjhY76Ni4teRf468CAAAAAAAAAAAcNfz8AhQY3lp+weHOFOAY4C3Z6C2gWNMSjl5+gaEKCm8v/+CIomUBAAAAAAAAAAAcE/yslugiFBDRXgoIdSYCxwhvCccS/VoXUyz0C5B/WAsFhreTX1CYMxUAAAAAAAAAAODoZcVErNiIf2gLM0JtkDgGHWwbjhXyD1ZAo9YKbNLBrqPYP6ix/ANcZnqg84cAAAAAAAAAAACOMFaMwz/QjnlYsY+ARi0U2LSjHROxYiPAMcsu2WgPFPX9uo6d5B0DAAAAAAAAAAAAcAxrvn2qM1RaQUGB8vLy9OX8b5wpxSjrCwAAAAAAAAAAAMA3ddmGIwAAAAAAAAAAAIBjTL204QgAAAAAAAAAAADg2OAt2ehtw5ESjgAAAAAAAAAAAAB85i3ZaHdWjxKOAAAAAAAAAAAAAHxFG44AAAAAAAAAAAAAao02HAEAAAAAAAAAAADUml2y0R4o6hNwBAAAAAAAAAAAAOAbu2SjPVDUJ+AIAAAAAAAAAAAAwDe04QgAAAAAAAAAAACg1mjDEQAAAAAAAAAAAECteUs2ettwNON+XcdOcsYavm4donTR8G46rXsbtY4Ot6elpO3TstUp+mDOGq39bac9DaXt3ZygnMydys3cpbzsvQoN2q/YVgWKifJXq5gg5bjzlbYrX9t2Fmhrqr+y8xorMDRSwY2iFdQoSk3aneosCTg4Af4BahIZpYDgQO3ZlabcnBxnDgAAxxa/QJdi27ZRnlw6kF2gggKpaUSgurcJ0PcrNyhtT5bzSaD2TtgTrYicYGesZvYGubUmkvsr1IxfoFuBETvkF3zAmSIV5oQqL6OFCvNczhQA9a1JhNSrp0tRUeY+PEDy9/NTvrnYKCwskL+/vxn3N8OF9uPB/PxCpaX5acXPOcrYe8Q8IgSAY4Z7z+8mvy5USNN2zhTg0Gi+faozVFqBuabIy8vTl/O/caYUOyICjiHBgbr36gEaN6ybM6ViH3y1Wo+/9T+5c/KdKbCsnXGToqMCdcOfO+mUU6LUrWuEopq5FNHcpX+/sFZDhsao2wlNtD89R2m73Epcl6Hvl+3Uy6+u167d+TJpxFkSUDsB5mame9MY7ZW/Qlu3lqtJmPyCpNTk35S6aYsKraesAHCE6ntirN1PWJVs94Gq+Skqpq0yc1xq3ixEQ05uoXbRIfaDv227s3XuKS0V16qR3vj0R0368HvPC4NALfXb0cYZqp3vWqQ4Q0D17GBjs9/l51/+2r6wwF95u9sSdAQOgYgIacgZLjVtGqLsA9ny8/OTO9etRq5QhQa7tD87S9m5OQr0D5C/6az5rlCX9ux2a8FCtzIyuPgAgIZk75Zldr9Ju9Ps/sFo1yJErsDSlV5u2JbFfScqVG3Acd4C6xGHp4Cj02/wAUcr2PjafSN16gltVJCTo92zZ2jfonnKTbGCFIUKbh2rxoOGqfnoC+UfHKylq5P158dmEXQsYe2MmzXg9Eh9u/hsFeYXqtDtuQHcvjtHJ/eeqfHjj9O/XjhN7vQ8BYeaDCfIT34Bfho0cI6+/V+6uo75t/15oDY6R7TQWa27aNOurfrZnanwtu0V0jRMgWGBpgtSTl62fvs5Ubt+T3W+AdQ371kQODhB5iL9pov6and+e2Wk/ab2LQv18kfLlJvHSxSojJ8iY45TgVy6ZVxnjT+jrfyryI5m/S9Jd/3rK27+UGsEHHEoBUVvMveRuc5YeYX5QcpN6+CMAYfCsXndP2hgkDp0DNOBzGwFmAsNK9h4Sqfu6t2pi/YfOGCuVfP08+YN2rUvQ3sz95l78jwFBQQqpFGINm7M1Lff5jlLAgA0BHURcLTuO++44Dgd1zLUmVJsyZo9em/BNmcMKHZUlnB85IYz7JKNuTu36/eHJtqBxoqEdO+l9g8/Zw9P+2q1HnptkT1cuQiNunKgrh/cRnERgZ5JOW4lzJisCR95Ruvc6PO09MpYpX39skYdwkKDVsCxX58mWjh/uPKyPVVmhEYGav4XWzX5P0navz9Pk9/sp8hGwSrIK1R+QaGCQgN05llWwHGPuo59ybOgCgy6/DzdPzxWsY084xnrVqrPPUvUd/xI3RqXrlceW6Lq9sRhZ++XaK15y+z7mc60akx46GpN7F78dq47I03TJ32kR34wIz366NULo7Tx01l6qlVV+7ynprzdX33TExV/6wJdcNNYjQtYp7teXK2joYyMKyBIZ7ftrs7hUXL5+Slhyxr9mp+riLbtFNKskYLCgxQUFqyA0EAFhARoT2qaVs9bqtzsqqpZHaLPp8crevUS9XlwpTPN5BMv3Khxkcl66or/aooz7VCx00LTjfY+LM3zW+PM0JrZ7+qCyRmeyZZWZt5L1rx0fXzB+7pf8Xrk0XiFfDtPd31V4nOHVIQm/O083XpyhFzZ1W/LvleO1QtnxyjCqqUt3601X80z67jZM/OwKVTHJnvVP3arYiP260BuoFZuj9b321qqoNBfvVtt1ykx2xUelKNtmY20JKW1ft3dzMyr/CHEi6/cqOFBm3XXNbP0uT2lj95/t7d6ZpeY1uMczX2go7lC+0zDn63kwexNlyhxaJgSapDP1B8n73Hy7ZKSanR+itKltwzXrf0inXSQp+Qflmn4U8XHZkV8Ol4b1PaqWIc2TXXr5Wdp2reFysjy196Un9QozF9/HttRr368ROu37HY+6Ysj7JrESfOxmXWc71ZyPo4dP1afn+/SzGdNfmmdZ33WEPLW0ho3ayX/oCZ65faTdXKnps7Uiq3fuk9Pf7RevWML9fzUpc7UihSfb7wytqzTC0/N09Qq7hl9PneWvK6pZPvf+vh1ur5LoMlD3jXpybutS1/nHE72unoKIntkZmnNDz/oPnPNlehMOlrVX8CxfLpT8uHa17VNa/WZR3i2j2qcx1rn1iG6/pRoRTvnaXdmuuZOfl93LfSMNzRNu2fIL6CaRwqFhcrcscMezNsdq4KcMHu4alWlsfaaeG9/XdDdew3iNrMS9cKrS/S5ne9Vni+6ri99H1ekaNnOtV6ouU6/2Zx3ivJRzzLL3odUdyzEDuivRy6LV98Wzt/MSNWU52cobaz1O7Kce4HiZVR/31Am/3bO5xGeT9sy7N8Y6VlmvvneY+Z7PzkzS5xrF51S9bYYdPlITRxafG2SsSNZ09/7Rk8tbgjn1Lq/7j84Deua44Ix5l7bKr1i7sP3Ze3XyXHxOj3+RL238EsFBgTq0kFn2aUbd+zdo8ahYZqzIkHJO3coKChIeXkF+nhGxffkU96+sQ7uIWqu7/WX6NWh4Upe+JUeDRmo+zLN9carzswjgO/PKzx5Qc3PHQCOdnURcGzRNFgPXhanjakHtPb3/c5UcwZr21gdYkL11fKd+m9CmjO1duriPGE/Z+2QVifPGnzPf33RXvc/OUyXdjLXTofgvqehxAl8K+FoXV95X/IqVOnysw2M1WajFWy0SjZu+ceddrDRz1wANT1/vGIffl6xj76opn+4RIEtWinmz391viWNP7u7uh4X5YxVbNBNI/Xo6PaK3rNFr06ea3beUn28zq2Q5s4HjiqF9n4PCPKXf6Cf/P1MAvD308bf9mvw4BbKzcvXj9/vUlCjAPNJkygCzGftz1VzMT7UbMM/mJublFV65EWzDd9bp7R8zw1Lz/gY9eweo772WEV669XXrtaiB3o640eiDM211nvyOiWHROvS8f09k7u0VK8ubdTLXCf6ro36WtssPlbVb5EjY9ud3KKTWjZuLrdJbjnOMwirVLIKTPZj0p+/uQHydwXYwcYA028R11pdBvbwfPAo4s7JU7f4Hir5nLPvxebGvWQh7B5m/3exjpmWzoTDYPBATTg1QmmL52q4fSKuOp11jMjTommfaeyDC/T5tgB1O/s0TXTmHQ5+hQU6s/VvemboIt3Y6yedF5eki7v+qvtPT9A5HTfrllN+1KMDl9jTRsRt0tUnrdbTQxbpvOPWy7+w8hLxK3a4pcgI9WnlTBjdUh2tl8EiIzXYO61XuNm/WUr64UgpBbJR//eqdd4z3RLrgYiTl5nuqS89n6heez3yr7G6f3C4MpIS9cKLi/TqT1mKbhPpzD+6nX9GV13yh1F6/Suz9bKKL6Uyswr03LsbNKxvT/1xxEnO1Oodadcko86NUWx6ltIaRWvQaGdifekxRK+eH6kV02bVMNhoNIS8tQS/gGDlFYZr4qXHFwUb88x5cU9m+Yd6aRlu3Tv5Fz024QRdObqnWjav4K6tDOulL+s4fmR2qtSui66/vLMz5yBZ1zXxbdSn0uua/hoUZ35zep7iuvQudb5rUDJTNcXO68zxtcX81sGD9P4z/Rvu760Hb357vt2VHK6oqwlvurO7d1Y5U48QDSyPsF/+euh8c26NlHuLdW4123Tyci3aJrlKRpMamGqDjRZzX7ntx5pm4h7l01iEJj5ztiacHKa0FcvNfai5BlmcIVd8Tz36tyEa5PmaraJ8ce5HC5zlbbQf3iQvKbls48p25n7MnOMORKrXWN83fEXHQuz552nqLT3Vt1GW5s5YZO6XE7VGkYqvpPkln+4bKlG0Hqa776ONzlQjIFKjL684r6tqW8ReeaFe/EPxtckjM8w9b1CsJphrlkdO8Xz/cKmv636psx555mqt/NcQZ7wGGlh+EhTkbz/bsdpoPLf3AI3pM1BzVi5T26gYjR8wXAm/rtbHS77WjIQFmvfTMo045XSFhYSqoCBfgQGVPwc6+HuI2hkZH6C59yxQYqdhmtLLrUWfOTPq2oUjtejtKzXFp+vbg0gvAHAYBDpV62zclqVZy3YWdS/N3KKUXdk6u3eUJt0UX2H3zDVdNLpPtP39qhyu88QhceVpurSTtHLah/UebCwXJ6jR+ekQK4ofFfcbdMDxouGeNhsPrP2PCjO2Sv7+avPgM2r5pz+rUfceatTtRLW84jrFvfyuXG3a2p/1unBYFdGeHsN0/1BzI7d6iS7465d6YfZ6fb5wue5/8F1dcgS9JeU7P7PvTWfdC5oLTjNkB53T9+YorlOETjoxUgsXb1ehSQ3m2t3zDSuNVBdwjI9QtLkZWzr9W01daLbhjHkadZ/ngHv1wcmKv2SGnrLHKhKh2OYuuQKc0SNSvvZa6z17nlZYL+wGOW+HfvRf9bnoNV3yjmfUNym66+aXFX/Dl04pqqocGduuaaMmyjbpLdskNrfprFu7/Pw87dqZqh1bU8y4uZmxqlUN8XQBpouK80Zwjh5u60Fyh/a6tSiW2kaXHh+htIwsZ9z4aZ6GX/Syhj+73plwGEQEyGX2VPKm9c6bM1Wns6kv/ld3fZaixNWJumvdPustBYU78w6Hno1S9Kfw79TUvUebMppo1saOWro1xn6T+aQWaTqv00azLnnantVIP25voeT9jRWWnamLQpeqT+OKS85bpiSmm60Srk6DPeOjTmimCCvQYrZPx7M90yZ0iJAyd2tpAy15UF6GEpZY5z3TZdtHpicvM92iJM8nqnVhb41uZ72l9pWGm3z/1YWr9cJj/9WU7xrCG+/1JzwsWP+44Ry5XT306ZJck7NVfJ787zdbtSE5QA/dMExNw0OcqZU44q5JOmtUpzAlJy7Vyh0u9erT25leT35aoFGXTNaEz2qRthpC3lpCYEgTNY8M1pjTi0ucffxtikbe8z/t2lccdMxy5+uWl1bqgcvjFR1h8uHgAI0c4EPwMCfLPo6nTt6oNZmSq1H1QUqfWNc1F7ymCyq7rrmyjbrl7NT0eTvljm1T4nzX0OQpzc7rzPF137u6xdwEuzp00X1O/o5actKd3f2w05l4hGhgeYS5gdWt3QNKnFvNNp29VLfc/b5uaaCl/cu65qxhWvLAPUVdSY0jI9WmR0+1HxKltoPCFNbCx5uZsmls6ECN6hCo5IXm3vOppeY+1FyDvPiRLv0qTa7YzrrhQud7lgryxeTVG53luc01nrlWzy6xbGNi92i5f0/U9N/zFBd/WhUv0JZR7lgw+eHwWEVbtQFY+/C91eZ+eYEumLRaKyuJefl031CJovUw3dzVxefMjF3mux3i9cj55YOnlW+LaN03IFqubet0l3NtMvW9ebrg/lVaYwUw/1DP5/5q1Nd1v9RIsS3Mebc2T8kaWn5irlHduTka1K2HmjdurMTkzXIFBqpL67b6ckWC/XzolE7ddMWQEeazhUrZtUPHt2mnnLzcKp8DHfQ9RC3df+u7uitpvUmPkxX/x4/0VH3V+tciQtGNfH3QchDpBQAakOycAv37sy1as2W/1qdkVdi5cwt0zilRatLIqZGpEofrPHFI2OuepQ0fHYp7njJxghqdnw4xu/0X05XoB37+7o2K25Wo+CfS9PTEPhrexvOAOWO1uRh7cLl0Sn9Nubq7+rYwG9WqLu2n5brlseWKvvpCPT0s2qnCJF1TL3pfj1h/pA6d1t15IJMzV83HFyhv36lq1K2CEgP+5c/wfbzfrUDfYTGKVYY+f3Vl5UVSS6634d6RbG5U/uupSqpVd3tbjWrnrRYlXZ9Pm+VUndFeEx8doku7hNkXucmbshTRweWpHszz6SJ2daRnxyrWKi1zIEMLP/tS19dTorUuKIuei1rDBYXKzy9Uu7aN1LVLhN6dtsmebXfez1mJpCqLU5U0IF7Db7lET0+bq7tmF//2UkWWTxmo6TfFq5tTFUvSV4nS2U61M937K/HtdvbnkirZHp5lpWrupggN7x7meUP9vXSz/cwyzGfdOzbqBXMAekpk9dTg5t79kqap3mpOSzH76KGBujQ+omgflVTT/RI7YJh6tTA3bD84b5KWrArQM0WuFiM199329jLdOzbrhYdnaUqpi+QyVUFVmsZ6F1fZ48O2O5ysVh+sgKN1irHi2AfMcbo9e7eZaDrz07Zt3qjOJ3dRh0EnKTA0yG43NDAnyPrqQYrQpbeM1K0DIq0Ymsmf3EpavFTXW0XQvVUI/rhOru5dFBts9v/SZZoa0lMTe5i0ZT67cvaXuuStlHL7IGPDKj3y/LdONU01kJKmNRHt1XOIyZN+Mssd2lM9W2Ro6ZJ8jXIKxZar2tDOf5yql0y+m7R4gUbln2Knq+Qt+YptF+BJX9sqy6c81aNef3KEZxukb9Yj18zS1MrSVfAZRVUx9b3yRiUO26Ok2Kbl0lmF1Q/ExevpLuFmh27UXGfS4TCy6S9qUrhfyxNj9GLaAP2+P0LB/vn2Q4d7+y+zS3ZbDxye+763kjPCFR2WpRujF6l7YIpGRP6i7zIraU9omsnnxsaoY5fuZmSL+rQKU0bKSq0xx2yvDtZ7Rmnm+Dfbc8dOz/ap5JxZuso+J416qyLNSNYLE/6rV6s4t/ieDxo+/YZKVHXuK+HWk6PkMr9h+qSS1ehm6IVp5rrB4uNyRl1/oe4f7L2WML/1x2Wa8ETxuTnipAu19HIz37ouMcfgXXd/e9iq6e57YqzGnTtY78zPlbnWrtbvqQf05mcpuvniMzRv6WolrKr4iuOIuyYZ2kXdIjO0cl6ipub31vBT2ut6LZcnNlpx2k6udD/X5nwc65wvN+vzgDYa1SrQk/6/DNaEy2IVbaWVdSt16z1LlFAmby1VDfwBs51et6oorOKcYf2IOuQKC9fQU1rabWd4DekRrX998Kte/HS9Hrr8BOvyTLe88pMuPbOduh/XxPmUJ/29+VnV1RUrOEyjBndWRI949WqUp8RE57qkkjyhtCq2Q5VVHEfofvvh/HJz/Oep76g+xee7Mio93p3lF5/fzG+70Md9PHiIpl/Zuegas+JrrIotmrdTyf07KtbK3hdWlt5yKjyfxtt5cpoWbovQYKtKHbO9iqsWL7MtrevRyV/pkQZQBeFVA4uLhJQcrmultqW1rxNX65EHrWYWnOvd7HQlhUV67kHXxdj7f+WSNLXpY/avrGuxpdrQo7/GtTP7NSdDc6e+q1tmlq3OsuS4/WeL+JzWlqWp22llr78qzmsHVXvvW3q/Z2xIswM43r3uSx5b8bm1DB/Pr4fLVX1P1ZsJ3+uNOfM0sMeJzlQP/wDrgPAINNuhZS+Xtq9wK2tHJdG3SvTtFWnSSbo+/qj0dkqevFNJI6LVJq7ECxqV5YuVaTVQfdqZz81Yqhfy22jC+Bhd0ENK8FZHWhNm/Xu2Mr9r4Tel86QfzLJNb0Ifz2gpvtw31NS2RM080FvjRg/UBZ/N0nRncpV6tFdcpPVi2bLS113bvtWalBPVLSZGo8xo9S/K1o/6uu638yfrGqFRvBKnx+jjCxIVWzbPmqGKzzunlLzmcPI6cx2UEBKrvlYFIJnmXPCi9Wyikvs0e2l1x6rmrFFIqNq3aKVp387RmT1Os58DWk94TmjbUdERTbXyt3VaselX9TX3OZ1bxyop1XPuLnGZ4rPq8t3q83jp+nuv1ARzT+69DvGeVz33QWlK2BWpvs53Fk77r663Xkar8jrYq42eful8jQrYqAnmfinBTOl7xx81pY9bU281+8R7fNq/1VNbi3VPvPQU6/yysZLro0A9Ui69vK+UStahclWfOyq7hjvaq4MHUL8qCKNo34F8TZr5uzNW3rgBLc29azOFBPtrb6YzsSaqyq9L5nUmj1+zy/MRjyruU1v11KsP9NZgp9r6tB8XadBjq+3hilWxrHKxC3M+f80e9Chxjhg3/UadZe5BHtnWuYJzX5he+LCn4tYtVc/7rHtu5xykdZpw8zJ1rOzvV3pP7L1f8vX85MO61DVvIMl7AWH6/omvvqv4W5dr4h39NSrGrUVmZ0/41zplNLIePcfr1et7qtuO5Rp7wcsaa26KIk7urQcuHKKJ5mLe/dMCDTfT4+sh2GhpHe0pL1OQuVsBYf6KHO4UJ3GMe3RXue6fH3pOzbEtK6/+JD7CJMRMk4CdCwurbuBEk1js7gWrOgRzgXhTT/UNSdWrj3+osZNWKdFcKE64cpj6moTyyERrW2Xp81es6gSXaG5muEZdPkzXm2/2vam/JsQHmJ25QGMnfqtF+S6TnCtgVUc6OlrJn32o+As+1Au/uTT4/EH2MuqHEzw0O91KB/l5hXK5/BUd5VJs+0ZKSc5Ubmae/IP8iks5Vnepafb/9W+tU5IiNerqi7TylZGaUEEBtUcuMzcluSm6z4rMm/Qy6rUFGmUu3q2XG6z2JeKtQEZ126NRpMIT52rCtGSTNmPMvjAH25uf6a6FGXK16KhRV1ofytLKhUvMAWz+zsRVSmoUrVEjrKdIpdn7qLur4n1Uo/0SaWcyc//aRXH7kvX50nRnenmxbQL0+RMfasLbG5XWvL1uvamqt0KrSmO12HaHyQGT5jJNt98kqH3mhicroPQZLT83T+mLftTvz/xHGWs3KCgsUAHBVi5ZvQgrCOY9Zk1Xsl2mvteP1MTB4UpbvEATJn6mp35wK3Zwfz1d4m3n2BbSq4/N1efJZrhPf10fnKgJDy7VymyXeg7oaU4EEXaeONx/s/1GyXArT+xwom69uPIXGSqXornr8hR7/In2G9IX9ItW9LZUTc/2zC3Pk+/2DUnXVLP/J1gPo4qq0jNpNXOVyY+th75V5FMjztD1p5oT1VdWmjDHg30TW0W6mvlf9XnLHFvm9ibhLfP5W6eWT2eeH1CCdSNttv9TQzQqIl0fzyjzQOIQiwvxPLT7Jr2j/dDBklMQIFdAvpqFHFCuGf5g7fHauKepPT1lf7h+2GMSjsnmOriqamtvtX2uiGhhBYW6q5v14GjTEiWm5SmiTRuTVrqoo0lPSZusi5rKzpmeJXnFXnm2nUYzVizVnx806TDTZfZO1ecWm0/5oG+/oWJVnftKizLHq9L3VRyErsFydm7boinPWun0XT2yOkexp8brz848K73HRe7UU/d8qPtmp0mdTtT9t9XmGKw/TRr56+QuoerVOURnnNFHZwzqrejo4iCRxarSqipH2jWJnYft2KmpP0kJC1KVHBqlwU76qjhtV76fD+p83MJ8coa5QVlozr0m/U/8Q6CmP/yZXkh0K6JLF11ZttSatTynGvj7HjSf+82kY7MIX84ZdSUv319d2jR2xjxaNnXp8nOP08xFW7Vh23499O4vOj62sUYX1eNsDrX9OUrcWulJo0hEl556+pbhur9fgBa9PUOXTLOuiX3LE2q9HVr1UE/r4fxPVhuTy7XwN3O+6xRf7li3VHe8F5/fnEm+7OM96Vo08yt73Ya/ZvLGFu11ga81gv7kKdFjqyy9VXg+dZh7peh1S0zaXaCpm6RuIwbq6R7OcdBPWvSiuce62ToOrGr3a1BKqh6VrDK1ZBWqZbuaKHlN9vlNZsLo8/S0dawlLdefJ5r8+yuT5rr3LJ1/Nw2Q5x7UWxWRSx0jtmviw0uVYPKNnqP7q9fmb+170uSACA03abEmfE5ra5xJtqryWh/ufUefoVsHRyrjB3MvYo6hV3e5VFTplI95bNlzq/WQ3bttlz5kveTk+/n1cFmTut0OOt5+/kj9vLmqkmQezbs6D52qUDaNec6bmdpYMohnS1eaVYoxtLh0d8X5YuViR8TYJbYTppmRjzYr8UCEJ/jng3LHQrtgc06zag+p+m+WVtP7hmJxQ73p5eoy1W25df87G5Uc2V7X39LemVYN57enbSn/2zdmmJzT3LNVX6la/amv6/4JVywxeZAZsNplctrLtJXMs2py3mkeoX0zzf3c5M2yqqG3n01UdV6pU4V2EznWi+e5+QV2e41NGjVWdo5bi9b8qHcXfqFusR3U87gudpWq369fq44tW9uft6piranq8l1f8vi0dYl66mGznU0+OTXFpW4DeuhSe45hzrkhq63vrNKa/AgNPsN6nuLD/ZMtRdM3mLTcIkqX2qWHO+vKeJPC120sDjZaJr2v+K+tZzqee2Lr5ZbKr49WVpheqlyHilR17jio+zoAaEiqyq/NvMvN9W2jdE2dZK5vX99sLqqKrw+ruk+99NreGtw0Q1MnmvOpySerDjZWvazysQvnS15F5wirTW3POaLic59ZN3Mt5zrOejHb6BFvv4C2ZsUyqdp77gruiS01Oj/5sC51zVuy0Xv9YMb977Lftu2uPu0ClfbTUt0yY7MSFs/TVOvmfkRn9Yq0Lp77aIa5eJ0xPsZceAYqvEWqNu6Sok/ur1cfGqIJ3YseD9UP7/WOvQJVy7WKVVUj7UC+uWBppI7OuKftgpVa6Y3Qj2inbmaV1iz8r174YacSv/5WL1jVkrSK1kh1US97W/2gu+ZZ1Qmu1C2Ld8odGqk+5sJ+ZCezwdJTNWVyohKTEvXI4rTit5NKuHRAjKIDXOo7/iJzU3CRbo03B1Oo58FcfbCDzdbFo7MJC3IL1DTC3EiYG9uoqBDl5BRq4+ZMBQX7m894PuTLhWbyV/M06grrYbC52G5qNd5f/oZ35bYsc7Ft5v3tPD1yfpsK24+odntkpmnRtBQlfLTFrg5HKZt119cp+vzFFDso4rLvK7MUcVxPPfXkdVr5+ImKs2JXAZ5ofklV7aOa7RdvXdRLNTcnRtdfX/bCtljSCpOWVpub18++VIK5qHWFV3XMVJ3GyjrUaclX2QWFyjLdPtPtKSxQvn/5fdEoMEQRB/yV8caXSnpumvLdRY/+qlSqjRTTzS1xozDy+Ei50lP06ouJSkhK0ZSn1ivxQKA6di9uizB53TxNX73eUxWoSTcr5pqbn9XLNWeT9wa6twZ1CJQrtouefskTVI416Skisna31q/+ZPZfixhdObSnRh0fpqTEZfablRUa3FHdTBJds3CGHjH7P+Ej81t/8GZsbq1Z6rzRWFU+tWKnknMC1W3YKE2f2EcX2EUVa5auqmfdZH2oP7+4SFNTIzTupvPsB62Hm1/Z2I7J+6zb5rwCP+3LsV47KhYe4Hl6k1dY1csVGVpq5WEtInWpOQfGBaRrzVfSC7+ac6TVtuOF4Sa9ZGijdS6t9JzpLMpxafdoO42+8NRyLbLS4VfrtdGX/eNLPujjb6hQlee+0vblmv8iwiu+ga7BcpKzwzX46vO18t3xut8qZVyKWysWLtD0pJ2aPnm9vc61PQbrglVC8aGXPtKY0zLUzmxPK9jYsXWw8vILlV8gT2e29QkndFVkZLjaxoTqKnPO+9c78yst3Wg5sq5JPHmYFfyZYj3UfMDkjWad40/2FNOoOG1Xvp8P6ny8I9VJ/6l2ScS0X1eZ7WLy/qXWMgLKtXc26rRoReenafo935r833xuUqIWmU3vyzmjrlgP8UqWbvS69pwOatokWJc+vFTb03N0xwVdnDke81em6Y1Zlb9t6mW9IGK9IJNkjvpBfeM811s+5gm13Q6xY2PVzVxr9bzQ86D71nhzrm8V4zzQK626473o/Oblyz7ekafYkwfqrXev0+dXWyUnDN/eXTLn2zCzLQyTDipNbxWeTx3l0q5LUe2kP/cwx0FwpEb99Y9KfGm4Rlmx44gw1ahp7yNIyWsyq22WS3tFK8I61h5cqkV2/r1US3eYtNKhRLreliLPPaiX2f8/eK7FFm0x12L56Vr0vEmL5p7Uum4uarbARzVOa5Yq89rq73296z33qZXOMeQ5N9vzfMxjy55bp75jbVdP23q2GpxfD5eb3p6q57/5VsOPP17TrrtarpCqqxW3SjpWp2waK3veLBapaHMtlJGR5oxXki9WKkJ/PsnkIqHmvs46x03vo57m93mDf9Up+zuVkW9Sm0vRNbwpq9F9QwnFbTgu0P+VLfH6w5d69fssxfY7TROrfg/Ko4rf3tEO+OY0iBJWdX/dX4mSeVZNzjs7UnTLZ+bafbbJD6zr2AhzAFd1XqlD/v7+2nfggJJ37tDQ7ifr61U/2KUaW0REKjsnx2RBIdq1b6+2pu/UmSedqkW/rFBMZHM1DgmzS0fWVLX5rg95fFpIlCbccqFWvn+RLrXaOTXbtSj3N/dBc8w5N2Hxt56SL+Fh9oufvt7fJnyw2Q5Uxg8ziXqwVVtHlhK+LlvbQ3k1vT6qch0qUNW546Du6wCgQakqvzbzzAVa2pqVeuRrz/Xt59azWUdV+fCiLRlyB0frgnsu1IuXxVd7v1XVsnyJXZRV2bnPvpZzzkWxA6IVa/L5lbMzfDinVHKfUoG6XpeD4gk6OZ3VK2rD0VONqju3uCqrKTOLq21aM9MTEfV2oyYl6pYHP9NTX5uL+TadNfGBsXpxqPPhOpSSZgUDpGxXY+03F4Zzk3+1x70+vq95Ude3m+eCMrqJZ5V+377X7lfk8192K8PckPR13vDztF2QpdIvDuYpp4o3CUtuqyLm3sfeorn5Vo2RHlVd0JsEN6XEdi31Fl0ds6tULfS0NmVdmOflFCi6uUsBwf4KDw+yg7rbUg+Yiz0r4Gh9yP6W9Z8PrIcJ/9XEHyq+4Z3+1AxNeDtRawqaafQV52vqxEqygBpsj4zM8tt/1MQhmtAjQEvfmqGeFzlvm1Wkun3k8+/w1kW9XLckmrRawYVteREK8fFBWKVprCKHMC35ymq7cb8KtM90u8xNS0HjZgoILK4yNcw/QF3CIhTRqImahZubm80Z2vXRYmduNUq2kWK6vWW3S8n965Vf2dsIbqVV0vZe2vdzS2xTz1sktfKROQGkh6nb6Hj1CknT0hklH7KV0chqS7Fk/pNh8uPK3tKpJJ/atkQXWG3/rMgwNyi99eijF2qiU1imRumqWju1aOFqPfLGZiWbtB0/wJl8GCS5o+z+oCYb1aaR59xhVa3kzgvQ7uxQhQbm6fToLWrsn61gs916N9qiQeGearXWZ1d912afMwIiNKiPOaHvSNcs68Z4xT6zzuHqNaCZIjIztKJEVVvlz5nODEe4lQeUTKPmfOstzVCT/VNRPuhV3W+oXNXnPq9FySYNR0RreAXtAXn4spz+euHKLuq4a7Wuv+s1542thm1fVo7+8cqX6hS5SScc57KDjGVZ0047+Xj17hqkB1+Zpz37q36R4oi6JhndTt0aZSnBqkbdeaj6yPdZcrVto1vN7IrTdhX7uc7Ox+Z42Fd1m0kRVgn6HOsBqmOb+W2zneEanTNqz68wT2uT9ztjxVzm2uuhK0/QGae00HN/PqlcUHJ9yn41Cq1q5xVLXjxPjy5Ol6tLdz1S4prEpzyhxtshQn/uEiltSSxKD3e9uEprDjgP9Eo5+OO9on088bb+GtUuS1OfmGau/Twl830ToQlDY+wg9FJvzaIVpbcqzqdVpt30zbqr5LIqq5b8ELOqUfVWpeodrqirkRLXZEVts5Q81rxq8vw621ybOYPF3HL7dL1yMGmtsry2+ntfu83rkuvdyrqeK8GH/GzqJvNbS5xbE3+wtmuJkrg2387Th8tpx3fWZ8t+0JSEZWoS4lKzJqVL/ddKmTT2eZJVJ0fxedOr700xilOWklaUrtK5snyxnFa97QdeSV978zPTfZUmd1GpqGqUPRYWpirF3F7HdR+mQZ5P+KYm9w0lFLfhuNETxClj+n9WKiE3WpeeU9m1WwmV/fYeQ9TLZO9pyZt9CoLWl/q87q9O7c87hhVYq+q8Uoes2qqsy4nfdmxTr7guOrtnX63aslE/bU7S5Wecq0HdeiokKNhc22aa01meAp0qjwu91V3VSA3z3Yry+MHn6NE/tJdrzRJdcsnLemp11dfPJUvZ+nT/tO1bT+nhTidqglVyOD1Nn3/tzKuOr9dHNV0Ho9pzh1H7+zoAaFiqyq8rnOdVST6c/NZHumTSci1KdanP2CF6/8n+1QfXKlmWz7GLIlWc++xrOZe6ndLTvl8uVaK+xvfcVaizdTlIdiDJdCX6zu3xOiWaFY89ZYheHNtefbv31IvmQkqzU7TRXGh2G3yebrXe5IyL1/2Pn+epQmZbiqa8atWbnqqMgDB1LP0ydp1Yttpzs5DS9Ew9sCNK7639Xqt3lI/zbtiWp+/X5tjDJ8d5Ao8Jq8q3HVNk5nLN2WIuNgYP0+cT++jSwZ01amyUor0PC2ZbpUcC1fNss96nRCl+6EB7/d1bUjXLbKsVVjWMpwzS08PaKN7aVgOi5MpI06LZ0tIUc4C0aKNbrfbXusfr6aHWW0jlTU1MlzsgWhc81Ed9zQWm9Tfef8CqOq1+2KUWnSCiv7+fcnIKFBVlLmX8/NQoLFCBQf5yu83FpfmM9VFPaNJKKFW4fqzmPjRE11vbb8RA/TnerGl6hsqHZDKU8NkCTXhqpcx1taJbxZhpWdpn0pYrxPPGd11sD7vx1Bxz8bo5R33Hd1S34tp0SqlqH9XsdwSoibXug3vrxfhw87czlFiubSOP2PhzNKF7G11wtblpM8tNS6m8tIt1PFaVxnzfdlY90Tcq8SVPqdML/nalEt83NzTWIi48T0s/vFpT6rE6jmyrGlWTmNIL8pWac0A7srMU0DjKTlsnRbbQuFZxat64qcJCGinUrEt4WIRCt5V/EFtTszaYTL5FO913i9m/cW00YWJnxYe6tWZF1UXrS/PkidE9TjHpw9zQtrKWM1YvVhtQrkyi5m7KUnS7SLm2pJSuuqUsO9+18p+xut/s/75mf754ffmqgavOp4ykRL1gTjK3LDHbIzhC8b2qS1dllU5npXXXI38zx775u7HmGLr/mvbmpJ6ljdYm7jFMcz+8UXNvsR42x+vVN27USnPSt1xvVRX59nmVlgQ+GLPTT9Be/0Y6NX6vnhiyWHf3XaZ/Dl6sCSf9op92RCt7b4GG+63Sw7Gz9Y/YL/TXmG8UHbRPu3Ibaeae0m0MlTNzu9knLsW1cyljR6rnActPSUpKD1RcqzC5U7Z7HiRXdc4sYdZmkxGaNPrIxN4aZPKFCROHmeOypvunEj7+hgpVl6ZKSHh+tRIyXOp72YVF59Hrrx6pzx8aWIPluOQyp2x3xm4lh5m8OD7Sme5lLtD6D9QF9jbqbre9lLzBnGEOUxoraX+mW22aB+j42OAKu7YtXMo8UP1DBtsRdE1yfR/z/czdWvSR96Hmek39Lk1poTEadGVlabvy/Vx35+Pq2cszv/PSxz1p6oKrz9EjI+rqnOGbnOx9mv99qt1OY1kDu0fpqatPVJj95KmY9dmvl29XkJ/vEYaESeYGJ9McnyPO0SBf86XabIcep6mv9XB+w/Ki9PD5wm+1NNW67rGqJy+puuO9dsJDAs0FR5aSdgXrgtvaeNoerlSgop3rtkceHWu2R4CSFi6zz8lVprdy51PPZCvt/nl8G8VabRlbade5DrSPg8g2ut5sy3iTovuef47en9izQeRdJatMLVmFatnuYExdkaYM61gz23JQXJQ51vqoT4s8Jf26zvlEbWUowyohZF2TWcfwLVZV5xWpZVqr7txVzb3vlA0ZJo+J0iizr/t2b69br7eujTx8zc+SzbG7MN0qCTlW71/f22578NLLIovz7Sp/4+G97vf6+9nDtWDiX3XbGQP13W+btW37dmeOFNK4/Bkoz+RPNfbRUs0sdd7srlsnXqIXBkfKvWmdHq0giFAqX3SmldX3YisPSdeKGcXnuM9fS1FSfoR6nlu+XUi7M/uhSMnp/a23yZfrhcVm37fqohdfGatHxprpI/roaZP/vGjOP5WrwX1DCa4Q52+X/V1e21bqfito3iKiwmuB0op/+9P/Oke3jrDS4jn6/I54xeWn6fM3rWcyhy/N1d91f5r2WS8th7o8pdMrULPzTiUqO6/UIetSo8D8H+YK0ZrfN2vJr6s0vMep6tiylVZsXKfVWzbaz4Ks99KDA4M0ond/bd6xTfuzDyigosa9qlQH5/iIYLOUPGXsMfugex+d1aGqcoFeNbt/evXrFKWZc/f13cKUvHplxW2Q7rJe8ghQRHPPMVT19VGZ9FKLdajq3FHVfV3J64bYKy/UyulX6kWrqvlS1xoA0FBUlV8n2zWJxJp88/6hbdR32DBd0KU4/6zuPjXx66W65b4vNccs39UiqsqXvKpeVkWxi6pUde7zXMtFtOmpwbFurVjqKVF/UM8eanR+qum6HCTrYsKKI5XoO1cSKbrrX0u1cI9Lwy8bqSkP9VefSOtB2XLd9Y5VBUmsOaH9UYmPD9SosCxt1EBNNycxq+qkuZebH71hlZ561bOkuvTBHE/DGid0uV7h4R2UX5CvJxc8rbdWvK9V29do9Y61mrZqhh6f+6byC/N1XKsA9Tne7G3jo3lVFUBN0f1//UpTfjQX8r166/5bhuvpy7ooNjddCT+nmvnmYvy1VVqjGF1/z0WacdOJ6pix0VwULlCC9d0XrW1lbihuOF8zzLYaFLxTUyd53lz+/J0fNDc5QD1HDNGUB/qr4450s5sr8NE8PWVVWxvfW1PMhfqMa7soPMOM1wc/T6nFwkKrStVCWTVkBLv81fX4pirILVRoSIBCQwOKGo21a+3Ptz5nvlSunpISTGJ3dYjXrdb2u/pE9QpI1+cffVuuIfr7n/GklcSX+quXuSib+p7VXkui5qzLkqtTT82Ycp4urYPtMWXmRpNWo80B9Ue92idPyZWUcKxyH9Xod0RouLXut/TR8Eb79PlbX+kpZ05ZGdnhuv6B8/XoCM/xct9TVZXEqDqN1ce2qw/pWXu1JzdH6Qf2a+/+nebCO0XRhXm65cT+GtMuXs1CG5sboFCT/kwXHKLgIJf21/jmpryESXP1gnVsDzD796nzNfGkQCXOnle6/utqmTzxrZVK2BOuUTddZNLu+bq+k5RcfVM0lZr+uVUlXJ5W/rDEmVIZk+++auU/UbrU7P8p18erY3BFgYsq8qkRI7XIyaNnWI0Of79c95sblqrTVVll0pkz1cOtkFYddav5u9ZLB5e2cSvh0wW6pZKSoofCisw2emdfX+1xRSiu6R6d3ylJ/dtsVXzzXVqd1lwfLT9O7qxCu82XE8K2qbG/Wym5TfRGWj/9nFnJE4UiS7XCOjWY/bcx0ftKxXq7HUermpykX622yyyVnTNLS3j+SzuNRpzSR//3kEmj8WEmD6rp/qmMb7+hYlWd+8paqQmPLtLnKdZFo+c8euvZ1gN36600X5ezXNN/Msdqn+Ga+3gfRe0qe7Z0KyOove63ttEpYUr7fplufceZdZjZtQZUyXrM46sj5ZqktwYfFyjt2Fk6TS70VBPWrXv/StJ25fu57s7HPjDLu++rNOm4E/Wo+W2PDolUiPnddXPO8E2+O0O79+Ro+uIqXoorw/rsrnSTX23x/TtWmvk/q11pcwNy65XrfcuXfNkOZUoL9B1iBXyylGxV6VjCVKvNr8hojSrVjmZ1x3vt/N/XyUpr2lFPv3SRbo3IKK56siJW27fOddtZLTI1d/IMjZq02TOvsvRW4fnU8xVluhUxeKTmWm0ZN8/Swmme68CE57/VlNVZijXbcsb0P2rKBebab0f58npHrZnf6BHrWOvSW//31EV69OxIpS1ZputfrUkarshq/d/CVE8TDlb+0iav4vys1mmtqrzWh3vfd5ZpamKO3Tb4lAfO1qgDacXp0ef8bKWuv9+cW831ZsehfTxtD54fJdeuNC390UpDNTlPHx7nPvWc+j/8uN3d8XbplumCw8IUZK77S9q11seXc0ox5z6zzlNWuxVtX4MM0vXmOiHDXKPdcueSSvKBkvliReG2Nrqgk5meblWl70yyrdbGHVJ0py5FL1F424W0u8uLg1elpl/fW8PNtIRXZ+m+mSafMvnPuMvM9KvN9DYB2lvJfaqX7/cNxWL7O3+7zO8qKfmtJTI/xyfe357RvKOuv9qkxbEdFZ2ZrCnPfqSnfAyC1pf6u+5P0cer0+U26/z0S5dU+MJejc47FanqvFKnCuUKDNKvKVvUomkzc68dqLcXzNay9Wvs54HnnNxX67ZukTsvT11at9WufRn6ZvWPcgUF1+gq1qMOzvEzf9Ick/d1G23uL//WUdnbfMkbanj/9PVKrdzhUkRImhZ9UMk5aeFGrUgPtH/H0ge6V3N9VCa91GYdqjp3mO1a+/s6AGhIqsqv1+up6RuVFBSjS286X1Mui1SyVf22o6p8+FLrZScr3jD9Io2LzNDCT7+psl3kqpZVceyiKlWf+6YvTlNaZJii01P1uXNPfVDPHmpwfqr5uhwkK+jkGSjq+3UdO6nm1xOH0D+uG6SLz+6unVm79c9vnta2vRVf0rVwnaJ7z/yLWjTx13tfrNKjb3zrzDnMrrxQiaMjlDB5sibUy4Vk9dbOuEmn92+mRfPPUs6BPPkH+NvlF/38PEHFQn8/nXHmHD33r1PV57RoZe52q3HzYJ0+cI6+S9gtk0Y8CwJqwM8/UI0iWysvz6Snwnyd1/54nRodq8wDmdpvd/t1IPuADuRky52To9+zM5SQuVc5tbjFOZwmPHS1JjbdqPhb6zkDhw8KFdd0r06PTVHbCJO+cgO1Ynu0lm1rpZw8P3UPS1XXkFSF+edoW24TrcyM1dacCCszdL4P+KZnl5aacOEI7c4s3zatpXnjPL02bZZWb9jhTGkgGsA1ybEuMDRKoeHN9eodvXVyp6bO1Ir9uGGPbvzXjwooyNTuHdW34VhvbrpEiUOljxtAde0NxSMv3GhuapP1VAOpKrUq/XYcXCmH71ocbKAQR7um3TPkF1DN9XtBgbJ//13thw6TO3O/XbLRCjZm7fCpnlygAlz3V+WCMUEKDgow2yJXrSKb65yT+yvLna3oiCYqKCzUuwu/VF5+ni4dfLYWr/lZKzf+qsahYfZLddZL6h985KlB7OjSRi++cr6GZ65U/J2+B/MBoCHYu2WZ3W/S7jS7XxstmgbrwcvitDH1gNb+XrMa5uLbNlaHmFA98M4G7cqwGh7HsaL59orDuFabz3l5efpy/jfOlGINPuDoCg7Q/907Un26xyq3IFdfrJ+vxb/9T9v2mptf88tbRMSoT9vTdF7XcxUS6NLSVcm67rFZysk9TDcvo8/R9FMyNfWjRKXExOvWy05Uz4DD+0Di9yUvq12Tjfrlp/OU6y5Qvtk0fv7mQjK/QK6wQG3bfkB//ev3evXVfmoSFqCAxgHatjlTp/b7Qul5HdRuoNUyE1Bz1u1cr5btdGm30xQZHKID5iYnywoyurPsfnaOWzsy9+p/6ana4rZe9T3ybgAJOALHppfuOV9pWc1NtlW6CkxzclVoYYr+9uJXzoTDqAFek8BPweGtFRzSSBMvi9cFA9qUa7PRqmDCKtn4zPu/KsDPrfTU38zUw3S5blUX+tchGhWyWfddM6tcLRbHKgKOQOUCAvcruHH5MjhtevXWzvUh2pPsaXMPQP0ZNCBIHTqGKTsrW3kFnjYaI0Ibq1l4hHp16CJXUJBCgl1aselX/bA+0SnZaP4VFtpBx2kf1qb0cQMW116XnnGabh0RoTVvTfatNAkANCB1EXAMMDeed194nNpEhThTamZL2gE99dFvxQXacEyoNuA4b4Hncb6VLpx+gw84Wqyg4z1Xnm6XdKyKVbLxqf8sOXzBRovVlsTVXRTntB/o3pWq6W/P0yOL66bqqNoozM9V5u+L9Mzfc3XB6MYKsN5ALShUQU6Bcgr9dOttS3XTDV3Vo3cz7Uw9oDlzt+mpF9O0NbuHIjsOkn+gp5paoLYC/QM0rN3xGtqmk92AbbY7W3uzs7QodZN+3LND+Ufw2YqAI3BsahwWrPuvHarQ8Fbatc9THXTz8AJlZWzVI69/rcwDDeCtvwZ4TQKLn13SMTCkqSKbBOusPjGKa9XYDjz+mrJfX/+wXbvSc+RfuE9Ze6xqdQ/TOXLEeVp6dazdNuHCaVbbdaQbLwKOQOUCzL1778t7KCSidPtl2RluLX/nJ+XnUKoRqG8REdKQwS41jQyRO9vtNK2Tr/yCAgUHBalxSKgO5LjtUo9WsLGsoy3gaJ+3W+UpaekSXf/s6ppXhQsAh1ldBBwtIcH+alvLgOPvO7OVnVPgjOFYcVSWcCyp63FRunBYvPp0b6PYlp62F37fvlcJq1Jktdm4bvMuexoqZr0l3+fETPXstFe9uu5Xh9YHFJifpSHDv9C4izorV0309dJgpexpr7AWxysgqHQbG8DBCg9yqUfzGPtG5+fdqcrMoxg+gCPbiZ1a6OSurey3wn9cm9rwqlFFg+XnH6wAVxMFhzZWQWGAmeCnoIB8ubP2K/fAHhUWHI3VmeFQ65YepSa5pQM/vtrjciuxyU5nDPBdo6hGOv6cODWO9rzxsj8tU79+maTMndU0XgigzkQ0kXqd5FJ0dKECAvzsQgdW6cWCwgL7IaG/v7/8/fzta1hvyUavo66EIwAc4bL3bDH5uJ9cTds6U4BDw+cSjjYzYF1THEkBRwAAAAAAAAAAAAD1pzYlHD11gAEAAAAAAAAAAABAdexm0kxXok/AEQAAAAAAAAAAAIBv7CrZTVeiT8ARAAAAAAAAAAAAgG/sko32QFGfgCMAAAAAAAAAAAAA39glG+2Boj4BRwAAAAAAAAAAAAC+oQ1HAAAAAAAAAAAAALVGG44AAAAAAAAAAAAAas1bstHbhiMlHAEAAAAAAAAAAAD4zFuy0duGIyUcAQAAAAAAAAAAAPiMNhwBAAAAAAAAAAAA1BptOAIAAAAAAAAAAACoNbtkoz1Q1Pcbd8907xgAAAAAAAAAAACAY9i2Rc85Q6UVFBQoLy9PX87/xplSzK/QcIYBAAAAAAAAAAAAHOX27T+gLck7tHvPfnu8WdPGahfbQuGNQzVgwAB7WllFAcd5C+yaVO0Cjk6fKlUBAAAAAAAAAACAY4QVbFy5eqN27s6wg4hWZw1b06x51aINRwAAAAAAAAAAAODYZZVstIKMZVnTrHnVsitP9XZWr5CAIwAAAAAAAAAAAHCs8FajWpGq5hXxlmy0O6tHCUcAAAAAAAAAAADgmFFR6UavquYV8ZZwLNEn4AgAAAAAAAAAAADAN7ThCAAAAAAAAAAAAKDW7JKN9kBRn4AjAAAAAAAAAAAAAN/YJRvtgaI+AUcAAAAAAAAAAAAAvqENRwAAAAAAAAAAAAC1RhuOAAAAAAAAAAAAAGrNW7LR24YjJRwBAAAAAAAAAAAA+MxbstHbhiMlHAEAAAAAAAAAAAD4jDYcAQAAAAAAAAAAANQabTgCAAAAAAAAAAAAqDW7ZKM9UNQn4AgAAAAAAAAAAADAN3bJRnugqE/AEQAAAAAAAAAAAIBvaMMRAAAAAAAAAAAAQK3RhiMAAAAAAAAAAABS0/Y6Q0ANeUs2ettwpIQjAAAAAAAAAAAAAJ95SzZ623CkhCMAAAAAAAAAAAAAn9GGIwAAAAAAAAAAAIBaow1HAAAAAAAAAAAAHAoHsnO0d1+Wdu7ep+07M+x2I62+NW5Nz3bnOp/EEcUu2WgPFPX9Cg1nDAAAAAAAAAAAAMcAK/gXE93EGatbmVluZR5wa/P6X7V+XaJ+37RJBzIPKC83X64wl5pFR6tTl+MVHd1SsR3j1CjUpUZmOg6NhUtWOUMVu3fiDc5QaQUFBcrLy9OX879xphQj4AgAAAAAAAAAAHCMqY+AY25evjL2HdCvq3/Sdwvma/u2rerW8yS1btde6bt3q2lEEwUE+Sk4xKVsd475zP/UokVLndy3nzp1O0FNGocqMDDAWRrqy0EHHOctsGtStQs4On2qVAUAAAAAAAAAAMBBcefkafee/Zo7c4Y+ef8dpaVtl1XmLbZ9W3Xp3FF9+56q4+M7Ky4uTm3btFWzJs2Ul1+otO2p+vyDD7Rg1ufatSdTObl5zhLRYNGGIwAAAAAAAAAAAOqSVbJxT0amPv/wXa1YlqDAwED5+fnZpRs7duxof8Zb4aY13Rpu1qypzjjnTOXmFijAfH7V8uWa99l0pe/NUl5egf1ZNFD2vvR2Vq+QgCMAAAAAAAAAAABqz6pGdf6sT/XrL6vl7++vgIAAu/rN0/r0MXOtAKMVaLRCUn5OXyr0K1Rs65Zq1jpaQebzQUF+Slr7q5bM+0p79x+wP4MGyluy0e6sXjUlHDPWL1PC+n3OmJG+SQlLNinDGQXgg3ynj/pF/gQAAAAAAAAcBLeSf1qmFSluZ7yWeB56zG2DzCy31q9ZrVXLv7dLNlqsYGOjJhFa8O3CohKNubm5+vnnn5Wfn29PswQFBem4445TvhnNU6H9vZXLltnLs5aLBspbwrFEv8qAY9Kn1+lPn25yxoyNn+hPV32iJGe0ocvYuFjvvfiSnjfdmzN+1k4yugbhmNovP72kk07oo+d/csYPh4yfi7b3e7OWKWHJz0pKd+YdIZLnen5/8TqsVXKWM9PrCMufAAAAAAAAgBpzr9VM6xnZ8hIFherMPiVMuk6vLD2YZf+s50/tqZNe/NkZb0Dy9ylpwQfFzxkXbFJGfTybbgjPhA+xzANurVy2VEFBofL3D1ahf5CuuPYqBYSG6bXX31RycrIdYAwI8FfXrsebb1hBKsnf/CssLFB4RDPl+/mrIM8z3frssoXf2MtFA2UHjE1Xon90Vqman6I5fx+jU8e9pBVZ0YqLi1ba//6poaOfUwLFn4rs/OxmHf/0Icz4j8X90nmYHrjxbzqrszOunZp5Q089udwZPRSykrTw5S+0xmzjtKRlmvP+gxrfr4/GPLH4iAn2pq18Q6/8L8UzbNZh4Wf/1JiTB+ovs3ba0wAAAAAAAIBjgXvpJ7r3/Q/05NRlDaCmr5/1/Mk36+NUZ9R2vM667xo9MNQKKjUk+zTn/hEa8+JKuaPjFBedoxWvXqEB136iZOcT1bICidd9olJPJCuaVu6Z8NHtQHaOtm7+TbvSdhW129i2bVsFBwdrQL/T9PijD6lFixbOpz0lGr2lGz0KFN4kQtk5bgX5+RfN25acos3rf7WXjwbILtloDxT1j8qAY9L79+gvKwfqP99M0zN/u1ijR16su5+dpq9fv0J9I5wP4ZAX6z4m90tYV427ZYy6hTnjhvuwBPk66KxrbtZtt9ysB/79ib7/5p/qNfdmXTF5rTP/CHDKJfbvt7q7n3xb8589TXOe+1RrnNkAAAAAAADA0c2thAUfaNx9f9e4WbO1sAHUYuYuWwuZXOo29maN6+5yxhuIjbP1yozT9Nibj+vuS87V6Etu1zNTZ2v2P0co1vlItfJyzB4oo6JpFTwTPprl5OZpy6aNdgk3P78ABQYGK7pFM/n5F6pdu3bq1q2bgoODzCe9gSk/FZrPWu03FvjnKt8vTyGhYVqc8INy7YJyfkVtQP665hd7+WiAioLGxX3/mU/foRH9eur4rgM1/qFPlFQug6hG6jK9csMwndS1p04dcYfe/KlEceuf3taYRxcref0nevjigTr+T59o4/I3NP6qt7WmVNBlnxY+Ol53zvKUYDoo+T/r4+d+1lk3XVsuiBXVJsoZMvL3acX792j8GX10/MnDNP7uD7Si5CshO+fr3qs+0JqMn/WmvX59dPoN5neb7eP2ro/53nWT15bIUHZqzgPX6b3VO5XwsrNd+12hh2dsKp3pWFVc3n2FTj+5p0464wrd+f7PpYtuO9ttZ9G2Lf7bJe1c8oaus36/2Xcj/vJ2qd+/YvJ4PbxgZ/FnSv1W63eO17Uvfi/NeFBjxo3XmAfm229h2Ot2WfH+fGVJHZUgawj7JdEse/LNzna/WW+uNp/I2qSPH7pCp5bbxp5tdO+XJdff/E2zrd4sKgpfvNw1Mx7XeO/+/rJEOrZ+77iHNMdajD18s/71g/Tx/Wabm2Xd++Vqzbzb7Ku5ZaopWP+B/nTZG1pRKuHUoZgzddvtZyrp1U+UUPJvbFmsJ/8yxmwPz/5/ckGZY9LsH3tdi9LdG0pwNlG9pZ1KRES1kdKzy5/QS6p2fVK00JsH9hvjORZKHA8AAAAAAABAg5GxWDPfP1d9Bw5Q35HzNWdJ6WeKVT8T9nCnLNObzrNpe/7LyyqpBS2l6ueWP7ytMeMe1Mf6Xv+6wfNMzfPctILnqhlr7Wew9t/sN0Z/KfE3D9kzxX1p5ZtiCghXbEyZwGgl8Q5r2465/xPph0m61n6G+LY+qGDaCuvDJZ8JW3x53l/dc0rnOXZF2/Bwy83N1/atW+3hQn8/FfhJiWvWqbDAU97NCiBa7TJabTh6C8XZw9b8whB9u+hn3f/wE8rJlazWH63Pe/2+aZO9/Kq5teK1K/Snt8oUrjHHy8Pj7tFM65Fw+lpVFwuzjpu/jBho5pv9c9nj+ni9c+RYz8RnPefMM+ni4hLzLD7Gc5IXeJdhPVd/Tgu3ODNstYlhHGb2zjRdib7/mrg/6bXZ3+r7b17XWSkP6S/v1qDEU+oXum7E40q76D/6/peVmv/UaUqYcE9xEeq8nVqzcpoe/sda9Xr8E/3v+RHq2HOABm+epI+Xltgh7p+08N0o9e3dxplwEDYnKiFrgM7qE+5MqIhJgM9dofHvROiGt+fp+/n/0Q2Rn+hP45/TCu/OystQ2pJpuvO2TxRx0zQtnvOszt5sEsS1V+i6KdK4F2brfy+NULJJpG+udr5jZJhE9eS1f1dC/M1622xXqxTWmkfH68lFzvpm/awnx1+h98Kv0wfzv9Xit69T9IfXavxzPxdn/NZ2W/Csrv37MvW65xMt/ubfOs/62yUOGKs61KGPpumytxfp119m65k+y/SnO0sU3d691mRQN+uOH07SA5/MK/NbozT4ztd12zDzF0feof+8/rr+c+cAReWv1ZvXP6GMSz37c/GrYxSRUWI/HYwGsF/eu+MOfRx5sz6bP0v/HpaiJ2812/3mt6ULntP8CrZxRupapZU5eNNWm2klXqjwLvc9jdFLZn/P/muEPr7tOc30vl1k/d7VacqwvhM5QHe/frPONsscfZfZ5ma73z2kuwYPaqP33phdquh+0tJPtKLnaepVjy8CRfQZpsFZi7ViozMh5RNd94c7lNTncX3x3bf6whzPyX8fq+tmeIN0Zv9MukJj3sjRuJdm6fvvPtEzQ4I926g+004F3GbfvPfWB+p1+0j1cqaV48v6PHedHs4aobcXr9SvXz2u0c12qts1z3qOB+dTAAAAAAAAQEOQsWSeZo4cpr4R4eo7/FzNmbu4dLWqVT4TtriVMP0T6ZyH9Nn8b/X9p/codvpf9ETZoKKtTdXPLXtdrP88Ml7d1EM3/tPzrPOy7p7PlHqu6v5Zz48frzfdY/S6FYf45HENdu1StjXvUD5T7D5Sd/ewCrM8pPeWVxLUrCLe0euS1/XYpfHSidfqMet5+usX6+IKptnPKks+E7bHq3veX/1zyjVv3WzmX6IPvjPz57+kcZH7PNuwAcgvKNSePXskfz8FBgQpMChYVtOLn34+R/l+hXLn52p/lklj/lYA0l95+dIva3/TlPc/1e33/lOvv/OJtu3cq8KQEBUoX37mO1Zn2b1zl738qrnUq/8gJb9YunCNe+W3eq/ZaerXxqTbLz9QVbEwO95y8yLF3TdN3383Tx/c1Ebu3U5Vrptn671VHXTVq7Ptef85N0X33vpOcaE6H+I5yTNu1og7NqrvU594nqv3T9Gdf7hZH5coH1ObGMZhZQeGTVei73/32JMUGxmuiJiuOm/kACX9kOhzyZ4V7/xDSdc8rgeGtJErQIrofrFuu36TZi4qsZVWZ2jwI/dodMcoRUW6pICuGn3N8fr465/MYeThXmp2/KAzdUaMM+FgpKdojToqtqpowZZP9eRkl+5+4R4NbmfWPdJknnc9rrvD39aTn5X47YrWVY88qHHdoxTRboCuuvI0JQeO1GOPjFG3mHBF9b9CVw1K0Yp1pbdY37v+qduGdDDrG67Y/jfrgWui9N5nnsw/+bNn9GbY7fr3PQM8290s9+5nb1fE5Gf0ccmIdspAOzjV1/p9MafpMutvr3T2Tf7PmvzQJt3wlPX7rW0arm5/vFk3JH2hb0r8/ORBt+s/t5xm/52o/hfrqj7Fv9VlTkoRVjDLFWHW3wxbI5kpSkrpoG5dPPvTZX7bZefUQRDY0gD2S/SVD+qxsV3NfjHLnXCF+qaEaPQ/nOWYbXz1NQOKt3ENFC83XHEXXKHLNF9rvEG8kgJcZp0iTPbnbH9ru5uRiGEX67L1s0q80bBJCZ9u0mVDT3LG60lUG8UpRRn2yd9cbEx5QgvPeVb//qNnXaLM8fzMk39QwqNvezLq1Nl65eUc3faUs80io9Rt7BUa3c7Mq8+04zX5CvsNEqs76Yzxejjjct02rIMzsywf1ke/auH7KTpr1JmKMr9ZESYPPKerPp5rMmz74AAAAAAAAAAain1KmPuFzhp6mqwK5CL6DNJZX84rV61qVc+EJZcG3/K4rnKeXUe0O1Ojz5dmrtrkzC+tyueW9rPOYLNE01nLMp31XLCsnbNe0yvum/WM8+zWikOMu/pcxVqfPRTPFL0COuiyKZ/osf4pet4qUXnGzXpy1tpSNQ9WGe8IC1eLsGDzI4PVwl5fV8XTKlPV8/5qn1PuU3JSiuLiuyrWGg1ro8GXnOnZhg2AVVoxJ6e4nUUrVrhqXZLe+s9H+mnlau3fl6nMrFzNm79EjzwzSdf99R/653Ovad43i5W+e68yM9J1YP9++QcFKq/Qz16eVSIyPz9fB7IP2OPV6n6urur8qeYsL4o62dUPDz5noB2wjbvkQVUaC7PjLYs1+JFJuq1/Gzstx/a/Qpd5C091vFiP/W2Metkxiyh1GzVSgzeu1Jo0z2xbVfvXvUxvPrpYo599Vpd5n6tf8k89c/73enjKsqI4maW+Yhj1wluy0VtVrlXC0Z2yVjPff053XjVe1/7re2nRJv3umV2NTVqz1K3ozfP0/IsvFXUfr5ASNu9yPmPpqW4dnUFH7JAx6vvuJ1pov37h2fFnnT+sDksUuVXVixDu3zZqhU5Tr5KNtpoMp9spJlNZV7L6U5NZlDhoQwI9mUdIDQ/kFjEdpJWblGyWnLTuZ6lPT8WVXEbHePXSz0r6rfSPLplB23/byy4t2FxJXxdv9+df/MSs0zIllWygNyDEGbCYnKiK/M4WMUBX3R6s5y8epuueNssr1dhvXTi8+8UVWGIDmM/aJ8MSm7W2Si+35Db3kes0jb7kV735pfNmwsZl+jj9Wo3u6RmtN+6MEtt0q5JWujX4lK6lkomrS1f1zfrJnPjNx9et1UKdqb7Om0ql1HvaMa5+W7+uXenpflmq+dfs08MjSr8FUqz69ZGaK9qkNXdm8VbYm2Wy6mhzUnDGAQAAAAAAgAYhY5nmzDpJvdqbwfR9ylAH9epdvlpVX54JZ1jPHyc/rr+MG69733dL65MqDmAc9HNLt35ZtVg65zR1q+jZ7aF4plhSWAeNvus1ff/TLL12ebgS7h+vATd/omQ76OhrvKP2Kn3eX+1zynANnnCzXC+O1+k3PKePKyuheZj4+fkpONizPoUqUF6htHtfti67fKx69Oyq/87+Vrfc/YReevMDLV3+qzL27Vf3bh300rMP6NXnH1Sn41opICBQ6bv2aPeu/fby8goK7KCjy+Wyx6vXRmdffKrem+6U+nV/r4Xvn6nRQ4qjTpXGwpzaGQf3rqJ2RneK1sz6QE/efZ3GXPusErTYecZcrNL9m7JJK8zye8WXelKtE048VW47blSsvmIY9cJbstHbhqNVwnHAzR8oo8vFeuCVafrk2Ys9M3ziNhmbSfNdeqrvKacVdWdd/qD+84fKSh05YoZp9DlfaOa3JjN0dvxZ/auqarMG2sdrsNnZFZYwc7izShU0Ly3DXSIIU9dyrBhPpTKyit8CqJLbOqFEq1vP4u3e95QzddUjr2lcmeBuzbjU7bq39fPs53SW5uvmEX005sUSVb0ejAa9Xw6/XudeK31gto85uSUt+UQZFwyo+CRclzZaAcQBirNfGvIczxUz6c1s/Cr3T32mnYoEuBQ75Hbdff5ivbegojewql8f6yQ0buIVSrj773pzwTIlzHpJ906K0mOXn2Z/CgAAAAAAAGgo7OpUI/dp5j+u1Z+utbp/aGZ6ePlqVau0U3P+PkZnPvqzoodcq2c+mKa37xrgzKvYwT23rPp5+CF/pujlaqO+Vz+uT2Y+qL4LntDHdpWzBxHvOGjVP6d0db9G076fpZeGS3PuGKmTxrxU3AzZYRbg76fwiCYqyC+0SyVapR0LTRrZnrZXyamZ+u+X8xUQHKKQsEbyD/Sz22T8afV6fbdkuYIDAnT6oEFymXnNIqOVvCNNeQVWCUerWlU/NYuKspfvi6ghI3XWrNl2qV+7Vs1zhmlwpDXHrTWTr1ClsTA73lI5d+LbGn/GHXovI16X3ftvffLJc7rMmeeTqpafvq/+03t98ZZwLNH3v/ulB3VZ7za1qEGwjeJ6SskB5uDsbw6+kl3n6oKH4Trroou10GSGO1cv08dFO74ORA3Q6HNS9PFnpYui2pzi0RHt4xSrFCWXCkjsU3KKFHu82RbOlLqyI3WT1LOD+Zvh9vKVklI6gaWb32Jtz/Y+Bl3bdFAv8/vVqsx2N11cXWzHmJM07q6X9L+Pb5fr5deKG7c9GA1wv/jCnXeIDneryHfUJ1qYmKIVi/Zp3KCuzoz64tbCD19XclFVxp7jOSm1zM7euUtJOskOSnr2z8bSpWjLqo+0U6kc+yIgwnl7prTq18eyL3mjYv98sbqlrzXTB+mxr17SOGceAAAAAAAA0DB4qlPtdctL+uTjacXdSzerWwXVqlYq8VM9OWOg/v36NRrcMapUiaxKHdRzS+d5eGUlKL0OxTNF6xm08xy6SJs4xcmtjL3WM+CDiXccPJ+eUwZEqdfY2/Xa/Gm6O/gNvTK3Xh+++iwoKEAtW7e2g435uXl2KUcV5mrJ9z/ptTc/NJ/w14EDB+wAYqNGoQoJC1Vurp8+/PQrJaft1dJlP8rPP1AH3Nnam5WlwvwC8w0riCW169DRXr5PIofqsj8u1pwlO7Vm6ac6a/gAT0whY7HefDpElcbC7HjL9+VKLHrs08I3npPrr8/qsUtOUmxtmuKyl79JaWV2V3Hc6AjlLeFYou+f4Y18ZazVe+984oz4IlyDr7hG7hef1XuJxcW23Skp2ln2wK2Aq88Y3bBqlp6YOl9nnePs+DoRrtF3Pai4D/9iN/rprYPZnbJYT467Qq+sNplH/B9025DFev7F+UW/deeil/TKogG67byDD/Qk/c8kTidOlfHTG3r4xWDdcIVnHbudd7MGm7/1vDczyN+phZNe08IhN+vCeM+kakUM0GU3uvX8cx9ojXf/5buVnFKzDCa6/WnSD4lK8u6v9MV6b0aJeqvNMt1me9ZNkd3Dv19qJkrdTmmjhHnLPEXq8/dpxWsv6eMwz9zaa664PtKKxLKl8tpo9BVd9cqUl7QwaYwGV1RtaV2w3qbY8rPee+BP+stnp+qxB8c4VRl7jmfXiy/pTe/xnLVJ7016Xa4bL9FgK/Ha++d7PfyQt5oBI3WZEqxSq/WadspzZ5gLnNfu0b0mbYwbVFGE0If1MZc538xabI6DHuo79gpdNvIkxdVdRgQAAAAAAADUDbs61a4a3afMc7COp2lc9wqqVa3SPmVkOoOpizX5ne+dkcpU8dwyuo3i9L3WrKu80Ib9PPyHJ/T3D4ujOTuXLPM8kz5kzxStEm7jdeq1byghxfmt5m8lffia3gs7V31PtIJI1cc7otp0lH5Yq19KlCysaFrNVfeccp8Wvv9JcSzAcJvfFOGqRfCrHgQHBapDXJynYs3CQgX4+Slr7z4VqFAbN22RyxWqsDDvg3V/+/9gl7/2ZWbr1ckfakvKLrv61ODgQB3IMzO96cE4/oQT7OX7xqW+f7hWaz4z+/DLoRo9sGSgOEOVxsLseEtrvXn/c0oo8ZmE1cXpIGOfM5y/T2ve/48+9oz5xl5+sJ5/8e2ifehe/4Gef6M4bnREsks22gNFff/nxwzUiDHDdPq1nyhi7M3q68yyxJ14rlzv36TnlzsTOvbQ6LAPdN2LP9ujrh436+3nO2rmVQN10hnjNeaMPhpw+9v6xZc3KgJMBnlNhmbOOqnuqlP1ajNG//7gb4qdea1OPaGnju/aUyeNfkkZlz+kq7pbB2GURj87TVdlPK6hJwzUqf16augDKRr39rMabZf2OjgRWqaHz/D83VMnzFPcsy/pth7OwR9zrvltVyjjsZE6vp/52yeM1N9Txmjas+fWoA1Ll3rd9Lr+3XGW/nRaH50+ZrxOP3WY7pyytuo3RcqIHX6xxm15XGPOHKPTR7yhNfnByph7swYMGKMx48bo1Itnq9vzN+usukrxh3m/1JR1Mjxr1UM60/qtp16rOV0f1DPnOzNrrY3O+uMYJT1q9tmIYRrxmlP/uWE1wjxuwRdac/EAdXOm1Z3FutdKkz3Mdr34Qc0JGKP/zCn9lox9PL/WUXOs49mkzZNOvkIzY/6p1246yaQ4i7V//qPb3M+ZbdLH7J8+On7MG1qRbjLb+k47lslX2GnGTjdn/EkPr+qp12a/VJw2KsqfqlufKy/WNzeY9XCWe3xXkx9e9bg+Xl/5RRIAAAAAAABwKGV8O1szu49R33LNaXVQr7PaaM5n83x7LtzlXN09dqX+csYwjRkxTKc/tFFn/fkPzkyLVQijgxY+/Q/NLFHaq9LnlgGnafRdHfTxdcM0YsRA3fllBYFP63n42zfJ/a+ROv7kgTr15J46942fPcGfQ/FM0eZSt6tf0r9PWak7RjvPAk/oozEvh+vuD/6hs5xaA6uNd5wyQne3/1TXnTlGI/rdoznWOlQ0rcaqeU6Z75Yrfb6uPcNMGzdeIwaM18xuz+q24fVf8tIXoSHBat3+OLVs1dIu5ebOyVOj8MZmjp8ZLVRhUWCqmFVLam5Bntb/9rsKzYj7wD4FBAbI3xWkbDPd33y3ResYHdf5eHv5PrNK5O79QjN7DlNfbzrythVaaSzMirdY6WOZrjutp07tN1DHn2GOgaSddgDcbj9z0nidOmK8Tj/zJn0cMUa39XG+6hNPPOe1zvPseI71XP2kK2Yp9p8l4kZHIrtkoz1Q1PcrzMwozMgLVkQlRUHdGSaTaBReXLzaKiGVH66IMiW93FZds67y06uyc8bNOn3VeP384AAnAFAPsszvNcekK6LEOpRkzzfrH1kXv2CnnbnOOWeeXhsbZW8TVfZ3jdpss3JMZpORkVP5+lWnou9b+zirim1WFw7pfjkIB7t9K2Nv4zLrl/+znjz1n4r9eJouO6i2OA+Ss84KM2mzss1f2f45FGmnKhXlT5WtT/5avTL6JUW//pJGh5tj0X5zxq0V//cnXbf5Zv3vlZq8BAAAAAAAAAAcGaxn/u7Ayp9Ll3uuXd1zS+tZYRUxBq9Kn4cfymeK3meFAVX/3qqe3dvzyjxrrGiaz3x9TunLc9saSk3bq5joJs5Y7WVmubXm59X64tNPtXt/lr77Zb0K8rIVGORSXkGA/P395efnVxR8tNp5tIKKgYGBysrKUljjRs78fPXv2lYRIYE6d+zFOvHkXmoUVpOV9cRo1vxxqR4YVOZ7vqTTytJiXcUJDvfz8xIWLlnlDFXs3ok3OEOlWaVR8/Ly9OW8BZ5Yo7VLnb6/nTir2MDlVrySg8wVWfH0SmX9rMlvbNJVo06tv2CjxVo/89sq3Xn2/Pr5BdY2qSrR1HibVSTAVfX6Vaei71v7+GCW6YvDuF9q5GC3b2XsbVx6/ZI/e03vnXKxzj6cwUaLs85VnrQq2z+HIu1UpaL8qbL1Wb1Yb4YNVK825msmn7M/ExmluPbNzfoFq55qgwUAAAAAAAAOK/tZWBXPpcs+1672uaX1rNCHCFilz8MP5TNF77PCan5vVc/u7Xllvl7RNJ/5+pzSl+e2h4kVFOx4/PE66eSTlZObq9y8QrVs1kgvPPl3xTQPlArcdpAqOztbe/bssYOMueZzVrWrVpuOFisYaQUd3bl5Oum0Pup8QvcaBhsl9/K39WbSFRrdp4Lv+ZJOK0uLdRUnONzPz+uSXcLRdCX6ngpzD6mf9aZV7PfMa5VwzuO6rXcDPDqAQ2jnlw9pzJhhGvG0q0Sbiqh3XU/TZVnP6c4HPtDCJcuUYLqZL1+nMe/E6d+3n3nk1p0NAAAAAAAA1AGeWx4iR8lzyojwUPUbOlTHdeqkvBy3WreKVVRkUz3/xMMaO3qYct3ZCnWFKLJJU4UEu+x2Hb0lH70KC/3M97towLBzFdHYE4j0yU9v29XyDrh2mc566ib1IuxU/+zSqt7O6hXKr7CiCnTrU75byYk/KSOyh7q1Ofr2ul0c3YpSk6Dhq/RNWrFRiuvZQRFHw5sNR5L8fUpauVgJ/0tSmqIVd/ppGsx+AAAAAAAAAHhueSgdpueUdVWlqpfVfuOejEy9/H9vmnXK1J8uHWtPn/ftUk1+5zO5D+Qov7BAoaGhdqDRG2y0qum0hkede6auu/KPimzaSMFBgfY8n7hTtGb5PkX07qpYYjM+OegqVed/40wpdugDjgAAAAAAAAAAADis6jrgaMnNy1fGvgPauHGDWkU1Vo7breWr1+rpl95TYUGBHbAKCgpyPu3RsX1bjb/wPJ3er4+aNA5VYOBhqJzzGFM/bTgCAAAAAAAAAAAABykoMEDNIxurW3y8ghu3UHhkS3Xu1FlxHdopxBVsl2QMCXHZ41aJxofuvV3PP/2wzhx8upo3bUSw8Uhhl041XYk+JRwBAAAAAAAAAACOMfVRwrGsA9k5ysnNV25unvILCmWFpKygY4C/n4KCAuQKDlKIq3SJR9S/uinh6BRtdIo4EioGAAAAAAAAAABAnQsNCVaT8FBFNQtXy6gIO8Bp9a3xJuFhBBuPVHaw0R4o6hNwBAAAAAAAAAAAAOAbu/JU05XoE3AEAAAAAAAAAAAA4JsSbTd6+wQcAQAAAAAAAAAAAPjGW7LR7qweJRwBAAAAAAAAAACOOVZ7ikCteEs2ettwpIQjAAAAAAAAAAAAAJ/RhiMAAAAAAAAAAACAWqMNRwAAAAAAAAAAAAC1ZpdstAeK+gQcAQAAAAAAAAAAAPjGLtloDxT1CTgCAAAAAAAAAAAA8A1tOAIAAAAAAAAAAACoNdpwBAAAAAAAAAAAAFBr3pKN3jYcKeEIAAAAAAAAAAAAwGfeko3eNhwp4QgAAAAAAAAAAADAZ7ThCAAAAAAAAAAAAKDWaMMRAAAAAAAAAAAAQK3ZJRvtgaI+AUcAAAAAAAAAAAAAvrFLNtoDRX0CjgAAAAAAAAAAAAB8QxuOAAAAAAAAAAAAAGqNNhwBAAAAAAAAAAAA1Jq3ZKO3DUdKOAIAAAAAAAAAAADwmbdko7cNR0o4AgAAAAAAAAAAAPAZbTgCAAAAAAAAAAAAqDXacAQAAAAAAAAAAABQa3bJRnugqE/AEQAAAAAAAAAAAIBv7JKN9kBRn4AjAAAAAAAAAAAAAN/QhiMAAAAAAAAAAACAWqMNRwAAAAAAAAAAAAC15i3Z6G3DkRKOAAAAAAAAAAAAAHzmLdnobcOREo4AAAAAAAAAAAAAfEYbjgAAAAAAAAAAAABqjTYcAQAAAAAAAAAAANSaXbLRHijqE3AEAAAAAAAAAAAA4Bu7ZKM9UNQn4AgAAAAAAAAAAADAN7ThCAAAAAAAAAAAAKDWaMMRAAAAAAAAAAAAQK15SzZ623CkhCMAAAAAAAAAAAAAn3lLNnrbcKSEIwAAAAAAAAAAAACf0YYjAAAAAAAAAAAAgFqjDUcAAAAAAAAAAAAAtWaXbLQHivoEHAEAAAAAAAAAAAD4xi7ZaA8U9Qk4AgAAAAAAAAAAAPANbTgCAAAAAAAAAAAAqDXacAQAAAAAAAAAAABQa96Sjd42HCnhCAAAAAAAAAAAAMBn3pKN3jYcKeEIAAAAAAAAAAAAwGe04QgAAAAAAAAAAACg1mjDEQAAAAAAAAAAAECt2SUb7YGiPgFHAAAAAAAAAAAAAL6xSzbaA0V9Ao4AAAAAAAAAAAAAfEMbjgAAAAAAAAAAAABqjTYcAQAAAAAAAAAAANSat2Sjtw1HSjgCAAAAAAAAAAAA8Jm3ZKO3DUdKOAIAAAAAAAAAAADwGW04AgAAAAAAAAAAAKg12nAEAAAAAAAAAAAAUGt2yUZ7oKhPwBEAAAAAAAAAAACAb+ySjfZAUZ+AIwAAAAAAAAAAAADf0IYjAAAAAAAAAAAAgFqjDUcAAAAAAAAAAAAAteYt2ehtw5ESjgAAAAAAAAAAAAB85i3Z6G3DkRKOAAAAAAAAAAAAAHxGG44AAAAAAAAAAAAAaq1E241WzDEnN5eAIwAAAAAAAAAAAADfFOTnKycnR1lZ+7V//3653dkEHAEAAAAAAAAAAAD4JjMrS263W3l5BSosLFRoSAgBRwAAAAAAAAAAAAC+KSwoUEhwkKIiI3Rcmxi1aNaUgCMAAAAAAAAAAAAA37SJaaGWUc3UOCzMmSICjgAAAAAAAAAAAAB8ExQY4AwVI+AIAAAAAAAAAAAAoNYIOAIAAAAAAAAAAACoNQKOAAAAAAAAAAAAAGqNgCMAAAAAAAAAAACAWiPgCAAAAAAAAAAAAKDWCDgCAAAAAAAAAAAAqDUCjgAAAAAAAAAAAABqjYAjAAAAAAAAAAAAgFoj4AgAAAAAAAAAAACg1gg4AgAAAAAAAAAAAKg1Ao4AAAAAAAAAAAAAao2AIwAAAAAAAAAAAIBaI+AIAAAAAAAAAAAAoNYIOAIAAAAAAAAAAACoNQKOAAAAAAAAAAAAAGqNgCMAAAAAAAAAAACAWiPgCAAAAAAAAAAAAKDWCDgCAAAAAAAAAAAAqDUCjgAAAAAAAAAAAABqjYAjAAAAAAAAAAAAgFoj4AgAAAAAAAAAAACg1gg4AgAAAAAAAAAAAKg1Ao4AAAAAAAAAAAAAao2AIwAAAAAAAAAAAIBayTpQQMARAAAAAAAAAAAAQO1MfHY7AUcAAAAAAAAAAAAANTdjbobmLskk4AgAAAAAAAAAAACgZjIPFOiZKbvsYQKOAAAAAAAAAAAAAGrkP5/u0a49+fYwAUcAAAAAAAAAQIMyN3Gf3lmy1xnD0Sh1T64zBOBI9dX/Mp0hya/QcIYBAAAAAAAAADisVv6WpZk/Zmj+6n3OFByNGof4q+dxYRp1chP17RTmTAVwKCxcssoZqti9E29whkorKChQXl6eli1bppTtuRo6YbM93c+PEo4AAAAAAAAAgAZiUeJ+PTtrB8HGY8D+7AItXrtfb32zSwkbspypAI4UiRtznCHp5G4hBBwBAAAAAAAAAA3DwsT9+n0XVW0eS9ZuzdbnP1J9LnCkSc/wtN1oOa51MAFHAAAAAAAAAMDht+r3LK3blu2M4VhiVaML4Miyd19xwLF5ZAABRwAAAAAAAADA4Xdi2zBKNx6jrOpVARxZ/KyGGx15eYUEHAEAAAAAAAAAAAD4LjoywBmS0nbnE3AEAAAAAAAAAAAA4LvoZoHOkLQpJYeAIwAAAAAAAAAAAADfde0YLG+tqr9scBNwBBqEDbP17NPPOt1kfbfHmQ4AAAAAAAAAANDAREYE6JQTQu3hwkIRcAQahJ0rdOfEO51utjbtd6YDAAAAAAAAAAA0QMP7N3KGCDgCDUNIiHo5gwAAAAAAAAAAAA3dRec2UcvmnrYcCTgCDUFUK3VwBgEAAAAAAAAAABq6UJef7rkuyh4m4Ag0BIEhCnEGpXh1iHUGAQAAAAAAAAAAGqhzBzbWiEGNCTgCDUJMK3VzBjW8g2KcQQAAAAAAAAAAgIbsn39tScDxSJL60c0686wzPd1Fk7TCmV7eJk29yvmc6Z5NcCY79qydrckTr1H/zn7y8/N2rdTt0sc0Y/Ue51NVyEvVd+8/pmv6dSzx/Y7qf1Xl36/d31yhSd71vWqqWStLthI/eUyXndiqeDmdR+rO9xPNnKrt2TBbk24cqW6tin9Dx37X6LH3v1NqnvOhclI1+3bvtnxM3zl/JHXBs6V+Q6sTL9Ozi0uuxx4lvn+nRhatr1nX8+7U1LWV/coYdRjjHYxUqDNYSurX5X6/X+f+uuaRGVqx0/mMr/LM7/tisu68qr86epdlda266TKzvMTKdskPk4rS1TXvePaItV2fLbWcjhp54yR9V8lvSp15Z9EyHlvs2R6pCea3nNdNrcr+jv327IrV5fYAAAAAAAAAAAC1YlWt6ldoOONo6HbO0DXRF2iyPdJLz6z4UXf0tEdK2zBZZ3a+Rl/bI3do/oFnNDREyl47Vffdfp+e/cITKKpYB1394Xy9cWHFLQpmr52sm0dfo8kbnAnlxGjEi7M16y+97LGD+5vf6TG//rrPHn5US/aN1ZpbRuqaKRUtK0aXTl2i9y6p6Hfv0XePX6Cxf/9aqc6UcvrepFnvv6QRxznjRVI19aJWuuwja3is3tv0jJo+d5lG/vs7e25p/fTod1/r3u6JevbSEbpzZgV/LeZSvffde7q03N/Zo9k3RmrkK2bw4SUqvL+fZ7IjO+ExDe13n9kilTHb8G2zDS+vriXIbCW+f5/ufOBZza50Hxqdrtb0uW9obNnfaX6Hn/kdtr+8oVmtZujqv8+ueLuadX3j28m6ulNxZbGW1PcvUKtLZ9jDQ5+arqt/f0aXVbg9jb73av7MRzXUUwV0kbrbHgAAAAAAAGhIznh4vTNUe8NGtdXlMbma/UaqPnCm2Qa10n86Fuidt7ZrnjMJDcc3D3R2hgDUt4VLVjlDFbt34g3OUGkFBQXKy8vTsmXLnCnFKOF4JIkaqrFF+3iFnplZcbhl07cznGCjFHPPCPX3xnv2bNLXJQJ/HfoO1dDhVtdPxWGZTZp8y7OaXVEJsd+m6uohpYONMd2dZfR1lhBzme6Y4Ak22g72bxZ5SWM7dysKNlrL6dfJHnSkaurtk/V1uQKE2fruEbMNSgYbO/Xz/IYh8cVVlyZM0sh+l2lGsjNeoRm6o1//omCj9RviS9V9+p3uu+ECjRx+shNsjFH8kJLraaRO1R2vfV1BacymatXWs7CxncoEybK/1qNjioNrMUOu1r1PPaNnnrpXN53r3e5mnQaW+V4l9mz4ukSwsYP62fujxD60bJism56arSrLu/77Go10go3edFBqn5h1vebyZ7WiskKdxtcTLygKNnrTRqltmvCYLrt9RumAZh1vDwAAAAAAABxdmjcLVvvW4frDuEbOFEdTM71FoJo7owCAukPA8YjSVEMvvLcoSJb68qwKAmyp+u6L2c5wjK4e3l/eeGNI35v06A3xGvvwdP2YVqiN383X/DlWt0RrVjyjEc7nlDpJk+eWLbO2Qs9ecpmmeifHjNCjX2/TtlXOMr7bqPTv39AbnzyqoY2dzxgH9zdLSlWqmd1hwhtFy1my3vTfvrQ4aJj6mGZ/W2aDrJykOx4oDsz2e3iJ0tcv8fyGr9cocdUburRog07VTf+sOsiWan5EzOhHNX+b5zes2ZauJQ+XKI24crZmJ5i/85f3tCZ9m9Z8vUQbczfqjQud+Ubq47O1pIIgXK+/Jio9PV2Tx5SMuBk/fK3HvJum5zOa/fUbevSuO3THXY/qpdlmu696Ty+9+WwFpSYrEqJ+Nzyqm7qP1aMzflS6+W1L7P1h7cM1+vG5oj2i1Fcma3aVAVij09V6Y0V6UTpYsj5da14rsU8S7tOkL6oMWypmyL2a9fuBorSx5vdtmnVP8TZNfedRvbfSGbHU6fYAAAAAAADA0Wj//nw179JcNzRzJgAA6hUBxyNMyJALdKe3GtXUyfra26ig184l+tqu/tOIuVpD+5WszrKpRry8RtPvH6teZaqoDOl5tW4qUUJ2xoo1pUrhZS+YrmeK2oKM0R1vT9e9Q0oHxpqecrWu7lu6+syD+Ztl9bp/vn588+pSy+lw+c262hm2bNpZuh3F2a/dWVztZt9nNOn+fuYXFWva/Wo9+9xYZ8wKsk3S9KqqGr3wDS2Zca+GFq16U/WbcLOKl2D9TrMPXrxU8d4/FNhBl117hzNi2WQHT8sJaaqm/9/e3YBZVZYL47/5EBABAdEzJInjBwqZBzhZYOQHKFeNkYGWKEdNRd9DQJminoRjr4Z5UvF0CPK9UuyVDn5cR0Ez0b8CivoCYQcUDVDDQYWYkoQAkSGE/95r1p7ZAzPDdkBlmN/vurbPs5619vp41vbCi9v7udtnPjtNYdmavCVkiztXu/+s9idcECO/tlOQsi6dSmLSK5n3N7hXtG+ejiVaRa9LRsbIdCub0bloWV1vpH9MeuzuuKxntRmN7pePqfqNZkx5el4dQdyRMeU346OkS95DNy+KkqvG5L3XxTHtmaqKpXt9PgAAAADY77TZ8kEs2NQyBn/zkOicjtWk8wmd4o7vHZMs5/nsuKPj/gs6RrKwZ5d/iHv/9Zi4q+r/z48zzj0ynvrXI+KayiBm6xj3L8fE9H+uIar5mXbx/Qu6xm+vz5w3e+5/PTLuOCMv47LkiHhqVOe4cODhcf+16TFjusa4LxyQHhDx/eHHxP3f7hgjLjoyfjuu4pjf/ktRDBZEBfZBAo4NTq8Y8r3cn3JlSTAnPyS0fv6ctMZjRNF3z0pqN+7OlvXro/SlRVG6LR3IWlmWFyTaEvOeuLlqWcueY2LYmQWcuA67v+auirv32CW4lBmNHnnZg/NWrkl7GVsWxZxsTcRU/0uHZGZvV0WDR0ZVOHBmzJyfF9Da2ed7RHG1IF1Gl+LonXazirsXV2aV5rQ6tndeUHJ6lNYUcKxFUea7lfc94+oYftV9sbjO5WfrY0usX18aixeXVvs9VQ/g7qx9dMjLZq3SK/pflDfTdy6OZWl3V51rPke15YMjFs9fVvn7+2TmAwAAAICGbXvcuWRLRJeD4/t5/3N8NUf9Q/z7NzpEt01/i9umvh1XzdkcceQhMe4brSNWbY41W5tE16LcAqyt45TPHBAtmreMbl9IhzJjXTs1ib/+5b10u0rnbgdHn47bYu5zZTH+kXdjxtpm0fuLeRmXzZtEi45t4sIeTWPRvMwxT66PRdsOiDPOKIrL0mNatGgSnY/vGGc2/SAe/E1Z/OfCzbG1Y9sYsZsg6sft2306xGHtdv5L0oh/OLh5fKvPrn+DCzQOAo4NUPGgyyqzv6ovz7k+5j0xOe0Xxagz85b6zLdtfSx7YkqMuXRA9OjcJA7s0CGO6jUgRt2V7t/F+ihbmXazBp1cY+CuTh/5mvVTti0vXLa2LPJDh/0/X0tNv1bF0Xtw2s+YvvIjRAMLteufv4XrOTImVy7bWhZz/mNY9D60c/S4YExMeaaszqzQOq1dFjN/NSaG9+8RnZscGB06HBW9+4+qDFjvic5F+XO9JtbVFbesUfvokP9fTW+syZwl9XHNBwAAAAD7lTXPlsWMsqbRp19R9EnH8p3Xr0103fJ+3HnPu/H4yvJYNG9NTHnzw+h6RLvoHBtj8drt0aJjq6j4q8PW0bnN1li0ant07ZIGIU87MLo23Rqv/75iM9+aZ9+J8yetjtte2BizlqyP/1yyJTY1PyCO7ZYekNgaT//snYpjFr4bVz27Od5r0Sr6VAY0M9ZujCH/98/x6yUbY8aTq2PKyg+jxWcOim+muz9pbVo1je8O7BQ/v+SzcWhe0LFz+wOSsZEDD42DWgo7QGPk3/yGqFP/KLkk7ceEmP50Gs3Jz+jrOSZKavhTdP3TN8dZ3TtEj5LhMeFXc2JZGlsr7tM/+h5T0d9VaZTmlmnNqsrqL0j9rrkXrCqN6Wm3bgfuWUDwY9cq+v7bzJh365CoCuOVxbL7J8Tw/p2j+PPDY8qrHyWitz7m/PisOOrQHnHWpRNiyjO57MHi6Htm37xr7C1rYv2mtFtfL23JCyTu7fkAAAAAYP/097jz2fdjTcc2cdnAnf9Ss3V8rn3TiKYt4tv/0jXuTT8XFmXGWjeLUzJHPPj21tja+oDodVRmIxtc3PL3mPmnv0eL9i3jjMzQ4C4tosX6rTF71wTHROcjO8T3L/hs3Hvl0fHUGa2jTTSNQw5Ld9bkpQ9jY6Y5pGPbiu0aPL7pw8w9N4+uJ6YDn7BNW7bH7b/9Sxx2cPP4+Xe6JEHHovYHxMS0n933fvn29GigMRFwbJDaR8mFYyNXpW7yE2mNvJfmx7RkJKLXBf13yUIs++9h0X3guJiZ1Cgsiv6XT4qHF78ZH/x9R7w5f3ZMuCg5rAZFUZyXAfhR1P+ae0FRcbXaig1b++h7zcPx5ro34/GJI6MkL1Bb9uqUGP75krh5QSG5fWUx/aLuMeCGmRXZn0X947KJD8ei0g9ix443Y95TE6rVxNw7iqNop/qdH9mZRZW/9wp7az4AAAAA2K+9viYeeXNHHNvzsDgvHarQLFo0j9i65e/xRll51Wflppj16uZ4I3vIsx/EW9sPiK4nHBDnHdEitq79IGb9vjzeatMiTjmqdfTq2DTe+8umWJScr7reA4+Iu/75kOjTYmvMempNXPyTDfFWuq+h++2iv8Xtj/25MtA46ZKKYONtv/lzsg9onAQcG6hWp58TY3Jrj985JxZtyda5ezjNVOsVw87cOdw4P6Z87750f8SQe+bF7F+OjCE9i6PVbrP7OkT7/GjPK6WV56nbnlxzL2jfvtpa5kvfqe2uS6P0+bSb0b+oemhrn9K+OEpGT4rH3/gg1swZHyWVtzo/xt0xfffvZcGUGPnryjcSd8+fHXePHhK9jtyzmpw7K/3jvLSX0bNzdPjIpy+L0lfSbtYxmXOk3Wr2dD4AAAAA2O89OHN9/KFp6yhpvyOqFuLaGG9lNlo03x6zHsnWWcz7zFyXBhH/Fq+/F9G5U8fo1alJvPX2uoj3NseaTdkg5EHRud2OWFOWzUncWdv49gktI97+a5yfXQ51aeY76Z469WyW+WbEX9+r6ZwVzmrTLGL7tnhrSTrwKXl88Ya45ZGKoGPHNs3jpofLYuZLG9K9QGMk4Nhg9Yoh3ytJ+9Ni/kvLYtETiys2ew6L/jsXQl5ZGosqoy8j47LBH2XhzPbR/aTctTL+e1o8nmQs7sYeXXMvaN87Tv5W2s+4L5cJupMtzzwekyrvs6j2Wo/7lFZRdPrYeHzG+KrMv/8urVazsialbyyqCsKNuCzOOTLt701b5sec6VWhvqKv9Yruab9gq+bEw3nL+Jac1D3zK6xL/eYDAAAAgEbgvb/GlKVbo+uRLaNNOpR155LNsandQfH9b7ePY9OxY3t2jMGVdRb/HrP/kl1C9aDo1vrvsfLZ7FhFbcfORx4UnWNrvJqM1axFi2YV5+3YNkZ856DomozmOyC6fb1dxTGf6Rh39D8oOm7eHLOeSnZWaNcyrunZMukee8rhcdlRzWLTyo2Rq6z1afr/lmyIH97/p+Qz5w+1B0mBxkHAsQErPnNYumRoWUz6xfiY+XSyEb0u2nU51dj2QV6wbVmsWZt2c1ZOj2kz034NigddlrfU5swYfuHNMX/n6N22spg5Y35Vrb09vOaeK4qSC0dWBaB+NTLGzdjppjfNjwnX31wVhPva+LigpgrSn6YtmXu8akosqylami/zoLtNJNySd5I/rol1aTendMa0eDzt715pzJu/c0hvfcy/7eoY91K6mfkljvrGyXXc17yY9/udHmxbadx3/dV59TeHxLAz84LAe3M+AAAAAGgUFv1mXSyoSm+ssGB1jJ9XHi27HRp3jTsmnrr+2Ljr6x3ijCOq/lZp0etb4702zaLjhq0xOx3L1naM9gdEm/fK45F0rLqN8cjS8tj6mQ5x1/XHxLPf/Yc4Zevm+MMuFYB2xCFHHRZ33XBsPDv8kOjdvDxmPPmXeDDdm9jePHqXHBHPZo6567TW0aJsffxs5s5/q/fpWfDG+/G7P76fbgGNmYBjQ9alJIZdUtEt+/V9aYCmf4wctEu4MXNscfStjLzNiXFXjIkpT8yJOc/MjPt+fE4cVXxOTF6Q7q5JpyExdmpeRcQF4+Lkk86KUbfdFzOz57htVJzVvXOcNeTqmPD79E/OPb3mXtB+UOZ+LszdRFlMHtI7zvruhLgvcx/TfzUmzul1coyrvIe+Mf6mYbFv5TduSQJ4Y/5jePTo3iOG/Tgz3y+Vxvr1ZbHsmSkx6gfjKoOlRZf03W0mYedj+lYFYJ8eF8OvmpJ5f5l38sR9cfO3j4qjhkyO+enu3Vsck7PfKRkV436e+f3dPyFGlfSOk2+oOkPRiPExsk9dYb+ZMeak7tHjgjEx4VfTk3cyLPNOhlUu+5p5K3eMiwu6pBt7eT4AAAAA2P88OHVFnPaLP6dbORviX+94I067dXW1gN6CWe/EkPEr46rpf45bH1kd549fESNn5UUGl/wphtyU+d7ENVW1Gp99JwZmxzLXqG2p1AVPvh1fv/tPMf63ZXHVL/4Y599XFiNvfSMu/k16QGJbzJ+Y2Td1TYx/KHPtW9+O/3z17+m+1Kb34/yfZO7vobK4YerKzDnfjVnvpfsA9iECjg1a+yi5cGxVACnrzAui/zFpP1+r/nHZTVXLopY9MyGGlwyIAf3PimE3TI/S6Bsjf3J19E/316T4wikx7yf9q673x5kx+dphcVb2HNdOjpnJMqvzY1Kudt5euOaeK44LfjEzbh+Uu+vSmHnnmBiWuY9zLp0Q0yuXhs3cy2+mxdgv7GM5cesXx5xn0izCsmVx3w2Z+e51VHTo0Dl69B9eFbDtMz6mX99/txl9rU6/LMZ/Ld3IvKU5/zE88/4y76RkWIz778x1+oyM8dcU+kaKozjzWyt9YnLc/L1hcc4FY2LyE3kZj9l7urWk7qVQizLnKCqLZfdPiDGXnpO8k/terQo2Fl04Lab9IC+AvpfnAwAAAACyS6cuWroxZhVaa7FQf3o/Zi3ZFIt2EyBcs3LTbq5dcX/PrdwpGAmwDxFwbOBanX5OjMmr19j/W/1rzdArvnxaLJo4ZJf9xd+6PWavmReTflCy61Ks1bSPvj+cHYvn3B4XnFAtzFnhmJIYOTGzf+oFlUHJPb/mXtCmV1z9m2Uxb+Jl0X+X2y6K7uen9zJo38ptTLTvG2PnLIs3Z06KkV+r6f6Kov/ld8eiJ8ZG3/wF6GtVHJfdtygmfWuXNxJDbp0da56fFFefWegbGRKTnl8a036QF4ROFEfJNdNi6dMF3NPnx8bji2fH7TvfT1H3uODWebEs81uqtmevzwcAAAAAALCnmuzISPs0RFvmxJgDB8SEZKMk7n7j8bispgzHfFvWR+nyRVG6rkMU9+oexe3rlwe2ZX1Z5jxLY80HB0bn7r2ie1Ed59lL19xzW2J9WWksW7YmPuhQHL2PKY72DSkwtSkzj3/MzmNEh+LeUVzUPuo7lVvWZ+ZhcWmsy87D8Zl5KOQ8C26OJn3HpRtDYto7D1csd7qpLJa9mvkttNr9ucruPyc6X5Cr0Dg+5u0YG30zvdz9bOncI3odUxStmlccUae9OB8AAAAAfPpOu+mNtLef+8xBcUaniLeWvB+1PfGx3dpG19gas14vT0f2b9k6lcAnY+68V9JezcZeOyLtVbd9+/bYtm1bLFy4MB2pIuDYwK2fMTw6DJlSsXHJw7HuniF1L2EJe6K2gONHUFvAEQAAAAAaTcCRXQg4wifn4wg4WlK1IVt5X4z8bhpsjF4x/ord1MsDAAAAAACAvUzAsaH5430xbOCAGDDw5DiqeFjcV1YxXDRifIzsYy1JAAAAAAAAPlkCjg3M+mXz4r6n58Scp+dHaToWfcbH9FtlNwIAAAAAAPDJE3BsYEpXLoqitB/H9I3Lbn083nx6bPRtk47Bx6l5++h/Zv/0Uxztm6fjH0Wb4rxztA95uQAAAAAA0LA12ZGR9gEAAAAA4FNz2k1vpD0am2dvODbtAR+3ufNeSXs1G3vtiLRX3fbt22Pbtm2xcOHCdKSKDEcAAAAAAD51r7yzOT57yAHpFo1Jm1ZCFdDQ+bcYAAAAAIBP3ec/2zq6dVaApzHqeWTrtAc0VAKOAAAAAADsE07t3kaWYyNz/Gdaxdd7H5xuAQ2VgCMAAAAAAPuEU7q3iavPOiwGnNA2HWF/lV1Gtd/xbeI7px0SfY6R4QgNXZMdGWkfAAAAAAAA2I/NnfdK2qvZ2GtHpL3qtm/fHtu2bYuFCxemI1VkOAIAAAAAAAD1JuAIAAAAAAAAFKS8fGvaqyLgCAAAAAAAABTkD6+/EX8sfSveW/+3yFVuFHAEAAAAAAAACtK0SZPY+P77sfKdd+LlPyyPFSvfFnAEAAAAAAAACtO23cHR+sDW0eKAlhFNIjZs2iTgCAAAAAAAABSmebNm0bJVyzjooIOibdu20brVgQKOAAAAAAAAQGGaNW8WzZplPs2bR/PmB0TLAwUcAQAAAAAAgAI1a9I0mjXNfJo1yXwq+gKOAAAAAAAAQEGaNm8eTZtlPk2bR7OmFdmOAo4AAAAAAABAQZo2aRJNm2Y+2bZZ00xfhiMAAAAAAABQoCbZAGPTZtE0m9mYa9N9AAAAAAAAAHVqkv00aZL5VLRJtmPFLgAAAAAAAIDdyEYak6ZpGni0pCoAAAAAAABQoIoMx6o2duwQcAQAAAAAAAAKlEQZsxHHijap6ZjsAAAAAAAAANidHTuy/0g/2UaGIwAAAAAAAFCoXIZj8sk2TQQcAQAAAAAAgALlMhzzWgFHAAAAAAAAoDA71XCU4QgAAAAAAAAULslsTDqVrYAjAAAAAAAAUJgkszHpVLYCjgAAAAAAAEBh1HAEAAAAAAAA6k0NRwAAAAAAAKDecpmNuRqOMhwBAAAAAACAguUyG3M1HGU4AgAAAAAAAAVTwxEAAAAAAACoNzUcAQAAAAAAgHpLMhuTTmUr4AgAAAAAAAAUJslsTDqVrYAjAAAAAAAAUBg1HAEAAAAAAIB6q6GGY5MdGclO9nll7/4t7QEAAAAAwP6j6NCD0x7wcZs775W0V7Ox145Ie9Vt3749tm3bFk/OeiaJM1bIdHbsEHAEAAAAAACAxmKPA46zn01HqlhSFQAAAAAAAChMXu3GXCvgCAAAAAAAABSmhhqOAo4AAAAAAABAYSqrNVa1Ao4AAAAAAABAYZLMxqRT2Qo4AgAAAAAAAIVRwxEAAAAAAACoNzUcAQAAAAAAgHrLZTbmajjKcAQAAAAAAAAKlstszNVwlOEIAAAAAAAAFEwNRwAAAAAAAKDe1HAEAAAAAAAA6i3JbEw6la2AIwAAAAAAAFCYJLMx6VS2Ao4AAAAAAABAYdRwBAAAAAAAAOpNDUcAAAAAAACg3nKZjbkajjIcAQAAAAAAgILlMhtzNRxlOAIAAAAAAAAFU8MRAAAAAAAAqDc1HAEAAAAAAIB6SzIbk05lK+AIAAAAAAAAFCbJbEw6la2AIwAAAAAAAFAYNRwBAAAAAACAelPDEQAAAAAAAKi3XGZjroajDEcAAAAAAACgYLnMxlwNRxmOAAAAAAAAQMHUcAQAAAAAAADqTQ1HAAAAAAAAoN6SzMakU9kKOAIAAAAAAACFSTIbk05lK+AIAAAAAAAAFEYNRwAAAAAAAKDeaqjh2GRHRrKTBuW66X+Lt9/blm5Vd+QhzeOWwQcn/WseXh+r1n2Y9HeWfxwAAAAAAAD7v7nzXkl7NRt77Yi0V9327dtj27Zt8eSsZ5I4Y4VMR4Zjw1VbsDFr5V+r9tUWbMzKPw4AAAAAAAr16KOPRvfu3aNHjx4xc+bMdBRoFHKZjbmoY2ZbwBEAAAAAAPhIRo4cGcuXL49ly5bF6NGj01GgUVDDkQZlXWksmFcaG9LNPbZTsmf52wvjoSmT4p7pS2JteWag9mTQvaA8Vr28MBavzl5oP/CxzhUAAAAAsK9r1qxZ2qtYZhFoRGqo4SjgyL7rzRlx8aUzYkW6uSfWPjoqjvvcqHhsbTpQ9kSM/uboeOj9w6Nd+YaIlkviZyf1jBMnLkkP2Ns2xoLJV8Sdv9uYbjdcu8wlAAAAANDoTJw4Mbp16xYnnnhiTJ48OR0FGoUkszHpVLYCjvu5z3ZonvZ2deQhte/b33T6wtC47pqh0atDxfaGl56LuUddFTd/b3Cce36/6BTHxcBxw+OG/sdVHECtdp5LAAAAAKDxOfvss+O1116Ll19+OUpKStJRoFFIMhuTTmUr4Lifu/Wcg+P+4YfU+Lll8MHpUY3A4f3i0sv6RZc0y3/r5o0RHVtE1Qy0jB5DRsW5J7RMt6nVTnMJAAAAAAA0Imo4si9aO+/uGF3ylTju+C/Fl4fdEg+9UUudww/LY9W8qTFm2Blx4vE948TTRsWdv8tb1/PDtbHgF1dHSd+ecVzvM2LojTNiaa4A5MtTY/C5U2Nxprv2yRvj8okvRvx+clx+7tAY+2T2HGvjqRty/dSHG2Pp9Fti6GlfytzbV6Jk9N2xIN1dvnph3HPdRfHl3hXXuuIXC2NttbqG5bEi991k/5vR8oh0V07m/Ivv/2HlMUOvezAW5xesXDs7xl76YCxduzDuHJF55t53xIKPVAIy+0xXxLRlmetMGZXca3bO7nk1c5LNpfHQjRfFSdk5HzE1lm5Ov5K1bnk8dls6j5nnzs7jivz9eXOZtXjK0LjpmbXJe7wi97xTlmdmoH7qntv0mV7Ne9d9L4qbppfmXa+QY3aSfabxs2PVshlxU/L7ys5L3vv+n7tj6KWZear2jjfG3PFDY8zjq9NtAAAAAGg8Hn300ejevXv06NEjZs6cmY4CjYIajo3PNQ+vj/Pv/muNnx/O+Ft61KcnWw+w/6jn4uhxD8SL82fFgyMPj/L3tqZ7d1L+Yjz0cMSgHz8QL8x/PmaOPTweGjEhnlpXsXvDk7fExXO7x80zX4rX5j8QN3w+85XcqrHb1sbSVyuiR51OvypuHv6PEZ+/PG6+66647vROyfiGsuXxbmVgrTwWT74oBt+9Nc6d9Hjm3mbE7ae3SPeXx4KHZ0R89cZ4dPbz8eIjP4wuD4+Of3+6qj7jqulXx+Dxq+PUCdPjxdkPxHXdF8a06enOROb8d1wUQ3/dLkZMnZU55t4Y0WFGXDz0jlicu4dtG+Ldec/Hz/5tasTwe+OFpy6PXh8xAXNDWea6V18dD3UYlbnXx+PnZ6yOn37/8hg6KnPOc+6I2c/+PL7x1h0x+v8uT78RseLJB2Pp0RfHL2dmnu3Zu2Lg6htj9H9V7c+fy8R7y2PubaPi6t+fGDfMmBX/b1JJrLrt6rjn1XT/R7L7uc0+008vvz4WdB8VUzP3OHvCF2Pp+KHx0+eqwomFHFNN9pmmXx+jf701Bt0yI1549t74QYfH4+KRD8aKDyNa9uwXp741OR76Xd73y1+Ouf/VKfr80+HpAAAAAAA0HiNHjozly5fHsmXLYvTo0eko0CjkMhtzNRxlODZcn+1Q+3qW+bUZV62rlpJVzcq/bkt7n5IPl8SUG1+IU388Oa48+fBo16FtdDn5ohj2pbbpATtp3S+unHBRnHpUp4pjzzwrBsUTsfjNit2rVi+POPr46JGtLdiyU/QYMjh6ta7YV03LtnFY6xaZtkUcljlPu5qCeGUz485fbI0rb/1RnHtC9nrZ810Ug5IsxZZx6vduiUtPL45O2e8fMSAGnR3x2CulyVezzzVtfPa5bokR/5R9rk5x9OlD49wvVOxOvP1I/HRKy7juP38Ypx6ROUeHw+PUa26J69pOjZ8+mp8x92J0OX9CxXk6tc1ceSdlM+KK40fFQ2Xpdg0O/c6P4uYhx2fuNXONSy6KPqtbxaD/nT5X0RfjsuH9YtVLyyIXQjz6/B/FdUNOjC7ZZys6Pr5xVr9Y8fuq/TVZdcpVce/3vph8p9PJ58WlX1odi1+v+Rtrp4+K466YUcv5djO3qT7X/CSuTI/pcvKouGF4p5j26AuRnyBayDHVbD4vbvjJedEr+z4yz33uNVfEwJenxlOvZ/Y1Oz4GDT8uHprzcmWWZPnvno9ppwyI04rSAQAAAABoRJo1q/o76u3bt6c9oFHIZTbmajjKcGy4bj2nfY11GbOfBlOb8a1lsWBzvzj1n2oJMNbkw42xYt6MuOfGq2PwuT+KaZsjVrxVEbrqcdZVce5Lo6LfeT+Me54pjQ21x1p3q/z15TE3BkSfE9KBGmx4c2E8NOWWGJ1dlvX+8og3VlQE0d5dESt281zlK9+MxfHF6HVsOpDVrDh6fCFi8ev5S3+eFD261ZHWWDQ4frl8UpxbR9CrZfO872f+G6BltMjGWutUvnp5PHb/HTHm0qFx+X+8GPFcabyT7qtRs1ZpJytzvTpuudOQSfHaLwdHRV5pzWqd21ocVlQc8VJprEq3a1LIMdV0ODy6xOrM76siu7LL6YOjz3/NiLlJxLI8FjzzYAw8+4w6nwMAAAAA9lcTJ06Mbt26xYknnhiTJ09OR4FGQQ1H9inlG2vPNqtJ2ewYO6gkbnrp0Dj1f/0kZjx0V1x3Srov6/ABcfNjz8cD/9I9lv6fi+KkflfHY/Usr1e+ua47WxtPXT84BoxfEoeefnnc/uADMfWafum+jK1bd/tcdZ5/Q3lewPGTVh5Lp1wU/UY9GBu6nRc33PlAzJhwXrrvk7Cbuf00FZ0Rg776RDz2/MbMNL0Yc+8fEANP/gjBcgAAAADYj5x99tnx2muvxcsvvxwlJSXpKNAoqOG4/7h2+r5dm7EghxdHr3gxVhQYFFz6mzvioVMmxL3f7RdHF9WSQtesbRx9+kVx+4Oz4pdffSHGPrwk3fHRtOt6dHSJN2NFTUuVLnskfjr9K/Hzu4Yny7u23Hl12/adMt8tjXfrSMmrOP/qWJXWn6ywMVZl5qLLcYdHu3TkE7fhhbjntlZx3aQfxbDsMq51ZCp+LHY3t7X4S1lpRM/izJzWrpBjqlmXeT9xeBzdNRdUbBsDv31ezH36hVj76sJ46KtnxKnZ5XsBAAAAAKAxSTIbk05lK+DYQL3z3j5cm7FQ7frFsO9+Ju75tztiQS7hb8PyWPBqxRKWNdqwsXKp1LXPTI1pv6/oZy19dGosyA8QlpfHoa12s3Zobbp/M648/cW46cYZsSo31WULY0FaLzIbHNzwftoteyGm/PrFdCOj3Rdj4Flr487JVd/d8PIj8VDevVac/4X42cTZsTb3PM9Nijuf6xdXfuP4ioFPzYbYkPc+pv16RrrxSaljblMr/t+LsSJNA93w8t1x08QWMeKiftUCtXUdU/4/d8fFl94di6ulkr4UC/4n/e19uDoeGz8p5p4+Kr7VvWIoq+WXBseIVx6Pf79vdgz8avXrAQAAAEBj8uijj0b37t2jR48eMXPmzHQUaBSSzMakU9kKOPIpahm9Rk6Kn39hYVzxxZ5xUt+vxHGn/e94bMXaiiVFj/rHGNT6wbhiYkWWYkWNxquj34ChUXLaGXH9m2fEiCHJrozyaPnh6vjZ4C/FlwcPjcGnnRJjyq6Kn/9zfYN3nWLQhHvjyvI7YsDnvpS5ty/FcYPvjsXrNkZ0+1pcN+SlGJ25h8ElZ8SXb3wzBv6vb6bfy2obA3+c+27POO74L8XFDx8Sw76Tfy/Z8z8Ql264Jfp/7iuZ8/eM/jesjnOnTohBddRj/Ni16xeXXtUiM49fiZLBmWe7fEa0GzIq+qS7P3a7ndsK7WJh3HRadm4zv5tLZsXREybFlf9YPR2zrmPeff25WDDvuVj652Qz1S5WPXp5nJg5/rjPnRU3rTsv7v3p16rXaGx2fAwaviEee/xEy6kCAAAA0KiNHDkyli9fHsuWLYvRo0eno0CjUEMNxyY7MpKdNCjZpVPrcv/wQ5K20OM+ddl6jpsjWrZrW30Zzez4h22jXet0+8Py2LBh667H5SlftzHKW+Z9Z09tztxDeYto16F6QKt8Q+Y6zeu+TiHH1Hb+T1X2nrZl7ukTX1O1Qu3ztjYeuuKMeOqrs+KXQzol7zp2+S0UckzmGtnfW+78/3NHHDcs4oHlV0Wv7G8u+z5qefa100fFl18ZGkt+1C/2oTcGAAAAAJ+orl27xttvv530jzzyyCgtLU36wL5v7rxX0l7Nxl47Iu1Vt3379ti2bVs8OfvZdKSKDEf2DdkAYYcagog7Bw6btaz5uDwtM/v3WrAxq3X23nYNLWWDnru7TiHH1Hb+T1X2nj6lYGNWQfOWkX3Xdf0Wsmo7pjLYuLPsb662Z9+8JKbcXRqXfv0kwUYAAAAAGrWJEydGt27d4sQTT4zJkyeno0CjkMtszNVwzGwLODZQn+1Qe5TlyEOap73CjwPqsiTuOXdolAy4PBZ89Za48p+EGwEAAABo3M4+++x47bXX4uWXX46SkpJ0FGgUkhqOuU+2aWJJVaBhSZZbzWYh1hHzK+SYapKleqP2TNPM/lXLXo4NHf4xehwu2AgAAAAAQMO1x0uqznqmItaYjTCmrQxHoEFJllvdTcyvkGOqSZbqreMLmf1dTviiYCMAAAAAAOQyHPNaAUcAAAAAAACgMJWLp1a1Ao4AAAAAAABAYZLMxqRT2Qo4AgAAAAAAAIVJMhwzn7xWwBEAAAAAAAAojBqOAAAAAAAAQL3lMhtzNRxlOAIAAAAAAAAFy2U25mo4ynAEAAAAAAAACqaGIwAAAAAAAFBvajgCAAAAAAAA9ZZkNiadylbAEQAAAAAAAChMktmYdCpbAUcAAAAAAACgMGo4AgAAAAAAAPWmhiMAAAAAAABQb7nMxlwNRxmOAAAAAAAAQMFymY25Go4yHAEAAAAAAICCqeEIAAAAAAAA1JsajgAAAAAAAEC9JZmNSaeyFXAEAAAAAAAACpNkNiadylbAEQAAAAAAACiMGo4AAAAAAABAvanhCAAAAAAAANRbLrMxV8NRhiMAAAAAAABQsFxmY66GowxHAAAAAAAAoGBqOAIAAAAAAAD1poYjAAAAAAAAUG9JZmPSqWwFHAEAAAAAAIDCJJmNSaeyFXAEAAAAAAAACqOGIwAAAAAAAFBvajgCAAAAAAAA9ZbLbMzVcMxsN9mRUbHFvq7s3b+lPQAAAAAA2H8UHXpw2gM+bnPnvZL2ajb22hFpr7rt27fHtm3b4snZz6YjVQQcAQAAAAAAoJHY44DjrGeSlVSTBMe0taQqAAAAAAAAUBg1HAEAAAAAAIB6q1w8taoVcAQAAAAAAAAKk2Q2Jp3KVsARAAAAAAAAKEyS4Zj55LUCjgAAAAAAAEBh1HAEAAAAAAAA6i2X2Zir4SjDEQAAAAAAAChYLrMxV8NRhiMAAAAAAABQMDUcAQAAAAAAgHpTwxEAAAAAAACotySzMelUtgKOAAAAAAAAQGGSzMakU9kKOAIAAAAAAACFUcMRAAAAAAAAqDc1HAEAAAAAAIB6y2U25mo4ynAEAAAAAAAACpbLbMzVcJThCAAAAAAAABRMDUcAAAAAAACg3tRwBAAAAAAAAOotyWxMOpWtgCMAAAAAAABQmCSzMelUtgKOAAAAAAAAQGHUcAQAAAAAAADqTQ1HAAAAAAAAoN5ymY25Go4yHAEAAAAAAICC5TIbczUcZTgCAAAAAAAABVPDEQAAAAAAAKg3NRwBAAAAAACAeksyG5NOZSvgCAAAAAAAABQmyWxMOpWtgCMAAAAAAABQGDUcAQAAAAAAgHpTwxEAAAAAAACot1xmY66GowxHAAAAAAAAoGC5zMZcDUcZjgAAAAAAAEDB1HAEAAAAAAAA6k0NRwAAAAAAAKDekszGpFPZCjgCAAAAAAAAhUkyG5NOZSvgCAAAAAAAABRGDUcAAAAAAACg3tRwBAAAAAAAAOotl9mYq+EowxEAAAAAAAAoWC6zMVfDUYYjAAAAAAAAUDA1HAEAAAAAAIB6U8MRAAAAAAAAqLckszHpVLYCjgAAAAAAAEBhkszGpFPZCjgCAAAAAAAAhVHDEQAAAAAAAKg3NRwBAAAAAACAestlNuZqOMpwBAAAAAAAAAqWy2zM1XCU4QgAAAAAAAAUTA1HAAAAAAAAoN7UcAQAAAAAAADqLclsTDqVrYAjAAAAAAAAUJgkszHpVLYCjgAAAAAAAEBh1HAEAAAAAAAA6k0NRwAAAAAAAKDecpmNuRqOMhwBAAAAAACAguUyG3M1HGU4AgAAAAAAAAVTwxEAAAAAAACoNzUcAQAAAAAAgHpLMhuTTmUr4AgAAAAAAAAUJslsTDpp2yT+f4zdfxYgDs2QAAAAAElFTkSuQmCC)\n",
        "\n",
        "3. Seleccione la opción: Paste GitHub URL\n",
        "\n",
        "4. En GitHub URL, indique la url del archivo app.py dentro del repositorio de github, por ejemplo: ```https://github.com/yacanom/clasificador/blob/main/app.py```\n",
        "\n",
        "5. Streamlit generá automáticamente la url donde se expone la aplicación y realizará el despligue:\n",
        "\n"
      ],
      "metadata": {
        "id": "GSQiq2UhaYa8"
      }
    },
    {
      "cell_type": "markdown",
      "source": [
        "![image.png](data:image/png;base64,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)"
      ],
      "metadata": {
        "id": "uhoyehGydnom"
      }
    }
  ],
  "metadata": {
    "accelerator": "GPU",
    "colab": {
      "provenance": [],
      "gpuType": "T4",
      "toc_visible": true,
      "include_colab_link": true
    },
    "kernelspec": {
      "display_name": "Python 3",
      "name": "python3"
    },
    "language_info": {
      "name": "python"
    },
    "widgets": {
      "application/vnd.jupyter.widget-state+json": {
        "c8ce4929247c49a6a7a4f41f6b3581be": {
          "model_module": "@jupyter-widgets/controls",
          "model_name": "HBoxModel",
          "model_module_version": "1.5.0",
          "state": {
            "_dom_classes": [],
            "_model_module": "@jupyter-widgets/controls",
            "_model_module_version": "1.5.0",
            "_model_name": "HBoxModel",
            "_view_count": null,
            "_view_module": "@jupyter-widgets/controls",
            "_view_module_version": "1.5.0",
            "_view_name": "HBoxView",
            "box_style": "",
            "children": [
              "IPY_MODEL_a813f9920fd8427abe33c5f6885b5b89",
              "IPY_MODEL_41db4fd8c3a54a80b8781c4c433d546b",
              "IPY_MODEL_e2503d3b51a24c46ad57e2ccf68d218c"
            ],
            "layout": "IPY_MODEL_b6a590e89ce940cc858c5adecb45afc6"
          }
        },
        "a813f9920fd8427abe33c5f6885b5b89": {
          "model_module": "@jupyter-widgets/controls",
          "model_name": "HTMLModel",
          "model_module_version": "1.5.0",
          "state": {
            "_dom_classes": [],
            "_model_module": "@jupyter-widgets/controls",
            "_model_module_version": "1.5.0",
            "_model_name": "HTMLModel",
            "_view_count": null,
            "_view_module": "@jupyter-widgets/controls",
            "_view_module_version": "1.5.0",
            "_view_name": "HTMLView",
            "description": "",
            "description_tooltip": null,
            "layout": "IPY_MODEL_75a9e83e1c6547e8b7bf77c55c338494",
            "placeholder": "​",
            "style": "IPY_MODEL_15e350d544c34a5eb01d388acd22e356",
            "value": "Downloading (…)okenizer_config.json: 100%"
          }
        },
        "41db4fd8c3a54a80b8781c4c433d546b": {
          "model_module": "@jupyter-widgets/controls",
          "model_name": "FloatProgressModel",
          "model_module_version": "1.5.0",
          "state": {
            "_dom_classes": [],
            "_model_module": "@jupyter-widgets/controls",
            "_model_module_version": "1.5.0",
            "_model_name": "FloatProgressModel",
            "_view_count": null,
            "_view_module": "@jupyter-widgets/controls",
            "_view_module_version": "1.5.0",
            "_view_name": "ProgressView",
            "bar_style": "success",
            "description": "",
            "description_tooltip": null,
            "layout": "IPY_MODEL_f6eabdb3ddfe490385caf52fc842e1ae",
            "max": 28,
            "min": 0,
            "orientation": "horizontal",
            "style": "IPY_MODEL_67f28b5e08934135bfa769192f9a5cf0",
            "value": 28
          }
        },
        "e2503d3b51a24c46ad57e2ccf68d218c": {
          "model_module": "@jupyter-widgets/controls",
          "model_name": "HTMLModel",
          "model_module_version": "1.5.0",
          "state": {
            "_dom_classes": [],
            "_model_module": "@jupyter-widgets/controls",
            "_model_module_version": "1.5.0",
            "_model_name": "HTMLModel",
            "_view_count": null,
            "_view_module": "@jupyter-widgets/controls",
            "_view_module_version": "1.5.0",
            "_view_name": "HTMLView",
            "description": "",
            "description_tooltip": null,
            "layout": "IPY_MODEL_386e9ce0203b42359833eae34a1cef41",
            "placeholder": "​",
            "style": "IPY_MODEL_7d5981bb3e2c41fcaf9c4d50a6d52f72",
            "value": " 28.0/28.0 [00:00&lt;00:00, 1.61kB/s]"
          }
        },
        "b6a590e89ce940cc858c5adecb45afc6": {
          "model_module": "@jupyter-widgets/base",
          "model_name": "LayoutModel",
          "model_module_version": "1.2.0",
          "state": {
            "_model_module": "@jupyter-widgets/base",
            "_model_module_version": "1.2.0",
            "_model_name": "LayoutModel",
            "_view_count": null,
            "_view_module": "@jupyter-widgets/base",
            "_view_module_version": "1.2.0",
            "_view_name": "LayoutView",
            "align_content": null,
            "align_items": null,
            "align_self": null,
            "border": null,
            "bottom": null,
            "display": null,
            "flex": null,
            "flex_flow": null,
            "grid_area": null,
            "grid_auto_columns": null,
            "grid_auto_flow": null,
            "grid_auto_rows": null,
            "grid_column": null,
            "grid_gap": null,
            "grid_row": null,
            "grid_template_areas": null,
            "grid_template_columns": null,
            "grid_template_rows": null,
            "height": null,
            "justify_content": null,
            "justify_items": null,
            "left": null,
            "margin": null,
            "max_height": null,
            "max_width": null,
            "min_height": null,
            "min_width": null,
            "object_fit": null,
            "object_position": null,
            "order": null,
            "overflow": null,
            "overflow_x": null,
            "overflow_y": null,
            "padding": null,
            "right": null,
            "top": null,
            "visibility": null,
            "width": null
          }
        },
        "75a9e83e1c6547e8b7bf77c55c338494": {
          "model_module": "@jupyter-widgets/base",
          "model_name": "LayoutModel",
          "model_module_version": "1.2.0",
          "state": {
            "_model_module": "@jupyter-widgets/base",
            "_model_module_version": "1.2.0",
            "_model_name": "LayoutModel",
            "_view_count": null,
            "_view_module": "@jupyter-widgets/base",
            "_view_module_version": "1.2.0",
            "_view_name": "LayoutView",
            "align_content": null,
            "align_items": null,
            "align_self": null,
            "border": null,
            "bottom": null,
            "display": null,
            "flex": null,
            "flex_flow": null,
            "grid_area": null,
            "grid_auto_columns": null,
            "grid_auto_flow": null,
            "grid_auto_rows": null,
            "grid_column": null,
            "grid_gap": null,
            "grid_row": null,
            "grid_template_areas": null,
            "grid_template_columns": null,
            "grid_template_rows": null,
            "height": null,
            "justify_content": null,
            "justify_items": null,
            "left": null,
            "margin": null,
            "max_height": null,
            "max_width": null,
            "min_height": null,
            "min_width": null,
            "object_fit": null,
            "object_position": null,
            "order": null,
            "overflow": null,
            "overflow_x": null,
            "overflow_y": null,
            "padding": null,
            "right": null,
            "top": null,
            "visibility": null,
            "width": null
          }
        },
        "15e350d544c34a5eb01d388acd22e356": {
          "model_module": "@jupyter-widgets/controls",
          "model_name": "DescriptionStyleModel",
          "model_module_version": "1.5.0",
          "state": {
            "_model_module": "@jupyter-widgets/controls",
            "_model_module_version": "1.5.0",
            "_model_name": "DescriptionStyleModel",
            "_view_count": null,
            "_view_module": "@jupyter-widgets/base",
            "_view_module_version": "1.2.0",
            "_view_name": "StyleView",
            "description_width": ""
          }
        },
        "f6eabdb3ddfe490385caf52fc842e1ae": {
          "model_module": "@jupyter-widgets/base",
          "model_name": "LayoutModel",
          "model_module_version": "1.2.0",
          "state": {
            "_model_module": "@jupyter-widgets/base",
            "_model_module_version": "1.2.0",
            "_model_name": "LayoutModel",
            "_view_count": null,
            "_view_module": "@jupyter-widgets/base",
            "_view_module_version": "1.2.0",
            "_view_name": "LayoutView",
            "align_content": null,
            "align_items": null,
            "align_self": null,
            "border": null,
            "bottom": null,
            "display": null,
            "flex": null,
            "flex_flow": null,
            "grid_area": null,
            "grid_auto_columns": null,
            "grid_auto_flow": null,
            "grid_auto_rows": null,
            "grid_column": null,
            "grid_gap": null,
            "grid_row": null,
            "grid_template_areas": null,
            "grid_template_columns": null,
            "grid_template_rows": null,
            "height": null,
            "justify_content": null,
            "justify_items": null,
            "left": null,
            "margin": null,
            "max_height": null,
            "max_width": null,
            "min_height": null,
            "min_width": null,
            "object_fit": null,
            "object_position": null,
            "order": null,
            "overflow": null,
            "overflow_x": null,
            "overflow_y": null,
            "padding": null,
            "right": null,
            "top": null,
            "visibility": null,
            "width": null
          }
        },
        "67f28b5e08934135bfa769192f9a5cf0": {
          "model_module": "@jupyter-widgets/controls",
          "model_name": "ProgressStyleModel",
          "model_module_version": "1.5.0",
          "state": {
            "_model_module": "@jupyter-widgets/controls",
            "_model_module_version": "1.5.0",
            "_model_name": "ProgressStyleModel",
            "_view_count": null,
            "_view_module": "@jupyter-widgets/base",
            "_view_module_version": "1.2.0",
            "_view_name": "StyleView",
            "bar_color": null,
            "description_width": ""
          }
        },
        "386e9ce0203b42359833eae34a1cef41": {
          "model_module": "@jupyter-widgets/base",
          "model_name": "LayoutModel",
          "model_module_version": "1.2.0",
          "state": {
            "_model_module": "@jupyter-widgets/base",
            "_model_module_version": "1.2.0",
            "_model_name": "LayoutModel",
            "_view_count": null,
            "_view_module": "@jupyter-widgets/base",
            "_view_module_version": "1.2.0",
            "_view_name": "LayoutView",
            "align_content": null,
            "align_items": null,
            "align_self": null,
            "border": null,
            "bottom": null,
            "display": null,
            "flex": null,
            "flex_flow": null,
            "grid_area": null,
            "grid_auto_columns": null,
            "grid_auto_flow": null,
            "grid_auto_rows": null,
            "grid_column": null,
            "grid_gap": null,
            "grid_row": null,
            "grid_template_areas": null,
            "grid_template_columns": null,
            "grid_template_rows": null,
            "height": null,
            "justify_content": null,
            "justify_items": null,
            "left": null,
            "margin": null,
            "max_height": null,
            "max_width": null,
            "min_height": null,
            "min_width": null,
            "object_fit": null,
            "object_position": null,
            "order": null,
            "overflow": null,
            "overflow_x": null,
            "overflow_y": null,
            "padding": null,
            "right": null,
            "top": null,
            "visibility": null,
            "width": null
          }
        },
        "7d5981bb3e2c41fcaf9c4d50a6d52f72": {
          "model_module": "@jupyter-widgets/controls",
          "model_name": "DescriptionStyleModel",
          "model_module_version": "1.5.0",
          "state": {
            "_model_module": "@jupyter-widgets/controls",
            "_model_module_version": "1.5.0",
            "_model_name": "DescriptionStyleModel",
            "_view_count": null,
            "_view_module": "@jupyter-widgets/base",
            "_view_module_version": "1.2.0",
            "_view_name": "StyleView",
            "description_width": ""
          }
        },
        "a93d86e113c04068be2d0762f36ddd60": {
          "model_module": "@jupyter-widgets/controls",
          "model_name": "HBoxModel",
          "model_module_version": "1.5.0",
          "state": {
            "_dom_classes": [],
            "_model_module": "@jupyter-widgets/controls",
            "_model_module_version": "1.5.0",
            "_model_name": "HBoxModel",
            "_view_count": null,
            "_view_module": "@jupyter-widgets/controls",
            "_view_module_version": "1.5.0",
            "_view_name": "HBoxView",
            "box_style": "",
            "children": [
              "IPY_MODEL_b6d6c794dcf0464392c8136e94d1c695",
              "IPY_MODEL_5981f65cfc1e4fc3b983d6ba59aa4b11",
              "IPY_MODEL_588a177fda2b4a30b7aad7b6ecadba66"
            ],
            "layout": "IPY_MODEL_d001c4a3913e41b08b5712c4dd731a2a"
          }
        },
        "b6d6c794dcf0464392c8136e94d1c695": {
          "model_module": "@jupyter-widgets/controls",
          "model_name": "HTMLModel",
          "model_module_version": "1.5.0",
          "state": {
            "_dom_classes": [],
            "_model_module": "@jupyter-widgets/controls",
            "_model_module_version": "1.5.0",
            "_model_name": "HTMLModel",
            "_view_count": null,
            "_view_module": "@jupyter-widgets/controls",
            "_view_module_version": "1.5.0",
            "_view_name": "HTMLView",
            "description": "",
            "description_tooltip": null,
            "layout": "IPY_MODEL_674018a4c20144a28eb7d53ebae656f8",
            "placeholder": "​",
            "style": "IPY_MODEL_2dc4804bd1da44ba886e4fad59d6cd9e",
            "value": "Downloading (…)solve/main/vocab.txt: 100%"
          }
        },
        "5981f65cfc1e4fc3b983d6ba59aa4b11": {
          "model_module": "@jupyter-widgets/controls",
          "model_name": "FloatProgressModel",
          "model_module_version": "1.5.0",
          "state": {
            "_dom_classes": [],
            "_model_module": "@jupyter-widgets/controls",
            "_model_module_version": "1.5.0",
            "_model_name": "FloatProgressModel",
            "_view_count": null,
            "_view_module": "@jupyter-widgets/controls",
            "_view_module_version": "1.5.0",
            "_view_name": "ProgressView",
            "bar_style": "success",
            "description": "",
            "description_tooltip": null,
            "layout": "IPY_MODEL_8086d0ce007d48fd93cb488dbce2c929",
            "max": 231508,
            "min": 0,
            "orientation": "horizontal",
            "style": "IPY_MODEL_8e3855fa6d4747f9aa94ba6692e4ccb2",
            "value": 231508
          }
        },
        "588a177fda2b4a30b7aad7b6ecadba66": {
          "model_module": "@jupyter-widgets/controls",
          "model_name": "HTMLModel",
          "model_module_version": "1.5.0",
          "state": {
            "_dom_classes": [],
            "_model_module": "@jupyter-widgets/controls",
            "_model_module_version": "1.5.0",
            "_model_name": "HTMLModel",
            "_view_count": null,
            "_view_module": "@jupyter-widgets/controls",
            "_view_module_version": "1.5.0",
            "_view_name": "HTMLView",
            "description": "",
            "description_tooltip": null,
            "layout": "IPY_MODEL_b74c539d1fd4493c8650e6856b64ff30",
            "placeholder": "​",
            "style": "IPY_MODEL_cd0cdef011444230836b879d37113651",
            "value": " 232k/232k [00:00&lt;00:00, 5.10MB/s]"
          }
        },
        "d001c4a3913e41b08b5712c4dd731a2a": {
          "model_module": "@jupyter-widgets/base",
          "model_name": "LayoutModel",
          "model_module_version": "1.2.0",
          "state": {
            "_model_module": "@jupyter-widgets/base",
            "_model_module_version": "1.2.0",
            "_model_name": "LayoutModel",
            "_view_count": null,
            "_view_module": "@jupyter-widgets/base",
            "_view_module_version": "1.2.0",
            "_view_name": "LayoutView",
            "align_content": null,
            "align_items": null,
            "align_self": null,
            "border": null,
            "bottom": null,
            "display": null,
            "flex": null,
            "flex_flow": null,
            "grid_area": null,
            "grid_auto_columns": null,
            "grid_auto_flow": null,
            "grid_auto_rows": null,
            "grid_column": null,
            "grid_gap": null,
            "grid_row": null,
            "grid_template_areas": null,
            "grid_template_columns": null,
            "grid_template_rows": null,
            "height": null,
            "justify_content": null,
            "justify_items": null,
            "left": null,
            "margin": null,
            "max_height": null,
            "max_width": null,
            "min_height": null,
            "min_width": null,
            "object_fit": null,
            "object_position": null,
            "order": null,
            "overflow": null,
            "overflow_x": null,
            "overflow_y": null,
            "padding": null,
            "right": null,
            "top": null,
            "visibility": null,
            "width": null
          }
        },
        "674018a4c20144a28eb7d53ebae656f8": {
          "model_module": "@jupyter-widgets/base",
          "model_name": "LayoutModel",
          "model_module_version": "1.2.0",
          "state": {
            "_model_module": "@jupyter-widgets/base",
            "_model_module_version": "1.2.0",
            "_model_name": "LayoutModel",
            "_view_count": null,
            "_view_module": "@jupyter-widgets/base",
            "_view_module_version": "1.2.0",
            "_view_name": "LayoutView",
            "align_content": null,
            "align_items": null,
            "align_self": null,
            "border": null,
            "bottom": null,
            "display": null,
            "flex": null,
            "flex_flow": null,
            "grid_area": null,
            "grid_auto_columns": null,
            "grid_auto_flow": null,
            "grid_auto_rows": null,
            "grid_column": null,
            "grid_gap": null,
            "grid_row": null,
            "grid_template_areas": null,
            "grid_template_columns": null,
            "grid_template_rows": null,
            "height": null,
            "justify_content": null,
            "justify_items": null,
            "left": null,
            "margin": null,
            "max_height": null,
            "max_width": null,
            "min_height": null,
            "min_width": null,
            "object_fit": null,
            "object_position": null,
            "order": null,
            "overflow": null,
            "overflow_x": null,
            "overflow_y": null,
            "padding": null,
            "right": null,
            "top": null,
            "visibility": null,
            "width": null
          }
        },
        "2dc4804bd1da44ba886e4fad59d6cd9e": {
          "model_module": "@jupyter-widgets/controls",
          "model_name": "DescriptionStyleModel",
          "model_module_version": "1.5.0",
          "state": {
            "_model_module": "@jupyter-widgets/controls",
            "_model_module_version": "1.5.0",
            "_model_name": "DescriptionStyleModel",
            "_view_count": null,
            "_view_module": "@jupyter-widgets/base",
            "_view_module_version": "1.2.0",
            "_view_name": "StyleView",
            "description_width": ""
          }
        },
        "8086d0ce007d48fd93cb488dbce2c929": {
          "model_module": "@jupyter-widgets/base",
          "model_name": "LayoutModel",
          "model_module_version": "1.2.0",
          "state": {
            "_model_module": "@jupyter-widgets/base",
            "_model_module_version": "1.2.0",
            "_model_name": "LayoutModel",
            "_view_count": null,
            "_view_module": "@jupyter-widgets/base",
            "_view_module_version": "1.2.0",
            "_view_name": "LayoutView",
            "align_content": null,
            "align_items": null,
            "align_self": null,
            "border": null,
            "bottom": null,
            "display": null,
            "flex": null,
            "flex_flow": null,
            "grid_area": null,
            "grid_auto_columns": null,
            "grid_auto_flow": null,
            "grid_auto_rows": null,
            "grid_column": null,
            "grid_gap": null,
            "grid_row": null,
            "grid_template_areas": null,
            "grid_template_columns": null,
            "grid_template_rows": null,
            "height": null,
            "justify_content": null,
            "justify_items": null,
            "left": null,
            "margin": null,
            "max_height": null,
            "max_width": null,
            "min_height": null,
            "min_width": null,
            "object_fit": null,
            "object_position": null,
            "order": null,
            "overflow": null,
            "overflow_x": null,
            "overflow_y": null,
            "padding": null,
            "right": null,
            "top": null,
            "visibility": null,
            "width": null
          }
        },
        "8e3855fa6d4747f9aa94ba6692e4ccb2": {
          "model_module": "@jupyter-widgets/controls",
          "model_name": "ProgressStyleModel",
          "model_module_version": "1.5.0",
          "state": {
            "_model_module": "@jupyter-widgets/controls",
            "_model_module_version": "1.5.0",
            "_model_name": "ProgressStyleModel",
            "_view_count": null,
            "_view_module": "@jupyter-widgets/base",
            "_view_module_version": "1.2.0",
            "_view_name": "StyleView",
            "bar_color": null,
            "description_width": ""
          }
        },
        "b74c539d1fd4493c8650e6856b64ff30": {
          "model_module": "@jupyter-widgets/base",
          "model_name": "LayoutModel",
          "model_module_version": "1.2.0",
          "state": {
            "_model_module": "@jupyter-widgets/base",
            "_model_module_version": "1.2.0",
            "_model_name": "LayoutModel",
            "_view_count": null,
            "_view_module": "@jupyter-widgets/base",
            "_view_module_version": "1.2.0",
            "_view_name": "LayoutView",
            "align_content": null,
            "align_items": null,
            "align_self": null,
            "border": null,
            "bottom": null,
            "display": null,
            "flex": null,
            "flex_flow": null,
            "grid_area": null,
            "grid_auto_columns": null,
            "grid_auto_flow": null,
            "grid_auto_rows": null,
            "grid_column": null,
            "grid_gap": null,
            "grid_row": null,
            "grid_template_areas": null,
            "grid_template_columns": null,
            "grid_template_rows": null,
            "height": null,
            "justify_content": null,
            "justify_items": null,
            "left": null,
            "margin": null,
            "max_height": null,
            "max_width": null,
            "min_height": null,
            "min_width": null,
            "object_fit": null,
            "object_position": null,
            "order": null,
            "overflow": null,
            "overflow_x": null,
            "overflow_y": null,
            "padding": null,
            "right": null,
            "top": null,
            "visibility": null,
            "width": null
          }
        },
        "cd0cdef011444230836b879d37113651": {
          "model_module": "@jupyter-widgets/controls",
          "model_name": "DescriptionStyleModel",
          "model_module_version": "1.5.0",
          "state": {
            "_model_module": "@jupyter-widgets/controls",
            "_model_module_version": "1.5.0",
            "_model_name": "DescriptionStyleModel",
            "_view_count": null,
            "_view_module": "@jupyter-widgets/base",
            "_view_module_version": "1.2.0",
            "_view_name": "StyleView",
            "description_width": ""
          }
        },
        "5b4095e3eb8847ef8fa75cb58dbf47de": {
          "model_module": "@jupyter-widgets/controls",
          "model_name": "HBoxModel",
          "model_module_version": "1.5.0",
          "state": {
            "_dom_classes": [],
            "_model_module": "@jupyter-widgets/controls",
            "_model_module_version": "1.5.0",
            "_model_name": "HBoxModel",
            "_view_count": null,
            "_view_module": "@jupyter-widgets/controls",
            "_view_module_version": "1.5.0",
            "_view_name": "HBoxView",
            "box_style": "",
            "children": [
              "IPY_MODEL_76106702a9fd4e9282542602624ad318",
              "IPY_MODEL_5a0dc8360eb545f285a4705c3182b38c",
              "IPY_MODEL_86b8242c12a34395a12e898ba55aecc7"
            ],
            "layout": "IPY_MODEL_2c607621226d4878b501afd7ee2dbefa"
          }
        },
        "76106702a9fd4e9282542602624ad318": {
          "model_module": "@jupyter-widgets/controls",
          "model_name": "HTMLModel",
          "model_module_version": "1.5.0",
          "state": {
            "_dom_classes": [],
            "_model_module": "@jupyter-widgets/controls",
            "_model_module_version": "1.5.0",
            "_model_name": "HTMLModel",
            "_view_count": null,
            "_view_module": "@jupyter-widgets/controls",
            "_view_module_version": "1.5.0",
            "_view_name": "HTMLView",
            "description": "",
            "description_tooltip": null,
            "layout": "IPY_MODEL_51e87e27235b4497946c0e0cdf09562d",
            "placeholder": "​",
            "style": "IPY_MODEL_a51698ddf62449b68c600f2aed4d334b",
            "value": "Downloading (…)/main/tokenizer.json: 100%"
          }
        },
        "5a0dc8360eb545f285a4705c3182b38c": {
          "model_module": "@jupyter-widgets/controls",
          "model_name": "FloatProgressModel",
          "model_module_version": "1.5.0",
          "state": {
            "_dom_classes": [],
            "_model_module": "@jupyter-widgets/controls",
            "_model_module_version": "1.5.0",
            "_model_name": "FloatProgressModel",
            "_view_count": null,
            "_view_module": "@jupyter-widgets/controls",
            "_view_module_version": "1.5.0",
            "_view_name": "ProgressView",
            "bar_style": "success",
            "description": "",
            "description_tooltip": null,
            "layout": "IPY_MODEL_1ef5b712490c4d7b8693512f1a32622e",
            "max": 466062,
            "min": 0,
            "orientation": "horizontal",
            "style": "IPY_MODEL_80ce05cb2d174970a10c3d5c37db54a9",
            "value": 466062
          }
        },
        "86b8242c12a34395a12e898ba55aecc7": {
          "model_module": "@jupyter-widgets/controls",
          "model_name": "HTMLModel",
          "model_module_version": "1.5.0",
          "state": {
            "_dom_classes": [],
            "_model_module": "@jupyter-widgets/controls",
            "_model_module_version": "1.5.0",
            "_model_name": "HTMLModel",
            "_view_count": null,
            "_view_module": "@jupyter-widgets/controls",
            "_view_module_version": "1.5.0",
            "_view_name": "HTMLView",
            "description": "",
            "description_tooltip": null,
            "layout": "IPY_MODEL_d5e800a9a2024f8ea43a0656341b5b38",
            "placeholder": "​",
            "style": "IPY_MODEL_4f3137ac7f484b90a922ae0c09bba08d",
            "value": " 466k/466k [00:00&lt;00:00, 17.3MB/s]"
          }
        },
        "2c607621226d4878b501afd7ee2dbefa": {
          "model_module": "@jupyter-widgets/base",
          "model_name": "LayoutModel",
          "model_module_version": "1.2.0",
          "state": {
            "_model_module": "@jupyter-widgets/base",
            "_model_module_version": "1.2.0",
            "_model_name": "LayoutModel",
            "_view_count": null,
            "_view_module": "@jupyter-widgets/base",
            "_view_module_version": "1.2.0",
            "_view_name": "LayoutView",
            "align_content": null,
            "align_items": null,
            "align_self": null,
            "border": null,
            "bottom": null,
            "display": null,
            "flex": null,
            "flex_flow": null,
            "grid_area": null,
            "grid_auto_columns": null,
            "grid_auto_flow": null,
            "grid_auto_rows": null,
            "grid_column": null,
            "grid_gap": null,
            "grid_row": null,
            "grid_template_areas": null,
            "grid_template_columns": null,
            "grid_template_rows": null,
            "height": null,
            "justify_content": null,
            "justify_items": null,
            "left": null,
            "margin": null,
            "max_height": null,
            "max_width": null,
            "min_height": null,
            "min_width": null,
            "object_fit": null,
            "object_position": null,
            "order": null,
            "overflow": null,
            "overflow_x": null,
            "overflow_y": null,
            "padding": null,
            "right": null,
            "top": null,
            "visibility": null,
            "width": null
          }
        },
        "51e87e27235b4497946c0e0cdf09562d": {
          "model_module": "@jupyter-widgets/base",
          "model_name": "LayoutModel",
          "model_module_version": "1.2.0",
          "state": {
            "_model_module": "@jupyter-widgets/base",
            "_model_module_version": "1.2.0",
            "_model_name": "LayoutModel",
            "_view_count": null,
            "_view_module": "@jupyter-widgets/base",
            "_view_module_version": "1.2.0",
            "_view_name": "LayoutView",
            "align_content": null,
            "align_items": null,
            "align_self": null,
            "border": null,
            "bottom": null,
            "display": null,
            "flex": null,
            "flex_flow": null,
            "grid_area": null,
            "grid_auto_columns": null,
            "grid_auto_flow": null,
            "grid_auto_rows": null,
            "grid_column": null,
            "grid_gap": null,
            "grid_row": null,
            "grid_template_areas": null,
            "grid_template_columns": null,
            "grid_template_rows": null,
            "height": null,
            "justify_content": null,
            "justify_items": null,
            "left": null,
            "margin": null,
            "max_height": null,
            "max_width": null,
            "min_height": null,
            "min_width": null,
            "object_fit": null,
            "object_position": null,
            "order": null,
            "overflow": null,
            "overflow_x": null,
            "overflow_y": null,
            "padding": null,
            "right": null,
            "top": null,
            "visibility": null,
            "width": null
          }
        },
        "a51698ddf62449b68c600f2aed4d334b": {
          "model_module": "@jupyter-widgets/controls",
          "model_name": "DescriptionStyleModel",
          "model_module_version": "1.5.0",
          "state": {
            "_model_module": "@jupyter-widgets/controls",
            "_model_module_version": "1.5.0",
            "_model_name": "DescriptionStyleModel",
            "_view_count": null,
            "_view_module": "@jupyter-widgets/base",
            "_view_module_version": "1.2.0",
            "_view_name": "StyleView",
            "description_width": ""
          }
        },
        "1ef5b712490c4d7b8693512f1a32622e": {
          "model_module": "@jupyter-widgets/base",
          "model_name": "LayoutModel",
          "model_module_version": "1.2.0",
          "state": {
            "_model_module": "@jupyter-widgets/base",
            "_model_module_version": "1.2.0",
            "_model_name": "LayoutModel",
            "_view_count": null,
            "_view_module": "@jupyter-widgets/base",
            "_view_module_version": "1.2.0",
            "_view_name": "LayoutView",
            "align_content": null,
            "align_items": null,
            "align_self": null,
            "border": null,
            "bottom": null,
            "display": null,
            "flex": null,
            "flex_flow": null,
            "grid_area": null,
            "grid_auto_columns": null,
            "grid_auto_flow": null,
            "grid_auto_rows": null,
            "grid_column": null,
            "grid_gap": null,
            "grid_row": null,
            "grid_template_areas": null,
            "grid_template_columns": null,
            "grid_template_rows": null,
            "height": null,
            "justify_content": null,
            "justify_items": null,
            "left": null,
            "margin": null,
            "max_height": null,
            "max_width": null,
            "min_height": null,
            "min_width": null,
            "object_fit": null,
            "object_position": null,
            "order": null,
            "overflow": null,
            "overflow_x": null,
            "overflow_y": null,
            "padding": null,
            "right": null,
            "top": null,
            "visibility": null,
            "width": null
          }
        },
        "80ce05cb2d174970a10c3d5c37db54a9": {
          "model_module": "@jupyter-widgets/controls",
          "model_name": "ProgressStyleModel",
          "model_module_version": "1.5.0",
          "state": {
            "_model_module": "@jupyter-widgets/controls",
            "_model_module_version": "1.5.0",
            "_model_name": "ProgressStyleModel",
            "_view_count": null,
            "_view_module": "@jupyter-widgets/base",
            "_view_module_version": "1.2.0",
            "_view_name": "StyleView",
            "bar_color": null,
            "description_width": ""
          }
        },
        "d5e800a9a2024f8ea43a0656341b5b38": {
          "model_module": "@jupyter-widgets/base",
          "model_name": "LayoutModel",
          "model_module_version": "1.2.0",
          "state": {
            "_model_module": "@jupyter-widgets/base",
            "_model_module_version": "1.2.0",
            "_model_name": "LayoutModel",
            "_view_count": null,
            "_view_module": "@jupyter-widgets/base",
            "_view_module_version": "1.2.0",
            "_view_name": "LayoutView",
            "align_content": null,
            "align_items": null,
            "align_self": null,
            "border": null,
            "bottom": null,
            "display": null,
            "flex": null,
            "flex_flow": null,
            "grid_area": null,
            "grid_auto_columns": null,
            "grid_auto_flow": null,
            "grid_auto_rows": null,
            "grid_column": null,
            "grid_gap": null,
            "grid_row": null,
            "grid_template_areas": null,
            "grid_template_columns": null,
            "grid_template_rows": null,
            "height": null,
            "justify_content": null,
            "justify_items": null,
            "left": null,
            "margin": null,
            "max_height": null,
            "max_width": null,
            "min_height": null,
            "min_width": null,
            "object_fit": null,
            "object_position": null,
            "order": null,
            "overflow": null,
            "overflow_x": null,
            "overflow_y": null,
            "padding": null,
            "right": null,
            "top": null,
            "visibility": null,
            "width": null
          }
        },
        "4f3137ac7f484b90a922ae0c09bba08d": {
          "model_module": "@jupyter-widgets/controls",
          "model_name": "DescriptionStyleModel",
          "model_module_version": "1.5.0",
          "state": {
            "_model_module": "@jupyter-widgets/controls",
            "_model_module_version": "1.5.0",
            "_model_name": "DescriptionStyleModel",
            "_view_count": null,
            "_view_module": "@jupyter-widgets/base",
            "_view_module_version": "1.2.0",
            "_view_name": "StyleView",
            "description_width": ""
          }
        },
        "94985a18b3bc4a9095c80c4b18ab89ad": {
          "model_module": "@jupyter-widgets/controls",
          "model_name": "HBoxModel",
          "model_module_version": "1.5.0",
          "state": {
            "_dom_classes": [],
            "_model_module": "@jupyter-widgets/controls",
            "_model_module_version": "1.5.0",
            "_model_name": "HBoxModel",
            "_view_count": null,
            "_view_module": "@jupyter-widgets/controls",
            "_view_module_version": "1.5.0",
            "_view_name": "HBoxView",
            "box_style": "",
            "children": [
              "IPY_MODEL_7d2bfe9fd78e4ba783dc4ef035db6a6b",
              "IPY_MODEL_d3ab38558800487d99a01f64a2a1bab4",
              "IPY_MODEL_e7dc8c8392904ab3a7b49a9e10198b22"
            ],
            "layout": "IPY_MODEL_34ff3c42044e44edb55ddb292bf6dd3e"
          }
        },
        "7d2bfe9fd78e4ba783dc4ef035db6a6b": {
          "model_module": "@jupyter-widgets/controls",
          "model_name": "HTMLModel",
          "model_module_version": "1.5.0",
          "state": {
            "_dom_classes": [],
            "_model_module": "@jupyter-widgets/controls",
            "_model_module_version": "1.5.0",
            "_model_name": "HTMLModel",
            "_view_count": null,
            "_view_module": "@jupyter-widgets/controls",
            "_view_module_version": "1.5.0",
            "_view_name": "HTMLView",
            "description": "",
            "description_tooltip": null,
            "layout": "IPY_MODEL_bbbd52fc5c404b13ae4012ab8f1c7292",
            "placeholder": "​",
            "style": "IPY_MODEL_c08568d5d4fa4327907d2f7d6475e85a",
            "value": "Downloading (…)lve/main/config.json: 100%"
          }
        },
        "d3ab38558800487d99a01f64a2a1bab4": {
          "model_module": "@jupyter-widgets/controls",
          "model_name": "FloatProgressModel",
          "model_module_version": "1.5.0",
          "state": {
            "_dom_classes": [],
            "_model_module": "@jupyter-widgets/controls",
            "_model_module_version": "1.5.0",
            "_model_name": "FloatProgressModel",
            "_view_count": null,
            "_view_module": "@jupyter-widgets/controls",
            "_view_module_version": "1.5.0",
            "_view_name": "ProgressView",
            "bar_style": "success",
            "description": "",
            "description_tooltip": null,
            "layout": "IPY_MODEL_2b9693a43fd24c7d85730b4e8339c7e3",
            "max": 483,
            "min": 0,
            "orientation": "horizontal",
            "style": "IPY_MODEL_10996f87d14a4cc1bc461338e17415df",
            "value": 483
          }
        },
        "e7dc8c8392904ab3a7b49a9e10198b22": {
          "model_module": "@jupyter-widgets/controls",
          "model_name": "HTMLModel",
          "model_module_version": "1.5.0",
          "state": {
            "_dom_classes": [],
            "_model_module": "@jupyter-widgets/controls",
            "_model_module_version": "1.5.0",
            "_model_name": "HTMLModel",
            "_view_count": null,
            "_view_module": "@jupyter-widgets/controls",
            "_view_module_version": "1.5.0",
            "_view_name": "HTMLView",
            "description": "",
            "description_tooltip": null,
            "layout": "IPY_MODEL_6c56dd3157e5497693956fb71d2a21ab",
            "placeholder": "​",
            "style": "IPY_MODEL_2d710a424f59415b99feff877e5a59c3",
            "value": " 483/483 [00:00&lt;00:00, 20.9kB/s]"
          }
        },
        "34ff3c42044e44edb55ddb292bf6dd3e": {
          "model_module": "@jupyter-widgets/base",
          "model_name": "LayoutModel",
          "model_module_version": "1.2.0",
          "state": {
            "_model_module": "@jupyter-widgets/base",
            "_model_module_version": "1.2.0",
            "_model_name": "LayoutModel",
            "_view_count": null,
            "_view_module": "@jupyter-widgets/base",
            "_view_module_version": "1.2.0",
            "_view_name": "LayoutView",
            "align_content": null,
            "align_items": null,
            "align_self": null,
            "border": null,
            "bottom": null,
            "display": null,
            "flex": null,
            "flex_flow": null,
            "grid_area": null,
            "grid_auto_columns": null,
            "grid_auto_flow": null,
            "grid_auto_rows": null,
            "grid_column": null,
            "grid_gap": null,
            "grid_row": null,
            "grid_template_areas": null,
            "grid_template_columns": null,
            "grid_template_rows": null,
            "height": null,
            "justify_content": null,
            "justify_items": null,
            "left": null,
            "margin": null,
            "max_height": null,
            "max_width": null,
            "min_height": null,
            "min_width": null,
            "object_fit": null,
            "object_position": null,
            "order": null,
            "overflow": null,
            "overflow_x": null,
            "overflow_y": null,
            "padding": null,
            "right": null,
            "top": null,
            "visibility": null,
            "width": null
          }
        },
        "bbbd52fc5c404b13ae4012ab8f1c7292": {
          "model_module": "@jupyter-widgets/base",
          "model_name": "LayoutModel",
          "model_module_version": "1.2.0",
          "state": {
            "_model_module": "@jupyter-widgets/base",
            "_model_module_version": "1.2.0",
            "_model_name": "LayoutModel",
            "_view_count": null,
            "_view_module": "@jupyter-widgets/base",
            "_view_module_version": "1.2.0",
            "_view_name": "LayoutView",
            "align_content": null,
            "align_items": null,
            "align_self": null,
            "border": null,
            "bottom": null,
            "display": null,
            "flex": null,
            "flex_flow": null,
            "grid_area": null,
            "grid_auto_columns": null,
            "grid_auto_flow": null,
            "grid_auto_rows": null,
            "grid_column": null,
            "grid_gap": null,
            "grid_row": null,
            "grid_template_areas": null,
            "grid_template_columns": null,
            "grid_template_rows": null,
            "height": null,
            "justify_content": null,
            "justify_items": null,
            "left": null,
            "margin": null,
            "max_height": null,
            "max_width": null,
            "min_height": null,
            "min_width": null,
            "object_fit": null,
            "object_position": null,
            "order": null,
            "overflow": null,
            "overflow_x": null,
            "overflow_y": null,
            "padding": null,
            "right": null,
            "top": null,
            "visibility": null,
            "width": null
          }
        },
        "c08568d5d4fa4327907d2f7d6475e85a": {
          "model_module": "@jupyter-widgets/controls",
          "model_name": "DescriptionStyleModel",
          "model_module_version": "1.5.0",
          "state": {
            "_model_module": "@jupyter-widgets/controls",
            "_model_module_version": "1.5.0",
            "_model_name": "DescriptionStyleModel",
            "_view_count": null,
            "_view_module": "@jupyter-widgets/base",
            "_view_module_version": "1.2.0",
            "_view_name": "StyleView",
            "description_width": ""
          }
        },
        "2b9693a43fd24c7d85730b4e8339c7e3": {
          "model_module": "@jupyter-widgets/base",
          "model_name": "LayoutModel",
          "model_module_version": "1.2.0",
          "state": {
            "_model_module": "@jupyter-widgets/base",
            "_model_module_version": "1.2.0",
            "_model_name": "LayoutModel",
            "_view_count": null,
            "_view_module": "@jupyter-widgets/base",
            "_view_module_version": "1.2.0",
            "_view_name": "LayoutView",
            "align_content": null,
            "align_items": null,
            "align_self": null,
            "border": null,
            "bottom": null,
            "display": null,
            "flex": null,
            "flex_flow": null,
            "grid_area": null,
            "grid_auto_columns": null,
            "grid_auto_flow": null,
            "grid_auto_rows": null,
            "grid_column": null,
            "grid_gap": null,
            "grid_row": null,
            "grid_template_areas": null,
            "grid_template_columns": null,
            "grid_template_rows": null,
            "height": null,
            "justify_content": null,
            "justify_items": null,
            "left": null,
            "margin": null,
            "max_height": null,
            "max_width": null,
            "min_height": null,
            "min_width": null,
            "object_fit": null,
            "object_position": null,
            "order": null,
            "overflow": null,
            "overflow_x": null,
            "overflow_y": null,
            "padding": null,
            "right": null,
            "top": null,
            "visibility": null,
            "width": null
          }
        },
        "10996f87d14a4cc1bc461338e17415df": {
          "model_module": "@jupyter-widgets/controls",
          "model_name": "ProgressStyleModel",
          "model_module_version": "1.5.0",
          "state": {
            "_model_module": "@jupyter-widgets/controls",
            "_model_module_version": "1.5.0",
            "_model_name": "ProgressStyleModel",
            "_view_count": null,
            "_view_module": "@jupyter-widgets/base",
            "_view_module_version": "1.2.0",
            "_view_name": "StyleView",
            "bar_color": null,
            "description_width": ""
          }
        },
        "6c56dd3157e5497693956fb71d2a21ab": {
          "model_module": "@jupyter-widgets/base",
          "model_name": "LayoutModel",
          "model_module_version": "1.2.0",
          "state": {
            "_model_module": "@jupyter-widgets/base",
            "_model_module_version": "1.2.0",
            "_model_name": "LayoutModel",
            "_view_count": null,
            "_view_module": "@jupyter-widgets/base",
            "_view_module_version": "1.2.0",
            "_view_name": "LayoutView",
            "align_content": null,
            "align_items": null,
            "align_self": null,
            "border": null,
            "bottom": null,
            "display": null,
            "flex": null,
            "flex_flow": null,
            "grid_area": null,
            "grid_auto_columns": null,
            "grid_auto_flow": null,
            "grid_auto_rows": null,
            "grid_column": null,
            "grid_gap": null,
            "grid_row": null,
            "grid_template_areas": null,
            "grid_template_columns": null,
            "grid_template_rows": null,
            "height": null,
            "justify_content": null,
            "justify_items": null,
            "left": null,
            "margin": null,
            "max_height": null,
            "max_width": null,
            "min_height": null,
            "min_width": null,
            "object_fit": null,
            "object_position": null,
            "order": null,
            "overflow": null,
            "overflow_x": null,
            "overflow_y": null,
            "padding": null,
            "right": null,
            "top": null,
            "visibility": null,
            "width": null
          }
        },
        "2d710a424f59415b99feff877e5a59c3": {
          "model_module": "@jupyter-widgets/controls",
          "model_name": "DescriptionStyleModel",
          "model_module_version": "1.5.0",
          "state": {
            "_model_module": "@jupyter-widgets/controls",
            "_model_module_version": "1.5.0",
            "_model_name": "DescriptionStyleModel",
            "_view_count": null,
            "_view_module": "@jupyter-widgets/base",
            "_view_module_version": "1.2.0",
            "_view_name": "StyleView",
            "description_width": ""
          }
        },
        "7322dfcae9b7466e8781b07f34e10307": {
          "model_module": "@jupyter-widgets/controls",
          "model_name": "HBoxModel",
          "model_module_version": "1.5.0",
          "state": {
            "_dom_classes": [],
            "_model_module": "@jupyter-widgets/controls",
            "_model_module_version": "1.5.0",
            "_model_name": "HBoxModel",
            "_view_count": null,
            "_view_module": "@jupyter-widgets/controls",
            "_view_module_version": "1.5.0",
            "_view_name": "HBoxView",
            "box_style": "",
            "children": [
              "IPY_MODEL_071aae8b36d74c8ba2b46c93ac9426a8",
              "IPY_MODEL_bb6bbba393ad42d4b2631862ced99073",
              "IPY_MODEL_1d7a9d5f2ccf474894d65342fe000e6d"
            ],
            "layout": "IPY_MODEL_cb276e6c91994c2395a9f94c615bc1b9"
          }
        },
        "071aae8b36d74c8ba2b46c93ac9426a8": {
          "model_module": "@jupyter-widgets/controls",
          "model_name": "HTMLModel",
          "model_module_version": "1.5.0",
          "state": {
            "_dom_classes": [],
            "_model_module": "@jupyter-widgets/controls",
            "_model_module_version": "1.5.0",
            "_model_name": "HTMLModel",
            "_view_count": null,
            "_view_module": "@jupyter-widgets/controls",
            "_view_module_version": "1.5.0",
            "_view_name": "HTMLView",
            "description": "",
            "description_tooltip": null,
            "layout": "IPY_MODEL_47c8cff6e96c4535b09bb6654c06d88c",
            "placeholder": "​",
            "style": "IPY_MODEL_cdbe9470db854c32b9d655eebc59247e",
            "value": "Downloading model.safetensors: 100%"
          }
        },
        "bb6bbba393ad42d4b2631862ced99073": {
          "model_module": "@jupyter-widgets/controls",
          "model_name": "FloatProgressModel",
          "model_module_version": "1.5.0",
          "state": {
            "_dom_classes": [],
            "_model_module": "@jupyter-widgets/controls",
            "_model_module_version": "1.5.0",
            "_model_name": "FloatProgressModel",
            "_view_count": null,
            "_view_module": "@jupyter-widgets/controls",
            "_view_module_version": "1.5.0",
            "_view_name": "ProgressView",
            "bar_style": "success",
            "description": "",
            "description_tooltip": null,
            "layout": "IPY_MODEL_3d773886c3b74ad2a4cbf4cd1926e650",
            "max": 267954768,
            "min": 0,
            "orientation": "horizontal",
            "style": "IPY_MODEL_f98a2572ce5d4c84bfba57c510e69264",
            "value": 267954768
          }
        },
        "1d7a9d5f2ccf474894d65342fe000e6d": {
          "model_module": "@jupyter-widgets/controls",
          "model_name": "HTMLModel",
          "model_module_version": "1.5.0",
          "state": {
            "_dom_classes": [],
            "_model_module": "@jupyter-widgets/controls",
            "_model_module_version": "1.5.0",
            "_model_name": "HTMLModel",
            "_view_count": null,
            "_view_module": "@jupyter-widgets/controls",
            "_view_module_version": "1.5.0",
            "_view_name": "HTMLView",
            "description": "",
            "description_tooltip": null,
            "layout": "IPY_MODEL_8fd62aeed28141f0962050f9adccc2f7",
            "placeholder": "​",
            "style": "IPY_MODEL_ead4225adeb54534aa87ed15f49a118b",
            "value": " 268M/268M [00:02&lt;00:00, 148MB/s]"
          }
        },
        "cb276e6c91994c2395a9f94c615bc1b9": {
          "model_module": "@jupyter-widgets/base",
          "model_name": "LayoutModel",
          "model_module_version": "1.2.0",
          "state": {
            "_model_module": "@jupyter-widgets/base",
            "_model_module_version": "1.2.0",
            "_model_name": "LayoutModel",
            "_view_count": null,
            "_view_module": "@jupyter-widgets/base",
            "_view_module_version": "1.2.0",
            "_view_name": "LayoutView",
            "align_content": null,
            "align_items": null,
            "align_self": null,
            "border": null,
            "bottom": null,
            "display": null,
            "flex": null,
            "flex_flow": null,
            "grid_area": null,
            "grid_auto_columns": null,
            "grid_auto_flow": null,
            "grid_auto_rows": null,
            "grid_column": null,
            "grid_gap": null,
            "grid_row": null,
            "grid_template_areas": null,
            "grid_template_columns": null,
            "grid_template_rows": null,
            "height": null,
            "justify_content": null,
            "justify_items": null,
            "left": null,
            "margin": null,
            "max_height": null,
            "max_width": null,
            "min_height": null,
            "min_width": null,
            "object_fit": null,
            "object_position": null,
            "order": null,
            "overflow": null,
            "overflow_x": null,
            "overflow_y": null,
            "padding": null,
            "right": null,
            "top": null,
            "visibility": null,
            "width": null
          }
        },
        "47c8cff6e96c4535b09bb6654c06d88c": {
          "model_module": "@jupyter-widgets/base",
          "model_name": "LayoutModel",
          "model_module_version": "1.2.0",
          "state": {
            "_model_module": "@jupyter-widgets/base",
            "_model_module_version": "1.2.0",
            "_model_name": "LayoutModel",
            "_view_count": null,
            "_view_module": "@jupyter-widgets/base",
            "_view_module_version": "1.2.0",
            "_view_name": "LayoutView",
            "align_content": null,
            "align_items": null,
            "align_self": null,
            "border": null,
            "bottom": null,
            "display": null,
            "flex": null,
            "flex_flow": null,
            "grid_area": null,
            "grid_auto_columns": null,
            "grid_auto_flow": null,
            "grid_auto_rows": null,
            "grid_column": null,
            "grid_gap": null,
            "grid_row": null,
            "grid_template_areas": null,
            "grid_template_columns": null,
            "grid_template_rows": null,
            "height": null,
            "justify_content": null,
            "justify_items": null,
            "left": null,
            "margin": null,
            "max_height": null,
            "max_width": null,
            "min_height": null,
            "min_width": null,
            "object_fit": null,
            "object_position": null,
            "order": null,
            "overflow": null,
            "overflow_x": null,
            "overflow_y": null,
            "padding": null,
            "right": null,
            "top": null,
            "visibility": null,
            "width": null
          }
        },
        "cdbe9470db854c32b9d655eebc59247e": {
          "model_module": "@jupyter-widgets/controls",
          "model_name": "DescriptionStyleModel",
          "model_module_version": "1.5.0",
          "state": {
            "_model_module": "@jupyter-widgets/controls",
            "_model_module_version": "1.5.0",
            "_model_name": "DescriptionStyleModel",
            "_view_count": null,
            "_view_module": "@jupyter-widgets/base",
            "_view_module_version": "1.2.0",
            "_view_name": "StyleView",
            "description_width": ""
          }
        },
        "3d773886c3b74ad2a4cbf4cd1926e650": {
          "model_module": "@jupyter-widgets/base",
          "model_name": "LayoutModel",
          "model_module_version": "1.2.0",
          "state": {
            "_model_module": "@jupyter-widgets/base",
            "_model_module_version": "1.2.0",
            "_model_name": "LayoutModel",
            "_view_count": null,
            "_view_module": "@jupyter-widgets/base",
            "_view_module_version": "1.2.0",
            "_view_name": "LayoutView",
            "align_content": null,
            "align_items": null,
            "align_self": null,
            "border": null,
            "bottom": null,
            "display": null,
            "flex": null,
            "flex_flow": null,
            "grid_area": null,
            "grid_auto_columns": null,
            "grid_auto_flow": null,
            "grid_auto_rows": null,
            "grid_column": null,
            "grid_gap": null,
            "grid_row": null,
            "grid_template_areas": null,
            "grid_template_columns": null,
            "grid_template_rows": null,
            "height": null,
            "justify_content": null,
            "justify_items": null,
            "left": null,
            "margin": null,
            "max_height": null,
            "max_width": null,
            "min_height": null,
            "min_width": null,
            "object_fit": null,
            "object_position": null,
            "order": null,
            "overflow": null,
            "overflow_x": null,
            "overflow_y": null,
            "padding": null,
            "right": null,
            "top": null,
            "visibility": null,
            "width": null
          }
        },
        "f98a2572ce5d4c84bfba57c510e69264": {
          "model_module": "@jupyter-widgets/controls",
          "model_name": "ProgressStyleModel",
          "model_module_version": "1.5.0",
          "state": {
            "_model_module": "@jupyter-widgets/controls",
            "_model_module_version": "1.5.0",
            "_model_name": "ProgressStyleModel",
            "_view_count": null,
            "_view_module": "@jupyter-widgets/base",
            "_view_module_version": "1.2.0",
            "_view_name": "StyleView",
            "bar_color": null,
            "description_width": ""
          }
        },
        "8fd62aeed28141f0962050f9adccc2f7": {
          "model_module": "@jupyter-widgets/base",
          "model_name": "LayoutModel",
          "model_module_version": "1.2.0",
          "state": {
            "_model_module": "@jupyter-widgets/base",
            "_model_module_version": "1.2.0",
            "_model_name": "LayoutModel",
            "_view_count": null,
            "_view_module": "@jupyter-widgets/base",
            "_view_module_version": "1.2.0",
            "_view_name": "LayoutView",
            "align_content": null,
            "align_items": null,
            "align_self": null,
            "border": null,
            "bottom": null,
            "display": null,
            "flex": null,
            "flex_flow": null,
            "grid_area": null,
            "grid_auto_columns": null,
            "grid_auto_flow": null,
            "grid_auto_rows": null,
            "grid_column": null,
            "grid_gap": null,
            "grid_row": null,
            "grid_template_areas": null,
            "grid_template_columns": null,
            "grid_template_rows": null,
            "height": null,
            "justify_content": null,
            "justify_items": null,
            "left": null,
            "margin": null,
            "max_height": null,
            "max_width": null,
            "min_height": null,
            "min_width": null,
            "object_fit": null,
            "object_position": null,
            "order": null,
            "overflow": null,
            "overflow_x": null,
            "overflow_y": null,
            "padding": null,
            "right": null,
            "top": null,
            "visibility": null,
            "width": null
          }
        },
        "ead4225adeb54534aa87ed15f49a118b": {
          "model_module": "@jupyter-widgets/controls",
          "model_name": "DescriptionStyleModel",
          "model_module_version": "1.5.0",
          "state": {
            "_model_module": "@jupyter-widgets/controls",
            "_model_module_version": "1.5.0",
            "_model_name": "DescriptionStyleModel",
            "_view_count": null,
            "_view_module": "@jupyter-widgets/base",
            "_view_module_version": "1.2.0",
            "_view_name": "StyleView",
            "description_width": ""
          }
        }
      }
    }
  },
  "nbformat": 4,
  "nbformat_minor": 0
}