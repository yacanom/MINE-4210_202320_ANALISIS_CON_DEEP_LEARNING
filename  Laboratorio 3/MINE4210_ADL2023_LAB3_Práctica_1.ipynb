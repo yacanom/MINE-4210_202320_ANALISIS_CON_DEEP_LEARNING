{
  "cells": [
    {
      "cell_type": "markdown",
      "metadata": {
        "id": "view-in-github",
        "colab_type": "text"
      },
      "source": [
        "<a href=\"https://colab.research.google.com/github/yacanom/MINE-4210_202320_ANALISIS_CON_DEEP_LEARNING/blob/main/%20Laboratorio%203/MINE4210_ADL2023_LAB3_Pr%C3%A1ctica_1.ipynb\" target=\"_parent\"><img src=\"https://colab.research.google.com/assets/colab-badge.svg\" alt=\"Open In Colab\"/></a>"
      ]
    },
    {
      "cell_type": "markdown",
      "metadata": {
        "id": "znKNaJnn_ipc"
      },
      "source": [
        "![image](https://docs.google.com/uc?export=download&id=1NUy1Q-abpoV9XYK9qT9t8Mdhj3ZVlveO)"
      ]
    },
    {
      "cell_type": "markdown",
      "metadata": {
        "id": "NkCYoS7vchGU"
      },
      "source": [
        "\n",
        "# **Laboratorio 3 - Sesión 1**\n",
        "## **Redes Neuronales Recurrentes**\n",
        "\n",
        "## **Objetivos**\n",
        "*   Analizar la construcción de una Red Neuronal Recurrente.\n",
        "*   Entrenar una red recurrente LSTM para resolver un problema de análisis de sentimientos.\n",
        "\n",
        "\n",
        "## **Problema**\n",
        "- Se requiere realizar el análisis de sentimientos de un conjunto de frases del sector financiero como parte de la evaluación del sentimiento del mercado y la reputación de empresas, con el objetivo de tomar decisiones de inversión informadas."
      ]
    },
    {
      "cell_type": "markdown",
      "metadata": {
        "id": "cbrYuu93RJvA"
      },
      "source": [
        "## 0. Importación de Librerías\n",
        "Para la transformación de los datos, así como para el entrenamiento de los modelos y la visualización de los resultados, se importan las siguientes librerías:"
      ]
    },
    {
      "cell_type": "code",
      "execution_count": null,
      "metadata": {
        "colab": {
          "base_uri": "https://localhost:8080/"
        },
        "id": "mjJLC_3BdLEG",
        "outputId": "5b0ac197-3f6f-4281-b80d-ff54f1d02321"
      },
      "outputs": [
        {
          "output_type": "stream",
          "name": "stdout",
          "text": [
            "Collecting keras-tuner\n",
            "  Downloading keras_tuner-1.4.5-py3-none-any.whl (129 kB)\n",
            "\u001b[2K     \u001b[90m━━━━━━━━━━━━━━━━━━━━━━━━━━━━━━━━━━━━━━━━\u001b[0m \u001b[32m129.5/129.5 kB\u001b[0m \u001b[31m1.8 MB/s\u001b[0m eta \u001b[36m0:00:00\u001b[0m\n",
            "\u001b[?25hCollecting keras-core (from keras-tuner)\n",
            "  Downloading keras_core-0.1.7-py3-none-any.whl (950 kB)\n",
            "\u001b[2K     \u001b[90m━━━━━━━━━━━━━━━━━━━━━━━━━━━━━━━━━━━━━━━━\u001b[0m \u001b[32m950.8/950.8 kB\u001b[0m \u001b[31m10.2 MB/s\u001b[0m eta \u001b[36m0:00:00\u001b[0m\n",
            "\u001b[?25hRequirement already satisfied: packaging in /usr/local/lib/python3.10/dist-packages (from keras-tuner) (23.2)\n",
            "Requirement already satisfied: requests in /usr/local/lib/python3.10/dist-packages (from keras-tuner) (2.31.0)\n",
            "Collecting kt-legacy (from keras-tuner)\n",
            "  Downloading kt_legacy-1.0.5-py3-none-any.whl (9.6 kB)\n",
            "Requirement already satisfied: absl-py in /usr/local/lib/python3.10/dist-packages (from keras-core->keras-tuner) (1.4.0)\n",
            "Requirement already satisfied: numpy in /usr/local/lib/python3.10/dist-packages (from keras-core->keras-tuner) (1.23.5)\n",
            "Requirement already satisfied: rich in /usr/local/lib/python3.10/dist-packages (from keras-core->keras-tuner) (13.6.0)\n",
            "Collecting namex (from keras-core->keras-tuner)\n",
            "  Downloading namex-0.0.7-py3-none-any.whl (5.8 kB)\n",
            "Requirement already satisfied: h5py in /usr/local/lib/python3.10/dist-packages (from keras-core->keras-tuner) (3.9.0)\n",
            "Requirement already satisfied: dm-tree in /usr/local/lib/python3.10/dist-packages (from keras-core->keras-tuner) (0.1.8)\n",
            "Requirement already satisfied: charset-normalizer<4,>=2 in /usr/local/lib/python3.10/dist-packages (from requests->keras-tuner) (3.3.0)\n",
            "Requirement already satisfied: idna<4,>=2.5 in /usr/local/lib/python3.10/dist-packages (from requests->keras-tuner) (3.4)\n",
            "Requirement already satisfied: urllib3<3,>=1.21.1 in /usr/local/lib/python3.10/dist-packages (from requests->keras-tuner) (2.0.6)\n",
            "Requirement already satisfied: certifi>=2017.4.17 in /usr/local/lib/python3.10/dist-packages (from requests->keras-tuner) (2023.7.22)\n",
            "Requirement already satisfied: markdown-it-py>=2.2.0 in /usr/local/lib/python3.10/dist-packages (from rich->keras-core->keras-tuner) (3.0.0)\n",
            "Requirement already satisfied: pygments<3.0.0,>=2.13.0 in /usr/local/lib/python3.10/dist-packages (from rich->keras-core->keras-tuner) (2.16.1)\n",
            "Requirement already satisfied: mdurl~=0.1 in /usr/local/lib/python3.10/dist-packages (from markdown-it-py>=2.2.0->rich->keras-core->keras-tuner) (0.1.2)\n",
            "Installing collected packages: namex, kt-legacy, keras-core, keras-tuner\n",
            "Successfully installed keras-core-0.1.7 keras-tuner-1.4.5 kt-legacy-1.0.5 namex-0.0.7\n"
          ]
        }
      ],
      "source": [
        "!pip install keras-tuner"
      ]
    },
    {
      "cell_type": "code",
      "execution_count": null,
      "metadata": {
        "colab": {
          "base_uri": "https://localhost:8080/"
        },
        "id": "GixRrA2USNSL",
        "outputId": "22697fb5-8462-4673-f9c6-179fe9d526d5"
      },
      "outputs": [
        {
          "output_type": "stream",
          "name": "stdout",
          "text": [
            "Collecting contractions\n",
            "  Downloading contractions-0.1.73-py2.py3-none-any.whl (8.7 kB)\n",
            "Collecting textsearch>=0.0.21 (from contractions)\n",
            "  Downloading textsearch-0.0.24-py2.py3-none-any.whl (7.6 kB)\n",
            "Collecting anyascii (from textsearch>=0.0.21->contractions)\n",
            "  Downloading anyascii-0.3.2-py3-none-any.whl (289 kB)\n",
            "\u001b[2K     \u001b[90m━━━━━━━━━━━━━━━━━━━━━━━━━━━━━━━━━━━━━━━━\u001b[0m \u001b[32m289.9/289.9 kB\u001b[0m \u001b[31m4.9 MB/s\u001b[0m eta \u001b[36m0:00:00\u001b[0m\n",
            "\u001b[?25hCollecting pyahocorasick (from textsearch>=0.0.21->contractions)\n",
            "  Downloading pyahocorasick-2.0.0-cp310-cp310-manylinux_2_5_x86_64.manylinux1_x86_64.manylinux_2_12_x86_64.manylinux2010_x86_64.whl (110 kB)\n",
            "\u001b[2K     \u001b[90m━━━━━━━━━━━━━━━━━━━━━━━━━━━━━━━━━━━━━━━━\u001b[0m \u001b[32m110.8/110.8 kB\u001b[0m \u001b[31m5.0 MB/s\u001b[0m eta \u001b[36m0:00:00\u001b[0m\n",
            "\u001b[?25hInstalling collected packages: pyahocorasick, anyascii, textsearch, contractions\n",
            "Successfully installed anyascii-0.3.2 contractions-0.1.73 pyahocorasick-2.0.0 textsearch-0.0.24\n"
          ]
        }
      ],
      "source": [
        "!pip install contractions"
      ]
    },
    {
      "cell_type": "code",
      "execution_count": null,
      "metadata": {
        "colab": {
          "base_uri": "https://localhost:8080/"
        },
        "id": "bshegP63VPw_",
        "outputId": "06475306-8efa-45da-e89e-714a7eea5c3a"
      },
      "outputs": [
        {
          "output_type": "stream",
          "name": "stdout",
          "text": [
            "Collecting num2words\n",
            "  Downloading num2words-0.5.12-py3-none-any.whl (125 kB)\n",
            "\u001b[2K     \u001b[90m━━━━━━━━━━━━━━━━━━━━━━━━━━━━━━━━━━━━━━━━\u001b[0m \u001b[32m125.2/125.2 kB\u001b[0m \u001b[31m2.2 MB/s\u001b[0m eta \u001b[36m0:00:00\u001b[0m\n",
            "\u001b[?25hCollecting docopt>=0.6.2 (from num2words)\n",
            "  Downloading docopt-0.6.2.tar.gz (25 kB)\n",
            "  Preparing metadata (setup.py) ... \u001b[?25l\u001b[?25hdone\n",
            "Building wheels for collected packages: docopt\n",
            "  Building wheel for docopt (setup.py) ... \u001b[?25l\u001b[?25hdone\n",
            "  Created wheel for docopt: filename=docopt-0.6.2-py2.py3-none-any.whl size=13705 sha256=77f1a10325f27af4906371ba886936d60fa04642fa7e57dc4f2bb7d5d76eff35\n",
            "  Stored in directory: /root/.cache/pip/wheels/fc/ab/d4/5da2067ac95b36618c629a5f93f809425700506f72c9732fac\n",
            "Successfully built docopt\n",
            "Installing collected packages: docopt, num2words\n",
            "Successfully installed docopt-0.6.2 num2words-0.5.12\n"
          ]
        }
      ],
      "source": [
        "!pip install num2words"
      ]
    },
    {
      "cell_type": "code",
      "execution_count": null,
      "metadata": {
        "colab": {
          "base_uri": "https://localhost:8080/"
        },
        "id": "FJ1xHA9zXp00",
        "outputId": "5812041e-859b-46a1-d443-9dd66d513b2f"
      },
      "outputs": [
        {
          "output_type": "stream",
          "name": "stderr",
          "text": [
            "[nltk_data] Downloading package stopwords to /root/nltk_data...\n",
            "[nltk_data]   Unzipping corpora/stopwords.zip.\n"
          ]
        },
        {
          "output_type": "stream",
          "name": "stdout",
          "text": [
            "Using TensorFlow backend\n",
            "Tensorflow version: 2.13.0\n"
          ]
        }
      ],
      "source": [
        "import pandas as pd\n",
        "import numpy as np\n",
        "\n",
        "import matplotlib.pyplot as plt\n",
        "%matplotlib inline\n",
        "\n",
        "import num2words\n",
        "import nltk\n",
        "from nltk.corpus import stopwords\n",
        "nltk.download('stopwords')\n",
        "STOPWORDS = set(stopwords.words('english'))\n",
        "\n",
        "import tensorflow as tf\n",
        "import keras_tuner as kt\n",
        "\n",
        "import contractions\n",
        "import unicodedata, re\n",
        "\n",
        "from keras.models import Sequential\n",
        "from keras.layers import Input, Dense, Dropout, LSTM, TextVectorization, Embedding, SpatialDropout1D\n",
        "\n",
        "#from keras import backend as K\n",
        "#from keras import applications\n",
        "#from keras.utils import plot_model\n",
        "\n",
        "from sklearn.metrics import classification_report, confusion_matrix\n",
        "from sklearn.model_selection import train_test_split\n",
        "from sklearn.preprocessing import LabelEncoder\n",
        "\n",
        "import os\n",
        "from PIL import Image\n",
        "import shutil\n",
        "\n",
        "print('Tensorflow version:', tf.__version__)"
      ]
    },
    {
      "cell_type": "markdown",
      "metadata": {
        "id": "k4aTtfgWSC7Y"
      },
      "source": [
        "##**1. Entendimiento del Negocio**"
      ]
    },
    {
      "cell_type": "markdown",
      "metadata": {
        "id": "PrU7KURhTYBf"
      },
      "source": [
        "Una empresa del sector financiero requiere realizar el análisis de sentimientos de un conjunto de frases del sector para poder hacer evaluación del sentimiento del mercado y la reputación de las empresas.\n",
        "\n",
        "En primer lugar, este análisis proporciona información valiosa para la toma de decisiones de inversión. Al evaluar el sentimiento del mercado a partir de las opiniones y comentarios expresados en las frases, los inversores pueden tomar decisiones más informadas. Esto permite identificar tendencias emergentes, detectar posibles riesgos y oportunidades, y ajustar sus carteras de inversión de acuerdo a la dinámica del mercado.\n",
        "\n",
        "Los datos se toman de https://www.kaggle.com/datasets/sbhatti/financial-sentiment-analysis"
      ]
    },
    {
      "cell_type": "markdown",
      "metadata": {
        "id": "IfFUprIlXp02"
      },
      "source": [
        "##**2. Perfilamiento y entendimiento de los datos**"
      ]
    },
    {
      "cell_type": "code",
      "execution_count": null,
      "metadata": {
        "colab": {
          "base_uri": "https://localhost:8080/"
        },
        "id": "MeHWQMupmqCO",
        "outputId": "cdf7a665-39f5-4c5b-eb2e-79dc800b8089"
      },
      "outputs": [
        {
          "output_type": "stream",
          "name": "stdout",
          "text": [
            "Requirement already satisfied: kaggle in /usr/local/lib/python3.10/dist-packages (1.5.16)\n",
            "Requirement already satisfied: six>=1.10 in /usr/local/lib/python3.10/dist-packages (from kaggle) (1.16.0)\n",
            "Requirement already satisfied: certifi in /usr/local/lib/python3.10/dist-packages (from kaggle) (2023.7.22)\n",
            "Requirement already satisfied: python-dateutil in /usr/local/lib/python3.10/dist-packages (from kaggle) (2.8.2)\n",
            "Requirement already satisfied: requests in /usr/local/lib/python3.10/dist-packages (from kaggle) (2.31.0)\n",
            "Requirement already satisfied: tqdm in /usr/local/lib/python3.10/dist-packages (from kaggle) (4.66.1)\n",
            "Requirement already satisfied: python-slugify in /usr/local/lib/python3.10/dist-packages (from kaggle) (8.0.1)\n",
            "Requirement already satisfied: urllib3 in /usr/local/lib/python3.10/dist-packages (from kaggle) (2.0.6)\n",
            "Requirement already satisfied: bleach in /usr/local/lib/python3.10/dist-packages (from kaggle) (6.1.0)\n",
            "Requirement already satisfied: webencodings in /usr/local/lib/python3.10/dist-packages (from bleach->kaggle) (0.5.1)\n",
            "Requirement already satisfied: text-unidecode>=1.3 in /usr/local/lib/python3.10/dist-packages (from python-slugify->kaggle) (1.3)\n",
            "Requirement already satisfied: charset-normalizer<4,>=2 in /usr/local/lib/python3.10/dist-packages (from requests->kaggle) (3.3.0)\n",
            "Requirement already satisfied: idna<4,>=2.5 in /usr/local/lib/python3.10/dist-packages (from requests->kaggle) (3.4)\n",
            "Downloading financial-sentiment-analysis.zip to /content\n",
            "  0% 0.00/276k [00:00<?, ?B/s]\n",
            "100% 276k/276k [00:00<00:00, 98.4MB/s]\n",
            "Archive:  /content/financial-sentiment-analysis.zip\n",
            "  inflating: data.csv                \n"
          ]
        }
      ],
      "source": [
        "! pip install kaggle\n",
        "! mkdir ~/.kaggle\n",
        "! cp kaggle.json ~/.kaggle/\n",
        "! chmod 600 ~/.kaggle/kaggle.json\n",
        "! kaggle datasets download -d sbhatti/financial-sentiment-analysis\n",
        "! unzip /content/financial-sentiment-analysis.zip"
      ]
    },
    {
      "cell_type": "code",
      "execution_count": null,
      "metadata": {
        "colab": {
          "base_uri": "https://localhost:8080/",
          "height": 363
        },
        "id": "CEKEC0uBjFJq",
        "outputId": "7ef46533-1225-4eb4-91fc-f8cec81f376f"
      },
      "outputs": [
        {
          "output_type": "execute_result",
          "data": {
            "text/plain": [
              "                                            Sentence Sentiment\n",
              "0  The GeoSolutions technology will leverage Bene...  positive\n",
              "1  $ESI on lows, down $1.50 to $2.50 BK a real po...  negative\n",
              "2  For the last quarter of 2010 , Componenta 's n...  positive\n",
              "3  According to the Finnish-Russian Chamber of Co...   neutral\n",
              "4  The Swedish buyout firm has sold its remaining...   neutral\n",
              "5    $SPY wouldn't be surprised to see a green close  positive\n",
              "6  Shell's $70 Billion BG Deal Meets Shareholder ...  negative\n",
              "7  SSH COMMUNICATIONS SECURITY CORP STOCK EXCHANG...  negative\n",
              "8  Kone 's net sales rose by some 14 % year-on-ye...  positive\n",
              "9  The Stockmann department store will have a tot...   neutral"
            ],
            "text/html": [
              "\n",
              "  <div id=\"df-74ab38e5-ed03-4b70-b093-e40aea4762ea\" class=\"colab-df-container\">\n",
              "    <div>\n",
              "<style scoped>\n",
              "    .dataframe tbody tr th:only-of-type {\n",
              "        vertical-align: middle;\n",
              "    }\n",
              "\n",
              "    .dataframe tbody tr th {\n",
              "        vertical-align: top;\n",
              "    }\n",
              "\n",
              "    .dataframe thead th {\n",
              "        text-align: right;\n",
              "    }\n",
              "</style>\n",
              "<table border=\"1\" class=\"dataframe\">\n",
              "  <thead>\n",
              "    <tr style=\"text-align: right;\">\n",
              "      <th></th>\n",
              "      <th>Sentence</th>\n",
              "      <th>Sentiment</th>\n",
              "    </tr>\n",
              "  </thead>\n",
              "  <tbody>\n",
              "    <tr>\n",
              "      <th>0</th>\n",
              "      <td>The GeoSolutions technology will leverage Bene...</td>\n",
              "      <td>positive</td>\n",
              "    </tr>\n",
              "    <tr>\n",
              "      <th>1</th>\n",
              "      <td>$ESI on lows, down $1.50 to $2.50 BK a real po...</td>\n",
              "      <td>negative</td>\n",
              "    </tr>\n",
              "    <tr>\n",
              "      <th>2</th>\n",
              "      <td>For the last quarter of 2010 , Componenta 's n...</td>\n",
              "      <td>positive</td>\n",
              "    </tr>\n",
              "    <tr>\n",
              "      <th>3</th>\n",
              "      <td>According to the Finnish-Russian Chamber of Co...</td>\n",
              "      <td>neutral</td>\n",
              "    </tr>\n",
              "    <tr>\n",
              "      <th>4</th>\n",
              "      <td>The Swedish buyout firm has sold its remaining...</td>\n",
              "      <td>neutral</td>\n",
              "    </tr>\n",
              "    <tr>\n",
              "      <th>5</th>\n",
              "      <td>$SPY wouldn't be surprised to see a green close</td>\n",
              "      <td>positive</td>\n",
              "    </tr>\n",
              "    <tr>\n",
              "      <th>6</th>\n",
              "      <td>Shell's $70 Billion BG Deal Meets Shareholder ...</td>\n",
              "      <td>negative</td>\n",
              "    </tr>\n",
              "    <tr>\n",
              "      <th>7</th>\n",
              "      <td>SSH COMMUNICATIONS SECURITY CORP STOCK EXCHANG...</td>\n",
              "      <td>negative</td>\n",
              "    </tr>\n",
              "    <tr>\n",
              "      <th>8</th>\n",
              "      <td>Kone 's net sales rose by some 14 % year-on-ye...</td>\n",
              "      <td>positive</td>\n",
              "    </tr>\n",
              "    <tr>\n",
              "      <th>9</th>\n",
              "      <td>The Stockmann department store will have a tot...</td>\n",
              "      <td>neutral</td>\n",
              "    </tr>\n",
              "  </tbody>\n",
              "</table>\n",
              "</div>\n",
              "    <div class=\"colab-df-buttons\">\n",
              "\n",
              "  <div class=\"colab-df-container\">\n",
              "    <button class=\"colab-df-convert\" onclick=\"convertToInteractive('df-74ab38e5-ed03-4b70-b093-e40aea4762ea')\"\n",
              "            title=\"Convert this dataframe to an interactive table.\"\n",
              "            style=\"display:none;\">\n",
              "\n",
              "  <svg xmlns=\"http://www.w3.org/2000/svg\" height=\"24px\" viewBox=\"0 -960 960 960\">\n",
              "    <path d=\"M120-120v-720h720v720H120Zm60-500h600v-160H180v160Zm220 220h160v-160H400v160Zm0 220h160v-160H400v160ZM180-400h160v-160H180v160Zm440 0h160v-160H620v160ZM180-180h160v-160H180v160Zm440 0h160v-160H620v160Z\"/>\n",
              "  </svg>\n",
              "    </button>\n",
              "\n",
              "  <style>\n",
              "    .colab-df-container {\n",
              "      display:flex;\n",
              "      gap: 12px;\n",
              "    }\n",
              "\n",
              "    .colab-df-convert {\n",
              "      background-color: #E8F0FE;\n",
              "      border: none;\n",
              "      border-radius: 50%;\n",
              "      cursor: pointer;\n",
              "      display: none;\n",
              "      fill: #1967D2;\n",
              "      height: 32px;\n",
              "      padding: 0 0 0 0;\n",
              "      width: 32px;\n",
              "    }\n",
              "\n",
              "    .colab-df-convert:hover {\n",
              "      background-color: #E2EBFA;\n",
              "      box-shadow: 0px 1px 2px rgba(60, 64, 67, 0.3), 0px 1px 3px 1px rgba(60, 64, 67, 0.15);\n",
              "      fill: #174EA6;\n",
              "    }\n",
              "\n",
              "    .colab-df-buttons div {\n",
              "      margin-bottom: 4px;\n",
              "    }\n",
              "\n",
              "    [theme=dark] .colab-df-convert {\n",
              "      background-color: #3B4455;\n",
              "      fill: #D2E3FC;\n",
              "    }\n",
              "\n",
              "    [theme=dark] .colab-df-convert:hover {\n",
              "      background-color: #434B5C;\n",
              "      box-shadow: 0px 1px 3px 1px rgba(0, 0, 0, 0.15);\n",
              "      filter: drop-shadow(0px 1px 2px rgba(0, 0, 0, 0.3));\n",
              "      fill: #FFFFFF;\n",
              "    }\n",
              "  </style>\n",
              "\n",
              "    <script>\n",
              "      const buttonEl =\n",
              "        document.querySelector('#df-74ab38e5-ed03-4b70-b093-e40aea4762ea button.colab-df-convert');\n",
              "      buttonEl.style.display =\n",
              "        google.colab.kernel.accessAllowed ? 'block' : 'none';\n",
              "\n",
              "      async function convertToInteractive(key) {\n",
              "        const element = document.querySelector('#df-74ab38e5-ed03-4b70-b093-e40aea4762ea');\n",
              "        const dataTable =\n",
              "          await google.colab.kernel.invokeFunction('convertToInteractive',\n",
              "                                                    [key], {});\n",
              "        if (!dataTable) return;\n",
              "\n",
              "        const docLinkHtml = 'Like what you see? Visit the ' +\n",
              "          '<a target=\"_blank\" href=https://colab.research.google.com/notebooks/data_table.ipynb>data table notebook</a>'\n",
              "          + ' to learn more about interactive tables.';\n",
              "        element.innerHTML = '';\n",
              "        dataTable['output_type'] = 'display_data';\n",
              "        await google.colab.output.renderOutput(dataTable, element);\n",
              "        const docLink = document.createElement('div');\n",
              "        docLink.innerHTML = docLinkHtml;\n",
              "        element.appendChild(docLink);\n",
              "      }\n",
              "    </script>\n",
              "  </div>\n",
              "\n",
              "\n",
              "<div id=\"df-956ee448-b121-4add-a45b-673f3d176a5e\">\n",
              "  <button class=\"colab-df-quickchart\" onclick=\"quickchart('df-956ee448-b121-4add-a45b-673f3d176a5e')\"\n",
              "            title=\"Suggest charts.\"\n",
              "            style=\"display:none;\">\n",
              "\n",
              "<svg xmlns=\"http://www.w3.org/2000/svg\" height=\"24px\"viewBox=\"0 0 24 24\"\n",
              "     width=\"24px\">\n",
              "    <g>\n",
              "        <path d=\"M19 3H5c-1.1 0-2 .9-2 2v14c0 1.1.9 2 2 2h14c1.1 0 2-.9 2-2V5c0-1.1-.9-2-2-2zM9 17H7v-7h2v7zm4 0h-2V7h2v10zm4 0h-2v-4h2v4z\"/>\n",
              "    </g>\n",
              "</svg>\n",
              "  </button>\n",
              "\n",
              "<style>\n",
              "  .colab-df-quickchart {\n",
              "      --bg-color: #E8F0FE;\n",
              "      --fill-color: #1967D2;\n",
              "      --hover-bg-color: #E2EBFA;\n",
              "      --hover-fill-color: #174EA6;\n",
              "      --disabled-fill-color: #AAA;\n",
              "      --disabled-bg-color: #DDD;\n",
              "  }\n",
              "\n",
              "  [theme=dark] .colab-df-quickchart {\n",
              "      --bg-color: #3B4455;\n",
              "      --fill-color: #D2E3FC;\n",
              "      --hover-bg-color: #434B5C;\n",
              "      --hover-fill-color: #FFFFFF;\n",
              "      --disabled-bg-color: #3B4455;\n",
              "      --disabled-fill-color: #666;\n",
              "  }\n",
              "\n",
              "  .colab-df-quickchart {\n",
              "    background-color: var(--bg-color);\n",
              "    border: none;\n",
              "    border-radius: 50%;\n",
              "    cursor: pointer;\n",
              "    display: none;\n",
              "    fill: var(--fill-color);\n",
              "    height: 32px;\n",
              "    padding: 0;\n",
              "    width: 32px;\n",
              "  }\n",
              "\n",
              "  .colab-df-quickchart:hover {\n",
              "    background-color: var(--hover-bg-color);\n",
              "    box-shadow: 0 1px 2px rgba(60, 64, 67, 0.3), 0 1px 3px 1px rgba(60, 64, 67, 0.15);\n",
              "    fill: var(--button-hover-fill-color);\n",
              "  }\n",
              "\n",
              "  .colab-df-quickchart-complete:disabled,\n",
              "  .colab-df-quickchart-complete:disabled:hover {\n",
              "    background-color: var(--disabled-bg-color);\n",
              "    fill: var(--disabled-fill-color);\n",
              "    box-shadow: none;\n",
              "  }\n",
              "\n",
              "  .colab-df-spinner {\n",
              "    border: 2px solid var(--fill-color);\n",
              "    border-color: transparent;\n",
              "    border-bottom-color: var(--fill-color);\n",
              "    animation:\n",
              "      spin 1s steps(1) infinite;\n",
              "  }\n",
              "\n",
              "  @keyframes spin {\n",
              "    0% {\n",
              "      border-color: transparent;\n",
              "      border-bottom-color: var(--fill-color);\n",
              "      border-left-color: var(--fill-color);\n",
              "    }\n",
              "    20% {\n",
              "      border-color: transparent;\n",
              "      border-left-color: var(--fill-color);\n",
              "      border-top-color: var(--fill-color);\n",
              "    }\n",
              "    30% {\n",
              "      border-color: transparent;\n",
              "      border-left-color: var(--fill-color);\n",
              "      border-top-color: var(--fill-color);\n",
              "      border-right-color: var(--fill-color);\n",
              "    }\n",
              "    40% {\n",
              "      border-color: transparent;\n",
              "      border-right-color: var(--fill-color);\n",
              "      border-top-color: var(--fill-color);\n",
              "    }\n",
              "    60% {\n",
              "      border-color: transparent;\n",
              "      border-right-color: var(--fill-color);\n",
              "    }\n",
              "    80% {\n",
              "      border-color: transparent;\n",
              "      border-right-color: var(--fill-color);\n",
              "      border-bottom-color: var(--fill-color);\n",
              "    }\n",
              "    90% {\n",
              "      border-color: transparent;\n",
              "      border-bottom-color: var(--fill-color);\n",
              "    }\n",
              "  }\n",
              "</style>\n",
              "\n",
              "  <script>\n",
              "    async function quickchart(key) {\n",
              "      const quickchartButtonEl =\n",
              "        document.querySelector('#' + key + ' button');\n",
              "      quickchartButtonEl.disabled = true;  // To prevent multiple clicks.\n",
              "      quickchartButtonEl.classList.add('colab-df-spinner');\n",
              "      try {\n",
              "        const charts = await google.colab.kernel.invokeFunction(\n",
              "            'suggestCharts', [key], {});\n",
              "      } catch (error) {\n",
              "        console.error('Error during call to suggestCharts:', error);\n",
              "      }\n",
              "      quickchartButtonEl.classList.remove('colab-df-spinner');\n",
              "      quickchartButtonEl.classList.add('colab-df-quickchart-complete');\n",
              "    }\n",
              "    (() => {\n",
              "      let quickchartButtonEl =\n",
              "        document.querySelector('#df-956ee448-b121-4add-a45b-673f3d176a5e button');\n",
              "      quickchartButtonEl.style.display =\n",
              "        google.colab.kernel.accessAllowed ? 'block' : 'none';\n",
              "    })();\n",
              "  </script>\n",
              "</div>\n",
              "    </div>\n",
              "  </div>\n"
            ]
          },
          "metadata": {},
          "execution_count": 6
        }
      ],
      "source": [
        "data = pd.read_csv('/content/data.csv')\n",
        "data.head(10)"
      ]
    },
    {
      "cell_type": "code",
      "execution_count": null,
      "metadata": {
        "colab": {
          "base_uri": "https://localhost:8080/"
        },
        "id": "4nAgHblmjUjO",
        "outputId": "95fc513f-41d8-409d-8aeb-480328cc7928"
      },
      "outputs": [
        {
          "output_type": "stream",
          "name": "stdout",
          "text": [
            "<class 'pandas.core.frame.DataFrame'>\n",
            "RangeIndex: 5842 entries, 0 to 5841\n",
            "Data columns (total 2 columns):\n",
            " #   Column     Non-Null Count  Dtype \n",
            "---  ------     --------------  ----- \n",
            " 0   Sentence   5842 non-null   object\n",
            " 1   Sentiment  5842 non-null   object\n",
            "dtypes: object(2)\n",
            "memory usage: 91.4+ KB\n"
          ]
        }
      ],
      "source": [
        "data.info()"
      ]
    },
    {
      "cell_type": "markdown",
      "source": [
        "Realizamos la revisión de texto para cada uno de los sentimientos:"
      ],
      "metadata": {
        "id": "_rVGm9dVB6ZJ"
      }
    },
    {
      "cell_type": "code",
      "execution_count": null,
      "metadata": {
        "colab": {
          "base_uri": "https://localhost:8080/"
        },
        "id": "K32IArB3cihD",
        "outputId": "c494ed5b-3714-43d8-cbcd-a78e17bee832"
      },
      "outputs": [
        {
          "output_type": "stream",
          "name": "stdout",
          "text": [
            "Sentiment: positive\n",
            "Sentence: The GeoSolutions technology will leverage Benefon 's GPS solutions by providing Location Based Search Technology , a Communities Platform , location relevant multimedia content and a new and powerful commercial model .\n",
            "\n",
            "Sentiment: negative\n",
            "Sentence: $ESI on lows, down $1.50 to $2.50 BK a real possibility\n",
            "\n",
            "Sentiment: neutral\n",
            "Sentence: According to the Finnish-Russian Chamber of Commerce , all the major construction companies of Finland are operating in Russia .\n",
            "\n"
          ]
        }
      ],
      "source": [
        "unique_sentiments = data['Sentiment'].unique()\n",
        "\n",
        "for sentiment in unique_sentiments:\n",
        "    row = data[data['Sentiment'] == sentiment].iloc[0]  # Obtener la primera fila con el valor de sentimiento específico\n",
        "    print(\"Sentiment:\", sentiment)\n",
        "    print(\"Sentence:\", row['Sentence'])\n",
        "    print()\n"
      ]
    },
    {
      "cell_type": "code",
      "execution_count": null,
      "metadata": {
        "colab": {
          "base_uri": "https://localhost:8080/"
        },
        "id": "aZ1BmCb6gtfk",
        "outputId": "e10e63bb-240c-442e-be67-ee1408212134"
      },
      "outputs": [
        {
          "output_type": "execute_result",
          "data": {
            "text/plain": [
              "neutral     3130\n",
              "positive    1852\n",
              "negative     860\n",
              "Name: Sentiment, dtype: int64"
            ]
          },
          "metadata": {},
          "execution_count": 9
        }
      ],
      "source": [
        "data[\"Sentiment\"].value_counts()"
      ]
    },
    {
      "cell_type": "markdown",
      "metadata": {
        "id": "Bnrd3Qjg3nVY"
      },
      "source": [
        "##**3. Preparación de los Datos**"
      ]
    },
    {
      "cell_type": "markdown",
      "metadata": {
        "id": "9C28MnRiwatm"
      },
      "source": [
        "El objetivo del preprocesamiento es limpiar y estandarizar el texto para que sea más adecuado para su uso."
      ]
    },
    {
      "cell_type": "code",
      "execution_count": null,
      "metadata": {
        "id": "RT9k2kP8RoWB"
      },
      "outputs": [],
      "source": [
        "def remove_stopwords(words):\n",
        "  for word in STOPWORDS:\n",
        "    token = ' ' + word + ' '\n",
        "    words = re.sub(token, ' ', words)\n",
        "  return words\n",
        "\n",
        "def preproccesing(words):\n",
        "    #pasar el texto a minúsculas\n",
        "    words = words.lower()\n",
        "    #pasar números a palabras\n",
        "    #words = re.sub(r\"(\\d+)\", lambda x: num2words.num2words(int(x.group(0))), words)\n",
        "    #remove_punctuation se omite el caracter - dado que en inglés se usa en palabras compuestas.\n",
        "    words = re.sub(r\"([\\\"(),¡!¿?:;'></]|\\\\s)+\", \"\", words)\n",
        "    #Remove non-ASCII characters\n",
        "    words = unicodedata.normalize('NFKD', words).encode('ascii', 'ignore').decode('utf-8', 'ignore')\n",
        "    #Remove Stopwords\n",
        "    words = remove_stopwords(words)\n",
        "    #Stem and lemma\n",
        "    #words = stem_and_lemmatize(words)\n",
        "    return words"
      ]
    },
    {
      "cell_type": "code",
      "execution_count": null,
      "metadata": {
        "id": "HLsIiDTqRpeL"
      },
      "outputs": [],
      "source": [
        "data[\"Sentence\"] = data[\"Sentence\"].apply(contractions.fix)\n",
        "data[\"Sentence\"] = data[\"Sentence\"].apply(preproccesing)"
      ]
    },
    {
      "cell_type": "code",
      "execution_count": null,
      "metadata": {
        "colab": {
          "base_uri": "https://localhost:8080/"
        },
        "id": "cpiZlG0gkU2T",
        "outputId": "0d6f26af-8444-4470-d17e-60442c5d1ba5"
      },
      "outputs": [
        {
          "output_type": "execute_result",
          "data": {
            "text/plain": [
              "0       the geosolutions technology leverage benefon g...\n",
              "1               $esi lows $1.50 $2.50 bk real possibility\n",
              "2       for last quarter 2010  componenta net sales do...\n",
              "3       according finnish-russian chamber commerce  ma...\n",
              "4       the swedish buyout firm sold remaining 22.4 pe...\n",
              "                              ...                        \n",
              "5837    rising costs forced packaging producer huhtama...\n",
              "5838    nordic walking first used summer training meth...\n",
              "5839    according shipping company viking line  eu dec...\n",
              "5840    in building home improvement trade  sales decr...\n",
              "5841    helsinki afx - kci konecranes said order four ...\n",
              "Name: Sentence, Length: 5842, dtype: object"
            ]
          },
          "metadata": {},
          "execution_count": 12
        }
      ],
      "source": [
        "data[\"Sentence\"]"
      ]
    },
    {
      "cell_type": "markdown",
      "metadata": {
        "id": "HILVZL3Hwl_G"
      },
      "source": [
        "Ahora vamos a pasar el sentimiento (clase) a un valor entero usando LabelEncoder"
      ]
    },
    {
      "cell_type": "code",
      "execution_count": null,
      "metadata": {
        "colab": {
          "base_uri": "https://localhost:8080/"
        },
        "id": "_imuGun6nlEX",
        "outputId": "4d9ad6f9-2f46-4b28-ebc6-4f41d2975a8b"
      },
      "outputs": [
        {
          "output_type": "stream",
          "name": "stdout",
          "text": [
            "Valor numérico: 0, Etiqueta original: negative\n",
            "Valor numérico: 1, Etiqueta original: neutral\n",
            "Valor numérico: 2, Etiqueta original: positive\n"
          ]
        }
      ],
      "source": [
        "label_encoder = LabelEncoder()\n",
        "data['Sentiment'] = label_encoder.fit_transform(data['Sentiment'])\n",
        "\n",
        "etiquetas_unicas = label_encoder.classes_\n",
        "for valor_numerico, etiqueta_original in enumerate(etiquetas_unicas):\n",
        "    print(f'Valor numérico: {valor_numerico}, Etiqueta original: {etiqueta_original}')"
      ]
    },
    {
      "cell_type": "markdown",
      "metadata": {
        "id": "hA7lH4P4wyCQ"
      },
      "source": [
        "Hacemos la división de los conjuntos para entrenamiento, validación y prueba:"
      ]
    },
    {
      "cell_type": "code",
      "execution_count": null,
      "metadata": {
        "colab": {
          "base_uri": "https://localhost:8080/",
          "height": 476
        },
        "id": "b-xIiI9JStV3",
        "outputId": "8eff9bba-93c6-4395-c806-10019c1b624a"
      },
      "outputs": [
        {
          "output_type": "stream",
          "name": "stdout",
          "text": [
            "Tamaño de datos de entrenamiento: (3738, 2)\n",
            "Tamaño de datos de validación: (935, 2)\n",
            "Tamaño de datos de prueba: (1169, 2)\n"
          ]
        },
        {
          "output_type": "execute_result",
          "data": {
            "text/plain": [
              "                                               Sentence  Sentiment\n",
              "3097  digia also set two subsidiaries  digia norway ...          1\n",
              "5048  $bbry sierra. great cash balance impressive gr...          2\n",
              "5727  britains ftse gains land securities dividend hike          2\n",
              "185   the finnish company sold uk operation - consis...          1\n",
              "4265  russian media ventures  minority shareholder p...          1\n",
              "...                                                 ...        ...\n",
              "326                          i&h  move enhance growth .          2\n",
              "2821  in addition  29 employees laid notice whole wo...          0\n",
              "4365  the paper industry de-inking sludge  produced ...          1\n",
              "1603  $je looks like bouncing.  would nice finish $6...          2\n",
              "200   a survey conducted taloustutkimus sampo life s...          1\n",
              "\n",
              "[3738 rows x 2 columns]"
            ],
            "text/html": [
              "\n",
              "  <div id=\"df-315bca0e-cd72-4dab-942b-95ecd99c22bb\" class=\"colab-df-container\">\n",
              "    <div>\n",
              "<style scoped>\n",
              "    .dataframe tbody tr th:only-of-type {\n",
              "        vertical-align: middle;\n",
              "    }\n",
              "\n",
              "    .dataframe tbody tr th {\n",
              "        vertical-align: top;\n",
              "    }\n",
              "\n",
              "    .dataframe thead th {\n",
              "        text-align: right;\n",
              "    }\n",
              "</style>\n",
              "<table border=\"1\" class=\"dataframe\">\n",
              "  <thead>\n",
              "    <tr style=\"text-align: right;\">\n",
              "      <th></th>\n",
              "      <th>Sentence</th>\n",
              "      <th>Sentiment</th>\n",
              "    </tr>\n",
              "  </thead>\n",
              "  <tbody>\n",
              "    <tr>\n",
              "      <th>3097</th>\n",
              "      <td>digia also set two subsidiaries  digia norway ...</td>\n",
              "      <td>1</td>\n",
              "    </tr>\n",
              "    <tr>\n",
              "      <th>5048</th>\n",
              "      <td>$bbry sierra. great cash balance impressive gr...</td>\n",
              "      <td>2</td>\n",
              "    </tr>\n",
              "    <tr>\n",
              "      <th>5727</th>\n",
              "      <td>britains ftse gains land securities dividend hike</td>\n",
              "      <td>2</td>\n",
              "    </tr>\n",
              "    <tr>\n",
              "      <th>185</th>\n",
              "      <td>the finnish company sold uk operation - consis...</td>\n",
              "      <td>1</td>\n",
              "    </tr>\n",
              "    <tr>\n",
              "      <th>4265</th>\n",
              "      <td>russian media ventures  minority shareholder p...</td>\n",
              "      <td>1</td>\n",
              "    </tr>\n",
              "    <tr>\n",
              "      <th>...</th>\n",
              "      <td>...</td>\n",
              "      <td>...</td>\n",
              "    </tr>\n",
              "    <tr>\n",
              "      <th>326</th>\n",
              "      <td>i&amp;h  move enhance growth .</td>\n",
              "      <td>2</td>\n",
              "    </tr>\n",
              "    <tr>\n",
              "      <th>2821</th>\n",
              "      <td>in addition  29 employees laid notice whole wo...</td>\n",
              "      <td>0</td>\n",
              "    </tr>\n",
              "    <tr>\n",
              "      <th>4365</th>\n",
              "      <td>the paper industry de-inking sludge  produced ...</td>\n",
              "      <td>1</td>\n",
              "    </tr>\n",
              "    <tr>\n",
              "      <th>1603</th>\n",
              "      <td>$je looks like bouncing.  would nice finish $6...</td>\n",
              "      <td>2</td>\n",
              "    </tr>\n",
              "    <tr>\n",
              "      <th>200</th>\n",
              "      <td>a survey conducted taloustutkimus sampo life s...</td>\n",
              "      <td>1</td>\n",
              "    </tr>\n",
              "  </tbody>\n",
              "</table>\n",
              "<p>3738 rows × 2 columns</p>\n",
              "</div>\n",
              "    <div class=\"colab-df-buttons\">\n",
              "\n",
              "  <div class=\"colab-df-container\">\n",
              "    <button class=\"colab-df-convert\" onclick=\"convertToInteractive('df-315bca0e-cd72-4dab-942b-95ecd99c22bb')\"\n",
              "            title=\"Convert this dataframe to an interactive table.\"\n",
              "            style=\"display:none;\">\n",
              "\n",
              "  <svg xmlns=\"http://www.w3.org/2000/svg\" height=\"24px\" viewBox=\"0 -960 960 960\">\n",
              "    <path d=\"M120-120v-720h720v720H120Zm60-500h600v-160H180v160Zm220 220h160v-160H400v160Zm0 220h160v-160H400v160ZM180-400h160v-160H180v160Zm440 0h160v-160H620v160ZM180-180h160v-160H180v160Zm440 0h160v-160H620v160Z\"/>\n",
              "  </svg>\n",
              "    </button>\n",
              "\n",
              "  <style>\n",
              "    .colab-df-container {\n",
              "      display:flex;\n",
              "      gap: 12px;\n",
              "    }\n",
              "\n",
              "    .colab-df-convert {\n",
              "      background-color: #E8F0FE;\n",
              "      border: none;\n",
              "      border-radius: 50%;\n",
              "      cursor: pointer;\n",
              "      display: none;\n",
              "      fill: #1967D2;\n",
              "      height: 32px;\n",
              "      padding: 0 0 0 0;\n",
              "      width: 32px;\n",
              "    }\n",
              "\n",
              "    .colab-df-convert:hover {\n",
              "      background-color: #E2EBFA;\n",
              "      box-shadow: 0px 1px 2px rgba(60, 64, 67, 0.3), 0px 1px 3px 1px rgba(60, 64, 67, 0.15);\n",
              "      fill: #174EA6;\n",
              "    }\n",
              "\n",
              "    .colab-df-buttons div {\n",
              "      margin-bottom: 4px;\n",
              "    }\n",
              "\n",
              "    [theme=dark] .colab-df-convert {\n",
              "      background-color: #3B4455;\n",
              "      fill: #D2E3FC;\n",
              "    }\n",
              "\n",
              "    [theme=dark] .colab-df-convert:hover {\n",
              "      background-color: #434B5C;\n",
              "      box-shadow: 0px 1px 3px 1px rgba(0, 0, 0, 0.15);\n",
              "      filter: drop-shadow(0px 1px 2px rgba(0, 0, 0, 0.3));\n",
              "      fill: #FFFFFF;\n",
              "    }\n",
              "  </style>\n",
              "\n",
              "    <script>\n",
              "      const buttonEl =\n",
              "        document.querySelector('#df-315bca0e-cd72-4dab-942b-95ecd99c22bb button.colab-df-convert');\n",
              "      buttonEl.style.display =\n",
              "        google.colab.kernel.accessAllowed ? 'block' : 'none';\n",
              "\n",
              "      async function convertToInteractive(key) {\n",
              "        const element = document.querySelector('#df-315bca0e-cd72-4dab-942b-95ecd99c22bb');\n",
              "        const dataTable =\n",
              "          await google.colab.kernel.invokeFunction('convertToInteractive',\n",
              "                                                    [key], {});\n",
              "        if (!dataTable) return;\n",
              "\n",
              "        const docLinkHtml = 'Like what you see? Visit the ' +\n",
              "          '<a target=\"_blank\" href=https://colab.research.google.com/notebooks/data_table.ipynb>data table notebook</a>'\n",
              "          + ' to learn more about interactive tables.';\n",
              "        element.innerHTML = '';\n",
              "        dataTable['output_type'] = 'display_data';\n",
              "        await google.colab.output.renderOutput(dataTable, element);\n",
              "        const docLink = document.createElement('div');\n",
              "        docLink.innerHTML = docLinkHtml;\n",
              "        element.appendChild(docLink);\n",
              "      }\n",
              "    </script>\n",
              "  </div>\n",
              "\n",
              "\n",
              "<div id=\"df-93fb22ed-b680-4b7d-a02f-5dc9f3bdd82f\">\n",
              "  <button class=\"colab-df-quickchart\" onclick=\"quickchart('df-93fb22ed-b680-4b7d-a02f-5dc9f3bdd82f')\"\n",
              "            title=\"Suggest charts.\"\n",
              "            style=\"display:none;\">\n",
              "\n",
              "<svg xmlns=\"http://www.w3.org/2000/svg\" height=\"24px\"viewBox=\"0 0 24 24\"\n",
              "     width=\"24px\">\n",
              "    <g>\n",
              "        <path d=\"M19 3H5c-1.1 0-2 .9-2 2v14c0 1.1.9 2 2 2h14c1.1 0 2-.9 2-2V5c0-1.1-.9-2-2-2zM9 17H7v-7h2v7zm4 0h-2V7h2v10zm4 0h-2v-4h2v4z\"/>\n",
              "    </g>\n",
              "</svg>\n",
              "  </button>\n",
              "\n",
              "<style>\n",
              "  .colab-df-quickchart {\n",
              "      --bg-color: #E8F0FE;\n",
              "      --fill-color: #1967D2;\n",
              "      --hover-bg-color: #E2EBFA;\n",
              "      --hover-fill-color: #174EA6;\n",
              "      --disabled-fill-color: #AAA;\n",
              "      --disabled-bg-color: #DDD;\n",
              "  }\n",
              "\n",
              "  [theme=dark] .colab-df-quickchart {\n",
              "      --bg-color: #3B4455;\n",
              "      --fill-color: #D2E3FC;\n",
              "      --hover-bg-color: #434B5C;\n",
              "      --hover-fill-color: #FFFFFF;\n",
              "      --disabled-bg-color: #3B4455;\n",
              "      --disabled-fill-color: #666;\n",
              "  }\n",
              "\n",
              "  .colab-df-quickchart {\n",
              "    background-color: var(--bg-color);\n",
              "    border: none;\n",
              "    border-radius: 50%;\n",
              "    cursor: pointer;\n",
              "    display: none;\n",
              "    fill: var(--fill-color);\n",
              "    height: 32px;\n",
              "    padding: 0;\n",
              "    width: 32px;\n",
              "  }\n",
              "\n",
              "  .colab-df-quickchart:hover {\n",
              "    background-color: var(--hover-bg-color);\n",
              "    box-shadow: 0 1px 2px rgba(60, 64, 67, 0.3), 0 1px 3px 1px rgba(60, 64, 67, 0.15);\n",
              "    fill: var(--button-hover-fill-color);\n",
              "  }\n",
              "\n",
              "  .colab-df-quickchart-complete:disabled,\n",
              "  .colab-df-quickchart-complete:disabled:hover {\n",
              "    background-color: var(--disabled-bg-color);\n",
              "    fill: var(--disabled-fill-color);\n",
              "    box-shadow: none;\n",
              "  }\n",
              "\n",
              "  .colab-df-spinner {\n",
              "    border: 2px solid var(--fill-color);\n",
              "    border-color: transparent;\n",
              "    border-bottom-color: var(--fill-color);\n",
              "    animation:\n",
              "      spin 1s steps(1) infinite;\n",
              "  }\n",
              "\n",
              "  @keyframes spin {\n",
              "    0% {\n",
              "      border-color: transparent;\n",
              "      border-bottom-color: var(--fill-color);\n",
              "      border-left-color: var(--fill-color);\n",
              "    }\n",
              "    20% {\n",
              "      border-color: transparent;\n",
              "      border-left-color: var(--fill-color);\n",
              "      border-top-color: var(--fill-color);\n",
              "    }\n",
              "    30% {\n",
              "      border-color: transparent;\n",
              "      border-left-color: var(--fill-color);\n",
              "      border-top-color: var(--fill-color);\n",
              "      border-right-color: var(--fill-color);\n",
              "    }\n",
              "    40% {\n",
              "      border-color: transparent;\n",
              "      border-right-color: var(--fill-color);\n",
              "      border-top-color: var(--fill-color);\n",
              "    }\n",
              "    60% {\n",
              "      border-color: transparent;\n",
              "      border-right-color: var(--fill-color);\n",
              "    }\n",
              "    80% {\n",
              "      border-color: transparent;\n",
              "      border-right-color: var(--fill-color);\n",
              "      border-bottom-color: var(--fill-color);\n",
              "    }\n",
              "    90% {\n",
              "      border-color: transparent;\n",
              "      border-bottom-color: var(--fill-color);\n",
              "    }\n",
              "  }\n",
              "</style>\n",
              "\n",
              "  <script>\n",
              "    async function quickchart(key) {\n",
              "      const quickchartButtonEl =\n",
              "        document.querySelector('#' + key + ' button');\n",
              "      quickchartButtonEl.disabled = true;  // To prevent multiple clicks.\n",
              "      quickchartButtonEl.classList.add('colab-df-spinner');\n",
              "      try {\n",
              "        const charts = await google.colab.kernel.invokeFunction(\n",
              "            'suggestCharts', [key], {});\n",
              "      } catch (error) {\n",
              "        console.error('Error during call to suggestCharts:', error);\n",
              "      }\n",
              "      quickchartButtonEl.classList.remove('colab-df-spinner');\n",
              "      quickchartButtonEl.classList.add('colab-df-quickchart-complete');\n",
              "    }\n",
              "    (() => {\n",
              "      let quickchartButtonEl =\n",
              "        document.querySelector('#df-93fb22ed-b680-4b7d-a02f-5dc9f3bdd82f button');\n",
              "      quickchartButtonEl.style.display =\n",
              "        google.colab.kernel.accessAllowed ? 'block' : 'none';\n",
              "    })();\n",
              "  </script>\n",
              "</div>\n",
              "    </div>\n",
              "  </div>\n"
            ]
          },
          "metadata": {},
          "execution_count": 14
        }
      ],
      "source": [
        "# Divide los datos en entrenamiento y prueba\n",
        "train, test = train_test_split(data, test_size=0.2, stratify=data['Sentiment'], random_state=42, shuffle = True)\n",
        "\n",
        "# Ahora divide el conjunto de entrenamiento en entrenamiento y validación\n",
        "train, val = train_test_split(train, test_size=0.2, stratify=train['Sentiment'], random_state=42, shuffle = True)\n",
        "\n",
        "print(\"Tamaño de datos de entrenamiento:\", train.shape)\n",
        "print(\"Tamaño de datos de validación:\", val.shape)\n",
        "print(\"Tamaño de datos de prueba:\", test.shape)\n",
        "\n",
        "train"
      ]
    },
    {
      "cell_type": "markdown",
      "metadata": {
        "id": "prG1C9Q6w7Wk"
      },
      "source": [
        "Separamos las oraciones y el sentimiento que representan.\n"
      ]
    },
    {
      "cell_type": "code",
      "execution_count": null,
      "metadata": {
        "colab": {
          "base_uri": "https://localhost:8080/"
        },
        "id": "v4YuavhZTZaz",
        "outputId": "908fde93-5214-439b-f4f7-790ff29912e1"
      },
      "outputs": [
        {
          "output_type": "stream",
          "name": "stdout",
          "text": [
            "x_train (3738,)  y_train: (3738,)\n",
            "x_test: (1169,) y_test (1169,)\n",
            "x_val (935,) y_val: (935,)\n"
          ]
        },
        {
          "output_type": "execute_result",
          "data": {
            "text/plain": [
              "3097    digia also set two subsidiaries  digia norway ...\n",
              "5048    $bbry sierra. great cash balance impressive gr...\n",
              "5727    britains ftse gains land securities dividend hike\n",
              "185     the finnish company sold uk operation - consis...\n",
              "4265    russian media ventures  minority shareholder p...\n",
              "                              ...                        \n",
              "326                            i&h  move enhance growth .\n",
              "2821    in addition  29 employees laid notice whole wo...\n",
              "4365    the paper industry de-inking sludge  produced ...\n",
              "1603    $je looks like bouncing.  would nice finish $6...\n",
              "200     a survey conducted taloustutkimus sampo life s...\n",
              "Name: Sentence, Length: 3738, dtype: object"
            ]
          },
          "metadata": {},
          "execution_count": 15
        }
      ],
      "source": [
        "X_train, X_test, X_val= train['Sentence'], test['Sentence'], val['Sentence']\n",
        "y_train, y_test, y_val= train['Sentiment'], test['Sentiment'], val['Sentiment']\n",
        "\n",
        "print(\"x_train\", X_train.shape, \" y_train:\", y_train.shape)\n",
        "print(\"x_test:\", X_test.shape, \"y_test\", y_test.shape)\n",
        "print(\"x_val\", X_val.shape, \"y_val:\", y_val.shape)\n",
        "\n",
        "X_train"
      ]
    },
    {
      "cell_type": "markdown",
      "metadata": {
        "id": "_N2rXPU3xD_g"
      },
      "source": [
        "Revisamos la dristibución de sentimientos del conjunto de entrenamiento:"
      ]
    },
    {
      "cell_type": "code",
      "execution_count": null,
      "metadata": {
        "colab": {
          "base_uri": "https://localhost:8080/",
          "height": 472
        },
        "id": "J9luU-3EPCt3",
        "outputId": "b73e8add-712a-444b-8d73-1110276b109a"
      },
      "outputs": [
        {
          "output_type": "display_data",
          "data": {
            "text/plain": [
              "<Figure size 640x480 with 1 Axes>"
            ],
            "image/png": "[encoded data removed]"
          },
          "metadata": {}
        }
      ],
      "source": [
        "# Create a bar plot to visualize the distribution\n",
        "unique, counts = np.unique(y_train, return_counts=True)\n",
        "plt.bar(unique, counts)\n",
        "plt.xlabel('Sentiment Category')\n",
        "plt.ylabel('Frequency')\n",
        "plt.title('Distribution of Sentiment Categories')\n",
        "plt.show()"
      ]
    },
    {
      "cell_type": "markdown",
      "metadata": {
        "id": "THOEY0AyzNsJ"
      },
      "source": [
        "Vamos a pasar los datos de texto a un tensor:"
      ]
    },
    {
      "cell_type": "code",
      "execution_count": null,
      "metadata": {
        "colab": {
          "base_uri": "https://localhost:8080/"
        },
        "id": "HBsbI0RDzBUQ",
        "outputId": "584610ae-0b7c-4a6c-e77c-65bf0f35c1d9"
      },
      "outputs": [
        {
          "output_type": "execute_result",
          "data": {
            "text/plain": [
              "<tf.Tensor: shape=(3738,), dtype=string, numpy=\n",
              "array([b'digia also set two subsidiaries  digia norway digia usa inc. .',\n",
              "       b'$bbry sierra. great cash balance impressive growth rate.would wonderful marriage',\n",
              "       b'britains ftse gains land securities dividend hike', ...,\n",
              "       b'the paper industry de-inking sludge  produced mills use recycled fiber printing ink removed recovered paper  also suitable raw material .',\n",
              "       b'$je looks like bouncing.  would nice finish $6 today make hammer.  nice volume 5.77 bottom.  fingers crossed',\n",
              "       b'a survey conducted taloustutkimus sampo life shows companies badly prepared losing key staff members .'],\n",
              "      dtype=object)>"
            ]
          },
          "metadata": {},
          "execution_count": 17
        }
      ],
      "source": [
        "X_train_tf = tf.convert_to_tensor(X_train)\n",
        "X_val_tf = tf.convert_to_tensor(X_val)\n",
        "X_test_tf = tf.convert_to_tensor(X_test)\n",
        "\n",
        "X_train_tf"
      ]
    },
    {
      "cell_type": "markdown",
      "metadata": {
        "id": "nXrD6Gv5sM-S"
      },
      "source": [
        "Ahora hacemos la definición de la capa Vectorize, que se utiliza para tokenización de los textos, y será el punto de entrada de nuestra red neuronal.\n",
        "\n",
        "[***tf.keras.layers.TextVectorization***](https://www.tensorflow.org/api_docs/python/tf/keras/layers/TextVectorization) es una capa de preprocesamiento que convierte características de texto en secuencias de enteros. Esta capa es útil para preparar datos de texto para su uso en modelos de aprendizaje automático.\n",
        "\n",
        "El preprocesamiento contiene los siguientes pasos:\n",
        "\n",
        "*   Normalizar cada ejemplo (normalmente minúsculas + eliminación de puntuación)\n",
        "*   Dividir cada ejemplo en subcadenas (normalmente palabras).\n",
        "*   Recombinar las subcadenas en tokens (normalmente ngramas)\n",
        "*   Indexar los tokens (asociar un valor int único a cada token)\n",
        "*   Transformar cada ejemplo utilizando este índice, ya sea en un vector de ints o en un vector denso de floats."
      ]
    },
    {
      "cell_type": "code",
      "execution_count": null,
      "metadata": {
        "id": "b1X64neR4r-p"
      },
      "outputs": [],
      "source": [
        "#Capa para tokenización\n",
        "vectorize_layer = TextVectorization(\n",
        "    standardize=None,\n",
        "    split = \"whitespace\",\n",
        "    max_tokens=None,\n",
        "    output_mode='int',\n",
        "    output_sequence_length=None)\n",
        "\n",
        "# El método adapt permite construir el vocabulario.\n",
        "vectorize_layer.adapt(X_train_tf)"
      ]
    },
    {
      "cell_type": "markdown",
      "metadata": {
        "id": "8Th-KxCezoEE"
      },
      "source": [
        "A continuación un ejemplo de cómo quedan los datos después de aplicar la la tokenización"
      ]
    },
    {
      "cell_type": "code",
      "execution_count": null,
      "metadata": {
        "colab": {
          "base_uri": "https://localhost:8080/"
        },
        "id": "-Yo2T2uZo7xY",
        "outputId": "02d13b04-7398-47c0-c2ce-14ff6971d601"
      },
      "outputs": [
        {
          "output_type": "stream",
          "name": "stdout",
          "text": [
            "Texto original en X_train: for last quarter 2010  componenta net sales doubled eur131m eur76m period year earlier  moved zero pre-tax profit pre-tax loss eur7m .\n",
            "Texto tokenizado en X_train_tk: tf.Tensor(\n",
            "[1746  341  666 1096 1886  178 3698    0    0    0    0    0    0    0\n",
            "    0    0    0    0    0    0    0    0    0    0    0    0    0    0\n",
            "    0    0    0    0    0    0    0    0], shape=(36,), dtype=int64)\n"
          ]
        }
      ],
      "source": [
        "# Tokenizar tus datos\n",
        "X_train_tk = vectorize_layer(X_train)\n",
        "X_val_tk = vectorize_layer(X_val)\n",
        "X_test_tk = vectorize_layer(X_test)\n",
        "\n",
        "row_index = 2\n",
        "print(\"Texto original en X_train:\", X_train[row_index], end=\"\\n\")\n",
        "print(\"Texto tokenizado en X_train_tk:\", X_train_tk[row_index])\n"
      ]
    },
    {
      "cell_type": "markdown",
      "source": [
        "Veamos como queda la representación del vocabulario del conjunto X_train"
      ],
      "metadata": {
        "id": "Ty2GQEUzCT2Q"
      }
    },
    {
      "cell_type": "code",
      "execution_count": null,
      "metadata": {
        "colab": {
          "base_uri": "https://localhost:8080/"
        },
        "id": "ePFmiWN3w9y-",
        "outputId": "b4b206bd-f0ee-4277-ad58-ae91bdd1a672"
      },
      "outputs": [
        {
          "output_type": "stream",
          "name": "stdout",
          "text": [
            "Vocabulario: ['', '[UNK]', '.', 'eur', 'the', 'company', 'mn', 'sales', 'profit', 'said', 'finnish', 'net', 'million', '%', 'operating', '-', '2008', 'year', 'group', 'period', '2009', 'quarter', 'finland', 'mln', '2007', 'new', 'share', 'business', 'first', '``', '$', 'oyj', '2010', 'market', 'shares', 'in', 'loss', 'also', 'compared', 'services', 'today', 'helsinki', 'euro', 'operations', 'corresponding', '2006', 'bank', 'contract', 'percent', 'pct', 'per', 'financial', 'stock', 'price', 'corporation', 'products', 'nokia', 'decreased', 'total', 'according', 'capital', '&', 'production', 'plant', 'technology', 'hel', 'companies', 'omx', 'would', '2005', 'third', 'service', 'solutions', 'last', 'increased', 'earlier', 'rose', 'mobile', 'investment', 'well', 'value', 'unit', 'fell', 'expected', 'result', 'one', 'totalled', 'order', 'lower', 'increase', 'development', 'deal', 'customers', 'building', 'second', 'plc', 'management', 'growth', 'oy', 'maker', 'long', 'earnings', 'ceo', 'two', 'systems', 'part', 'markets', 'eur0', 'board', 'billion', 'report', 'paper', '10', 'usd', 'software', 'half', 'buy', 'exchange', 'september', 'october', 'cash', 'area', 'agreement', 'russia', 'however', 'equipment', 'acquisition', 'project', 'months', 'construction', '1', 'revenue', 'industry', '$aapl', 'time', 'oil', 'employees', 'sell', 'may', 'january', 'end', 'stake', 'news', 'electronics', 'based', 'people', 'media', 'china', 'approximately', 'annual', 'announced', 'euros', '$tsla', 'use', 'us', 'march', 'manufacturing', 'includes', '2011', '20', 'network', 'line', 'including', 'high', 'eps', 'pretax', 'it', 'data', 'totaled', '--', 'volume', 'solution', 'reports', 'number', 'made', 'higher', 'estimated', 'due', 'dividend', 'support', 'since', 'global', 'capacity', '`', 'system', 'supply', 'signed', 'says', 'manufacturer', 'largest', 'elcoteq', 'april', 'transaction', 'take', 'product', 'plans', 'office', 'items', 'expects', 'design', 'countries', 'units', 'short', 'rights', 'president', 'power', 'information', 'director', 'back', 'available', 'amounted', 'a', '2004', '100', 'yit', 'years', 'sector', 'release', 'good', 'engineering', 'communications', '5', 'world', 'uk', 'staff', 'significant', 'russian', 'process', 'prices', 'positive', 'insurance', 'include', 'february', 'close', 'capman', 'baltic', 'august', 'at', 'as', 'added', '4', '30', '25', 'week', 'target', 'sale', 'reported', 'option', 'offer', 'nordic', 'nordea', 'non-recurring', 'nine', 'negotiations', 'make', 'major', 'industrial', 'income', 'developed', 'day', 'currently', 'ab', '$spy', 'trade', 'steel', 'scanfil', 'next', 'ltd', 'local', 'fourth', 'following', 'energy', 'sweden', 'supplier', 'strong', 'stora', 'still', 'situation', 'security', 'results', 'personnel', 'machinery', 'london', 'june', 'general', 'current', 'continue', 'chairman', 'america', '2', 'turnover', 'traffic', 'this', 'shareholders', 'previous', 'posted', 'position', 'plan', 'orders', 'north', 'level', 'excluding', 'enso', 'cent', 'already', '3', '15', 'via', 'three', 'strategy', 'start', 'sampo', 'networks', 'negative', 'mill', 'measures', 'margin', 'like', 'july', 'joint', 'index', 'flow', 'division', 'demand', 'costs', 'chain', 'awarded', 'addition', '50', 'year-on-year', 'whole', 'used', 'subsidiary', 'sold', 'retail', 'research', 'remain', 'previously', 'petersburg', 'life', 'international', 'ftse', 'fall', 'cut', 'customer', 'city', 'chief', 'around', 'update', 'swedish', 'set', 'real', 'published', 'projects', 'phone', 'november', 'near', 'move', 'model', 'meeting', 'maintenance', 'internet', 'held', 'food', 'finnair', 'cost', 'agreed', 'acquired', '8', '$fb', 'st.', 'several', 'ruukki', 'related', 'provides', 'plants', 'place', 'pharmaceutical', 'managing', 'm-real', 'looking', 'key', 'issue', 'investments', 'interest', 'grew', 'fiskars', 'facility', 'european', 'estonia', 'estate', 'distribution', 'december', 'corporate', 'astrazeneca', 'aspocomp', '40', '12', '.9', '.5', '...', 'work', 'wednesday', 'region', 'range', 'program', 'press', 'large', 'issued', 'focus', 'europe', 'eur1', 'developer', 'daily', 'commercial', 'closed', 'center', 'areas', 'analyst', 'amount', 'ahlstrom', '.3', 'yesterday', 'transfer', 'taxes', 'stockmann', 'started', 'see', 'pulp', 'provider', 'performance', 'pay', 'neste', 'members', 'investors', 'holding', 'headquartered', 'handling', 'executive', 'drug', 'dropped', 'delivered', 'declined', 'decided', 'built', 'basware', 'another', 'ago', '22', '17', '.6', 'went', 'way', 'voting', 'tonnes', 'technical', 'store', 'standard', 'sports', 'six', 'sanoma', 'rise', 'representing', 'received', 'provide', 'processing', 'points', 'metso', 'head', 'firm', 'directors', 'could', 'cooperation', 'continuing', 'completed', 'beer', 'become', 'banks', 'aspo', 'applications', 'analysis', '6', '19', '18', '1.2', '.4', 'within', 'we', 'tuesday', 'terms', 'teleste', 'takeover', 'strategic', 'small', 'public', 'nasdaq', 'monday', 'materials', 'm.', 'looks', 'launch', 'konecranes', 'incap', 'inc.', 'hit', 'handset', 'gas', 'future', 'friday', 'details', 'contracts', 'continued', 'consumers', 'consolidated', 'central', 'calls', 'businesses', 'bullish', 'biohit', 'bid', 'application', 'alma', 'activities', '7', '11', '1.5', '000', 'you.s.', 'x', 'worth', 'venture', 'using', 'tons', 'thursday', 'tesco', 'teliasonera', 'stocks', 'square', 'slightly', 'resources', 'pohjola', 'packaging', 'operates', 'norway', 'national', 'music', 'merger', 'marketing', 'manager', 'long-term', 'logistics', 'kesko', 'going', 'germany', 'full', 'forest', 'fiscal', 'factory', 'eur2', 'employs', 'effect', 'delivery', 'credit', 'bought', 'bn', 'b', 'adp', 'x20ac', 'working', 'water', 'video', 'test', 'telecom', 'technologies', 'structure', 'siemens', 'shipping', 'scheduled', 'savings', 'right', 'record', 'raw', 'rautaruukki', 'rapala', 'q1', 'provided', 'poland', 'persons', 'parties', 'okmetic', 'offers', 'nice', 'natural', 'mr', 'meat', 'located', 'kemira', 'jobs', 'improved', 'government', 'generated', 'funds', 'fund', 'facilities', 'expansion', 'established', 'digital', 'devices', 'device', 'deliveries', 'cover', 'corp.', 'corp', 'content', 'communication', 'combined', 'change', 'cargotec', 'broadband', 'breakout', 'brand', 'assets', 'approval', '31', '29', '26', '2.7', '16', '1.3', '.8', 'weeks', 'vaisala', 'us$', 'upm-kymmene', 'upm', 'union', 'told', 'stockholm', 'starting', 'sq', 'sabmiller', 'revenues', 'recently', 'put', 'property', 'properties', 'printing', 'potential', 'planned', 'phones', 'passenger', 'outside', 'outotec', 'outokumpu', 'options', 'much', 'month', 'metres', 'main', 'low', 'loan', 'latest', 'january-september', 'invest', 'india', 'improve', 'gains', 'four', 'forward', 'fortum', 'expand', 'existing', 'eu', 'ebit', 'disclosed', 'department', 'covers', 'consumer', 'componenta', 'competition', 'changes', 'build', 'bring', 'bln', 'base', 'barclays', 'announcement', 'almost', 'aldata', 'aim', 'adpnews', 'administration', '60', '27', '13', '.2', 'without', 'weak', 'targets', 'study', 'side', 'sees', 'restructuring', 'respectively', 'reporting', 'purchase', 'providing', 'private', 'poyry', 'port', 'passengers', 'owns', 'outlook', 'operation', 'online', 'offering', 'narrowed', 'maximum', 'makes', 'mainly', 'lines', 'less', 'kone', 'interim', 'infrastructure', 'included', 'inbev', 'house', 'great', 'go', 'glencore', 'getting', 'get', 'fair', 'especially', 'equity', 'enable', 'different', 'comparable', 'come', 'break', 'brands', 'both', 'biggest', 'atria', 'airline', 'afx', 'additional', '21', '+aland', '$amzn', 'web', 'warning', 'vice', 'versus', 'term', 'telecommunications', 'suomen', 'summer', 'stood', 'statement', 'south', 'smaller', 'slipped', 'sells', 'return', 'raute', 'quality', 'profitability', 'point', 'pension', 'partner', 'paid', 'owned', 'officer', 'moscow', 'metals', 'marimekko', 'many', 'manufactures', 'managed', 'magazine', 'ltd.', 'look', 'listed', 'lead', 'later', 'home', 'hold', 'he', 'grow', 'goods', 'given', 'for', 'fixed', 'finland-based', 'fine', 'expertise', 'eur4', 'estimates', 'entire', 'enables', 'electronic', 'electricity', 'efficiency', 'drop', 'decision', 'debt', 'date', 'bp', 'big', 'beginning', 'banking', 'after', 'access', '3.5', '28', '200', '2.2', '$sbux', 'workers', 'wood', 'watch', 'volumes', 'various', 'vaahto', 'va.', 'usa', 'united', 'under', 'treatment', 'trading', 'top', 'together', 'tikkurila', 'tiimari', 'temporarily', 'tekla', 'talentum', 'suominen', 'subscription', 'stores', 'statements', 'space', 'site', 'shareholder', 'segment', 'salcomp', 'royal', 'route', 'road', 'responsible', 'remaining', 'released', 'reduce', 'recall', 'ready', 'ratio', 'rating', 'present', 'portfolio', 'pm', 'platform', 'planning', 'pharmaceuticals', 'partners', 'panostaja', 'p.m.', 'operators', 'operate', 'open', 'olvi', 'norwegian', 'morning', 'money', 'metal', 'member', 'material', 'manufacture', 'making', 'majority', 'liters', 'lay', 'installation', 'housing', 'hk', 'green', 'got', 'glaston', 'glass', 'gives', 'gave', 'full-year', 'france', 'finnlines', 'feb', 'expenses', 'espoo', 'environmental', 'elisa', 'efore', 'early', 'digia', 'decrease', 'danske', 'cuts', 'cramo', 'court', 'country', 'continues', 'conditions', 'completion', 'complete', 'clients', 'chartered', 'carried', 'cargo', 'came', 'better', 'automation', 'analysts', 'amounts', 'alexandria', 'actual', 'acquisitions', 'acquire', '80', '70', '6.3', '45', '23', '14', '.1', '$bbry', 'worldwide', 'website', 'voice', 'users', 'upon', 'type', 'trend', 'travel', 'transportation', 'transactions', 'tesla', 'technopolis', 'taken', 'supports', 'strike', 'street', 'state', 'southern', 'selling', 'selected', 'sek', 'ruokatalo', 'resistance', 'reduced', 'recorded', 'recent', 'reached', 'rates', 'rate', 'ramirent', 'raisio', 'raised', 'raise', 'producer', 'phase', 'patent', 'park', 'owner', 'our', 'oulu', 'on', 'offices', 'no', 'need', 'name', 'moving', 'machine', 'lithuania', 'likely', 'levels', 'leading', 'lay-offs', 'latvia', 'laid', 'l&t', 'january-june', 'ixonos', 'investor', 'huhtamaki', 'holds', 'holdings', 'heating', 'form', 'forecast', 'flexible', 'far', 'exports', 'experience', 'even', 'estimate', 'ended', 'economic', 'domestic', 'diluted', 'developing', 'deutsche', 'designs', 'deliver', 'czech', 'cranes', 'core', 'control', 'consumption', 'conference', 'components', 'commission', 'coming', 'chart', 'charging', 'cars', 'cancer', 'bg', 'best', 'aviva', 'asset', 'apple', 'aims', 'activity', 'action', '3g', '3.1', '2700', '2.5', '1.6', '.7', '$nflx', 'yet', 'wireless', 'wipes', 'wartsila', 'viking', 'vantaa', 'tools', 'tieto', 'temporary', 'talvivaara', 'tallinn', 'subscribed', 'structures', 'solteq', 'solid', 'significantly', 'shorts', 'shopping', 'secure', 'se', 'saw', 'safety', 'run', 'rt', 'review', 'rental', 'reductions', 'ratings', 'rally', 'quite', 'produced', 'processes', 'presence', 'pre-tax', 'possible', 'plus', 'payment', 'parts', 'partnership', 'papers', 'ordered', 'operator', 'netherlands', 'needs', 'mr.', 'moment', 'models', 'microsoft', 'mail', 'machines', 'losses', 'liquid', 'letter', 'least', 'leads', 'latin', 'land', 'job', 'japan', 'its', 'italy', 'insurer', 'institutions', 'industries', 'improvement', 'important', 'high-quality', 'guidance', 'growing', 'give', 'fully', 'flights', 'five', 'find', 'figures', 'field', 'falling', 'extremely', 'every', 'environment', 'entry', 'eastern', 'double', 'district', 'disclose', 'denmark', 'days', 'comptel', 'complex', 'competitive', 'comes', 'clear', 'cencorp', 'car', 'buying', 'bridge', 'brazil', 'book', 'belgium', 'average', 'autumn', 'association', 'appointed', 'ag', 'a.m.', '@', '600', '6.1', '5.5', '5.1', '3.6', '2.3', '2.0', '12-month', '1.1', '1.0', 'widened', 'when', 'welcome', 'waste', 'warehouse', 'vmc', 'veneer', 'upgrade', 'underlying', 'tyres', 'transport', 'took', 'tm', 'tikanoja', 'tietoenator', 'think', 'these', 'tehtaat', 'tax', 'tampere', 'talks', 'taking', 'sustainable', 'subsidiaries', 'strengthen', 'states', 'stainless', 'spring', 'special', 'size', 'similar', 'silicon', 'signal', 'ship', 'server', 'scheme', 'retailer', 'required', 'republic', 'regional', 'proposed', 'produce', 'premises', 'preliminary', 'positions', 'pleased', 'player', 'overall', 'output', 'ore', 'operational', 'nonwovens', 'nokian', 'nearly', 'navigation', 'mining', 'method', 'medical', 'measurement', 'manufacturers', 'locations', 'location', 'light', 'lemminkainen', 'launched', 'lassila', 'l+nnnen', 'kyro', 'known', 'kalmar', 'jumped', 'houses', 'hong', 'heat', 'hand', 'groups', 'google', 'generation', 'gain', 'functions', 'former', 'forecasts', 'follow', 'financing', 'ferry', 'feed', 'fda', 'f-secure', 'establish', 'enterprise', 'ensure', 'ems', 'effective', 'eek', 'divestment', 'directed', 'direct', 'designed', 'dealers', 'cutting', 'container', 'consists', 'connectivity', 'concerning', 'coated', 'clothing', 'closing', 'cap', 'canada', 'call', 'buys', 'buyer', 'bottom', 'bond', 'benefon', 'asian', 'asia', 'arm', 'approach', 'an', 'amer', 'all', 'agreements', 'africa', 'advanced', 'across', 'accounts', 'accessories', 'abp', 'able', '9', '7.5', '5.9', '4.9', '4.6', '4.5', '36', '35', '33', '3.8', '2012', '2001', '10000', '1.4', '0.9', '0.6', '0.3', '$yhoo', '$qqq', '$iwm', '$googl', '$goog', 'zone', 'works', 'with', 'wide', 'why', 'webcast', 'wants', 'want', 'wall', 'vat', 'user', 'upside', 'upgraded', 'turned', 'trouble', 'trademark', 'town', 'tough', 'totals', 'totalling', 'times', 'third-quarter', 'tests', 'terminal', 'tecnomen', 'team', 'sum', 'subscriptions', 'subject', 'status', 'ssh', 'sponda', 'social', 'shire', 'shall', 'setup', 'serve', 'senior', 'second-quarter', 'saying', 'sawmill', 'samsung', 'rules', 'rtrks', 'rival', 'residential', 'reorganisation', 'refining', 'redundant', 'reduction', 'recommendation', 'receives', 'rbs', 'r&d', 'quoted', 'quarterly', 'qpr', 'purchases', 'publish', 'proposal', 'profitable', 'producers', 'printed', 'plywood', 'personal', 'pattern', 'particular', 'participants', 'palm', 'ownership', 'overview', 'orion', 'oriola-kd', 'old', 'of', 'nyse', 'now.', 'northern', 'non-life', 'nok', 'nickel', 'newspaper', 'mw', 'motorola', 'morrisons', 'morgan', 'mid', 'longer', 'lol', 'load', 'llc', 'live', 'list', 'limited', 'licensing', 'legal', 'leader', 'kroons', 'kong', 'km', 'kaupthing', 'issues', 'iphone', 'involved', 'invested', 'increasing', 'increases', 'inc', 'implementation', 'implement', 'impact', 'ii', 'hotel', 'honkarakenne', 'hod', 'hkscan', 'gross', 'grimaldi', 'german', 'furthermore', 'free', 'format', 'forestry', 'foreign', 'fleet', 'finance', 'final', 'figure', 'fiber', 'export', 'expands', 'example', 'eur3', 'equipped', 'entered', 'ending', 'enabling', 'elevators', 'electrical', 'efficient', 'eesti', 'economy', 'ebitda', 'east', 'develops', 'develop', 'danish', 'currency', 'controlled', 'contact', 'considering', 'conducted', 'computer', 'committee', 'clearly', 'claims', 'citycon', 'circuit', 'charts', 'chargers', 'category', 'carrier', 'buyout', 'brought', 'breaking', 'brand-new', 'branch', 'boost', 'berkshire', 'begin', 'bearish', 'balance', 'away', 'american', 'aktia', 'aimed', 'affect', 'advertising', 'acquiring', 'accounting', 'accordance', '90', '9.8', '9.7', '8.4', '5.2', '3.4', '3.2', '3.0', '200000', '2000', '2.8', '150', '1000', '1.7', '0.8', '0.21', '.0', '$gild', '$endp', 'you', 'year-ago', 'windows', 'wind', 'win', 'wholesale', 'wells', 'weekly', 'vol', 'vessel', 'vehicles', 'vehicle', 'variety', 'utility', 'uponor', 'underground', 'turn', 'transferring', 'transferred', 'track', 'tomorrow', 'today.', 'tires', 'thomson', 'they', 'there', 'thanks', 'testing', 'tender', 'ten', 'telenor', 'tel.', 'tectia', 'tallink', 'sysopen', 'swung', 'surged', 'summary', 'stronger', 'strengthening', 'strengthened', 'stonesoft', 'stone', 'station', 'srv', 'source', 'soon', 'solidium', 'snow', 'smartphone', 'slid', 'six-month', 'shows', 'she', 'shale', 'seven', 'sept.', 'seen', 'sectors', 'section', 'seats', 'seat', 'sea', 'science', 'scale', 'satama', 'safran', 'sachs', 'rsi', 'responsibility', 'repurchase', 'represents', 'remained', 'register', 'recovery', 'receive', 'recalls', 'reach', 'radio', 'quarters', 'purchased', 'providers', 'propose', 'proha', 'programs', 'profits', 'professional', 'producing', 'problems', 'portion', 'pop', 'policy', 'play', 'peter', 'percentage', 'patients', 'owners', 'organization', 'opened', 'offshore', 'oct', 'nuclear', 'nt', 'notes', 'note', 'norske', 'neomarkka', 'must', 'more', 'monthly', 'mobility', 'mixed', 'ministry', 'mine', 'mills', 'mika', 'middle', 'mechanical', 'matti', 'manages', 'manage', 'macgregor', 'macd', 'm2', 'ls', 'loyal', 'lowered', 'lost', 'log', 'little', 'litres', 'lift', 'let', 'led', 'lahti', 'laboratory', 'kingfisher', 'keep', 'jump', 'juha', 'jointly', 'joins', 'japanese', 'jan', 'it.', 'iron', 'ipo', 'invoice', 'internal', 'intent', 'integration', 'installed', 'initiated', 'implementing', 'implemented', 'immediate', 'ict', 'hungary', 'hsbc', 'homes', 'hitting', 'history', 'highs', 'healthcare', 'hardware', 'handsets', 'hall', 'gypsii', 'goldman', 'goes', 'goal', 'giant', 'fuel', 'frame', 'founded', 'found', 'force', 'foods', 'focusing', 'floor', 'fishing', 'fish', 'firms', 'finnish-swedish', 'fined', 'finally', 'fields', 'fargo', 'falls', 'facebook', 'extension', 'expectations', 'expanded', 'exel', 'excess', 'eur20m', 'eur10', 'etteplan', 'estonian', 'employment', 'eight', 'eet', 'eb', 'dutch', 'doubled', 'dongguan', 'dividends', 'dips', 'diagnostic', 'diageo', 'deployment', 'dec', 'creating', 'create', 'counter', 'consulting', 'consultancy', 'consideration', 'connection', 'confirmed', 'comprises', 'component', 'competitiveness', 'comments', 'comment', 'co.', 'citigroup', 'cities', 'chosen', 'chinese', 'chemical', 'check', 'channel', 'challenging', 'cfo', 'c', 'buildings', 'broker', 'britains', 'bounce', 'boosted', 'books', 'boats', 'black', 'biotie', 'billing', 'bhp', 'beers', 'baxalta', 'authorities', 'arrangements', 'april-june', 'approved', 'annually', 'announce', 'animal', 'among', 'along', 'allows', 'air', 'ahead', 'agricultural', 'agency', 'affecto', 'affected', 'adds', 'address', 'active', 'act', 'achieve', 'accounted', 'account', 'abroad', 'a.', '8.7', '8.3', '7.7', '7.3', '59', '51', '500000', '5.4', '49', '4.0', '32', '30mn', '3.3', '24', '2003', '2.6', '15.6', '120', '11.8', '11.4', '+358', '$twtr', '$gs', 'x201a', 'wrote', 'wpp', 'wonderware', 'whose', 'whereby', 'what', 'wet', 'watching', 'wafer', 'viewed', 'vessels', 'verizon', 'valued', 'vacon', 'uses', 'updates', 'up.', 'university', 'unchanged', 'uks', 'ukraine', 'two-day', 'tvs', 'trust', 'transports', 'training', 'trader', 'traded', 'towards', 'touch', 'todays', 'to', 'tlt1v', 'tips', 'timo', 'thus', 'throughout', 'therefore', 'that', 'textiles', 'texas', 'tecnotree', 'targeting', 'takes', 'syndicated', 'supported', 'suppliers', 'subscribers', 'strength', 'streamlining', 'story', 'storage', 'stop', 'sto', 'stated', 'start-up', 'starbucks', 'standards', 'stakes', 'st', 'specialty', 'specialist', 'specialising', 'specialises', 'spain', 'sole', 'solar', 'so-called', 'smartphones', 'skog', 'single', 'simultaneously', 'signaling', 'showed', 'ships', 'sheet', 'shanghai', 'setup.', 'series', 'seeks', 'securities', 'search', 'scissors', 'scandinavian', 'scan', 'save', 'sappi', 'running', 'rsa', 'rivals', 'riga', 'rest', 'resistance.', 'reserves', 'requirements', 'representative', 'reporters', 'remainder', 'relevant', 'registered', 'red', 'recycled', 'recognized', 'recalling', 'really', 'readers', 'quick', 'q2', 'push', 'publisher', 'protection', 'protalix', 'prospects', 'profile', 'problem', 'primarily', 'pretty', 'pressure', 'prepaid', 'premium', 'prefer', 'precision', 'powered', 'poultry', 'posts', 'post', 'pori', 'ponsse', 'plumbing', 'plot', 'please', 'plastic', 'picked', 'pharma', 'peeling', 'payroll', 'past', 'partly', 'parent', 'panel', 'paikallissanomat', 'p', 'outperform', 'opening', 'ongoing', 'oko', 'objective', 'numbers', 'now', 'novel', 'notice', 'noted', 'normal', 'nomination', 'nine-month', 'networking', 'needed', 'named', 'mti', 'most', 'modern', 'micro', 'mexico', 'meur', 'metre', 'met', 'merged', 'meet', 'measuring', 'means', 'maybe', 'matter', 'manufactured', 'magazines', 'lte', 'lse', 'lows', 'losing', 'loose', 'loans', 'lng', 'lloyds', 'liquidated', 'lindex', 'licences', 'lemmink+ninen', 'lee', 'leave', 'leased', 'lease', 'leaders', 'le', 'law', 'latvian', 'larger', 'korea', 'know', 'kcr1v', 'kazakhstan', 'kauko-telko', 'jyvaskyla', 'jumps', 'jukka', 'juhani', 'jp', 'january-march', 'irish', 'invoices', 'interesting', 'interested', 'innovative', 'initiatives', 'initially', 'initial', 'indian', 'import', 'iittala', 'ibm', 'i', 'hope', 'hobby', 'here.', 'happy', 'gsk', 'ground', 'grinding', 'goodwill', 'gold', 'gmbh', 'geosentric', 'generates', 'games', 'furnaces', 'fuels', 'ft', 'frozen', 'front', 'friends', 'fresh', 'frequency', 'formed', 'followed', 'flat', 'finalized', 'filter', 'ferries', 'fees', 'fears', 'fat', 'faster', 'factor', 'faces', 'face', 'extraordinary', 'extensive', 'explains', 'explained', 'experts', 'expanding', 'exit', 'event', 'eur5', 'eur13', 'ethanol', 'entertainment', 'enough', 'energia', 'employed', 'emissions', 'emerging', 'elektrobit', 'easyjet', 'drives', 'drive', 'downgraded', 'down.', 'dollar', 'dixons', 'divisions', 'divided', 'distributor', 'developers', 'despite', 'deputy', 'demanding', 'defense', 'dedicated', 'decision-making', 'cruise', 'couple', 'copper', 'cooperative', 'convertible', 'controls', 'contains', 'consolidation', 'considerably', 'consensus', 'concern', 'computers', 'comprising', 'comprehensive', 'completes', 'communicated', 'combining', 'combination', 'coca-cola', 'coatings', 'coast', 'co-operation', 'closure', 'clinical', 'class', 'civil', 'chemicals', 'changing', 'certification', 'certain', 'centre', 'cement', 'cell', 'casing', 'cartel', 'carriers', 'carphone', 'capable', 'called', 'by', 'builds', 'brexit', 'brazilian', 'block', 'biodiesel', 'billiton', 'beyond', 'benchmark', 'believe', 'became', 'barse', 'bae', 'bad', 'aviation', 'automotive', 'austria', 'asthma', 'assembly', 'asphalt', 'ashtead', 'approves', 'appoints', 'applied', 'antibody', 'alternative', 'alone', 'alliance', 'aker', 'agenda', 'advisory', 'acting', 'acquires', 'ac', '900', '9.6', '8mn', '7.4', '7.2', '7.1', '6.9', '6.8', '6.4', '6%', '58.9', '500', '5.6', '5.0', '47', '46', '43.9', '42', '41', '400000', '4.7', '4.1', '38', '300', '30.6', '3.7', '250', '2015', '20.3', '2.4', '170', '1600', '16.7', '14.4', '130', '13.6', '12.73', '12.7', '100000', '1.8', '0.47', '0.4', '0.34', '0.32', '0.1', '.12', '-14', '-0.1', '+o', '$vxx', '$pcln', '$ino', '$cost', '$bac', '$70', '#stocks', 'you.k.', 'york', 'yara', 'worries', 'workforce', 'worked', 'wins', 'winner', 'window', 'wilson', 'wholly', 'while', 'whether', 'western', 'weakened', 'warmly', 'walter', 'wait', 'wahlroos', 'wafers', 'w', 'vwr', 'votes', 'vote', 'vladimir', 'visitors', 'visit', 'village', 'views', 'view', 'versions', 'version', 'ventures', 'vendor', 'valeant', 'vaias', 'usd12', 'usd1', 'upgrades', 'unveil', 'universities', 'undisclosed', 'understanding', 'understand', 'uncertainties', 'uae', 'types', 'turku', 'turkey', 'tulonen', 'tulikivi', 'trying', 'truly', 'triangle', 'trent', 'trends', 'trees', 'transmission', 'traditional', 'tower', 'through', 'three-year', 'three-month', 'threat', 'though', 'thirds', 'therapeutic', 'teus', 'telemig', 'telecoms', 'tasks', 'targeted', 'tank', 'tackle', 'synergy', 'switzerland', 'swedbank', 'sverige', 'suvs', 'surprised', 'sure', 'supermarkets', 'suomi', 'summit', 'sue', 'successfully', 'substantial', 'subscribe', 'storms', 'stopped', 'step', 'steady', 'stay', 'statutory', 'stations', 'stars', 'stage', 'stackers', 'spread', 'spent', 'speed', 'sources', 'someone', 'soapstone', 'so', 'slumps', 'slide', 'slashed', 'sites', 'signing', 'show', 'shot', 'shops', 'shipments', 'shifts', 'shareholding', 'shape', 'severn', 'sets', 'serving', 'serves', 'separated', 'separate', 'sep', 'sent', 'sensor', 'send', 'sellers', 'seal', 'schedules', 'say', 'savcor', 'satisfied', 'sarantel', 'sanomat', 'sami', 'salomon', 'sal1v', 'saint', 'sainsbury', 'sabmillers', 's', 'rutav', 'runs', 'rumors', 'rts', 'routes', 'rosen', 'romania', 'role', 'risto', 'risk', 'rising', 'rihko', 'rigid', 'reversal', 'returned', 'repurchased', 'represented', 'representatives', 'remuneration', 'remote', 'relocate', 'relative', 'relates', 'rejected', 'regulatory', 'regulator', 'registration', 'regions', 'regarding', 'reference', 'recycling', 'recommendations', 'reception', 'realized', 'real-time', 'read', 'rapidly', 'rapid', 'railway', 'radiation', 'raahe', 'r', 'quickly', 'quarter-on-quarter', 'qualcomm', 'puts', 'pushed', 'pursue', 'protocol', 'prospect', 'proprietary', 'proposes', 'proportion', 'promise', 'projections', 'progress', 'profiles', 'pro', 'privacy', 'prior', 'print', 'principal', 'primary', 'pricing', 'premier', 'predefined', 'precor', 'popular', 'poor', 'poised', 'plc.', 'players', 'platen', 'plate', 'placed', 'pilot', 'picks', 'persimmon', 'pearson', 'pearl', 'payable', 'paul', 'participated', 'paint', 'pages', 'oversold', 'outstanding', 'outsourcing', 'outsourced', 'outlets', 'out', 'otherwise', 'other', 'ornamental', 'original', 'organizations', 'orange', 'opportunity', 'opportunities', 'operative', 'opens', 'op-pohjola', 'one-off', 'olli-pekka', 'officials', 'offered', 'obtained', 'novator', 'notably', 'nordstjernan', 'no.', 'newpage', 'newly', 'nevertheless', 'neutral', 'nembv', 'necessary', 'names', 'municipalities', 'moves', 'moved', 'mount', 'morvillars', 'momentum', 'molybdenum', 'might', 'mhz', 'metsaliitto', 'meters', 'messaging', 'merchant', 'memorandum', 'meego', 'mediation', 'measured', 'matthey', 'matters', 'master', 'martela', 'mark', 'maritime', 'marine', 'margarine', 'marcel', 'manchester', 'mall', 'malaysia', 'lvl', 'lures', 'loyalty', 'loudeac', 'lots', 'los', 'lodged', 'lithuanian', 'litas', 'listing', 'liquidity', 'liquefied', 'lion', 'lifts', 'lifting', 'lifecycle', 'liability', 'leverage', 'length', 'lending', 'lem1s', 'leasing', 'learning', 'laying', 'launching', 'launches', 'lat1v', 'larger-than-expected', 'labels', 'kronor', 'korean', 'knowledge', 'know-how', 'kilometres', 'kilometers', 'kauppalehti', 'karppinen', 'kari', 'kai', 'jyvaeskylae', 'jussi', 'jones', 'join', 'johnson', 'italian', 'islands', 'is', 'ireland', 'involves', 'inventors', 'invention', 'intraday', 'interior', 'interactive', 'intends', 'intelligence', 'intel', 'integrated', 'integrate', 'institutional', 'inside', 'innovation', 'ing', 'informed', 'individual', 'indicated', 'indicate', 'independent', 'incurred', 'inbevs', 'in.', 'impressive', 'imported', 'impacts', 'immediately', 'image', 'ilkka-yhtyma', 'ilkka', 'ifrs', 'identity', 'idea', 'id', 'huge', 'households', 'hours', 'hotels', 'hot', 'hook', 'hollola', 'hiab', 'here', 'helasto', 'heikki', 'hectares', 'heart', 'hearing', 'heads', 'headquarters', 'heading', 'hard', 'hanging', 'handle', 'hamina', 'h1', 'guide', 'guess', 'growhow', 'grid', 'granted', 'grain', 'grades', 'grade', 'gps', 'gone', 'globally', 'glaxosmithkline', 'giving', 'gift', 'geographical', 'gap', 'gallerix', 'functionality', 'frost', 'frankfurt', 'foundation', 'forssa', 'forex', 'float', 'flight', 'fixed-term', 'fitness', 'fitch', 'fisas', 'fire', 'financialwire', 'financially', 'filters', 'file', 'fifth', 'fibre-based', 'fibers', 'fewer', 'fee', 'favourable', 'fast', 'failed', 'factories', 'extra', 'extends', 'extending', 'extended', 'executives', 'excellent', 'ever', 'euronext', 'eur7m', 'eur46m', 'eur45m', 'eur40m', 'eur30m', 'eur20', 'eur15', 'eur12', 'escalators', 'environments', 'environmentally', 'enter', 'enjoy', 'enhance', 'engulfing', 'english', 'engines', 'engaged', 'employee', 'email', 'either', 'eero', 'ebrd', 'each', 'e', 'during', 'drops', 'driving', 'dragged', 'downgrade', 'down', 'documentation', 'dma', 'divested', 'distribute', 'display', 'dip', 'determining', 'desktop', 'described', 'delayed', 'declining', 'decline', 'cutlery', 'customised', 'cu', 'cth1v', 'cs', 'cross', 'created', 'covering', 'course', 'council', 'convergent', 'controller', 'contribute', 'contrast', 'contracted', 'continuation', 'continents', 'construct', 'consortium', 'consistent', 'connections', 'conduct', 'concrete', 'concept', 'concentrating', 'comprise', 'composites', 'composite', 'compensation', 'compare', 'community', 'communities', 'commerce', 'collective', 'collaboration', 'cold', 'coke', 'code', 'coal-fired', 'co', 'cloud', 'climbs', 'climb', 'client', 'clarify', 'circulation', 'circulating', 'cinema', 'christmas', 'chp', 'choice', 'chart.', 'charger', 'charge', 'certified', 'ceramic', 'cents', 'centres', 'cautious', 'caused', 'cause', 'case', 'carrying', 'cards', 'capability', 'capabilities', 'cancellation', 'canceled', 'cameras', 'cable', 'buy.', 'bulls', 'bullish.', 'bull', 'budget', 'budapest', 'british', 'brings', 'breakup', 'breaks', 'breakout.', 'breadth', 'booking', 'bonds', 'body', 'boat', 'boards', 'blast', 'birch', 'bidding', 'benefits', 'becoming', 'beat', 'bearing', 'basis', 'basing', 'backs', 'axe', 'axa', 'award', 'authorized', 'authentication', 'australia', 'aug', 'audio', 'attract', 'attached', 'associated', 'asked', 'asa', 'arts', 'art', 'arena', 'arcelormittal', 'apr', 'approve', 'anticipates', 'anticipated', 'antenna', 'and', 'analytics', 'analyses', 'amid', 'alus', 'aluminium', 'although', 'allow', 'alerts', 'alandsbanken', 'aircraft', 'agm', 'affairs', 'administrators', 'adding', 'adac', 'actually', 'acknowledged', 'acg1v', 'acerta', 'about', 'abn', 'abb', 'a-s', '=', '93.9', '9.4', '9.1', '9.0', '800000', '8.9', '8.6', '750', '700000', '700', '7.9', '7.8', '65', '6.7', '6.6', '6.5', '6.2', '58.7', '575000', '55', '5.8', '5.7', '48', '450', '43.8', '43', '4.8', '4.3', '37', '3500', '35.4', '35.3', '31.6', '300000', '3-year', '2nd', '2mn', '25mn', '256', '25.1', '24.2', '21.6', '21.3', '21.1', '2014', '2013', '2005-06', '20000', '1997', '19.9', '17000', '1649', '16.8', '16.12.2010', '15.4', '15.2', '15.1', '140', '14.3', '133', '1300', '13.5', '13.1', '12.6', '12.2', '12.1', '117', '111.1', '11.9', '11.5', '102.6', '1.9', '1.35', '1.22', '1.13', '1-astrazeneca', '0.5', '0.33', '0.2', '0.11', '0.01', '.50', '.40', '.08', '.01', '-0.4', '+am+nl', '$vz', '$qcor', '$qcom', '$nke', '$msft', '$lulu', '$ko', '$intc', '$axp', '$agn', '$adbe', '$1', '#apple', '~', 'zs', 'zoltan', 'zinc', 'zao', 'youtube', 'yield', 'year-on-yea', 'year-earlier', 'yards', 'www.cargotec.com', 'written', 'worse-than-expected', 'worried', 'wooden', 'wo', 'wkly', 'wish', 'winners', 'wider', 'wholly-owned', 'wholesaler', 'whitbread', 'westerlund', 'welding', 'welcomes', 'weighs', 'weighing', 'weaknesses', 'weakness', 'wastewater', 'wastes', 'warehousing', 'walking', 'walden', 'wagon', 'w+nrtsil+n', 'vtm-rakennuskonevuokraamo', 'vsevolozhsk', 'vr', 'votorantim', 'von', 'volunteers', 'voluntary', 'vologda', 'volatility', 'voima', 'vision', 'visibility', 'virala', 'violated', 'vietnam', 'videos', 'vicinity', 'vianor', 'very', 'vendors', 'vegetable', 'vdw', 'vas', 'vary', 'vartan', 'varpaisj+a', 'varma', 'varesvuo', 'vanhanen', 'values', 'valley', 'valio', 'uv', 'usually', 'uruguay', 'uptrend', 'upset', 'ups', 'upper', 'upgrading', 'updated', 'up', 'unstable', 'unsecured', 'unnamed', 'unless', 'unikko', 'unaudited', 'tyrvaan', 'tyre', 'typically', 'twig', 'twelve', 'tweets', 'tvo', 'turkish', 'tuomas', 'tumbles', 'tube', 'trucks', 'tried', 'trial', 'tree', 'trailer', 'trades', 'toxic', 'tougher', 'totaling', 'tomtom', 'tlsn', 'tire', 'tim', 'till', 'tii1v', 'tie1v', 'tie-up', 'ticket', 'thyssenkrupp', 'threatening', 'thousands', 'thomas', 'thing', 'thieves', 'therapies', 'their', 'that.', 'tgk-10', 'textile', 'teva', 'territory', 'territories', 'tenth', 'television', 'telephone', 'tec1v', 'tapiola', 'tapio', 'tape', 'tap', 'tanzania', 'tanker', 'tamglass', 'talktalk', 'talk', 'takeda', 'tacked', 'tablets', 'tablet', 'symbian', 'swing', 'svyturys-utenos', 'suspend', 'surveillance', 'surprise', 'surges', 'surge', 'surfers', 'surfaces', 'supposed', 'support.', 'supplies', 'supervisory', 'supervision', 'superior', 'sunrise', 'suitable', 'suisse', 'sufficient', 'suffering', 'suffered', 'successful', 'success', 'substantially', 'subcontractors', 'subcontractor', 'studies', 'students', 'struggling', 'struggled', 'strengths', 'strengthens', 'streamline', 'streaming', 'streak', 'stranded', 'straddle', 'stq1v', 'stonegate', 'stock.', 'stochastic', 'steve', 'sterling', 'steers', 'stealing', 'steadies', 'statoil', 'statistics', 'stationery', 'stands', 'stanchart', 'stages', 'stability', 'ss', 'sriperumbudur', 'sql', 'sq.', 'spy', 'spouts', 'spot', 'spokeswoman', 'spokesperson', 'spirits', 'spending', 'spend', 'speeded', 'specified', 'soy', 'southwestern', 'southeastern', 'sounds', 'sound', 'sophos', 'sony', 'somaxon', 'soft', 'soars', 'sna', 'smoking', 'smith', 'smelt', 'smart', 'slump', 'sludge', 'slowly', 'slowing', 'slow', 'slovak', 'slight', 'slides', 'slaughterhouse', 'sky', 'skr', 'ski', 'sizes', 'sister', 'sir', 'sinter', 'singapore', 'simmons', 'silver', 'silva', 'silja', 'signals', 'sign', 'shrank', 'shoulders', 'short-term', 'shop', 'shoe', 'shock', 'shires', 'shipyard', 'shenzhen', 'shedding', 'shalkiya', 'seven-year', 'set-top', 'served', 'seppala', 'sepp+nl+n', 'separating', 'sentry', 'sending', 'seller', 'selection', 'select', 'sel', 'sek1', 'seinajoki', 'seikku', 'segments', 'secondary', 'second-largest', 'seb', 'seasonal', 'seas', 'sealed', 'screen', 'scope', 'sciences', 'sciard', 'schindler', 'scene', 'scenario', 'scala', 'sawmills', 'saved', 'saudi', 'sanitation', 'san', 'salonius', 'salonen', 'salo', 'salary', 'salaried', 'sainsburys', 'sabah', 'saarelainen', 'rvi', 'run.', 'rumor', 'rule', 'rubles', 'rspo', 'routine', 'roundtable', 'roof', 'rolls-royce', 'rolling', 'robot', 'rises', 'ride', 'rfc', 'rewards', 'reuters', 'retirement', 'retained', 'resulted', 'responsibilities', 'respiratory', 'respective', 'resource', 'resolve', 'resolution', 'resignation', 'residents', 'reservations', 'request', 'repurchases', 'represent', 'replace', 'repeated', 'rents', 'renovation', 'renewable', 'removal', 'relocated', 'relatively', 'relationship', 'relations', 'reiterates', 'reiterated', 'reimbursed', 'rehu', 'refused', 'reflects', 'refinery', 'recovered', 'recommencing', 'reason', 're-routing', 'rautakirja', 'rated', 'rao', 'rantanen', 'ranging', 'ranges', 'rallies', 'raises', 'rail', 'ragutis', 'radar', 'race', 'quote', 'qt', 'qqq', 'qingyuan', 'q3', 'pvt', 'putin', 'pushing', 'pursuit', 'pulse', 'pullback', 'pulkovo', 'publishing', 'publication', 'pts', 'pt.', 'pt', 'psoriasis', 'prudential', 'proving', 'proven', 'proved', 'proud', 'proteins', 'protect', 'prosecutor', 'prolongation', 'proline', 'prohibited', 'profiling', 'productivity', 'procurement', 'processor', 'processguide', 'proceeds', 'procedure', 'probe', 'priced', 'presently', 'presentations', 'presentation', 'preparing', 'prepared', 'premarket', 'preferred', 'powder', 'pound', 'posting', 'post-paid', 'possibly', 'possibility', 'portal', 'ponzi', 'pond', 'police', 'pohjolan', 'poaches', 'plx', 'plunged', 'plunge', 'plastics', 'plasterboard', 'places', 'pkc', 'pivotal', 'pirkka', 'pipettors', 'pipettes', 'pipeline', 'pine', 'pietarsaari', 'phosphate', 'phases', 'petrol', 'perspective', 'peroni', 'permission', 'peri', 'per-share', 'pensions', 'pekka', 'pecs', 'peab', 'pda', 'pcb', 'pc', 'payments', 'paying', 'pattern.', 'patient', 'pass', 'party', 'parnu', 'par', 'papua', 'paper-making', 'panels', 'painful', 'packed', 'package', 'pacific', 'pace', 'owning', 'overlaid', 'overbought', 'ova', 'outsource', 'outdoor', 'out.', 'otis', 'others', 'ostrava', 'oslo', 'osl', 'orkola', 'originally', 'organic', 'ordabasy', 'optimization', 'optimistic', 'opinion', 'open-source', 'only', 'ones', 'one-day', 'omxn40', 'oldest', 'okm1v', 'official', 'off', 'occupied', 'observed', 'o', 'nyberg', 'nurminen', 'ntsb', 'nps', 'novartis', 'northwest', 'norsun', 'normally', 'noop', 'non-core', 'nobel', 'nikkei', 'nicotine', 'niche', 'niam', 'newstex', 'newspapers', 'nevsky', 'neudorf', 'netflix', 'netapp', 'neighbouring', 'negotiating', 'nefarious', 'nda', 'navteq', 'narrow', 'nalmefene', 'mutual', 'municipality', 'municipal', 'mumbai', 'multimedia', 'ms', 'movers', 'mouse', 'mountain', 'motors', 'mostly', 'mortgage', 'moreover', 'module', 'modular', 'modelling', 'mittal', 'mirabela', 'minority', 'minister', 'min', 'millercoors', 'milestone', 'miles', 'mike', 'midnighttrader', 'mid-may', 'mid-market', 'mid-2007', 'michael', 'metsa-botnia', 'metro', 'methods', 'message', 'mertano', 'merrill', 'merging', 'merge', 'mercator', 'meiklejohn', 'megafon', 'medium-term', 'meats', 'measure', 'mean', 'meadville', 'md', 'maxis', 'max', 'maturity', 'mature', 'mastered', 'marubeni', 'martin', 'marks', 'marketwatch', 'margins', 'marathon', 'maps', 'mandatory', 'man', 'malware', 'maintain', 'magnetite', 'madoff', 'madison', 'm3', 'lynch', 'lung', 'lt', 'lp-backed', 'lowest', 'low-cost', 'love', 'lot', 'loses', 'long-standing', 'loading', 'loaded', 'literature', 'lippupiste', 'links', 'lining', 'lingus', 'liking', 'lihir', 'lifted', 'lietuva', 'liechtenstein', 'lidl', 'letting', 'lesprom', 'leningrad', 'lenders', 'lember', 'leisure', 'leaving', 'leap', 'leakage', 'lawsuit', 'latvijas', 'latter', 'lattelecom', 'lats', 'late', 'larox', 'lang', 'lakshmi', 'laine', 'lags', 'laboratories', 'labor', 'ky', 'kuitu', 'krippl', 'kraftliner', 'kraft', 'kostroma', 'koskull', 'koskinen', 'knows', 'knives', 'kito', 'kiosk', 'kind', 'kim', 'keyboard', 'kevin', 'kesbv', 'kemij+nrvi', 'kausta', 'kauhava', 'karvinen', 'kallasvuo', 'k', 'just', 'juniper', 'jun', 'july-september', 'jpm', 'jouko', 'john', 'jim', 'jet', 'jarmo', 'jari', 'japans', 'january-november', 'january-december', 'iwm', 'itv', 'issuance', 'isolationism', 'iso', 'island', 'iran', 'ipad', 'involving', 'invoicing', 'invite', 'investing', 'investigators', 'investigation', 'inventory', 'inventories', 'invalid', 'introduced', 'introduce', 'interrupted', 'internationally', 'interface', 'intended', 'instruments', 'instrument', 'institute', 'install', 'inspection', 'innova', 'innofactor', 'injectable', 'infra', 'industri', 'indicators', 'indicator', 'indexes', 'incur', 'inclusive', 'incentive', 'inaugurated', 'in-depth', 'improving', 'improvements', 'imports', 'importance', 'impacted', 'ilk2s', 'ietf', 'identical', 'ice', 'hybrid', 'human', 'hoyer', 'hostile', 'hoping', 'honka', 'holmen', 'holiday', 'holders', 'holder', 'hits', 'historic', 'hires', 'hikes', 'hike', 'highly', 'helsinki-stockholm', 'helping', 'help', 'healthy', 'headcount', 'headboxes', 'headbox', 'hbos', 'hatch', 'hat', 'hasten', 'happened', 'happen', 'hannu', 'hang', 'handheld', 'handelsbanken', 'halved', 'halted', 'hack', 'gypsum', 'gulf', 'guangdong', 'gts', 'grows', 'grounds', 'grolsch', 'grc', 'gray', 'graphic', 'grants', 'gran', 'gradually', 'gprs', 'government-owned', 'governance', 'gmt', 'gmo', 'gla1v', 'gilligans', 'ghz', 'gets', 'germanys', 'gerber', 'genetically', 'genesis', 'generating', 'ge', 'garmin', 'garden', 'gantry', 'game', 'gaining', 'gained', 'gabbana', 'g4s', 'furniture', 'function', 'fully-owned', 'fujitsu', 'from', 'friendly', 'french', 'freight', 'freenet', 'framework', 'four-year', 'forma', 'fork', 'forests', 'foresees', 'foot', 'foodservice', 'focuses', 'fluid', 'fluctuation', 'fluctuated', 'flsmidth', 'floral', 'flew', 'flagship', 'flag', 'fl', 'five-year', 'fit', 'fireplaces', 'fireplace', 'finton', 'finish', 'finieris', 'finances', 'financed', 'filmiteollisuus', 'fight', 'fh', 'festive', 'fertilizer', 'fennia', 'feedftse', 'federation', 'federal', 'featuring', 'feature', 'favourably', 'favorable', 'far.', 'fancy', 'family', 'families', 'faller', 'fallen', 'factors', 'facades', 'fabrication', 'exxon', 'extensively', 'exposure', 'exported', 'expo', 'exploits', 'expert', 'experiences', 'expensive', 'expense', 'expenditures', 'expenditure', 'expecting', 'exhibition', 'exercising', 'executed', 'excited', 'exceed', 'examining', 'evraz', 'everything', 'everyone', 'events', 'evaluation', 'evaluated', 'euro86', 'euro26', 'euro13', 'euro120', 'eur928', 'eur91', 'eur86', 'eur80m', 'eur7', 'eur61', 'eur6', 'eur5m', 'eur3m', 'eur27', 'eur25m', 'eur23', 'eur1bn', 'eur19', 'eur18', 'eur160m', 'eur15m', 'eur155', 'eur150m', 'estimation', 'esl', 'erkki', 'erdenet', 'er', 'eod', 'entitled', 'entirety', 'entirely', 'engineered', 'engine', 'ends', 'end-to-end', 'enclosed', 'employ', 'eli1v', 'elements', 'elected', 'elect', 'eila', 'eggs', 'edging', 'edges', 'ecb', 'ebg1v', 'eaton', 'eaten', 'easter', 'easier', 'ease', 'earnings.', 'earned', 'earliest', 'ea', 'e72', 'e.g.', 'e-mail', 'dubai', 'drying', 'drugs', 'driven', 'downtown', 'downside', 'dow', 'doses', 'doring', 'dopplr', 'dollars', 'dolce', 'dokumculuk', 'doktas', 'dog', 'documents', 'document', 'doctors', 'dnb', 'djsi', 'diversified', 'distributable', 'distinctive', 'distance', 'dispute', 'disposable', 'dismissed', 'dishes', 'discontinued', 'disappointment', 'disappoint', 'directly', 'dimensions', 'digicel', 'difficult', 'differ', 'diesel', 'die', 'dibba', 'diagnostics', 'diabetes', 'determined', 'detected', 'detail', 'destia', 'descending', 'depressed', 'deposits', 'deposit', 'departures', 'denominated', 'demonstration', 'delivers', 'delivering', 'delighted', 'delhi', 'delegation', 'degerfors', 'defends', 'decoration', 'declare', 'decide', 'deals', 'de', 'dart', 'dans', 'damaging', 'damage', 'dagens', 'cycle', 'cyber', 'cursors', 'currencies', 'crystals', 'crossing', 'cross.', 'crore', 'critical', 'crisis', 'crh', 'creates', 'crazy', 'crash', 'crane', 'covered', 'costco', 'cost-efficiency', 'cost-cutting', 'correspond', 'correlation', 'coq', 'copenhagen', 'conviction', 'convergence', 'controlling', 'contracting', 'continental', 'construction-real', 'constitute', 'consisting', 'consistency', 'considered', 'consecutive', 'connect', 'congress', 'conglomerate', 'confirmation', 'confidence', 'conferences', 'conciliator', 'concerned', 'concentrate', 'compton', 'complexity', 'completely', 'competitor', 'competence', 'compass', 'commodities', 'committed', 'commitment', 'commissioning', 'commercially', 'commented', 'commence', 'combines', 'combine', 'color', 'collection', 'cohen', 'coffee', 'co2', 'cnc1v', 'closes', 'closer', 'climate', 'clicked', 'cleaning', 'clean', 'clarity', 'city24', 'citi', 'citadele', 'cisco', 'cider', 'choose', 'chinas', 'children', 'chf', 'cheapest', 'chase', 'charges', 'channels', 'chance', 'cessation', 'cerberus', 'centralized', 'celular', 'cellulose', 'ccs', 'cba', 'catch', 'castle', 'casting', 'carry', 'carl', 'capture', 'caps', 'capped', 'capitals', 'capacities', 'cannot', 'canal', 'campaign', 'callers', 'calculated', 'calcination', 'caixabank', 'cabin', 'bye', 'button', 'buster', 'burdened', 'bunge', 'bullying', 'bulletin', 'bulk', 'builders', 'buffetts', 'bss-oss', 'browser', 'broke', 'britain', 'bristol', 'bringing', 'brief', 'bricolage', 'brian', 'brewery', 'breweries', 'brewer', 'bread', 'brasil', 'branded', 'branches', 'bpi', 'boxes', 'bounced', 'bottom.', 'bottles', 'bothnia', 'bot', 'border', 'boosts', 'bofa', 'bodies', 'bo', 'bns', 'bnamericas', 'bmo', 'blue-chip', 'blue', 'blog', 'blinkbox', 'blames', 'blackstone', 'bk', 'biocare', 'biobv', 'bigger', 'beverages', 'beta', 'bertrand', 'benecol', 'below', 'believes', 'belchatow', 'before', 'beef', 'bed', 'because', 'beating', 'bear', 'bbh', 'bay', 'bavelloni', 'batch', 'basic', 'bargaining', 'bar', 'bangalore', 'band', 'bancorp', 'ban', 'baltimore', 'baltics', 'ball', 'bags', 'backlog', 'axes', 'awards', 'avenue', 'automobile', 'automated', 'auto', 'authorization', 'authorisation', 'auditors', 'attributes', 'attempt', 'attacks', 'attack', 'astrazenecas', 'assignment', 'assigned', 'assa', 'ask', 'ashley', 'asda', 'ascending', 'asahi', 'as-built', 'arrive', 'arrangement', 'arranged', 'archipelago', 'appropriate', 'approaches', 'appointment', 'appoint', 'apply', 'applies', 'appear', 'appealing', 'apparent', 'apetit', 'apartments', 'apartment', 'apart', 'antti', 'antennas', 'answer', 'annum', 'anne', 'angeles', 'amro', 'amplifier', 'amounting', 'amex', 'ameas', 'amazon', 'amazing', 'amanda', 'always', 'aluminum', 'altona', 'altimo', 'aln1v', 'allowed', 'allocation', 'alleged', 'alholma', 'alfa', 'alexander', 'airspace', 'airports', 'airport', 'airbus', 'airbaltic', 'agro', 'agree', 'aggregate', 'again', 'after-market', 'affectogenimap', 'aer', 'advertisements', 'advantage', 'advance', 'admits', 'administrative', 'administered', 'adjustment', 'adjusted', 'adequacy', 'add', 'activated', 'acted', 'accused', 'accumulation', 'accommodation', 'accommodate', 'accelerate', 'acando', 'acanb', 'abloy', 'aberdeen', 'aapl', '@yahoofinance', '@stocktwits', '@ratingsnetwork', '992.3', '95', '949.2', '945', '939000', '9364.80', '934000', '92.9', '91.2', '90211860', '90.19', '9.3', '9.00', '884000', '88', '8537.42', '853.1', '85', '84', '8256.02', '813.191', '803.6', '8.69', '8.5', '7801.7', '78', '76.7', '75.3', '75', '74612523', '74.2', '7327', '72', '70000', '7.99', '7.0', '69.2', '67', '669000', '661.3', '66.4', '640', '64.5', '634', '620', '62.4', '61.3', '609', '60000', '60.1', '60-15-4', '6.06-7', '59.9', '5800', '561470', '534', '52.3', '52.2', '5029.25', '50000', '50.0', '5.57', '5.35', '5.33', '5.3', '5-star', '4mn', '497', '495', '49.9', '49.8', '49.6', '48.51', '47.7', '42.9', '42.0', '41.0', '40000', '400', '40.8', '40.7', '40.2', '4.985', '4.30', '4.14', '3mn', '3d', '39.0', '38.3', '38.1', '369000', '365', '360', '36.6', '34-35', '3332.41', '33.8', '33%', '325', '323.5', '32.86', '32.7', '32.2', '3150.55', '3143.57', '31.4', '31.1', '307.8', '3067.64', '300mn', '3000', '30.9', '30.2', '3.56', '3%.', '3%', '2m', '29.6', '29.4', '284mn', '28.1', '27.4', '2694.81', '253.5', '253', '25.41', '25.4', '2463.67', '245000', '235', '230000', '23.5', '23.3', '23.26', '23.2', '23-25', '22.6', '22.4', '213', '21.9', '2016', '2008-2009', '2007-2008', '2004-05', '2002', '20.9', '20.51', '20.5', '2.1', '1999', '1996', '19000', '19.28', '19.2', '18mn', '189000', '185', '18.9', '18.8', '18.70', '18.64', '18.6', '18.38', '18.3', '18.1', '17mn', '1750', '1700', '17.8', '17.7', '17.1', '16mn', '168.8', '165.5', '164.1', '162.8', '162.3', '161.5', '16.6', '16.4', '16.1', '158', '156.9', '155.2', '15000', '15.9', '14.9', '14.5', '14.2', '14.15', '14.0', '133.1', '130.5', '13.9', '13.35', '12302010', '122.57', '121.4', '1200', '12.59', '12.01', '11687.32', '113.4', '1100', '110', '11.35', '11.33', '11.3', '11.2', '11.0', '10mn', '108.7', '10736.42', '106.2', '10530.74', '105', '1047.4', '10321.46', '1030', '103', '10.9', '10.8', '10.5', '10.33', '10.2', '10.14', '10%', '1.70', '1.62', '1.523', '1.343', '1.33', '1.02', '1%', '0.87', '0.80', '0.67', '0.66', '0.56', '0.50', '0.45', '0.43', '0.42', '0.37', '0.30', '0.25', '0.18', '0.05', '0.04', '0.03', '0.02', '.71', '.66', '.65', '.49', '.38', '.37', '.30', '.29', '.15', '.11', '.07', '.06', '.05', '..', '-al', '+lemiste', '+35%', '+1', '$znga', '$yndx', '$xlf', '$wmt', '$wac', '$v', '$uup', '$stx', '$spx', '$smh', '$siri', '$pypl', '$p', '$orcl', '$ndx', '$mcd', '$lnkd', '$labu', '$kndi', '$jnpr', '$ilmn', '$grpn', '$gmcr', '$gld', '$gdx', '$fio', '$ea', '$djia', '$dia', '$csx', '$csco', '$crm', '$celg', '$cat', '$bwld', '$blue', '$ba', '$atvi', '$amrn', '$6', '$575', '$3', '$2.7', '$2', '$17', '$100', '$$', '#tesla', '~4.2%', '|', '{head&shoulders}', 'zurich', 'zu', 'zte', 'zone..', 'zone.', 'zip', 'zinc-lead', 'zgody', 'zero', 'zapadnye', 'zanadvorov', 'zaharova', 'zahariev', 'z6xx', 'z', 'yty1v', 'yr.endathat', 'young', 'york-based', 'yomiuri', 'ylivieska', 'yliopistonrinne', 'ylinen', 'yinhe', 'yiliang', 'yhteishyv+n', 'yet.', 'yesterdays', 'yesterdaylooking', 'yes', 'yekaterinburg', 'yearly', 'year.', 'year+o', 'yaroslavl', 'yahoos', 'yahoo', 'ya', 'y-y', 'xpress', 'xpower', 'xdsl', 'wysockiego', 'www.yitgroup.cominvestors', 'www.stockmann.com', 'www.seahawkdrilling.com', 'www.sanoma.com', 'www.ruukki.cominvestors', 'www.prothious.com', 'www.orion.fi', 'www.kauppalehti.filive', 'www.dailystockplays.com', 'www.countryelements.co.uk', 'www.citycon.com', 'www.cerner.com', 'wt4090', 'wrt1v', 'wrong.', 'wrong', 'write', 'wrapped', 'worthless', 'worst', 'worse.', 'worlds', 'world-wide', 'world-class', 'workshop', 'works.', 'workout', 'workforse', 'workflow', 'worker', 'workday', 'wore', 'wording', 'woodworking', 'wonderful', 'wk.', 'withviking', 'withstand', 'withdrawn', 'withdraw', 'wire', 'wintek', 'winning', 'winds', 'winders', 'winded', 'win-win', 'wimpey', 'wilshire', 'wills', 'willingness', 'willich', 'will-bg', 'wiklof', 'wiio', 'wig20', 'wig', 'wife', 'wid...', 'wi-fi', 'whitehall', 'white-collar', 'white', 'whilst', 'wherever', 'wheat', 'westpac', 'westend', 'west', 'wenchong', 'wellness', 'wellmont', 'wellingborough', 'well.', 'well-known', 'weir', 'weighted', 'weekly.', 'weekday', 'week.', 'wedge', 'websense', 'weblogs', 'web-marela', 'web-based', 'weatherdeck', 'weather', 'wealth', 'weakest', 'weaker', 'weakening', 'ways', 'wayne', 'waves', 'wave', 'watertight', 'waterqueen', 'watermarks', 'watermark', 'waterborne', 'watco', 'waste-fired', 'washington', 'washable', 'warsaw', 'warren', 'warranty', 'warrants', 'warrant', 'warnings', 'warner', 'warned', 'war', 'wap', 'wallhamn', 'walker', 'waiving', 'waiting.', 'wages', 'vz', 'vyvanse', 'vwap', 'vv-auto', 'vuosaari', 'vuorenmaa', 'vuolteenaho', 'vuokatti', 'vtb24', 'vridi', 'vp', 'vostok', 'vosstaniya', 'vorota', 'volvo', 'volotinen', 'volkswagen', 'volatility.', 'volatile', 'voip', 'voice-directed', 'vocollect', 'vocal', 'vnh', 'vmarkets', 'vladivostok', 'vizag', 'vix', 'vista', 'vishakapatnam', 'viruses', 'virsuliskes', 'virgin', 'vintage', 'vimpelcom', 'viiv', 'viitasaari', 'viiala', 'viewing', 'victoria', 'vice-president', 'vibe', 'viable', 'vga', 'vetr', 'versatile', 'verifying', 'venue', 'veliky', 'veli-matti', 'veil', 'veikko', 'veidekke', 'vehvilainen', 'vehvil+ninen', 'vegetables', 'vcp', 'vauramo', 'vashi', 'vasantha', 'varkaus', 'variant', 'vap-1', 'vantage', 'vana', 'van', 'valves', 'valve', 'value-added', 'valuation', 'valmet', 'valkeakoski', 'valkama', 'validation', 'validating', 'valga', 'vahur', 'vacuum', 'vaccines', 'vacant', 'vaalipalvelu-service', 'uwe', 'uusimaki', 'utilizing', 'utilising', 'utilises', 'ustjug', 'usp', 'usmanov', 'usko', 'user-experience', 'user-defined', 'user-controlled', 'usd6m', 'usd332m', 'usd3', 'usd213m', 'usd2', 'usd12m', 'usd119', 'usd0', 'urls', 'url', 'urban', 'upward', 'upstream', 'upstaged', 'upm1v', 'uplift', 'upholds', 'up-to-date', 'unveils', 'unveiled', 'unture', 'untrue', 'unspectacular', 'unrivalled', 'unprofitable', 'unloader', 'unlisted', 'unlikely', 'unlike', 'universiti', 'universal', 'unique', 'unify', 'unicom', 'unibrew', 'unfortunately', 'undisturbed', 'underwritten', 'underweight', 'undervalued', 'underutilisation', 'undertakings', 'undertaking', 'understood', 'underperform.', 'underperform', 'underperf', 'und', 'uncommonly', 'uncoated', 'uncertainty', 'uncertain', 'unc', 'unbroken', 'unbelievably', 'umts', 'umo', 'umm..', 'ultra', 'ukonaho', 'ukmerge', 'uk-based', 'uh', 'ugglarp', 'ufj', 'ufa', 'ues', 'ucell', 'ubs', 'uab', 'tyumen', 'tyrv+ninen', 'typhoon', 'typed', 'tyo', 'twtr', 'twofold', 'two-year', 'two-unit', 'twitter', 'twist', 'twh', 'twenty-one', 'twenty', 'tweet.', 'tweeple', 'tv', 'turun', 'turning.', 'turning', 'turnaround', 'turn-around', 'turmoil', 'turbo', 'turbines', 'turbine', 'tuomo', 'tunnel', 'tune', 'tumkur', 'tumbleweed', 'tumble', 'tullow', 'tulla', 'tulevaisuus', 'tuition', 'tubes', 'ttm1v', 'trygvesta', 'try', 'trumpets', 'truck', 'trout', 'troubles', 'troubled', 'trojans', 'trojan', 'tripoli-based', 'tripled', 'triple', 'tripadvisor', 'trip', 'triggers.', 'triggers', 'triggered', 'trigger', 'trials', 'trendline', 'treatments', 'treat', 'travis', 'travellers', 'traveler', 'traps', 'transfers', 'trains', 'trainers', 'trained', 'train', 'trails', 'traditions', 'tradition', 'trader.', 'tradeka', 'traces', 'traceability', 'toy', 'towergates', 'tower-top', 'toward', 'tournament', 'tourists', 'tour', 'touch-screen', 'totally', 'tortue', 'toptronics', 'tops', 'toppled', 'topped', 'topical', 'topic', 'top-line', 'toolonlahti', 'tonight', 'tomsk', 'tomorrow.', 'tomi', 'tomatoes', 'tomas', 'tom', 'toll', 'tolerated', 'tolerability', 'tokyo-mitsubishi', 'toivola', 'todaytomorrow.', 'tobacco', 'toast', 'to-have', 'tmlsfor', 'tlv1v', 'tkk', 'tj', 'tiusanen', 'titles', 'tip', 'tinyurls', 'tinto', 'timing', 'timetable', 'timely', 'timeless', 'time.', 'time-to-market', 'time-focused', 'timberrrr', 'timber', 'til', 'tik1v', 'tightened', 'tietoenators', 'ties', 'tier', 'tielinja', 'tie-in', 'tidningar', 'ticker-', 'ticaret', 'thursdays', 'thru', 'throughput', 'three-day', 'thread.', 'thought', 'thorwoste', 'thisits', 'this.', 'thirty-one', 'thirst', 'third-row', 'third-party', 'think.', 'things', 'thin', 'thicker', 'thiam', 'thewartsila32generating', 'therein', 'thereby', 'there.', 'therapeutics', 'theodosopoulos', 'then', 'theft', 'thebault', 'thank', 'thailand', 'th', 'tgk-1', 'text', 'tex.', 'tetroxide', 'testament', 'teslas', 'terrain', 'tero', 'terminator', 'termination', 'terminated', 'teppo', 'teollisuuden', 'tents', 'tension', 'tendering', 'tendency', 'tenants', 'ten-year', 'telpak', 'tells', 'tellabs', 'tell.', 'telko', 'telekom', 'telecomworldwire-7', 'telecomms', 'telecominvest', 'tele', 'telcontar', 'telco', 'telanne', 'tel', 'teks', 'teflon.', 'teenagers', 'tecnomens', 'tecnomen-results', 'technopark', 'technologically', 'techno-park', 'technicals', 'tech-savvy', 'tech', 'teaming', 'teachers', 'te', 'tdd', 'tco', 'tb', 'taylor', 'taxpayers', 'tata', 'taste', 'tase', 'tasb', 'tarmo', 'tariff', 'tapuli', 'tapped', 'tapes', 'tapeks', 'tapani', 'tanqia', 'tanks', 'tanking', 'tankers', 'tang', 'taneli', 'tammela', 'tamil', 'tameer', 'tambov', 'taloustutkimus', 'talotekniikka', 'talo', 'tally', 'tallon', 'tallinn-helsinki', 'tallinn-based', 'talking', 'talermo', 'take-over', 'takanen', 'tailored', 'tahko', 'tag', 'table', 'tab', 't2', 't+l+com', 'systemss', 'systemhaus', 'systeemitiimi', 'synosia', 'synonymous', 'synergies', 'syndication', 'syndicate', 'symphony', 'symbol', 'symbian-based', 'symantec', 'swoope', 'switch', 'swiss-swedish', 'swiss', 'swirled', 'swiftly', 'swift', 'sweet.', 'sweepers', 'swedish-finnish', 'swaps', 'swap', 'svyazinvest', 'svp', 'sveza', 'svensson', 'svenska', 'sveikatos', 'suy1v', 'suv', 'sustainability', 'suspended', 'suspect', 'surveyed', 'survey', 'surrounding', 'surprises', 'surpassing', 'surmises', 'surging', 'surgical', 'surfeit', 'surface-treatment', 'surface', 'surf', 'surcharges', 'supreme', 'supplying', 'supplied', 'supplements', 'supervisor', 'supermercado', 'supermarket', 'super-calendered', 'super', 'suovaniemi', 'suomalainen', 'sunk', 'sundays', 'sun', 'sulfide', 'sukhraj', 'suitor', 'suite', 'suihko', 'suggest', 'suffers', 'suez', 'sued', 'sudden', 'suction', 'succeeds', 'succeed', 'suburbs', 'substitutes', 'subsequent', 'subscriber', 'subordinated', 'submitted', 'submit', 'submissions', 'subject-matter', 'subdued', 'subdivision', 'subcontract', 'sub-group', 'stylised', 'style', 'stx', 'stuttgart', 'stumbled', 'stuk', 'stuff.', 'studying', 'stuck', 'stt', 'struggle', 'structural', 'strongly', 'strip', 'stretches', 'stress', 'strelny', 'streams', 'streamlined', 'stream', 'strawberry-rhubarb', 'strategically', 'strapping', 'strait', 'straight', 'stoxx', 'storengy', 'stoppage', 'stole', 'stockholm-headquartered', 'stockholm-based', 'stoch.', 'stk', 'sticks', 'stichting', 'stg', 'sterv', 'stereotyping', 'stena', 'sten', 'stellar', 'steep', 'steelmaker', 'steek', 'steaming', 'steam...', 'steadily', 'stays', 'stavokonsult', 'stavo', 'statistical', 'state-owned', 'state-of-the-art', 'state-held', 'state-controlled', 'state-approved', 'starts', 'start-ups', 'standing', 'standardised', 'standalone', 'stan', 'stalwarts', 'stakeholders', 'stahlberg', 'staffers', 'stadtverwaltung', 'stabler', 'stabilise', 'stabilisation', 'st1', 'ssl-vpn', 'spyware', 'spunlace', 'springleaf', 'spreads.', 'spreader', 'sports-equipment', 'sporting', 'sport', 'sponsors', 'sponsoring', 'sponsored', 'spokesman', 'spoke', 'split', 'spin', 'sphere', 'spencer', 'speedy', 'speeds', 'speed.', 'specifying', 'specifically', 'species', 'speciality', 'specialists', 'specialised', 'speaks', 'speaking', 'speaker', 'spc', 'spark', 'spare', 'spanning', 'spains', 'spaces', 'spa', 'sp', 'southfield', 'south-korea', 'south-africa', 'sourcing', 'sought', 'soon.@cheri1', 'somoncom', 'somewhat', 'something', 'some', 'solo', 'sokonet', 'software-based', 'societe', 'soared', 'snp', 'sneed', 'snap-back', 'snag', 'snacks', 'smtand', 'sms', 'smoke', 'smiths', 'smelter', 'small-caps', 'slowed', 'slowe...', 'slovenia', 'slot', 'slope', 'slo', 'slitting', 'slip', 'sliding', 'slice', 'sled', 'slaughtering', 'slashing', 'slashes', 'slash', 'slammed', 'skogster', 'skogberg', 'skinned', 'skiers', 'skeptical', 'skeoch', 'skanssi', 'skandinavian', 'skaarer', 'sk+nne', 'sizing', 'sizable', 'six-year', 'six-step', 'six-knot', 'situated', 'sits', 'sitra', 'sit', 'sis', 'sirkka-liisa', 'siriusxm', 'sipponen', 'sintered', 'sinocast', 'sink', 'singles', 'single-channel', 'singer', 'singaporean', 'simulating', 'simply', 'simplifies', 'simon', 'simdax', 'silvennoinen', 'sihvo', 'signs', 'signature', 'signaled', 'signal...', 'signal.', 'sign.', 'sight.short', 'sight', 'sievi', 'sierra.', 'sideways', 'sidewalks', 'shuweihat', 'shuts', 'shs', 'showing', 'showcase', 'should', 'shots', 'shorting', 'shorter', 'short.', 'shop-in-shops', 'sho', 'shivakumar', 'shipowner', 'shipbuilding', 'shifting', 'shift', 'shielding', 'sheryl', 'sherlock', 'shelved', 'sheksna', 'sheets', 'shdsl', 'shb', 'sharpest', 'sharp', 'shark', 'shares...will', 'sharepoint', 'shaping', 'shane', 'shanahan', 'shakes', 'shade', 'shad', 'sfi', 'sewer', 'seventy-three', 'seventeen', 'setv', 'settles', 'settlement', 'settled', 'settle', 'setting', 'setback', 'sessions', 'session', 'ses', 'servicing', 'serco', 'serbia', 'separately', 'sentiments', 'sentiment', 'sentera', 'sensing', 'sensex', 'sense', 'seng', 'semis', 'semiproducts', 'seminars', 'seminar', 'semiconductor', 'semi-trailers', 'sellingshorting', 'sek90m', 'sek77', 'sek6', 'sek50m', 'sek25m', 'seitovirta', 'seismic', 'seidenberg', 'seems', 'seem', 'seeking', 'seek', 'seeder', 'see425', 'sector.', 'seconds', 'second-generation', 'sechs', 'seat-belt', 'season', 'searching', 'seals', 'sda1v', 'sculptural', 'screw', 'scraps', 'scrappy', 'scrap', 'scotts', 'scott', 'scotland', 'scorecard', 'science-based', 'schuldschein', 'schroders', 'school', 'scholarship', 'schmardin', 'scheck', 'schapiro', 'scf1v', 'scantrack', 'scanning', 'scanned', 'scandinavia', 'scandic', 'scan-tukka', 'scaling', 'scaffolding', 'saysjouni', 'saving', 'saunalahti', 'saturation', 'satlan', 'satellite', 'sata-flexo', 'sastamala', 'sas', 'sarkamies', 'sari', 'sare', 'saratovenergo', 'sanyo', 'santos', 'sanofi', 'sankyo', 'sankey', 'sanitas', 'sandwich', 'sandberg', 'sandbagged', 'sanctions', 'sanayi', 'samuel', 'sammy.', 'samas', 'samarco', 'saltonstall', 'salokannel', 'salmi', 'sains', 'saimaa', 'sailed', 'saigon', 'sahlberg', 'sahavaara', 'saha', 'sad', 'sabs', 'sabharwal', 'sab', 'saarioinen', 'saarinen', 'saarijarvi', 's60', 's1', 's.a.s', 's+aderstr+am', 's&p', 'ryobi', 'ryder', 'ryanair', 'ruwais', 'ruuska', 'rushydro', 'rush', 'runup.', 'runner', 'rumours', 'ruling', 'ruled', 'rukax', 'rugs', 'rugby', 'rubin', 'rubber-tyred', 'rubber', 'rtg', 'rtch', 'rs35', 'rs310', 'rs.', 'rs', 'rpm', 'rpk', 'royalty', 'royalties', 'roy', 'rowan', 'row.', 'roving', 'routing', 'roughly', 'rough.', 'rough', 'rotation', 'rotana', 'rostelecom', 'ross', 'roshan', 'rosendal', 'rosberg', 'rory', 'ropax', 'rop', 'romosozumab', 'romanian', 'roman', 'rolls', 'roll-on', 'roll-off', 'roll', 'roi', 'rogers', 'roger', 'rockwell', 'rocketed', 'rocket', 'rock', 'roce', 'robert', 'roadshow', 'roads', 'roadmap', 'rmr1v', 'rme', 'rmb8', 'rl-nordic', 'riskware', 'risks', 'risfelt', 'risers', 'risen', 'ripe', 'rio', 'rinkuskiai', 'rim', 'rik', 'riihim+nki', 'rightfully', 'rig', 'rifd', 'ridge', 'rice', 'rib', 'rheumatoid', 'rg', 'rfid', 'rf', 'rewarded', 'revolving', 'reviews', 'reversing..looks', 'reversals', 'reversal.', 'revealed', 'retweet', 'returns', 'retrofit', 'retrieving', 'retracement', 'retake', 'retaining', 'retailing', 'retailers', 'retailed', 'retail-wholesale', 'resurrect', 'resume', 'resulting', 'restructured', 'restrictions', 'restoration', 'resting', 'respublikos', 'respecta', 'resort', 'resolved', 'resolutions', 'resist', 'resilient', 'residues', 'residentialconstruction', 'resident', 'residence', 'reshuffled', 'reshape', 'reserve', 'reservation', 'reseller', 'rescue', 'requires', 'require', 'republication', 'reproduction', 'repositioning', 'reportedly', 'reportable', 'report..800$', 'report.', 'report-17', 'replay', 'replacement', 'replaced', 'repeats', 'repeating', 'repeat', 'repeals', 'repayments', 'repayment', 'repay', 'repairs', 'repaid', 'reorganised', 'reorganisations', 'reopen', 'rental-related', 'renovate', 'renison', 'reng', 'renews', 'renewing', 'renewed', 'rendered', 'render', 'removed', 'remotely', 'remind', 'remains', 'reluctant', 'relinquishing', 'relief', 'reliable', 'reliability', 'relentless', 'releases', 'relaunch', 'relation', 'reka', 'rejects', 'reject', 'reinstate', 'reino', 'reinforcement', 'reinforced', 'reiljan', 'reijo', 'rehabilitation', 'regulators', 'regular', 'registers', 'regionally', 'regina', 'regeneration', 'regarded', 'regains', 'refurbishing', 'refurbish', 'reftele', 'reform', 'reflect', 'refineries', 'refiner', 'refinance', 'refile-update', 'reel', 'reducing', 'redistribution', 'reding', 'redesigned', 'red-hot', 'recruitment', 'recruited', 'recruit', 'records', 'recording', 'recommendable', 'recommend', 'recoil', 'recognize', 'recipients', 'recipient', 'receiving', 'recaptured', 'rebuilds', 'rebuild', 'rebuffal', 'rebuff', 'rebounding', 'rebound', 'rebates', 'reasons', 'realtime', 'realprojekti', 'realistic', 'readychex', 'ready...target', 'reading', 'readership', 'reader', 'reactors', 're-use', 're-plumbing', 're-organise', 'rcp', 'rbi', 'rbc', 'ray', 'rautakesko', 'raty', 'rationalization', 'ratings.', 'rate.would', 'ratasmaki', 'rare', 'rap1v', 'rap', 'ranking', 'ranked', 'ranjan', 'range.', 'randgold', 'rana', 'ramsey', 'ramp-up', 'rallying', 'rallied', 'rakvere', 'rake', 'rajamaki', 'raivv', 'raising', 'rainbow', 'railways', 'railroad-car', 'raiffeisen-leasing', 'raiffeisen-banking-group', 'ragot', 'radomes', 'radiosonde', 'racked', 'rabochy', 'ra', 'quitting', 'quits', 'quipped', 'quick.', 'questioned', 'questcor', 'quench', 'quatrocon', 'quarto', 'quarterly-annual', 'quartal', 'quantity', 'qualitytastiness', 'qualities', 'qualcomm-patented', 'quadrupled', 'qtrs', 'qpr1v', 'qnx', 'qi', 'qe3', 'q400', 'q1-2010', 'q&a', 'q', 'pvt.', 'putting', 'puts.', 'pushers', 'pursues', 'pursuant', 'purposes', 'purpose', 'puro', 'pure', 'purchasing', 'pulpwood', 'pulls', 'pulling', 'pullback_time', 'pull', 'publ', 'pty', 'psv', 'prudentials', 'provision', 'province', 'providence', 'proves', 'protrusion', 'prototypes', 'prothious', 'protein', 'prosperous', 'prospectus', 'proposition', 'proposals', 'propertos', 'proofpoint', 'proof', 'prompt', 'promotion', 'promoting', 'promo', 'promises', 'promised', 'projektivuokraus', 'programming', 'programmatic', 'products.', 'productional', 'production.', 'production-related', 'produces', 'processed', 'process-related', 'proceeded', 'proceed', 'probable...', 'probability', 'privatisation', 'privately', 'prints', 'principles', 'primer', 'prime-tass', 'price.', 'price-share', 'previous-year', 'prevailing', 'pressurized', 'pressuring', 'pressures', 'pressplate', 'pressed', 'presents.', 'presented', 'preparation', 'premiums', 'preferably', 'prefab', 'predict', 'precipitation', 'preceding', 'pre-process', 'pre-friends', 'pre-emptive', 'praises', 'pragmatic', 'pradesh', 'practitioners', 'practices', 'practically', 'ppmi', 'poy', 'powerplant', 'powerless', 'powerful', 'poundstretcher', 'pounds', 'pots', 'postponement', 'postions.', 'postel', 'possibilities', 'possession', 'positions.', 'positioning', 'positioned', 'position.', 'poser', 'poseidon', 'pos.', 'pos', 'porvoo', 'portugal', 'portti', 'portsmouth', 'portable', 'population', 'popularity', 'popping', 'pop.', 'poorest', 'pool', 'ponten', 'polytechnic', 'polled', 'politicians', 'polish', 'policies', 'poles', 'pojlf', 'pointing', 'pohjantahti', 'poh1s', 'pocketable', 'po', 'plyland', 'plyfa', 'plummeted', 'plumber', 'plots', 'pledges', 'pledged', 'pleasurable', 'plcs', 'plccompany', 'plaza', 'plays', 'platinum', 'platforms', 'plates', 'plaque', 'planmill', 'placement', 'pivotable', 'pivot.', 'pistachio', 'pirila', 'pips', 'pipleline', 'pipettor', 'pipes', 'piper', 'pinned', 'pink', 'piloting', 'pill', 'pile', 'piirainen', 'pietinalho', 'pietiek', 'pies', 'pieces', 'piece', 'pictures', 'picking', 'pickers', 'physical', 'photos', 'photo-msn', 'phonebook', 'phoenix', 'phishing', 'phillip', 'philips', 'philip', 'pharming', 'pharmacokinetics', 'pharmacokinetic', 'pharmacodynamic', 'pharmacies', 'ph3', 'pge', 'peugeot', 'petrochemical', 'petrobras', 'petition', 'petersburg-based', 'peter-servis', 'petcore', 'pet', 'pesonen', 'perttu', 'pertti', 'personalized', 'persistently', 'perrigo', 'perpendiculars', 'permit', 'permanent', 'perlos', 'perkonoja', 'perkins', 'periods', 'period-end', 'performed', 'perform', 'perch', 'percent..', 'per+nmeri', 'penttila', 'pentti', 'pentik+ninen', 'pensionable', 'pensioenfonds', 'penny.', 'penny', 'pence', 'penalties', 'peltonen', 'pellonpaja', 'pellissier', 'pellets', 'pekoni', 'pekkarinen', 'pehu-lehtonen', 'peer', 'pedometers', 'peace.', 'pdas', 'pcmag.com', 'pcbs', 'pays', 'payphones', 'payout', 'paycheck', 'paviljonki', 'pavements', 'pave', 'pavara', 'patterns', 'patronage', 'patrik', 'patricia', 'patja', 'pathological', 'pathana', 'pates', 'patents', 'patch', 'passive', 'passenger-related', 'passed', 'passages', 'partition', 'particularly', 'particles', 'participation', 'participate', 'partially', 'part-time', 'parquet', 'parliament', 'parks', 'parking', 'parity', 'paris', 'pares', 'parameters', 'parallel', 'paperlinx', 'paperboard', 'papel', 'pankki', 'panic', 'panfish', 'panda', 'panamax', 'panama', 'palin', 'palfinger', 'palace-2', 'paints', 'painting', 'paint-shop', 'paijat-hame', 'pagamentos', 'pad', 'packs', 'packets', 'packages', 'pack', 'paatela', 'p.', 'p-max', 'p-1', 'p+nrnits', 'p+cs', 'p+ayry', 'oyname', 'oxyview', 'oximeter', 'owner-engineer', 'owing', 'ovi', 'overweight.', 'oversupply', 'oversee', 'overseas', 'overproduction', 'overnight', 'overlapping', 'overhead', 'overcharging', 'overbought.', 'over', 'outperforms', 'outpacing', 'outotec.com', 'outflows', 'outdoors', 'outcome', 'out1v', 'out..', 'ouch', 'otto', 'ote1v', 'ostrom', 'oss', 'osmo', 'osmium', 'osakeyhti+a', 'osaka', 'ornav', 'oriola', 'origin', 'oriental', 'organisational', 'organically', 'ores', 'oregon', 'orchard', 'optimistically', 'optimism', 'optimising', 'optimisation', 'optiflex', 'opk', 'opinions', 'operatives', 'operated', 'op', 'ooo', 'ooks', 'onwards', 'onto', 'onemed', 'onemain', 'one.', 'one-year', 'one-tenth', 'one-stop-shop', 'one-offs', 'one-fifth', 'one-family', 'onboard', 'on-line', 'omnis', 'omitted', 'omena', 'olli', 'olkiluoto', 'olives', 'old-age', 'oksanen', 'okhta', 'oka', 'ojala-yhtyma', 'oi', 'often', 'offset', 'offerings', 'offer.', 'off.', 'off-the-shelf', 'ofcom', 'ofbodywhich', 'of2008', 'of..', 'oesk', 'oefirstalert', 'och', 'occurred', 'occupy', 'ocbc', 'obvious', 'observes', 'observations', 'oborniki', 'oblivion', 'oblast', 'oasis', 'nyseba', 'nwc', 'nv', 'nutritional', 'numerous', 'nuggets', 'ntt', 'ntc', 'nst', 'now..will', 'novotel', 'nov', 'noting', 'notification', 'noticeable', 'nothing', 'notable', 'not.', 'norwegian-registered', 'norvestia', 'northwestern', 'northland', 'northernmost', 'northeast', 'north-american', 'nortel', 'normark', 'normandy', 'normalises', 'nordalu', 'nord', 'noora', 'non-us', 'non-restricted', 'non-responsive', 'non-residential', 'non-profitable', 'non-profit', 'non-gmo', 'non-food', 'nominal', 'noma', 'nokia-branded', 'nok1v', 'noise', 'nod', 'noc', 'nm-list', 'nl', 'njastein', 'nivala', 'nitrogen', 'nitrates', 'nish', 'nine-year', 'nils-erik', 'nils', 'niklas', 'nike', 'niiininoski', 'night', 'niemi', 'nielsen', 'nicely', 'nice.', 'neya', 'next-generation', 'nexbtl', 'newswires', 'newswire', 'newsroom', 'newsmorrisons', 'newport', 'newly-formed', 'newly-completed', 'newfound', 'newest', 'neteller', 'netcom', 'netbooks', 'netact', 'net-work', 'nervous', 'nepal', 'neither', 'neighboring', 'negotiation', 'neeeeds', 'nears', 'nearby', 'near-shore', 'near-east', 'ncc', 'nbcuniversal', 'navigability', 'nav', 'nausea', 'naturalgas', 'natlabs', 'nationally', 'nation', 'nastola', 'narva', 'narrows', 'nand', 'nancheng', 'namely', 'nadu', 'nadarajah', 'n.v.', 'n.h.-gordon', 'n-viro', 'n-gage', 'n', 'myspace.com', 'myllyla', 'myllykoski+o', 'mylans', 'mylan', 'mwe', 'mustonen', 'musoma', 'museum', 'mursula', 'munich', 'multistorey', 'multiples', 'multiple', 'multichannel', 'multi-year', 'multi-window', 'multi-tools', 'multi-modal', 'multi-discipline', 'multi', 'mulls', 'mulling', 'muling', 'mukkavilli', 'mud', 'mt-year', 'mssb', 'mso', 'mpra', 'movement', 'move.will', 'move...', 'movantik', 'movable', 'mouth', 'mou', 'motorcyclists', 'motorcyclist', 'motor', 'motlanthe', 'motivate', 'moss', 'moskovia', 'mosenergosbytbody', 'mortgages', 'mortar', 'morris', 'morning.', 'moorits', 'mooring', 'moorestown', 'moody', 'mood', 'monster', 'monroe', 'mono', 'monitoring', 'mongolia', 'monday.', 'monate', 'molub-alloy', 'molten', 'mold', 'moisture', 'moisio', 'modules', 'modification', 'modeling', 'mobileid', 'mobile-inspired', 'mo', 'mnc', 'mms', 'mmo1v', 'mlnon', 'mln.', 'mln-1', 'ml', 'mkt', 'mizuho...', 'mix', 'mississippi', 'misses', 'missed', 'mismanagement', 'miracle.', 'miracle-gro', 'minute', 'mins', 'minor', 'ministerija', 'minimum', 'minimize', 'miniature', 'mines', 'minerals', 'mineral', 'mineracao', 'mind', 'millhouse', 'milk', 'milestone-based', 'milan', 'mikkonen', 'mikko', 'mikaapplication', 'midwest', 'mids', 'middle-east', 'mid-strength', 'mid-october', 'mid-france', 'mid-2009', 'microwaveable', 'microwave', 'micron', 'mich.', 'mhs', 'mg-kg', 'mformation', 'mezzanine', 'mettler-toledo', 'mets+nliitto', 'metropolitan', 'metrics', 'metric', 'meteorology', 'metals-zinc', 'messages', 'merkels', 'merisatama', 'meri-pori', 'mergers', 'merchants', 'merchandise', 'mentioned', 'men...', 'memory', 'memo', 'melting', 'meltdown.', 'meltdown', 'melody', 'melngailis', 'megawatts', 'megamart', 'megabytes', 'mega', 'meetings', 'meeting.', 'medvezhyegorsk', 'medium-sized', 'medium', 'mediterranean', 'medimmune', 'medically', 'mediaphones', 'mediacityuk', 'med', 'mechanisms', 'meat-packing', 'meanwhile', 'meantime', 'meaning', 'meals', 'mda', 'mcfarlane', 'mcc', 'mcalpine', 'mcafee', 'mc3090', 'mazzika', 'mayawas', 'maya', 'may.', 'maturing', 'mattila', 'mats', 'matkatoimisto', 'matinkyla', 'matador', 'mastercard', 'masterbulk', 'massive', 'maskinservice', 'marta', 'marshal', 'marriage', 'marko', 'markku', 'markka', 'markings', 'marketsshire', 'marketplaces', 'marketplace', 'marketed', 'market.', 'market-financed', 'market-based', 'markedly', 'marked', 'mark-to-market', 'maritim', 'marinated', 'marina', 'marilyn', 'marietta', 'marieholm', 'marchin', 'march.', 'mara', 'mapping', 'mantyharju', 'manty', 'manturovo', 'mantsala', 'mansner', 'manner', 'manned', 'manipulator', 'manipulation', 'manganese', 'mandate', 'mammila', 'maloney', 'maks', 'maker.', 'makeover', 'majors', 'mainz', 'maintains', 'maintaining', 'mainstream', 'mainor', 'maine', 'maija-liisa', 'maihaniemi', 'magnus', 'magnet', 'maggie', 'macrumors', 'macro-economic', 'macquarie', 'machinery-engineering', 'mac', 'maatta', 'maaseudun', 'maarten', 'm.a..', 'm-t', 'm-eur8', 'm+nkel+n', 'm+aglichkeit', 'm&s', 'm&g', 'm&a', 'lynn', 'lye', 'lxe', 'luxury', 'luxembourg-registered', 'luumaki', 'lutterworth', 'lure', 'lundberg', 'lundbeck', 'lunchtime', 'lump', 'lumberman', 'lule+n', 'lukkoexpert', 'lufthansa', 'lucky', 'lubricants', 'ltda', 'ltd-iivrcl', 'lse-deutsche', 'lsc', 'lp', 'lows..', 'lower...', 'lower.', 'low.', 'loving', 'loviisa', 'lousy', 'loudeye', 'lotus', 'lot...', 'loss.', 'losers', 'loooooongggggg', 'looms', 'lookout', 'looked', 'lonmin', 'longs...congrats...another', 'longs', 'longed', 'long.', 'long-established', 'london-based', 'lol.', 'logs', 'logistical', 'logistic', 'logical', 'locks', 'locked', 'lock', 'location-based', 'localisation', 'loaders', 'loader', 'load-bearing', 'lmt', 'lly', 'lkab', 'lizard', 'living', 'liquor', 'liquids', 'linking', 'linkedin', 'link', 'line.', 'lindsey', 'limits', 'limit', 'limestone', 'lilly', 'liljeholmen', 'likes', 'likely.', 'liising', 'lihatoostus', 'lightweight', 'lightning', 'lighting', 'lighter', 'lift.', 'lift-away', 'lietuvos', 'lies', 'lieksaare', 'liddell', 'licenses', 'license', 'licence', 'libyan', 'library', 'liabilities', 'lgpl', 'lgl', 'lg', 'lewis', 'leukaemia', 'lettable', 'lennon', 'lender', 'lemcon', 'lemann', 'leif', 'lei', 'lehtiyhtyma', 'lehdentekijat', 'legrand', 'legislative', 'leg', 'left', 'leed', 'leaseback', 'learn', 'leaps', 'leaning', 'lean', 'leaked', 'leak', 'leadership', 'lcs', 'layoffs', 'layoff', 'layers', 'layer', 'lay-off', 'laws', 'lawmakers', 'laut', 'laurence', 'latvenergo', 'lately.', 'latch', 'larsen', 'largely', 'lanxess', 'lansio', 'lansdown', 'languages', 'language', 'lanebrook', 'lands', 'lan2lan', 'lampokasittely', 'lamp', 'lake', 'laitinen', 'lahtinen', 'lahden', 'lagardere', 'lafarge', 'lack', 'labs', 'laavainen', 'laasanen', 'laamanen', 'l.p.', 'l+nnsi-kalkkuna', 'l+nhivakuutus', 'l+nhikauppa', 'l&g', 'kyroskoski', 'kymi', 'kylas', 'kyivstar', 'kw', 'kveyt', 'kustannus', 'kurt', 'kuopio', 'kroner', 'krona', 'krogerus', 'krister', 'krishna', 'kraski', 'kraft-heinz', 'kotka', 'kotikokki', 'kostiainen', 'kostenlos', 'korpinen', 'korea-based', 'kopijyva', 'kontturi', 'kong-listed', 'kolkhoznitsa', 'koivisto', 'koistinen', 'kohtam+nki', 'koff', 'koduextra', 'knowledge-intensive', 'knowledge-based', 'knowhow', 'knight', 'klo', 'kiruna', 'kirst', 'kirsi', 'kirkkonummi', 'kiran', 'kings', 'kinds', 'kindle', 'kinder', 'kimmo', 'kilos', 'kilograms', 'kiilto', 'kids', 'kick', 'khanty-mansi', 'kft', 'keywords', 'keylogging', 'keyloggers', 'kershaw', 'kept', 'kenneth', 'kengeter', 'kemian', 'kellokoski', 'keith', 'keeping', 'kdg', 'kci', 'kazakh', 'kaupunkin', 'kaupunki', 'kauno', 'kaunisvaara', 'kauniskangas', 'kaukomarkkinat', 'kauhajoki', 'kaspersky', 'kasei', 'karputer', 'kariniemi', 'karhu', 'karelia', 'karczewicz', 'karara', 'karachi', 'kapuli', 'kapthing', 'kantar', 'kansas', 'kangasala', 'kaluga', 'kalnapilis-tauras', 'kalnapilio-tauro', 'kallio', 'kalinisky', 'kaleva', 'kalajoki', 'kaivo-oja', 'kaaja', 'k.r.', 'k+s', 'justin', 'justifies', 'justified', 'just-food', 'just-drinks', 'jury', 'juri', 'junction', 'juergen', 'judgement', 'judge', 'jsco', 'jsc', 'jpmorgans', 'jpmorgan', 'journal', 'jot', 'jortikka', 'jorma', 'jorgen', 'jon', 'joined', 'johanna', 'johan', 'joe', 'jiang', 'jets', 'jeopardy', 'jensen', 'jeffries', 'jefferies', 'jeder', 'jarvinen', 'jarvenpaa', 'jaroszowka', 'january-may', 'january-august', 'janno', 'janis', 'jams', 'james', 'jalo', 'jackson', 'jacket', 'j.', 'j+nrvi-suomen', 'j+nrvi', 'ivrcl', 'ivory', 'ivan', 'itkonen', 'itg', 'iterating', 'itella', 'italahdenkatu', 'issue.', 'isoprene', 'islands-based', 'ish.', 'ise', 'is.', 'irregularities', 'iron-making', 'iraq', 'ir', 'iptv', 'involve', 'invitations', 'invitation', 'investrend', 'investlesprom', 'investigate', 'inverted', 'inverse', 'inventor', 'invenergy', 'invalidated', 'intuitive', 'introduction', 'introducing', 'introduces', 'intravenously', 'intouch', 'interview', 'intertek', 'intersection', 'internet-type', 'internals', 'intermittently', 'intermediate', 'interiors', 'interims', 'interference', 'interest.', 'interest-bearing', 'interdigital', 'intercontinental', 'interconnection', 'interconnected', 'interchange', 'interbank', 'interbancaria', 'interavanti', 'inter-holding', 'inter', 'intentions', 'intensive', 'intensity', 'intensifying', 'intend', 'intelligent', 'intellibis', 'intellectual', 'intangible', 'intake', 'intactevenif', 'insurers', 'instill', 'insteel', 'instead', 'instance', 'installations', 'inspects', 'inspectorate', 'inspections', 'inspected', 'insights', 'insight', 'insiders', 'inrikes', 'inregard', 'input', 'inovio', 'inorganic', 'innovator', 'innovations', 'inks', 'inkinen', 'inked', 'ink', 'injury', 'injection', 'initiative', 'inha', 'ingredients', 'ingredient', 'ingerois', 'ingen', 'inge', 'inga', 'infusion', 'infringement.', 'infrastructures', 'infotainment', 'inform', 'info', 'inflation', 'inflatable', 'infection', 'infected', 'ineta', 'industry-leading', 'industriekapital', 'industrialsql', 'industrialisation', 'indosat', 'indital', 'indigo', 'indicating', 'index.', 'independently', 'indebtedness', 'increasingly', 'incorporates', 'incorporate', 'incl', 'incident', 'inches', 'inaugurating', 'inaugurates', 'inaugural', 'in-vehicle', 'in-line', 'imsm', 'impressed', 'impress', 'implies', 'implements', 'impacting', 'immersive', 'imaging', 'ils', 'illegal', 'ilim', 'iisalmi', 'iii', 'ii-iii', 'ignored', 'ignore', 'ignatius', 'if', 'idrisov', 'identifying', 'identify', 'identified', 'identification', 'ideal', 'icy', 'iconic', 'icoa', 'icelandair', 'iceland', 'iag', 'ia', 'i.e.', 'i.', 'i-print', 'i-grid', 'i-15', 'i&h', 'hyvinkaa', 'hyundai', 'hyun-chang', 'hydrocopper', 'hydrocarbons', 'hydrocarbon', 'hydro', 'hydraulics', 'hutchison', 'husqvarna', 'hurting', 'hurt', 'hurdles', 'hundreds', 'hun', 'humans', 'huhtam+nki', 'hu', 'httpstks.coyye', 'httpstks.coxyf', 'httpstks.cotmu', 'httpstks.cotju', 'httpstks.cotcse', 'httpstks.cot1qp6', 'httpstks.cot0vel', 'httpstks.cot0tah', 'httpstks.cos052z', 'httpstks.cor2f3h', 'httpstks.cor26ra', 'httpstks.cor1j6c', 'httpstks.cor12us', 'httpstks.cor0kkm', 'httpstks.cor0ebn', 'httpstks.cor0cet', 'httpstks.coqzzx', 'httpstks.coqsal', 'httpstks.coq1jau', 'httpstks.cop27hz', 'httpstks.cop1v6p', 'httpstks.cop12qy', 'httpstks.coo9ny', 'httpstks.coo0xy', 'httpstks.confei', 'httpstks.cojrmw', 'httpstks.cojr8', 'httpstks.cojq0w', 'httpstks.cojkuf', 'httpstks.coj2awg', 'httpstks.coj1tdf', 'httpstks.coj1qt6', 'httpstks.coj0q9t', 'httpstks.coj05uu', 'httpstks.coir2f', 'httpstks.coipvj', 'httpstks.coi9t3', 'httpstks.coi2cj1', 'httpstks.coi0ggh', 'httpstks.coh0vv8', 'httpstks.cogoan', 'httpstks.coghjc', 'httpstks.cog3a1', 'httpstks.cog1t7c', 'httpstks.cog1f4t', 'httpstks.cog1cqd', 'httpstks.cog0ls5', 'httpstks.cofyco', 'httpstks.cofdmm', 'httpstks.cof2fgj', 'httpstks.cof26r4', 'httpstks.coexvu', 'httpstks.coeovw', 'httpstks.coe0px1', 'httpstks.coe0dfp', 'httpstks.codl1z', 'httpstks.codedm', 'httpstks.cod27qx', 'httpstks.cod0rhf', 'httpstks.cocetw', 'httpstks.coc29nu', 'httpstks.coc1ols', 'httpstks.coc1ivx', 'httpstks.coc0su4', 'httpstks.coboh4', 'httpstks.cob1svh', 'httpstks.cob1kd8', 'httpstks.coaw6z', 'httpstks.coaktu', 'httpstks.coadpo', 'httpstks.co3qta', 'httpstks.co3ffn', 'httpstks.co3eil', 'httpstks.co3eik', 'httpstks.co2trg', 'httpstks.co24km', 'httpstks.co1mir', 'httpstks.co1lpz', 'httpstks.co1kkk', 'httpstks.co1kj9', 'httpstks.co1bue', 'httpstks.co1agn', 'httpstks.co163e', 'httpstks.co15ur', 'httpstks.co15nv', 'httpstks.co13mw', 'httpst.cozwhthsvfsf', 'httpst.cozmdg0fb3i7', 'httpst.coz8g5czakeu', 'httpst.coz1qb9xa4ld', 'httpst.coyejus9cmlc', 'httpst.coycnclcbimv', 'httpst.coxvn4bliwpy', 'httpst.coxk6lz3ui3k', 'httpst.coxfnicwebeg', 'httpst.coxdgraexkkz', 'httpst.coxcngws0t4q', 'httpst.cowmy1pnomjf', 'httpst.covvpzqcxsnj', 'httpst.covt7ppzy2uy', 'httpst.covm32d3m9xi', 'httpst.covkydwpxesn', 'httpst.covahhjacbfg', 'httpst.cov7lkq08flp', 'httpst.couvmmrsr5zy', 'httpst.couoe7fj4lop', 'httpst.cottm9rnfoxj', 'httpst.cotqmmt7n16x', 'httpst.cotohleq8fk6', 'httpst.cotjjvpqhhqd', 'httpst.cothfvwtnrps', 'httpst.cotajf0ch2qh', 'httpst.cot0dn02eoh5', 'httpst.cosx3z7u6n8o', 'httpst.cosedqrwgdkt', 'httpst.cosabxcsn8cd', 'httpst.coquysrqfo2x', 'httpst.coqbsowjxost', 'httpst.cooktcw4yib5', 'httpst.coodpran59xq', 'httpst.cooa0loirijl', 'httpst.coo4lwcdxmbr', 'httpst.conxlx1es7ny', 'httpst.conpakc3u6gs', 'httpst.conlczawdohp', 'httpst.con8x8bplj1e', 'httpst.comrbgfdhhva', 'httpst.compylireqjh', 'httpst.comk7memtadt', 'httpst.comhobzu3rmx', 'httpst.com6bkhbkzk5', 'httpst.colxx66tknfh', 'httpst.colsahepdqhd', 'httpst.colkld9mvkbq', 'httpst.coljnxpevhzn', 'httpst.colgu0ybxeze', 'httpst.cokpbbcgq2xy', 'httpst.cojvxq4doxnp', 'httpst.cojspuszo6na', 'httpst.cojndphllzq5', 'httpst.cojnb4c9vdcu', 'httpst.cojlgrprr54k', 'httpst.cojeplmzqkgw', 'httpst.cojdnzxdcmkl', 'httpst.coj5jvji9bia', 'httpst.coj3uhts022m', 'httpst.coj35fnnx744', 'httpst.coiy4lcugabc', 'httpst.coiuzjelfwt3', 'httpst.coirid6zd5gc', 'httpst.cohz0wdp5za1', 'httpst.cohmoegfhgvn', 'httpst.cohfklq3wobv', 'httpst.coh9vqxpz15g', 'httpst.coh5hmxsitwm', 'httpst.cogy0adb2jsq', 'httpst.cogprz2ujfc4', 'httpst.coggne4ayzqn', 'httpst.cofpfbytypuy', 'httpst.coeqqltfuiou', 'httpst.coea4fbvuqgp', 'httpst.codr5banun2u', 'httpst.codqfuzozylh', 'httpst.coczhix3tuag', 'httpst.cocvkojk05xn', 'httpst.coc72llmpinm', 'httpst.cobmvhcrwrea', 'httpst.cobgvintk43h', 'httpst.cob7izya4bue', 'httpst.co9xg5w8nont', 'httpst.co9imlxz4yna', 'httpst.co9bj3csk2i9', 'httpst.co8z7bkvstl9', 'httpst.co8vxfuuit04', 'httpst.co7j0gwz89zc', 'httpst.co76dsjysyr0', 'httpst.co6nkwecrba5', 'httpst.co6l3m1wxchw', 'httpst.co5qxbkobphe', 'httpst.co5pr4cbtvvy', 'httpst.co58teaexxpe', 'httpst.co4hboudr8b8', 'httpst.co3vxt7amnpk', 'httpst.co3bdnekn7l1', 'httpst.co2wqqh35koy', 'httpst.co24hqtqx4ou', 'httpchart.lyml857v3', 'httpchart.lylha44tn', 'httpchart.lylgb94rr', 'httpchart.ly7xb9h9b', 'httpchart.ly6nosp5q', 'hss', 'hspa', 'how', 'hover', 'housebuilder', 'hourly', 'hosting', 'host', 'hospitals', 'hospitalized', 'horrible', 'horizonte', 'horizontal', 'horizon', 'hopes', 'hoped', 'hooked', 'honored', 'honolulu', 'honkajoki', 'hongmei', 'homeware', 'homepage', 'homeowners', 'home-based', 'home-base', 'holy', 'holidays', 'holcim', 'hoist', 'hod.', 'hmi', 'historian', 'his', 'hiring', 'hired', 'hire', 'hintikka', 'hilton', 'hillshire', 'hiidenheimo', 'highrises', 'highest', 'higher.', 'higher-than-expected', 'high.', 'high-tech', 'high-power', 'high-performance', 'high-growth', 'hienonen', 'hfc', 'hevea', 'hervy', 'here.long', 'here...sold', 'here...', 'here..', 'her', 'hepatitis', 'henry', 'henrik', 'henning', 'hence', 'hemphill', 'helsinki-based', 'helsingin', 'helps', 'helped', 'helmets', 'hello', 'helir-valdor', 'helander', 'heindlmeyer', 'heights', 'height', 'heed', 'hedging', 'hedge.', 'heavy', 'heavily', 'heats', 'heatmasters', 'heathrow', 'heated', 'heat-retaining', 'heartburn', 'hearst', 'heard', 'hear', 'healthier', 'health', 'headquarter', 'headed', 'head-winds....bullish', 'having', 'hautaniemi', 'hauling', 'hattersley', 'hathaways', 'hathaway', 'hastings', 'hassinen', 'hassela', 'has80', 'harvesters', 'harvester', 'harrison', 'harri', 'harkonen', 'hargreaves', 'hardest', 'hard...', 'harbour', 'harbor', 'harald', 'happens', 'happening', 'hansen', 'hans-otto', 'hanoi', 'hanninen', 'hanna', 'hanko-mantsala-porvoo', 'hankkija-maatalous', 'hangin', 'hangasjarvi', 'hands', 'handout', 'handles', 'handlers', 'handler', 'handled', 'hampshire', 'hampden', 'hammer.', 'hammer', 'hameenlinna', 'hamburg', 'halonen', 'half-a-hair', 'haiti', 'hails', 'haikarainen', 'haha.', 'hacking', 'hackers', 'haavisto', 'haapakoski', 'haakon', 'h+nkan', 'gypsii-powered', 'gw', 'gustav', 'gunneflo', 'guinea-based', 'guinea', 'guides', 'guided', 'guder', 'guard', 'guaranteed', 'guac.', 'gs', 'gruppen', 'grupe', 'ground-breaking', 'grocery', 'grieg', 'greensmith', 'greene', 'gratuitous', 'grappling', 'grapevine', 'grannan', 'grading', 'grabbing', 'governemtn', 'governed', 'good..i', 'good.', 'gogol', 'goals', 'glut', 'globe', 'glisten', 'gleneagles', 'glaxosmithklines', 'glassfiber', 'glasses', 'glasgow', 'gkn', 'girders', 'gill', 'gilead', 'gilchrist', 'ghg', 'gettin', 'getinge', 'geosolutions', 'geometric', 'geographies', 'geographic', 'geo1v', 'genvec', 'geneva', 'generic', 'generators', 'generate', 'generals', 'generally', 'gemalto', 'geenrated', 'gdp', 'gdf', 'gbx10', 'gazprom-she', 'gavin', 'gather', 'gatehouse', 'gate', 'gasconversions', 'gasco', 'gartner', 'garner', 'gardner', 'gardening', 'garage', 'gapping', 'gaming', 'gambling', 'galvan', 'gainsadvances', 'gains.', 'gainers', 'gain.', 'ga.', 'g2', 'g.o.l.d.', 'g.o.l.d', 'g++nter', 'fzc', 'futures', 'future.', 'fusing', 'furusund', 'further.', 'furnace', 'furlough', 'funny', 'funded', 'fundamentals', 'fundam.', 'functionalities', 'fun', 'full-function', 'fulfillment', 'fulfill', 'fulfil', 'fujairah', 'fuelling', 'ftth', 'ftc.....nobody', 'fruit', 'frolov', 'froh', 'frn', 'friman', 'friedlander', 'fridays', 'frequent', 'frequencies', 'fremantlemedia', 'freighters', 'frei', 'fredrik', 'fray', 'francisco', 'franchising', 'franc', 'framing', 'fragmented', 'fourth-quarter', 'four-door', 'foundries', 'founders', 'founder', 'foul', 'forwards', 'forwarding', 'forwarders', 'forums', 'fortune', 'forming', 'formal', 'forging', 'forever.', 'forever', 'forestries', 'forestal', 'foremost', 'ford', 'forces', 'forced', 'foothold', 'follum', 'follows', 'follow-on', 'folded', 'fokker', 'focused', 'fo', 'flykt', 'flying', 'flurry', 'florida', 'floors', 'flooring', 'floorball', 'flock', 'flexibly', 'flexiblebaseloadoperation', 'flat..i', 'flagging', 'flagged', 'fki', 'fixing', 'fixed-to-mobile', 'fix', 'five-storey', 'fitzgerald', 'fits', 'firstquarter', 'firstalert', 'first-quarter', 'finnish-owned', 'finnish-made', 'finnish-german', 'finnfund', 'finnegans', 'finncomm', 'finlan', 'finishing', 'finished', 'fingers', 'finger-friendly', 'finfiz', 'findings', 'finding', 'findest', 'finbow', 'financial-', 'finalize', 'finale', 'fim', 'filtrates', 'fill', 'filipino', 'filing', 'files', 'filed', 'fierce', 'fibre-coaxial', 'fiber-based', 'fia1s', 'ferro-chrome', 'ferguson', 'fenestra', 'femto', 'felled', 'feet', 'feeling', 'feel', 'feedstock', 'feedschroders', 'feeders', 'feeder-supply', 'feedback', 'feds', 'february.', 'features', 'featured', 'feasible', 'fcu', 'fcc', 'favours', 'favors', 'favorite', 'faulty', 'fastest', 'fasten', 'farms', 'farmer', 'farm', 'fantuzzi', 'false', 'fallers', 'fallen.', 'fakeout', 'failure', 'fails', 'failings', 'fail', 'fade', 'faculty', 'factored', 'fact', 'facing', 'facilities...keeping', 'fabrics', 'fabric', 'fab', 'f', 'eyes', 'eyeing', 'eye', 'exxonmobil', 'extraction', 'extracted', 'extract', 'external', 'exterior', 'extended-hours', 'extend', 'expressly', 'expression', 'expressed', 'express', 'exporters', 'explosive', 'exploring', 'explores', 'exploration', 'expiry', 'expiring', 'expires', 'expired', 'expire', 'expiration', 'experimenting', 'experiencing', 'expected...', 'expect', 'expandable', 'exits', 'exit.', 'exist', 'exert', 'exercise', 'execution', 'execute', 'excuse', 'exclusive-bp', 'exchanges', 'excessive', 'except', 'excellently', 'excellence', 'exceeded', 'exas', 'examines', 'exactly', 'exact', 'ex-sec', 'ex-centrica', 'evil', 'evidentiary', 'everyday....which', 'everyday', 'everest', 'eventim', 'evening', 'evasion', 'evaluating', 'evacuate', 'ev3', 'ev', 'european-wide', 'eurobond', 'euro603', 'euro300', 'euro3', 'euro18', 'euro172', 'euro1', 'euro0', 'eur98m', 'eur97m', 'eur94m', 'eur93', 'eur900', 'eur860m', 'eur8', 'eur76m', 'eur74', 'eur732m', 'eur700', 'eur6m', 'eur683', 'eur65m', 'eur65', 'eur64', 'eur63', 'eur61m', 'eur609m', 'eur59', 'eur58m', 'eur55', 'eur510m', 'eur47', 'eur46', 'eur43', 'eur42m', 'eur42', 'eur41m', 'eur416', 'eur415', 'eur400m', 'eur39m', 'eur386', 'eur38', 'eur36m', 'eur360', 'eur35', 'eur33m', 'eur32', 'eur300', 'eur30', 'eur2m', 'eur29m', 'eur29', 'eur28', 'eur27m', 'eur26', 'eur250m', 'eur25', 'eur235', 'eur230', 'eur22', 'eur21', 'eur201', 'eur196', 'eur193', 'eur179', 'eur17', 'eur16m', 'eur167', 'eur16', 'eur159', 'eur156', 'eur152', 'eur15-20m', 'eur143', 'eur14', 'eur131m', 'eur12m', 'eur127', 'eur125', 'eur121m', 'eur120m', 'eur11m', 'eur1149', 'eur111', 'eur108', 'eur0.9-1', 'eukor', 'eua', 'eu-based', 'etth', 'ethernet', 'etc.', 'estimations', 'estimates.', 'establishment', 'establishing', 'establishes', 'essential', 'essent', 'essence', 'essar', 'espoon', 'espn', 'espana', 'esko', 'eseries', 'es', 'ervio', 'ers', 'errors', 'erp', 'eriksson', 'eriikka', 'ericsson', 'erh+nlt', 'ergonomic', 'erection', 'ercs', 'erases', 'equivalents', 'equity-backed', 'equilibrium', 'equaling', 'equal-weight', 'equal', 'eq', 'envisages', 'envisaged', 'enuff', 'entreprenor', 'entreprenad', 'entitles', 'entitlements', 'entitlement', 'entitle', 'entice', 'enters', 'enterprises', 'ent.', 'ensuring', 'ennismore', 'enhances', 'enhanced', 'england', 'engineers', 'engagement', 'engadget', 'enexis', 'energy-efficient', 'enefit-280', 'enefit', 'endowment', 'end.', 'end-of-day', 'end-august', 'encompassing', 'en', 'emtn', 'emsa', 'empty.', 'empty', 'employers', 'employer-employee', 'employer', 'emphasises', 'emmy', 'emission', 'emirates', 'emirate', 'emi', 'emerging-markets', 'emergency', 'embroiled', 'emailed', 'elsewhere', 'else', 'elqav', 'eloholma', 'elite', 'eligible', 'eli', 'elevator', 'eletric', 'element', 'elektros', 'electrically', 'electric', 'eklund', 'eiof', 'eighteen', 'eight-fold', 'eight-day', 'eigener', 'eidesvik', 'ei', 'egyptian', 'egm', 'egeszsegbolt', 'egan', 'efo1v', 'efforts', 'effort', 'effluent', 'effects', 'effectiveness', 'effectively', 'editors-in-chief', 'editor-in-chief', 'edita', 'economics', 'eco-friendly', 'eco-efficient', 'eclipse', 'ebusiness', 'ebitis', 'eataly', 'easy', 'earns', 'earnings..lots', 'earnings...', 'earnings-related', 'early.', 'eads', 'e71', 'e7', 'e63', 'e50', 'e45', 'e300', 'e20', 'e-one', 'e-mails', 'e-invoice', 'e-commerce', 'e-bay', 'dynamics', 'dynamic', 'dyes', 'dyed', 'dwt', 'duration', 'duo', 'dumps', 'dumping...', 'dulai', 'dukat', 'dubna', 'dual-fuel', 'du', 'dt', 'dry', 'drugmaker', 'drought', 'dropping', 'drop..', 'drop.', 'drinks', 'drinking', 'drillisch', 'dried', 'drawn', 'drawing', 'draught', 'dramatic', 'drainage', 'drags', 'dragging', 'drafted', 'downstream', 'downside.', 'download', 'downgrades', 'downgrade..', 'down-sizing', 'dovre', 'doubts', 'doubles', 'double-digit', 'double-deck', 'double-checked', 'dosing', 'dose', 'dos', 'dormus', 'doors', 'door', 'doomed', 'doom', 'done.', 'done', 'donations', 'donation', 'donate', 'dominated', 'dominance', 'domestically', 'domain', 'dok', 'dojis', 'dohle', 'does', 'doering', 'docomo', 'dna-based', 'dna', 'dmasia-16', 'dji', 'dj', 'divide', 'divest', 'diversify', 'divergence', 'dive', 'disturbing', 'distributors', 'distributions', 'distributes', 'distinguished', 'distinctly', 'distinct', 'distant', 'dissolved', 'dissolve', 'disposal', 'displays', 'disorder', 'dismisses', 'disease-specific', 'discussions', 'discuss', 'discounters', 'discounted', 'discount', 'discontinue', 'disclosure', 'disclosing', 'discloses', 'disclaims', 'disappoints', 'disappeared', 'disagreement', 'dirk', 'direction', 'dipping', 'dip..', 'dip.', 'dioxide', 'dinner', 'dinmukhamet', 'dinh', 'diminished', 'diligence', 'digs', 'digitalmediaasia.com', 'diffuse', 'difficulties', 'differs', 'differentiate', 'difference', 'diego', 'dictated', 'diapol', 'diamond', 'diameter', 'dialog', 'dexploitation', 'developments', 'devaluation', 'determine', 'detector', 'detection', 'detect', 'detailing', 'detailed', 'det', 'destroyed', 'designing', 'designer', 'designated', 'design-talo', 'desalination', 'derogating', 'deriving', 'derived', 'deregulatory', 'depth', 'depresses', 'depots', 'depot', 'depository', 'depositary', 'deploy', 'depends', 'depending', 'depend', 'denver', 'dent', 'denied', 'den', 'demonstrations', 'demonstrating', 'demonstrates', 'demonstrated', 'demerger', 'demanded', 'delta', 'delisted', 'delight', 'delhaize', 'delay', 'degeneration', 'definitely', 'defined', 'defences', 'deere', 'deepwater', 'deep', 'deducted', 'declares', 'decker', 'deck', 'decisions', 'decent', 'dean', 'dealmakers', 'dealership', 'deal...', 'deadline', 'de-inking', 'ddd', 'dcuc', 'dc', 'db', 'day.', 'daxtum', 'davies', 'david', 'dave', 'daughters', 'dates', 'database', 'dash', 'darts', 'darn', 'dark', 'damaged', 'dallas-city', 'dairy', 'daiichi', 'dahlstr+am', 'czechrepublic', 'cymed', 'cyclone', 'cybercom', 'cxe', 'cw', 'cv', 'cut-to-length', 'customized', 'custom', 'custody', 'cushion', 'curbed', 'cup-and-handle', 'cup', 'cumulative', 'cumerio', 'culture', 'cul-de-sac', 'cts', 'cto', 'cses', 'cry', 'crushing', 'crushed', 'crunching', 'crude', 'crowns', 'crown', 'crosstown', 'crossovers', 'crossover', 'crossed', 'cross-country', 'critics', 'criticising', 'critch', 'crhs', 'crews', 'crew', 'crest', 'creme', 'creep', 'creditor', 'crecent', 'creativity', 'creation', 'cramers', 'craft', 'cracking', 'cr', 'cps', 'cph', 'coverage', 'courtship', 'courthouse', 'coupled', 'counterpart', 'countdown', 'costanza', 'cosco', 'corroborate', 'corrensponds', 'corrected', 'corners', 'cornering', 'copyright', 'copying', 'copy', 'coordinate', 'cooperating', 'cooperate', 'cooper', 'cooling', 'cool', 'coo', 'conveying', 'converting', 'converters', 'converter', 'converted', 'convert', 'conversions', 'conversion', 'converged', 'convenient', 'convenience', 'contribution', 'contributed', 'contractors', 'contractor', 'continuous', 'continually', 'contest', 'contents', 'contain', 'consumer-customers', 'consultant', 'consulate', 'constructor', 'constructive', 'constitutes', 'constantly', 'consolidating', 'consolidates', 'consolidate', 'consist', 'consider', 'consequence', 'consent', 'connolly', 'connector', 'connecting', 'connected', 'confirms', 'configuration', 'confident', 'confidence.', 'conducting', 'condominiums', 'conditioning', 'concludes', 'concluded', 'concerns', 'concentrated', 'conagra', 'comtex', 'computer-related', 'compulsory', 'compressors', 'compression', 'compnay', 'comply', 'compliance', 'complements', 'complement', 'competitors', 'competencies', 'compete', 'compensated', 'compatriot', 'compatible', 'compasses', 'comparisons', 'comparatives', 'comparative', 'companys', 'company+oeur', 'companiesnew', 'companieslse', 'companieskingfisher', 'companieshoward', 'companiesfresnillo', 'companiesdixons', 'companiesdiageo', 'companiescar', 'companiesandmarkets.com', 'companiesactelion', 'companiesab', 'common', 'commodity', 'committees', 'commitments', 'commiting', 'commissioner', 'commissioned', 'commerzbank', 'commercially-funded', 'commercialise', 'commenting', 'coming.', 'comfortably', 'comfort', 'comcasts', 'com-panies', 'com', 'columbia', 'colorful', 'collins', 'collated', 'collaborative', 'collaborate', 'cola', 'coincident', 'code-named', 'cocktail', 'cockroft', 'coca', 'coating', 'coat', 'coasters', 'coagulant', 'co-owner', 'co-arranger', 'cnpc', 'cnp...closed', 'cnbc.', 'cmon', 'clubcard', 'closures', 'closng', 'closes.', 'close.', 'close-down', 'climbers', 'climbed', 'cliffton', 'cliff', 'clientele', 'clicking', 'clerical', 'clears', 'clausen', 'classroom', 'classified', 'cjsc', 'citrix', 'citing', 'cision', 'circuits', 'circle', 'cip', 'cido', 'ciders', 'cidco', 'cib', 'churned', 'chs', 'chrome', 'chose', 'chore', 'chit', 'chirnside', 'chips', 'chime', 'chilled', 'chile', 'child', 'chikunov', 'chiefs', 'chicago-based', 'chicago', 'chic', 'chevron', 'chennai', 'chelyabinsk', 'cheerful', 'cheer', 'checkpoint', 'cheaper', 'cheap', 'chaudhuri', 'chassis', 'chasing', 'chases', 'charters', 'chartereds', 'charter', 'charlotte', 'chargz', 'characteristics', 'chapter', 'changshu', 'changed', 'chambersburg', 'chambers', 'challenges', 'challenge', 'challendge', 'chains', 'cgcbv', 'cfsb', 'cfr', 'cf2', 'cet', 'cerner', 'ceramics', 'centrica', 'centimeters', 'celulose', 'celtnieciba', 'cells', 'cellphone', 'cee', 'ce-ivd', 'cdp', 'cc', 'cbd', 'cayman', 'caverion', 'cautiously', 'cautions', 'cathode', 'caterpillar', 'catering', 'categorically', 'catalyst.', 'casualty', 'castings', 'castecka', 'casper', 'cash.', 'cases', 'case-us', 'cartons', 'cars.', 'carrots', 'carphones', 'carpark', 'carolina', 'carnival', 'carmaker', 'careful.', 'career', 'care', 'cardona', 'cardiovascular', 'card', 'carbon', 'car-shipping', 'capturing', 'captures', 'capitex', 'capcom', 'canvas', 'canned-preserved', 'candlestick', 'candle', 'candidates', 'canadian', 'canadas', 'campbell', 'camera', 'cameco', 'camara', 'calling', 'caller', 'calif.', 'calibrate', 'calendar', 'calculates', 'calculate', 'calciners', 'calafate', 'cakes', 'cairn', 'cadburys', 'cadbury', 'cad', 'cachet', 'cabot', 'cables', 'ca', 'bypasses', 'bylander', 'buyers', 'buybacks', 'buyback', 'buy.price', 'business.', 'business-to-business', 'business-class', 'burt', 'burrill', 'burgers', 'burberry', 'buoyed', 'bunny', 'bumpy', 'bumping', 'bulgaria', 'bukoba', 'builder', 'buffett', 'buckeye', 'btt-1023', 'bto', 'browsing', 'browse', 'brother', 'broking', 'brokers', 'brokerage', 'broken.', 'broken', 'broader', 'broadcasters', 'broadcast', 'broad-based', 'broad', 'brno', 'britvic', 'brista', 'brisker', 'brisk', 'brinkab', 'bright', 'briefing', 'brief-legal', 'bridges', 'bricks-and-mortar', 'brick', 'bribery', 'brewing', 'brewers', 'breeze', 'breather.', 'breath', 'brealout', 'breakingviews', 'breakdown', 'break-even', 'breached', 'bratsk', 'bratislava', 'brasiliensis', 'branding', 'brand+uo', 'braking', 'bracing', 'bps', 'bphs', 'boycotting', 'bower', 'bovine', 'boute', 'bout.', 'bouncing.', 'bounce.', 'bottoming', 'bottled', 'bottle', 'boston', 'bosss', 'bosse', 'boss', 'bosch-based', 'borrowing', 'borrower', 'borl+nnge', 'bored', 'borealis', 'bordeaux', 'boosting', 'boomeranger', 'boomerang', 'boomed', 'bookrunners', 'booked', 'boni', 'bollore', 'bohemia', 'boerse-lse', 'boerse', 'boeing', 'bodily', 'bod', 'boardroom', 'boardman', 'bnpp', 'blyk', 'bluewin', 'bluegills', 'bluebird', 'blue-collar', 'blows', 'blow', 'bloomberg', 'blood-oxygen', 'blood', 'blond', 'blocking', 'blip', 'blind-spots', 'blessing', 'blending', 'bleeding', 'blackberry', 'bjorn', 'bj+aright', 'bitter', 'bitmapped', 'bit', 'biscuit', 'birmingham', 'birch-branch', 'bioview', 'biotherapeutics', 'biopharmaceutical', 'biomass', 'biologicals', 'bioheapleaching', 'biofuels-based', 'biofuel-fired', 'bioethanol', 'bio', 'binge-eating', 'billions', 'billionaire', 'billion-pound', 'billion-plus', 'bill', 'bilfinger', 'biggies', 'bids', 'bicentenary', 'bias.', 'bias', 'bi-directionality', 'bi-directional', 'beverage', 'between', 'bets', 'beta-tester', 'bestseller', 'best-selling', 'best-in-class', 'best-in', 'besides', 'beside', 'bes10', 'bernhard', 'berling', 'bergvik', 'bentos', 'benelux', 'benefit', 'beneficiaries', 'beneficial', 'beneath', 'below.', 'belonging', 'belgian', 'beleaguered', 'beijing', 'behnaam', 'behalf', 'begins', 'beeinflussen', 'bedroom', 'becomes', 'beatty', 'beaten-down', 'bears', 'bearish.', 'beanie-type', 'bcs', 'bc', 'bbm', 'bbcn', 'bb.', 'bb', 'bawag', 'bavaria', 'battery', 'bathrooms', 'bat', 'bases', 'basement', 'basel', 'base-stations', 'barum', 'barstow', 'barrons', 'barrels', 'barrel', 'barleycorn', 'barley', 'barges', 'bargain-priced', 'barc', 'bao', 'banned', 'bankruptcy.', 'bank+o', 'bangkok', 'bangalore-based', 'bands', 'banco', 'baltica', 'ballast', 'balfour', 'baldauf', 'bakosch', 'bakery', 'baker', 'baird', 'bahr', 'bahia', 'bagdonas', 'bag', 'badly', 'backups', 'backdrop', 'baby', 'babies', 'b2c', 'b2b', 'b-cd', 'axis', 'awful', 'awareness', 'award-winning', 'avista', 'avesta', 'average.', 'avena', 'avc', 'availability', 'av-comparatives', 'autotank', 'autonomous', 'automatically', 'automates', 'automate', 'autocharts', 'authority', 'authorise', 'authorisations', 'austrian', 'australian', 'austin', 'aussage', 'aulasmaa', 'auditor', 'audience', 'audi', 'auburn', 'attributed', 'attracts', 'attractive', 'attention', 'attempts', 'attackers', 'attach', 'atomic', 'atom', 'atlas', 'at8', 'at&t', 'asx', 'astana', 'assurance', 'assume', 'associations', 'associate', 'assistants', 'assessing', 'aspiring', 'aspen', 'asokan', 'asmobile', 'asm', 'asks', 'aside', 'asia-pacific', 'ashutosh', 'asfaltti', 'ascs', 'arvo', 'arto', 'artists', 'arthritis', 'artemis', 'art1v', 'arrived', 'arrangers', 'arques', 'arokarhu', 'army', 'argentine', 'area...next', 'area.', 'archived', 'architecture', 'archicad', 'archestra', 'arbidans', 'arabized', 'arabian', 'arabia', 'apsaugos', 'approx', 'approvals', 'appreciation', 'appointments', 'applicant', 'applicable', 'appliance', 'apple-pear', 'appearing', 'appeal', 'apollo', 'apiece', 'apac', 'ap', 'aol', 'anything.', 'anyone', 'any', 'antwerp', 'anttila', 'ansa', 'announces', 'announcement.', 'anheuser-busch', 'angola', 'anglo', 'anglers', 'angeles-based', 'andy', 'andrius', 'andrew', 'andor', 'andhra', 'andalusia', 'anchors', 'anchored', 'anasmotet', 'analyzed', 'analysis...high', 'anal-yst', 'anaesthetics', 'amsterdam', 'ams', 'amplifiers', 'americas', 'amendment', 'amending', 'amended', 'ambulance', 'amber', 'amazons', 'alumina', 'altogether', 'altima', 'altia', 'alternatives', 'alternately', 'alteams', 'altaienergosbyt', 'altadis', 'already.', 'alpro', 'alpine', 'alphabet', 'allure', 'alloys', 'allowance', 'allonen', 'allocated', 'allan', 'all-stock', 'all-share', 'alise', 'alior', 'alike', 'algeria', 'alert', 'aleksandri', 'aldi', 'albums', 'alakoski', 'aladdin', 'ak', 'airvana', 'airtel', 'aiming', 'ailments', 'ailing', 'ahola', 'ahl1v', 'agriculture', 'agrees', 'agreeing', 'agj', 'aggreko', 'aggregator', 'agents', 'agent', 'age', 'again..', 'afternoon', 'after-sales', 'african', 'africaand', 'affordable', 'affects', 'affecting', 'afe1v', 'aeronautic', 'aero', 'adx', 'advisors', 'advise', 'advice', 'advertised', 'advantages', 'adopting', 'adobe', 'admiral', 'adjustments', 'adjustable', 'adjust', 'additionally', 'addiction', 'added.', 'adate', 'adanac', 'ad', 'activeness', 'actively', 'activating', 'actions', 'actelion', 'acs', 'acnielsen', 'ackman', 'achievement', 'achieved', 'ace', 'accuses', 'accumulating.', 'accumulated', 'accumulate', 'accordingly', 'accident', 'accepted', 'accelerated', 'absolut', 'abramovich', 'abramov', 'above.', 'above-mentioned', 'abov', 'aboavista', 'abidjan', 'aberration', 'abc', 'abbott', 'aazhang', 'aava', 'aaron', 'aaltonen', 'aaland', 'a330', 'a3.5bn', 'a250m', 'a22', 'a180m', 'a100m', 'a1', 'a.s.', 'a-rehu', 'a-b-c', '`painful', '[chart]', '[0625]', '[0623]', '@yahoo', '@vnoto74', '@vegastrader66', '@tsrandall', '@totalguru', '@tmtanalyst', '@thestreet', '@technik', '@street_insider', '@strattonite', '@stockoptionexpert', '@stockdemons', '@soullor', '@sharkbiotech', '@sharestocknews', '@rptl', '@renatta', '@rec_zakaria', '@pollux654321', '@pierrules', '@mugatushair', '@moteltan', '@kjepeneter', '@kbkiwi', '@ifhedieshedies', '@hopeturock', '@harmongreg', '@gakrum', '@fr0van', '@fallondpicks', '@dojiknows', '@dlerch', '@dasan', '@cnnbrk', '@chessnwine', '@catskillfishing', '@cash_cow', '@bvhealthcare', '@bullya', '@bullhorn334', '@brooklynbandit', '@brianwieser', '@binkster69', '@asdfllc.', '@alphatrends', '@allstarcharts', '@acinvestorblog', '@28.', '@21.80', '@1nvestor', '=^.^=', '99483', '9910', '99000', '99.889', '99.5', '970.8', '96.4', '96.3', '96', '953', '9526089', '9400', '94', '93.6', '93.5', '93.2', '92.6', '915', '911', '91.6', '91.5', '906.8', '901', '900m', '900000', '90.3', '9.79%', '9.48', '9.2', '9-mo', '9-2007', '8ma', '89.1', '89', '88500', '879.7', '873', '87', '86000', '8600', '86.936', '86', '85mn', '8561', '854mn', '85432.50', '85030', '850', '845000', '8427', '83.7', '83.4', '83.0', '825mn', '82.7', '82.2', '817198', '814', '81.9', '81.5', '81.1', '81', '80mn', '80565', '800dwt', '8000', '800', '80.8', '80.6', '8.9%', '8.8', '8.77', '8.67', '8.65', '8.30', '8.2', '8.1', '8.00', '8.0', '8-10', '8%', '792', '79000', '7900', '79%', '79', '7862685', '7854608', '781', '780', '775.5', '763mn', '760000', '76', '7597', '7400', '740', '74.3', '7365', '730mn', '730', '73.6', '72hrs', '720', '72.4', '718430', '710.3', '71.2', '70s', '70mn', '706', '70.3', '70.0', '7.75%', '7.74', '7.6', '7.5%', '7.44', '7.309', '7.26', '7.2.2007', '7.04', '7-year', '7-day', '7%', '696.4', '69', '686.5', '68.8', '68.77', '68.6', '68.3', '68.2', '67mn', '6753', '673.4', '670', '67.8', '67%', '666104', '664000', '66.5', '66', '65mn', '65200', '65003.34', '650', '65.9', '65.3', '645', '64299180', '64.4', '64', '6300', '630.91', '630', '63.5', '63', '627000', '626', '625', '623000', '62.3', '62.2', '617-a801-a6888', '614', '6131', '61.8%', '61', '605.0', '604', '600000', '6000', '600.3', '60.9', '60.8', '60-70', '6.8%', '6.55', '6.000', '6.0', '6-month', '5mn', '59367.00', '592.49', '59.8', '59.3', '587', '585us', '585236987', '58', '579000', '579.8', '5700', '57.7', '57.5', '57.1', '57', '56pc', '56955', '565mw', '561', '560', '56.57', '56.5', '56.49', '55.3', '544', '5401', '54.5', '54.3', '54.2', '54', '53mn', '534.3', '530..', '530', '53.1', '52week.', '529', '52556678.10', '52.7', '52.6', '52.1', '52...', '519', '51.2', '50sma', '50mn', '50mas', '50ma', '50dma', '50d', '505.4', '50000-60', '5000', '500$', '50.9', '50.1-percent', '50.', '50-day', '50%', '5.93', '5.77', '5.55', '5.19', '5.10', '5-year', '5-sabmiller', '5-barclays', '5-10', '4w', '4th', '4s', '4q', '4g', '4bn', '49200', '49.5', '49.14', '49.01', '49%', '486.969', '480.7', '48.36', '48.31', '48.3', '48.2', '48.012', '473.5', '4711.19', '47000', '470.0', '47.87', '47.59', '47.5', '47.4', '46763', '467', '465000', '462000', '460000', '460.8', '460', '46.5', '46.4', '46.22', '457.2', '457', '452', '450k', '45-tonne', '44million', '44767513.80', '4458000', '441.6', '44.8', '44.5', '44.4', '44.1', '43pc', '438.5', '4350', '432mn', '430000', '430', '43.80', '43.7', '43.6', '43.3', '423', '420000', '420', '42.71%', '42.6', '42.50', '42.5', '415000', '414.9', '414', '410', '409665891', '4060', '402', '401', '400mn', '40.5', '40.3', '40.04', '40%', '4.85', '4.7-per-cent', '4.628', '4.58', '4.44', '4.4', '4.33', '4.31', '4.2', '4.16', '4.15', '4.10', '4-britains', '4-5', '3k', '3c', '3bn', '39.5', '39.4', '39.3', '39', '385000', '384.0', '380', '38.85', '38.8', '38.7', '377000', '377', '371500', '370', '37.56', '37.3', '37.2', '37.1', '36m', '3687.15', '36780', '361.1', '360-degree', '360-380', '36.9', '36.5', '36.44', '36.3', '36%', '3588', '358706290.00', '355', '3539', '351', '350000', '35000', '350', '35.9', '35.8', '35.5', '35.2', '35%', '347', '34000', '340.4', '34.9', '34.2', '337.8', '337', '333', '330000', '3300', '33.9', '33.70', '33.5', '33.3', '320000', '320', '32.6-percent', '319000', '318000', '316', '311.4', '310', '31.3', '31.06', '30s', '30k', '30bn', '302', '30012009', '300.9', '30.80', '30.8', '30.5', '30.0', '30-year', '30-minute', '30%', '3.9', '3.81', '3.68', '3.398', '3.15', '3.11', '3-week', '3-ex-barclays', '3-auto', '2q', '2nd-quarter', '2g', '2bn', '299000', '299', '2982', '298', '292', '29045', '29035-foot', '29000', '2900', '29.8', '29.3', '281.4', '28.3', '28.02.2008', '27mn', '2760', '276.1', '275', '270', '27.8', '27.70', '27.6', '27.1', '2691', '2659', '262.1', '2610', '260000', '26000', '26.9', '26.7', '26.6', '26.2', '26.1', '26.03.2010', '25gsm', '2534.9', '253.2', '252.2', '2518.67', '251.0', '250000', '2500-passenger', '2500', '250.', '25.8', '25.75', '25.7', '25.56', '25.53--', '25.5', '25.18', '25.0', '25-45', '249000', '249.1', '246', '2455.1', '245', '243.39', '2424-kolnp-2008', '241.8', '241', '2400', '240', '24.8', '24.7', '24.62', '24.55.', '24.18', '24.00+', '24-hour', '24-48', '237.1', '23335', '232.9', '2310', '2300', '230', '23.74', '23.498', '23.4.2007', '23.4', '23.1', '23.0', '23%', '22us', '229', '220.5', '220', '22.9', '22.72', '22.53', '22.5', '22.3', '22.1', '217.4', '215000', '215.03', '213.1', '211.4', '21.4', '21.35', '21.20-30', '20mn-25mn', '20ma.', '20ema', '2094063', '205.20', '205', '2017', '2011-2015', '201.4', '200dma', '2009-2012', '2008-2010', '2008-09', '2007a', '2007.', '2006-tj', '2006-efore', '2006-benefon', '2006-2007', '2004b', '2004-2005', '2003-style', '2000000', '2000-2006', '200-ema', '20.80.', '20.76', '20.7', '20.6', '20%', '2.9%', '2.9', '2.83', '2.779', '2.71', '2.56', '2.5%', '2.48', '2.45', '2.4-inch', '2.38', '2.346', '2.3%', '2.24', '2.16', '2.0x', '2.', '2-year', '2-pricey', '2-2008', '1st', '1m6m', '1click', '1998-2006', '1995-2009', '1995-2006', '1994', '1989', '1987', '1985', '197mn', '19631', '196', '1954', '194556.48', '1944757-4', '19200-square', '192', '1910', '191', '190000', '1900', '190', '19.92', '19.6', '19.5', '19.46', '19.45', '19.3', '19.06.2007', '19-percent', '189.82', '189', '18321', '1830', '18000-square', '18000', '180', '18.89', '18.50', '18.5', '18.10', '18%', '17m', '175', '1740', '174', '172p', '172.6', '172', '170000', '17.56', '17.5', '17.38', '17.24', '168', '166', '165', '16474755', '16400', '1629000', '1625', '161256847', '160.4', '16.9', '16.66', '16.5', '16.12.2008', '16-06-2008publication', '15us', '15th..meh', '159.5', '159.2', '159', '157.', '1566', '1553', '154.1', '154.00', '152000', '152.4', '152.3', '152.2', '150k', '1500', '15.86', '15.8', '15.5', '15.35', '15.32', '15.0', '15.', '15-minute.', '15-20', '149.1', '148.78', '148.11', '14747084', '147', '146000', '145.8', '145.1', '1445', '1430', '1425.1', '142.3', '141mn', '1419', '1411', '1408', '140000', '14000', '1400', '140.2', '140.1', '14.8', '14.7', '14.1', '14.00', '14+', '139538.17', '138.4', '137.89', '137.3', '135.7', '135-gram', '135', '134', '13300', '1330', '133.4', '131000', '131.8', '131', '13000', '13.8', '13.7', '13.40', '13.4', '13.21', '129.4', '128538', '12800', '128', '1259.6', '124.77any', '123.82.', '123.40-', '122000', '122', '12167', '120000', '12.97', '12.9', '12.8', '12.51', '12.49', '12.4', '12.3', '12.11', '12-20', '119.86', '119', '118.0', '118', '117mn', '1173', '11720829', '116.6', '1155000', '115000', '114.40', '1138.84', '1132000', '113000', '112.4', '112.19', '1115000', '1112', '110s', '11000', '110.61', '11.84', '11.6', '11.45', '11.1', '11.07', '11.01.2008', '11.00', '11-13', '10th', '109mn', '1097000', '109000', '107600', '1070.6', '107', '1064.14', '106063320', '106.3', '105501850', '10500', '105.9', '105.8', '10435023', '104', '1032011', '103.4', '103.3', '102.8', '102.77.', '1019', '101.99', '101.0', '100mn-150mn', '100mn', '1007', '10000-odd', '100-millilitre', '100-120', '10.75', '10.6', '10.4', '10.30', '10.1', '10.012', '10.00', '10.', '10-year', '10-month', '10-day', '10-15mn', '1.98', '1.94', '1.76', '1.71', '1.68', '1.67', '1.66', '1.54.', '1.42', '1.41', '1.397', '1.27', '1.25', '1.20', '1.15', '1.14', '1.10', '1.08', '1.05', '1.03', '1.002', '1.', '1-sabmiller', '1-pearson', '1-nomura', '1-lloyds', '1-eu', '1-engineering', '1-dairy', '1-bp', '1-berkshire', '1-92007', '1-62007', '1-5', '1-2', '1$9.80', '0930', '0901', '09.30', '09.00', '09', '087', '0711', '0491', '025', '0187274-0', '01312011', '0101138-5', '000063', '00', '0.95', '0.92', '0.91', '0.83', '0.81', '0.78', '0.77', '0.7', '0.64', '0.63', '0.62', '0.53', '0.49', '0.38', '0.31', '0.28', '0.2%', '0.13', '0.12', '0.10', '0.1-1200', '0.08', '0.008', '0.0', '0%.', '0', '.@barronsonline', '.98', '.94', '.92', '.878', '.85', '.80', '.769', '.75', '.745', '.74', '.68', '.67c', '.62', '.56', '.45', '.33', '.28', '.27', '.20', '.19', '.16', '.14', '.11c', '.114', '.045', '.04', '.03c', '.03', '.02', '.00', '...since', '..$150', '..$130', '-not', '-going', '-9', '-7', '-40', '-4.44%', '-24.5', '-20', '-2.2', '-1.7', '-0.7', '-0.3', '-0.06', '-0.04', '+lo', '+alandsbanken', '+akersberga', '+7.8%.', '+550%', '+5%', '+44', '+36%', '+33', '+3%', '+13.26%', '+1.46%', '+1%', '+0.6', '+-12', '$zagg', '$yoku', '$ymi', '$yelp', '$xli', '$xlb', '$x', '$wynn', '$wx', '$wmb', '$wgos', '$wft', '$wfm', '$wdc', '$vvus', '$vrtx', '$volc', '$vmw', '$vips', '$uvxy', '$utsi', '$uso', '$ugaz', '$ubnt', '$tza', '$tyc', '$ttt', '$tspt', '$tsco', '$trx', '$trow', '$trip', '$tnh', '$tlt', '$t', '$swy', '$swks', '$stz', '$study', '$sppi..building', '$sox', '$sonc', '$soda', '$sndk', '$sml', '$slv', '$skx', '$skh', '$skf', '$sina', '$simo', '$short', '$sgyp', '$sds', '$sdrl', '$sdlp', '$scty', '$sbrcy', '$save', '$sap', '$rxii', '$rut', '$russ', '$rsol', '$rsh', '$rost', '$rnn', '$rimm', '$rig', '$ren', '$rdc', '$ra', '$qihu', '$put', '$prlb', '$ppg', '$plug', '$plnr', '$pkt', '$pds', '$pay', '$osur', '$ofix', '$ocn', '$nya', '$nvda', '$nugt', '$nuan', '$ntls', '$ntap', '$nq_f', '$nq', '$nok', '$nihd', '$ngl', '$neon', '$mww', '$mu', '$mtnoy', '$mtd', '$mpwr', '$mos', '$mitk', '$mcp', '$mbly', '$mat', '$mako', '$lscc', '$loco', '$lng', '$line', '$lee', '$kors', '$kkd', '$kgc', '$kep', '$kcg', '$jwn', '$jkhy', '$je', '$iwc', '$isrg', '$intu', '$incy', '$imrs', '$iff', '$idcc', '$icoa', '$ibm', '$ibio', '$ibb', '$iaci', '$hznp', '$hyg', '$hsc', '$hpq', '$hcp', '$hal', '$gww', '$gwr', '$gvp', '$gte', '$gpro', '$gold', '$gol...updating', '$gogo', '$gnrc', '$gmcr.', '$gale', '$fxe', '$fti', '$fms', '$fmcn', '$fisv', '$fgl', '$fast', '$expe', '$exas', '$ew', '$etn', '$ete', '$esi', '$es_f.', '$enb.ca', '$emc', '$eln', '$ebay', '$dpz', '$dnkn', '$dgi', '$ddd', '$dcth', '$dbo', '$db', '$dara', '$cytx', '$cvx', '$ctxs', '$ctrp', '$crox', '$cpxx', '$cpgx', '$compq', '$coh', '$cnp', '$chrm', '$chkp', '$cern', '$cbs', '$camt', '$call.', '$cafn', '$bsx', '$brk.b', '$bobe', '$bno', '$bita', '$bbva', '$bbby', '$axdx', '$avgo', '$astx', '$aria', '$amgn', '$amd', '$amcn', '$altr', '$aks', '$aet', '$aegn', '$adsk', '$ace', '$acad', '$aapl.', '$aal', '$aa', '$970', '$9.2', '$9.00.', '$89', '$806', '$700+', '$700', '$69.7', '$64', '$62httpstks.cot0s0r', '$585', '$58.65.', '$570', '$550k', '$520', '$50m', '$5.67', '$461', '$4.25', '$380', '$36.46', '$35.92', '$330', '$32bn', '$32', '$300.', '$300', '$30', '$29.83', '$275', '$2732b.', '$27', '$26.23', '$259.33', '$257.00', '$252.50', '$236', '$226', '$22.00', '$21', '$20', '$2.84', '$2.50', '$16', '$155', '$150share', '$150', '$15', '$13.50', '$12', '$110.20.', '$11.70', '$11.31.', '$104.80', '$104', '$100m', '$1.6b', '$1.5bn', '$1.50', '$1.3bn', '$1.3', '$0.37', '$$$$$$', '#yahoo', '#ucb', '#twitter', '#tradeideas', '#tech', '#takeover', '#stocktrading', '#stockmarket', '#speaker', '#software', '#signals', '#sales', '#s.', '#redtogreen', '#q1', '#outlook', '#ntap', '#nasdaq', '#momo', '#mining', '#marketresearch', '#lost', '#linkedin', '#investing', '#groupon', '#fusioniq', '#fintech', '#facebooks', '#entrepreneur', '#electriccar', '#datasecurity', '#correction', '#cloud', '#china', '#ceo', '#bullish', '#breakout', '#bearish', '#bang', '#amazon']\n"
          ]
        }
      ],
      "source": [
        "print(\"Vocabulario:\", vectorize_layer.get_vocabulary())\n"
      ]
    },
    {
      "cell_type": "code",
      "execution_count": null,
      "metadata": {
        "colab": {
          "base_uri": "https://localhost:8080/"
        },
        "id": "3ma7q8mAw_mQ",
        "outputId": "8d0ca673-dcc5-4d6c-d005-afcf85ecb00b"
      },
      "outputs": [
        {
          "output_type": "stream",
          "name": "stdout",
          "text": [
            "Configuración: {'name': 'text_vectorization', 'trainable': True, 'dtype': 'string', 'batch_input_shape': (None,), 'max_tokens': None, 'standardize': None, 'split': 'whitespace', 'ngrams': None, 'output_mode': 'int', 'output_sequence_length': None, 'pad_to_max_tokens': False, 'sparse': False, 'ragged': False, 'vocabulary': None, 'idf_weights': None, 'encoding': 'utf-8', 'vocabulary_size': 10523}\n"
          ]
        }
      ],
      "source": [
        "print(\"Configuración:\", vectorize_layer.get_config())\n"
      ]
    },
    {
      "cell_type": "markdown",
      "metadata": {
        "id": "jQS38NjOxp9H"
      },
      "source": [
        "Analizamos y visualizamos la longitud de las secuencias de texto en el conjunto de entrenamiento X_train"
      ]
    },
    {
      "cell_type": "code",
      "execution_count": null,
      "metadata": {
        "colab": {
          "base_uri": "https://localhost:8080/",
          "height": 449
        },
        "id": "iY0R3FLi_yl3",
        "outputId": "c0b00e5b-53d0-4921-a3f2-a4eafb48efef"
      },
      "outputs": [
        {
          "output_type": "display_data",
          "data": {
            "text/plain": [
              "<Figure size 640x480 with 1 Axes>"
            ],
            "image/png": "[encoded data removed]"
          },
          "metadata": {}
        }
      ],
      "source": [
        "sequence_lengths = [len(text.split()) for text in X_train]\n",
        "plt.hist(sequence_lengths, bins=50)\n",
        "plt.xlabel('Longitud de Secuencia')\n",
        "plt.ylabel('Frecuencia')\n",
        "plt.show()\n"
      ]
    },
    {
      "cell_type": "markdown",
      "metadata": {
        "id": "1Okx5TkdXp08"
      },
      "source": [
        "##**4. Modelamiento**"
      ]
    },
    {
      "cell_type": "code",
      "execution_count": null,
      "metadata": {
        "id": "mtE4431c5MH4"
      },
      "outputs": [],
      "source": [
        "my_callbacks = [\n",
        "    tf.keras.callbacks.EarlyStopping(patience=4),\n",
        "    # tf.keras.callbacks.TensorBoard(log_dir='/content/logs'),\n",
        "]"
      ]
    },
    {
      "cell_type": "markdown",
      "metadata": {
        "id": "rRxpYGgK5Rm5"
      },
      "source": [
        "Definiremos la arquitectura de nuestra Red Neuronal Base. Dado que es un problema multiclase se usa ***sparse_categorical_crossentropy*** como función de pérdida y se establecen 3 neuronas en la capa de salida.\n",
        "\n",
        "Para la entrada usaremos la capa **vectorize_layer** (definida anteriormente), seguido de una capa de **Embedding** que es una de las capas fundamentales en el procesamiento de lenguaje natural (NLP) en modelos de redes neuronales. Su función principal es convertir palabras o tokens en representaciones numéricas, lo que permite que los modelos de aprendizaje automático trabajen con texto.\n",
        "\n",
        "También usaremos la capa **SpatialDropout1D** es una técnica de regularización que desactiva secuencias completas en lugar de nodos individuales y puede ser útil en modelos de procesamiento de lenguaje natural para prevenir el sobreajuste y mejorar la generalización del modelo.\n",
        "\n",
        "La capa **LSTM** (Long Short-Term Memory) es una capa especializada en redes neuronales recurrentes (RNN) y secuencias temporales debido a su capacidad para manejar secuencias largas y capturar dependencias a largo plazo."
      ]
    },
    {
      "cell_type": "code",
      "execution_count": null,
      "metadata": {
        "id": "vqJVgoRYDaj8",
        "colab": {
          "base_uri": "https://localhost:8080/"
        },
        "outputId": "a0b4e9ae-b015-41d0-efb0-26aaa1ff0424"
      },
      "outputs": [
        {
          "output_type": "stream",
          "name": "stderr",
          "text": [
            "WARNING:tensorflow:Layer lstm will not use cuDNN kernels since it doesn't meet the criteria. It will use a generic GPU kernel as fallback when running on GPU.\n"
          ]
        }
      ],
      "source": [
        "model = Sequential()\n",
        "\n",
        "model.add(vectorize_layer)\n",
        "model.add(Embedding(10000, 300, name=\"Capa_Embedding\"))\n",
        "model.add(SpatialDropout1D(0.3))\n",
        "model.add(LSTM(300, dropout=0.3, recurrent_dropout=0.3))\n",
        "model.add(Dense(1024, activation='relu', name='Capa_Oculta'))\n",
        "model.add(Dropout(0.8))\n",
        "model.add(Dense(3, activation='softmax', name='Capa_Salida'))  # 3 para 3 clases\n",
        "\n",
        "model.compile(optimizer='adam', loss='sparse_categorical_crossentropy', metrics=['accuracy'])\n"
      ]
    },
    {
      "cell_type": "code",
      "execution_count": null,
      "metadata": {
        "colab": {
          "base_uri": "https://localhost:8080/"
        },
        "id": "UNvthTB355pg",
        "outputId": "8a8d5366-9734-413c-8733-aa9f068bca14"
      },
      "outputs": [
        {
          "output_type": "stream",
          "name": "stdout",
          "text": [
            "Found GPU at: /device:GPU:0\n"
          ]
        }
      ],
      "source": [
        "device_name = tf.test.gpu_device_name()\n",
        "if device_name != '/device:GPU:0':\n",
        "  raise SystemError('GPU device not found')\n",
        "print('Found GPU at: {}'.format(device_name))"
      ]
    },
    {
      "cell_type": "code",
      "execution_count": null,
      "metadata": {
        "id": "KvDC3WPp5au8",
        "colab": {
          "base_uri": "https://localhost:8080/"
        },
        "outputId": "bbc37354-7774-4217-be33-e074c728cee1"
      },
      "outputs": [
        {
          "output_type": "stream",
          "name": "stdout",
          "text": [
            "Epoch 1/20\n",
            "117/117 [==============================] - 53s 340ms/step - loss: 1.0000 - accuracy: 0.5324 - val_loss: 1.0008 - val_accuracy: 0.5358\n",
            "Epoch 2/20\n",
            "117/117 [==============================] - 23s 191ms/step - loss: 0.8782 - accuracy: 0.6156 - val_loss: 0.8540 - val_accuracy: 0.6225\n",
            "Epoch 3/20\n",
            "117/117 [==============================] - 20s 169ms/step - loss: 0.6593 - accuracy: 0.7517 - val_loss: 0.8192 - val_accuracy: 0.6973\n",
            "Epoch 4/20\n",
            "117/117 [==============================] - 18s 156ms/step - loss: 0.4693 - accuracy: 0.8034 - val_loss: 0.9773 - val_accuracy: 0.6695\n",
            "Epoch 5/20\n",
            "117/117 [==============================] - 21s 180ms/step - loss: 0.3433 - accuracy: 0.8488 - val_loss: 1.1699 - val_accuracy: 0.5968\n",
            "Epoch 6/20\n",
            "117/117 [==============================] - 18s 152ms/step - loss: 0.2501 - accuracy: 0.8986 - val_loss: 1.2335 - val_accuracy: 0.6428\n",
            "Epoch 7/20\n",
            "117/117 [==============================] - 25s 215ms/step - loss: 0.2338 - accuracy: 0.9005 - val_loss: 1.2782 - val_accuracy: 0.6652\n"
          ]
        }
      ],
      "source": [
        "with tf.device('/device:GPU:0'):\n",
        "  model.fit(\n",
        "      X_train_tf, y_train,\n",
        "      validation_data = (X_val_tf, y_val),\n",
        "      epochs=20,\n",
        "      callbacks=my_callbacks)"
      ]
    },
    {
      "cell_type": "markdown",
      "metadata": {
        "id": "ncGCfOhAOJh0"
      },
      "source": [
        "### Evaluación"
      ]
    },
    {
      "cell_type": "markdown",
      "metadata": {
        "id": "VRFur__0OEJE"
      },
      "source": [
        "Generamos ahora predicciones del modelo base con los datos de entrenamiento:"
      ]
    },
    {
      "cell_type": "code",
      "execution_count": null,
      "metadata": {
        "id": "dFW9WN-CN3xC",
        "colab": {
          "base_uri": "https://localhost:8080/"
        },
        "outputId": "b3d7ee0c-d38c-4b35-f3f3-4d053a902169"
      },
      "outputs": [
        {
          "output_type": "stream",
          "name": "stdout",
          "text": [
            "117/117 [==============================] - 2s 18ms/step\n"
          ]
        },
        {
          "output_type": "execute_result",
          "data": {
            "text/plain": [
              "array([1, 2, 2, ..., 1, 2, 1])"
            ]
          },
          "metadata": {},
          "execution_count": 27
        }
      ],
      "source": [
        "y_pred = model.predict(X_train_tf)\n",
        "y_pred = np.argmax(y_pred, axis=1)\n",
        "y_pred"
      ]
    },
    {
      "cell_type": "code",
      "execution_count": null,
      "metadata": {
        "id": "VV9sVaCrN7pX",
        "colab": {
          "base_uri": "https://localhost:8080/"
        },
        "outputId": "6d935b56-d40e-4c0a-b820-3af7c263afba"
      },
      "outputs": [
        {
          "output_type": "stream",
          "name": "stdout",
          "text": [
            "              precision    recall  f1-score   support\n",
            "\n",
            "           0       0.87      0.44      0.59       550\n",
            "           1       0.86      0.98      0.92      2003\n",
            "           2       0.98      0.98      0.98      1185\n",
            "\n",
            "    accuracy                           0.90      3738\n",
            "   macro avg       0.90      0.80      0.83      3738\n",
            "weighted avg       0.90      0.90      0.89      3738\n",
            "\n"
          ]
        }
      ],
      "source": [
        "print(classification_report(y_train, y_pred))"
      ]
    },
    {
      "cell_type": "markdown",
      "metadata": {
        "id": "YZsQu9_ZOuE_"
      },
      "source": [
        "Generamos ahora predicciones del modelo base con los datos de test:"
      ]
    },
    {
      "cell_type": "code",
      "execution_count": null,
      "metadata": {
        "id": "rsupe06aN92S",
        "colab": {
          "base_uri": "https://localhost:8080/"
        },
        "outputId": "fafbd698-4298-4494-a637-f20d56249e2b"
      },
      "outputs": [
        {
          "output_type": "stream",
          "name": "stdout",
          "text": [
            "37/37 [==============================] - 0s 13ms/step\n",
            "              precision    recall  f1-score   support\n",
            "\n",
            "           0       0.27      0.26      0.26       172\n",
            "           1       0.73      0.76      0.74       626\n",
            "           2       0.67      0.64      0.65       371\n",
            "\n",
            "    accuracy                           0.65      1169\n",
            "   macro avg       0.56      0.55      0.55      1169\n",
            "weighted avg       0.64      0.65      0.65      1169\n",
            "\n"
          ]
        }
      ],
      "source": [
        "y_pred_test = model.predict(X_test_tf)\n",
        "y_pred_test = np.argmax(y_pred_test, axis=1)\n",
        "\n",
        "print(classification_report(y_test, y_pred_test))"
      ]
    },
    {
      "cell_type": "markdown",
      "source": [
        "Este modelo básico presenta sobreajuste. Para mejorarlo, necesitamos realizar una búsqueda de hiperparámetros para lograr una mejor generalización del modelo como lo pueden ser:\n",
        "\n",
        "Hiperparámetros de la capa LSTM\n",
        "*   units\n",
        "*   dropout y recurrent_dropout\n",
        "\n",
        "Hiperparámetros de la capa de embedding\n",
        "*   input_dim\n",
        "*   output_dim\n",
        "\n",
        "Hiperparámetros de capas de dropout:\n",
        "*   rate\n",
        "\n",
        "Tamaño del vocabulario y longitud de secuencia\n",
        "\n",
        "Número de capas ocultas\n",
        "\n",
        "Tamaño del batch y número de épocas\n"
      ],
      "metadata": {
        "id": "q4-g7n5s70ZC"
      }
    },
    {
      "cell_type": "markdown",
      "metadata": {
        "id": "WrZ-La6Qz0Zv"
      },
      "source": [
        "### Usando Glove"
      ]
    },
    {
      "cell_type": "markdown",
      "source": [
        "Ahora vamos a implementar una red neuronal usando un embedding pre-entrenado como lo es [GloVe (Global Vectors for Word Representation)](https://nlp.stanford.edu/projects/glove/)"
      ],
      "metadata": {
        "id": "G8KDNXxU7klp"
      }
    },
    {
      "cell_type": "code",
      "execution_count": null,
      "metadata": {
        "id": "qw3KcuB3SQrj",
        "colab": {
          "base_uri": "https://localhost:8080/"
        },
        "outputId": "1132b59c-d20a-4f8d-cc4e-caa7b1d3c847"
      },
      "outputs": [
        {
          "output_type": "stream",
          "name": "stdout",
          "text": [
            "--2023-10-17 00:24:41--  http://nlp.stanford.edu/data/glove.6B.zip\n",
            "Resolving nlp.stanford.edu (nlp.stanford.edu)... 171.64.67.140\n",
            "Connecting to nlp.stanford.edu (nlp.stanford.edu)|171.64.67.140|:80... connected.\n",
            "HTTP request sent, awaiting response... 302 Found\n",
            "Location: https://nlp.stanford.edu/data/glove.6B.zip [following]\n",
            "--2023-10-17 00:24:41--  https://nlp.stanford.edu/data/glove.6B.zip\n",
            "Connecting to nlp.stanford.edu (nlp.stanford.edu)|171.64.67.140|:443... connected.\n",
            "HTTP request sent, awaiting response... 301 Moved Permanently\n",
            "Location: https://downloads.cs.stanford.edu/nlp/data/glove.6B.zip [following]\n",
            "--2023-10-17 00:24:41--  https://downloads.cs.stanford.edu/nlp/data/glove.6B.zip\n",
            "Resolving downloads.cs.stanford.edu (downloads.cs.stanford.edu)... 171.64.64.22\n",
            "Connecting to downloads.cs.stanford.edu (downloads.cs.stanford.edu)|171.64.64.22|:443... connected.\n",
            "HTTP request sent, awaiting response... 200 OK\n",
            "Length: 862182613 (822M) [application/zip]\n",
            "Saving to: ‘glove.6B.zip’\n",
            "\n",
            "glove.6B.zip        100%[===================>] 822.24M  4.91MB/s    in 2m 40s  \n",
            "\n",
            "2023-10-17 00:27:22 (5.13 MB/s) - ‘glove.6B.zip’ saved [862182613/862182613]\n",
            "\n"
          ]
        }
      ],
      "source": [
        "!wget http://nlp.stanford.edu/data/glove.6B.zip\n",
        "!unzip -q glove.6B.zip\n"
      ]
    },
    {
      "cell_type": "markdown",
      "source": [
        "Ahora cargamos los vectores de palabras pre-entrenados desde un archivo GloVe y los almacenamos en un diccionario en el que se puede buscar una palabra específica para obtener su vector correspondiente."
      ],
      "metadata": {
        "id": "TBGYJvOGF1-V"
      }
    },
    {
      "cell_type": "code",
      "execution_count": null,
      "metadata": {
        "id": "qReb9zjPSUjr"
      },
      "outputs": [],
      "source": [
        "glove_embeddings = {}\n",
        "with open('glove.6B.100d.txt', 'r', encoding='utf-8') as file:\n",
        "    for line in file:\n",
        "        values = line.split()\n",
        "        word = values[0]\n",
        "        vector = np.array(values[1:], dtype='float32')\n",
        "        glove_embeddings[word] = vector\n"
      ]
    },
    {
      "cell_type": "markdown",
      "source": [
        "Creamos la matriz de incrustación (embedding matrix) que contiene los vectores GloVe correspondientes a las palabras del vocabulario que se tomó del conjunto de entrenamiento X_train"
      ],
      "metadata": {
        "id": "OkUTF03iG1bp"
      }
    },
    {
      "cell_type": "code",
      "execution_count": null,
      "metadata": {
        "id": "B20BvOlDbuab"
      },
      "outputs": [],
      "source": [
        "# Número de palabras del vocabulario\n",
        "num_words = vectorize_layer.vocabulary_size() + 1  # +1 para tener en cuenta la palabra OOV (Out of Vocabulary)\n",
        "\n",
        "embedding_dim = 100  # Elige la dimensión de los vectores GloVe (por ejemplo, 100 para 'glove.6B.100d.txt')\n",
        "\n",
        "word_index = dict(zip(vectorize_layer.get_vocabulary(), range(len(vectorize_layer.get_vocabulary()))))\n",
        "\n",
        "# Crea la matriz de incrustación\n",
        "embedding_matrix = np.zeros((len(word_index) + 1, embedding_dim))\n",
        "\n",
        "for word, i in word_index.items():\n",
        "    embedding_vector = glove_embeddings.get(word)\n",
        "    if embedding_vector is not None:\n",
        "        # Las palabras en GloVe se establecen en la matriz de incrustación\n",
        "        embedding_matrix[i] = embedding_vector\n"
      ]
    },
    {
      "cell_type": "markdown",
      "source": [
        "Determinamos la longitud máxima de secuencia dentro de tu conjunto de datos de entrenamiento. Esta longitud máxima es importante ya que establece el límite máximo de palabras en una secuencia que el modelo puede manejar."
      ],
      "metadata": {
        "id": "L-K8yd7ZHa28"
      }
    },
    {
      "cell_type": "code",
      "execution_count": null,
      "metadata": {
        "id": "t1fOVv6DTXwg",
        "colab": {
          "base_uri": "https://localhost:8080/"
        },
        "outputId": "4ce9997c-6c2a-47ff-d2a3-2678c93b9378"
      },
      "outputs": [
        {
          "output_type": "execute_result",
          "data": {
            "text/plain": [
              "269"
            ]
          },
          "metadata": {},
          "execution_count": 33
        }
      ],
      "source": [
        "max_sequence_length = max(len(seq) for seq in X_train)\n",
        "max_sequence_length"
      ]
    },
    {
      "cell_type": "markdown",
      "source": [
        "Definimos nuestra red usando el Embedding pre-entrenado.\n",
        "\n",
        "```\n",
        "model3.add(Embedding(input_dim=len(word_index) + 1, output_dim=embedding_dim, input_length=max_sequence_length, weights=[embedding_matrix], trainable=False))\n",
        "```\n",
        "\n",
        ">  input_dim=len(word_index) + 1: El parámetro input_dim se establece en la longitud del word_index, que es el índice de palabras en tu conjunto de datos de entrenamiento. Agregamos 1 porque generalmente se suma 1 para incluir una entrada especial para palabras fuera del vocabulario (OOV - Out of Vocabulary).\n",
        "\n",
        ">  output_dim=embedding_dim: output_dim se establece en embedding_dim, que es la dimensión de los vectores de incrustación que se utilizarán. En este caso, coincidirá con la dimensión de los vectores GloVe pre-entrenados.\n",
        "\n",
        ">  input_length=max_sequence_length: Aquí establecemos la longitud de entrada máxima para las secuencias que se utilizarán en esta capa de incrustación. Esta longitud se definió previamente como max_sequence_length y se utiliza para asegurarse de que las secuencias se ajusten a la longitud máxima especificada.\n",
        "\n",
        ">  weights=[embedding_matrix]: weights se establece en embedding_matrix, que es la matriz de incrustación pre-entrenada. Esta matriz contiene los vectores GloVe pre-entrenados para las palabras de tu vocabulario.\n",
        "\n",
        ">  trainable=False: trainable se establece en False, lo que significa que los vectores de incrustación no se entrenarán o modificarán durante el entrenamiento del modelo.\n"
      ],
      "metadata": {
        "id": "2w6xx9pnHjAc"
      }
    },
    {
      "cell_type": "code",
      "execution_count": null,
      "metadata": {
        "id": "97C7T-_GSbo9",
        "colab": {
          "base_uri": "https://localhost:8080/"
        },
        "outputId": "ec2b624a-b552-4b2a-8d4b-a71395a0151f"
      },
      "outputs": [
        {
          "output_type": "stream",
          "name": "stderr",
          "text": [
            "WARNING:tensorflow:Layer lstm_1 will not use cuDNN kernels since it doesn't meet the criteria. It will use a generic GPU kernel as fallback when running on GPU.\n"
          ]
        }
      ],
      "source": [
        "model3 = Sequential()\n",
        "\n",
        "model3.add(vectorize_layer)\n",
        "model3.add(Embedding(input_dim=len(word_index) + 1, output_dim=embedding_dim, input_length=max_sequence_length, weights=[embedding_matrix], trainable=False))\n",
        "model3.add(SpatialDropout1D(0.3))\n",
        "model3.add(LSTM(300, dropout=0.3, recurrent_dropout=0.3))\n",
        "model3.add(Dense(1024, activation='relu', name='Capa_Oculta'))\n",
        "model3.add(Dropout(0.8))\n",
        "model3.add(Dense(3, activation='softmax', name='Capa_Salida'))  # 3 para 3 clases\n",
        "\n",
        "model3.compile(optimizer='adam', loss='sparse_categorical_crossentropy', metrics=['accuracy'])"
      ]
    },
    {
      "cell_type": "markdown",
      "source": [
        "Entrenamos la red neuronal:"
      ],
      "metadata": {
        "id": "bwjvZHDRJWqf"
      }
    },
    {
      "cell_type": "code",
      "execution_count": null,
      "metadata": {
        "id": "JWdGMLfTZ0br",
        "colab": {
          "base_uri": "https://localhost:8080/"
        },
        "outputId": "8744c259-4b34-4ad2-9dcf-ef3966da1e5f"
      },
      "outputs": [
        {
          "output_type": "stream",
          "name": "stdout",
          "text": [
            "Epoch 1/20\n",
            "117/117 [==============================] - 24s 150ms/step - loss: 0.9463 - accuracy: 0.5688 - val_loss: 0.8641 - val_accuracy: 0.6235\n",
            "Epoch 2/20\n",
            "117/117 [==============================] - 20s 172ms/step - loss: 0.8973 - accuracy: 0.6051 - val_loss: 0.8266 - val_accuracy: 0.6267\n",
            "Epoch 3/20\n",
            "117/117 [==============================] - 16s 133ms/step - loss: 0.8767 - accuracy: 0.6057 - val_loss: 0.8508 - val_accuracy: 0.6096\n",
            "Epoch 4/20\n",
            "117/117 [==============================] - 26s 222ms/step - loss: 0.8491 - accuracy: 0.6257 - val_loss: 0.8252 - val_accuracy: 0.6128\n",
            "Epoch 5/20\n",
            "117/117 [==============================] - 19s 160ms/step - loss: 0.8498 - accuracy: 0.6169 - val_loss: 0.8239 - val_accuracy: 0.6235\n",
            "Epoch 6/20\n",
            "117/117 [==============================] - 29s 251ms/step - loss: 0.8334 - accuracy: 0.6241 - val_loss: 0.8166 - val_accuracy: 0.6182\n",
            "Epoch 7/20\n",
            "117/117 [==============================] - 16s 136ms/step - loss: 0.8210 - accuracy: 0.6388 - val_loss: 0.8129 - val_accuracy: 0.6118\n",
            "Epoch 8/20\n",
            "117/117 [==============================] - 30s 255ms/step - loss: 0.8080 - accuracy: 0.6386 - val_loss: 0.8007 - val_accuracy: 0.6203\n",
            "Epoch 9/20\n",
            "117/117 [==============================] - 20s 171ms/step - loss: 0.7945 - accuracy: 0.6404 - val_loss: 0.7738 - val_accuracy: 0.6332\n",
            "Epoch 10/20\n",
            "117/117 [==============================] - 15s 132ms/step - loss: 0.7840 - accuracy: 0.6522 - val_loss: 0.7565 - val_accuracy: 0.6310\n",
            "Epoch 11/20\n",
            "117/117 [==============================] - 40s 339ms/step - loss: 0.7556 - accuracy: 0.6645 - val_loss: 0.7506 - val_accuracy: 0.6556\n",
            "Epoch 12/20\n",
            "117/117 [==============================] - 15s 129ms/step - loss: 0.7560 - accuracy: 0.6699 - val_loss: 0.7303 - val_accuracy: 0.6770\n",
            "Epoch 13/20\n",
            "117/117 [==============================] - 15s 129ms/step - loss: 0.7232 - accuracy: 0.6782 - val_loss: 0.7107 - val_accuracy: 0.6759\n",
            "Epoch 14/20\n",
            "117/117 [==============================] - 21s 184ms/step - loss: 0.7200 - accuracy: 0.6787 - val_loss: 0.7049 - val_accuracy: 0.6898\n",
            "Epoch 15/20\n",
            "117/117 [==============================] - 15s 128ms/step - loss: 0.7040 - accuracy: 0.6942 - val_loss: 0.6944 - val_accuracy: 0.6920\n",
            "Epoch 16/20\n",
            "117/117 [==============================] - 20s 174ms/step - loss: 0.6856 - accuracy: 0.6964 - val_loss: 0.6651 - val_accuracy: 0.7198\n",
            "Epoch 17/20\n",
            "117/117 [==============================] - 31s 268ms/step - loss: 0.6603 - accuracy: 0.7087 - val_loss: 0.7034 - val_accuracy: 0.6963\n",
            "Epoch 18/20\n",
            "117/117 [==============================] - 22s 187ms/step - loss: 0.6579 - accuracy: 0.7100 - val_loss: 0.6200 - val_accuracy: 0.7326\n",
            "Epoch 19/20\n",
            "117/117 [==============================] - 20s 171ms/step - loss: 0.6227 - accuracy: 0.7327 - val_loss: 0.6066 - val_accuracy: 0.7465\n",
            "Epoch 20/20\n",
            "117/117 [==============================] - 15s 130ms/step - loss: 0.5958 - accuracy: 0.7461 - val_loss: 0.6285 - val_accuracy: 0.7380\n"
          ]
        }
      ],
      "source": [
        "with tf.device('/device:GPU:0'):\n",
        "  model3.fit(\n",
        "      X_train_tf, y_train,\n",
        "      validation_data = (X_val_tf, y_val),\n",
        "      epochs=20,\n",
        "      callbacks=my_callbacks)"
      ]
    },
    {
      "cell_type": "code",
      "execution_count": null,
      "metadata": {
        "id": "Cu1UfgTmHz9U",
        "colab": {
          "base_uri": "https://localhost:8080/"
        },
        "outputId": "a666f8f1-7786-4bce-f193-f6fc842f9383"
      },
      "outputs": [
        {
          "output_type": "stream",
          "name": "stdout",
          "text": [
            "117/117 [==============================] - 2s 12ms/step\n",
            "              precision    recall  f1-score   support\n",
            "\n",
            "           0       0.59      0.47      0.52       550\n",
            "           1       0.80      0.93      0.86      2003\n",
            "           2       0.88      0.74      0.81      1185\n",
            "\n",
            "    accuracy                           0.80      3738\n",
            "   macro avg       0.76      0.71      0.73      3738\n",
            "weighted avg       0.80      0.80      0.79      3738\n",
            "\n"
          ]
        }
      ],
      "source": [
        "y_pred = model3.predict(X_train_tf)\n",
        "y_pred = np.argmax(y_pred, axis=1)\n",
        "\n",
        "print(classification_report(y_train, y_pred))"
      ]
    },
    {
      "cell_type": "code",
      "execution_count": null,
      "metadata": {
        "id": "ndeoWIBi0SRl",
        "colab": {
          "base_uri": "https://localhost:8080/"
        },
        "outputId": "e5e3993e-491f-41c3-cd52-777a2f45980b"
      },
      "outputs": [
        {
          "output_type": "stream",
          "name": "stdout",
          "text": [
            "37/37 [==============================] - 0s 10ms/step\n",
            "              precision    recall  f1-score   support\n",
            "\n",
            "           0       0.38      0.31      0.35       172\n",
            "           1       0.75      0.90      0.81       626\n",
            "           2       0.75      0.56      0.64       371\n",
            "\n",
            "    accuracy                           0.70      1169\n",
            "   macro avg       0.63      0.59      0.60      1169\n",
            "weighted avg       0.69      0.70      0.69      1169\n",
            "\n"
          ]
        }
      ],
      "source": [
        "y_pred = model3.predict(X_test_tf)\n",
        "y_pred = np.argmax(y_pred, axis=1)\n",
        "\n",
        "print(classification_report(y_test, y_pred))"
      ]
    },
    {
      "cell_type": "markdown",
      "source": [
        "##**5. Hands on**"
      ],
      "metadata": {
        "id": "acysXWmRJf9I"
      }
    },
    {
      "cell_type": "markdown",
      "source": [
        "1.  ¿Cómo afectaría el Tamaño del Embedding en el rendimiento del Modelo?\n",
        "\n",
        "2.  Implemente la búsqueda de hiperparámetros para mejorar el modelo base.\n"
      ],
      "metadata": {
        "id": "NIY7Pqz0KDnc"
      }
    }
  ],
  "metadata": {
    "accelerator": "GPU",
    "colab": {
      "provenance": [],
      "gpuType": "T4",
      "toc_visible": true,
      "include_colab_link": true
    },
    "kernelspec": {
      "display_name": "Python 3",
      "name": "python3"
    },
    "language_info": {
      "name": "python"
    }
  },
  "nbformat": 4,
  "nbformat_minor": 0
}