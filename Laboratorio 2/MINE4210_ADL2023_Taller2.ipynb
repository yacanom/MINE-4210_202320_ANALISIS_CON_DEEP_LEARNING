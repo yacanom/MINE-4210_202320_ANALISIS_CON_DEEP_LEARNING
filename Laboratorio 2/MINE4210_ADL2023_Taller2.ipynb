{
  "nbformat": 4,
  "nbformat_minor": 0,
  "metadata": {
    "colab": {
      "provenance": [],
      "authorship_tag": "ABX9TyPHV3Q/O6QsHFBJYKFquZpw",
      "include_colab_link": true
    },
    "kernelspec": {
      "name": "python3",
      "display_name": "Python 3"
    },
    "language_info": {
      "name": "python"
    }
  },
  "cells": [
    {
      "cell_type": "markdown",
      "metadata": {
        "id": "view-in-github",
        "colab_type": "text"
      },
      "source": [
        "<a href=\"https://colab.research.google.com/github/yacanom/MINE-4210_202320_ANALISIS_CON_DEEP_LEARNING/blob/main/Laboratorio%202/MINE4210_ADL2023_Taller2.ipynb\" target=\"_parent\"><img src=\"https://colab.research.google.com/assets/colab-badge.svg\" alt=\"Open In Colab\"/></a>"
      ]
    },
    {
      "cell_type": "markdown",
      "metadata": {
        "id": "SU_lch1DySrJ"
      },
      "source": [
        "![image](https://docs.google.com/uc?export=download&id=1NUy1Q-abpoV9XYK9qT9t8Mdhj3ZVlveO)"
      ]
    },
    {
      "cell_type": "markdown",
      "source": [
        "\n",
        "# **Taller 2**\n",
        "\n",
        "La detección de objetos en imágenes es una aplicación clave de la inteligencia artificial y el aprendizaje profundo. En este taller, exploraremos cómo construir un modelo de detección de objetos utilizando redes neuronales para identificar y ubicar rostros humanos en imágenes. Por ejemplo, en un entorno de seguridad y vigilancia, un sistema de detección de rostros basado en redes neuronales podría utilizarse para identificar personas en tiempo real a partir de cámaras de seguridad. Esto puede ser especialmente útil en áreas como aeropuertos, estaciones de tren, edificios gubernamentales o empresas que requieren un alto nivel de seguridad.\n",
        "\n",
        "El objetivo principal de este taller es construir una Red Neuronal para la detección de rostros humanos utilizando modelos pre-entrenados.\n",
        "\n",
        "1.   Construir una RN de detección de rostros usando un modelo pre-entrenado. (Si bien en el laboratorio se usó Yolov5 pueden usar otra versión y otra red). Recuerden ser descriptivos en el Preprocesamiento de Datos, Utilización de Modelos Pre-entrenados, Evaluación de Rendimiento y búsqueda de hiperparámetros.\n",
        "\n",
        "3.  Proporcionar algunos ejemplos de detección de objetos con la red entrenada y lo comparen con la imagen con los datos anotados. Traten de usar imágenes con 1 rostro asi como imágenes con varios rostros.\n",
        "\n",
        "4.  Investigar la métrica mAP y cómo la interpreta para la red entrenada.\n",
        "\n",
        "Recursos:\n",
        "•\tConjunto de datos \"[Human Faces Object Detection](https://www.kaggle.com/datasets/sbaghbidi/human-faces-object-detection)\" de Kaggle.\n"
      ],
      "metadata": {
        "id": "5UbZ1aWajfMi"
      }
    }
  ]
}