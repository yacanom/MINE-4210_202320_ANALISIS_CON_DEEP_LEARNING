{
  "nbformat": 4,
  "nbformat_minor": 0,
  "metadata": {
    "colab": {
      "provenance": [],
      "authorship_tag": "ABX9TyNsDYO4OIJok9V9tv3EHjkO",
      "include_colab_link": true
    },
    "kernelspec": {
      "name": "python3",
      "display_name": "Python 3"
    },
    "language_info": {
      "name": "python"
    }
  },
  "cells": [
    {
      "cell_type": "markdown",
      "metadata": {
        "id": "view-in-github",
        "colab_type": "text"
      },
      "source": [
        "<a href=\"https://colab.research.google.com/github/yacanom/MINE-4210_202320_ANALISIS_CON_DEEP_LEARNING/blob/main/Laboratorio%201/MINE4210_ADL2023_Taller1.ipynb\" target=\"_parent\"><img src=\"https://colab.research.google.com/assets/colab-badge.svg\" alt=\"Open In Colab\"/></a>"
      ]
    },
    {
      "cell_type": "markdown",
      "metadata": {
        "id": "SU_lch1DySrJ"
      },
      "source": [
        "![image](https://docs.google.com/uc?export=download&id=1NUy1Q-abpoV9XYK9qT9t8Mdhj3ZVlveO)"
      ]
    },
    {
      "cell_type": "markdown",
      "source": [
        "\n",
        "# **Taller 1**\n",
        "\n",
        "La Clínica de Innovación y Atención, quiere iniciar un departamento de investigación del cerebro con enfoque de proporcionar diagnósticos más precisos y rápidos. Para eso quiere apoyarse en el uso de IA para analizar casos de tumores cerebrales utilizando un conjunto de datos que contiene imágenes de cerebros con presencia de tumor y otras de cerebros en estado normal. Inicialmente, la clínica desea implementar un modelo de clasificación que pueda predecir a partir de una imagen escaneada del cerebro de un paciente si puede tener o no un tumor.\n",
        "\n",
        "Como prueba de concepto, la empresa ha proporcionado el conjunto de imágenes del cerebro con y sin tumor. Se espera que usted implemente el mejor modelo posible siguiendo las indicaciones proporcionadas:\n",
        "\n",
        "1.\t***Entrenamiento de un perceptrón multicapa***.\n",
        "\n",
        "*   Confirme si su modelo generaliza bien, o si presenta sobreajuste o subajuste. Si es alguna de las dos últimas opciones, ¿qué opciones propone para que la red MLP generalice mejor?\n",
        "\n",
        "2.\t***Entrenamiento de un undercompleted autoencoder***\n",
        "*   Realice una reducción de la dimensionalidad. Sobre el nuevo conjunto de características, construya el modelo de clasificación con un perceptrón multicapa:\n",
        "\n",
        "3.  Resuma en una tabla la comparación de resultados entre el modelo obtenido en el punto 1 (MLP) y el undercompleted autoencoder. ¿Cuál de los dos modelos le ofrecería al negocio y por qué?\n",
        "\n",
        "\n",
        "Datos: https://www.kaggle.com/datasets/preetviradiya/brian-tumor-dataset\n"
      ],
      "metadata": {
        "id": "5UbZ1aWajfMi"
      }
    }
  ]
}