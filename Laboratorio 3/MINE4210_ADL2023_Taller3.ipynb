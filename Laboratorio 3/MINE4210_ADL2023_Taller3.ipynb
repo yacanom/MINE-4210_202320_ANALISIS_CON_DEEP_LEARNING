{
  "nbformat": 4,
  "nbformat_minor": 0,
  "metadata": {
    "colab": {
      "provenance": [],
      "gpuType": "T4",
      "authorship_tag": "ABX9TyPapBblYJEI3Rb2WYeM347B",
      "include_colab_link": true
    },
    "kernelspec": {
      "name": "python3",
      "display_name": "Python 3"
    },
    "language_info": {
      "name": "python"
    },
    "accelerator": "GPU"
  },
  "cells": [
    {
      "cell_type": "markdown",
      "metadata": {
        "id": "view-in-github",
        "colab_type": "text"
      },
      "source": [
        "<a href=\"https://colab.research.google.com/github/yacanom/MINE-4210_202320_ANALISIS_CON_DEEP_LEARNING/blob/main/Laboratorio%203/MINE4210_ADL2023_Taller3.ipynb\" target=\"_parent\"><img src=\"https://colab.research.google.com/assets/colab-badge.svg\" alt=\"Open In Colab\"/></a>"
      ]
    },
    {
      "cell_type": "markdown",
      "metadata": {
        "id": "SU_lch1DySrJ"
      },
      "source": [
        "![image](https://docs.google.com/uc?export=download&id=1NUy1Q-abpoV9XYK9qT9t8Mdhj3ZVlveO)"
      ]
    },
    {
      "cell_type": "markdown",
      "source": [
        "\n",
        "# **Taller 3**\n",
        "\n",
        "La detección de noticias falsas es una aplicación de la inteligencia artificial y el procesamiento de lenguaje natural (NLP) que puede ser de gran utilidad para prevenir la propagación de información errónea en línea y contribuir a una información más veraz y confiable en la web.\n",
        "\n",
        "Usted ha sido contratado por una empresa de noticias española para generar un modelo de IA que permita identificar si una noticia es falsa o no, y con eso saber si debe replicarla y dedicar tiempo en investigar para ampliarla o simplemente omitirla.\n",
        "\n",
        "El objetivo principal de este taller es entrenar un modelo de procesamiento de lenguaje natural para la detección de noticias falsas en español mediante el uso de Transformers.\n",
        "\n",
        "1.\tRealizar el entendimiento de los datos.\n",
        "\n",
        "2.\tListar 5 tipos de transformers que podría utilizar para generar un modelo que permita identificar las noticias falsas teniendo en cuenta el set de datos entregado para este taller (lo observado en el punto 1) y las características del transformer.\n",
        "\n",
        "3.\tEntrene 2 modelos usando alguno de los transformers del punto anterior y realice la evaluación de cada uno. Compare los resultados obtenidos y concluya indicando cuál le recomendaría al negocio.\n",
        "\n",
        "Recursos:\n",
        "Conjunto de datos \"[spanish-political-fake-news](https://www.kaggle.com/datasets/javieroterovizoso/spanish-political-fake-news)\" de Kaggle.\n"
      ],
      "metadata": {
        "id": "5UbZ1aWajfMi"
      }
    }
  ]
}